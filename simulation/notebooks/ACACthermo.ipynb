{
 "cells": [
  {
   "cell_type": "code",
   "execution_count": 22,
   "metadata": {},
   "outputs": [],
   "source": [
    "import nupack as nu\n",
    "import math "
   ]
  },
  {
   "cell_type": "code",
   "execution_count": 23,
   "metadata": {},
   "outputs": [],
   "source": [
    "def sciprint(string:str):\n",
    "    print('{:3e}'.format(string))\n",
    "\n",
    "def kelvin(temperature):\n",
    "    return temperature + 273.15\n",
    "\n",
    "def gibbs_free(enthalpy, entropy, temperature): #[DG]=Kcal/mol\n",
    "    entropy_kcal = entropy/1000 #[S]=cal/mol*K\n",
    "    return (enthalpy - (temperature)*entropy_kcal) # [H]=Kcal/mol \n",
    "    \n",
    "def k_equilibrium(DG, temperature):\n",
    "    return math.exp(-(DG/(1.987e-3*(temperature))))   # (Kcal/mol)/((Kcal/mol*K)*K) -> adimensional"
   ]
  },
  {
   "cell_type": "code",
   "execution_count": 24,
   "metadata": {},
   "outputs": [],
   "source": [
    "import sys \n",
    "sys.path.insert(0,'/home/marktas/TESI-CODE/hDNA')"
   ]
  },
  {
   "cell_type": "code",
   "execution_count": 25,
   "metadata": {},
   "outputs": [],
   "source": [
    "from classes.complex import Complex\n",
    "from classes.strand import Strand\n",
    "from classes.model import Model\n",
    "from classes.chamber import Chamber"
   ]
  },
  {
   "cell_type": "code",
   "execution_count": 26,
   "metadata": {},
   "outputs": [],
   "source": [
    "numodel = nu.Model(celsius=26)\n",
    "\n",
    "A = nu.Strand('ACACACACCA', name = 'trial')\n",
    "B = nu.Strand('TGTGTGTGGT'[::-1], name = 'comp')\n",
    "C = nu.Complex([A,B],name='c')"
   ]
  },
  {
   "cell_type": "code",
   "execution_count": 27,
   "metadata": {},
   "outputs": [],
   "source": [
    "model = Model('dna', '3D')\n",
    "a = Strand(model, 'ACACACACCA')\n",
    "b = Strand(model, 'TGTGTGTGGT')\n",
    "\n",
    "coils = Complex(model, a, b, '.'*10+'+'+'.'*10)\n",
    "chamber = Chamber(model, a, b)"
   ]
  },
  {
   "cell_type": "code",
   "execution_count": 28,
   "metadata": {},
   "outputs": [
    {
     "name": "stdout",
     "output_type": "stream",
     "text": [
      "4\n",
      "ACACACACCA+TGGTGTGTGT\n",
      "((((......+..))))....\n",
      "\n",
      "\n",
      "6\n",
      "ACACACACCA+TGGTGTGTGT\n",
      "((((((....+..))))))..\n",
      "\n",
      "\n",
      "10\n",
      "ACACACACCA+TGGTGTGTGT\n",
      "((((((((((+))))))))))\n",
      "\n",
      "\n",
      "6\n",
      "ACACACACCA+TGGTGTGTGT\n",
      "..((((((..+....))))))\n",
      "\n",
      "\n",
      "4\n",
      "ACACACACCA+TGGTGTGTGT\n",
      "....((((..+......))))\n",
      "\n",
      "\n"
     ]
    }
   ],
   "source": [
    "for sl in chamber.offcores:\n",
    "    print(sl.consecutive_nucleations)\n",
    "    print(sl.sequences)\n",
    "    print(sl.structure)\n",
    "    print('\\n')"
   ]
  },
  {
   "cell_type": "code",
   "execution_count": 29,
   "metadata": {},
   "outputs": [],
   "source": [
    "nucleated1 = nu.Structure('((((......+..))))....') #L1\n",
    "nucleated2 = nu.Structure('((((((....+..))))))..') #L2\n",
    "nucleated3 = nu.Structure('..((((((..+....))))))') #R2\n",
    "nucleated4 = nu.Structure('....((((..+......))))') #R1\n",
    "\n",
    "dupxstruct = nu.Structure('((((((((((+))))))))))') #D"
   ]
  },
  {
   "cell_type": "code",
   "execution_count": 30,
   "metadata": {},
   "outputs": [],
   "source": [
    "dG1 = nu.structure_energy(strands=[A,B], structure=nucleated1, model=numodel)\n",
    "dG2 = nu.structure_energy(strands=[A,B], structure=nucleated2, model=numodel)\n",
    "dG3 = nu.structure_energy(strands=[A,B], structure=nucleated3, model=numodel)\n",
    "dG4 = nu.structure_energy(strands=[A,B], structure=nucleated4, model=numodel)\n",
    "\n",
    "dGD = nu.structure_energy(strands=[A,B], structure=dupxstruct, model=numodel)\n"
   ]
  },
  {
   "cell_type": "code",
   "execution_count": 31,
   "metadata": {},
   "outputs": [],
   "source": [
    "T = kelvin(37)\n",
    "\n",
    "energies = (0, dG1, dG2, dG3, dG4, dGD)\n",
    "#           S  L1   L2   R2   R1    D \n",
    "#           0   1    2    3    4    5"
   ]
  },
  {
   "cell_type": "code",
   "execution_count": 32,
   "metadata": {},
   "outputs": [],
   "source": [
    "kfcollision = 2e7\n",
    "kfsliding = 1e7 "
   ]
  },
  {
   "cell_type": "code",
   "execution_count": 33,
   "metadata": {},
   "outputs": [
    {
     "name": "stdout",
     "output_type": "stream",
     "text": [
      "8.430052896237473\n",
      "8.725702e+05\n",
      "22.920792678077465\n"
     ]
    }
   ],
   "source": [
    "# SS <--> L1\n",
    "DG = energies[0] - energies[1]\n",
    "KE = k_equilibrium(-DG,T)\n",
    "Kf = kfcollision\n",
    "Kb = Kf / KE\n",
    "print(DG)\n",
    "sciprint(KE)\n",
    "print(Kb)"
   ]
  },
  {
   "cell_type": "code",
   "execution_count": 34,
   "metadata": {},
   "outputs": [
    {
     "name": "stdout",
     "output_type": "stream",
     "text": [
      "13.350720315228285\n",
      "2.561401e+09\n",
      "0.007808225837362128\n"
     ]
    }
   ],
   "source": [
    "# SS <--> L2\n",
    "DG = energies[0] - energies[2]\n",
    "KE = k_equilibrium(-DG,T)\n",
    "Kf = kfcollision\n",
    "Kb = Kf / KE\n",
    "print(DG)\n",
    "sciprint(KE)\n",
    "print(Kb)"
   ]
  },
  {
   "cell_type": "code",
   "execution_count": 35,
   "metadata": {},
   "outputs": [
    {
     "name": "stdout",
     "output_type": "stream",
     "text": [
      "12.067131390865127\n",
      "3.190883e+08\n",
      "0.0626785751957368\n"
     ]
    }
   ],
   "source": [
    "# SS <--> R2\n",
    "DG = energies[0] - energies[3]\n",
    "KE = k_equilibrium(-DG,T)\n",
    "Kf = kfcollision\n",
    "Kb = Kf / KE\n",
    "print(DG)\n",
    "sciprint(KE)\n",
    "print(Kb)"
   ]
  },
  {
   "cell_type": "code",
   "execution_count": 36,
   "metadata": {},
   "outputs": [
    {
     "name": "stdout",
     "output_type": "stream",
     "text": [
      "7.146463971874315\n",
      "1.087010e+05\n",
      "183.99091641848813\n"
     ]
    }
   ],
   "source": [
    "# SS <--> R1\n",
    "DG = energies[0] - energies[4]\n",
    "KE = k_equilibrium(-DG,T)\n",
    "Kf = kfcollision\n",
    "Kb = Kf / KE\n",
    "print(DG)\n",
    "sciprint(KE)\n",
    "print(Kb)"
   ]
  },
  {
   "cell_type": "code",
   "execution_count": 37,
   "metadata": {},
   "outputs": [
    {
     "name": "stdout",
     "output_type": "stream",
     "text": [
      "20.52172103400262\n",
      "2.897362e+14\n",
      "6.902831840829526e-08\n"
     ]
    }
   ],
   "source": [
    "# SS <--> D\n",
    "DG = energies[0] - energies[5]\n",
    "KE = k_equilibrium(-DG,T)\n",
    "Kf = kfcollision\n",
    "Kb = Kf / KE\n",
    "print(DG)\n",
    "sciprint(KE)\n",
    "print(Kb)"
   ]
  },
  {
   "cell_type": "code",
   "execution_count": 38,
   "metadata": {},
   "outputs": [
    {
     "name": "stdout",
     "output_type": "stream",
     "text": [
      "4.920667418990812\n",
      "2.935467e+03\n",
      "3406.6124793451313\n"
     ]
    }
   ],
   "source": [
    "#L1 <--> L2\n",
    "DG = energies[1] - energies[2]\n",
    "KE = k_equilibrium(-DG,T)\n",
    "Kf = kfsliding\n",
    "Kb = Kf / KE\n",
    "print(DG)\n",
    "sciprint(KE)\n",
    "print(Kb)"
   ]
  },
  {
   "cell_type": "code",
   "execution_count": 39,
   "metadata": {},
   "outputs": [
    {
     "name": "stdout",
     "output_type": "stream",
     "text": [
      "7.171000718774335\n",
      "1.131163e+05\n",
      "88.40461309148736\n"
     ]
    }
   ],
   "source": [
    "# L2 <--> D\n",
    "DG = energies[2] - energies[5]\n",
    "KE = k_equilibrium(-DG,T)\n",
    "Kf = kfsliding\n",
    "Kb = Kf / KE\n",
    "print(DG)\n",
    "sciprint(KE)\n",
    "print(Kb)"
   ]
  },
  {
   "cell_type": "code",
   "execution_count": 40,
   "metadata": {},
   "outputs": [
    {
     "name": "stdout",
     "output_type": "stream",
     "text": [
      "4.920667418990812\n",
      "2.935467e+03\n",
      "3406.6124793451313\n"
     ]
    }
   ],
   "source": [
    "# R1 <--> R2\n",
    "DG = energies[4] - energies[3]\n",
    "KE = k_equilibrium(-DG,T)\n",
    "Kf = kfsliding\n",
    "Kb = Kf / KE\n",
    "print(DG)\n",
    "sciprint(KE)\n",
    "print(Kb)"
   ]
  },
  {
   "cell_type": "code",
   "execution_count": 41,
   "metadata": {},
   "outputs": [
    {
     "name": "stdout",
     "output_type": "stream",
     "text": [
      "8.454589643137494\n",
      "9.080125e+05\n",
      "11.01306438328072\n"
     ]
    }
   ],
   "source": [
    "# R2 <--> D\n",
    "DG = energies[3] - energies[5]\n",
    "KE = k_equilibrium(-DG,T)\n",
    "Kf = kfsliding\n",
    "Kb = Kf / KE\n",
    "print(DG)\n",
    "sciprint(KE)\n",
    "print(Kb)"
   ]
  },
  {
   "cell_type": "code",
   "execution_count": 42,
   "metadata": {},
   "outputs": [
    {
     "data": {
      "text/plain": [
       "' \\n\\nSS <--> L1 \\nenergies(0) <--> energies(1)\\n\\nSS <--> L2 \\nenergies(0) <--> energies(2)\\n\\nSS <--> R2 \\nenergies(0) <--> energies(3)\\n\\nSS <--> R1 \\nenergies(0) <--> energies(4)\\n\\nSS <--> D \\nenergies(0) <--> energies(5)\\n\\nL1 <--> L2 \\nenergies(1) <--> energies(2)\\n\\nL2 <--> D\\nenergies(2) <--> energies(5)\\n\\nR1 <--> R2 \\nenergies(4) <--> energies(3)\\n\\nR2 <--> D\\nenergies(3) <--> energies(5)\\n'"
      ]
     },
     "execution_count": 42,
     "metadata": {},
     "output_type": "execute_result"
    }
   ],
   "source": [
    "\"\"\" \n",
    "\n",
    "SS <--> L1 \n",
    "energies(0) <--> energies(1)\n",
    "\n",
    "SS <--> L2 \n",
    "energies(0) <--> energies(2)\n",
    "\n",
    "SS <--> R2 \n",
    "energies(0) <--> energies(3)\n",
    "\n",
    "SS <--> R1 \n",
    "energies(0) <--> energies(4)\n",
    "\n",
    "SS <--> D \n",
    "energies(0) <--> energies(5)\n",
    "\n",
    "L1 <--> L2 \n",
    "energies(1) <--> energies(2)\n",
    "\n",
    "L2 <--> D\n",
    "energies(2) <--> energies(5)\n",
    "\n",
    "R1 <--> R2 \n",
    "energies(4) <--> energies(3)\n",
    "\n",
    "R2 <--> D\n",
    "energies(3) <--> energies(5)\n",
    "\"\"\""
   ]
  }
 ],
 "metadata": {
  "kernelspec": {
   "display_name": "base",
   "language": "python",
   "name": "python3"
  },
  "language_info": {
   "codemirror_mode": {
    "name": "ipython",
    "version": 3
   },
   "file_extension": ".py",
   "mimetype": "text/x-python",
   "name": "python",
   "nbconvert_exporter": "python",
   "pygments_lexer": "ipython3",
   "version": "3.9.12 (main, Apr  5 2022, 06:56:58) \n[GCC 7.5.0]"
  },
  "orig_nbformat": 4,
  "vscode": {
   "interpreter": {
    "hash": "7f910d06e694c1a89a159fa71122a2459dd3007db8d70827445025af3e169410"
   }
  }
 },
 "nbformat": 4,
 "nbformat_minor": 2
}
