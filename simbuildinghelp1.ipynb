{
 "cells": [
  {
   "cell_type": "code",
   "execution_count": 1,
   "metadata": {},
   "outputs": [],
   "source": [
    "import numpy as np\n",
    "import pandas as pd\n",
    "import nupack as nu\n",
    "import networkx as nx \n",
    "import matplotlib.pyplot as plt\n",
    "\n",
    "from hdna.complex import Complex\n",
    "from hdna.strand import Strand\n",
    "from hdna.model import Model\n",
    "from hdna.chamber import Chamber\n",
    "from hdna.kinetwork import Kinetwork\n",
    "\n",
    "from pyvis.network import Network"
   ]
  },
  {
   "attachments": {},
   "cell_type": "markdown",
   "metadata": {},
   "source": [
    "## About Julia-Python interface"
   ]
  },
  {
   "cell_type": "code",
   "execution_count": 3,
   "metadata": {},
   "outputs": [
    {
     "name": "stdout",
     "output_type": "stream",
     "text": [
      "1\n"
     ]
    },
    {
     "name": "stderr",
     "output_type": "stream",
     "text": [
      "[ Info:  started timer at: 2023-01-12T12:47:16.136\n"
     ]
    },
    {
     "data": {
      "text/plain": [
       "[ Model: AT-all ]\n",
       "  no. species:    1\n",
       "  no. reactions:  0"
      ]
     },
     "execution_count": 3,
     "metadata": {},
     "output_type": "execute_result"
    },
    {
     "data": {
      "text/plain": [
       "[ Model: AT-all ]\n",
       "  no. species:    2\n",
       "  no. reactions:  0"
      ]
     },
     "execution_count": 3,
     "metadata": {},
     "output_type": "execute_result"
    },
    {
     "data": {
      "text/plain": [
       "[ Model: AT-all ]\n",
       "  no. species:    3\n",
       "  no. reactions:  0"
      ]
     },
     "execution_count": 3,
     "metadata": {},
     "output_type": "execute_result"
    },
    {
     "data": {
      "text/plain": [
       "[ Model: AT-all ]\n",
       "  no. species:    4\n",
       "  no. reactions:  0"
      ]
     },
     "execution_count": 3,
     "metadata": {},
     "output_type": "execute_result"
    },
    {
     "data": {
      "text/plain": [
       "[ Model: AT-all ]\n",
       "  no. species:    5\n",
       "  no. reactions:  0"
      ]
     },
     "execution_count": 3,
     "metadata": {},
     "output_type": "execute_result"
    },
    {
     "data": {
      "text/plain": [
       "[ Model: AT-all ]\n",
       "  no. species:    6\n",
       "  no. reactions:  0"
      ]
     },
     "execution_count": 3,
     "metadata": {},
     "output_type": "execute_result"
    },
    {
     "data": {
      "text/plain": [
       "[ Model: AT-all ]\n",
       "  no. species:    6\n",
       "  no. reactions:  1"
      ]
     },
     "execution_count": 3,
     "metadata": {},
     "output_type": "execute_result"
    },
    {
     "data": {
      "text/plain": [
       "[ Model: AT-all ]\n",
       "  no. species:    6\n",
       "  no. reactions:  2"
      ]
     },
     "execution_count": 3,
     "metadata": {},
     "output_type": "execute_result"
    },
    {
     "data": {
      "text/plain": [
       "[ Model: AT-all ]\n",
       "  no. species:    6\n",
       "  no. reactions:  3"
      ]
     },
     "execution_count": 3,
     "metadata": {},
     "output_type": "execute_result"
    },
    {
     "data": {
      "text/plain": [
       "[ Model: AT-all ]\n",
       "  no. species:    6\n",
       "  no. reactions:  4"
      ]
     },
     "execution_count": 3,
     "metadata": {},
     "output_type": "execute_result"
    },
    {
     "data": {
      "text/plain": [
       "[ Model: AT-all ]\n",
       "  no. species:    6\n",
       "  no. reactions:  5"
      ]
     },
     "execution_count": 3,
     "metadata": {},
     "output_type": "execute_result"
    },
    {
     "data": {
      "text/plain": [
       "[ Model: AT-all ]\n",
       "  no. species:    6\n",
       "  no. reactions:  6"
      ]
     },
     "execution_count": 3,
     "metadata": {},
     "output_type": "execute_result"
    },
    {
     "data": {
      "text/plain": [
       "[ Model: AT-all ]\n",
       "  no. species:    6\n",
       "  no. reactions:  7"
      ]
     },
     "execution_count": 3,
     "metadata": {},
     "output_type": "execute_result"
    },
    {
     "data": {
      "text/plain": [
       "[ Model: AT-all ]\n",
       "  no. species:    6\n",
       "  no. reactions:  8"
      ]
     },
     "execution_count": 3,
     "metadata": {},
     "output_type": "execute_result"
    },
    {
     "data": {
      "text/plain": [
       "[ Model: AT-all ]\n",
       "  no. species:    6\n",
       "  no. reactions:  9"
      ]
     },
     "execution_count": 3,
     "metadata": {},
     "output_type": "execute_result"
    },
    {
     "data": {
      "text/plain": [
       "[ Model: AT-all ]\n",
       "  no. species:    6\n",
       "  no. reactions:  10"
      ]
     },
     "execution_count": 3,
     "metadata": {},
     "output_type": "execute_result"
    },
    {
     "data": {
      "text/plain": [
       "[ Model: AT-all ]\n",
       "  no. species:    6\n",
       "  no. reactions:  11"
      ]
     },
     "execution_count": 3,
     "metadata": {},
     "output_type": "execute_result"
    },
    {
     "data": {
      "text/plain": [
       "[ Model: AT-all ]\n",
       "  no. species:    6\n",
       "  no. reactions:  12"
      ]
     },
     "execution_count": 3,
     "metadata": {},
     "output_type": "execute_result"
    },
    {
     "data": {
      "text/plain": [
       "[ Model: AT-all ]\n",
       "  no. species:    6\n",
       "  no. reactions:  13"
      ]
     },
     "execution_count": 3,
     "metadata": {},
     "output_type": "execute_result"
    },
    {
     "data": {
      "text/plain": [
       "[ Model: AT-all ]\n",
       "  no. species:    6\n",
       "  no. reactions:  14"
      ]
     },
     "execution_count": 3,
     "metadata": {},
     "output_type": "execute_result"
    },
    {
     "data": {
      "text/plain": [
       "[ Model: AT-all ]\n",
       "  no. species:    6\n",
       "  no. reactions:  15"
      ]
     },
     "execution_count": 3,
     "metadata": {},
     "output_type": "execute_result"
    },
    {
     "data": {
      "text/plain": [
       "[ Model: AT-all ]\n",
       "  no. species:    6\n",
       "  no. reactions:  16"
      ]
     },
     "execution_count": 3,
     "metadata": {},
     "output_type": "execute_result"
    },
    {
     "data": {
      "text/plain": [
       "[ Model: AT-all ]\n",
       "  no. species:    6\n",
       "  no. reactions:  17"
      ]
     },
     "execution_count": 3,
     "metadata": {},
     "output_type": "execute_result"
    },
    {
     "data": {
      "text/plain": [
       "[ Model: AT-all ]\n",
       "  no. species:    6\n",
       "  no. reactions:  18"
      ]
     },
     "execution_count": 3,
     "metadata": {},
     "output_type": "execute_result"
    },
    {
     "name": "stderr",
     "output_type": "stream",
     "text": [
      "[ Info:            1.7258554s: 1 second, 725 milliseconds\n",
      "[ Info:  started timer at: 2023-01-12T12:47:17.971\n",
      "[ Info:            7.0182365s: 7 seconds, 18 milliseconds\n"
     ]
    }
   ],
   "source": [
    "import juliacall\n",
    "\n",
    "\n",
    "jl = juliacall.newmodule('Dude')\n",
    "\n",
    "jl.seval('using BioSimulator')\n",
    "jl.seval('using TickTock')\n",
    "jl.seval('using Base.Threads')\n",
    "\n",
    "print(jl.nthreads())\n",
    "\n",
    "jl.tick()\n",
    "model = jl.Network(\"AT-all\")  \n",
    "\n",
    "initial = 2\n",
    "\n",
    "model <= jl.Species(\"SS\",int(initial))\n",
    "model <= jl.Species(\"L1\",0)\n",
    "model <= jl.Species(\"L2\",0)\n",
    "model <= jl.Species(\"R1\",0)\n",
    "model <= jl.Species(\"R2\",0)\n",
    "model <= jl.Species(\"D\",0)\n",
    "\n",
    "\n",
    "kf_dl = 4e8\n",
    "nonspecific_correction = 1/5\n",
    "\n",
    "sliding_correction = 1/2\n",
    "kf_sliding = 1e7 * sliding_correction\n",
    "\n",
    "\n",
    "\n",
    "Na = 6.023e23\n",
    "\n",
    "kf_ssl1 = kf_dl*nonspecific_correction\n",
    "kb_ssl1 = 22.920792678077465 \n",
    "\n",
    "kf_ssl2 = kf_dl*nonspecific_correction\n",
    "kb_ssl2 = 0.007808225837362128\n",
    "\n",
    "kf_ssr2 = kf_dl*nonspecific_correction\n",
    "kb_ssr2 = 0.0626785751957368\n",
    "\n",
    "kf_ssr1 = kf_dl*nonspecific_correction\n",
    "kb_ssr1 = 183.99091641848813\n",
    "\n",
    "kf_ssD = kf_dl*nonspecific_correction\n",
    "kb_ssD = 6.902831840829526e-08\n",
    "\n",
    "kf_l1l2 = kf_sliding\n",
    "kb_l1l2 = 3406.6124793451313*sliding_correction\n",
    "\n",
    "kf_l2D = kf_sliding\n",
    "kb_l2D = 88.40461309148736*sliding_correction\n",
    "\n",
    "kf_r1r2 = kf_sliding\n",
    "kb_r1r2 = 3406.6124793451313*sliding_correction\n",
    "\n",
    "kf_r2D = kf_sliding\n",
    "kb_r2D = 11.01306438328072*sliding_correction\n",
    "\n",
    "\n",
    "\n",
    "\n",
    "model <= jl.Reaction(\"ss-l1_f\",  kf_ssl1, \"SS + SS --> L1\")\n",
    "model <= jl.Reaction(\"ss-l1_b\",  kb_ssl1, \"L1 --> SS + SS\")\n",
    "model <= jl.Reaction(\"ss-l2_f\",  kf_ssl2, \"SS + SS --> L2\")\n",
    "model <= jl.Reaction(\"ss-l2_b\",  kb_ssl2, \"L2 --> SS + SS\")\n",
    "model <= jl.Reaction(\"ss-r2_f\",  kf_ssr2, \"SS + SS --> R2\")\n",
    "model <= jl.Reaction(\"ss-r2_b\",  kb_ssr2, \"R2 --> SS + SS\")\n",
    "model <= jl.Reaction(\"ss-r1_f\",  kf_ssr1, \"SS + SS --> R1\")\n",
    "model <= jl.Reaction(\"ss-r1_b\",  kb_ssr1, \"R1 --> SS + SS\")\n",
    "model <= jl.Reaction(\"ss-D_f\",   kf_ssD, \"SS + SS --> D\")\n",
    "model <= jl.Reaction(\"ss-D_b\",   kb_ssD, \"D --> SS + SS\")\n",
    "model <= jl.Reaction(\"l1-l2_f\",  kf_l1l2, \"L1 --> L2\")\n",
    "model <= jl.Reaction(\"l1-l2_b\",  kb_l1l2, \"L2 --> L1\")\n",
    "model <= jl.Reaction(\"l2-D_f\",   kf_l2D, \"L2 --> D\")\n",
    "model <= jl.Reaction(\"l2-D_b\",   kb_l2D, \"D --> L2\")\n",
    "model <= jl.Reaction(\"r1-r2_f\",  kf_r1r2, \"R1 --> R2\")\n",
    "model <= jl.Reaction(\"r1-r2_b\",  kb_r1r2, \"R2 --> R1\")\n",
    "model <= jl.Reaction(\"r2-D_f\",   kf_r2D, \"R2 --> D\")\n",
    "model <= jl.Reaction(\"r2-D_b\",   kb_r2D, \"D --> R2\")\n",
    "\n",
    "\n",
    "\n",
    "runtime = 1e-2\n",
    "Nmonte = 50000\n",
    "jl.tock()\n",
    "\n",
    "jl.tick()\n",
    "simresults = [jl.simulate(model, jl.Direct(),tfinal=runtime) for i in range(Nmonte)]\n",
    "results = [{'c':jl.hcat(*simresults[i].u).__array__(), 't':simresults[i].t} for i in range(Nmonte)]\n",
    "jl.tock()"
   ]
  },
  {
   "cell_type": "code",
   "execution_count": 2,
   "metadata": {},
   "outputs": [],
   "source": [
    "from IPython.core.interactiveshell import InteractiveShell\n",
    "InteractiveShell.ast_node_interactivity = \"all\""
   ]
  },
  {
   "cell_type": "code",
   "execution_count": 3,
   "metadata": {},
   "outputs": [
    {
     "data": {
      "text/plain": [
       "array([[2, 0, 0, 0],\n",
       "       [0, 0, 0, 0],\n",
       "       [0, 1, 0, 0],\n",
       "       [0, 0, 0, 0],\n",
       "       [0, 0, 0, 0],\n",
       "       [0, 0, 1, 1]])"
      ]
     },
     "execution_count": 3,
     "metadata": {},
     "output_type": "execute_result"
    },
    {
     "data": {
      "text/plain": [
       "array([0, 0, 1, 1])"
      ]
     },
     "execution_count": 3,
     "metadata": {},
     "output_type": "execute_result"
    },
    {
     "data": {
      "text/csv": [
       "0.0\n",
       "3.827390642420261e-9\n",
       "2.9768664821045267e-8\n",
       "0.01\n"
      ],
      "text/plain": [
       "4-element Vector{Float64}:\n",
       " 0.0\n",
       " 3.827390642420261e-9\n",
       " 2.9768664821045267e-8\n",
       " 0.01"
      ],
      "text/tab-separated-values": [
       "0.0\n",
       "3.827390642420261e-9\n",
       "2.9768664821045267e-8\n",
       "0.01\n"
      ]
     },
     "execution_count": 3,
     "metadata": {},
     "output_type": "execute_result"
    },
    {
     "data": {
      "text/plain": [
       "(2, 2.9768664821045267e-08)"
      ]
     },
     "execution_count": 3,
     "metadata": {},
     "output_type": "execute_result"
    }
   ],
   "source": [
    "#definitive routine for mfpis is detailed below\n",
    "\n",
    "index = 2\n",
    "\n",
    "results[index]['c']\n",
    "results[index]['c'][-1]\n",
    "results[index]['t']\n",
    "\n",
    "fpi = np.argmax(results[index]['c'][-1] == 1)\n",
    "\n",
    "fpi, results[index]['t'][fpi]"
   ]
  },
  {
   "attachments": {},
   "cell_type": "markdown",
   "metadata": {},
   "source": [
    "## About Chamber"
   ]
  },
  {
   "cell_type": "code",
   "execution_count": 3,
   "metadata": {},
   "outputs": [],
   "source": [
    "model = Model('dna', '3D')\n",
    "mincore = 3\n",
    "\n",
    "a = Strand(model, 'AAAAAAAAAAA')\n",
    "b = Strand(model, 'TTTTTTTTTTT')\n",
    "\n",
    "kgraph = Kinetwork(model, a, b, mincore)\n",
    "GR = kgraph.Graph"
   ]
  },
  {
   "cell_type": "code",
   "execution_count": 5,
   "metadata": {},
   "outputs": [
    {
     "name": "stdout",
     "output_type": "stream",
     "text": [
      "object                          None\n",
      "structure    ...........+...........\n",
      "state                 singlestranded\n",
      "pairs                              0\n",
      "Name: ...........+..........., dtype: object\n"
     ]
    },
    {
     "ename": "AttributeError",
     "evalue": "'NoneType' object has no attribute 'G'",
     "output_type": "error",
     "traceback": [
      "\u001b[0;31m---------------------------------------------------------------------------\u001b[0m",
      "\u001b[0;31mAttributeError\u001b[0m                            Traceback (most recent call last)",
      "Cell \u001b[0;32mIn [5], line 8\u001b[0m\n\u001b[1;32m      6\u001b[0m \u001b[39mfor\u001b[39;00m i \u001b[39min\u001b[39;00m df\u001b[39m.\u001b[39mindex:\n\u001b[1;32m      7\u001b[0m     \u001b[39mprint\u001b[39m(df\u001b[39m.\u001b[39mloc[i])\n\u001b[0;32m----> 8\u001b[0m     \u001b[39mprint\u001b[39m(df\u001b[39m.\u001b[39;49mloc[i][\u001b[39m'\u001b[39;49m\u001b[39mobject\u001b[39;49m\u001b[39m'\u001b[39;49m]\u001b[39m.\u001b[39;49mG)\n\u001b[1;32m      9\u001b[0m     \u001b[39mprint\u001b[39m(\u001b[39m'\u001b[39m\u001b[39m\\n\u001b[39;00m\u001b[39m'\u001b[39m)\n",
      "\u001b[0;31mAttributeError\u001b[0m: 'NoneType' object has no attribute 'G'"
     ]
    }
   ],
   "source": [
    "df = pd.DataFrame(list(pd.DataFrame(GR.nodes.data())[1]), index=pd.Series(GR.nodes()).index)\n",
    "# for i in range(len(df)):\n",
    "#     print(df.iloc[i])\n",
    "#     print('\\n')\n",
    "\n",
    "for i in df.index:\n",
    "    print(df.loc[i])\n",
    "    print(df.loc[i]['object'].G)\n",
    "    print('\\n')"
   ]
  },
  {
   "cell_type": "code",
   "execution_count": null,
   "metadata": {},
   "outputs": [],
   "source": []
  }
 ],
 "metadata": {
  "kernelspec": {
   "display_name": "base",
   "language": "python",
   "name": "python3"
  },
  "language_info": {
   "codemirror_mode": {
    "name": "ipython",
    "version": 3
   },
   "file_extension": ".py",
   "mimetype": "text/x-python",
   "name": "python",
   "nbconvert_exporter": "python",
   "pygments_lexer": "ipython3",
   "version": "3.9.12"
  },
  "orig_nbformat": 4,
  "vscode": {
   "interpreter": {
    "hash": "7f910d06e694c1a89a159fa71122a2459dd3007db8d70827445025af3e169410"
   }
  }
 },
 "nbformat": 4,
 "nbformat_minor": 2
}
