{
 "cells": [
  {
   "cell_type": "code",
   "execution_count": 1,
   "metadata": {},
   "outputs": [],
   "source": [
    "import nupack as nu\n",
    "import networkx as nx \n",
    "import pandas as pd \n",
    "from classes.complex import Complex\n",
    "from classes.strand import Strand\n",
    "from classes.model import Model\n",
    "from classes.chamber import Chamber\n",
    "from classes.kinetwork import Kinetwork"
   ]
  },
  {
   "cell_type": "code",
   "execution_count": 2,
   "metadata": {},
   "outputs": [],
   "source": [
    "model = Model('dna', '3D')\n",
    "\n",
    "a = Strand(model, 'AAAAAA')\n",
    "b = Strand(model, 'TTTTTT')\n",
    "# a = Strand(model, 'ACACACACCA')\n",
    "# b = Strand(model, 'TGTGTGTGGT')\n",
    "# structure = '(.........((((.........(((((((..................((((............+............))))..................))))))).........)))).........)'\n",
    "# coils = Complex(model, a, b, structure)\n",
    "chamber = Chamber(model, a, b)"
   ]
  },
  {
   "cell_type": "code",
   "execution_count": 3,
   "metadata": {},
   "outputs": [
    {
     "data": {
      "text/plain": [
       "[1, 2, 3, 4]"
      ]
     },
     "execution_count": 3,
     "metadata": {},
     "output_type": "execute_result"
    }
   ],
   "source": [
    "a = [1,2,3,4,5]\n",
    "a.pop(-1)\n",
    "a"
   ]
  },
  {
   "cell_type": "code",
   "execution_count": 4,
   "metadata": {},
   "outputs": [],
   "source": [
    "kgraph = Kinetwork(model, chamber, 3)"
   ]
  },
  {
   "cell_type": "code",
   "execution_count": 5,
   "metadata": {},
   "outputs": [
    {
     "name": "stdout",
     "output_type": "stream",
     "text": [
      "(((...+)))...\n",
      "((((..+))))..\n",
      "(((((.+))))).\n",
      ".(((((+.)))))\n",
      "..((((+..))))\n",
      "...(((+...)))\n"
     ]
    }
   ],
   "source": [
    "for off in chamber.offcores:\n",
    "    print(off.structure)"
   ]
  },
  {
   "cell_type": "code",
   "execution_count": 6,
   "metadata": {},
   "outputs": [
    {
     "name": "stdout",
     "output_type": "stream",
     "text": [
      "......+...... {'state': 'singlestranded'}\n",
      "\n",
      "\n",
      "(((...+)))... {'state': 'off_register'}\n",
      "\n",
      "\n",
      "((((..+)))).. {'state': 'off_register'}\n",
      "\n",
      "\n",
      "(((((.+))))). {'state': 'off_register'}\n",
      "\n",
      "\n",
      ".(((((+.))))) {'state': 'off_register'}\n",
      "\n",
      "\n",
      "..((((+..)))) {'state': 'off_register'}\n",
      "\n",
      "\n",
      "...(((+...))) {'state': 'off_register'}\n",
      "\n",
      "\n",
      "(((...+...))) {'state': 'zipping'}\n",
      "\n",
      "\n",
      ".(((..+..))). {'state': 'zipping'}\n",
      "\n",
      "\n",
      "..(((.+.))).. {'state': 'zipping'}\n",
      "\n",
      "\n",
      "...(((+)))... {'state': 'zipping'}\n",
      "\n",
      "\n",
      "((((..+..)))) {'state': 'zipping'}\n",
      "\n",
      "\n",
      "(((((.+.))))) {'state': 'zipping'}\n",
      "\n",
      "\n",
      ".(((((+))))). {'state': 'zipping'}\n",
      "\n",
      "\n",
      "..((((+)))).. {'state': 'zipping'}\n",
      "\n",
      "\n",
      "((((((+)))))) {'state': 'duplex'}\n",
      "\n",
      "\n"
     ]
    }
   ],
   "source": [
    "for k, data in kgraph.Graph.nodes(data=True):\n",
    "   print(k, data)\n",
    "   print('\\n')"
   ]
  },
  {
   "cell_type": "code",
   "execution_count": 7,
   "metadata": {},
   "outputs": [],
   "source": [
    "pan = nx.to_pandas_adjacency(kgraph.Graph)"
   ]
  },
  {
   "cell_type": "code",
   "execution_count": 8,
   "metadata": {},
   "outputs": [],
   "source": [
    "nodes = pd.Series(list(kgraph.Graph.nodes()))"
   ]
  },
  {
   "cell_type": "code",
   "execution_count": 9,
   "metadata": {},
   "outputs": [],
   "source": [
    "G = nx.Graph()"
   ]
  },
  {
   "cell_type": "code",
   "execution_count": 10,
   "metadata": {},
   "outputs": [],
   "source": [
    "G.add_node('mbare')\n",
    "G.add_node('mbare')\n",
    "G.add_node('pippo')\n",
    "G.add_node('pippo')\n",
    "G.add_node('pippo')\n",
    "G.add_node('pippo')\n",
    "G.add_node('pippo')\n",
    "G.add_node('pippo')\n",
    "G.add_node('pippo')\n",
    "G.add_node('pippo')"
   ]
  },
  {
   "cell_type": "code",
   "execution_count": 11,
   "metadata": {},
   "outputs": [
    {
     "data": {
      "text/plain": [
       "NodeView(('mbare', 'pippo'))"
      ]
     },
     "execution_count": 11,
     "metadata": {},
     "output_type": "execute_result"
    }
   ],
   "source": [
    "G.nodes()"
   ]
  },
  {
   "cell_type": "code",
   "execution_count": null,
   "metadata": {},
   "outputs": [],
   "source": []
  }
 ],
 "metadata": {
  "kernelspec": {
   "display_name": "base",
   "language": "python",
   "name": "python3"
  },
  "language_info": {
   "codemirror_mode": {
    "name": "ipython",
    "version": 3
   },
   "file_extension": ".py",
   "mimetype": "text/x-python",
   "name": "python",
   "nbconvert_exporter": "python",
   "pygments_lexer": "ipython3",
   "version": "3.9.12"
  },
  "orig_nbformat": 4,
  "vscode": {
   "interpreter": {
    "hash": "7f910d06e694c1a89a159fa71122a2459dd3007db8d70827445025af3e169410"
   }
  }
 },
 "nbformat": 4,
 "nbformat_minor": 2
}
