{
 "cells": [
  {
   "cell_type": "code",
   "execution_count": 1,
   "metadata": {},
   "outputs": [],
   "source": [
    "%load_ext autoreload\n",
    "%autoreload 2"
   ]
  },
  {
   "cell_type": "code",
   "execution_count": 2,
   "metadata": {},
   "outputs": [],
   "source": [
    "import pandas as pd \n",
    "import math\n",
    "from conf import *\n",
    "\n",
    "pd.set_option('display.float_format', lambda x: '%.3e' % x if float(x) > 5000 or float(x) < 0.01 and float(x) != 0 else ('%d' % x if x.is_integer() else '%.3f' % x))"
   ]
  },
  {
   "cell_type": "code",
   "execution_count": 3,
   "metadata": {},
   "outputs": [],
   "source": [
    "DIR = '/home/marco/Desktop/HDNAback/hDNA/results/ZZZEXPORT22D/run_1'\n",
    "\n",
    "# hyperp = pd.read_csv(f'{DIR}/hyperparameters.csv'); hyperp['values'][:-1].map(float)\n",
    "data = pd.read_csv(f'{DIR}/simulationdata.csv'); \n",
    "data['index'] = data.index\n",
    "try: data.drop('seq.1', axis=1, inplace=True)\n",
    "except KeyError: pass\n",
    "try: data.drop('Unnamed: 0', axis=1, inplace=True)\n",
    "except KeyError: pass"
   ]
  },
  {
   "cell_type": "code",
   "execution_count": 4,
   "metadata": {},
   "outputs": [],
   "source": [
    "DIR = '/home/marco/Desktop/HDNAback/hDNA/results/sumofinchandpk51/run_1'\n",
    "\n",
    "# hyperp = pd.read_csv(f'{DIR}/hyperparameters.csv'); hyperp['values'][:-1].map(float)\n",
    "data3 = pd.read_csv(f'{DIR}/simulationdata.csv'); \n",
    "data3['index'] = data3.index\n",
    "try: data3.drop('sequences.1', axis=1, inplace=True)\n",
    "except KeyError: pass\n",
    "try: data3.drop('Unnamed: 5', axis=1, inplace=True)\n",
    "except KeyError: pass"
   ]
  },
  {
   "cell_type": "code",
   "execution_count": 5,
   "metadata": {},
   "outputs": [
    {
     "data": {
      "application/vnd.plotly.v1+json": {
       "config": {
        "plotlyServerURL": "https://plot.ly"
       },
       "data": [
        {
         "hovertemplate": "length=10<br>computational=%{x}<br>sequences=%{y}<extra></extra>",
         "legendgroup": "10",
         "marker": {
          "color": "#636efa",
          "line": {
           "color": "black",
           "width": 2
          },
          "size": 16,
          "symbol": "circle"
         },
         "mode": "markers",
         "name": "10",
         "orientation": "h",
         "showlegend": true,
         "type": "scatter",
         "x": [
          27971843.329526328,
          27268632.15234302,
          29410826.38834576,
          29432791.97616103,
          29870536.94401716,
          27153949.55344247,
          30437024.895018183,
          30975743.124955792,
          30782075.258514736,
          29111655.95276953,
          30156682.75261402,
          29332772.12257967,
          31022577.39747164,
          30228362.991265435,
          31083637.98919281,
          31896064.539096106,
          30116732.779502057,
          31515316.34098788,
          32298656.81641397,
          32950852.04236892
         ],
         "xaxis": "x",
         "y": [
          "GTTCGGTCTA",
          "CCAAAACCAA",
          "AAACCACACA",
          "ACCAAACCAC",
          "ACACCAAACC",
          "AAAAACCCAC",
          "CAACACCCAA",
          "AAACCCACCA",
          "ACAACACCAC",
          "CAAAACCCCA",
          "AACCAACACC",
          "CAACACAACC",
          "ACCAACACCA",
          "CCACCAACAA",
          "ACACACACAC",
          "AACCACCACA",
          "CAACCAACCA",
          "ACACACACCA",
          "CCCCACACAA",
          "ACACCACCAC"
         ],
         "yaxis": "y"
        },
        {
         "hovertemplate": "length=14<br>computational=%{x}<br>sequences=%{y}<extra></extra>",
         "legendgroup": "14",
         "marker": {
          "color": "#EF553B",
          "line": {
           "color": "black",
           "width": 2
          },
          "size": 16,
          "symbol": "circle"
         },
         "mode": "markers",
         "name": "14",
         "orientation": "h",
         "showlegend": true,
         "type": "scatter",
         "x": [
          21702692.033370998,
          23272397.582346518,
          21777656.980422493,
          22679989.49123386,
          24426779.68703956,
          22953890.37510678,
          21518858.898319915,
          22348227.632397708,
          23606845.968670204,
          23736332.914714955,
          23625197.383925617,
          23443434.09464755,
          23986261.299977973,
          23271128.78435306,
          22924263.109199792,
          24672143.99793796,
          23805864.135257885,
          22657308.94997452,
          24658851.896697965,
          24200367.208732832,
          23262666.82393887
         ],
         "xaxis": "x",
         "y": [
          "GCTGTTCGGTCTAT",
          "ACCAAACCACCAAC",
          "CAACACCAAACAAC",
          "CAAAACCCCAACAC",
          "AAACCCACCACACA",
          "CAACACCCAAACAC",
          "CCAAAACCAACAAC",
          "AAAAACCCACCCAA",
          "AAACCACCCAACAC",
          "CCCAAACCCAACCA",
          "ACCAACACCAACCA",
          "CAACAACACCACCA",
          "AACCAACACCACCA",
          "AACCACCACAAACC",
          "CAACACAACCAACC",
          "CACCACAACCACCA",
          "CCCCACACAACAAC",
          "CCACCAACAACAAC",
          "ACACACACCACACA",
          "CACACACACACACA",
          "ACCAACCAACCAAC"
         ],
         "yaxis": "y"
        }
       ],
       "layout": {
        "height": 1000,
        "legend": {
         "font": {
          "color": "black",
          "family": "Courier",
          "size": 32
         },
         "title": {
          "text": "length"
         },
         "tracegroupgap": 0
        },
        "margin": {
         "t": 60
        },
        "scattermode": "group",
        "template": {
         "data": {
          "pie": [
           {
            "automargin": true,
            "type": "pie"
           }
          ],
          "scatter": [
           {
            "line": {
             "width": 3
            },
            "marker": {
             "size": 9
            },
            "type": "scatter"
           }
          ],
          "scatter3d": [
           {
            "line": {
             "width": 3
            },
            "marker": {
             "size": 9
            },
            "type": "scatter3d"
           }
          ],
          "scattergeo": [
           {
            "line": {
             "width": 3
            },
            "marker": {
             "size": 9
            },
            "type": "scattergeo"
           }
          ],
          "scattergl": [
           {
            "line": {
             "width": 3
            },
            "marker": {
             "size": 9
            },
            "type": "scattergl"
           }
          ],
          "scatterpolar": [
           {
            "line": {
             "width": 3
            },
            "marker": {
             "size": 9
            },
            "type": "scatterpolar"
           }
          ],
          "scatterpolargl": [
           {
            "line": {
             "width": 3
            },
            "marker": {
             "size": 9
            },
            "type": "scatterpolargl"
           }
          ],
          "scatterternary": [
           {
            "line": {
             "width": 3
            },
            "marker": {
             "size": 9
            },
            "type": "scatterternary"
           }
          ],
          "table": [
           {
            "cells": {
             "height": 30
            },
            "header": {
             "height": 36
            },
            "type": "table"
           }
          ]
         },
         "layout": {
          "font": {
           "size": 18
          },
          "xaxis": {
           "title": {
            "standoff": 15
           }
          },
          "yaxis": {
           "title": {
            "standoff": 15
           }
          }
         }
        },
        "width": 1200,
        "xaxis": {
         "anchor": "y",
         "automargin": true,
         "domain": [
          0,
          1
         ],
         "dtick": 1000000,
         "linecolor": "black",
         "linewidth": 3,
         "minor": {
          "dtick": 3,
          "tick0": 0
         },
         "nticks": 10,
         "showexponent": "none",
         "tick0": 0,
         "tickformat": ".1e",
         "tickmode": "linear",
         "title": {
          "text": "Two-dimensional Hybridization Rates"
         }
        },
        "yaxis": {
         "anchor": "x",
         "automargin": true,
         "autorange": "reversed",
         "domain": [
          0,
          1
         ],
         "dtick": 1,
         "linecolor": "black",
         "linewidth": 2,
         "tickmode": "linear",
         "title": {
          "text": "sequences"
         }
        }
       }
      }
     },
     "metadata": {},
     "output_type": "display_data"
    }
   ],
   "source": [
    "import plotly.express as px \n",
    "\n",
    "data['length'] = [str(len(d)) for d in data['sequences']]\n",
    "fig = px.scatter(data,y='sequences', x='computational', color='length')\n",
    "fig.update_layout(width = 1200,\n",
    "                  height = 1000,\n",
    "                  template = 'presentation',\n",
    "                  scattermode='group',\n",
    "                  xaxis_title=\"Two-dimensional Hybridization Rates\",\n",
    "                  xaxis=dict(tickmode = 'linear',\n",
    "                            #  tickvals = [2e7,2.5e7,3e7,3.5e7,4e7,4.5e7,5e7],\n",
    "                             nticks=10,\n",
    "                             tick0=0,\n",
    "                             dtick=1e6,\n",
    "                             tickformat=\".1e\",\n",
    "                             linecolor='black',\n",
    "                             automargin=True,\n",
    "                             linewidth=3,\n",
    "                             minor=dict(dtick=3,tick0=0)),\n",
    "                  yaxis=dict(tickmode='linear',\n",
    "                             dtick=1,\n",
    "                             autorange='reversed',\n",
    "                             automargin=True,\n",
    "                             linecolor='black',\n",
    "                             linewidth=2),\n",
    "                  legend = dict(\n",
    "                            font = dict(family='Courier',\n",
    "                                        size=32,\n",
    "                                        color='black')))\n",
    "\n",
    "fig.update_xaxes(showexponent='none')\n",
    "\n",
    "fig.update_traces(marker=dict(size=16,\n",
    "                              line=dict(width=2,\n",
    "                                        color='black'\n",
    "                              )))\n",
    "fig.show()"
   ]
  },
  {
   "cell_type": "code",
   "execution_count": 6,
   "metadata": {},
   "outputs": [
    {
     "data": {
      "application/vnd.plotly.v1+json": {
       "config": {
        "plotlyServerURL": "https://plot.ly"
       },
       "data": [
        {
         "hovertemplate": "length=10<br>sequences=%{x}<br>computational=%{y}<extra></extra>",
         "legendgroup": "10",
         "marker": {
          "color": "#636efa",
          "line": {
           "color": "black",
           "width": 2
          },
          "size": 16,
          "symbol": "circle"
         },
         "mode": "markers",
         "name": "10",
         "orientation": "v",
         "showlegend": true,
         "type": "scatter",
         "x": [
          "GTTCGGTCTA",
          "CCAAAACCAA",
          "AAACCACACA",
          "ACCAAACCAC",
          "ACACCAAACC",
          "AAAAACCCAC",
          "CAACACCCAA",
          "AAACCCACCA",
          "ACAACACCAC",
          "CAAAACCCCA",
          "AACCAACACC",
          "CAACACAACC",
          "ACCAACACCA",
          "CCACCAACAA",
          "ACACACACAC",
          "AACCACCACA",
          "CAACCAACCA",
          "ACACACACCA",
          "CCCCACACAA",
          "ACACCACCAC"
         ],
         "xaxis": "x",
         "y": [
          27971843.329526328,
          27268632.15234302,
          29410826.38834576,
          29432791.97616103,
          29870536.94401716,
          27153949.55344247,
          30437024.895018183,
          30975743.124955792,
          30782075.258514736,
          29111655.95276953,
          30156682.75261402,
          29332772.12257967,
          31022577.39747164,
          30228362.991265435,
          31083637.98919281,
          31896064.539096106,
          30116732.779502057,
          31515316.34098788,
          32298656.81641397,
          32950852.04236892
         ],
         "yaxis": "y"
        },
        {
         "hovertemplate": "length=14<br>sequences=%{x}<br>computational=%{y}<extra></extra>",
         "legendgroup": "14",
         "marker": {
          "color": "#EF553B",
          "line": {
           "color": "black",
           "width": 2
          },
          "size": 16,
          "symbol": "circle"
         },
         "mode": "markers",
         "name": "14",
         "orientation": "v",
         "showlegend": true,
         "type": "scatter",
         "x": [
          "GCTGTTCGGTCTAT",
          "ACCAAACCACCAAC",
          "CAACACCAAACAAC",
          "CAAAACCCCAACAC",
          "AAACCCACCACACA",
          "CAACACCCAAACAC",
          "CCAAAACCAACAAC",
          "AAAAACCCACCCAA",
          "AAACCACCCAACAC",
          "CCCAAACCCAACCA",
          "ACCAACACCAACCA",
          "CAACAACACCACCA",
          "AACCAACACCACCA",
          "AACCACCACAAACC",
          "CAACACAACCAACC",
          "CACCACAACCACCA",
          "CCCCACACAACAAC",
          "CCACCAACAACAAC",
          "ACACACACCACACA",
          "CACACACACACACA",
          "ACCAACCAACCAAC"
         ],
         "xaxis": "x",
         "y": [
          21702692.033370998,
          23272397.582346518,
          21777656.980422493,
          22679989.49123386,
          24426779.68703956,
          22953890.37510678,
          21518858.898319915,
          22348227.632397708,
          23606845.968670204,
          23736332.914714955,
          23625197.383925617,
          23443434.09464755,
          23986261.299977973,
          23271128.78435306,
          22924263.109199792,
          24672143.99793796,
          23805864.135257885,
          22657308.94997452,
          24658851.896697965,
          24200367.208732832,
          23262666.82393887
         ],
         "yaxis": "y"
        }
       ],
       "layout": {
        "height": 1000,
        "legend": {
         "font": {
          "color": "black",
          "family": "Courier",
          "size": 32
         },
         "title": {
          "text": "length"
         },
         "tracegroupgap": 0
        },
        "margin": {
         "t": 60
        },
        "scattermode": "group",
        "template": {
         "data": {
          "pie": [
           {
            "automargin": true,
            "type": "pie"
           }
          ],
          "scatter": [
           {
            "line": {
             "width": 3
            },
            "marker": {
             "size": 9
            },
            "type": "scatter"
           }
          ],
          "scatter3d": [
           {
            "line": {
             "width": 3
            },
            "marker": {
             "size": 9
            },
            "type": "scatter3d"
           }
          ],
          "scattergeo": [
           {
            "line": {
             "width": 3
            },
            "marker": {
             "size": 9
            },
            "type": "scattergeo"
           }
          ],
          "scattergl": [
           {
            "line": {
             "width": 3
            },
            "marker": {
             "size": 9
            },
            "type": "scattergl"
           }
          ],
          "scatterpolar": [
           {
            "line": {
             "width": 3
            },
            "marker": {
             "size": 9
            },
            "type": "scatterpolar"
           }
          ],
          "scatterpolargl": [
           {
            "line": {
             "width": 3
            },
            "marker": {
             "size": 9
            },
            "type": "scatterpolargl"
           }
          ],
          "scatterternary": [
           {
            "line": {
             "width": 3
            },
            "marker": {
             "size": 9
            },
            "type": "scatterternary"
           }
          ],
          "table": [
           {
            "cells": {
             "height": 30
            },
            "header": {
             "height": 36
            },
            "type": "table"
           }
          ]
         },
         "layout": {
          "font": {
           "size": 18
          },
          "xaxis": {
           "title": {
            "standoff": 15
           }
          },
          "yaxis": {
           "title": {
            "standoff": 15
           }
          }
         }
        },
        "width": 1200,
        "xaxis": {
         "anchor": "y",
         "automargin": true,
         "domain": [
          0,
          1
         ],
         "dtick": 1,
         "linecolor": "black",
         "linewidth": 2,
         "tickmode": "linear",
         "title": {
          "text": "sequences"
         }
        },
        "yaxis": {
         "anchor": "x",
         "automargin": true,
         "domain": [
          0,
          1
         ],
         "dtick": 1000000,
         "linecolor": "black",
         "linewidth": 3,
         "minor": {
          "dtick": 3,
          "tick0": 0
         },
         "nticks": 10,
         "showexponent": "none",
         "tick0": 0,
         "tickformat": ".1e",
         "tickmode": "linear",
         "title": {
          "text": "Two-dimensional Hybridization Rates"
         }
        }
       }
      }
     },
     "metadata": {},
     "output_type": "display_data"
    }
   ],
   "source": [
    "import plotly.express as px \n",
    "\n",
    "data['length'] = [str(len(d)) for d in data['sequences']]\n",
    "fig = px.scatter(data,x='sequences', y='computational', color='length')\n",
    "fig.update_layout(width = 1200,\n",
    "                  height = 1000,\n",
    "                  template = 'presentation',\n",
    "                  scattermode='group',\n",
    "                  yaxis_title=\"Two-dimensional Hybridization Rates\",\n",
    "                  yaxis=dict(tickmode = 'linear',\n",
    "                            #  tickvals = [2e7,2.5e7,3e7,3.5e7,4e7,4.5e7,5e7],\n",
    "                             nticks=10,\n",
    "                             tick0=0,\n",
    "                             dtick=1e6,\n",
    "                             tickformat=\".1e\",\n",
    "                             linecolor='black',\n",
    "                             automargin=True,\n",
    "                             linewidth=3,\n",
    "                             minor=dict(dtick=3,tick0=0)),\n",
    "                  xaxis=dict(tickmode='linear',\n",
    "                             dtick=1,\n",
    "                            #  autorange='reversed',\n",
    "                             automargin=True,\n",
    "                             linecolor='black',\n",
    "                             linewidth=2),\n",
    "                  legend = dict(\n",
    "                            font = dict(family='Courier',\n",
    "                                        size=32,\n",
    "                                        color='black')))\n",
    "\n",
    "fig.update_yaxes(showexponent='none')\n",
    "\n",
    "fig.update_traces(marker=dict(size=16,\n",
    "                              line=dict(width=2,\n",
    "                                        color='black'\n",
    "                              )))\n",
    "fig.show()"
   ]
  },
  {
   "cell_type": "code",
   "execution_count": 7,
   "metadata": {},
   "outputs": [],
   "source": [
    "from plotly import graph_objects as go"
   ]
  },
  {
   "cell_type": "code",
   "execution_count": 8,
   "metadata": {},
   "outputs": [
    {
     "data": {
      "application/vnd.plotly.v1+json": {
       "config": {
        "plotlyServerURL": "https://plot.ly"
       },
       "data": [
        {
         "marker": {
          "color": "#CF5C36",
          "line": {
           "width": 2
          },
          "opacity": 0.8,
          "size": 24,
          "symbol": "diamond"
         },
         "mode": "markers",
         "name": "3D computed    ",
         "type": "scatter",
         "x": [
          "GTTCGGTCTA",
          "CCAAAACCAA",
          "AAACCACACA",
          "ACCAAACCAC",
          "ACACCAAACC",
          "AAAAACCCAC",
          "CAACACCCAA",
          "AAACCCACCA",
          "ACAACACCAC",
          "CAAAACCCCA",
          "AACCAACACC",
          "CAACACAACC",
          "ACCAACACCA",
          "CCACCAACAA",
          "ACACACACAC",
          "AACCACCACA",
          "CAACCAACCA",
          "ACACACACCA",
          "CCCCACACAA",
          "ACACCACCAC",
          "GCTGTTCGGTCTAT",
          "ACCAAACCACCAAC",
          "CAACACCAAACAAC",
          "CAAAACCCCAACAC",
          "AAACCCACCACACA",
          "CAACACCCAAACAC",
          "CCAAAACCAACAAC",
          "AAAAACCCACCCAA",
          "AAACCACCCAACAC",
          "CCCAAACCCAACCA",
          "ACCAACACCAACCA",
          "CAACAACACCACCA",
          "AACCAACACCACCA",
          "AACCACCACAAACC",
          "CAACACAACCAACC",
          "CACCACAACCACCA",
          "CCCCACACAACAAC",
          "CCACCAACAACAAC",
          "ACACACACCACACA",
          "CACACACACACACA",
          "ACCAACCAACCAAC"
         ],
         "y": [
          0.2292829187885385,
          0.28375129587224346,
          0.30695166990980477,
          0.3121290609459927,
          0.24862789147797823,
          0.24464093047358978,
          0.21715893989054072,
          0.3130774066075434,
          0.2592744596281676,
          0.29515162046534693,
          0.2514156691237031,
          0.31344542410589477,
          0.31384259487366817,
          0.2734784032497446,
          0.5124496548912347,
          0.35132729597940293,
          0.3576877342500084,
          0.42940867996382376,
          0.4056592373244324,
          0.3627368042903997,
          0.16647046765274784,
          0.32152294802681763,
          0.21843894664594454,
          0.20155495465980758,
          0.31260309921770907,
          0.2214084010778704,
          0.23856002931182538,
          0.25250652801975887,
          0.2253900227954424,
          0.2811021522264709,
          0.31223299585567943,
          0.2865860190452316,
          0.31732489156402505,
          0.2725490354785058,
          0.3024451088978774,
          0.3219915750963311,
          0.3226847889369344,
          0.29485847688878986,
          0.45046418318552156,
          0.4234638902273256,
          0.32258849462499006
         ]
        },
        {
         "marker": {
          "color": "#6610F2",
          "line": {
           "width": 2
          },
          "size": 24,
          "symbol": 6
         },
         "mode": "markers",
         "name": "2D computed    ",
         "type": "scatter",
         "x": [
          "GTTCGGTCTA",
          "CCAAAACCAA",
          "AAACCACACA",
          "ACCAAACCAC",
          "ACACCAAACC",
          "AAAAACCCAC",
          "CAACACCCAA",
          "AAACCCACCA",
          "ACAACACCAC",
          "CAAAACCCCA",
          "AACCAACACC",
          "CAACACAACC",
          "ACCAACACCA",
          "CCACCAACAA",
          "ACACACACAC",
          "AACCACCACA",
          "CAACCAACCA",
          "ACACACACCA",
          "CCCCACACAA",
          "ACACCACCAC",
          "GCTGTTCGGTCTAT",
          "ACCAAACCACCAAC",
          "CAACACCAAACAAC",
          "CAAAACCCCAACAC",
          "AAACCCACCACACA",
          "CAACACCCAAACAC",
          "CCAAAACCAACAAC",
          "AAAAACCCACCCAA",
          "AAACCACCCAACAC",
          "CCCAAACCCAACCA",
          "ACCAACACCAACCA",
          "CAACAACACCACCA",
          "AACCAACACCACCA",
          "AACCACCACAAACC",
          "CAACACAACCAACC",
          "CACCACAACCACCA",
          "CCCCACACAACAAC",
          "CCACCAACAACAAC",
          "ACACACACCACACA",
          "CACACACACACACA",
          "ACCAACCAACCAAC"
         ],
         "y": [
          2.7971843329526327,
          2.7268632152343018,
          2.9410826388345757,
          2.9432791976161026,
          2.987053694401716,
          2.715394955344247,
          3.0437024895018183,
          3.097574312495579,
          3.0782075258514734,
          2.9111655952769526,
          3.015668275261402,
          2.933277212257967,
          3.102257739747164,
          3.0228362991265434,
          3.1083637989192807,
          3.1896064539096103,
          3.0116732779502056,
          3.151531634098788,
          3.229865681641397,
          3.2950852042368917,
          2.1702692033371,
          2.3272397582346516,
          2.1777656980422493,
          2.2679989491233856,
          2.442677968703956,
          2.2953890375106782,
          2.1518858898319912,
          2.234822763239771,
          2.3606845968670203,
          2.3736332914714953,
          2.3625197383925616,
          2.344343409464755,
          2.398626129997797,
          2.327112878435306,
          2.292426310919979,
          2.4672143997937956,
          2.3805864135257884,
          2.2657308949974517,
          2.4658851896697964,
          2.420036720873283,
          2.3262666823938867
         ]
        },
        {
         "marker": {
          "color": "#9BC53D",
          "line": {
           "width": 2
          },
          "opacity": 0.8,
          "size": 24,
          "symbol": 35
         },
         "mode": "markers",
         "name": "3D experimental    ",
         "type": "scatter",
         "x": [
          "GTTCGGTCTA",
          "CCAAAACCAA",
          "AAACCACACA",
          "ACCAAACCAC",
          "ACACCAAACC",
          "AAAAACCCAC",
          "CAACACCCAA",
          "AAACCCACCA",
          "ACAACACCAC",
          "CAAAACCCCA",
          "AACCAACACC",
          "CAACACAACC",
          "ACCAACACCA",
          "CCACCAACAA",
          "ACACACACAC",
          "AACCACCACA",
          "CAACCAACCA",
          "ACACACACCA",
          "CCCCACACAA",
          "ACACCACCAC",
          "GCTGTTCGGTCTAT",
          "ACCAAACCACCAAC",
          "CAACACCAAACAAC",
          "CAAAACCCCAACAC",
          "AAACCCACCACACA",
          "CAACACCCAAACAC",
          "CCAAAACCAACAAC",
          "AAAAACCCACCCAA",
          "AAACCACCCAACAC",
          "CCCAAACCCAACCA",
          "ACCAACACCAACCA",
          "CAACAACACCACCA",
          "AACCAACACCACCA",
          "AACCACCACAAACC",
          "CAACACAACCAACC",
          "CACCACAACCACCA",
          "CCCCACACAACAAC",
          "CCACCAACAACAAC",
          "ACACACACCACACA",
          "CACACACACACACA",
          "ACCAACCAACCAAC"
         ],
         "y": [
          0.11459499999999999,
          0.1668154,
          0.1809459,
          0.2167675,
          0.2178513,
          0.23646399999999998,
          0.25115129999999997,
          0.25270349999999997,
          0.2559279,
          0.2651666,
          0.265567,
          0.2695608,
          0.2765864,
          0.2825047,
          0.384388,
          0.38659479999999996,
          0.3960894,
          0.4159347,
          0.5448523,
          0.5613146999999999,
          0.1042173,
          0.1186657,
          0.1779672,
          0.1831343,
          0.1892296,
          0.2124654,
          0.2304253,
          0.24334519999999998,
          0.2745623,
          0.2975581,
          0.31869159999999996,
          0.3242444,
          0.3629903,
          0.3659749,
          0.37630389999999997,
          0.38054,
          0.3961922,
          0.40622579999999997,
          0.4442077,
          0.4818114,
          0.5208461
         ]
        }
       ],
       "layout": {
        "height": 1200,
        "legend": {
         "font": {
          "color": "black",
          "family": "Courier",
          "size": 32
         },
         "itemwidth": 90,
         "orientation": "h",
         "x": 1,
         "xanchor": "right",
         "y": 1.02,
         "yanchor": "bottom"
        },
        "template": {
         "data": {
          "pie": [
           {
            "automargin": true,
            "type": "pie"
           }
          ],
          "scatter": [
           {
            "line": {
             "width": 3
            },
            "marker": {
             "size": 9
            },
            "type": "scatter"
           }
          ],
          "scatter3d": [
           {
            "line": {
             "width": 3
            },
            "marker": {
             "size": 9
            },
            "type": "scatter3d"
           }
          ],
          "scattergeo": [
           {
            "line": {
             "width": 3
            },
            "marker": {
             "size": 9
            },
            "type": "scattergeo"
           }
          ],
          "scattergl": [
           {
            "line": {
             "width": 3
            },
            "marker": {
             "size": 9
            },
            "type": "scattergl"
           }
          ],
          "scatterpolar": [
           {
            "line": {
             "width": 3
            },
            "marker": {
             "size": 9
            },
            "type": "scatterpolar"
           }
          ],
          "scatterpolargl": [
           {
            "line": {
             "width": 3
            },
            "marker": {
             "size": 9
            },
            "type": "scatterpolargl"
           }
          ],
          "scatterternary": [
           {
            "line": {
             "width": 3
            },
            "marker": {
             "size": 9
            },
            "type": "scatterternary"
           }
          ],
          "table": [
           {
            "cells": {
             "height": 30
            },
            "header": {
             "height": 36
            },
            "type": "table"
           }
          ]
         },
         "layout": {
          "font": {
           "size": 18
          },
          "xaxis": {
           "title": {
            "standoff": 15
           }
          },
          "yaxis": {
           "title": {
            "standoff": 15
           }
          }
         }
        },
        "width": 1200,
        "xaxis": {
         "automargin": true,
         "dtick": 1,
         "linecolor": "black",
         "linewidth": 2,
         "tickfont": {
          "size": 20
         },
         "tickmode": "linear",
         "title": {
          "text": "sequences"
         }
        },
        "yaxis": {
         "automargin": true,
         "dtick": 0.5,
         "exponentformat": "e",
         "linecolor": "black",
         "linewidth": 3,
         "minor": {
          "dtick": 3,
          "tick0": 0
         },
         "nticks": 10,
         "tick0": 1,
         "tickfont": {
          "size": 30
         },
         "tickformat": ".1f",
         "tickmode": "linear",
         "title": {
          "text": "two-dimensional hybridization rate"
         }
        }
       }
      }
     },
     "metadata": {},
     "output_type": "display_data"
    }
   ],
   "source": [
    "\n",
    "\n",
    "\n",
    "trace1 = go.Scatter(\n",
    "    x = data['sequences'], # My list of values for 'x'\n",
    "    y = data['computational']*1e-7,\n",
    "    # marker = dict(color = 'white'),\n",
    "    mode = 'markers',\n",
    "    marker_symbol=6,\n",
    "    name = '2D computed    ',\n",
    "    marker=dict(color='#6610F2'))\n",
    "\n",
    "trace2 = go.Scatter(\n",
    "    x = data3['sequences'],\n",
    "    y = data3['computational']*1e-7,\n",
    "    mode = 'markers',\n",
    "    marker_symbol = 'diamond',\n",
    "    name = '3D computed    ',\n",
    "    marker=dict(color='#CF5C36',opacity=0.80)\n",
    ")\n",
    "trace3 = go.Scatter(\n",
    "    x = data3['sequences'],\n",
    "    y = data3['experimental']*1e-7,\n",
    "    mode = 'markers',\n",
    "    marker_symbol = 35,\n",
    "    name = '3D experimental    ',\n",
    "    marker=dict(color='#9BC53D',opacity=0.80)\n",
    ")\n",
    "layout = go.Layout(\n",
    "    template='presentation',\n",
    "    xaxis_title='sequences',\n",
    "    yaxis_title='two-dimensional hybridization rate',\n",
    "    width = 1200,\n",
    "    height = 1200,\n",
    "    xaxis = dict(tickmode='linear',\n",
    "                dtick=1,\n",
    "                automargin=True,\n",
    "                linecolor='black',\n",
    "                linewidth=2),\n",
    "    yaxis = dict(tickmode = 'linear',\n",
    "                nticks=10,\n",
    "                tick0=1,\n",
    "                dtick=0.5,\n",
    "                tickformat=\".1f\",\n",
    "                linecolor='black',\n",
    "                automargin=True,\n",
    "                linewidth=3,\n",
    "                minor=dict(dtick=3,tick0=0)),\n",
    "    legend = dict(\n",
    "            # itemsizing='constant',\n",
    "            itemwidth = 90,\n",
    "            font = dict(family='Courier',\n",
    "            size=32,\n",
    "            color='black')))\n",
    "\n",
    "dati = [trace2, trace1, trace3]\n",
    "fig = go.Figure(data = dati, layout = layout)\n",
    "\n",
    "fig.update_yaxes(exponentformat=\"e\")\n",
    "\n",
    "fig.update_layout(legend=dict(\n",
    "    orientation=\"h\",\n",
    "    yanchor=\"bottom\",\n",
    "    y=1.02,\n",
    "    xanchor=\"right\",\n",
    "    x=1\n",
    "))\n",
    "\n",
    "fig.update_layout(\n",
    "yaxis = dict(\n",
    "tickfont = dict(size=30)),\n",
    "xaxis = dict(\n",
    "tickfont = dict(size=20)))\n",
    "\n",
    "fig.update_traces(marker=dict(size=24,\n",
    "                              line=dict(width=2\n",
    "                              )))\n",
    "\n",
    "fig.show()"
   ]
  },
  {
   "cell_type": "code",
   "execution_count": 9,
   "metadata": {},
   "outputs": [],
   "source": [
    "n = max(data['computational'])"
   ]
  },
  {
   "cell_type": "code",
   "execution_count": 10,
   "metadata": {},
   "outputs": [],
   "source": [
    "def upperapprox(num):\n",
    "    order = math.floor(math.log10(n))\n",
    "    return math.ceil(num/(10**order))*10**order"
   ]
  },
  {
   "cell_type": "code",
   "execution_count": 11,
   "metadata": {},
   "outputs": [
    {
     "name": "stdout",
     "output_type": "stream",
     "text": [
      "9.191116043875622\n",
      "9.991039298234453\n",
      "8.42928437305769\n",
      "3.015e+07\n"
     ]
    }
   ],
   "source": [
    "\n",
    "ratios = [twod/tred for twod, tred in zip(data['computational'], data3['computational'])]\n",
    "print(sum(ratios)/41)\n",
    "\n",
    "print(sum(ratios[:20])/20)\n",
    "print(sum(ratios[20:])/21)\n",
    "print(f\"{sum(data['computational'][:20]/len(data['computational'][:20])):.3e}\")"
   ]
  },
  {
   "cell_type": "code",
   "execution_count": 12,
   "metadata": {},
   "outputs": [],
   "source": [
    "data['ratios'] = ratios"
   ]
  },
  {
   "cell_type": "code",
   "execution_count": 13,
   "metadata": {},
   "outputs": [
    {
     "data": {
      "text/html": [
       "<div>\n",
       "<style scoped>\n",
       "    .dataframe tbody tr th:only-of-type {\n",
       "        vertical-align: middle;\n",
       "    }\n",
       "\n",
       "    .dataframe tbody tr th {\n",
       "        vertical-align: top;\n",
       "    }\n",
       "\n",
       "    .dataframe thead th {\n",
       "        text-align: right;\n",
       "    }\n",
       "</style>\n",
       "<table border=\"1\" class=\"dataframe\">\n",
       "  <thead>\n",
       "    <tr style=\"text-align: right;\">\n",
       "      <th></th>\n",
       "      <th>sequences</th>\n",
       "      <th>ratios</th>\n",
       "      <th>computational</th>\n",
       "    </tr>\n",
       "  </thead>\n",
       "  <tbody>\n",
       "    <tr>\n",
       "      <th>0</th>\n",
       "      <td>GTTCGGTCTA</td>\n",
       "      <td>12.200</td>\n",
       "      <td>2.797e+07</td>\n",
       "    </tr>\n",
       "    <tr>\n",
       "      <th>1</th>\n",
       "      <td>CCAAAACCAA</td>\n",
       "      <td>9.610</td>\n",
       "      <td>2.727e+07</td>\n",
       "    </tr>\n",
       "    <tr>\n",
       "      <th>2</th>\n",
       "      <td>AAACCACACA</td>\n",
       "      <td>9.582</td>\n",
       "      <td>2.941e+07</td>\n",
       "    </tr>\n",
       "    <tr>\n",
       "      <th>3</th>\n",
       "      <td>ACCAAACCAC</td>\n",
       "      <td>9.430</td>\n",
       "      <td>2.943e+07</td>\n",
       "    </tr>\n",
       "    <tr>\n",
       "      <th>4</th>\n",
       "      <td>ACACCAAACC</td>\n",
       "      <td>12.014</td>\n",
       "      <td>2.987e+07</td>\n",
       "    </tr>\n",
       "    <tr>\n",
       "      <th>5</th>\n",
       "      <td>AAAAACCCAC</td>\n",
       "      <td>11.100</td>\n",
       "      <td>2.715e+07</td>\n",
       "    </tr>\n",
       "    <tr>\n",
       "      <th>6</th>\n",
       "      <td>CAACACCCAA</td>\n",
       "      <td>14.016</td>\n",
       "      <td>3.044e+07</td>\n",
       "    </tr>\n",
       "    <tr>\n",
       "      <th>7</th>\n",
       "      <td>AAACCCACCA</td>\n",
       "      <td>9.894</td>\n",
       "      <td>3.098e+07</td>\n",
       "    </tr>\n",
       "    <tr>\n",
       "      <th>8</th>\n",
       "      <td>ACAACACCAC</td>\n",
       "      <td>11.872</td>\n",
       "      <td>3.078e+07</td>\n",
       "    </tr>\n",
       "    <tr>\n",
       "      <th>9</th>\n",
       "      <td>CAAAACCCCA</td>\n",
       "      <td>9.863</td>\n",
       "      <td>2.911e+07</td>\n",
       "    </tr>\n",
       "    <tr>\n",
       "      <th>10</th>\n",
       "      <td>AACCAACACC</td>\n",
       "      <td>11.995</td>\n",
       "      <td>3.016e+07</td>\n",
       "    </tr>\n",
       "    <tr>\n",
       "      <th>11</th>\n",
       "      <td>CAACACAACC</td>\n",
       "      <td>9.358</td>\n",
       "      <td>2.933e+07</td>\n",
       "    </tr>\n",
       "    <tr>\n",
       "      <th>12</th>\n",
       "      <td>ACCAACACCA</td>\n",
       "      <td>9.885</td>\n",
       "      <td>3.102e+07</td>\n",
       "    </tr>\n",
       "    <tr>\n",
       "      <th>13</th>\n",
       "      <td>CCACCAACAA</td>\n",
       "      <td>11.053</td>\n",
       "      <td>3.023e+07</td>\n",
       "    </tr>\n",
       "    <tr>\n",
       "      <th>14</th>\n",
       "      <td>ACACACACAC</td>\n",
       "      <td>6.066</td>\n",
       "      <td>3.108e+07</td>\n",
       "    </tr>\n",
       "    <tr>\n",
       "      <th>15</th>\n",
       "      <td>AACCACCACA</td>\n",
       "      <td>9.079</td>\n",
       "      <td>3.190e+07</td>\n",
       "    </tr>\n",
       "    <tr>\n",
       "      <th>16</th>\n",
       "      <td>CAACCAACCA</td>\n",
       "      <td>8.420</td>\n",
       "      <td>3.012e+07</td>\n",
       "    </tr>\n",
       "    <tr>\n",
       "      <th>17</th>\n",
       "      <td>ACACACACCA</td>\n",
       "      <td>7.339</td>\n",
       "      <td>3.152e+07</td>\n",
       "    </tr>\n",
       "    <tr>\n",
       "      <th>18</th>\n",
       "      <td>CCCCACACAA</td>\n",
       "      <td>7.962</td>\n",
       "      <td>3.230e+07</td>\n",
       "    </tr>\n",
       "    <tr>\n",
       "      <th>19</th>\n",
       "      <td>ACACCACCAC</td>\n",
       "      <td>9.084</td>\n",
       "      <td>3.295e+07</td>\n",
       "    </tr>\n",
       "    <tr>\n",
       "      <th>20</th>\n",
       "      <td>GCTGTTCGGTCTAT</td>\n",
       "      <td>13.037</td>\n",
       "      <td>2.170e+07</td>\n",
       "    </tr>\n",
       "    <tr>\n",
       "      <th>21</th>\n",
       "      <td>ACCAAACCACCAAC</td>\n",
       "      <td>7.238</td>\n",
       "      <td>2.327e+07</td>\n",
       "    </tr>\n",
       "    <tr>\n",
       "      <th>22</th>\n",
       "      <td>CAACACCAAACAAC</td>\n",
       "      <td>9.970</td>\n",
       "      <td>2.178e+07</td>\n",
       "    </tr>\n",
       "    <tr>\n",
       "      <th>23</th>\n",
       "      <td>CAAAACCCCAACAC</td>\n",
       "      <td>11.253</td>\n",
       "      <td>2.268e+07</td>\n",
       "    </tr>\n",
       "    <tr>\n",
       "      <th>24</th>\n",
       "      <td>AAACCCACCACACA</td>\n",
       "      <td>7.814</td>\n",
       "      <td>2.443e+07</td>\n",
       "    </tr>\n",
       "    <tr>\n",
       "      <th>25</th>\n",
       "      <td>CAACACCCAAACAC</td>\n",
       "      <td>10.367</td>\n",
       "      <td>2.295e+07</td>\n",
       "    </tr>\n",
       "    <tr>\n",
       "      <th>26</th>\n",
       "      <td>CCAAAACCAACAAC</td>\n",
       "      <td>9.020</td>\n",
       "      <td>2.152e+07</td>\n",
       "    </tr>\n",
       "    <tr>\n",
       "      <th>27</th>\n",
       "      <td>AAAAACCCACCCAA</td>\n",
       "      <td>8.851</td>\n",
       "      <td>2.235e+07</td>\n",
       "    </tr>\n",
       "    <tr>\n",
       "      <th>28</th>\n",
       "      <td>AAACCACCCAACAC</td>\n",
       "      <td>10.474</td>\n",
       "      <td>2.361e+07</td>\n",
       "    </tr>\n",
       "    <tr>\n",
       "      <th>29</th>\n",
       "      <td>CCCAAACCCAACCA</td>\n",
       "      <td>8.444</td>\n",
       "      <td>2.374e+07</td>\n",
       "    </tr>\n",
       "    <tr>\n",
       "      <th>30</th>\n",
       "      <td>ACCAACACCAACCA</td>\n",
       "      <td>7.567</td>\n",
       "      <td>2.363e+07</td>\n",
       "    </tr>\n",
       "    <tr>\n",
       "      <th>31</th>\n",
       "      <td>CAACAACACCACCA</td>\n",
       "      <td>8.180</td>\n",
       "      <td>2.344e+07</td>\n",
       "    </tr>\n",
       "    <tr>\n",
       "      <th>32</th>\n",
       "      <td>AACCAACACCACCA</td>\n",
       "      <td>7.559</td>\n",
       "      <td>2.399e+07</td>\n",
       "    </tr>\n",
       "    <tr>\n",
       "      <th>33</th>\n",
       "      <td>AACCACCACAAACC</td>\n",
       "      <td>8.538</td>\n",
       "      <td>2.327e+07</td>\n",
       "    </tr>\n",
       "    <tr>\n",
       "      <th>34</th>\n",
       "      <td>CAACACAACCAACC</td>\n",
       "      <td>7.580</td>\n",
       "      <td>2.292e+07</td>\n",
       "    </tr>\n",
       "    <tr>\n",
       "      <th>35</th>\n",
       "      <td>CACCACAACCACCA</td>\n",
       "      <td>7.662</td>\n",
       "      <td>2.467e+07</td>\n",
       "    </tr>\n",
       "    <tr>\n",
       "      <th>36</th>\n",
       "      <td>CCCCACACAACAAC</td>\n",
       "      <td>7.377</td>\n",
       "      <td>2.381e+07</td>\n",
       "    </tr>\n",
       "    <tr>\n",
       "      <th>37</th>\n",
       "      <td>CCACCAACAACAAC</td>\n",
       "      <td>7.684</td>\n",
       "      <td>2.266e+07</td>\n",
       "    </tr>\n",
       "    <tr>\n",
       "      <th>38</th>\n",
       "      <td>ACACACACCACACA</td>\n",
       "      <td>5.474</td>\n",
       "      <td>2.466e+07</td>\n",
       "    </tr>\n",
       "    <tr>\n",
       "      <th>39</th>\n",
       "      <td>CACACACACACACA</td>\n",
       "      <td>5.715</td>\n",
       "      <td>2.420e+07</td>\n",
       "    </tr>\n",
       "    <tr>\n",
       "      <th>40</th>\n",
       "      <td>ACCAACCAACCAAC</td>\n",
       "      <td>7.211</td>\n",
       "      <td>2.326e+07</td>\n",
       "    </tr>\n",
       "  </tbody>\n",
       "</table>\n",
       "</div>"
      ],
      "text/plain": [
       "         sequences  ratios  computational\n",
       "0       GTTCGGTCTA  12.200      2.797e+07\n",
       "1       CCAAAACCAA   9.610      2.727e+07\n",
       "2       AAACCACACA   9.582      2.941e+07\n",
       "3       ACCAAACCAC   9.430      2.943e+07\n",
       "4       ACACCAAACC  12.014      2.987e+07\n",
       "5       AAAAACCCAC  11.100      2.715e+07\n",
       "6       CAACACCCAA  14.016      3.044e+07\n",
       "7       AAACCCACCA   9.894      3.098e+07\n",
       "8       ACAACACCAC  11.872      3.078e+07\n",
       "9       CAAAACCCCA   9.863      2.911e+07\n",
       "10      AACCAACACC  11.995      3.016e+07\n",
       "11      CAACACAACC   9.358      2.933e+07\n",
       "12      ACCAACACCA   9.885      3.102e+07\n",
       "13      CCACCAACAA  11.053      3.023e+07\n",
       "14      ACACACACAC   6.066      3.108e+07\n",
       "15      AACCACCACA   9.079      3.190e+07\n",
       "16      CAACCAACCA   8.420      3.012e+07\n",
       "17      ACACACACCA   7.339      3.152e+07\n",
       "18      CCCCACACAA   7.962      3.230e+07\n",
       "19      ACACCACCAC   9.084      3.295e+07\n",
       "20  GCTGTTCGGTCTAT  13.037      2.170e+07\n",
       "21  ACCAAACCACCAAC   7.238      2.327e+07\n",
       "22  CAACACCAAACAAC   9.970      2.178e+07\n",
       "23  CAAAACCCCAACAC  11.253      2.268e+07\n",
       "24  AAACCCACCACACA   7.814      2.443e+07\n",
       "25  CAACACCCAAACAC  10.367      2.295e+07\n",
       "26  CCAAAACCAACAAC   9.020      2.152e+07\n",
       "27  AAAAACCCACCCAA   8.851      2.235e+07\n",
       "28  AAACCACCCAACAC  10.474      2.361e+07\n",
       "29  CCCAAACCCAACCA   8.444      2.374e+07\n",
       "30  ACCAACACCAACCA   7.567      2.363e+07\n",
       "31  CAACAACACCACCA   8.180      2.344e+07\n",
       "32  AACCAACACCACCA   7.559      2.399e+07\n",
       "33  AACCACCACAAACC   8.538      2.327e+07\n",
       "34  CAACACAACCAACC   7.580      2.292e+07\n",
       "35  CACCACAACCACCA   7.662      2.467e+07\n",
       "36  CCCCACACAACAAC   7.377      2.381e+07\n",
       "37  CCACCAACAACAAC   7.684      2.266e+07\n",
       "38  ACACACACCACACA   5.474      2.466e+07\n",
       "39  CACACACACACACA   5.715      2.420e+07\n",
       "40  ACCAACCAACCAAC   7.211      2.326e+07"
      ]
     },
     "execution_count": 13,
     "metadata": {},
     "output_type": "execute_result"
    }
   ],
   "source": [
    "data[['sequences','ratios','computational']]"
   ]
  }
 ],
 "metadata": {
  "kernelspec": {
   "display_name": "hdna",
   "language": "python",
   "name": "python3"
  },
  "language_info": {
   "codemirror_mode": {
    "name": "ipython",
    "version": 3
   },
   "file_extension": ".py",
   "mimetype": "text/x-python",
   "name": "python",
   "nbconvert_exporter": "python",
   "pygments_lexer": "ipython3",
   "version": "3.10.9"
  },
  "orig_nbformat": 4,
  "vscode": {
   "interpreter": {
    "hash": "13f02c433cbffcd00bbcbbfeff349f4b7c28e9023d8fb9f65ab93bb104997abd"
   }
  }
 },
 "nbformat": 4,
 "nbformat_minor": 2
}
