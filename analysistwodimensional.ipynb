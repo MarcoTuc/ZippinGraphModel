{
 "cells": [
  {
   "cell_type": "code",
   "execution_count": 1,
   "metadata": {},
   "outputs": [],
   "source": [
    "%load_ext autoreload\n",
    "%autoreload 2"
   ]
  },
  {
   "cell_type": "code",
   "execution_count": 2,
   "metadata": {},
   "outputs": [],
   "source": [
    "import pandas as pd \n",
    "import math\n",
    "from conf import *\n",
    "\n",
    "pd.set_option('display.float_format', lambda x: '%.3e' % x if float(x) > 5000 or float(x) < 0.01 and float(x) != 0 else ('%d' % x if x.is_integer() else '%.3f' % x))"
   ]
  },
  {
   "cell_type": "code",
   "execution_count": 3,
   "metadata": {},
   "outputs": [],
   "source": [
    "DIR = '/home/marco/Desktop/HDNAback/hDNA/results/PLZTWODPORCODIO/run_1'\n",
    "\n",
    "# hyperp = pd.read_csv(f'{DIR}/hyperparameters.csv'); hyperp['values'][:-1].map(float)\n",
    "data = pd.read_csv(f'{DIR}/simulationdata.csv'); \n",
    "data['index'] = data.index\n",
    "try: data.drop('seq.1', axis=1, inplace=True)\n",
    "except KeyError: pass\n",
    "try: data.drop('Unnamed: 0', axis=1, inplace=True)\n",
    "except KeyError: pass"
   ]
  },
  {
   "cell_type": "code",
   "execution_count": 4,
   "metadata": {},
   "outputs": [],
   "source": [
    "DIR = '/home/marco/Desktop/HDNAback/hDNA/results/sumofinchandpk51/run_1'\n",
    "\n",
    "# hyperp = pd.read_csv(f'{DIR}/hyperparameters.csv'); hyperp['values'][:-1].map(float)\n",
    "data3 = pd.read_csv(f'{DIR}/simulationdata.csv'); \n",
    "data3['index'] = data3.index\n",
    "try: data3.drop('sequences.1', axis=1, inplace=True)\n",
    "except KeyError: pass\n",
    "try: data3.drop('Unnamed: 5', axis=1, inplace=True)\n",
    "except KeyError: pass"
   ]
  },
  {
   "cell_type": "code",
   "execution_count": 5,
   "metadata": {},
   "outputs": [
    {
     "data": {
      "application/vnd.plotly.v1+json": {
       "config": {
        "plotlyServerURL": "https://plot.ly"
       },
       "data": [
        {
         "hovertemplate": "length=10<br>computational=%{x}<br>sequences=%{y}<extra></extra>",
         "legendgroup": "10",
         "marker": {
          "color": "#636efa",
          "line": {
           "color": "black",
           "width": 2
          },
          "size": 16,
          "symbol": "circle"
         },
         "mode": "markers",
         "name": "10",
         "orientation": "h",
         "showlegend": true,
         "type": "scatter",
         "x": [
          37855766.97476041,
          36026573.69389015,
          40642071.10872442,
          39887069.438143305,
          40003004.60078351,
          36360211.962132834,
          42258779.38778005,
          42740631.5305082,
          42113244.985147215,
          39058914.12233114,
          40964502.00998451,
          39925718.23789495,
          42049756.05636085,
          40676309.10455472,
          43221810.580856,
          44032874.72312682,
          41056473.46460399,
          43551943.01524371,
          44360186.10894076,
          46349267.60618474
         ],
         "xaxis": "x",
         "y": [
          "GTTCGGTCTA",
          "CCAAAACCAA",
          "AAACCACACA",
          "ACCAAACCAC",
          "ACACCAAACC",
          "AAAAACCCAC",
          "CAACACCCAA",
          "AAACCCACCA",
          "ACAACACCAC",
          "CAAAACCCCA",
          "AACCAACACC",
          "CAACACAACC",
          "ACCAACACCA",
          "CCACCAACAA",
          "ACACACACAC",
          "AACCACCACA",
          "CAACCAACCA",
          "ACACACACCA",
          "CCCCACACAA",
          "ACACCACCAC"
         ],
         "yaxis": "y"
        },
        {
         "hovertemplate": "length=14<br>computational=%{x}<br>sequences=%{y}<extra></extra>",
         "legendgroup": "14",
         "marker": {
          "color": "#EF553B",
          "line": {
           "color": "black",
           "width": 2
          },
          "size": 16,
          "symbol": "circle"
         },
         "mode": "markers",
         "name": "14",
         "orientation": "h",
         "showlegend": true,
         "type": "scatter",
         "x": [
          27239871.756680533,
          29434651.11146899,
          27311767.63224704,
          28525150.76892109,
          31241584.890084703,
          28769057.21744064,
          26803857.09487937,
          28497883.935545288,
          30229645.76961183,
          29988944.301986247,
          30466537.44236105,
          29961243.84568957,
          30561322.09925361,
          29383034.162963822,
          29042653.762308963,
          31382894.22874695,
          30411695.898118965,
          28429980.29799613,
          31900088.97078596,
          31003573.03100832,
          29343634.834473614
         ],
         "xaxis": "x",
         "y": [
          "GCTGTTCGGTCTAT",
          "ACCAAACCACCAAC",
          "CAACACCAAACAAC",
          "CAAAACCCCAACAC",
          "AAACCCACCACACA",
          "CAACACCCAAACAC",
          "CCAAAACCAACAAC",
          "AAAAACCCACCCAA",
          "AAACCACCCAACAC",
          "CCCAAACCCAACCA",
          "ACCAACACCAACCA",
          "CAACAACACCACCA",
          "AACCAACACCACCA",
          "AACCACCACAAACC",
          "CAACACAACCAACC",
          "CACCACAACCACCA",
          "CCCCACACAACAAC",
          "CCACCAACAACAAC",
          "ACACACACCACACA",
          "CACACACACACACA",
          "ACCAACCAACCAAC"
         ],
         "yaxis": "y"
        }
       ],
       "layout": {
        "height": 1000,
        "legend": {
         "font": {
          "color": "black",
          "family": "Courier",
          "size": 32
         },
         "title": {
          "text": "length"
         },
         "tracegroupgap": 0
        },
        "margin": {
         "t": 60
        },
        "scattermode": "group",
        "template": {
         "data": {
          "pie": [
           {
            "automargin": true,
            "type": "pie"
           }
          ],
          "scatter": [
           {
            "line": {
             "width": 3
            },
            "marker": {
             "size": 9
            },
            "type": "scatter"
           }
          ],
          "scatter3d": [
           {
            "line": {
             "width": 3
            },
            "marker": {
             "size": 9
            },
            "type": "scatter3d"
           }
          ],
          "scattergeo": [
           {
            "line": {
             "width": 3
            },
            "marker": {
             "size": 9
            },
            "type": "scattergeo"
           }
          ],
          "scattergl": [
           {
            "line": {
             "width": 3
            },
            "marker": {
             "size": 9
            },
            "type": "scattergl"
           }
          ],
          "scatterpolar": [
           {
            "line": {
             "width": 3
            },
            "marker": {
             "size": 9
            },
            "type": "scatterpolar"
           }
          ],
          "scatterpolargl": [
           {
            "line": {
             "width": 3
            },
            "marker": {
             "size": 9
            },
            "type": "scatterpolargl"
           }
          ],
          "scatterternary": [
           {
            "line": {
             "width": 3
            },
            "marker": {
             "size": 9
            },
            "type": "scatterternary"
           }
          ],
          "table": [
           {
            "cells": {
             "height": 30
            },
            "header": {
             "height": 36
            },
            "type": "table"
           }
          ]
         },
         "layout": {
          "font": {
           "size": 18
          },
          "xaxis": {
           "title": {
            "standoff": 15
           }
          },
          "yaxis": {
           "title": {
            "standoff": 15
           }
          }
         }
        },
        "width": 1200,
        "xaxis": {
         "anchor": "y",
         "automargin": true,
         "domain": [
          0,
          1
         ],
         "dtick": 1000000,
         "linecolor": "black",
         "linewidth": 3,
         "minor": {
          "dtick": 3,
          "tick0": 0
         },
         "nticks": 10,
         "showexponent": "none",
         "tick0": 0,
         "tickformat": ".1e",
         "tickmode": "linear",
         "title": {
          "text": "Two-dimensional Hybridization Rates"
         }
        },
        "yaxis": {
         "anchor": "x",
         "automargin": true,
         "autorange": "reversed",
         "domain": [
          0,
          1
         ],
         "dtick": 1,
         "linecolor": "black",
         "linewidth": 2,
         "tickmode": "linear",
         "title": {
          "text": "sequences"
         }
        }
       }
      }
     },
     "metadata": {},
     "output_type": "display_data"
    }
   ],
   "source": [
    "import plotly.express as px \n",
    "\n",
    "data['length'] = [str(len(d)) for d in data['sequences']]\n",
    "fig = px.scatter(data,y='sequences', x='computational', color='length')\n",
    "fig.update_layout(width = 1200,\n",
    "                  height = 1000,\n",
    "                  template = 'presentation',\n",
    "                  scattermode='group',\n",
    "                  xaxis_title=\"Two-dimensional Hybridization Rates\",\n",
    "                  xaxis=dict(tickmode = 'linear',\n",
    "                            #  tickvals = [2e7,2.5e7,3e7,3.5e7,4e7,4.5e7,5e7],\n",
    "                             nticks=10,\n",
    "                             tick0=0,\n",
    "                             dtick=1e6,\n",
    "                             tickformat=\".1e\",\n",
    "                             linecolor='black',\n",
    "                             automargin=True,\n",
    "                             linewidth=3,\n",
    "                             minor=dict(dtick=3,tick0=0)),\n",
    "                  yaxis=dict(tickmode='linear',\n",
    "                             dtick=1,\n",
    "                             autorange='reversed',\n",
    "                             automargin=True,\n",
    "                             linecolor='black',\n",
    "                             linewidth=2),\n",
    "                  legend = dict(\n",
    "                            font = dict(family='Courier',\n",
    "                                        size=32,\n",
    "                                        color='black')))\n",
    "\n",
    "fig.update_xaxes(showexponent='none')\n",
    "\n",
    "fig.update_traces(marker=dict(size=16,\n",
    "                              line=dict(width=2,\n",
    "                                        color='black'\n",
    "                              )))\n",
    "fig.show()"
   ]
  },
  {
   "cell_type": "code",
   "execution_count": 6,
   "metadata": {},
   "outputs": [
    {
     "data": {
      "application/vnd.plotly.v1+json": {
       "config": {
        "plotlyServerURL": "https://plot.ly"
       },
       "data": [
        {
         "hovertemplate": "length=10<br>sequences=%{x}<br>computational=%{y}<extra></extra>",
         "legendgroup": "10",
         "marker": {
          "color": "#636efa",
          "line": {
           "color": "black",
           "width": 2
          },
          "size": 16,
          "symbol": "circle"
         },
         "mode": "markers",
         "name": "10",
         "orientation": "v",
         "showlegend": true,
         "type": "scatter",
         "x": [
          "GTTCGGTCTA",
          "CCAAAACCAA",
          "AAACCACACA",
          "ACCAAACCAC",
          "ACACCAAACC",
          "AAAAACCCAC",
          "CAACACCCAA",
          "AAACCCACCA",
          "ACAACACCAC",
          "CAAAACCCCA",
          "AACCAACACC",
          "CAACACAACC",
          "ACCAACACCA",
          "CCACCAACAA",
          "ACACACACAC",
          "AACCACCACA",
          "CAACCAACCA",
          "ACACACACCA",
          "CCCCACACAA",
          "ACACCACCAC"
         ],
         "xaxis": "x",
         "y": [
          37855766.97476041,
          36026573.69389015,
          40642071.10872442,
          39887069.438143305,
          40003004.60078351,
          36360211.962132834,
          42258779.38778005,
          42740631.5305082,
          42113244.985147215,
          39058914.12233114,
          40964502.00998451,
          39925718.23789495,
          42049756.05636085,
          40676309.10455472,
          43221810.580856,
          44032874.72312682,
          41056473.46460399,
          43551943.01524371,
          44360186.10894076,
          46349267.60618474
         ],
         "yaxis": "y"
        },
        {
         "hovertemplate": "length=14<br>sequences=%{x}<br>computational=%{y}<extra></extra>",
         "legendgroup": "14",
         "marker": {
          "color": "#EF553B",
          "line": {
           "color": "black",
           "width": 2
          },
          "size": 16,
          "symbol": "circle"
         },
         "mode": "markers",
         "name": "14",
         "orientation": "v",
         "showlegend": true,
         "type": "scatter",
         "x": [
          "GCTGTTCGGTCTAT",
          "ACCAAACCACCAAC",
          "CAACACCAAACAAC",
          "CAAAACCCCAACAC",
          "AAACCCACCACACA",
          "CAACACCCAAACAC",
          "CCAAAACCAACAAC",
          "AAAAACCCACCCAA",
          "AAACCACCCAACAC",
          "CCCAAACCCAACCA",
          "ACCAACACCAACCA",
          "CAACAACACCACCA",
          "AACCAACACCACCA",
          "AACCACCACAAACC",
          "CAACACAACCAACC",
          "CACCACAACCACCA",
          "CCCCACACAACAAC",
          "CCACCAACAACAAC",
          "ACACACACCACACA",
          "CACACACACACACA",
          "ACCAACCAACCAAC"
         ],
         "xaxis": "x",
         "y": [
          27239871.756680533,
          29434651.11146899,
          27311767.63224704,
          28525150.76892109,
          31241584.890084703,
          28769057.21744064,
          26803857.09487937,
          28497883.935545288,
          30229645.76961183,
          29988944.301986247,
          30466537.44236105,
          29961243.84568957,
          30561322.09925361,
          29383034.162963822,
          29042653.762308963,
          31382894.22874695,
          30411695.898118965,
          28429980.29799613,
          31900088.97078596,
          31003573.03100832,
          29343634.834473614
         ],
         "yaxis": "y"
        }
       ],
       "layout": {
        "height": 1000,
        "legend": {
         "font": {
          "color": "black",
          "family": "Courier",
          "size": 32
         },
         "title": {
          "text": "length"
         },
         "tracegroupgap": 0
        },
        "margin": {
         "t": 60
        },
        "scattermode": "group",
        "template": {
         "data": {
          "pie": [
           {
            "automargin": true,
            "type": "pie"
           }
          ],
          "scatter": [
           {
            "line": {
             "width": 3
            },
            "marker": {
             "size": 9
            },
            "type": "scatter"
           }
          ],
          "scatter3d": [
           {
            "line": {
             "width": 3
            },
            "marker": {
             "size": 9
            },
            "type": "scatter3d"
           }
          ],
          "scattergeo": [
           {
            "line": {
             "width": 3
            },
            "marker": {
             "size": 9
            },
            "type": "scattergeo"
           }
          ],
          "scattergl": [
           {
            "line": {
             "width": 3
            },
            "marker": {
             "size": 9
            },
            "type": "scattergl"
           }
          ],
          "scatterpolar": [
           {
            "line": {
             "width": 3
            },
            "marker": {
             "size": 9
            },
            "type": "scatterpolar"
           }
          ],
          "scatterpolargl": [
           {
            "line": {
             "width": 3
            },
            "marker": {
             "size": 9
            },
            "type": "scatterpolargl"
           }
          ],
          "scatterternary": [
           {
            "line": {
             "width": 3
            },
            "marker": {
             "size": 9
            },
            "type": "scatterternary"
           }
          ],
          "table": [
           {
            "cells": {
             "height": 30
            },
            "header": {
             "height": 36
            },
            "type": "table"
           }
          ]
         },
         "layout": {
          "font": {
           "size": 18
          },
          "xaxis": {
           "title": {
            "standoff": 15
           }
          },
          "yaxis": {
           "title": {
            "standoff": 15
           }
          }
         }
        },
        "width": 1200,
        "xaxis": {
         "anchor": "y",
         "automargin": true,
         "domain": [
          0,
          1
         ],
         "dtick": 1,
         "linecolor": "black",
         "linewidth": 2,
         "tickmode": "linear",
         "title": {
          "text": "sequences"
         }
        },
        "yaxis": {
         "anchor": "x",
         "automargin": true,
         "domain": [
          0,
          1
         ],
         "dtick": 1000000,
         "linecolor": "black",
         "linewidth": 3,
         "minor": {
          "dtick": 3,
          "tick0": 0
         },
         "nticks": 10,
         "showexponent": "none",
         "tick0": 0,
         "tickformat": ".1e",
         "tickmode": "linear",
         "title": {
          "text": "Two-dimensional Hybridization Rates"
         }
        }
       }
      }
     },
     "metadata": {},
     "output_type": "display_data"
    }
   ],
   "source": [
    "import plotly.express as px \n",
    "\n",
    "data['length'] = [str(len(d)) for d in data['sequences']]\n",
    "fig = px.scatter(data,x='sequences', y='computational', color='length')\n",
    "fig.update_layout(width = 1200,\n",
    "                  height = 1000,\n",
    "                  template = 'presentation',\n",
    "                  scattermode='group',\n",
    "                  yaxis_title=\"Two-dimensional Hybridization Rates\",\n",
    "                  yaxis=dict(tickmode = 'linear',\n",
    "                            #  tickvals = [2e7,2.5e7,3e7,3.5e7,4e7,4.5e7,5e7],\n",
    "                             nticks=10,\n",
    "                             tick0=0,\n",
    "                             dtick=1e6,\n",
    "                             tickformat=\".1e\",\n",
    "                             linecolor='black',\n",
    "                             automargin=True,\n",
    "                             linewidth=3,\n",
    "                             minor=dict(dtick=3,tick0=0)),\n",
    "                  xaxis=dict(tickmode='linear',\n",
    "                             dtick=1,\n",
    "                            #  autorange='reversed',\n",
    "                             automargin=True,\n",
    "                             linecolor='black',\n",
    "                             linewidth=2),\n",
    "                  legend = dict(\n",
    "                            font = dict(family='Courier',\n",
    "                                        size=32,\n",
    "                                        color='black')))\n",
    "\n",
    "fig.update_yaxes(showexponent='none')\n",
    "\n",
    "fig.update_traces(marker=dict(size=16,\n",
    "                              line=dict(width=2,\n",
    "                                        color='black'\n",
    "                              )))\n",
    "fig.show()"
   ]
  },
  {
   "cell_type": "code",
   "execution_count": 7,
   "metadata": {},
   "outputs": [],
   "source": [
    "from plotly import graph_objects as go"
   ]
  },
  {
   "cell_type": "code",
   "execution_count": 8,
   "metadata": {},
   "outputs": [
    {
     "data": {
      "application/vnd.plotly.v1+json": {
       "config": {
        "plotlyServerURL": "https://plot.ly"
       },
       "data": [
        {
         "marker": {
          "color": "#CF5C36",
          "line": {
           "width": 2
          },
          "opacity": 0.8,
          "size": 24,
          "symbol": "diamond"
         },
         "mode": "markers",
         "name": "3D computed    ",
         "type": "scatter",
         "x": [
          "GTTCGGTCTA",
          "CCAAAACCAA",
          "AAACCACACA",
          "ACCAAACCAC",
          "ACACCAAACC",
          "AAAAACCCAC",
          "CAACACCCAA",
          "AAACCCACCA",
          "ACAACACCAC",
          "CAAAACCCCA",
          "AACCAACACC",
          "CAACACAACC",
          "ACCAACACCA",
          "CCACCAACAA",
          "ACACACACAC",
          "AACCACCACA",
          "CAACCAACCA",
          "ACACACACCA",
          "CCCCACACAA",
          "ACACCACCAC",
          "GCTGTTCGGTCTAT",
          "ACCAAACCACCAAC",
          "CAACACCAAACAAC",
          "CAAAACCCCAACAC",
          "AAACCCACCACACA",
          "CAACACCCAAACAC",
          "CCAAAACCAACAAC",
          "AAAAACCCACCCAA",
          "AAACCACCCAACAC",
          "CCCAAACCCAACCA",
          "ACCAACACCAACCA",
          "CAACAACACCACCA",
          "AACCAACACCACCA",
          "AACCACCACAAACC",
          "CAACACAACCAACC",
          "CACCACAACCACCA",
          "CCCCACACAACAAC",
          "CCACCAACAACAAC",
          "ACACACACCACACA",
          "CACACACACACACA",
          "ACCAACCAACCAAC"
         ],
         "y": [
          0.2292829187885385,
          0.28375129587224346,
          0.30695166990980477,
          0.3121290609459927,
          0.24862789147797823,
          0.24464093047358978,
          0.21715893989054072,
          0.3130774066075434,
          0.2592744596281676,
          0.29515162046534693,
          0.2514156691237031,
          0.31344542410589477,
          0.31384259487366817,
          0.2734784032497446,
          0.5124496548912347,
          0.35132729597940293,
          0.3576877342500084,
          0.42940867996382376,
          0.4056592373244324,
          0.3627368042903997,
          0.16647046765274784,
          0.32152294802681763,
          0.21843894664594454,
          0.20155495465980758,
          0.31260309921770907,
          0.2214084010778704,
          0.23856002931182538,
          0.25250652801975887,
          0.2253900227954424,
          0.2811021522264709,
          0.31223299585567943,
          0.2865860190452316,
          0.31732489156402505,
          0.2725490354785058,
          0.3024451088978774,
          0.3219915750963311,
          0.3226847889369344,
          0.29485847688878986,
          0.45046418318552156,
          0.4234638902273256,
          0.32258849462499006
         ]
        },
        {
         "marker": {
          "color": "#6610F2",
          "line": {
           "width": 2
          },
          "size": 24,
          "symbol": 6
         },
         "mode": "markers",
         "name": "2D computed    ",
         "type": "scatter",
         "x": [
          "GTTCGGTCTA",
          "CCAAAACCAA",
          "AAACCACACA",
          "ACCAAACCAC",
          "ACACCAAACC",
          "AAAAACCCAC",
          "CAACACCCAA",
          "AAACCCACCA",
          "ACAACACCAC",
          "CAAAACCCCA",
          "AACCAACACC",
          "CAACACAACC",
          "ACCAACACCA",
          "CCACCAACAA",
          "ACACACACAC",
          "AACCACCACA",
          "CAACCAACCA",
          "ACACACACCA",
          "CCCCACACAA",
          "ACACCACCAC",
          "GCTGTTCGGTCTAT",
          "ACCAAACCACCAAC",
          "CAACACCAAACAAC",
          "CAAAACCCCAACAC",
          "AAACCCACCACACA",
          "CAACACCCAAACAC",
          "CCAAAACCAACAAC",
          "AAAAACCCACCCAA",
          "AAACCACCCAACAC",
          "CCCAAACCCAACCA",
          "ACCAACACCAACCA",
          "CAACAACACCACCA",
          "AACCAACACCACCA",
          "AACCACCACAAACC",
          "CAACACAACCAACC",
          "CACCACAACCACCA",
          "CCCCACACAACAAC",
          "CCACCAACAACAAC",
          "ACACACACCACACA",
          "CACACACACACACA",
          "ACCAACCAACCAAC"
         ],
         "y": [
          3.785576697476041,
          3.6026573693890147,
          4.0642071108724425,
          3.9887069438143303,
          4.000300460078351,
          3.6360211962132833,
          4.225877938778004,
          4.27406315305082,
          4.211324498514721,
          3.905891412233114,
          4.096450200998451,
          3.992571823789495,
          4.2049756056360845,
          4.067630910455472,
          4.3221810580856,
          4.403287472312682,
          4.105647346460398,
          4.355194301524371,
          4.436018610894076,
          4.634926760618474,
          2.723987175668053,
          2.943465111146899,
          2.7311767632247035,
          2.8525150768921086,
          3.12415848900847,
          2.876905721744064,
          2.680385709487937,
          2.8497883935545287,
          3.0229645769611833,
          2.9988944301986247,
          3.046653744236105,
          2.9961243845689567,
          3.056132209925361,
          2.938303416296382,
          2.9042653762308963,
          3.1382894228746947,
          3.0411695898118962,
          2.8429980297996127,
          3.190008897078596,
          3.1003573031008322,
          2.934363483447361
         ]
        },
        {
         "marker": {
          "color": "#9BC53D",
          "line": {
           "width": 2
          },
          "opacity": 0.8,
          "size": 24,
          "symbol": 35
         },
         "mode": "markers",
         "name": "3D experimental    ",
         "type": "scatter",
         "x": [
          "GTTCGGTCTA",
          "CCAAAACCAA",
          "AAACCACACA",
          "ACCAAACCAC",
          "ACACCAAACC",
          "AAAAACCCAC",
          "CAACACCCAA",
          "AAACCCACCA",
          "ACAACACCAC",
          "CAAAACCCCA",
          "AACCAACACC",
          "CAACACAACC",
          "ACCAACACCA",
          "CCACCAACAA",
          "ACACACACAC",
          "AACCACCACA",
          "CAACCAACCA",
          "ACACACACCA",
          "CCCCACACAA",
          "ACACCACCAC",
          "GCTGTTCGGTCTAT",
          "ACCAAACCACCAAC",
          "CAACACCAAACAAC",
          "CAAAACCCCAACAC",
          "AAACCCACCACACA",
          "CAACACCCAAACAC",
          "CCAAAACCAACAAC",
          "AAAAACCCACCCAA",
          "AAACCACCCAACAC",
          "CCCAAACCCAACCA",
          "ACCAACACCAACCA",
          "CAACAACACCACCA",
          "AACCAACACCACCA",
          "AACCACCACAAACC",
          "CAACACAACCAACC",
          "CACCACAACCACCA",
          "CCCCACACAACAAC",
          "CCACCAACAACAAC",
          "ACACACACCACACA",
          "CACACACACACACA",
          "ACCAACCAACCAAC"
         ],
         "y": [
          0.11459499999999999,
          0.1668154,
          0.1809459,
          0.2167675,
          0.2178513,
          0.23646399999999998,
          0.25115129999999997,
          0.25270349999999997,
          0.2559279,
          0.2651666,
          0.265567,
          0.2695608,
          0.2765864,
          0.2825047,
          0.384388,
          0.38659479999999996,
          0.3960894,
          0.4159347,
          0.5448523,
          0.5613146999999999,
          0.1042173,
          0.1186657,
          0.1779672,
          0.1831343,
          0.1892296,
          0.2124654,
          0.2304253,
          0.24334519999999998,
          0.2745623,
          0.2975581,
          0.31869159999999996,
          0.3242444,
          0.3629903,
          0.3659749,
          0.37630389999999997,
          0.38054,
          0.3961922,
          0.40622579999999997,
          0.4442077,
          0.4818114,
          0.5208461
         ]
        }
       ],
       "layout": {
        "height": 1200,
        "legend": {
         "font": {
          "color": "black",
          "family": "Courier",
          "size": 32
         },
         "itemwidth": 90,
         "orientation": "h",
         "x": 1,
         "xanchor": "right",
         "y": 1.02,
         "yanchor": "bottom"
        },
        "template": {
         "data": {
          "pie": [
           {
            "automargin": true,
            "type": "pie"
           }
          ],
          "scatter": [
           {
            "line": {
             "width": 3
            },
            "marker": {
             "size": 9
            },
            "type": "scatter"
           }
          ],
          "scatter3d": [
           {
            "line": {
             "width": 3
            },
            "marker": {
             "size": 9
            },
            "type": "scatter3d"
           }
          ],
          "scattergeo": [
           {
            "line": {
             "width": 3
            },
            "marker": {
             "size": 9
            },
            "type": "scattergeo"
           }
          ],
          "scattergl": [
           {
            "line": {
             "width": 3
            },
            "marker": {
             "size": 9
            },
            "type": "scattergl"
           }
          ],
          "scatterpolar": [
           {
            "line": {
             "width": 3
            },
            "marker": {
             "size": 9
            },
            "type": "scatterpolar"
           }
          ],
          "scatterpolargl": [
           {
            "line": {
             "width": 3
            },
            "marker": {
             "size": 9
            },
            "type": "scatterpolargl"
           }
          ],
          "scatterternary": [
           {
            "line": {
             "width": 3
            },
            "marker": {
             "size": 9
            },
            "type": "scatterternary"
           }
          ],
          "table": [
           {
            "cells": {
             "height": 30
            },
            "header": {
             "height": 36
            },
            "type": "table"
           }
          ]
         },
         "layout": {
          "font": {
           "size": 18
          },
          "xaxis": {
           "title": {
            "standoff": 15
           }
          },
          "yaxis": {
           "title": {
            "standoff": 15
           }
          }
         }
        },
        "width": 1200,
        "xaxis": {
         "automargin": true,
         "dtick": 1,
         "linecolor": "black",
         "linewidth": 2,
         "tickfont": {
          "size": 20
         },
         "tickmode": "linear",
         "title": {
          "text": "sequences"
         }
        },
        "yaxis": {
         "automargin": true,
         "dtick": 0.5,
         "exponentformat": "e",
         "linecolor": "black",
         "linewidth": 3,
         "minor": {
          "dtick": 3,
          "tick0": 0
         },
         "nticks": 10,
         "tick0": 1,
         "tickfont": {
          "size": 30
         },
         "tickformat": ".1f",
         "tickmode": "linear",
         "title": {
          "text": "two-dimensional hybridization rate"
         }
        }
       }
      }
     },
     "metadata": {},
     "output_type": "display_data"
    }
   ],
   "source": [
    "\n",
    "\n",
    "\n",
    "trace1 = go.Scatter(\n",
    "    x = data['sequences'], # My list of values for 'x'\n",
    "    y = data['computational']*1e-7,\n",
    "    # marker = dict(color = 'white'),\n",
    "    mode = 'markers',\n",
    "    marker_symbol=6,\n",
    "    name = '2D computed    ',\n",
    "    marker=dict(color='#6610F2'))\n",
    "\n",
    "trace2 = go.Scatter(\n",
    "    x = data3['sequences'],\n",
    "    y = data3['computational']*1e-7,\n",
    "    mode = 'markers',\n",
    "    marker_symbol = 'diamond',\n",
    "    name = '3D computed    ',\n",
    "    marker=dict(color='#CF5C36',opacity=0.80)\n",
    ")\n",
    "trace3 = go.Scatter(\n",
    "    x = data3['sequences'],\n",
    "    y = data3['experimental']*1e-7,\n",
    "    mode = 'markers',\n",
    "    marker_symbol = 35,\n",
    "    name = '3D experimental    ',\n",
    "    marker=dict(color='#9BC53D',opacity=0.80)\n",
    ")\n",
    "layout = go.Layout(\n",
    "    template='presentation',\n",
    "    xaxis_title='sequences',\n",
    "    yaxis_title='two-dimensional hybridization rate',\n",
    "    width = 1200,\n",
    "    height = 1200,\n",
    "    xaxis = dict(tickmode='linear',\n",
    "                dtick=1,\n",
    "                automargin=True,\n",
    "                linecolor='black',\n",
    "                linewidth=2),\n",
    "    yaxis = dict(tickmode = 'linear',\n",
    "                nticks=10,\n",
    "                tick0=1,\n",
    "                dtick=0.5,\n",
    "                tickformat=\".1f\",\n",
    "                linecolor='black',\n",
    "                automargin=True,\n",
    "                linewidth=3,\n",
    "                minor=dict(dtick=3,tick0=0)),\n",
    "    legend = dict(\n",
    "            # itemsizing='constant',\n",
    "            itemwidth = 90,\n",
    "            font = dict(family='Courier',\n",
    "            size=32,\n",
    "            color='black')))\n",
    "\n",
    "dati = [trace2, trace1, trace3]\n",
    "fig = go.Figure(data = dati, layout = layout)\n",
    "\n",
    "fig.update_yaxes(exponentformat=\"e\")\n",
    "\n",
    "fig.update_layout(legend=dict(\n",
    "    orientation=\"h\",\n",
    "    yanchor=\"bottom\",\n",
    "    y=1.02,\n",
    "    xanchor=\"right\",\n",
    "    x=1\n",
    "))\n",
    "\n",
    "fig.update_layout(\n",
    "yaxis = dict(\n",
    "tickfont = dict(size=30)),\n",
    "xaxis = dict(\n",
    "tickfont = dict(size=20)))\n",
    "\n",
    "fig.update_traces(marker=dict(size=24,\n",
    "                              line=dict(width=2\n",
    "                              )))\n",
    "\n",
    "fig.show()"
   ]
  },
  {
   "cell_type": "code",
   "execution_count": 9,
   "metadata": {},
   "outputs": [],
   "source": [
    "n = max(data['computational'])"
   ]
  },
  {
   "cell_type": "code",
   "execution_count": 10,
   "metadata": {},
   "outputs": [],
   "source": [
    "def upperapprox(num):\n",
    "    order = math.floor(math.log10(n))\n",
    "    return math.ceil(num/(10**order))*10**order"
   ]
  },
  {
   "cell_type": "code",
   "execution_count": 11,
   "metadata": {},
   "outputs": [
    {
     "name": "stdout",
     "output_type": "stream",
     "text": [
      "12.113988207052696\n",
      "13.618558466056797\n",
      "10.681064150858314\n",
      "4.116e+07\n"
     ]
    }
   ],
   "source": [
    "\n",
    "ratios = [twod/tred for twod, tred in zip(data['computational'], data3['computational'])]\n",
    "print(sum(ratios)/41)\n",
    "\n",
    "print(sum(ratios[:20])/20)\n",
    "print(sum(ratios[20:])/21)\n",
    "print(f\"{sum(data['computational'][:20]/len(data['computational'][:20])):.3e}\")"
   ]
  },
  {
   "cell_type": "code",
   "execution_count": 14,
   "metadata": {},
   "outputs": [],
   "source": [
    "data['ratios'] = ratios"
   ]
  },
  {
   "cell_type": "code",
   "execution_count": 15,
   "metadata": {},
   "outputs": [
    {
     "data": {
      "text/html": [
       "<div>\n",
       "<style scoped>\n",
       "    .dataframe tbody tr th:only-of-type {\n",
       "        vertical-align: middle;\n",
       "    }\n",
       "\n",
       "    .dataframe tbody tr th {\n",
       "        vertical-align: top;\n",
       "    }\n",
       "\n",
       "    .dataframe thead th {\n",
       "        text-align: right;\n",
       "    }\n",
       "</style>\n",
       "<table border=\"1\" class=\"dataframe\">\n",
       "  <thead>\n",
       "    <tr style=\"text-align: right;\">\n",
       "      <th></th>\n",
       "      <th>sequences</th>\n",
       "      <th>ratios</th>\n",
       "      <th>computational</th>\n",
       "    </tr>\n",
       "  </thead>\n",
       "  <tbody>\n",
       "    <tr>\n",
       "      <th>0</th>\n",
       "      <td>GTTCGGTCTA</td>\n",
       "      <td>16.511</td>\n",
       "      <td>3.786e+07</td>\n",
       "    </tr>\n",
       "    <tr>\n",
       "      <th>1</th>\n",
       "      <td>CCAAAACCAA</td>\n",
       "      <td>12.697</td>\n",
       "      <td>3.603e+07</td>\n",
       "    </tr>\n",
       "    <tr>\n",
       "      <th>2</th>\n",
       "      <td>AAACCACACA</td>\n",
       "      <td>13.241</td>\n",
       "      <td>4.064e+07</td>\n",
       "    </tr>\n",
       "    <tr>\n",
       "      <th>3</th>\n",
       "      <td>ACCAAACCAC</td>\n",
       "      <td>12.779</td>\n",
       "      <td>3.989e+07</td>\n",
       "    </tr>\n",
       "    <tr>\n",
       "      <th>4</th>\n",
       "      <td>ACACCAAACC</td>\n",
       "      <td>16.090</td>\n",
       "      <td>4.000e+07</td>\n",
       "    </tr>\n",
       "    <tr>\n",
       "      <th>5</th>\n",
       "      <td>AAAAACCCAC</td>\n",
       "      <td>14.863</td>\n",
       "      <td>3.636e+07</td>\n",
       "    </tr>\n",
       "    <tr>\n",
       "      <th>6</th>\n",
       "      <td>CAACACCCAA</td>\n",
       "      <td>19.460</td>\n",
       "      <td>4.226e+07</td>\n",
       "    </tr>\n",
       "    <tr>\n",
       "      <th>7</th>\n",
       "      <td>AAACCCACCA</td>\n",
       "      <td>13.652</td>\n",
       "      <td>4.274e+07</td>\n",
       "    </tr>\n",
       "    <tr>\n",
       "      <th>8</th>\n",
       "      <td>ACAACACCAC</td>\n",
       "      <td>16.243</td>\n",
       "      <td>4.211e+07</td>\n",
       "    </tr>\n",
       "    <tr>\n",
       "      <th>9</th>\n",
       "      <td>CAAAACCCCA</td>\n",
       "      <td>13.234</td>\n",
       "      <td>3.906e+07</td>\n",
       "    </tr>\n",
       "    <tr>\n",
       "      <th>10</th>\n",
       "      <td>AACCAACACC</td>\n",
       "      <td>16.294</td>\n",
       "      <td>4.096e+07</td>\n",
       "    </tr>\n",
       "    <tr>\n",
       "      <th>11</th>\n",
       "      <td>CAACACAACC</td>\n",
       "      <td>12.738</td>\n",
       "      <td>3.993e+07</td>\n",
       "    </tr>\n",
       "    <tr>\n",
       "      <th>12</th>\n",
       "      <td>ACCAACACCA</td>\n",
       "      <td>13.398</td>\n",
       "      <td>4.205e+07</td>\n",
       "    </tr>\n",
       "    <tr>\n",
       "      <th>13</th>\n",
       "      <td>CCACCAACAA</td>\n",
       "      <td>14.874</td>\n",
       "      <td>4.068e+07</td>\n",
       "    </tr>\n",
       "    <tr>\n",
       "      <th>14</th>\n",
       "      <td>ACACACACAC</td>\n",
       "      <td>8.434</td>\n",
       "      <td>4.322e+07</td>\n",
       "    </tr>\n",
       "    <tr>\n",
       "      <th>15</th>\n",
       "      <td>AACCACCACA</td>\n",
       "      <td>12.533</td>\n",
       "      <td>4.403e+07</td>\n",
       "    </tr>\n",
       "    <tr>\n",
       "      <th>16</th>\n",
       "      <td>CAACCAACCA</td>\n",
       "      <td>11.478</td>\n",
       "      <td>4.106e+07</td>\n",
       "    </tr>\n",
       "    <tr>\n",
       "      <th>17</th>\n",
       "      <td>ACACACACCA</td>\n",
       "      <td>10.142</td>\n",
       "      <td>4.355e+07</td>\n",
       "    </tr>\n",
       "    <tr>\n",
       "      <th>18</th>\n",
       "      <td>CCCCACACAA</td>\n",
       "      <td>10.935</td>\n",
       "      <td>4.436e+07</td>\n",
       "    </tr>\n",
       "    <tr>\n",
       "      <th>19</th>\n",
       "      <td>ACACCACCAC</td>\n",
       "      <td>12.778</td>\n",
       "      <td>4.635e+07</td>\n",
       "    </tr>\n",
       "    <tr>\n",
       "      <th>20</th>\n",
       "      <td>GCTGTTCGGTCTAT</td>\n",
       "      <td>16.363</td>\n",
       "      <td>2.724e+07</td>\n",
       "    </tr>\n",
       "    <tr>\n",
       "      <th>21</th>\n",
       "      <td>ACCAAACCACCAAC</td>\n",
       "      <td>9.155</td>\n",
       "      <td>2.943e+07</td>\n",
       "    </tr>\n",
       "    <tr>\n",
       "      <th>22</th>\n",
       "      <td>CAACACCAAACAAC</td>\n",
       "      <td>12.503</td>\n",
       "      <td>2.731e+07</td>\n",
       "    </tr>\n",
       "    <tr>\n",
       "      <th>23</th>\n",
       "      <td>CAAAACCCCAACAC</td>\n",
       "      <td>14.153</td>\n",
       "      <td>2.853e+07</td>\n",
       "    </tr>\n",
       "    <tr>\n",
       "      <th>24</th>\n",
       "      <td>AAACCCACCACACA</td>\n",
       "      <td>9.994</td>\n",
       "      <td>3.124e+07</td>\n",
       "    </tr>\n",
       "    <tr>\n",
       "      <th>25</th>\n",
       "      <td>CAACACCCAAACAC</td>\n",
       "      <td>12.994</td>\n",
       "      <td>2.877e+07</td>\n",
       "    </tr>\n",
       "    <tr>\n",
       "      <th>26</th>\n",
       "      <td>CCAAAACCAACAAC</td>\n",
       "      <td>11.236</td>\n",
       "      <td>2.680e+07</td>\n",
       "    </tr>\n",
       "    <tr>\n",
       "      <th>27</th>\n",
       "      <td>AAAAACCCACCCAA</td>\n",
       "      <td>11.286</td>\n",
       "      <td>2.850e+07</td>\n",
       "    </tr>\n",
       "    <tr>\n",
       "      <th>28</th>\n",
       "      <td>AAACCACCCAACAC</td>\n",
       "      <td>13.412</td>\n",
       "      <td>3.023e+07</td>\n",
       "    </tr>\n",
       "    <tr>\n",
       "      <th>29</th>\n",
       "      <td>CCCAAACCCAACCA</td>\n",
       "      <td>10.668</td>\n",
       "      <td>2.999e+07</td>\n",
       "    </tr>\n",
       "    <tr>\n",
       "      <th>30</th>\n",
       "      <td>ACCAACACCAACCA</td>\n",
       "      <td>9.758</td>\n",
       "      <td>3.047e+07</td>\n",
       "    </tr>\n",
       "    <tr>\n",
       "      <th>31</th>\n",
       "      <td>CAACAACACCACCA</td>\n",
       "      <td>10.455</td>\n",
       "      <td>2.996e+07</td>\n",
       "    </tr>\n",
       "    <tr>\n",
       "      <th>32</th>\n",
       "      <td>AACCAACACCACCA</td>\n",
       "      <td>9.631</td>\n",
       "      <td>3.056e+07</td>\n",
       "    </tr>\n",
       "    <tr>\n",
       "      <th>33</th>\n",
       "      <td>AACCACCACAAACC</td>\n",
       "      <td>10.781</td>\n",
       "      <td>2.938e+07</td>\n",
       "    </tr>\n",
       "    <tr>\n",
       "      <th>34</th>\n",
       "      <td>CAACACAACCAACC</td>\n",
       "      <td>9.603</td>\n",
       "      <td>2.904e+07</td>\n",
       "    </tr>\n",
       "    <tr>\n",
       "      <th>35</th>\n",
       "      <td>CACCACAACCACCA</td>\n",
       "      <td>9.746</td>\n",
       "      <td>3.138e+07</td>\n",
       "    </tr>\n",
       "    <tr>\n",
       "      <th>36</th>\n",
       "      <td>CCCCACACAACAAC</td>\n",
       "      <td>9.425</td>\n",
       "      <td>3.041e+07</td>\n",
       "    </tr>\n",
       "    <tr>\n",
       "      <th>37</th>\n",
       "      <td>CCACCAACAACAAC</td>\n",
       "      <td>9.642</td>\n",
       "      <td>2.843e+07</td>\n",
       "    </tr>\n",
       "    <tr>\n",
       "      <th>38</th>\n",
       "      <td>ACACACACCACACA</td>\n",
       "      <td>7.082</td>\n",
       "      <td>3.190e+07</td>\n",
       "    </tr>\n",
       "    <tr>\n",
       "      <th>39</th>\n",
       "      <td>CACACACACACACA</td>\n",
       "      <td>7.321</td>\n",
       "      <td>3.100e+07</td>\n",
       "    </tr>\n",
       "    <tr>\n",
       "      <th>40</th>\n",
       "      <td>ACCAACCAACCAAC</td>\n",
       "      <td>9.096</td>\n",
       "      <td>2.934e+07</td>\n",
       "    </tr>\n",
       "  </tbody>\n",
       "</table>\n",
       "</div>"
      ],
      "text/plain": [
       "         sequences  ratios  computational\n",
       "0       GTTCGGTCTA  16.511      3.786e+07\n",
       "1       CCAAAACCAA  12.697      3.603e+07\n",
       "2       AAACCACACA  13.241      4.064e+07\n",
       "3       ACCAAACCAC  12.779      3.989e+07\n",
       "4       ACACCAAACC  16.090      4.000e+07\n",
       "5       AAAAACCCAC  14.863      3.636e+07\n",
       "6       CAACACCCAA  19.460      4.226e+07\n",
       "7       AAACCCACCA  13.652      4.274e+07\n",
       "8       ACAACACCAC  16.243      4.211e+07\n",
       "9       CAAAACCCCA  13.234      3.906e+07\n",
       "10      AACCAACACC  16.294      4.096e+07\n",
       "11      CAACACAACC  12.738      3.993e+07\n",
       "12      ACCAACACCA  13.398      4.205e+07\n",
       "13      CCACCAACAA  14.874      4.068e+07\n",
       "14      ACACACACAC   8.434      4.322e+07\n",
       "15      AACCACCACA  12.533      4.403e+07\n",
       "16      CAACCAACCA  11.478      4.106e+07\n",
       "17      ACACACACCA  10.142      4.355e+07\n",
       "18      CCCCACACAA  10.935      4.436e+07\n",
       "19      ACACCACCAC  12.778      4.635e+07\n",
       "20  GCTGTTCGGTCTAT  16.363      2.724e+07\n",
       "21  ACCAAACCACCAAC   9.155      2.943e+07\n",
       "22  CAACACCAAACAAC  12.503      2.731e+07\n",
       "23  CAAAACCCCAACAC  14.153      2.853e+07\n",
       "24  AAACCCACCACACA   9.994      3.124e+07\n",
       "25  CAACACCCAAACAC  12.994      2.877e+07\n",
       "26  CCAAAACCAACAAC  11.236      2.680e+07\n",
       "27  AAAAACCCACCCAA  11.286      2.850e+07\n",
       "28  AAACCACCCAACAC  13.412      3.023e+07\n",
       "29  CCCAAACCCAACCA  10.668      2.999e+07\n",
       "30  ACCAACACCAACCA   9.758      3.047e+07\n",
       "31  CAACAACACCACCA  10.455      2.996e+07\n",
       "32  AACCAACACCACCA   9.631      3.056e+07\n",
       "33  AACCACCACAAACC  10.781      2.938e+07\n",
       "34  CAACACAACCAACC   9.603      2.904e+07\n",
       "35  CACCACAACCACCA   9.746      3.138e+07\n",
       "36  CCCCACACAACAAC   9.425      3.041e+07\n",
       "37  CCACCAACAACAAC   9.642      2.843e+07\n",
       "38  ACACACACCACACA   7.082      3.190e+07\n",
       "39  CACACACACACACA   7.321      3.100e+07\n",
       "40  ACCAACCAACCAAC   9.096      2.934e+07"
      ]
     },
     "execution_count": 15,
     "metadata": {},
     "output_type": "execute_result"
    }
   ],
   "source": [
    "data[['sequences','ratios','computational']]"
   ]
  }
 ],
 "metadata": {
  "kernelspec": {
   "display_name": "hdna",
   "language": "python",
   "name": "python3"
  },
  "language_info": {
   "codemirror_mode": {
    "name": "ipython",
    "version": 3
   },
   "file_extension": ".py",
   "mimetype": "text/x-python",
   "name": "python",
   "nbconvert_exporter": "python",
   "pygments_lexer": "ipython3",
   "version": "3.10.9"
  },
  "orig_nbformat": 4,
  "vscode": {
   "interpreter": {
    "hash": "13f02c433cbffcd00bbcbbfeff349f4b7c28e9023d8fb9f65ab93bb104997abd"
   }
  }
 },
 "nbformat": 4,
 "nbformat_minor": 2
}
