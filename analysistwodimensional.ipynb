{
 "cells": [
  {
   "cell_type": "code",
   "execution_count": 22,
   "metadata": {},
   "outputs": [
    {
     "name": "stdout",
     "output_type": "stream",
     "text": [
      "The autoreload extension is already loaded. To reload it, use:\n",
      "  %reload_ext autoreload\n"
     ]
    }
   ],
   "source": [
    "%load_ext autoreload\n",
    "%autoreload 2"
   ]
  },
  {
   "cell_type": "code",
   "execution_count": 23,
   "metadata": {},
   "outputs": [],
   "source": [
    "import pandas as pd \n",
    "import math\n",
    "from conf import *\n",
    "\n",
    "pd.set_option('display.float_format', lambda x: '%.3e' % x if float(x) > 5000 or float(x) < 0.01 and float(x) != 0 else ('%d' % x if x.is_integer() else '%.3f' % x))"
   ]
  },
  {
   "cell_type": "code",
   "execution_count": 24,
   "metadata": {},
   "outputs": [],
   "source": [
    "DIR = '/results/ZZZTWODGOODMORNING'\n",
    "\n",
    "# hyperp = pd.read_csv(f'{DIR}/hyperparameters.csv'); hyperp['values'][:-1].map(float)\n",
    "data = pd.read_csv(f'/home/marco/Desktop/HDNAback/hDNA/results/ZZZTWODGOODMORNING/run_1/simulationdata.csv'); \n",
    "data['index'] = data.index\n",
    "try: data.drop('seq.1', axis=1, inplace=True)\n",
    "except KeyError: pass\n",
    "try: data.drop('Unnamed: 0', axis=1, inplace=True)\n",
    "except KeyError: pass"
   ]
  },
  {
   "cell_type": "code",
   "execution_count": 25,
   "metadata": {},
   "outputs": [],
   "source": [
    "DIR = '/home/marco/Desktop/HDNAback/hDNA/results/sumofinchandpk51/run_1'\n",
    "\n",
    "# hyperp = pd.read_csv(f'{DIR}/hyperparameters.csv'); hyperp['values'][:-1].map(float)\n",
    "data3 = pd.read_csv(f'{DIR}/simulationdata.csv'); \n",
    "data3['index'] = data3.index\n",
    "try: data3.drop('sequences.1', axis=1, inplace=True)\n",
    "except KeyError: pass\n",
    "try: data3.drop('Unnamed: 5', axis=1, inplace=True)\n",
    "except KeyError: pass"
   ]
  },
  {
   "cell_type": "code",
   "execution_count": 26,
   "metadata": {},
   "outputs": [
    {
     "data": {
      "application/vnd.plotly.v1+json": {
       "config": {
        "plotlyServerURL": "https://plot.ly"
       },
       "data": [
        {
         "hovertemplate": "length=10<br>computational=%{x}<br>sequences=%{y}<extra></extra>",
         "legendgroup": "10",
         "marker": {
          "color": "#636efa",
          "line": {
           "color": "black",
           "width": 2
          },
          "size": 16,
          "symbol": "circle"
         },
         "mode": "markers",
         "name": "10",
         "orientation": "h",
         "showlegend": true,
         "type": "scatter",
         "x": [
          38101575.07071012,
          36446214.12442419,
          40137553.56662653,
          39984096.16767497,
          40097092.22828919,
          36253178.754359566,
          41988863.431741714,
          42459713.24025434,
          41453922.61006529,
          39011314.4444264,
          40644922.431991056,
          40202005.98186868,
          42596589.94281198,
          41029593.77175818,
          43083894.62029637,
          44233139.74312846,
          41123398.27432736,
          43987921.10621538,
          44771340.430225655,
          46424340.08738921
         ],
         "xaxis": "x",
         "y": [
          "GTTCGGTCTA",
          "CCAAAACCAA",
          "AAACCACACA",
          "ACCAAACCAC",
          "ACACCAAACC",
          "AAAAACCCAC",
          "CAACACCCAA",
          "AAACCCACCA",
          "ACAACACCAC",
          "CAAAACCCCA",
          "AACCAACACC",
          "CAACACAACC",
          "ACCAACACCA",
          "CCACCAACAA",
          "ACACACACAC",
          "AACCACCACA",
          "CAACCAACCA",
          "ACACACACCA",
          "CCCCACACAA",
          "ACACCACCAC"
         ],
         "yaxis": "y"
        },
        {
         "hovertemplate": "length=14<br>computational=%{x}<br>sequences=%{y}<extra></extra>",
         "legendgroup": "14",
         "marker": {
          "color": "#EF553B",
          "line": {
           "color": "black",
           "width": 2
          },
          "size": 16,
          "symbol": "circle"
         },
         "mode": "markers",
         "name": "14",
         "orientation": "h",
         "showlegend": true,
         "type": "scatter",
         "x": [
          27060455.83186943,
          29612052.770169288,
          27253328.31274059,
          28770711.378256917,
          31175868.996937487,
          28995968.20344846,
          26786023.452737752,
          28342642.378184125,
          30237066.80120385,
          30297544.94440748,
          30487593.4551638,
          29829176.64562356,
          30569073.186330352,
          29401877.28206737,
          28772557.55665928,
          31534523.00225454,
          30096046.98221987,
          28375821.20325061,
          31833523.54520024,
          31067841.46264858,
          29591329.58656433
         ],
         "xaxis": "x",
         "y": [
          "GCTGTTCGGTCTAT",
          "ACCAAACCACCAAC",
          "CAACACCAAACAAC",
          "CAAAACCCCAACAC",
          "AAACCCACCACACA",
          "CAACACCCAAACAC",
          "CCAAAACCAACAAC",
          "AAAAACCCACCCAA",
          "AAACCACCCAACAC",
          "CCCAAACCCAACCA",
          "ACCAACACCAACCA",
          "CAACAACACCACCA",
          "AACCAACACCACCA",
          "AACCACCACAAACC",
          "CAACACAACCAACC",
          "CACCACAACCACCA",
          "CCCCACACAACAAC",
          "CCACCAACAACAAC",
          "ACACACACCACACA",
          "CACACACACACACA",
          "ACCAACCAACCAAC"
         ],
         "yaxis": "y"
        }
       ],
       "layout": {
        "height": 1000,
        "legend": {
         "font": {
          "color": "black",
          "family": "Courier",
          "size": 32
         },
         "title": {
          "text": "length"
         },
         "tracegroupgap": 0
        },
        "margin": {
         "t": 60
        },
        "scattermode": "group",
        "template": {
         "data": {
          "pie": [
           {
            "automargin": true,
            "type": "pie"
           }
          ],
          "scatter": [
           {
            "line": {
             "width": 3
            },
            "marker": {
             "size": 9
            },
            "type": "scatter"
           }
          ],
          "scatter3d": [
           {
            "line": {
             "width": 3
            },
            "marker": {
             "size": 9
            },
            "type": "scatter3d"
           }
          ],
          "scattergeo": [
           {
            "line": {
             "width": 3
            },
            "marker": {
             "size": 9
            },
            "type": "scattergeo"
           }
          ],
          "scattergl": [
           {
            "line": {
             "width": 3
            },
            "marker": {
             "size": 9
            },
            "type": "scattergl"
           }
          ],
          "scatterpolar": [
           {
            "line": {
             "width": 3
            },
            "marker": {
             "size": 9
            },
            "type": "scatterpolar"
           }
          ],
          "scatterpolargl": [
           {
            "line": {
             "width": 3
            },
            "marker": {
             "size": 9
            },
            "type": "scatterpolargl"
           }
          ],
          "scatterternary": [
           {
            "line": {
             "width": 3
            },
            "marker": {
             "size": 9
            },
            "type": "scatterternary"
           }
          ],
          "table": [
           {
            "cells": {
             "height": 30
            },
            "header": {
             "height": 36
            },
            "type": "table"
           }
          ]
         },
         "layout": {
          "font": {
           "size": 18
          },
          "xaxis": {
           "title": {
            "standoff": 15
           }
          },
          "yaxis": {
           "title": {
            "standoff": 15
           }
          }
         }
        },
        "width": 1200,
        "xaxis": {
         "anchor": "y",
         "automargin": true,
         "domain": [
          0,
          1
         ],
         "dtick": 1000000,
         "linecolor": "black",
         "linewidth": 3,
         "minor": {
          "dtick": 3,
          "tick0": 0
         },
         "nticks": 10,
         "showexponent": "none",
         "tick0": 0,
         "tickformat": ".1e",
         "tickmode": "linear",
         "title": {
          "text": "Two-dimensional Hybridization Rates"
         }
        },
        "yaxis": {
         "anchor": "x",
         "automargin": true,
         "autorange": "reversed",
         "domain": [
          0,
          1
         ],
         "dtick": 1,
         "linecolor": "black",
         "linewidth": 2,
         "tickmode": "linear",
         "title": {
          "text": "sequences"
         }
        }
       }
      }
     },
     "metadata": {},
     "output_type": "display_data"
    }
   ],
   "source": [
    "import plotly.express as px \n",
    "\n",
    "data['length'] = [str(len(d)) for d in data['sequences']]\n",
    "fig = px.scatter(data,y='sequences', x='computational', color='length')\n",
    "fig.update_layout(width = 1200,\n",
    "                  height = 1000,\n",
    "                  template = 'presentation',\n",
    "                  scattermode='group',\n",
    "                  xaxis_title=\"Two-dimensional Hybridization Rates\",\n",
    "                  xaxis=dict(tickmode = 'linear',\n",
    "                            #  tickvals = [2e7,2.5e7,3e7,3.5e7,4e7,4.5e7,5e7],\n",
    "                             nticks=10,\n",
    "                             tick0=0,\n",
    "                             dtick=1e6,\n",
    "                             tickformat=\".1e\",\n",
    "                             linecolor='black',\n",
    "                             automargin=True,\n",
    "                             linewidth=3,\n",
    "                             minor=dict(dtick=3,tick0=0)),\n",
    "                  yaxis=dict(tickmode='linear',\n",
    "                             dtick=1,\n",
    "                             autorange='reversed',\n",
    "                             automargin=True,\n",
    "                             linecolor='black',\n",
    "                             linewidth=2),\n",
    "                  legend = dict(\n",
    "                            font = dict(family='Courier',\n",
    "                                        size=32,\n",
    "                                        color='black')))\n",
    "\n",
    "fig.update_xaxes(showexponent='none')\n",
    "\n",
    "fig.update_traces(marker=dict(size=16,\n",
    "                              line=dict(width=2,\n",
    "                                        color='black'\n",
    "                              )))\n",
    "fig.show()"
   ]
  },
  {
   "cell_type": "code",
   "execution_count": 27,
   "metadata": {},
   "outputs": [
    {
     "data": {
      "application/vnd.plotly.v1+json": {
       "config": {
        "plotlyServerURL": "https://plot.ly"
       },
       "data": [
        {
         "hovertemplate": "length=10<br>sequences=%{x}<br>computational=%{y}<extra></extra>",
         "legendgroup": "10",
         "marker": {
          "color": "#636efa",
          "line": {
           "color": "black",
           "width": 2
          },
          "size": 16,
          "symbol": "circle"
         },
         "mode": "markers",
         "name": "10",
         "orientation": "v",
         "showlegend": true,
         "type": "scatter",
         "x": [
          "GTTCGGTCTA",
          "CCAAAACCAA",
          "AAACCACACA",
          "ACCAAACCAC",
          "ACACCAAACC",
          "AAAAACCCAC",
          "CAACACCCAA",
          "AAACCCACCA",
          "ACAACACCAC",
          "CAAAACCCCA",
          "AACCAACACC",
          "CAACACAACC",
          "ACCAACACCA",
          "CCACCAACAA",
          "ACACACACAC",
          "AACCACCACA",
          "CAACCAACCA",
          "ACACACACCA",
          "CCCCACACAA",
          "ACACCACCAC"
         ],
         "xaxis": "x",
         "y": [
          38101575.07071012,
          36446214.12442419,
          40137553.56662653,
          39984096.16767497,
          40097092.22828919,
          36253178.754359566,
          41988863.431741714,
          42459713.24025434,
          41453922.61006529,
          39011314.4444264,
          40644922.431991056,
          40202005.98186868,
          42596589.94281198,
          41029593.77175818,
          43083894.62029637,
          44233139.74312846,
          41123398.27432736,
          43987921.10621538,
          44771340.430225655,
          46424340.08738921
         ],
         "yaxis": "y"
        },
        {
         "hovertemplate": "length=14<br>sequences=%{x}<br>computational=%{y}<extra></extra>",
         "legendgroup": "14",
         "marker": {
          "color": "#EF553B",
          "line": {
           "color": "black",
           "width": 2
          },
          "size": 16,
          "symbol": "circle"
         },
         "mode": "markers",
         "name": "14",
         "orientation": "v",
         "showlegend": true,
         "type": "scatter",
         "x": [
          "GCTGTTCGGTCTAT",
          "ACCAAACCACCAAC",
          "CAACACCAAACAAC",
          "CAAAACCCCAACAC",
          "AAACCCACCACACA",
          "CAACACCCAAACAC",
          "CCAAAACCAACAAC",
          "AAAAACCCACCCAA",
          "AAACCACCCAACAC",
          "CCCAAACCCAACCA",
          "ACCAACACCAACCA",
          "CAACAACACCACCA",
          "AACCAACACCACCA",
          "AACCACCACAAACC",
          "CAACACAACCAACC",
          "CACCACAACCACCA",
          "CCCCACACAACAAC",
          "CCACCAACAACAAC",
          "ACACACACCACACA",
          "CACACACACACACA",
          "ACCAACCAACCAAC"
         ],
         "xaxis": "x",
         "y": [
          27060455.83186943,
          29612052.770169288,
          27253328.31274059,
          28770711.378256917,
          31175868.996937487,
          28995968.20344846,
          26786023.452737752,
          28342642.378184125,
          30237066.80120385,
          30297544.94440748,
          30487593.4551638,
          29829176.64562356,
          30569073.186330352,
          29401877.28206737,
          28772557.55665928,
          31534523.00225454,
          30096046.98221987,
          28375821.20325061,
          31833523.54520024,
          31067841.46264858,
          29591329.58656433
         ],
         "yaxis": "y"
        }
       ],
       "layout": {
        "height": 1000,
        "legend": {
         "font": {
          "color": "black",
          "family": "Courier",
          "size": 32
         },
         "title": {
          "text": "length"
         },
         "tracegroupgap": 0
        },
        "margin": {
         "t": 60
        },
        "scattermode": "group",
        "template": {
         "data": {
          "pie": [
           {
            "automargin": true,
            "type": "pie"
           }
          ],
          "scatter": [
           {
            "line": {
             "width": 3
            },
            "marker": {
             "size": 9
            },
            "type": "scatter"
           }
          ],
          "scatter3d": [
           {
            "line": {
             "width": 3
            },
            "marker": {
             "size": 9
            },
            "type": "scatter3d"
           }
          ],
          "scattergeo": [
           {
            "line": {
             "width": 3
            },
            "marker": {
             "size": 9
            },
            "type": "scattergeo"
           }
          ],
          "scattergl": [
           {
            "line": {
             "width": 3
            },
            "marker": {
             "size": 9
            },
            "type": "scattergl"
           }
          ],
          "scatterpolar": [
           {
            "line": {
             "width": 3
            },
            "marker": {
             "size": 9
            },
            "type": "scatterpolar"
           }
          ],
          "scatterpolargl": [
           {
            "line": {
             "width": 3
            },
            "marker": {
             "size": 9
            },
            "type": "scatterpolargl"
           }
          ],
          "scatterternary": [
           {
            "line": {
             "width": 3
            },
            "marker": {
             "size": 9
            },
            "type": "scatterternary"
           }
          ],
          "table": [
           {
            "cells": {
             "height": 30
            },
            "header": {
             "height": 36
            },
            "type": "table"
           }
          ]
         },
         "layout": {
          "font": {
           "size": 18
          },
          "xaxis": {
           "title": {
            "standoff": 15
           }
          },
          "yaxis": {
           "title": {
            "standoff": 15
           }
          }
         }
        },
        "width": 1200,
        "xaxis": {
         "anchor": "y",
         "automargin": true,
         "domain": [
          0,
          1
         ],
         "dtick": 1,
         "linecolor": "black",
         "linewidth": 2,
         "tickmode": "linear",
         "title": {
          "text": "sequences"
         }
        },
        "yaxis": {
         "anchor": "x",
         "automargin": true,
         "domain": [
          0,
          1
         ],
         "dtick": 1000000,
         "linecolor": "black",
         "linewidth": 3,
         "minor": {
          "dtick": 3,
          "tick0": 0
         },
         "nticks": 10,
         "showexponent": "none",
         "tick0": 0,
         "tickformat": ".1e",
         "tickmode": "linear",
         "title": {
          "text": "Two-dimensional Hybridization Rates"
         }
        }
       }
      }
     },
     "metadata": {},
     "output_type": "display_data"
    }
   ],
   "source": [
    "import plotly.express as px \n",
    "\n",
    "data['length'] = [str(len(d)) for d in data['sequences']]\n",
    "fig = px.scatter(data,x='sequences', y='computational', color='length')\n",
    "fig.update_layout(width = 1200,\n",
    "                  height = 1000,\n",
    "                  template = 'presentation',\n",
    "                  scattermode='group',\n",
    "                  yaxis_title=\"Two-dimensional Hybridization Rates\",\n",
    "                  yaxis=dict(tickmode = 'linear',\n",
    "                            #  tickvals = [2e7,2.5e7,3e7,3.5e7,4e7,4.5e7,5e7],\n",
    "                             nticks=10,\n",
    "                             tick0=0,\n",
    "                             dtick=1e6,\n",
    "                             tickformat=\".1e\",\n",
    "                             linecolor='black',\n",
    "                             automargin=True,\n",
    "                             linewidth=3,\n",
    "                             minor=dict(dtick=3,tick0=0)),\n",
    "                  xaxis=dict(tickmode='linear',\n",
    "                             dtick=1,\n",
    "                            #  autorange='reversed',\n",
    "                             automargin=True,\n",
    "                             linecolor='black',\n",
    "                             linewidth=2),\n",
    "                  legend = dict(\n",
    "                            font = dict(family='Courier',\n",
    "                                        size=32,\n",
    "                                        color='black')))\n",
    "\n",
    "fig.update_yaxes(showexponent='none')\n",
    "\n",
    "fig.update_traces(marker=dict(size=16,\n",
    "                              line=dict(width=2,\n",
    "                                        color='black'\n",
    "                              )))\n",
    "fig.show()"
   ]
  },
  {
   "cell_type": "code",
   "execution_count": 28,
   "metadata": {},
   "outputs": [],
   "source": [
    "from plotly import graph_objects as go"
   ]
  },
  {
   "cell_type": "code",
   "execution_count": 29,
   "metadata": {},
   "outputs": [
    {
     "data": {
      "application/vnd.plotly.v1+json": {
       "config": {
        "plotlyServerURL": "https://plot.ly"
       },
       "data": [
        {
         "marker": {
          "color": "#CF5C36",
          "line": {
           "width": 2
          },
          "opacity": 0.8,
          "size": 24,
          "symbol": "diamond"
         },
         "mode": "markers",
         "name": "3D computed    ",
         "type": "scatter",
         "x": [
          "GTTCGGTCTA",
          "CCAAAACCAA",
          "AAACCACACA",
          "ACCAAACCAC",
          "ACACCAAACC",
          "AAAAACCCAC",
          "CAACACCCAA",
          "AAACCCACCA",
          "ACAACACCAC",
          "CAAAACCCCA",
          "AACCAACACC",
          "CAACACAACC",
          "ACCAACACCA",
          "CCACCAACAA",
          "ACACACACAC",
          "AACCACCACA",
          "CAACCAACCA",
          "ACACACACCA",
          "CCCCACACAA",
          "ACACCACCAC",
          "GCTGTTCGGTCTAT",
          "ACCAAACCACCAAC",
          "CAACACCAAACAAC",
          "CAAAACCCCAACAC",
          "AAACCCACCACACA",
          "CAACACCCAAACAC",
          "CCAAAACCAACAAC",
          "AAAAACCCACCCAA",
          "AAACCACCCAACAC",
          "CCCAAACCCAACCA",
          "ACCAACACCAACCA",
          "CAACAACACCACCA",
          "AACCAACACCACCA",
          "AACCACCACAAACC",
          "CAACACAACCAACC",
          "CACCACAACCACCA",
          "CCCCACACAACAAC",
          "CCACCAACAACAAC",
          "ACACACACCACACA",
          "CACACACACACACA",
          "ACCAACCAACCAAC"
         ],
         "y": [
          0.2292829187885385,
          0.28375129587224346,
          0.30695166990980477,
          0.3121290609459927,
          0.24862789147797823,
          0.24464093047358978,
          0.21715893989054072,
          0.3130774066075434,
          0.2592744596281676,
          0.29515162046534693,
          0.2514156691237031,
          0.31344542410589477,
          0.31384259487366817,
          0.2734784032497446,
          0.5124496548912347,
          0.35132729597940293,
          0.3576877342500084,
          0.42940867996382376,
          0.4056592373244324,
          0.3627368042903997,
          0.16647046765274784,
          0.32152294802681763,
          0.21843894664594454,
          0.20155495465980758,
          0.31260309921770907,
          0.2214084010778704,
          0.23856002931182538,
          0.25250652801975887,
          0.2253900227954424,
          0.2811021522264709,
          0.31223299585567943,
          0.2865860190452316,
          0.31732489156402505,
          0.2725490354785058,
          0.3024451088978774,
          0.3219915750963311,
          0.3226847889369344,
          0.29485847688878986,
          0.45046418318552156,
          0.4234638902273256,
          0.32258849462499006
         ]
        },
        {
         "marker": {
          "color": "#6610F2",
          "line": {
           "width": 2
          },
          "size": 24,
          "symbol": 6
         },
         "mode": "markers",
         "name": "2D computed    ",
         "type": "scatter",
         "x": [
          "GTTCGGTCTA",
          "CCAAAACCAA",
          "AAACCACACA",
          "ACCAAACCAC",
          "ACACCAAACC",
          "AAAAACCCAC",
          "CAACACCCAA",
          "AAACCCACCA",
          "ACAACACCAC",
          "CAAAACCCCA",
          "AACCAACACC",
          "CAACACAACC",
          "ACCAACACCA",
          "CCACCAACAA",
          "ACACACACAC",
          "AACCACCACA",
          "CAACCAACCA",
          "ACACACACCA",
          "CCCCACACAA",
          "ACACCACCAC",
          "GCTGTTCGGTCTAT",
          "ACCAAACCACCAAC",
          "CAACACCAAACAAC",
          "CAAAACCCCAACAC",
          "AAACCCACCACACA",
          "CAACACCCAAACAC",
          "CCAAAACCAACAAC",
          "AAAAACCCACCCAA",
          "AAACCACCCAACAC",
          "CCCAAACCCAACCA",
          "ACCAACACCAACCA",
          "CAACAACACCACCA",
          "AACCAACACCACCA",
          "AACCACCACAAACC",
          "CAACACAACCAACC",
          "CACCACAACCACCA",
          "CCCCACACAACAAC",
          "CCACCAACAACAAC",
          "ACACACACCACACA",
          "CACACACACACACA",
          "ACCAACCAACCAAC"
         ],
         "y": [
          3.810157507071012,
          3.6446214124424188,
          4.013755356662652,
          3.998409616767497,
          4.009709222828919,
          3.6253178754359565,
          4.198886343174172,
          4.245971324025434,
          4.145392261006529,
          3.90113144444264,
          4.064492243199106,
          4.020200598186867,
          4.259658994281198,
          4.102959377175817,
          4.308389462029637,
          4.423313974312846,
          4.112339827432736,
          4.398792110621538,
          4.4771340430225655,
          4.64243400873892,
          2.7060455831869428,
          2.9612052770169286,
          2.725332831274059,
          2.8770711378256917,
          3.1175868996937486,
          2.8995968203448457,
          2.678602345273775,
          2.834264237818412,
          3.023706680120385,
          3.029754494440748,
          3.04875934551638,
          2.982917664562356,
          3.056907318633035,
          2.940187728206737,
          2.877255755665928,
          3.1534523002254535,
          3.009604698221987,
          2.837582120325061,
          3.1833523545200237,
          3.106784146264858,
          2.9591329586564328
         ]
        },
        {
         "marker": {
          "color": "#9BC53D",
          "line": {
           "width": 2
          },
          "opacity": 0.8,
          "size": 24,
          "symbol": 35
         },
         "mode": "markers",
         "name": "3D experimental    ",
         "type": "scatter",
         "x": [
          "GTTCGGTCTA",
          "CCAAAACCAA",
          "AAACCACACA",
          "ACCAAACCAC",
          "ACACCAAACC",
          "AAAAACCCAC",
          "CAACACCCAA",
          "AAACCCACCA",
          "ACAACACCAC",
          "CAAAACCCCA",
          "AACCAACACC",
          "CAACACAACC",
          "ACCAACACCA",
          "CCACCAACAA",
          "ACACACACAC",
          "AACCACCACA",
          "CAACCAACCA",
          "ACACACACCA",
          "CCCCACACAA",
          "ACACCACCAC",
          "GCTGTTCGGTCTAT",
          "ACCAAACCACCAAC",
          "CAACACCAAACAAC",
          "CAAAACCCCAACAC",
          "AAACCCACCACACA",
          "CAACACCCAAACAC",
          "CCAAAACCAACAAC",
          "AAAAACCCACCCAA",
          "AAACCACCCAACAC",
          "CCCAAACCCAACCA",
          "ACCAACACCAACCA",
          "CAACAACACCACCA",
          "AACCAACACCACCA",
          "AACCACCACAAACC",
          "CAACACAACCAACC",
          "CACCACAACCACCA",
          "CCCCACACAACAAC",
          "CCACCAACAACAAC",
          "ACACACACCACACA",
          "CACACACACACACA",
          "ACCAACCAACCAAC"
         ],
         "y": [
          0.11459499999999999,
          0.1668154,
          0.1809459,
          0.2167675,
          0.2178513,
          0.23646399999999998,
          0.25115129999999997,
          0.25270349999999997,
          0.2559279,
          0.2651666,
          0.265567,
          0.2695608,
          0.2765864,
          0.2825047,
          0.384388,
          0.38659479999999996,
          0.3960894,
          0.4159347,
          0.5448523,
          0.5613146999999999,
          0.1042173,
          0.1186657,
          0.1779672,
          0.1831343,
          0.1892296,
          0.2124654,
          0.2304253,
          0.24334519999999998,
          0.2745623,
          0.2975581,
          0.31869159999999996,
          0.3242444,
          0.3629903,
          0.3659749,
          0.37630389999999997,
          0.38054,
          0.3961922,
          0.40622579999999997,
          0.4442077,
          0.4818114,
          0.5208461
         ]
        }
       ],
       "layout": {
        "height": 1200,
        "legend": {
         "font": {
          "color": "black",
          "family": "Courier",
          "size": 32
         },
         "itemwidth": 90,
         "orientation": "h",
         "x": 1,
         "xanchor": "right",
         "y": 1.02,
         "yanchor": "bottom"
        },
        "template": {
         "data": {
          "pie": [
           {
            "automargin": true,
            "type": "pie"
           }
          ],
          "scatter": [
           {
            "line": {
             "width": 3
            },
            "marker": {
             "size": 9
            },
            "type": "scatter"
           }
          ],
          "scatter3d": [
           {
            "line": {
             "width": 3
            },
            "marker": {
             "size": 9
            },
            "type": "scatter3d"
           }
          ],
          "scattergeo": [
           {
            "line": {
             "width": 3
            },
            "marker": {
             "size": 9
            },
            "type": "scattergeo"
           }
          ],
          "scattergl": [
           {
            "line": {
             "width": 3
            },
            "marker": {
             "size": 9
            },
            "type": "scattergl"
           }
          ],
          "scatterpolar": [
           {
            "line": {
             "width": 3
            },
            "marker": {
             "size": 9
            },
            "type": "scatterpolar"
           }
          ],
          "scatterpolargl": [
           {
            "line": {
             "width": 3
            },
            "marker": {
             "size": 9
            },
            "type": "scatterpolargl"
           }
          ],
          "scatterternary": [
           {
            "line": {
             "width": 3
            },
            "marker": {
             "size": 9
            },
            "type": "scatterternary"
           }
          ],
          "table": [
           {
            "cells": {
             "height": 30
            },
            "header": {
             "height": 36
            },
            "type": "table"
           }
          ]
         },
         "layout": {
          "font": {
           "size": 18
          },
          "xaxis": {
           "title": {
            "standoff": 15
           }
          },
          "yaxis": {
           "title": {
            "standoff": 15
           }
          }
         }
        },
        "width": 1200,
        "xaxis": {
         "automargin": true,
         "dtick": 1,
         "linecolor": "black",
         "linewidth": 2,
         "tickfont": {
          "size": 20
         },
         "tickmode": "linear",
         "title": {
          "text": "sequences"
         }
        },
        "yaxis": {
         "automargin": true,
         "dtick": 0.5,
         "exponentformat": "e",
         "linecolor": "black",
         "linewidth": 3,
         "minor": {
          "dtick": 3,
          "tick0": 0
         },
         "nticks": 10,
         "tick0": 1,
         "tickfont": {
          "size": 30
         },
         "tickformat": ".1f",
         "tickmode": "linear",
         "title": {
          "text": "two-dimensional hybridization rate"
         }
        }
       }
      }
     },
     "metadata": {},
     "output_type": "display_data"
    }
   ],
   "source": [
    "\n",
    "\n",
    "\n",
    "trace1 = go.Scatter(\n",
    "    x = data['sequences'], # My list of values for 'x'\n",
    "    y = data['computational']*1e-7,\n",
    "    # marker = dict(color = 'white'),\n",
    "    mode = 'markers',\n",
    "    marker_symbol=6,\n",
    "    name = '2D computed    ',\n",
    "    marker=dict(color='#6610F2'))\n",
    "\n",
    "trace2 = go.Scatter(\n",
    "    x = data3['sequences'],\n",
    "    y = data3['computational']*1e-7,\n",
    "    mode = 'markers',\n",
    "    marker_symbol = 'diamond',\n",
    "    name = '3D computed    ',\n",
    "    marker=dict(color='#CF5C36',opacity=0.80)\n",
    ")\n",
    "trace3 = go.Scatter(\n",
    "    x = data3['sequences'],\n",
    "    y = data3['experimental']*1e-7,\n",
    "    mode = 'markers',\n",
    "    marker_symbol = 35,\n",
    "    name = '3D experimental    ',\n",
    "    marker=dict(color='#9BC53D',opacity=0.80)\n",
    ")\n",
    "layout = go.Layout(\n",
    "    template='presentation',\n",
    "    xaxis_title='sequences',\n",
    "    yaxis_title='two-dimensional hybridization rate',\n",
    "    width = 1200,\n",
    "    height = 1200,\n",
    "    xaxis = dict(tickmode='linear',\n",
    "                dtick=1,\n",
    "                automargin=True,\n",
    "                linecolor='black',\n",
    "                linewidth=2),\n",
    "    yaxis = dict(tickmode = 'linear',\n",
    "                nticks=10,\n",
    "                tick0=1,\n",
    "                dtick=0.5,\n",
    "                tickformat=\".1f\",\n",
    "                linecolor='black',\n",
    "                automargin=True,\n",
    "                linewidth=3,\n",
    "                minor=dict(dtick=3,tick0=0)),\n",
    "    legend = dict(\n",
    "            # itemsizing='constant',\n",
    "            itemwidth = 90,\n",
    "            font = dict(family='Courier',\n",
    "            size=32,\n",
    "            color='black')))\n",
    "\n",
    "dati = [trace2, trace1, trace3]\n",
    "fig = go.Figure(data = dati, layout = layout)\n",
    "\n",
    "fig.update_yaxes(exponentformat=\"e\")\n",
    "\n",
    "fig.update_layout(legend=dict(\n",
    "    orientation=\"h\",\n",
    "    yanchor=\"bottom\",\n",
    "    y=1.02,\n",
    "    xanchor=\"right\",\n",
    "    x=1\n",
    "))\n",
    "\n",
    "fig.update_layout(\n",
    "yaxis = dict(\n",
    "tickfont = dict(size=30)),\n",
    "xaxis = dict(\n",
    "tickfont = dict(size=20)))\n",
    "\n",
    "fig.update_traces(marker=dict(size=24,\n",
    "                              line=dict(width=2\n",
    "                              )))\n",
    "\n",
    "fig.show()"
   ]
  },
  {
   "cell_type": "code",
   "execution_count": 30,
   "metadata": {},
   "outputs": [],
   "source": [
    "n = max(data['computational'])"
   ]
  },
  {
   "cell_type": "code",
   "execution_count": 31,
   "metadata": {},
   "outputs": [],
   "source": [
    "def upperapprox(num):\n",
    "    order = math.floor(math.log10(n))\n",
    "    return math.ceil(num/(10**order))*10**order"
   ]
  },
  {
   "cell_type": "code",
   "execution_count": 32,
   "metadata": {},
   "outputs": [
    {
     "name": "stdout",
     "output_type": "stream",
     "text": [
      "12.119479936294438\n",
      "13.626973469811167\n",
      "10.68377180913565\n",
      "4.120e+07\n"
     ]
    }
   ],
   "source": [
    "\n",
    "ratios = [twod/tred for twod, tred in zip(data['computational'], data3['computational'])]\n",
    "print(sum(ratios)/41)\n",
    "\n",
    "print(sum(ratios[:20])/20)\n",
    "print(sum(ratios[20:])/21)\n",
    "print(f\"{sum(data['computational'][:20]/len(data['computational'][:20])):.3e}\")"
   ]
  },
  {
   "cell_type": "code",
   "execution_count": 33,
   "metadata": {},
   "outputs": [],
   "source": [
    "data['ratios'] = ratios"
   ]
  },
  {
   "cell_type": "code",
   "execution_count": 34,
   "metadata": {},
   "outputs": [
    {
     "data": {
      "text/html": [
       "<div>\n",
       "<style scoped>\n",
       "    .dataframe tbody tr th:only-of-type {\n",
       "        vertical-align: middle;\n",
       "    }\n",
       "\n",
       "    .dataframe tbody tr th {\n",
       "        vertical-align: top;\n",
       "    }\n",
       "\n",
       "    .dataframe thead th {\n",
       "        text-align: right;\n",
       "    }\n",
       "</style>\n",
       "<table border=\"1\" class=\"dataframe\">\n",
       "  <thead>\n",
       "    <tr style=\"text-align: right;\">\n",
       "      <th></th>\n",
       "      <th>sequences</th>\n",
       "      <th>ratios</th>\n",
       "      <th>computational</th>\n",
       "    </tr>\n",
       "  </thead>\n",
       "  <tbody>\n",
       "    <tr>\n",
       "      <th>0</th>\n",
       "      <td>GTTCGGTCTA</td>\n",
       "      <td>16.618</td>\n",
       "      <td>3.810e+07</td>\n",
       "    </tr>\n",
       "    <tr>\n",
       "      <th>1</th>\n",
       "      <td>CCAAAACCAA</td>\n",
       "      <td>12.844</td>\n",
       "      <td>3.645e+07</td>\n",
       "    </tr>\n",
       "    <tr>\n",
       "      <th>2</th>\n",
       "      <td>AAACCACACA</td>\n",
       "      <td>13.076</td>\n",
       "      <td>4.014e+07</td>\n",
       "    </tr>\n",
       "    <tr>\n",
       "      <th>3</th>\n",
       "      <td>ACCAAACCAC</td>\n",
       "      <td>12.810</td>\n",
       "      <td>3.998e+07</td>\n",
       "    </tr>\n",
       "    <tr>\n",
       "      <th>4</th>\n",
       "      <td>ACACCAAACC</td>\n",
       "      <td>16.127</td>\n",
       "      <td>4.010e+07</td>\n",
       "    </tr>\n",
       "    <tr>\n",
       "      <th>5</th>\n",
       "      <td>AAAAACCCAC</td>\n",
       "      <td>14.819</td>\n",
       "      <td>3.625e+07</td>\n",
       "    </tr>\n",
       "    <tr>\n",
       "      <th>6</th>\n",
       "      <td>CAACACCCAA</td>\n",
       "      <td>19.336</td>\n",
       "      <td>4.199e+07</td>\n",
       "    </tr>\n",
       "    <tr>\n",
       "      <th>7</th>\n",
       "      <td>AAACCCACCA</td>\n",
       "      <td>13.562</td>\n",
       "      <td>4.246e+07</td>\n",
       "    </tr>\n",
       "    <tr>\n",
       "      <th>8</th>\n",
       "      <td>ACAACACCAC</td>\n",
       "      <td>15.988</td>\n",
       "      <td>4.145e+07</td>\n",
       "    </tr>\n",
       "    <tr>\n",
       "      <th>9</th>\n",
       "      <td>CAAAACCCCA</td>\n",
       "      <td>13.217</td>\n",
       "      <td>3.901e+07</td>\n",
       "    </tr>\n",
       "    <tr>\n",
       "      <th>10</th>\n",
       "      <td>AACCAACACC</td>\n",
       "      <td>16.166</td>\n",
       "      <td>4.064e+07</td>\n",
       "    </tr>\n",
       "    <tr>\n",
       "      <th>11</th>\n",
       "      <td>CAACACAACC</td>\n",
       "      <td>12.826</td>\n",
       "      <td>4.020e+07</td>\n",
       "    </tr>\n",
       "    <tr>\n",
       "      <th>12</th>\n",
       "      <td>ACCAACACCA</td>\n",
       "      <td>13.573</td>\n",
       "      <td>4.260e+07</td>\n",
       "    </tr>\n",
       "    <tr>\n",
       "      <th>13</th>\n",
       "      <td>CCACCAACAA</td>\n",
       "      <td>15.003</td>\n",
       "      <td>4.103e+07</td>\n",
       "    </tr>\n",
       "    <tr>\n",
       "      <th>14</th>\n",
       "      <td>ACACACACAC</td>\n",
       "      <td>8.407</td>\n",
       "      <td>4.308e+07</td>\n",
       "    </tr>\n",
       "    <tr>\n",
       "      <th>15</th>\n",
       "      <td>AACCACCACA</td>\n",
       "      <td>12.590</td>\n",
       "      <td>4.423e+07</td>\n",
       "    </tr>\n",
       "    <tr>\n",
       "      <th>16</th>\n",
       "      <td>CAACCAACCA</td>\n",
       "      <td>11.497</td>\n",
       "      <td>4.112e+07</td>\n",
       "    </tr>\n",
       "    <tr>\n",
       "      <th>17</th>\n",
       "      <td>ACACACACCA</td>\n",
       "      <td>10.244</td>\n",
       "      <td>4.399e+07</td>\n",
       "    </tr>\n",
       "    <tr>\n",
       "      <th>18</th>\n",
       "      <td>CCCCACACAA</td>\n",
       "      <td>11.037</td>\n",
       "      <td>4.477e+07</td>\n",
       "    </tr>\n",
       "    <tr>\n",
       "      <th>19</th>\n",
       "      <td>ACACCACCAC</td>\n",
       "      <td>12.798</td>\n",
       "      <td>4.642e+07</td>\n",
       "    </tr>\n",
       "    <tr>\n",
       "      <th>20</th>\n",
       "      <td>GCTGTTCGGTCTAT</td>\n",
       "      <td>16.255</td>\n",
       "      <td>2.706e+07</td>\n",
       "    </tr>\n",
       "    <tr>\n",
       "      <th>21</th>\n",
       "      <td>ACCAAACCACCAAC</td>\n",
       "      <td>9.210</td>\n",
       "      <td>2.961e+07</td>\n",
       "    </tr>\n",
       "    <tr>\n",
       "      <th>22</th>\n",
       "      <td>CAACACCAAACAAC</td>\n",
       "      <td>12.476</td>\n",
       "      <td>2.725e+07</td>\n",
       "    </tr>\n",
       "    <tr>\n",
       "      <th>23</th>\n",
       "      <td>CAAAACCCCAACAC</td>\n",
       "      <td>14.274</td>\n",
       "      <td>2.877e+07</td>\n",
       "    </tr>\n",
       "    <tr>\n",
       "      <th>24</th>\n",
       "      <td>AAACCCACCACACA</td>\n",
       "      <td>9.973</td>\n",
       "      <td>3.118e+07</td>\n",
       "    </tr>\n",
       "    <tr>\n",
       "      <th>25</th>\n",
       "      <td>CAACACCCAAACAC</td>\n",
       "      <td>13.096</td>\n",
       "      <td>2.900e+07</td>\n",
       "    </tr>\n",
       "    <tr>\n",
       "      <th>26</th>\n",
       "      <td>CCAAAACCAACAAC</td>\n",
       "      <td>11.228</td>\n",
       "      <td>2.679e+07</td>\n",
       "    </tr>\n",
       "    <tr>\n",
       "      <th>27</th>\n",
       "      <td>AAAAACCCACCCAA</td>\n",
       "      <td>11.225</td>\n",
       "      <td>2.834e+07</td>\n",
       "    </tr>\n",
       "    <tr>\n",
       "      <th>28</th>\n",
       "      <td>AAACCACCCAACAC</td>\n",
       "      <td>13.415</td>\n",
       "      <td>3.024e+07</td>\n",
       "    </tr>\n",
       "    <tr>\n",
       "      <th>29</th>\n",
       "      <td>CCCAAACCCAACCA</td>\n",
       "      <td>10.778</td>\n",
       "      <td>3.030e+07</td>\n",
       "    </tr>\n",
       "    <tr>\n",
       "      <th>30</th>\n",
       "      <td>ACCAACACCAACCA</td>\n",
       "      <td>9.764</td>\n",
       "      <td>3.049e+07</td>\n",
       "    </tr>\n",
       "    <tr>\n",
       "      <th>31</th>\n",
       "      <td>CAACAACACCACCA</td>\n",
       "      <td>10.408</td>\n",
       "      <td>2.983e+07</td>\n",
       "    </tr>\n",
       "    <tr>\n",
       "      <th>32</th>\n",
       "      <td>AACCAACACCACCA</td>\n",
       "      <td>9.633</td>\n",
       "      <td>3.057e+07</td>\n",
       "    </tr>\n",
       "    <tr>\n",
       "      <th>33</th>\n",
       "      <td>AACCACCACAAACC</td>\n",
       "      <td>10.788</td>\n",
       "      <td>2.940e+07</td>\n",
       "    </tr>\n",
       "    <tr>\n",
       "      <th>34</th>\n",
       "      <td>CAACACAACCAACC</td>\n",
       "      <td>9.513</td>\n",
       "      <td>2.877e+07</td>\n",
       "    </tr>\n",
       "    <tr>\n",
       "      <th>35</th>\n",
       "      <td>CACCACAACCACCA</td>\n",
       "      <td>9.794</td>\n",
       "      <td>3.153e+07</td>\n",
       "    </tr>\n",
       "    <tr>\n",
       "      <th>36</th>\n",
       "      <td>CCCCACACAACAAC</td>\n",
       "      <td>9.327</td>\n",
       "      <td>3.010e+07</td>\n",
       "    </tr>\n",
       "    <tr>\n",
       "      <th>37</th>\n",
       "      <td>CCACCAACAACAAC</td>\n",
       "      <td>9.624</td>\n",
       "      <td>2.838e+07</td>\n",
       "    </tr>\n",
       "    <tr>\n",
       "      <th>38</th>\n",
       "      <td>ACACACACCACACA</td>\n",
       "      <td>7.067</td>\n",
       "      <td>3.183e+07</td>\n",
       "    </tr>\n",
       "    <tr>\n",
       "      <th>39</th>\n",
       "      <td>CACACACACACACA</td>\n",
       "      <td>7.337</td>\n",
       "      <td>3.107e+07</td>\n",
       "    </tr>\n",
       "    <tr>\n",
       "      <th>40</th>\n",
       "      <td>ACCAACCAACCAAC</td>\n",
       "      <td>9.173</td>\n",
       "      <td>2.959e+07</td>\n",
       "    </tr>\n",
       "  </tbody>\n",
       "</table>\n",
       "</div>"
      ],
      "text/plain": [
       "         sequences  ratios  computational\n",
       "0       GTTCGGTCTA  16.618      3.810e+07\n",
       "1       CCAAAACCAA  12.844      3.645e+07\n",
       "2       AAACCACACA  13.076      4.014e+07\n",
       "3       ACCAAACCAC  12.810      3.998e+07\n",
       "4       ACACCAAACC  16.127      4.010e+07\n",
       "5       AAAAACCCAC  14.819      3.625e+07\n",
       "6       CAACACCCAA  19.336      4.199e+07\n",
       "7       AAACCCACCA  13.562      4.246e+07\n",
       "8       ACAACACCAC  15.988      4.145e+07\n",
       "9       CAAAACCCCA  13.217      3.901e+07\n",
       "10      AACCAACACC  16.166      4.064e+07\n",
       "11      CAACACAACC  12.826      4.020e+07\n",
       "12      ACCAACACCA  13.573      4.260e+07\n",
       "13      CCACCAACAA  15.003      4.103e+07\n",
       "14      ACACACACAC   8.407      4.308e+07\n",
       "15      AACCACCACA  12.590      4.423e+07\n",
       "16      CAACCAACCA  11.497      4.112e+07\n",
       "17      ACACACACCA  10.244      4.399e+07\n",
       "18      CCCCACACAA  11.037      4.477e+07\n",
       "19      ACACCACCAC  12.798      4.642e+07\n",
       "20  GCTGTTCGGTCTAT  16.255      2.706e+07\n",
       "21  ACCAAACCACCAAC   9.210      2.961e+07\n",
       "22  CAACACCAAACAAC  12.476      2.725e+07\n",
       "23  CAAAACCCCAACAC  14.274      2.877e+07\n",
       "24  AAACCCACCACACA   9.973      3.118e+07\n",
       "25  CAACACCCAAACAC  13.096      2.900e+07\n",
       "26  CCAAAACCAACAAC  11.228      2.679e+07\n",
       "27  AAAAACCCACCCAA  11.225      2.834e+07\n",
       "28  AAACCACCCAACAC  13.415      3.024e+07\n",
       "29  CCCAAACCCAACCA  10.778      3.030e+07\n",
       "30  ACCAACACCAACCA   9.764      3.049e+07\n",
       "31  CAACAACACCACCA  10.408      2.983e+07\n",
       "32  AACCAACACCACCA   9.633      3.057e+07\n",
       "33  AACCACCACAAACC  10.788      2.940e+07\n",
       "34  CAACACAACCAACC   9.513      2.877e+07\n",
       "35  CACCACAACCACCA   9.794      3.153e+07\n",
       "36  CCCCACACAACAAC   9.327      3.010e+07\n",
       "37  CCACCAACAACAAC   9.624      2.838e+07\n",
       "38  ACACACACCACACA   7.067      3.183e+07\n",
       "39  CACACACACACACA   7.337      3.107e+07\n",
       "40  ACCAACCAACCAAC   9.173      2.959e+07"
      ]
     },
     "execution_count": 34,
     "metadata": {},
     "output_type": "execute_result"
    }
   ],
   "source": [
    "data[['sequences','ratios','computational']]"
   ]
  }
 ],
 "metadata": {
  "kernelspec": {
   "display_name": "hdna",
   "language": "python",
   "name": "python3"
  },
  "language_info": {
   "codemirror_mode": {
    "name": "ipython",
    "version": 3
   },
   "file_extension": ".py",
   "mimetype": "text/x-python",
   "name": "python",
   "nbconvert_exporter": "python",
   "pygments_lexer": "ipython3",
   "version": "3.10.9"
  },
  "orig_nbformat": 4,
  "vscode": {
   "interpreter": {
    "hash": "13f02c433cbffcd00bbcbbfeff349f4b7c28e9023d8fb9f65ab93bb104997abd"
   }
  }
 },
 "nbformat": 4,
 "nbformat_minor": 2
}
