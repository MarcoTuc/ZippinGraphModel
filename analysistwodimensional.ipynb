{
 "cells": [
  {
   "cell_type": "code",
   "execution_count": 6,
   "metadata": {},
   "outputs": [
    {
     "data": {
      "text/plain": [
       "array([2.00000000e+07, 5.13015385e+10, 1.02583077e+11, 1.53864615e+11,\n",
       "       2.05146154e+11, 2.56427692e+11, 3.07709231e+11, 3.58990769e+11,\n",
       "       4.10272308e+11, 4.61553846e+11, 5.12835385e+11, 5.64116923e+11,\n",
       "       6.15398462e+11, 6.66680000e+11, 7.17961538e+11, 7.69243077e+11,\n",
       "       8.20524615e+11, 8.71806154e+11, 9.23087692e+11, 9.74369231e+11,\n",
       "       1.02565077e+12, 1.07693231e+12, 1.12821385e+12, 1.17949538e+12,\n",
       "       1.23077692e+12, 1.28205846e+12, 1.33334000e+12, 1.38462154e+12,\n",
       "       1.43590308e+12, 1.48718462e+12, 1.53846615e+12, 1.58974769e+12,\n",
       "       1.64102923e+12, 1.69231077e+12, 1.74359231e+12, 1.79487385e+12,\n",
       "       1.84615538e+12, 1.89743692e+12, 1.94871846e+12, 2.00000000e+12])"
      ]
     },
     "execution_count": 6,
     "metadata": {},
     "output_type": "execute_result"
    }
   ],
   "source": [
    "import numpy as np\n",
    "\n",
    "np.linspace(2e7,2e12,40)"
   ]
  },
  {
   "cell_type": "code",
   "execution_count": 7,
   "metadata": {},
   "outputs": [
    {
     "name": "stdout",
     "output_type": "stream",
     "text": [
      "The autoreload extension is already loaded. To reload it, use:\n",
      "  %reload_ext autoreload\n"
     ]
    }
   ],
   "source": [
    "%load_ext autoreload\n",
    "%autoreload 2"
   ]
  },
  {
   "cell_type": "code",
   "execution_count": 8,
   "metadata": {},
   "outputs": [],
   "source": [
    "import pandas as pd \n",
    "import math\n",
    "from conf import *\n",
    "\n",
    "pd.set_option('display.float_format', lambda x: '%.3e' % x if float(x) > 5000 or float(x) < 0.01 and float(x) != 0 else ('%d' % x if x.is_integer() else '%.3f' % x))"
   ]
  },
  {
   "cell_type": "code",
   "execution_count": 9,
   "metadata": {},
   "outputs": [
    {
     "ename": "FileNotFoundError",
     "evalue": "[Errno 2] No such file or directory: '/home/marco/Desktop/HDNAback/hDNA/results/ZZZtwodimensionalGMORNING/simulationdata.csv'",
     "output_type": "error",
     "traceback": [
      "\u001b[0;31m---------------------------------------------------------------------------\u001b[0m",
      "\u001b[0;31mFileNotFoundError\u001b[0m                         Traceback (most recent call last)",
      "Cell \u001b[0;32mIn[9], line 4\u001b[0m\n\u001b[1;32m      1\u001b[0m DIR \u001b[39m=\u001b[39m \u001b[39m'\u001b[39m\u001b[39m/home/marco/Desktop/HDNAback/hDNA/results/ZZZtwodimensionalGMORNING\u001b[39m\u001b[39m'\u001b[39m\n\u001b[1;32m      3\u001b[0m \u001b[39m# hyperp = pd.read_csv(f'{DIR}/hyperparameters.csv'); hyperp['values'][:-1].map(float)\u001b[39;00m\n\u001b[0;32m----> 4\u001b[0m data \u001b[39m=\u001b[39m pd\u001b[39m.\u001b[39;49mread_csv(\u001b[39mf\u001b[39;49m\u001b[39m'\u001b[39;49m\u001b[39m{\u001b[39;49;00mDIR\u001b[39m}\u001b[39;49;00m\u001b[39m/simulationdata.csv\u001b[39;49m\u001b[39m'\u001b[39;49m); \n\u001b[1;32m      5\u001b[0m data[\u001b[39m'\u001b[39m\u001b[39mindex\u001b[39m\u001b[39m'\u001b[39m] \u001b[39m=\u001b[39m data\u001b[39m.\u001b[39mindex\n\u001b[1;32m      6\u001b[0m \u001b[39mtry\u001b[39;00m: data\u001b[39m.\u001b[39mdrop(\u001b[39m'\u001b[39m\u001b[39mseq.1\u001b[39m\u001b[39m'\u001b[39m, axis\u001b[39m=\u001b[39m\u001b[39m1\u001b[39m, inplace\u001b[39m=\u001b[39m\u001b[39mTrue\u001b[39;00m)\n",
      "File \u001b[0;32m~/.local/lib/python3.10/site-packages/pandas/util/_decorators.py:211\u001b[0m, in \u001b[0;36mdeprecate_kwarg.<locals>._deprecate_kwarg.<locals>.wrapper\u001b[0;34m(*args, **kwargs)\u001b[0m\n\u001b[1;32m    209\u001b[0m     \u001b[39melse\u001b[39;00m:\n\u001b[1;32m    210\u001b[0m         kwargs[new_arg_name] \u001b[39m=\u001b[39m new_arg_value\n\u001b[0;32m--> 211\u001b[0m \u001b[39mreturn\u001b[39;00m func(\u001b[39m*\u001b[39;49margs, \u001b[39m*\u001b[39;49m\u001b[39m*\u001b[39;49mkwargs)\n",
      "File \u001b[0;32m~/.local/lib/python3.10/site-packages/pandas/util/_decorators.py:331\u001b[0m, in \u001b[0;36mdeprecate_nonkeyword_arguments.<locals>.decorate.<locals>.wrapper\u001b[0;34m(*args, **kwargs)\u001b[0m\n\u001b[1;32m    325\u001b[0m \u001b[39mif\u001b[39;00m \u001b[39mlen\u001b[39m(args) \u001b[39m>\u001b[39m num_allow_args:\n\u001b[1;32m    326\u001b[0m     warnings\u001b[39m.\u001b[39mwarn(\n\u001b[1;32m    327\u001b[0m         msg\u001b[39m.\u001b[39mformat(arguments\u001b[39m=\u001b[39m_format_argument_list(allow_args)),\n\u001b[1;32m    328\u001b[0m         \u001b[39mFutureWarning\u001b[39;00m,\n\u001b[1;32m    329\u001b[0m         stacklevel\u001b[39m=\u001b[39mfind_stack_level(),\n\u001b[1;32m    330\u001b[0m     )\n\u001b[0;32m--> 331\u001b[0m \u001b[39mreturn\u001b[39;00m func(\u001b[39m*\u001b[39;49margs, \u001b[39m*\u001b[39;49m\u001b[39m*\u001b[39;49mkwargs)\n",
      "File \u001b[0;32m~/.local/lib/python3.10/site-packages/pandas/io/parsers/readers.py:950\u001b[0m, in \u001b[0;36mread_csv\u001b[0;34m(filepath_or_buffer, sep, delimiter, header, names, index_col, usecols, squeeze, prefix, mangle_dupe_cols, dtype, engine, converters, true_values, false_values, skipinitialspace, skiprows, skipfooter, nrows, na_values, keep_default_na, na_filter, verbose, skip_blank_lines, parse_dates, infer_datetime_format, keep_date_col, date_parser, dayfirst, cache_dates, iterator, chunksize, compression, thousands, decimal, lineterminator, quotechar, quoting, doublequote, escapechar, comment, encoding, encoding_errors, dialect, error_bad_lines, warn_bad_lines, on_bad_lines, delim_whitespace, low_memory, memory_map, float_precision, storage_options)\u001b[0m\n\u001b[1;32m    935\u001b[0m kwds_defaults \u001b[39m=\u001b[39m _refine_defaults_read(\n\u001b[1;32m    936\u001b[0m     dialect,\n\u001b[1;32m    937\u001b[0m     delimiter,\n\u001b[0;32m   (...)\u001b[0m\n\u001b[1;32m    946\u001b[0m     defaults\u001b[39m=\u001b[39m{\u001b[39m\"\u001b[39m\u001b[39mdelimiter\u001b[39m\u001b[39m\"\u001b[39m: \u001b[39m\"\u001b[39m\u001b[39m,\u001b[39m\u001b[39m\"\u001b[39m},\n\u001b[1;32m    947\u001b[0m )\n\u001b[1;32m    948\u001b[0m kwds\u001b[39m.\u001b[39mupdate(kwds_defaults)\n\u001b[0;32m--> 950\u001b[0m \u001b[39mreturn\u001b[39;00m _read(filepath_or_buffer, kwds)\n",
      "File \u001b[0;32m~/.local/lib/python3.10/site-packages/pandas/io/parsers/readers.py:605\u001b[0m, in \u001b[0;36m_read\u001b[0;34m(filepath_or_buffer, kwds)\u001b[0m\n\u001b[1;32m    602\u001b[0m _validate_names(kwds\u001b[39m.\u001b[39mget(\u001b[39m\"\u001b[39m\u001b[39mnames\u001b[39m\u001b[39m\"\u001b[39m, \u001b[39mNone\u001b[39;00m))\n\u001b[1;32m    604\u001b[0m \u001b[39m# Create the parser.\u001b[39;00m\n\u001b[0;32m--> 605\u001b[0m parser \u001b[39m=\u001b[39m TextFileReader(filepath_or_buffer, \u001b[39m*\u001b[39;49m\u001b[39m*\u001b[39;49mkwds)\n\u001b[1;32m    607\u001b[0m \u001b[39mif\u001b[39;00m chunksize \u001b[39mor\u001b[39;00m iterator:\n\u001b[1;32m    608\u001b[0m     \u001b[39mreturn\u001b[39;00m parser\n",
      "File \u001b[0;32m~/.local/lib/python3.10/site-packages/pandas/io/parsers/readers.py:1442\u001b[0m, in \u001b[0;36mTextFileReader.__init__\u001b[0;34m(self, f, engine, **kwds)\u001b[0m\n\u001b[1;32m   1439\u001b[0m     \u001b[39mself\u001b[39m\u001b[39m.\u001b[39moptions[\u001b[39m\"\u001b[39m\u001b[39mhas_index_names\u001b[39m\u001b[39m\"\u001b[39m] \u001b[39m=\u001b[39m kwds[\u001b[39m\"\u001b[39m\u001b[39mhas_index_names\u001b[39m\u001b[39m\"\u001b[39m]\n\u001b[1;32m   1441\u001b[0m \u001b[39mself\u001b[39m\u001b[39m.\u001b[39mhandles: IOHandles \u001b[39m|\u001b[39m \u001b[39mNone\u001b[39;00m \u001b[39m=\u001b[39m \u001b[39mNone\u001b[39;00m\n\u001b[0;32m-> 1442\u001b[0m \u001b[39mself\u001b[39m\u001b[39m.\u001b[39m_engine \u001b[39m=\u001b[39m \u001b[39mself\u001b[39;49m\u001b[39m.\u001b[39;49m_make_engine(f, \u001b[39mself\u001b[39;49m\u001b[39m.\u001b[39;49mengine)\n",
      "File \u001b[0;32m~/.local/lib/python3.10/site-packages/pandas/io/parsers/readers.py:1735\u001b[0m, in \u001b[0;36mTextFileReader._make_engine\u001b[0;34m(self, f, engine)\u001b[0m\n\u001b[1;32m   1733\u001b[0m     \u001b[39mif\u001b[39;00m \u001b[39m\"\u001b[39m\u001b[39mb\u001b[39m\u001b[39m\"\u001b[39m \u001b[39mnot\u001b[39;00m \u001b[39min\u001b[39;00m mode:\n\u001b[1;32m   1734\u001b[0m         mode \u001b[39m+\u001b[39m\u001b[39m=\u001b[39m \u001b[39m\"\u001b[39m\u001b[39mb\u001b[39m\u001b[39m\"\u001b[39m\n\u001b[0;32m-> 1735\u001b[0m \u001b[39mself\u001b[39m\u001b[39m.\u001b[39mhandles \u001b[39m=\u001b[39m get_handle(\n\u001b[1;32m   1736\u001b[0m     f,\n\u001b[1;32m   1737\u001b[0m     mode,\n\u001b[1;32m   1738\u001b[0m     encoding\u001b[39m=\u001b[39;49m\u001b[39mself\u001b[39;49m\u001b[39m.\u001b[39;49moptions\u001b[39m.\u001b[39;49mget(\u001b[39m\"\u001b[39;49m\u001b[39mencoding\u001b[39;49m\u001b[39m\"\u001b[39;49m, \u001b[39mNone\u001b[39;49;00m),\n\u001b[1;32m   1739\u001b[0m     compression\u001b[39m=\u001b[39;49m\u001b[39mself\u001b[39;49m\u001b[39m.\u001b[39;49moptions\u001b[39m.\u001b[39;49mget(\u001b[39m\"\u001b[39;49m\u001b[39mcompression\u001b[39;49m\u001b[39m\"\u001b[39;49m, \u001b[39mNone\u001b[39;49;00m),\n\u001b[1;32m   1740\u001b[0m     memory_map\u001b[39m=\u001b[39;49m\u001b[39mself\u001b[39;49m\u001b[39m.\u001b[39;49moptions\u001b[39m.\u001b[39;49mget(\u001b[39m\"\u001b[39;49m\u001b[39mmemory_map\u001b[39;49m\u001b[39m\"\u001b[39;49m, \u001b[39mFalse\u001b[39;49;00m),\n\u001b[1;32m   1741\u001b[0m     is_text\u001b[39m=\u001b[39;49mis_text,\n\u001b[1;32m   1742\u001b[0m     errors\u001b[39m=\u001b[39;49m\u001b[39mself\u001b[39;49m\u001b[39m.\u001b[39;49moptions\u001b[39m.\u001b[39;49mget(\u001b[39m\"\u001b[39;49m\u001b[39mencoding_errors\u001b[39;49m\u001b[39m\"\u001b[39;49m, \u001b[39m\"\u001b[39;49m\u001b[39mstrict\u001b[39;49m\u001b[39m\"\u001b[39;49m),\n\u001b[1;32m   1743\u001b[0m     storage_options\u001b[39m=\u001b[39;49m\u001b[39mself\u001b[39;49m\u001b[39m.\u001b[39;49moptions\u001b[39m.\u001b[39;49mget(\u001b[39m\"\u001b[39;49m\u001b[39mstorage_options\u001b[39;49m\u001b[39m\"\u001b[39;49m, \u001b[39mNone\u001b[39;49;00m),\n\u001b[1;32m   1744\u001b[0m )\n\u001b[1;32m   1745\u001b[0m \u001b[39massert\u001b[39;00m \u001b[39mself\u001b[39m\u001b[39m.\u001b[39mhandles \u001b[39mis\u001b[39;00m \u001b[39mnot\u001b[39;00m \u001b[39mNone\u001b[39;00m\n\u001b[1;32m   1746\u001b[0m f \u001b[39m=\u001b[39m \u001b[39mself\u001b[39m\u001b[39m.\u001b[39mhandles\u001b[39m.\u001b[39mhandle\n",
      "File \u001b[0;32m~/.local/lib/python3.10/site-packages/pandas/io/common.py:856\u001b[0m, in \u001b[0;36mget_handle\u001b[0;34m(path_or_buf, mode, encoding, compression, memory_map, is_text, errors, storage_options)\u001b[0m\n\u001b[1;32m    851\u001b[0m \u001b[39melif\u001b[39;00m \u001b[39misinstance\u001b[39m(handle, \u001b[39mstr\u001b[39m):\n\u001b[1;32m    852\u001b[0m     \u001b[39m# Check whether the filename is to be opened in binary mode.\u001b[39;00m\n\u001b[1;32m    853\u001b[0m     \u001b[39m# Binary mode does not support 'encoding' and 'newline'.\u001b[39;00m\n\u001b[1;32m    854\u001b[0m     \u001b[39mif\u001b[39;00m ioargs\u001b[39m.\u001b[39mencoding \u001b[39mand\u001b[39;00m \u001b[39m\"\u001b[39m\u001b[39mb\u001b[39m\u001b[39m\"\u001b[39m \u001b[39mnot\u001b[39;00m \u001b[39min\u001b[39;00m ioargs\u001b[39m.\u001b[39mmode:\n\u001b[1;32m    855\u001b[0m         \u001b[39m# Encoding\u001b[39;00m\n\u001b[0;32m--> 856\u001b[0m         handle \u001b[39m=\u001b[39m \u001b[39mopen\u001b[39;49m(\n\u001b[1;32m    857\u001b[0m             handle,\n\u001b[1;32m    858\u001b[0m             ioargs\u001b[39m.\u001b[39;49mmode,\n\u001b[1;32m    859\u001b[0m             encoding\u001b[39m=\u001b[39;49mioargs\u001b[39m.\u001b[39;49mencoding,\n\u001b[1;32m    860\u001b[0m             errors\u001b[39m=\u001b[39;49merrors,\n\u001b[1;32m    861\u001b[0m             newline\u001b[39m=\u001b[39;49m\u001b[39m\"\u001b[39;49m\u001b[39m\"\u001b[39;49m,\n\u001b[1;32m    862\u001b[0m         )\n\u001b[1;32m    863\u001b[0m     \u001b[39melse\u001b[39;00m:\n\u001b[1;32m    864\u001b[0m         \u001b[39m# Binary mode\u001b[39;00m\n\u001b[1;32m    865\u001b[0m         handle \u001b[39m=\u001b[39m \u001b[39mopen\u001b[39m(handle, ioargs\u001b[39m.\u001b[39mmode)\n",
      "\u001b[0;31mFileNotFoundError\u001b[0m: [Errno 2] No such file or directory: '/home/marco/Desktop/HDNAback/hDNA/results/ZZZtwodimensionalGMORNING/simulationdata.csv'"
     ]
    }
   ],
   "source": [
    "DIR = '/home/marco/Desktop/HDNAback/hDNA/results/ZZZtwodimensionalGMORNING'\n",
    "\n",
    "# hyperp = pd.read_csv(f'{DIR}/hyperparameters.csv'); hyperp['values'][:-1].map(float)\n",
    "data = pd.read_csv(f'{DIR}/simulationdata.csv'); \n",
    "data['index'] = data.index\n",
    "try: data.drop('seq.1', axis=1, inplace=True)\n",
    "except KeyError: pass\n",
    "try: data.drop('Unnamed: 0', axis=1, inplace=True)\n",
    "except KeyError: pass"
   ]
  },
  {
   "cell_type": "code",
   "execution_count": null,
   "metadata": {},
   "outputs": [],
   "source": [
    "DIR = '/home/marco/Desktop/HDNAback/hDNA/results/sumofinchandpk51/run_1'\n",
    "\n",
    "# hyperp = pd.read_csv(f'{DIR}/hyperparameters.csv'); hyperp['values'][:-1].map(float)\n",
    "data3 = pd.read_csv(f'{DIR}/simulationdata.csv'); \n",
    "data3['index'] = data3.index\n",
    "try: data3.drop('sequences.1', axis=1, inplace=True)\n",
    "except KeyError: pass\n",
    "try: data3.drop('Unnamed: 5', axis=1, inplace=True)\n",
    "except KeyError: pass"
   ]
  },
  {
   "cell_type": "code",
   "execution_count": null,
   "metadata": {},
   "outputs": [
    {
     "data": {
      "application/vnd.plotly.v1+json": {
       "config": {
        "plotlyServerURL": "https://plot.ly"
       },
       "data": [
        {
         "hovertemplate": "length=10<br>computational=%{x}<br>sequences=%{y}<extra></extra>",
         "legendgroup": "10",
         "marker": {
          "color": "#636efa",
          "line": {
           "color": "black",
           "width": 2
          },
          "size": 16,
          "symbol": "circle"
         },
         "mode": "markers",
         "name": "10",
         "orientation": "h",
         "showlegend": true,
         "type": "scatter",
         "x": [
          1000000,
          1000000,
          1000000,
          1000000,
          1000000,
          1000000,
          1000000,
          1000000,
          1000000,
          1000000,
          1000000,
          1000000,
          1000000,
          1000000,
          1000000,
          1000000,
          1000000,
          1000000,
          1000000,
          1000000
         ],
         "xaxis": "x",
         "y": [
          "GTTCGGTCTA",
          "CCAAAACCAA",
          "AAACCACACA",
          "ACCAAACCAC",
          "ACACCAAACC",
          "AAAAACCCAC",
          "CAACACCCAA",
          "AAACCCACCA",
          "ACAACACCAC",
          "CAAAACCCCA",
          "AACCAACACC",
          "CAACACAACC",
          "ACCAACACCA",
          "CCACCAACAA",
          "ACACACACAC",
          "AACCACCACA",
          "CAACCAACCA",
          "ACACACACCA",
          "CCCCACACAA",
          "ACACCACCAC"
         ],
         "yaxis": "y"
        },
        {
         "hovertemplate": "length=14<br>computational=%{x}<br>sequences=%{y}<extra></extra>",
         "legendgroup": "14",
         "marker": {
          "color": "#EF553B",
          "line": {
           "color": "black",
           "width": 2
          },
          "size": 16,
          "symbol": "circle"
         },
         "mode": "markers",
         "name": "14",
         "orientation": "h",
         "showlegend": true,
         "type": "scatter",
         "x": [
          1000000,
          1000000,
          1000000,
          1000000,
          1000000,
          1000000,
          1000000,
          1000000,
          1000000,
          1000000,
          1000000,
          1000000,
          1000000,
          1000000,
          1000000,
          1000000,
          1000000,
          1000000,
          1000000,
          1000000,
          1000000
         ],
         "xaxis": "x",
         "y": [
          "GCTGTTCGGTCTAT",
          "ACCAAACCACCAAC",
          "CAACACCAAACAAC",
          "CAAAACCCCAACAC",
          "AAACCCACCACACA",
          "CAACACCCAAACAC",
          "CCAAAACCAACAAC",
          "AAAAACCCACCCAA",
          "AAACCACCCAACAC",
          "CCCAAACCCAACCA",
          "ACCAACACCAACCA",
          "CAACAACACCACCA",
          "AACCAACACCACCA",
          "AACCACCACAAACC",
          "CAACACAACCAACC",
          "CACCACAACCACCA",
          "CCCCACACAACAAC",
          "CCACCAACAACAAC",
          "ACACACACCACACA",
          "CACACACACACACA",
          "ACCAACCAACCAAC"
         ],
         "yaxis": "y"
        }
       ],
       "layout": {
        "height": 1000,
        "legend": {
         "font": {
          "color": "black",
          "family": "Courier",
          "size": 32
         },
         "title": {
          "text": "length"
         },
         "tracegroupgap": 0
        },
        "margin": {
         "t": 60
        },
        "scattermode": "group",
        "template": {
         "data": {
          "pie": [
           {
            "automargin": true,
            "type": "pie"
           }
          ],
          "scatter": [
           {
            "line": {
             "width": 3
            },
            "marker": {
             "size": 9
            },
            "type": "scatter"
           }
          ],
          "scatter3d": [
           {
            "line": {
             "width": 3
            },
            "marker": {
             "size": 9
            },
            "type": "scatter3d"
           }
          ],
          "scattergeo": [
           {
            "line": {
             "width": 3
            },
            "marker": {
             "size": 9
            },
            "type": "scattergeo"
           }
          ],
          "scattergl": [
           {
            "line": {
             "width": 3
            },
            "marker": {
             "size": 9
            },
            "type": "scattergl"
           }
          ],
          "scatterpolar": [
           {
            "line": {
             "width": 3
            },
            "marker": {
             "size": 9
            },
            "type": "scatterpolar"
           }
          ],
          "scatterpolargl": [
           {
            "line": {
             "width": 3
            },
            "marker": {
             "size": 9
            },
            "type": "scatterpolargl"
           }
          ],
          "scatterternary": [
           {
            "line": {
             "width": 3
            },
            "marker": {
             "size": 9
            },
            "type": "scatterternary"
           }
          ],
          "table": [
           {
            "cells": {
             "height": 30
            },
            "header": {
             "height": 36
            },
            "type": "table"
           }
          ]
         },
         "layout": {
          "font": {
           "size": 18
          },
          "xaxis": {
           "title": {
            "standoff": 15
           }
          },
          "yaxis": {
           "title": {
            "standoff": 15
           }
          }
         }
        },
        "width": 1200,
        "xaxis": {
         "anchor": "y",
         "automargin": true,
         "domain": [
          0,
          1
         ],
         "dtick": 1000000,
         "linecolor": "black",
         "linewidth": 3,
         "minor": {
          "dtick": 3,
          "tick0": 0
         },
         "nticks": 10,
         "showexponent": "none",
         "tick0": 0,
         "tickformat": ".1e",
         "tickmode": "linear",
         "title": {
          "text": "Two-dimensional Hybridization Rates"
         }
        },
        "yaxis": {
         "anchor": "x",
         "automargin": true,
         "autorange": "reversed",
         "domain": [
          0,
          1
         ],
         "dtick": 1,
         "linecolor": "black",
         "linewidth": 2,
         "tickmode": "linear",
         "title": {
          "text": "sequences"
         }
        }
       }
      }
     },
     "metadata": {},
     "output_type": "display_data"
    }
   ],
   "source": [
    "import plotly.express as px \n",
    "\n",
    "data['length'] = [str(len(d)) for d in data['sequences']]\n",
    "fig = px.scatter(data,y='sequences', x='computational', color='length')\n",
    "fig.update_layout(width = 1200,\n",
    "                  height = 1000,\n",
    "                  template = 'presentation',\n",
    "                  scattermode='group',\n",
    "                  xaxis_title=\"Two-dimensional Hybridization Rates\",\n",
    "                  xaxis=dict(tickmode = 'linear',\n",
    "                            #  tickvals = [2e7,2.5e7,3e7,3.5e7,4e7,4.5e7,5e7],\n",
    "                             nticks=10,\n",
    "                             tick0=0,\n",
    "                             dtick=1e6,\n",
    "                             tickformat=\".1e\",\n",
    "                             linecolor='black',\n",
    "                             automargin=True,\n",
    "                             linewidth=3,\n",
    "                             minor=dict(dtick=3,tick0=0)),\n",
    "                  yaxis=dict(tickmode='linear',\n",
    "                             dtick=1,\n",
    "                             autorange='reversed',\n",
    "                             automargin=True,\n",
    "                             linecolor='black',\n",
    "                             linewidth=2),\n",
    "                  legend = dict(\n",
    "                            font = dict(family='Courier',\n",
    "                                        size=32,\n",
    "                                        color='black')))\n",
    "\n",
    "fig.update_xaxes(showexponent='none')\n",
    "\n",
    "fig.update_traces(marker=dict(size=16,\n",
    "                              line=dict(width=2,\n",
    "                                        color='black'\n",
    "                              )))\n",
    "fig.show()"
   ]
  },
  {
   "cell_type": "code",
   "execution_count": null,
   "metadata": {},
   "outputs": [
    {
     "data": {
      "application/vnd.plotly.v1+json": {
       "config": {
        "plotlyServerURL": "https://plot.ly"
       },
       "data": [
        {
         "hovertemplate": "length=10<br>sequences=%{x}<br>computational=%{y}<extra></extra>",
         "legendgroup": "10",
         "marker": {
          "color": "#636efa",
          "line": {
           "color": "black",
           "width": 2
          },
          "size": 16,
          "symbol": "circle"
         },
         "mode": "markers",
         "name": "10",
         "orientation": "v",
         "showlegend": true,
         "type": "scatter",
         "x": [
          "GTTCGGTCTA",
          "CCAAAACCAA",
          "AAACCACACA",
          "ACCAAACCAC",
          "ACACCAAACC",
          "AAAAACCCAC",
          "CAACACCCAA",
          "AAACCCACCA",
          "ACAACACCAC",
          "CAAAACCCCA",
          "AACCAACACC",
          "CAACACAACC",
          "ACCAACACCA",
          "CCACCAACAA",
          "ACACACACAC",
          "AACCACCACA",
          "CAACCAACCA",
          "ACACACACCA",
          "CCCCACACAA",
          "ACACCACCAC"
         ],
         "xaxis": "x",
         "y": [
          1000000,
          1000000,
          1000000,
          1000000,
          1000000,
          1000000,
          1000000,
          1000000,
          1000000,
          1000000,
          1000000,
          1000000,
          1000000,
          1000000,
          1000000,
          1000000,
          1000000,
          1000000,
          1000000,
          1000000
         ],
         "yaxis": "y"
        },
        {
         "hovertemplate": "length=14<br>sequences=%{x}<br>computational=%{y}<extra></extra>",
         "legendgroup": "14",
         "marker": {
          "color": "#EF553B",
          "line": {
           "color": "black",
           "width": 2
          },
          "size": 16,
          "symbol": "circle"
         },
         "mode": "markers",
         "name": "14",
         "orientation": "v",
         "showlegend": true,
         "type": "scatter",
         "x": [
          "GCTGTTCGGTCTAT",
          "ACCAAACCACCAAC",
          "CAACACCAAACAAC",
          "CAAAACCCCAACAC",
          "AAACCCACCACACA",
          "CAACACCCAAACAC",
          "CCAAAACCAACAAC",
          "AAAAACCCACCCAA",
          "AAACCACCCAACAC",
          "CCCAAACCCAACCA",
          "ACCAACACCAACCA",
          "CAACAACACCACCA",
          "AACCAACACCACCA",
          "AACCACCACAAACC",
          "CAACACAACCAACC",
          "CACCACAACCACCA",
          "CCCCACACAACAAC",
          "CCACCAACAACAAC",
          "ACACACACCACACA",
          "CACACACACACACA",
          "ACCAACCAACCAAC"
         ],
         "xaxis": "x",
         "y": [
          1000000,
          1000000,
          1000000,
          1000000,
          1000000,
          1000000,
          1000000,
          1000000,
          1000000,
          1000000,
          1000000,
          1000000,
          1000000,
          1000000,
          1000000,
          1000000,
          1000000,
          1000000,
          1000000,
          1000000,
          1000000
         ],
         "yaxis": "y"
        }
       ],
       "layout": {
        "height": 1000,
        "legend": {
         "font": {
          "color": "black",
          "family": "Courier",
          "size": 32
         },
         "title": {
          "text": "length"
         },
         "tracegroupgap": 0
        },
        "margin": {
         "t": 60
        },
        "scattermode": "group",
        "template": {
         "data": {
          "pie": [
           {
            "automargin": true,
            "type": "pie"
           }
          ],
          "scatter": [
           {
            "line": {
             "width": 3
            },
            "marker": {
             "size": 9
            },
            "type": "scatter"
           }
          ],
          "scatter3d": [
           {
            "line": {
             "width": 3
            },
            "marker": {
             "size": 9
            },
            "type": "scatter3d"
           }
          ],
          "scattergeo": [
           {
            "line": {
             "width": 3
            },
            "marker": {
             "size": 9
            },
            "type": "scattergeo"
           }
          ],
          "scattergl": [
           {
            "line": {
             "width": 3
            },
            "marker": {
             "size": 9
            },
            "type": "scattergl"
           }
          ],
          "scatterpolar": [
           {
            "line": {
             "width": 3
            },
            "marker": {
             "size": 9
            },
            "type": "scatterpolar"
           }
          ],
          "scatterpolargl": [
           {
            "line": {
             "width": 3
            },
            "marker": {
             "size": 9
            },
            "type": "scatterpolargl"
           }
          ],
          "scatterternary": [
           {
            "line": {
             "width": 3
            },
            "marker": {
             "size": 9
            },
            "type": "scatterternary"
           }
          ],
          "table": [
           {
            "cells": {
             "height": 30
            },
            "header": {
             "height": 36
            },
            "type": "table"
           }
          ]
         },
         "layout": {
          "font": {
           "size": 18
          },
          "xaxis": {
           "title": {
            "standoff": 15
           }
          },
          "yaxis": {
           "title": {
            "standoff": 15
           }
          }
         }
        },
        "width": 1200,
        "xaxis": {
         "anchor": "y",
         "automargin": true,
         "domain": [
          0,
          1
         ],
         "dtick": 1,
         "linecolor": "black",
         "linewidth": 2,
         "tickmode": "linear",
         "title": {
          "text": "sequences"
         }
        },
        "yaxis": {
         "anchor": "x",
         "automargin": true,
         "domain": [
          0,
          1
         ],
         "dtick": 1000000,
         "linecolor": "black",
         "linewidth": 3,
         "minor": {
          "dtick": 3,
          "tick0": 0
         },
         "nticks": 10,
         "showexponent": "none",
         "tick0": 0,
         "tickformat": ".1e",
         "tickmode": "linear",
         "title": {
          "text": "Two-dimensional Hybridization Rates"
         }
        }
       }
      }
     },
     "metadata": {},
     "output_type": "display_data"
    }
   ],
   "source": [
    "import plotly.express as px \n",
    "\n",
    "data['length'] = [str(len(d)) for d in data['sequences']]\n",
    "fig = px.scatter(data,x='sequences', y='computational', color='length')\n",
    "fig.update_layout(width = 1200,\n",
    "                  height = 1000,\n",
    "                  template = 'presentation',\n",
    "                  scattermode='group',\n",
    "                  yaxis_title=\"Two-dimensional Hybridization Rates\",\n",
    "                  yaxis=dict(tickmode = 'linear',\n",
    "                            #  tickvals = [2e7,2.5e7,3e7,3.5e7,4e7,4.5e7,5e7],\n",
    "                             nticks=10,\n",
    "                             tick0=0,\n",
    "                             dtick=1e6,\n",
    "                             tickformat=\".1e\",\n",
    "                             linecolor='black',\n",
    "                             automargin=True,\n",
    "                             linewidth=3,\n",
    "                             minor=dict(dtick=3,tick0=0)),\n",
    "                  xaxis=dict(tickmode='linear',\n",
    "                             dtick=1,\n",
    "                            #  autorange='reversed',\n",
    "                             automargin=True,\n",
    "                             linecolor='black',\n",
    "                             linewidth=2),\n",
    "                  legend = dict(\n",
    "                            font = dict(family='Courier',\n",
    "                                        size=32,\n",
    "                                        color='black')))\n",
    "\n",
    "fig.update_yaxes(showexponent='none')\n",
    "\n",
    "fig.update_traces(marker=dict(size=16,\n",
    "                              line=dict(width=2,\n",
    "                                        color='black'\n",
    "                              )))\n",
    "fig.show()"
   ]
  },
  {
   "cell_type": "code",
   "execution_count": null,
   "metadata": {},
   "outputs": [],
   "source": [
    "from plotly import graph_objects as go"
   ]
  },
  {
   "cell_type": "code",
   "execution_count": null,
   "metadata": {},
   "outputs": [
    {
     "data": {
      "application/vnd.plotly.v1+json": {
       "config": {
        "plotlyServerURL": "https://plot.ly"
       },
       "data": [
        {
         "marker": {
          "color": "#CF5C36",
          "line": {
           "width": 2
          },
          "opacity": 0.8,
          "size": 24,
          "symbol": "diamond"
         },
         "mode": "markers",
         "name": "3D computed    ",
         "type": "scatter",
         "x": [
          "GTTCGGTCTA",
          "CCAAAACCAA",
          "AAACCACACA",
          "ACCAAACCAC",
          "ACACCAAACC",
          "AAAAACCCAC",
          "CAACACCCAA",
          "AAACCCACCA",
          "ACAACACCAC",
          "CAAAACCCCA",
          "AACCAACACC",
          "CAACACAACC",
          "ACCAACACCA",
          "CCACCAACAA",
          "ACACACACAC",
          "AACCACCACA",
          "CAACCAACCA",
          "ACACACACCA",
          "CCCCACACAA",
          "ACACCACCAC",
          "GCTGTTCGGTCTAT",
          "ACCAAACCACCAAC",
          "CAACACCAAACAAC",
          "CAAAACCCCAACAC",
          "AAACCCACCACACA",
          "CAACACCCAAACAC",
          "CCAAAACCAACAAC",
          "AAAAACCCACCCAA",
          "AAACCACCCAACAC",
          "CCCAAACCCAACCA",
          "ACCAACACCAACCA",
          "CAACAACACCACCA",
          "AACCAACACCACCA",
          "AACCACCACAAACC",
          "CAACACAACCAACC",
          "CACCACAACCACCA",
          "CCCCACACAACAAC",
          "CCACCAACAACAAC",
          "ACACACACCACACA",
          "CACACACACACACA",
          "ACCAACCAACCAAC"
         ],
         "y": [
          0.2292829187885385,
          0.28375129587224346,
          0.30695166990980477,
          0.3121290609459927,
          0.24862789147797823,
          0.24464093047358978,
          0.21715893989054072,
          0.3130774066075434,
          0.2592744596281676,
          0.29515162046534693,
          0.2514156691237031,
          0.31344542410589477,
          0.31384259487366817,
          0.2734784032497446,
          0.5124496548912347,
          0.35132729597940293,
          0.3576877342500084,
          0.42940867996382376,
          0.4056592373244324,
          0.3627368042903997,
          0.16647046765274784,
          0.32152294802681763,
          0.21843894664594454,
          0.20155495465980758,
          0.31260309921770907,
          0.2214084010778704,
          0.23856002931182538,
          0.25250652801975887,
          0.2253900227954424,
          0.2811021522264709,
          0.31223299585567943,
          0.2865860190452316,
          0.31732489156402505,
          0.2725490354785058,
          0.3024451088978774,
          0.3219915750963311,
          0.3226847889369344,
          0.29485847688878986,
          0.45046418318552156,
          0.4234638902273256,
          0.32258849462499006
         ]
        },
        {
         "marker": {
          "color": "#6610F2",
          "line": {
           "width": 2
          },
          "size": 24,
          "symbol": 6
         },
         "mode": "markers",
         "name": "2D computed    ",
         "type": "scatter",
         "x": [
          "GTTCGGTCTA",
          "CCAAAACCAA",
          "AAACCACACA",
          "ACCAAACCAC",
          "ACACCAAACC",
          "AAAAACCCAC",
          "CAACACCCAA",
          "AAACCCACCA",
          "ACAACACCAC",
          "CAAAACCCCA",
          "AACCAACACC",
          "CAACACAACC",
          "ACCAACACCA",
          "CCACCAACAA",
          "ACACACACAC",
          "AACCACCACA",
          "CAACCAACCA",
          "ACACACACCA",
          "CCCCACACAA",
          "ACACCACCAC",
          "GCTGTTCGGTCTAT",
          "ACCAAACCACCAAC",
          "CAACACCAAACAAC",
          "CAAAACCCCAACAC",
          "AAACCCACCACACA",
          "CAACACCCAAACAC",
          "CCAAAACCAACAAC",
          "AAAAACCCACCCAA",
          "AAACCACCCAACAC",
          "CCCAAACCCAACCA",
          "ACCAACACCAACCA",
          "CAACAACACCACCA",
          "AACCAACACCACCA",
          "AACCACCACAAACC",
          "CAACACAACCAACC",
          "CACCACAACCACCA",
          "CCCCACACAACAAC",
          "CCACCAACAACAAC",
          "ACACACACCACACA",
          "CACACACACACACA",
          "ACCAACCAACCAAC"
         ],
         "y": [
          0.09999999999999999,
          0.09999999999999999,
          0.09999999999999999,
          0.09999999999999999,
          0.09999999999999999,
          0.09999999999999999,
          0.09999999999999999,
          0.09999999999999999,
          0.09999999999999999,
          0.09999999999999999,
          0.09999999999999999,
          0.09999999999999999,
          0.09999999999999999,
          0.09999999999999999,
          0.09999999999999999,
          0.09999999999999999,
          0.09999999999999999,
          0.09999999999999999,
          0.09999999999999999,
          0.09999999999999999,
          0.09999999999999999,
          0.09999999999999999,
          0.09999999999999999,
          0.09999999999999999,
          0.09999999999999999,
          0.09999999999999999,
          0.09999999999999999,
          0.09999999999999999,
          0.09999999999999999,
          0.09999999999999999,
          0.09999999999999999,
          0.09999999999999999,
          0.09999999999999999,
          0.09999999999999999,
          0.09999999999999999,
          0.09999999999999999,
          0.09999999999999999,
          0.09999999999999999,
          0.09999999999999999,
          0.09999999999999999,
          0.09999999999999999
         ]
        },
        {
         "marker": {
          "color": "#9BC53D",
          "line": {
           "width": 2
          },
          "opacity": 0.8,
          "size": 24,
          "symbol": 35
         },
         "mode": "markers",
         "name": "3D experimental    ",
         "type": "scatter",
         "x": [
          "GTTCGGTCTA",
          "CCAAAACCAA",
          "AAACCACACA",
          "ACCAAACCAC",
          "ACACCAAACC",
          "AAAAACCCAC",
          "CAACACCCAA",
          "AAACCCACCA",
          "ACAACACCAC",
          "CAAAACCCCA",
          "AACCAACACC",
          "CAACACAACC",
          "ACCAACACCA",
          "CCACCAACAA",
          "ACACACACAC",
          "AACCACCACA",
          "CAACCAACCA",
          "ACACACACCA",
          "CCCCACACAA",
          "ACACCACCAC",
          "GCTGTTCGGTCTAT",
          "ACCAAACCACCAAC",
          "CAACACCAAACAAC",
          "CAAAACCCCAACAC",
          "AAACCCACCACACA",
          "CAACACCCAAACAC",
          "CCAAAACCAACAAC",
          "AAAAACCCACCCAA",
          "AAACCACCCAACAC",
          "CCCAAACCCAACCA",
          "ACCAACACCAACCA",
          "CAACAACACCACCA",
          "AACCAACACCACCA",
          "AACCACCACAAACC",
          "CAACACAACCAACC",
          "CACCACAACCACCA",
          "CCCCACACAACAAC",
          "CCACCAACAACAAC",
          "ACACACACCACACA",
          "CACACACACACACA",
          "ACCAACCAACCAAC"
         ],
         "y": [
          0.11459499999999999,
          0.1668154,
          0.1809459,
          0.2167675,
          0.2178513,
          0.23646399999999998,
          0.25115129999999997,
          0.25270349999999997,
          0.2559279,
          0.2651666,
          0.265567,
          0.2695608,
          0.2765864,
          0.2825047,
          0.384388,
          0.38659479999999996,
          0.3960894,
          0.4159347,
          0.5448523,
          0.5613146999999999,
          0.1042173,
          0.1186657,
          0.1779672,
          0.1831343,
          0.1892296,
          0.2124654,
          0.2304253,
          0.24334519999999998,
          0.2745623,
          0.2975581,
          0.31869159999999996,
          0.3242444,
          0.3629903,
          0.3659749,
          0.37630389999999997,
          0.38054,
          0.3961922,
          0.40622579999999997,
          0.4442077,
          0.4818114,
          0.5208461
         ]
        }
       ],
       "layout": {
        "height": 1200,
        "legend": {
         "font": {
          "color": "black",
          "family": "Courier",
          "size": 32
         },
         "itemwidth": 90,
         "orientation": "h",
         "x": 1,
         "xanchor": "right",
         "y": 1.02,
         "yanchor": "bottom"
        },
        "template": {
         "data": {
          "pie": [
           {
            "automargin": true,
            "type": "pie"
           }
          ],
          "scatter": [
           {
            "line": {
             "width": 3
            },
            "marker": {
             "size": 9
            },
            "type": "scatter"
           }
          ],
          "scatter3d": [
           {
            "line": {
             "width": 3
            },
            "marker": {
             "size": 9
            },
            "type": "scatter3d"
           }
          ],
          "scattergeo": [
           {
            "line": {
             "width": 3
            },
            "marker": {
             "size": 9
            },
            "type": "scattergeo"
           }
          ],
          "scattergl": [
           {
            "line": {
             "width": 3
            },
            "marker": {
             "size": 9
            },
            "type": "scattergl"
           }
          ],
          "scatterpolar": [
           {
            "line": {
             "width": 3
            },
            "marker": {
             "size": 9
            },
            "type": "scatterpolar"
           }
          ],
          "scatterpolargl": [
           {
            "line": {
             "width": 3
            },
            "marker": {
             "size": 9
            },
            "type": "scatterpolargl"
           }
          ],
          "scatterternary": [
           {
            "line": {
             "width": 3
            },
            "marker": {
             "size": 9
            },
            "type": "scatterternary"
           }
          ],
          "table": [
           {
            "cells": {
             "height": 30
            },
            "header": {
             "height": 36
            },
            "type": "table"
           }
          ]
         },
         "layout": {
          "font": {
           "size": 18
          },
          "xaxis": {
           "title": {
            "standoff": 15
           }
          },
          "yaxis": {
           "title": {
            "standoff": 15
           }
          }
         }
        },
        "width": 1200,
        "xaxis": {
         "automargin": true,
         "dtick": 1,
         "linecolor": "black",
         "linewidth": 2,
         "tickfont": {
          "size": 20
         },
         "tickmode": "linear",
         "title": {
          "text": "sequences"
         }
        },
        "yaxis": {
         "automargin": true,
         "dtick": 0.5,
         "exponentformat": "e",
         "linecolor": "black",
         "linewidth": 3,
         "minor": {
          "dtick": 3,
          "tick0": 0
         },
         "nticks": 10,
         "tick0": 1,
         "tickfont": {
          "size": 30
         },
         "tickformat": ".1f",
         "tickmode": "linear",
         "title": {
          "text": "two-dimensional hybridization rate"
         }
        }
       }
      }
     },
     "metadata": {},
     "output_type": "display_data"
    }
   ],
   "source": [
    "\n",
    "\n",
    "\n",
    "trace1 = go.Scatter(\n",
    "    x = data['sequences'], # My list of values for 'x'\n",
    "    y = data['computational']*1e-7,\n",
    "    # marker = dict(color = 'white'),\n",
    "    mode = 'markers',\n",
    "    marker_symbol=6,\n",
    "    name = '2D computed    ',\n",
    "    marker=dict(color='#6610F2'))\n",
    "\n",
    "trace2 = go.Scatter(\n",
    "    x = data3['sequences'],\n",
    "    y = data3['computational']*1e-7,\n",
    "    mode = 'markers',\n",
    "    marker_symbol = 'diamond',\n",
    "    name = '3D computed    ',\n",
    "    marker=dict(color='#CF5C36',opacity=0.80)\n",
    ")\n",
    "trace3 = go.Scatter(\n",
    "    x = data3['sequences'],\n",
    "    y = data3['experimental']*1e-7,\n",
    "    mode = 'markers',\n",
    "    marker_symbol = 35,\n",
    "    name = '3D experimental    ',\n",
    "    marker=dict(color='#9BC53D',opacity=0.80)\n",
    ")\n",
    "layout = go.Layout(\n",
    "    template='presentation',\n",
    "    xaxis_title='sequences',\n",
    "    yaxis_title='two-dimensional hybridization rate',\n",
    "    width = 1200,\n",
    "    height = 1200,\n",
    "    xaxis = dict(tickmode='linear',\n",
    "                dtick=1,\n",
    "                automargin=True,\n",
    "                linecolor='black',\n",
    "                linewidth=2),\n",
    "    yaxis = dict(tickmode = 'linear',\n",
    "                nticks=10,\n",
    "                tick0=1,\n",
    "                dtick=0.5,\n",
    "                tickformat=\".1f\",\n",
    "                linecolor='black',\n",
    "                automargin=True,\n",
    "                linewidth=3,\n",
    "                minor=dict(dtick=3,tick0=0)),\n",
    "    legend = dict(\n",
    "            # itemsizing='constant',\n",
    "            itemwidth = 90,\n",
    "            font = dict(family='Courier',\n",
    "            size=32,\n",
    "            color='black')))\n",
    "\n",
    "dati = [trace2, trace1, trace3]\n",
    "fig = go.Figure(data = dati, layout = layout)\n",
    "\n",
    "fig.update_yaxes(exponentformat=\"e\")\n",
    "\n",
    "fig.update_layout(legend=dict(\n",
    "    orientation=\"h\",\n",
    "    yanchor=\"bottom\",\n",
    "    y=1.02,\n",
    "    xanchor=\"right\",\n",
    "    x=1\n",
    "))\n",
    "\n",
    "fig.update_layout(\n",
    "yaxis = dict(\n",
    "tickfont = dict(size=30)),\n",
    "xaxis = dict(\n",
    "tickfont = dict(size=20)))\n",
    "\n",
    "fig.update_traces(marker=dict(size=24,\n",
    "                              line=dict(width=2\n",
    "                              )))\n",
    "\n",
    "fig.show()"
   ]
  },
  {
   "cell_type": "code",
   "execution_count": null,
   "metadata": {},
   "outputs": [],
   "source": [
    "n = max(data['computational'])"
   ]
  },
  {
   "cell_type": "code",
   "execution_count": null,
   "metadata": {},
   "outputs": [],
   "source": [
    "def upperapprox(num):\n",
    "    order = math.floor(math.log10(n))\n",
    "    return math.ceil(num/(10**order))*10**order"
   ]
  },
  {
   "cell_type": "code",
   "execution_count": null,
   "metadata": {},
   "outputs": [
    {
     "name": "stdout",
     "output_type": "stream",
     "text": [
      "0.34944076482840936\n",
      "0.3332797953232339\n",
      "0.3648321643571478\n",
      "1.000e+06\n"
     ]
    }
   ],
   "source": [
    "\n",
    "ratios = [twod/tred for twod, tred in zip(data['computational'], data3['computational'])]\n",
    "print(sum(ratios)/41)\n",
    "\n",
    "print(sum(ratios[:20])/20)\n",
    "print(sum(ratios[20:])/21)\n",
    "print(f\"{sum(data['computational'][:20]/len(data['computational'][:20])):.3e}\")"
   ]
  },
  {
   "cell_type": "code",
   "execution_count": null,
   "metadata": {},
   "outputs": [],
   "source": [
    "data['ratios'] = ratios"
   ]
  },
  {
   "cell_type": "code",
   "execution_count": null,
   "metadata": {},
   "outputs": [
    {
     "data": {
      "text/html": [
       "<div>\n",
       "<style scoped>\n",
       "    .dataframe tbody tr th:only-of-type {\n",
       "        vertical-align: middle;\n",
       "    }\n",
       "\n",
       "    .dataframe tbody tr th {\n",
       "        vertical-align: top;\n",
       "    }\n",
       "\n",
       "    .dataframe thead th {\n",
       "        text-align: right;\n",
       "    }\n",
       "</style>\n",
       "<table border=\"1\" class=\"dataframe\">\n",
       "  <thead>\n",
       "    <tr style=\"text-align: right;\">\n",
       "      <th></th>\n",
       "      <th>sequences</th>\n",
       "      <th>ratios</th>\n",
       "      <th>computational</th>\n",
       "    </tr>\n",
       "  </thead>\n",
       "  <tbody>\n",
       "    <tr>\n",
       "      <th>0</th>\n",
       "      <td>GTTCGGTCTA</td>\n",
       "      <td>0.436</td>\n",
       "      <td>1.000e+06</td>\n",
       "    </tr>\n",
       "    <tr>\n",
       "      <th>1</th>\n",
       "      <td>CCAAAACCAA</td>\n",
       "      <td>0.352</td>\n",
       "      <td>1.000e+06</td>\n",
       "    </tr>\n",
       "    <tr>\n",
       "      <th>2</th>\n",
       "      <td>AAACCACACA</td>\n",
       "      <td>0.326</td>\n",
       "      <td>1.000e+06</td>\n",
       "    </tr>\n",
       "    <tr>\n",
       "      <th>3</th>\n",
       "      <td>ACCAAACCAC</td>\n",
       "      <td>0.320</td>\n",
       "      <td>1.000e+06</td>\n",
       "    </tr>\n",
       "    <tr>\n",
       "      <th>4</th>\n",
       "      <td>ACACCAAACC</td>\n",
       "      <td>0.402</td>\n",
       "      <td>1.000e+06</td>\n",
       "    </tr>\n",
       "    <tr>\n",
       "      <th>5</th>\n",
       "      <td>AAAAACCCAC</td>\n",
       "      <td>0.409</td>\n",
       "      <td>1.000e+06</td>\n",
       "    </tr>\n",
       "    <tr>\n",
       "      <th>6</th>\n",
       "      <td>CAACACCCAA</td>\n",
       "      <td>0.460</td>\n",
       "      <td>1.000e+06</td>\n",
       "    </tr>\n",
       "    <tr>\n",
       "      <th>7</th>\n",
       "      <td>AAACCCACCA</td>\n",
       "      <td>0.319</td>\n",
       "      <td>1.000e+06</td>\n",
       "    </tr>\n",
       "    <tr>\n",
       "      <th>8</th>\n",
       "      <td>ACAACACCAC</td>\n",
       "      <td>0.386</td>\n",
       "      <td>1.000e+06</td>\n",
       "    </tr>\n",
       "    <tr>\n",
       "      <th>9</th>\n",
       "      <td>CAAAACCCCA</td>\n",
       "      <td>0.339</td>\n",
       "      <td>1.000e+06</td>\n",
       "    </tr>\n",
       "    <tr>\n",
       "      <th>10</th>\n",
       "      <td>AACCAACACC</td>\n",
       "      <td>0.398</td>\n",
       "      <td>1.000e+06</td>\n",
       "    </tr>\n",
       "    <tr>\n",
       "      <th>11</th>\n",
       "      <td>CAACACAACC</td>\n",
       "      <td>0.319</td>\n",
       "      <td>1.000e+06</td>\n",
       "    </tr>\n",
       "    <tr>\n",
       "      <th>12</th>\n",
       "      <td>ACCAACACCA</td>\n",
       "      <td>0.319</td>\n",
       "      <td>1.000e+06</td>\n",
       "    </tr>\n",
       "    <tr>\n",
       "      <th>13</th>\n",
       "      <td>CCACCAACAA</td>\n",
       "      <td>0.366</td>\n",
       "      <td>1.000e+06</td>\n",
       "    </tr>\n",
       "    <tr>\n",
       "      <th>14</th>\n",
       "      <td>ACACACACAC</td>\n",
       "      <td>0.195</td>\n",
       "      <td>1.000e+06</td>\n",
       "    </tr>\n",
       "    <tr>\n",
       "      <th>15</th>\n",
       "      <td>AACCACCACA</td>\n",
       "      <td>0.285</td>\n",
       "      <td>1.000e+06</td>\n",
       "    </tr>\n",
       "    <tr>\n",
       "      <th>16</th>\n",
       "      <td>CAACCAACCA</td>\n",
       "      <td>0.280</td>\n",
       "      <td>1.000e+06</td>\n",
       "    </tr>\n",
       "    <tr>\n",
       "      <th>17</th>\n",
       "      <td>ACACACACCA</td>\n",
       "      <td>0.233</td>\n",
       "      <td>1.000e+06</td>\n",
       "    </tr>\n",
       "    <tr>\n",
       "      <th>18</th>\n",
       "      <td>CCCCACACAA</td>\n",
       "      <td>0.247</td>\n",
       "      <td>1.000e+06</td>\n",
       "    </tr>\n",
       "    <tr>\n",
       "      <th>19</th>\n",
       "      <td>ACACCACCAC</td>\n",
       "      <td>0.276</td>\n",
       "      <td>1.000e+06</td>\n",
       "    </tr>\n",
       "    <tr>\n",
       "      <th>20</th>\n",
       "      <td>GCTGTTCGGTCTAT</td>\n",
       "      <td>0.601</td>\n",
       "      <td>1.000e+06</td>\n",
       "    </tr>\n",
       "    <tr>\n",
       "      <th>21</th>\n",
       "      <td>ACCAAACCACCAAC</td>\n",
       "      <td>0.311</td>\n",
       "      <td>1.000e+06</td>\n",
       "    </tr>\n",
       "    <tr>\n",
       "      <th>22</th>\n",
       "      <td>CAACACCAAACAAC</td>\n",
       "      <td>0.458</td>\n",
       "      <td>1.000e+06</td>\n",
       "    </tr>\n",
       "    <tr>\n",
       "      <th>23</th>\n",
       "      <td>CAAAACCCCAACAC</td>\n",
       "      <td>0.496</td>\n",
       "      <td>1.000e+06</td>\n",
       "    </tr>\n",
       "    <tr>\n",
       "      <th>24</th>\n",
       "      <td>AAACCCACCACACA</td>\n",
       "      <td>0.320</td>\n",
       "      <td>1.000e+06</td>\n",
       "    </tr>\n",
       "    <tr>\n",
       "      <th>25</th>\n",
       "      <td>CAACACCCAAACAC</td>\n",
       "      <td>0.452</td>\n",
       "      <td>1.000e+06</td>\n",
       "    </tr>\n",
       "    <tr>\n",
       "      <th>26</th>\n",
       "      <td>CCAAAACCAACAAC</td>\n",
       "      <td>0.419</td>\n",
       "      <td>1.000e+06</td>\n",
       "    </tr>\n",
       "    <tr>\n",
       "      <th>27</th>\n",
       "      <td>AAAAACCCACCCAA</td>\n",
       "      <td>0.396</td>\n",
       "      <td>1.000e+06</td>\n",
       "    </tr>\n",
       "    <tr>\n",
       "      <th>28</th>\n",
       "      <td>AAACCACCCAACAC</td>\n",
       "      <td>0.444</td>\n",
       "      <td>1.000e+06</td>\n",
       "    </tr>\n",
       "    <tr>\n",
       "      <th>29</th>\n",
       "      <td>CCCAAACCCAACCA</td>\n",
       "      <td>0.356</td>\n",
       "      <td>1.000e+06</td>\n",
       "    </tr>\n",
       "    <tr>\n",
       "      <th>30</th>\n",
       "      <td>ACCAACACCAACCA</td>\n",
       "      <td>0.320</td>\n",
       "      <td>1.000e+06</td>\n",
       "    </tr>\n",
       "    <tr>\n",
       "      <th>31</th>\n",
       "      <td>CAACAACACCACCA</td>\n",
       "      <td>0.349</td>\n",
       "      <td>1.000e+06</td>\n",
       "    </tr>\n",
       "    <tr>\n",
       "      <th>32</th>\n",
       "      <td>AACCAACACCACCA</td>\n",
       "      <td>0.315</td>\n",
       "      <td>1.000e+06</td>\n",
       "    </tr>\n",
       "    <tr>\n",
       "      <th>33</th>\n",
       "      <td>AACCACCACAAACC</td>\n",
       "      <td>0.367</td>\n",
       "      <td>1.000e+06</td>\n",
       "    </tr>\n",
       "    <tr>\n",
       "      <th>34</th>\n",
       "      <td>CAACACAACCAACC</td>\n",
       "      <td>0.331</td>\n",
       "      <td>1.000e+06</td>\n",
       "    </tr>\n",
       "    <tr>\n",
       "      <th>35</th>\n",
       "      <td>CACCACAACCACCA</td>\n",
       "      <td>0.311</td>\n",
       "      <td>1.000e+06</td>\n",
       "    </tr>\n",
       "    <tr>\n",
       "      <th>36</th>\n",
       "      <td>CCCCACACAACAAC</td>\n",
       "      <td>0.310</td>\n",
       "      <td>1.000e+06</td>\n",
       "    </tr>\n",
       "    <tr>\n",
       "      <th>37</th>\n",
       "      <td>CCACCAACAACAAC</td>\n",
       "      <td>0.339</td>\n",
       "      <td>1.000e+06</td>\n",
       "    </tr>\n",
       "    <tr>\n",
       "      <th>38</th>\n",
       "      <td>ACACACACCACACA</td>\n",
       "      <td>0.222</td>\n",
       "      <td>1.000e+06</td>\n",
       "    </tr>\n",
       "    <tr>\n",
       "      <th>39</th>\n",
       "      <td>CACACACACACACA</td>\n",
       "      <td>0.236</td>\n",
       "      <td>1.000e+06</td>\n",
       "    </tr>\n",
       "    <tr>\n",
       "      <th>40</th>\n",
       "      <td>ACCAACCAACCAAC</td>\n",
       "      <td>0.310</td>\n",
       "      <td>1.000e+06</td>\n",
       "    </tr>\n",
       "  </tbody>\n",
       "</table>\n",
       "</div>"
      ],
      "text/plain": [
       "         sequences  ratios  computational\n",
       "0       GTTCGGTCTA   0.436      1.000e+06\n",
       "1       CCAAAACCAA   0.352      1.000e+06\n",
       "2       AAACCACACA   0.326      1.000e+06\n",
       "3       ACCAAACCAC   0.320      1.000e+06\n",
       "4       ACACCAAACC   0.402      1.000e+06\n",
       "5       AAAAACCCAC   0.409      1.000e+06\n",
       "6       CAACACCCAA   0.460      1.000e+06\n",
       "7       AAACCCACCA   0.319      1.000e+06\n",
       "8       ACAACACCAC   0.386      1.000e+06\n",
       "9       CAAAACCCCA   0.339      1.000e+06\n",
       "10      AACCAACACC   0.398      1.000e+06\n",
       "11      CAACACAACC   0.319      1.000e+06\n",
       "12      ACCAACACCA   0.319      1.000e+06\n",
       "13      CCACCAACAA   0.366      1.000e+06\n",
       "14      ACACACACAC   0.195      1.000e+06\n",
       "15      AACCACCACA   0.285      1.000e+06\n",
       "16      CAACCAACCA   0.280      1.000e+06\n",
       "17      ACACACACCA   0.233      1.000e+06\n",
       "18      CCCCACACAA   0.247      1.000e+06\n",
       "19      ACACCACCAC   0.276      1.000e+06\n",
       "20  GCTGTTCGGTCTAT   0.601      1.000e+06\n",
       "21  ACCAAACCACCAAC   0.311      1.000e+06\n",
       "22  CAACACCAAACAAC   0.458      1.000e+06\n",
       "23  CAAAACCCCAACAC   0.496      1.000e+06\n",
       "24  AAACCCACCACACA   0.320      1.000e+06\n",
       "25  CAACACCCAAACAC   0.452      1.000e+06\n",
       "26  CCAAAACCAACAAC   0.419      1.000e+06\n",
       "27  AAAAACCCACCCAA   0.396      1.000e+06\n",
       "28  AAACCACCCAACAC   0.444      1.000e+06\n",
       "29  CCCAAACCCAACCA   0.356      1.000e+06\n",
       "30  ACCAACACCAACCA   0.320      1.000e+06\n",
       "31  CAACAACACCACCA   0.349      1.000e+06\n",
       "32  AACCAACACCACCA   0.315      1.000e+06\n",
       "33  AACCACCACAAACC   0.367      1.000e+06\n",
       "34  CAACACAACCAACC   0.331      1.000e+06\n",
       "35  CACCACAACCACCA   0.311      1.000e+06\n",
       "36  CCCCACACAACAAC   0.310      1.000e+06\n",
       "37  CCACCAACAACAAC   0.339      1.000e+06\n",
       "38  ACACACACCACACA   0.222      1.000e+06\n",
       "39  CACACACACACACA   0.236      1.000e+06\n",
       "40  ACCAACCAACCAAC   0.310      1.000e+06"
      ]
     },
     "execution_count": 28,
     "metadata": {},
     "output_type": "execute_result"
    }
   ],
   "source": [
    "data[['sequences','ratios','computational']]"
   ]
  }
 ],
 "metadata": {
  "kernelspec": {
   "display_name": "hdna",
   "language": "python",
   "name": "python3"
  },
  "language_info": {
   "codemirror_mode": {
    "name": "ipython",
    "version": 3
   },
   "file_extension": ".py",
   "mimetype": "text/x-python",
   "name": "python",
   "nbconvert_exporter": "python",
   "pygments_lexer": "ipython3",
   "version": "3.10.9"
  },
  "orig_nbformat": 4,
  "vscode": {
   "interpreter": {
    "hash": "13f02c433cbffcd00bbcbbfeff349f4b7c28e9023d8fb9f65ab93bb104997abd"
   }
  }
 },
 "nbformat": 4,
 "nbformat_minor": 2
}
