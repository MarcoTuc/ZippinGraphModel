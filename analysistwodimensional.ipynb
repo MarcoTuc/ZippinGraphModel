{
 "cells": [
  {
   "cell_type": "code",
   "execution_count": 3,
   "metadata": {},
   "outputs": [],
   "source": [
    "%load_ext autoreload\n",
    "%autoreload 2"
   ]
  },
  {
   "cell_type": "code",
   "execution_count": 4,
   "metadata": {},
   "outputs": [],
   "source": [
    "import pandas as pd \n",
    "import math\n",
    "from conf import *\n",
    "\n",
    "pd.set_option('display.float_format', lambda x: '%.3e' % x if float(x) > 5000 or float(x) < 0.01 and float(x) != 0 else ('%d' % x if x.is_integer() else '%.3f' % x))"
   ]
  },
  {
   "cell_type": "code",
   "execution_count": 5,
   "metadata": {},
   "outputs": [],
   "source": [
    "DIR = '/home/marco/Desktop/HDNAback/hDNA/results/PLZTWOD/run_1'\n",
    "\n",
    "# hyperp = pd.read_csv(f'{DIR}/hyperparameters.csv'); hyperp['values'][:-1].map(float)\n",
    "data = pd.read_csv(f'{DIR}/simulationdata.csv'); \n",
    "data['index'] = data.index\n",
    "try: data.drop('seq.1', axis=1, inplace=True)\n",
    "except KeyError: pass\n",
    "try: data.drop('Unnamed: 0', axis=1, inplace=True)\n",
    "except KeyError: pass"
   ]
  },
  {
   "cell_type": "code",
   "execution_count": 29,
   "metadata": {},
   "outputs": [],
   "source": [
    "DIR = '/home/marco/Desktop/HDNAback/hDNA/results/sumofinchandpk51/run_1'\n",
    "\n",
    "# hyperp = pd.read_csv(f'{DIR}/hyperparameters.csv'); hyperp['values'][:-1].map(float)\n",
    "data3 = pd.read_csv(f'{DIR}/simulationdata.csv'); \n",
    "data3['index'] = data3.index\n",
    "try: data3.drop('sequences.1', axis=1, inplace=True)\n",
    "except KeyError: pass\n",
    "try: data3.drop('Unnamed: 5', axis=1, inplace=True)\n",
    "except KeyError: pass"
   ]
  },
  {
   "cell_type": "code",
   "execution_count": 21,
   "metadata": {},
   "outputs": [
    {
     "data": {
      "application/vnd.plotly.v1+json": {
       "config": {
        "plotlyServerURL": "https://plot.ly"
       },
       "data": [
        {
         "hovertemplate": "length=10<br>computational=%{x}<br>sequences=%{y}<extra></extra>",
         "legendgroup": "10",
         "marker": {
          "color": "#636efa",
          "line": {
           "color": "black",
           "width": 2
          },
          "size": 16,
          "symbol": "circle"
         },
         "mode": "markers",
         "name": "10",
         "orientation": "h",
         "showlegend": true,
         "type": "scatter",
         "x": [
          33085209.23421732,
          31788060.23392231,
          35562525.39152554,
          36931304.88349458,
          33757828.1838352,
          33190200.629659,
          37172075.22171855,
          37887118.02953098,
          36991203.3100756,
          34309143.69585378,
          37037954.9917786,
          34369802.254717425,
          36884119.35679482,
          36262383.48489951,
          41050121.13720544,
          40205616.09740422,
          36143569.11750602,
          38614153.29992108,
          40008171.25879084,
          41256249.08403892
         ],
         "xaxis": "x",
         "y": [
          "GTTCGGTCTA",
          "CCAAAACCAA",
          "AAACCACACA",
          "ACCAAACCAC",
          "ACACCAAACC",
          "AAAAACCCAC",
          "CAACACCCAA",
          "AAACCCACCA",
          "ACAACACCAC",
          "CAAAACCCCA",
          "AACCAACACC",
          "CAACACAACC",
          "ACCAACACCA",
          "CCACCAACAA",
          "ACACACACAC",
          "AACCACCACA",
          "CAACCAACCA",
          "ACACACACCA",
          "CCCCACACAA",
          "ACACCACCAC"
         ],
         "yaxis": "y"
        },
        {
         "hovertemplate": "length=14<br>computational=%{x}<br>sequences=%{y}<extra></extra>",
         "legendgroup": "14",
         "marker": {
          "color": "#EF553B",
          "line": {
           "color": "black",
           "width": 2
          },
          "size": 16,
          "symbol": "circle"
         },
         "mode": "markers",
         "name": "14",
         "orientation": "h",
         "showlegend": true,
         "type": "scatter",
         "x": [
          25405349.080603138,
          26153832.86045312,
          24968875.57948754,
          25262743.891704485,
          26972177.66660894,
          27105192.39604343,
          23590296.403828043,
          25202787.65889684,
          27229091.188113976,
          26277568.53492024,
          27565348.54478488,
          27454424.99656785,
          27582267.82518021,
          26213590.665490888,
          26159453.498786453,
          28472381.80493959,
          28290113.518926017,
          26096491.233132176,
          27968339.85766029,
          28515949.98893885,
          25520581.79182164
         ],
         "xaxis": "x",
         "y": [
          "GCTGTTCGGTCTAT",
          "ACCAAACCACCAAC",
          "CAACACCAAACAAC",
          "CAAAACCCCAACAC",
          "AAACCCACCACACA",
          "CAACACCCAAACAC",
          "CCAAAACCAACAAC",
          "AAAAACCCACCCAA",
          "AAACCACCCAACAC",
          "CCCAAACCCAACCA",
          "ACCAACACCAACCA",
          "CAACAACACCACCA",
          "AACCAACACCACCA",
          "AACCACCACAAACC",
          "CAACACAACCAACC",
          "CACCACAACCACCA",
          "CCCCACACAACAAC",
          "CCACCAACAACAAC",
          "ACACACACCACACA",
          "CACACACACACACA",
          "ACCAACCAACCAAC"
         ],
         "yaxis": "y"
        }
       ],
       "layout": {
        "height": 1000,
        "legend": {
         "font": {
          "color": "black",
          "family": "Courier",
          "size": 32
         },
         "title": {
          "text": "length"
         },
         "tracegroupgap": 0
        },
        "margin": {
         "t": 60
        },
        "scattermode": "group",
        "template": {
         "data": {
          "pie": [
           {
            "automargin": true,
            "type": "pie"
           }
          ],
          "scatter": [
           {
            "line": {
             "width": 3
            },
            "marker": {
             "size": 9
            },
            "type": "scatter"
           }
          ],
          "scatter3d": [
           {
            "line": {
             "width": 3
            },
            "marker": {
             "size": 9
            },
            "type": "scatter3d"
           }
          ],
          "scattergeo": [
           {
            "line": {
             "width": 3
            },
            "marker": {
             "size": 9
            },
            "type": "scattergeo"
           }
          ],
          "scattergl": [
           {
            "line": {
             "width": 3
            },
            "marker": {
             "size": 9
            },
            "type": "scattergl"
           }
          ],
          "scatterpolar": [
           {
            "line": {
             "width": 3
            },
            "marker": {
             "size": 9
            },
            "type": "scatterpolar"
           }
          ],
          "scatterpolargl": [
           {
            "line": {
             "width": 3
            },
            "marker": {
             "size": 9
            },
            "type": "scatterpolargl"
           }
          ],
          "scatterternary": [
           {
            "line": {
             "width": 3
            },
            "marker": {
             "size": 9
            },
            "type": "scatterternary"
           }
          ],
          "table": [
           {
            "cells": {
             "height": 30
            },
            "header": {
             "height": 36
            },
            "type": "table"
           }
          ]
         },
         "layout": {
          "font": {
           "size": 18
          },
          "xaxis": {
           "title": {
            "standoff": 15
           }
          },
          "yaxis": {
           "title": {
            "standoff": 15
           }
          }
         }
        },
        "width": 1200,
        "xaxis": {
         "anchor": "y",
         "automargin": true,
         "domain": [
          0,
          1
         ],
         "dtick": 1000000,
         "linecolor": "black",
         "linewidth": 3,
         "minor": {
          "dtick": 3,
          "tick0": 0
         },
         "nticks": 10,
         "showexponent": "none",
         "tick0": 0,
         "tickformat": ".1e",
         "tickmode": "linear",
         "title": {
          "text": "Two-dimensional Hybridization Rates"
         }
        },
        "yaxis": {
         "anchor": "x",
         "automargin": true,
         "autorange": "reversed",
         "domain": [
          0,
          1
         ],
         "dtick": 1,
         "linecolor": "black",
         "linewidth": 2,
         "tickmode": "linear",
         "title": {
          "text": "sequences"
         }
        }
       }
      }
     },
     "metadata": {},
     "output_type": "display_data"
    }
   ],
   "source": [
    "import plotly.express as px \n",
    "\n",
    "data['length'] = [str(len(d)) for d in data['sequences']]\n",
    "fig = px.scatter(data,y='sequences', x='computational', color='length')\n",
    "fig.update_layout(width = 1200,\n",
    "                  height = 1000,\n",
    "                  template = 'presentation',\n",
    "                  scattermode='group',\n",
    "                  xaxis_title=\"Two-dimensional Hybridization Rates\",\n",
    "                  xaxis=dict(tickmode = 'linear',\n",
    "                            #  tickvals = [2e7,2.5e7,3e7,3.5e7,4e7,4.5e7,5e7],\n",
    "                             nticks=10,\n",
    "                             tick0=0,\n",
    "                             dtick=1e6,\n",
    "                             tickformat=\".1e\",\n",
    "                             linecolor='black',\n",
    "                             automargin=True,\n",
    "                             linewidth=3,\n",
    "                             minor=dict(dtick=3,tick0=0)),\n",
    "                  yaxis=dict(tickmode='linear',\n",
    "                             dtick=1,\n",
    "                             autorange='reversed',\n",
    "                             automargin=True,\n",
    "                             linecolor='black',\n",
    "                             linewidth=2),\n",
    "                  legend = dict(\n",
    "                            font = dict(family='Courier',\n",
    "                                        size=32,\n",
    "                                        color='black')))\n",
    "\n",
    "fig.update_xaxes(showexponent='none')\n",
    "\n",
    "fig.update_traces(marker=dict(size=16,\n",
    "                              line=dict(width=2,\n",
    "                                        color='black'\n",
    "                              )))\n",
    "fig.show()"
   ]
  },
  {
   "cell_type": "code",
   "execution_count": 23,
   "metadata": {},
   "outputs": [
    {
     "data": {
      "application/vnd.plotly.v1+json": {
       "config": {
        "plotlyServerURL": "https://plot.ly"
       },
       "data": [
        {
         "hovertemplate": "length=10<br>sequences=%{x}<br>computational=%{y}<extra></extra>",
         "legendgroup": "10",
         "marker": {
          "color": "#636efa",
          "line": {
           "color": "black",
           "width": 2
          },
          "size": 16,
          "symbol": "circle"
         },
         "mode": "markers",
         "name": "10",
         "orientation": "v",
         "showlegend": true,
         "type": "scatter",
         "x": [
          "GTTCGGTCTA",
          "CCAAAACCAA",
          "AAACCACACA",
          "ACCAAACCAC",
          "ACACCAAACC",
          "AAAAACCCAC",
          "CAACACCCAA",
          "AAACCCACCA",
          "ACAACACCAC",
          "CAAAACCCCA",
          "AACCAACACC",
          "CAACACAACC",
          "ACCAACACCA",
          "CCACCAACAA",
          "ACACACACAC",
          "AACCACCACA",
          "CAACCAACCA",
          "ACACACACCA",
          "CCCCACACAA",
          "ACACCACCAC"
         ],
         "xaxis": "x",
         "y": [
          33085209.23421732,
          31788060.23392231,
          35562525.39152554,
          36931304.88349458,
          33757828.1838352,
          33190200.629659,
          37172075.22171855,
          37887118.02953098,
          36991203.3100756,
          34309143.69585378,
          37037954.9917786,
          34369802.254717425,
          36884119.35679482,
          36262383.48489951,
          41050121.13720544,
          40205616.09740422,
          36143569.11750602,
          38614153.29992108,
          40008171.25879084,
          41256249.08403892
         ],
         "yaxis": "y"
        },
        {
         "hovertemplate": "length=14<br>sequences=%{x}<br>computational=%{y}<extra></extra>",
         "legendgroup": "14",
         "marker": {
          "color": "#EF553B",
          "line": {
           "color": "black",
           "width": 2
          },
          "size": 16,
          "symbol": "circle"
         },
         "mode": "markers",
         "name": "14",
         "orientation": "v",
         "showlegend": true,
         "type": "scatter",
         "x": [
          "GCTGTTCGGTCTAT",
          "ACCAAACCACCAAC",
          "CAACACCAAACAAC",
          "CAAAACCCCAACAC",
          "AAACCCACCACACA",
          "CAACACCCAAACAC",
          "CCAAAACCAACAAC",
          "AAAAACCCACCCAA",
          "AAACCACCCAACAC",
          "CCCAAACCCAACCA",
          "ACCAACACCAACCA",
          "CAACAACACCACCA",
          "AACCAACACCACCA",
          "AACCACCACAAACC",
          "CAACACAACCAACC",
          "CACCACAACCACCA",
          "CCCCACACAACAAC",
          "CCACCAACAACAAC",
          "ACACACACCACACA",
          "CACACACACACACA",
          "ACCAACCAACCAAC"
         ],
         "xaxis": "x",
         "y": [
          25405349.080603138,
          26153832.86045312,
          24968875.57948754,
          25262743.891704485,
          26972177.66660894,
          27105192.39604343,
          23590296.403828043,
          25202787.65889684,
          27229091.188113976,
          26277568.53492024,
          27565348.54478488,
          27454424.99656785,
          27582267.82518021,
          26213590.665490888,
          26159453.498786453,
          28472381.80493959,
          28290113.518926017,
          26096491.233132176,
          27968339.85766029,
          28515949.98893885,
          25520581.79182164
         ],
         "yaxis": "y"
        }
       ],
       "layout": {
        "height": 1000,
        "legend": {
         "font": {
          "color": "black",
          "family": "Courier",
          "size": 32
         },
         "title": {
          "text": "length"
         },
         "tracegroupgap": 0
        },
        "margin": {
         "t": 60
        },
        "scattermode": "group",
        "template": {
         "data": {
          "pie": [
           {
            "automargin": true,
            "type": "pie"
           }
          ],
          "scatter": [
           {
            "line": {
             "width": 3
            },
            "marker": {
             "size": 9
            },
            "type": "scatter"
           }
          ],
          "scatter3d": [
           {
            "line": {
             "width": 3
            },
            "marker": {
             "size": 9
            },
            "type": "scatter3d"
           }
          ],
          "scattergeo": [
           {
            "line": {
             "width": 3
            },
            "marker": {
             "size": 9
            },
            "type": "scattergeo"
           }
          ],
          "scattergl": [
           {
            "line": {
             "width": 3
            },
            "marker": {
             "size": 9
            },
            "type": "scattergl"
           }
          ],
          "scatterpolar": [
           {
            "line": {
             "width": 3
            },
            "marker": {
             "size": 9
            },
            "type": "scatterpolar"
           }
          ],
          "scatterpolargl": [
           {
            "line": {
             "width": 3
            },
            "marker": {
             "size": 9
            },
            "type": "scatterpolargl"
           }
          ],
          "scatterternary": [
           {
            "line": {
             "width": 3
            },
            "marker": {
             "size": 9
            },
            "type": "scatterternary"
           }
          ],
          "table": [
           {
            "cells": {
             "height": 30
            },
            "header": {
             "height": 36
            },
            "type": "table"
           }
          ]
         },
         "layout": {
          "font": {
           "size": 18
          },
          "xaxis": {
           "title": {
            "standoff": 15
           }
          },
          "yaxis": {
           "title": {
            "standoff": 15
           }
          }
         }
        },
        "width": 1200,
        "xaxis": {
         "anchor": "y",
         "automargin": true,
         "domain": [
          0,
          1
         ],
         "dtick": 1,
         "linecolor": "black",
         "linewidth": 2,
         "tickmode": "linear",
         "title": {
          "text": "sequences"
         }
        },
        "yaxis": {
         "anchor": "x",
         "automargin": true,
         "domain": [
          0,
          1
         ],
         "dtick": 1000000,
         "linecolor": "black",
         "linewidth": 3,
         "minor": {
          "dtick": 3,
          "tick0": 0
         },
         "nticks": 10,
         "showexponent": "none",
         "tick0": 0,
         "tickformat": ".1e",
         "tickmode": "linear",
         "title": {
          "text": "Two-dimensional Hybridization Rates"
         }
        }
       }
      }
     },
     "metadata": {},
     "output_type": "display_data"
    }
   ],
   "source": [
    "import plotly.express as px \n",
    "\n",
    "data['length'] = [str(len(d)) for d in data['sequences']]\n",
    "fig = px.scatter(data,x='sequences', y='computational', color='length')\n",
    "fig.update_layout(width = 1200,\n",
    "                  height = 1000,\n",
    "                  template = 'presentation',\n",
    "                  scattermode='group',\n",
    "                  yaxis_title=\"Two-dimensional Hybridization Rates\",\n",
    "                  yaxis=dict(tickmode = 'linear',\n",
    "                            #  tickvals = [2e7,2.5e7,3e7,3.5e7,4e7,4.5e7,5e7],\n",
    "                             nticks=10,\n",
    "                             tick0=0,\n",
    "                             dtick=1e6,\n",
    "                             tickformat=\".1e\",\n",
    "                             linecolor='black',\n",
    "                             automargin=True,\n",
    "                             linewidth=3,\n",
    "                             minor=dict(dtick=3,tick0=0)),\n",
    "                  xaxis=dict(tickmode='linear',\n",
    "                             dtick=1,\n",
    "                            #  autorange='reversed',\n",
    "                             automargin=True,\n",
    "                             linecolor='black',\n",
    "                             linewidth=2),\n",
    "                  legend = dict(\n",
    "                            font = dict(family='Courier',\n",
    "                                        size=32,\n",
    "                                        color='black')))\n",
    "\n",
    "fig.update_yaxes(showexponent='none')\n",
    "\n",
    "fig.update_traces(marker=dict(size=16,\n",
    "                              line=dict(width=2,\n",
    "                                        color='black'\n",
    "                              )))\n",
    "fig.show()"
   ]
  },
  {
   "cell_type": "code",
   "execution_count": 24,
   "metadata": {},
   "outputs": [],
   "source": [
    "from plotly import graph_objects as go"
   ]
  },
  {
   "cell_type": "code",
   "execution_count": 95,
   "metadata": {},
   "outputs": [
    {
     "data": {
      "application/vnd.plotly.v1+json": {
       "config": {
        "plotlyServerURL": "https://plot.ly"
       },
       "data": [
        {
         "marker": {
          "color": "#CF5C36",
          "line": {
           "width": 2
          },
          "opacity": 0.8,
          "size": 24,
          "symbol": "diamond"
         },
         "mode": "markers",
         "name": "3D computed    ",
         "type": "scatter",
         "x": [
          "GTTCGGTCTA",
          "CCAAAACCAA",
          "AAACCACACA",
          "ACCAAACCAC",
          "ACACCAAACC",
          "AAAAACCCAC",
          "CAACACCCAA",
          "AAACCCACCA",
          "ACAACACCAC",
          "CAAAACCCCA",
          "AACCAACACC",
          "CAACACAACC",
          "ACCAACACCA",
          "CCACCAACAA",
          "ACACACACAC",
          "AACCACCACA",
          "CAACCAACCA",
          "ACACACACCA",
          "CCCCACACAA",
          "ACACCACCAC",
          "GCTGTTCGGTCTAT",
          "ACCAAACCACCAAC",
          "CAACACCAAACAAC",
          "CAAAACCCCAACAC",
          "AAACCCACCACACA",
          "CAACACCCAAACAC",
          "CCAAAACCAACAAC",
          "AAAAACCCACCCAA",
          "AAACCACCCAACAC",
          "CCCAAACCCAACCA",
          "ACCAACACCAACCA",
          "CAACAACACCACCA",
          "AACCAACACCACCA",
          "AACCACCACAAACC",
          "CAACACAACCAACC",
          "CACCACAACCACCA",
          "CCCCACACAACAAC",
          "CCACCAACAACAAC",
          "ACACACACCACACA",
          "CACACACACACACA",
          "ACCAACCAACCAAC"
         ],
         "y": [
          0.2292829187885385,
          0.28375129587224346,
          0.30695166990980477,
          0.3121290609459927,
          0.24862789147797823,
          0.24464093047358978,
          0.21715893989054072,
          0.3130774066075434,
          0.2592744596281676,
          0.29515162046534693,
          0.2514156691237031,
          0.31344542410589477,
          0.31384259487366817,
          0.2734784032497446,
          0.5124496548912347,
          0.35132729597940293,
          0.3576877342500084,
          0.42940867996382376,
          0.4056592373244324,
          0.3627368042903997,
          0.16647046765274784,
          0.32152294802681763,
          0.21843894664594454,
          0.20155495465980758,
          0.31260309921770907,
          0.2214084010778704,
          0.23856002931182538,
          0.25250652801975887,
          0.2253900227954424,
          0.2811021522264709,
          0.31223299585567943,
          0.2865860190452316,
          0.31732489156402505,
          0.2725490354785058,
          0.3024451088978774,
          0.3219915750963311,
          0.3226847889369344,
          0.29485847688878986,
          0.45046418318552156,
          0.4234638902273256,
          0.32258849462499006
         ]
        },
        {
         "marker": {
          "color": "#6610F2",
          "line": {
           "width": 2
          },
          "size": 24,
          "symbol": 6
         },
         "mode": "markers",
         "name": "2D computed    ",
         "type": "scatter",
         "x": [
          "GTTCGGTCTA",
          "CCAAAACCAA",
          "AAACCACACA",
          "ACCAAACCAC",
          "ACACCAAACC",
          "AAAAACCCAC",
          "CAACACCCAA",
          "AAACCCACCA",
          "ACAACACCAC",
          "CAAAACCCCA",
          "AACCAACACC",
          "CAACACAACC",
          "ACCAACACCA",
          "CCACCAACAA",
          "ACACACACAC",
          "AACCACCACA",
          "CAACCAACCA",
          "ACACACACCA",
          "CCCCACACAA",
          "ACACCACCAC",
          "GCTGTTCGGTCTAT",
          "ACCAAACCACCAAC",
          "CAACACCAAACAAC",
          "CAAAACCCCAACAC",
          "AAACCCACCACACA",
          "CAACACCCAAACAC",
          "CCAAAACCAACAAC",
          "AAAAACCCACCCAA",
          "AAACCACCCAACAC",
          "CCCAAACCCAACCA",
          "ACCAACACCAACCA",
          "CAACAACACCACCA",
          "AACCAACACCACCA",
          "AACCACCACAAACC",
          "CAACACAACCAACC",
          "CACCACAACCACCA",
          "CCCCACACAACAAC",
          "CCACCAACAACAAC",
          "ACACACACCACACA",
          "CACACACACACACA",
          "ACCAACCAACCAAC"
         ],
         "y": [
          3.3085209234217317,
          3.178806023392231,
          3.5562525391525535,
          3.693130488349458,
          3.37578281838352,
          3.3190200629659,
          3.717207522171855,
          3.788711802953098,
          3.69912033100756,
          3.4309143695853774,
          3.7037954991778594,
          3.4369802254717423,
          3.688411935679482,
          3.626238348489951,
          4.1050121137205435,
          4.0205616097404215,
          3.614356911750602,
          3.861415329992108,
          4.000817125879085,
          4.125624908403892,
          2.5405349080603137,
          2.615383286045312,
          2.496887557948754,
          2.526274389170448,
          2.697217766660894,
          2.710519239604343,
          2.359029640382804,
          2.520278765889684,
          2.7229091188113976,
          2.627756853492024,
          2.756534854478488,
          2.745442499656785,
          2.758226782518021,
          2.621359066549089,
          2.615945349878645,
          2.847238180493959,
          2.8290113518926017,
          2.6096491233132175,
          2.7968339857660287,
          2.851594998893885,
          2.552058179182164
         ]
        },
        {
         "marker": {
          "color": "#9BC53D",
          "line": {
           "width": 2
          },
          "opacity": 0.8,
          "size": 24,
          "symbol": 35
         },
         "mode": "markers",
         "name": "3D experimental    ",
         "type": "scatter",
         "x": [
          "GTTCGGTCTA",
          "CCAAAACCAA",
          "AAACCACACA",
          "ACCAAACCAC",
          "ACACCAAACC",
          "AAAAACCCAC",
          "CAACACCCAA",
          "AAACCCACCA",
          "ACAACACCAC",
          "CAAAACCCCA",
          "AACCAACACC",
          "CAACACAACC",
          "ACCAACACCA",
          "CCACCAACAA",
          "ACACACACAC",
          "AACCACCACA",
          "CAACCAACCA",
          "ACACACACCA",
          "CCCCACACAA",
          "ACACCACCAC",
          "GCTGTTCGGTCTAT",
          "ACCAAACCACCAAC",
          "CAACACCAAACAAC",
          "CAAAACCCCAACAC",
          "AAACCCACCACACA",
          "CAACACCCAAACAC",
          "CCAAAACCAACAAC",
          "AAAAACCCACCCAA",
          "AAACCACCCAACAC",
          "CCCAAACCCAACCA",
          "ACCAACACCAACCA",
          "CAACAACACCACCA",
          "AACCAACACCACCA",
          "AACCACCACAAACC",
          "CAACACAACCAACC",
          "CACCACAACCACCA",
          "CCCCACACAACAAC",
          "CCACCAACAACAAC",
          "ACACACACCACACA",
          "CACACACACACACA",
          "ACCAACCAACCAAC"
         ],
         "y": [
          0.11459499999999999,
          0.1668154,
          0.1809459,
          0.2167675,
          0.2178513,
          0.23646399999999998,
          0.25115129999999997,
          0.25270349999999997,
          0.2559279,
          0.2651666,
          0.265567,
          0.2695608,
          0.2765864,
          0.2825047,
          0.384388,
          0.38659479999999996,
          0.3960894,
          0.4159347,
          0.5448523,
          0.5613146999999999,
          0.1042173,
          0.1186657,
          0.1779672,
          0.1831343,
          0.1892296,
          0.2124654,
          0.2304253,
          0.24334519999999998,
          0.2745623,
          0.2975581,
          0.31869159999999996,
          0.3242444,
          0.3629903,
          0.3659749,
          0.37630389999999997,
          0.38054,
          0.3961922,
          0.40622579999999997,
          0.4442077,
          0.4818114,
          0.5208461
         ]
        }
       ],
       "layout": {
        "height": 1200,
        "legend": {
         "font": {
          "color": "black",
          "family": "Courier",
          "size": 32
         },
         "itemwidth": 90,
         "orientation": "h",
         "x": 1,
         "xanchor": "right",
         "y": 1.02,
         "yanchor": "bottom"
        },
        "template": {
         "data": {
          "pie": [
           {
            "automargin": true,
            "type": "pie"
           }
          ],
          "scatter": [
           {
            "line": {
             "width": 3
            },
            "marker": {
             "size": 9
            },
            "type": "scatter"
           }
          ],
          "scatter3d": [
           {
            "line": {
             "width": 3
            },
            "marker": {
             "size": 9
            },
            "type": "scatter3d"
           }
          ],
          "scattergeo": [
           {
            "line": {
             "width": 3
            },
            "marker": {
             "size": 9
            },
            "type": "scattergeo"
           }
          ],
          "scattergl": [
           {
            "line": {
             "width": 3
            },
            "marker": {
             "size": 9
            },
            "type": "scattergl"
           }
          ],
          "scatterpolar": [
           {
            "line": {
             "width": 3
            },
            "marker": {
             "size": 9
            },
            "type": "scatterpolar"
           }
          ],
          "scatterpolargl": [
           {
            "line": {
             "width": 3
            },
            "marker": {
             "size": 9
            },
            "type": "scatterpolargl"
           }
          ],
          "scatterternary": [
           {
            "line": {
             "width": 3
            },
            "marker": {
             "size": 9
            },
            "type": "scatterternary"
           }
          ],
          "table": [
           {
            "cells": {
             "height": 30
            },
            "header": {
             "height": 36
            },
            "type": "table"
           }
          ]
         },
         "layout": {
          "font": {
           "size": 18
          },
          "xaxis": {
           "title": {
            "standoff": 15
           }
          },
          "yaxis": {
           "title": {
            "standoff": 15
           }
          }
         }
        },
        "width": 1200,
        "xaxis": {
         "automargin": true,
         "dtick": 1,
         "linecolor": "black",
         "linewidth": 2,
         "tickfont": {
          "size": 20
         },
         "tickmode": "linear",
         "title": {
          "text": "sequences"
         }
        },
        "yaxis": {
         "automargin": true,
         "dtick": 0.5,
         "exponentformat": "e",
         "linecolor": "black",
         "linewidth": 3,
         "minor": {
          "dtick": 3,
          "tick0": 0
         },
         "nticks": 10,
         "tick0": 1,
         "tickfont": {
          "size": 30
         },
         "tickformat": ".1f",
         "tickmode": "linear",
         "title": {
          "text": "two-dimensional hybridization rate"
         }
        }
       }
      }
     },
     "metadata": {},
     "output_type": "display_data"
    }
   ],
   "source": [
    "\n",
    "\n",
    "\n",
    "trace1 = go.Scatter(\n",
    "    x = data['sequences'], # My list of values for 'x'\n",
    "    y = data['computational']*1e-7,\n",
    "    # marker = dict(color = 'white'),\n",
    "    mode = 'markers',\n",
    "    marker_symbol=6,\n",
    "    name = '2D computed    ',\n",
    "    marker=dict(color='#6610F2'))\n",
    "\n",
    "trace2 = go.Scatter(\n",
    "    x = data3['sequences'],\n",
    "    y = data3['computational']*1e-7,\n",
    "    mode = 'markers',\n",
    "    marker_symbol = 'diamond',\n",
    "    name = '3D computed    ',\n",
    "    marker=dict(color='#CF5C36',opacity=0.80)\n",
    ")\n",
    "trace3 = go.Scatter(\n",
    "    x = data3['sequences'],\n",
    "    y = data3['experimental']*1e-7,\n",
    "    mode = 'markers',\n",
    "    marker_symbol = 35,\n",
    "    name = '3D experimental    ',\n",
    "    marker=dict(color='#9BC53D',opacity=0.80)\n",
    ")\n",
    "layout = go.Layout(\n",
    "    template='presentation',\n",
    "    xaxis_title='sequences',\n",
    "    yaxis_title='two-dimensional hybridization rate',\n",
    "    width = 1200,\n",
    "    height = 1200,\n",
    "    xaxis = dict(tickmode='linear',\n",
    "                dtick=1,\n",
    "                automargin=True,\n",
    "                linecolor='black',\n",
    "                linewidth=2),\n",
    "    yaxis = dict(tickmode = 'linear',\n",
    "                nticks=10,\n",
    "                tick0=1,\n",
    "                dtick=0.5,\n",
    "                tickformat=\".1f\",\n",
    "                linecolor='black',\n",
    "                automargin=True,\n",
    "                linewidth=3,\n",
    "                minor=dict(dtick=3,tick0=0)),\n",
    "    legend = dict(\n",
    "            # itemsizing='constant',\n",
    "            itemwidth = 90,\n",
    "            font = dict(family='Courier',\n",
    "            size=32,\n",
    "            color='black')))\n",
    "\n",
    "dati = [trace2, trace1, trace3]\n",
    "fig = go.Figure(data = dati, layout = layout)\n",
    "\n",
    "fig.update_yaxes(exponentformat=\"e\")\n",
    "\n",
    "fig.update_layout(legend=dict(\n",
    "    orientation=\"h\",\n",
    "    yanchor=\"bottom\",\n",
    "    y=1.02,\n",
    "    xanchor=\"right\",\n",
    "    x=1\n",
    "))\n",
    "\n",
    "fig.update_layout(\n",
    "yaxis = dict(\n",
    "tickfont = dict(size=30)),\n",
    "xaxis = dict(\n",
    "tickfont = dict(size=20)))\n",
    "\n",
    "fig.update_traces(marker=dict(size=24,\n",
    "                              line=dict(width=2\n",
    "                              )))\n",
    "\n",
    "fig.show()"
   ]
  },
  {
   "cell_type": "code",
   "execution_count": null,
   "metadata": {},
   "outputs": [],
   "source": [
    "n = max(data['computational'])"
   ]
  },
  {
   "cell_type": "code",
   "execution_count": null,
   "metadata": {},
   "outputs": [],
   "source": [
    "def upperapprox(num):\n",
    "    order = math.floor(math.log10(n))\n",
    "    return math.ceil(num/(10**order))*10**order"
   ]
  },
  {
   "cell_type": "code",
   "execution_count": 126,
   "metadata": {},
   "outputs": [
    {
     "name": "stdout",
     "output_type": "stream",
     "text": [
      "10.82958736091825\n",
      "12.090110549123718\n",
      "9.62908908643686\n",
      "3.663e+07\n"
     ]
    }
   ],
   "source": [
    "\n",
    "ratios = [twod/tred for twod, tred in zip(data['computational'], data3['computational'])]\n",
    "print(sum(ratios)/41)\n",
    "\n",
    "print(sum(ratios[:20])/20)#len(ratios[:19]\n",
    "print(sum(ratios[20:])/21)\n",
    "print(f\"{sum(data['computational'][:20]/len(data['computational'][:20])):.3e}\")"
   ]
  },
  {
   "cell_type": "code",
   "execution_count": 119,
   "metadata": {},
   "outputs": [
    {
     "data": {
      "text/plain": [
       "10.859599817780259"
      ]
     },
     "execution_count": 119,
     "metadata": {},
     "output_type": "execute_result"
    }
   ],
   "source": [
    "(12.090110549123718+9.6290890864368)/2"
   ]
  },
  {
   "cell_type": "code",
   "execution_count": 127,
   "metadata": {},
   "outputs": [
    {
     "data": {
      "text/plain": [
       "0.27019050174403003"
      ]
     },
     "execution_count": 127,
     "metadata": {},
     "output_type": "execute_result"
    }
   ],
   "source": [
    "(74.55-54.41)/74.54"
   ]
  },
  {
   "cell_type": "code",
   "execution_count": 99,
   "metadata": {},
   "outputs": [],
   "source": [
    "data['ratios'] = ratios"
   ]
  },
  {
   "cell_type": "code",
   "execution_count": 124,
   "metadata": {},
   "outputs": [
    {
     "data": {
      "text/html": [
       "<div>\n",
       "<style scoped>\n",
       "    .dataframe tbody tr th:only-of-type {\n",
       "        vertical-align: middle;\n",
       "    }\n",
       "\n",
       "    .dataframe tbody tr th {\n",
       "        vertical-align: top;\n",
       "    }\n",
       "\n",
       "    .dataframe thead th {\n",
       "        text-align: right;\n",
       "    }\n",
       "</style>\n",
       "<table border=\"1\" class=\"dataframe\">\n",
       "  <thead>\n",
       "    <tr style=\"text-align: right;\">\n",
       "      <th></th>\n",
       "      <th>sequences</th>\n",
       "      <th>ratios</th>\n",
       "      <th>computational</th>\n",
       "    </tr>\n",
       "  </thead>\n",
       "  <tbody>\n",
       "    <tr>\n",
       "      <th>0</th>\n",
       "      <td>GTTCGGTCTA</td>\n",
       "      <td>14.430</td>\n",
       "      <td>3.309e+07</td>\n",
       "    </tr>\n",
       "    <tr>\n",
       "      <th>1</th>\n",
       "      <td>CCAAAACCAA</td>\n",
       "      <td>11.203</td>\n",
       "      <td>3.179e+07</td>\n",
       "    </tr>\n",
       "    <tr>\n",
       "      <th>2</th>\n",
       "      <td>AAACCACACA</td>\n",
       "      <td>11.586</td>\n",
       "      <td>3.556e+07</td>\n",
       "    </tr>\n",
       "    <tr>\n",
       "      <th>3</th>\n",
       "      <td>ACCAAACCAC</td>\n",
       "      <td>11.832</td>\n",
       "      <td>3.693e+07</td>\n",
       "    </tr>\n",
       "    <tr>\n",
       "      <th>4</th>\n",
       "      <td>ACACCAAACC</td>\n",
       "      <td>13.578</td>\n",
       "      <td>3.376e+07</td>\n",
       "    </tr>\n",
       "    <tr>\n",
       "      <th>5</th>\n",
       "      <td>AAAAACCCAC</td>\n",
       "      <td>13.567</td>\n",
       "      <td>3.319e+07</td>\n",
       "    </tr>\n",
       "    <tr>\n",
       "      <th>6</th>\n",
       "      <td>CAACACCCAA</td>\n",
       "      <td>17.117</td>\n",
       "      <td>3.717e+07</td>\n",
       "    </tr>\n",
       "    <tr>\n",
       "      <th>7</th>\n",
       "      <td>AAACCCACCA</td>\n",
       "      <td>12.102</td>\n",
       "      <td>3.789e+07</td>\n",
       "    </tr>\n",
       "    <tr>\n",
       "      <th>8</th>\n",
       "      <td>ACAACACCAC</td>\n",
       "      <td>14.267</td>\n",
       "      <td>3.699e+07</td>\n",
       "    </tr>\n",
       "    <tr>\n",
       "      <th>9</th>\n",
       "      <td>CAAAACCCCA</td>\n",
       "      <td>11.624</td>\n",
       "      <td>3.431e+07</td>\n",
       "    </tr>\n",
       "    <tr>\n",
       "      <th>10</th>\n",
       "      <td>AACCAACACC</td>\n",
       "      <td>14.732</td>\n",
       "      <td>3.704e+07</td>\n",
       "    </tr>\n",
       "    <tr>\n",
       "      <th>11</th>\n",
       "      <td>CAACACAACC</td>\n",
       "      <td>10.965</td>\n",
       "      <td>3.437e+07</td>\n",
       "    </tr>\n",
       "    <tr>\n",
       "      <th>12</th>\n",
       "      <td>ACCAACACCA</td>\n",
       "      <td>11.752</td>\n",
       "      <td>3.688e+07</td>\n",
       "    </tr>\n",
       "    <tr>\n",
       "      <th>13</th>\n",
       "      <td>CCACCAACAA</td>\n",
       "      <td>13.260</td>\n",
       "      <td>3.626e+07</td>\n",
       "    </tr>\n",
       "    <tr>\n",
       "      <th>14</th>\n",
       "      <td>ACACACACAC</td>\n",
       "      <td>8.011</td>\n",
       "      <td>4.105e+07</td>\n",
       "    </tr>\n",
       "    <tr>\n",
       "      <th>15</th>\n",
       "      <td>AACCACCACA</td>\n",
       "      <td>11.444</td>\n",
       "      <td>4.021e+07</td>\n",
       "    </tr>\n",
       "    <tr>\n",
       "      <th>16</th>\n",
       "      <td>CAACCAACCA</td>\n",
       "      <td>10.105</td>\n",
       "      <td>3.614e+07</td>\n",
       "    </tr>\n",
       "    <tr>\n",
       "      <th>17</th>\n",
       "      <td>ACACACACCA</td>\n",
       "      <td>8.992</td>\n",
       "      <td>3.861e+07</td>\n",
       "    </tr>\n",
       "    <tr>\n",
       "      <th>18</th>\n",
       "      <td>CCCCACACAA</td>\n",
       "      <td>9.863</td>\n",
       "      <td>4.001e+07</td>\n",
       "    </tr>\n",
       "    <tr>\n",
       "      <th>19</th>\n",
       "      <td>ACACCACCAC</td>\n",
       "      <td>11.374</td>\n",
       "      <td>4.126e+07</td>\n",
       "    </tr>\n",
       "    <tr>\n",
       "      <th>20</th>\n",
       "      <td>GCTGTTCGGTCTAT</td>\n",
       "      <td>15.261</td>\n",
       "      <td>2.541e+07</td>\n",
       "    </tr>\n",
       "    <tr>\n",
       "      <th>21</th>\n",
       "      <td>ACCAAACCACCAAC</td>\n",
       "      <td>8.134</td>\n",
       "      <td>2.615e+07</td>\n",
       "    </tr>\n",
       "    <tr>\n",
       "      <th>22</th>\n",
       "      <td>CAACACCAAACAAC</td>\n",
       "      <td>11.431</td>\n",
       "      <td>2.497e+07</td>\n",
       "    </tr>\n",
       "    <tr>\n",
       "      <th>23</th>\n",
       "      <td>CAAAACCCCAACAC</td>\n",
       "      <td>12.534</td>\n",
       "      <td>2.526e+07</td>\n",
       "    </tr>\n",
       "    <tr>\n",
       "      <th>24</th>\n",
       "      <td>AAACCCACCACACA</td>\n",
       "      <td>8.628</td>\n",
       "      <td>2.697e+07</td>\n",
       "    </tr>\n",
       "    <tr>\n",
       "      <th>25</th>\n",
       "      <td>CAACACCCAAACAC</td>\n",
       "      <td>12.242</td>\n",
       "      <td>2.711e+07</td>\n",
       "    </tr>\n",
       "    <tr>\n",
       "      <th>26</th>\n",
       "      <td>CCAAAACCAACAAC</td>\n",
       "      <td>9.889</td>\n",
       "      <td>2.359e+07</td>\n",
       "    </tr>\n",
       "    <tr>\n",
       "      <th>27</th>\n",
       "      <td>AAAAACCCACCCAA</td>\n",
       "      <td>9.981</td>\n",
       "      <td>2.520e+07</td>\n",
       "    </tr>\n",
       "    <tr>\n",
       "      <th>28</th>\n",
       "      <td>AAACCACCCAACAC</td>\n",
       "      <td>12.081</td>\n",
       "      <td>2.723e+07</td>\n",
       "    </tr>\n",
       "    <tr>\n",
       "      <th>29</th>\n",
       "      <td>CCCAAACCCAACCA</td>\n",
       "      <td>9.348</td>\n",
       "      <td>2.628e+07</td>\n",
       "    </tr>\n",
       "    <tr>\n",
       "      <th>30</th>\n",
       "      <td>ACCAACACCAACCA</td>\n",
       "      <td>8.828</td>\n",
       "      <td>2.757e+07</td>\n",
       "    </tr>\n",
       "    <tr>\n",
       "      <th>31</th>\n",
       "      <td>CAACAACACCACCA</td>\n",
       "      <td>9.580</td>\n",
       "      <td>2.745e+07</td>\n",
       "    </tr>\n",
       "    <tr>\n",
       "      <th>32</th>\n",
       "      <td>AACCAACACCACCA</td>\n",
       "      <td>8.692</td>\n",
       "      <td>2.758e+07</td>\n",
       "    </tr>\n",
       "    <tr>\n",
       "      <th>33</th>\n",
       "      <td>AACCACCACAAACC</td>\n",
       "      <td>9.618</td>\n",
       "      <td>2.621e+07</td>\n",
       "    </tr>\n",
       "    <tr>\n",
       "      <th>34</th>\n",
       "      <td>CAACACAACCAACC</td>\n",
       "      <td>8.649</td>\n",
       "      <td>2.616e+07</td>\n",
       "    </tr>\n",
       "    <tr>\n",
       "      <th>35</th>\n",
       "      <td>CACCACAACCACCA</td>\n",
       "      <td>8.843</td>\n",
       "      <td>2.847e+07</td>\n",
       "    </tr>\n",
       "    <tr>\n",
       "      <th>36</th>\n",
       "      <td>CCCCACACAACAAC</td>\n",
       "      <td>8.767</td>\n",
       "      <td>2.829e+07</td>\n",
       "    </tr>\n",
       "    <tr>\n",
       "      <th>37</th>\n",
       "      <td>CCACCAACAACAAC</td>\n",
       "      <td>8.851</td>\n",
       "      <td>2.610e+07</td>\n",
       "    </tr>\n",
       "    <tr>\n",
       "      <th>38</th>\n",
       "      <td>ACACACACCACACA</td>\n",
       "      <td>6.209</td>\n",
       "      <td>2.797e+07</td>\n",
       "    </tr>\n",
       "    <tr>\n",
       "      <th>39</th>\n",
       "      <td>CACACACACACACA</td>\n",
       "      <td>6.734</td>\n",
       "      <td>2.852e+07</td>\n",
       "    </tr>\n",
       "    <tr>\n",
       "      <th>40</th>\n",
       "      <td>ACCAACCAACCAAC</td>\n",
       "      <td>7.911</td>\n",
       "      <td>2.552e+07</td>\n",
       "    </tr>\n",
       "  </tbody>\n",
       "</table>\n",
       "</div>"
      ],
      "text/plain": [
       "         sequences  ratios  computational\n",
       "0       GTTCGGTCTA  14.430      3.309e+07\n",
       "1       CCAAAACCAA  11.203      3.179e+07\n",
       "2       AAACCACACA  11.586      3.556e+07\n",
       "3       ACCAAACCAC  11.832      3.693e+07\n",
       "4       ACACCAAACC  13.578      3.376e+07\n",
       "5       AAAAACCCAC  13.567      3.319e+07\n",
       "6       CAACACCCAA  17.117      3.717e+07\n",
       "7       AAACCCACCA  12.102      3.789e+07\n",
       "8       ACAACACCAC  14.267      3.699e+07\n",
       "9       CAAAACCCCA  11.624      3.431e+07\n",
       "10      AACCAACACC  14.732      3.704e+07\n",
       "11      CAACACAACC  10.965      3.437e+07\n",
       "12      ACCAACACCA  11.752      3.688e+07\n",
       "13      CCACCAACAA  13.260      3.626e+07\n",
       "14      ACACACACAC   8.011      4.105e+07\n",
       "15      AACCACCACA  11.444      4.021e+07\n",
       "16      CAACCAACCA  10.105      3.614e+07\n",
       "17      ACACACACCA   8.992      3.861e+07\n",
       "18      CCCCACACAA   9.863      4.001e+07\n",
       "19      ACACCACCAC  11.374      4.126e+07\n",
       "20  GCTGTTCGGTCTAT  15.261      2.541e+07\n",
       "21  ACCAAACCACCAAC   8.134      2.615e+07\n",
       "22  CAACACCAAACAAC  11.431      2.497e+07\n",
       "23  CAAAACCCCAACAC  12.534      2.526e+07\n",
       "24  AAACCCACCACACA   8.628      2.697e+07\n",
       "25  CAACACCCAAACAC  12.242      2.711e+07\n",
       "26  CCAAAACCAACAAC   9.889      2.359e+07\n",
       "27  AAAAACCCACCCAA   9.981      2.520e+07\n",
       "28  AAACCACCCAACAC  12.081      2.723e+07\n",
       "29  CCCAAACCCAACCA   9.348      2.628e+07\n",
       "30  ACCAACACCAACCA   8.828      2.757e+07\n",
       "31  CAACAACACCACCA   9.580      2.745e+07\n",
       "32  AACCAACACCACCA   8.692      2.758e+07\n",
       "33  AACCACCACAAACC   9.618      2.621e+07\n",
       "34  CAACACAACCAACC   8.649      2.616e+07\n",
       "35  CACCACAACCACCA   8.843      2.847e+07\n",
       "36  CCCCACACAACAAC   8.767      2.829e+07\n",
       "37  CCACCAACAACAAC   8.851      2.610e+07\n",
       "38  ACACACACCACACA   6.209      2.797e+07\n",
       "39  CACACACACACACA   6.734      2.852e+07\n",
       "40  ACCAACCAACCAAC   7.911      2.552e+07"
      ]
     },
     "execution_count": 124,
     "metadata": {},
     "output_type": "execute_result"
    }
   ],
   "source": [
    "data[['sequences','ratios','computational']]"
   ]
  },
  {
   "cell_type": "code",
   "execution_count": null,
   "metadata": {},
   "outputs": [],
   "source": []
  }
 ],
 "metadata": {
  "kernelspec": {
   "display_name": "hdna",
   "language": "python",
   "name": "python3"
  },
  "language_info": {
   "codemirror_mode": {
    "name": "ipython",
    "version": 3
   },
   "file_extension": ".py",
   "mimetype": "text/x-python",
   "name": "python",
   "nbconvert_exporter": "python",
   "pygments_lexer": "ipython3",
   "version": "3.10.9 (main, Jan 11 2023, 15:21:40) [GCC 11.2.0]"
  },
  "orig_nbformat": 4,
  "vscode": {
   "interpreter": {
    "hash": "13f02c433cbffcd00bbcbbfeff349f4b7c28e9023d8fb9f65ab93bb104997abd"
   }
  }
 },
 "nbformat": 4,
 "nbformat_minor": 2
}
