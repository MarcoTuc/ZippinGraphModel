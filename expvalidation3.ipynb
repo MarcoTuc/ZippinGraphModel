{
 "cells": [
  {
   "cell_type": "code",
   "execution_count": 1,
   "metadata": {},
   "outputs": [],
   "source": [
    "import time\n",
    "import pickle \n",
    "import numpy as np \n",
    "import pandas as pd\n",
    "from juliacall import Main as jl  \n",
    "from hdna import *"
   ]
  },
  {
   "cell_type": "code",
   "execution_count": 2,
   "metadata": {},
   "outputs": [],
   "source": [
    "# Import experimental data inside a dataframe\n",
    "\n",
    "expdata = pd.read_csv('./data/herteldata.csv', names=['seq', 'expvalue'])"
   ]
  },
  {
   "cell_type": "code",
   "execution_count": 3,
   "metadata": {},
   "outputs": [],
   "source": [
    "# Clean the dataframe \n",
    "\n",
    "expdata = expdata.drop(0)\n",
    "expdata['expvalue'] = ['{:e}'.format(float(e)) for e in expdata['expvalue']]"
   ]
  },
  {
   "cell_type": "code",
   "execution_count": 4,
   "metadata": {},
   "outputs": [
    {
     "name": "stdout",
     "output_type": "stream",
     "text": [
      "Creating network from string GTTCGGTCTA...\n",
      "embedding strand into biosimulator network model...\n",
      "start running simulations...\n"
     ]
    },
    {
     "name": "stderr",
     "output_type": "stream",
     "text": [
      "100%|██████████| 20000/20000 [00:12<00:00, 1558.85it/s]\n"
     ]
    },
    {
     "name": "stdout",
     "output_type": "stream",
     "text": [
      "3073 simulations didn't produce a duplex.\n",
      "That's 15.365% of simulations\n",
      "experimental rate: 1.145950e+06\n",
      "computed rate:     8.846860e+05\n",
      "Creating network from string CCAAAACCAA...\n",
      "embedding strand into biosimulator network model...\n",
      "start running simulations...\n"
     ]
    },
    {
     "name": "stderr",
     "output_type": "stream",
     "text": [
      "100%|██████████| 20000/20000 [00:23<00:00, 847.63it/s] \n"
     ]
    },
    {
     "name": "stdout",
     "output_type": "stream",
     "text": [
      "618 simulations didn't produce a duplex.\n",
      "That's 3.09% of simulations\n",
      "experimental rate: 1.668154e+06\n",
      "computed rate:     2.053470e+06\n",
      "Creating network from string AAACCACACA...\n",
      "embedding strand into biosimulator network model...\n",
      "start running simulations...\n"
     ]
    },
    {
     "name": "stderr",
     "output_type": "stream",
     "text": [
      "100%|██████████| 20000/20000 [00:23<00:00, 862.24it/s] \n"
     ]
    },
    {
     "name": "stdout",
     "output_type": "stream",
     "text": [
      "2172 simulations didn't produce a duplex.\n",
      "That's 10.86% of simulations\n",
      "experimental rate: 1.809459e+06\n",
      "computed rate:     1.073183e+06\n",
      "Creating network from string ACCAAACCAC...\n",
      "embedding strand into biosimulator network model...\n",
      "start running simulations...\n"
     ]
    },
    {
     "name": "stderr",
     "output_type": "stream",
     "text": [
      "100%|██████████| 20000/20000 [00:12<00:00, 1577.15it/s]\n"
     ]
    },
    {
     "name": "stdout",
     "output_type": "stream",
     "text": [
      "2702 simulations didn't produce a duplex.\n",
      "That's 13.51% of simulations\n",
      "experimental rate: 2.167675e+06\n",
      "computed rate:     1.283514e+06\n",
      "Creating network from string ACACCAAACC...\n",
      "embedding strand into biosimulator network model...\n",
      "start running simulations...\n"
     ]
    },
    {
     "name": "stderr",
     "output_type": "stream",
     "text": [
      "100%|██████████| 20000/20000 [00:15<00:00, 1257.51it/s]\n"
     ]
    },
    {
     "name": "stdout",
     "output_type": "stream",
     "text": [
      "3233 simulations didn't produce a duplex.\n",
      "That's 16.165% of simulations\n",
      "experimental rate: 2.178513e+06\n",
      "computed rate:     9.414625e+05\n",
      "Creating network from string AAAAACCCAC...\n",
      "embedding strand into biosimulator network model...\n",
      "start running simulations...\n"
     ]
    },
    {
     "name": "stderr",
     "output_type": "stream",
     "text": [
      "100%|██████████| 20000/20000 [00:20<00:00, 998.07it/s] \n"
     ]
    },
    {
     "name": "stdout",
     "output_type": "stream",
     "text": [
      "574 simulations didn't produce a duplex.\n",
      "That's 2.87% of simulations\n",
      "experimental rate: 2.364640e+06\n",
      "computed rate:     2.450327e+06\n",
      "Creating network from string CAACACCCAA...\n",
      "embedding strand into biosimulator network model...\n",
      "start running simulations...\n"
     ]
    },
    {
     "name": "stderr",
     "output_type": "stream",
     "text": [
      "100%|██████████| 20000/20000 [00:13<00:00, 1438.72it/s]\n"
     ]
    },
    {
     "name": "stdout",
     "output_type": "stream",
     "text": [
      "3776 simulations didn't produce a duplex.\n",
      "That's 18.88% of simulations\n",
      "experimental rate: 2.511513e+06\n",
      "computed rate:     9.990866e+05\n",
      "Creating network from string AAACCCACCA...\n",
      "embedding strand into biosimulator network model...\n",
      "start running simulations...\n"
     ]
    },
    {
     "name": "stderr",
     "output_type": "stream",
     "text": [
      "100%|██████████| 20000/20000 [00:06<00:00, 2989.35it/s]\n"
     ]
    },
    {
     "name": "stdout",
     "output_type": "stream",
     "text": [
      "3106 simulations didn't produce a duplex.\n",
      "That's 15.53% of simulations\n",
      "experimental rate: 2.527035e+06\n",
      "computed rate:     1.142113e+06\n",
      "Creating network from string ACAACACCAC...\n",
      "embedding strand into biosimulator network model...\n",
      "start running simulations...\n"
     ]
    },
    {
     "name": "stderr",
     "output_type": "stream",
     "text": [
      "100%|██████████| 20000/20000 [00:17<00:00, 1172.09it/s]\n"
     ]
    },
    {
     "name": "stdout",
     "output_type": "stream",
     "text": [
      "3679 simulations didn't produce a duplex.\n",
      "That's 18.395% of simulations\n",
      "experimental rate: 2.559279e+06\n",
      "computed rate:     1.039853e+06\n",
      "Creating network from string CAAAACCCCA...\n",
      "embedding strand into biosimulator network model...\n",
      "start running simulations...\n"
     ]
    },
    {
     "name": "stderr",
     "output_type": "stream",
     "text": [
      "100%|██████████| 20000/20000 [00:04<00:00, 4056.41it/s]\n"
     ]
    },
    {
     "name": "stdout",
     "output_type": "stream",
     "text": [
      "729 simulations didn't produce a duplex.\n",
      "That's 3.645% of simulations\n",
      "experimental rate: 2.651666e+06\n",
      "computed rate:     1.958437e+06\n",
      "Creating network from string AACCAACACC...\n",
      "embedding strand into biosimulator network model...\n",
      "start running simulations...\n"
     ]
    },
    {
     "name": "stderr",
     "output_type": "stream",
     "text": [
      "100%|██████████| 20000/20000 [00:17<00:00, 1162.09it/s]\n"
     ]
    },
    {
     "name": "stdout",
     "output_type": "stream",
     "text": [
      "7415 simulations didn't produce a duplex.\n",
      "That's 37.075% of simulations\n",
      "experimental rate: 2.655670e+06\n",
      "computed rate:     6.655636e+05\n",
      "Creating network from string CAACACAACC...\n",
      "embedding strand into biosimulator network model...\n",
      "start running simulations...\n"
     ]
    },
    {
     "name": "stderr",
     "output_type": "stream",
     "text": [
      "100%|██████████| 20000/20000 [00:18<00:00, 1066.98it/s]\n"
     ]
    },
    {
     "name": "stdout",
     "output_type": "stream",
     "text": [
      "7931 simulations didn't produce a duplex.\n",
      "That's 39.655% of simulations\n",
      "experimental rate: 2.695608e+06\n",
      "computed rate:     6.406167e+05\n",
      "Creating network from string ACCAACACCA...\n",
      "embedding strand into biosimulator network model...\n",
      "start running simulations...\n"
     ]
    },
    {
     "name": "stderr",
     "output_type": "stream",
     "text": [
      "100%|██████████| 20000/20000 [00:11<00:00, 1809.55it/s]\n"
     ]
    },
    {
     "name": "stdout",
     "output_type": "stream",
     "text": [
      "5856 simulations didn't produce a duplex.\n",
      "That's 29.28% of simulations\n",
      "experimental rate: 2.765864e+06\n",
      "computed rate:     7.582316e+05\n",
      "Creating network from string CCACCAACAA...\n",
      "embedding strand into biosimulator network model...\n",
      "start running simulations...\n"
     ]
    },
    {
     "name": "stderr",
     "output_type": "stream",
     "text": [
      "100%|██████████| 20000/20000 [00:15<00:00, 1306.03it/s]\n"
     ]
    },
    {
     "name": "stdout",
     "output_type": "stream",
     "text": [
      "5522 simulations didn't produce a duplex.\n",
      "That's 27.61% of simulations\n",
      "experimental rate: 2.825047e+06\n",
      "computed rate:     8.236809e+05\n",
      "Creating network from string ACACACACAC...\n",
      "embedding strand into biosimulator network model...\n",
      "start running simulations...\n"
     ]
    },
    {
     "name": "stderr",
     "output_type": "stream",
     "text": [
      "100%|██████████| 20000/20000 [00:20<00:00, 957.25it/s] \n"
     ]
    },
    {
     "name": "stdout",
     "output_type": "stream",
     "text": [
      "2716 simulations didn't produce a duplex.\n",
      "That's 13.58% of simulations\n",
      "experimental rate: 3.843880e+06\n",
      "computed rate:     1.589507e+06\n",
      "Creating network from string AACCACCACA...\n",
      "embedding strand into biosimulator network model...\n",
      "start running simulations...\n"
     ]
    },
    {
     "name": "stderr",
     "output_type": "stream",
     "text": [
      "100%|██████████| 20000/20000 [00:22<00:00, 908.86it/s] \n"
     ]
    },
    {
     "name": "stdout",
     "output_type": "stream",
     "text": [
      "7463 simulations didn't produce a duplex.\n",
      "That's 37.315% of simulations\n",
      "experimental rate: 3.865948e+06\n",
      "computed rate:     6.762100e+05\n",
      "Creating network from string CAACCAACCA...\n",
      "embedding strand into biosimulator network model...\n",
      "start running simulations...\n"
     ]
    },
    {
     "name": "stderr",
     "output_type": "stream",
     "text": [
      "100%|██████████| 20000/20000 [00:03<00:00, 5485.22it/s]\n"
     ]
    },
    {
     "name": "stdout",
     "output_type": "stream",
     "text": [
      "6098 simulations didn't produce a duplex.\n",
      "That's 30.49% of simulations\n",
      "experimental rate: 3.960894e+06\n",
      "computed rate:     7.535669e+05\n",
      "Creating network from string ACACACACCA...\n",
      "embedding strand into biosimulator network model...\n",
      "start running simulations...\n"
     ]
    },
    {
     "name": "stderr",
     "output_type": "stream",
     "text": [
      "100%|██████████| 20000/20000 [00:05<00:00, 3816.13it/s]\n"
     ]
    },
    {
     "name": "stdout",
     "output_type": "stream",
     "text": [
      "12661 simulations didn't produce a duplex.\n",
      "That's 63.305% of simulations\n",
      "experimental rate: 4.159347e+06\n",
      "computed rate:     5.020901e+05\n",
      "Creating network from string CCCCACACAA...\n",
      "embedding strand into biosimulator network model...\n",
      "start running simulations...\n"
     ]
    },
    {
     "name": "stderr",
     "output_type": "stream",
     "text": [
      "100%|██████████| 20000/20000 [00:10<00:00, 1818.29it/s]\n"
     ]
    },
    {
     "name": "stdout",
     "output_type": "stream",
     "text": [
      "6549 simulations didn't produce a duplex.\n",
      "That's 32.745% of simulations\n",
      "experimental rate: 5.448523e+06\n",
      "computed rate:     7.459594e+05\n",
      "Creating network from string ACACCACCAC...\n",
      "embedding strand into biosimulator network model...\n",
      "start running simulations...\n"
     ]
    },
    {
     "name": "stderr",
     "output_type": "stream",
     "text": [
      "100%|██████████| 20000/20000 [00:06<00:00, 3043.07it/s]\n"
     ]
    },
    {
     "name": "stdout",
     "output_type": "stream",
     "text": [
      "9367 simulations didn't produce a duplex.\n",
      "That's 46.835% of simulations\n",
      "experimental rate: 5.613147e+06\n",
      "computed rate:     6.208920e+05\n",
      "Creating network from string GCTGTTCGGTCTAT...\n",
      "embedding strand into biosimulator network model...\n",
      "start running simulations...\n"
     ]
    },
    {
     "name": "stderr",
     "output_type": "stream",
     "text": [
      "100%|██████████| 20000/20000 [02:46<00:00, 119.83it/s]\n"
     ]
    },
    {
     "name": "stdout",
     "output_type": "stream",
     "text": [
      "7759 simulations didn't produce a duplex.\n",
      "That's 38.795% of simulations\n",
      "experimental rate: 1.042173e+06\n",
      "computed rate:     6.228230e+05\n",
      "Creating network from string ACCAAACCACCAAC...\n",
      "embedding strand into biosimulator network model...\n",
      "start running simulations...\n"
     ]
    },
    {
     "name": "stderr",
     "output_type": "stream",
     "text": [
      " 19%|█▉        | 3880/20000 [00:02<00:12, 1331.44it/s]"
     ]
    }
   ],
   "source": [
    "# Actual computation \n",
    "\n",
    "rates = []\n",
    "\n",
    "model = Model('dna', '3D')\n",
    "\n",
    "for i, (seq, exp) in enumerate(zip(expdata['seq'], expdata['expvalue'])):\n",
    "    seq = str(seq.strip())      # make sure they are alright\n",
    "    exp = float(exp.strip())    #\n",
    "    print(f'Creating network from string {seq}...')\n",
    "    A = Strand(model, seq)\n",
    "    B = A.complementary()\n",
    "    kinet = Kinetwork(model, A, B, 1)\n",
    "    geo = Geometry(120, 360)\n",
    "    K = Kinetics(model, kinet, geo)\n",
    "    opts = Options(method='direct', runtime=3e-6, Nmonte=20000)\n",
    "    print('embedding strand into biosimulator network model...')\n",
    "    simulatore = Simulator(model, kinet, K, options=opts)\n",
    "    print('start running simulations...')\n",
    "    results = simulatore.ensemble()\n",
    "    mfpt = simulatore.mfpts(results)\n",
    "    rates.append(1/mfpt)\n",
    "    print(f\"experimental rate: {'{:e}'.format(exp)}\")\n",
    "    print(f\"computed rate:     {'{:e}'.format(1/mfpt)}\")\n",
    "    del results "
   ]
  },
  {
   "cell_type": "code",
   "execution_count": null,
   "metadata": {},
   "outputs": [],
   "source": [
    "expdata['computed'] = rates\n",
    "expdata['ratios'] = [float(e)/c for e, c in zip(expdata['expvalue'], expdata['computed'])]"
   ]
  },
  {
   "cell_type": "code",
   "execution_count": null,
   "metadata": {},
   "outputs": [],
   "source": [
    "expdata.to_csv('nucleation1.csv')"
   ]
  }
 ],
 "metadata": {
  "kernelspec": {
   "display_name": "hdna",
   "language": "python",
   "name": "python3"
  },
  "language_info": {
   "codemirror_mode": {
    "name": "ipython",
    "version": 3
   },
   "file_extension": ".py",
   "mimetype": "text/x-python",
   "name": "python",
   "nbconvert_exporter": "python",
   "pygments_lexer": "ipython3",
   "version": "3.10.9"
  },
  "orig_nbformat": 4,
  "vscode": {
   "interpreter": {
    "hash": "13f02c433cbffcd00bbcbbfeff349f4b7c28e9023d8fb9f65ab93bb104997abd"
   }
  }
 },
 "nbformat": 4,
 "nbformat_minor": 2
}
