{
 "cells": [
  {
   "cell_type": "code",
   "execution_count": 7,
   "metadata": {},
   "outputs": [
    {
     "name": "stdout",
     "output_type": "stream",
     "text": [
      "The autoreload extension is already loaded. To reload it, use:\n",
      "  %reload_ext autoreload\n"
     ]
    }
   ],
   "source": [
    "%load_ext autoreload\n",
    "%autoreload 2"
   ]
  },
  {
   "cell_type": "code",
   "execution_count": 8,
   "metadata": {},
   "outputs": [],
   "source": [
    "import pandas as pd \n",
    "from conf import *\n",
    "\n",
    "pd.set_option('display.float_format', lambda x: '%.3e' % x if float(x) > 5000 or float(x) < 0.01 and float(x) != 0 else ('%d' % x if x.is_integer() else '%.3f' % x))"
   ]
  },
  {
   "cell_type": "code",
   "execution_count": 9,
   "metadata": {},
   "outputs": [],
   "source": [
    "DIR = 'results/wrong_zipping/M4Z9S7'\n",
    "\n",
    "hyperp = pd.read_csv(f'{DIR}/hyperparameters.csv'); hyperp['values'].map(float)\n",
    "data = pd.read_csv(f'{DIR}/simulationdata.csv'); \n",
    "data['index'] = data.index\n",
    "try: data.drop('seq.1', axis=1, inplace=True)\n",
    "except KeyError: pass\n",
    "try: data.drop('Unnamed: 0', axis=1, inplace=True)\n",
    "except KeyError: pass"
   ]
  },
  {
   "cell_type": "code",
   "execution_count": 10,
   "metadata": {},
   "outputs": [
    {
     "data": {
      "text/html": [
       "<div>\n",
       "<style scoped>\n",
       "    .dataframe tbody tr th:only-of-type {\n",
       "        vertical-align: middle;\n",
       "    }\n",
       "\n",
       "    .dataframe tbody tr th {\n",
       "        vertical-align: top;\n",
       "    }\n",
       "\n",
       "    .dataframe thead th {\n",
       "        text-align: right;\n",
       "    }\n",
       "</style>\n",
       "<table border=\"1\" class=\"dataframe\">\n",
       "  <thead>\n",
       "    <tr style=\"text-align: right;\">\n",
       "      <th></th>\n",
       "      <th>0</th>\n",
       "      <th>1</th>\n",
       "      <th>2</th>\n",
       "      <th>3</th>\n",
       "      <th>4</th>\n",
       "      <th>5</th>\n",
       "      <th>6</th>\n",
       "      <th>7</th>\n",
       "    </tr>\n",
       "  </thead>\n",
       "  <tbody>\n",
       "    <tr>\n",
       "      <th>hyperparameters</th>\n",
       "      <td>minimum_nucleation</td>\n",
       "      <td>zipping_rate</td>\n",
       "      <td>sliding_rate</td>\n",
       "      <td>temperature</td>\n",
       "      <td>azimutal_angle</td>\n",
       "      <td>longitudinal_angle</td>\n",
       "      <td>runtime</td>\n",
       "      <td>N_simul</td>\n",
       "    </tr>\n",
       "    <tr>\n",
       "      <th>values</th>\n",
       "      <td>4</td>\n",
       "      <td>2.000e+09</td>\n",
       "      <td>2.000e+07</td>\n",
       "      <td>25</td>\n",
       "      <td>120</td>\n",
       "      <td>270</td>\n",
       "      <td>5.000e-06</td>\n",
       "      <td>3000</td>\n",
       "    </tr>\n",
       "  </tbody>\n",
       "</table>\n",
       "</div>"
      ],
      "text/plain": [
       "                                  0             1             2            3  \\\n",
       "hyperparameters  minimum_nucleation  zipping_rate  sliding_rate  temperature   \n",
       "values                            4     2.000e+09     2.000e+07           25   \n",
       "\n",
       "                              4                   5         6        7  \n",
       "hyperparameters  azimutal_angle  longitudinal_angle   runtime  N_simul  \n",
       "values                      120                 270 5.000e-06     3000  "
      ]
     },
     "execution_count": 10,
     "metadata": {},
     "output_type": "execute_result"
    }
   ],
   "source": [
    "hyperp.T"
   ]
  },
  {
   "cell_type": "code",
   "execution_count": 11,
   "metadata": {},
   "outputs": [],
   "source": [
    "from hdna import valplot"
   ]
  },
  {
   "cell_type": "code",
   "execution_count": 13,
   "metadata": {},
   "outputs": [
    {
     "data": {
      "application/vnd.plotly.v1+json": {
       "config": {
        "plotlyServerURL": "https://plot.ly"
       },
       "data": [
        {
         "customdata": [
          "20_GCTGTTCGGTCTAT    ",
          "0_GTTCGGTCTA        ",
          "21_ACCAAACCACCAAC    ",
          "1_CCAAAACCAA        ",
          "22_CAACACCAAACAAC    ",
          "2_AAACCACACA        ",
          "23_CAAAACCCCAACAC    ",
          "24_AAACCCACCACACA    ",
          "25_CAACACCCAAACAC    ",
          "3_ACCAAACCAC        ",
          "4_ACACCAAACC        ",
          "26_CCAAAACCAACAAC    ",
          "5_AAAAACCCAC        ",
          "27_AAAAACCCACCCAA    ",
          "6_CAACACCCAA        ",
          "7_AAACCCACCA        ",
          "8_ACAACACCAC        ",
          "9_CAAAACCCCA        ",
          "10_AACCAACACC        ",
          "11_CAACACAACC        ",
          "28_AAACCACCCAACAC    ",
          "12_ACCAACACCA        ",
          "13_CCACCAACAA        ",
          "29_CCCAAACCCAACCA    ",
          "30_ACCAACACCAACCA    ",
          "31_CAACAACACCACCA    ",
          "32_AACCAACACCACCA    ",
          "33_AACCACCACAAACC    ",
          "34_CAACACAACCAACC    ",
          "35_CACCACAACCACCA    ",
          "14_ACACACACAC        ",
          "15_AACCACCACA        ",
          "16_CAACCAACCA        ",
          "36_CCCCACACAACAAC    ",
          "37_CCACCAACAACAAC    ",
          "17_ACACACACCA        ",
          "38_ACACACACCACACA    ",
          "39_CACACACACACACA    ",
          "40_ACCAACCAACCAAC    ",
          "18_CCCCACACAA        ",
          "19_ACACCACCAC        "
         ],
         "hovertemplate": "emp = %{x:.3e}\n                     <br>mod = %{y:.3e}\n                     <br>seq:  %{customdata} </b>",
         "marker": {
          "color": "tomato"
         },
         "mode": "markers",
         "name": "",
         "type": "scatter",
         "x": [
          1042173,
          1145950,
          1186657,
          1668154,
          1779672,
          1809459,
          1831343,
          1892296,
          2124654,
          2167675,
          2178513,
          2304253,
          2364640,
          2433452,
          2511513,
          2527035,
          2559279,
          2651666,
          2655670,
          2695608,
          2745623,
          2765864,
          2825047,
          2975581,
          3186916,
          3242444,
          3629903,
          3659749,
          3763039,
          3805400,
          3843880,
          3865948,
          3960894,
          3961922,
          4062258,
          4159347,
          4442077,
          4818114,
          5208461,
          5448523,
          5613147
         ],
         "y": [
          538690.0891588442,
          2097496.0126974904,
          343563.76838706643,
          5650811.292096471,
          860765.7071538438,
          20735522.81158627,
          1067845.1050559324,
          425513.8628171895,
          1664031.441579517,
          8504320.414773697,
          18885283.06889749,
          1790615.2175300329,
          9230690.609693954,
          1656619.346970522,
          4119469.639141912,
          4543467.129071754,
          2514977.120240217,
          8520742.871859485,
          6874177.584968193,
          28393468.56536853,
          722978.5552796477,
          9184514.398065252,
          1392244.7744875888,
          598662.5009212638,
          5853930.604512516,
          896629.91827434,
          476577.1431630643,
          2281334.2952981438,
          427205.7688560183,
          539823.7160658577,
          5608168.623613811,
          11208418.093795968,
          4198646.33247627,
          788453.4511787281,
          2819831.4162940434,
          11290356.895766975,
          492788.902600878,
          860236.5784094709,
          6533085.470779184,
          2113894.4755844763,
          11978053.309896754
         ]
        },
        {
         "line": {
          "dash": "dash"
         },
         "marker": {
          "color": "royalblue"
         },
         "mode": "lines",
         "name": "bisector",
         "type": "scatter",
         "x": [
          1042173,
          1145950,
          1186657,
          1668154,
          1779672,
          1809459,
          1831343,
          1892296,
          2124654,
          2167675,
          2178513,
          2304253,
          2364640,
          2433452,
          2511513,
          2527035,
          2559279,
          2651666,
          2655670,
          2695608,
          2745623,
          2765864,
          2825047,
          2975581,
          3186916,
          3242444,
          3629903,
          3659749,
          3763039,
          3805400,
          3843880,
          3865948,
          3960894,
          3961922,
          4062258,
          4159347,
          4442077,
          4818114,
          5208461,
          5448523,
          5613147
         ],
         "y": [
          1042173,
          1145950,
          1186657,
          1668154,
          1779672,
          1809459,
          1831343,
          1892296,
          2124654,
          2167675,
          2178513,
          2304253,
          2364640,
          2433452,
          2511513,
          2527035,
          2559279,
          2651666,
          2655670,
          2695608,
          2745623,
          2765864,
          2825047,
          2975581,
          3186916,
          3242444,
          3629903,
          3659749,
          3763039,
          3805400,
          3843880,
          3865948,
          3960894,
          3961922,
          4062258,
          4159347,
          4442077,
          4818114,
          5208461,
          5448523,
          5613147
         ]
        }
       ],
       "layout": {
        "autosize": false,
        "height": 600,
        "margin": {
         "b": 50,
         "l": 50,
         "pad": 0,
         "r": 50,
         "t": 50
        },
        "showlegend": false,
        "template": {
         "data": {
          "bar": [
           {
            "error_x": {
             "color": "rgb(51,51,51)"
            },
            "error_y": {
             "color": "rgb(51,51,51)"
            },
            "marker": {
             "line": {
              "color": "rgb(237,237,237)",
              "width": 0.5
             },
             "pattern": {
              "fillmode": "overlay",
              "size": 10,
              "solidity": 0.2
             }
            },
            "type": "bar"
           }
          ],
          "barpolar": [
           {
            "marker": {
             "line": {
              "color": "rgb(237,237,237)",
              "width": 0.5
             },
             "pattern": {
              "fillmode": "overlay",
              "size": 10,
              "solidity": 0.2
             }
            },
            "type": "barpolar"
           }
          ],
          "carpet": [
           {
            "aaxis": {
             "endlinecolor": "rgb(51,51,51)",
             "gridcolor": "white",
             "linecolor": "white",
             "minorgridcolor": "white",
             "startlinecolor": "rgb(51,51,51)"
            },
            "baxis": {
             "endlinecolor": "rgb(51,51,51)",
             "gridcolor": "white",
             "linecolor": "white",
             "minorgridcolor": "white",
             "startlinecolor": "rgb(51,51,51)"
            },
            "type": "carpet"
           }
          ],
          "choropleth": [
           {
            "colorbar": {
             "outlinewidth": 0,
             "tickcolor": "rgb(237,237,237)",
             "ticklen": 6,
             "ticks": "inside"
            },
            "type": "choropleth"
           }
          ],
          "contour": [
           {
            "colorbar": {
             "outlinewidth": 0,
             "tickcolor": "rgb(237,237,237)",
             "ticklen": 6,
             "ticks": "inside"
            },
            "colorscale": [
             [
              0,
              "rgb(20,44,66)"
             ],
             [
              1,
              "rgb(90,179,244)"
             ]
            ],
            "type": "contour"
           }
          ],
          "contourcarpet": [
           {
            "colorbar": {
             "outlinewidth": 0,
             "tickcolor": "rgb(237,237,237)",
             "ticklen": 6,
             "ticks": "inside"
            },
            "type": "contourcarpet"
           }
          ],
          "heatmap": [
           {
            "colorbar": {
             "outlinewidth": 0,
             "tickcolor": "rgb(237,237,237)",
             "ticklen": 6,
             "ticks": "inside"
            },
            "colorscale": [
             [
              0,
              "rgb(20,44,66)"
             ],
             [
              1,
              "rgb(90,179,244)"
             ]
            ],
            "type": "heatmap"
           }
          ],
          "heatmapgl": [
           {
            "colorbar": {
             "outlinewidth": 0,
             "tickcolor": "rgb(237,237,237)",
             "ticklen": 6,
             "ticks": "inside"
            },
            "colorscale": [
             [
              0,
              "rgb(20,44,66)"
             ],
             [
              1,
              "rgb(90,179,244)"
             ]
            ],
            "type": "heatmapgl"
           }
          ],
          "histogram": [
           {
            "marker": {
             "pattern": {
              "fillmode": "overlay",
              "size": 10,
              "solidity": 0.2
             }
            },
            "type": "histogram"
           }
          ],
          "histogram2d": [
           {
            "colorbar": {
             "outlinewidth": 0,
             "tickcolor": "rgb(237,237,237)",
             "ticklen": 6,
             "ticks": "inside"
            },
            "colorscale": [
             [
              0,
              "rgb(20,44,66)"
             ],
             [
              1,
              "rgb(90,179,244)"
             ]
            ],
            "type": "histogram2d"
           }
          ],
          "histogram2dcontour": [
           {
            "colorbar": {
             "outlinewidth": 0,
             "tickcolor": "rgb(237,237,237)",
             "ticklen": 6,
             "ticks": "inside"
            },
            "colorscale": [
             [
              0,
              "rgb(20,44,66)"
             ],
             [
              1,
              "rgb(90,179,244)"
             ]
            ],
            "type": "histogram2dcontour"
           }
          ],
          "mesh3d": [
           {
            "colorbar": {
             "outlinewidth": 0,
             "tickcolor": "rgb(237,237,237)",
             "ticklen": 6,
             "ticks": "inside"
            },
            "type": "mesh3d"
           }
          ],
          "parcoords": [
           {
            "line": {
             "colorbar": {
              "outlinewidth": 0,
              "tickcolor": "rgb(237,237,237)",
              "ticklen": 6,
              "ticks": "inside"
             }
            },
            "type": "parcoords"
           }
          ],
          "pie": [
           {
            "automargin": true,
            "type": "pie"
           }
          ],
          "scatter": [
           {
            "fillpattern": {
             "fillmode": "overlay",
             "size": 10,
             "solidity": 0.2
            },
            "type": "scatter"
           }
          ],
          "scatter3d": [
           {
            "line": {
             "colorbar": {
              "outlinewidth": 0,
              "tickcolor": "rgb(237,237,237)",
              "ticklen": 6,
              "ticks": "inside"
             }
            },
            "marker": {
             "colorbar": {
              "outlinewidth": 0,
              "tickcolor": "rgb(237,237,237)",
              "ticklen": 6,
              "ticks": "inside"
             }
            },
            "type": "scatter3d"
           }
          ],
          "scattercarpet": [
           {
            "marker": {
             "colorbar": {
              "outlinewidth": 0,
              "tickcolor": "rgb(237,237,237)",
              "ticklen": 6,
              "ticks": "inside"
             }
            },
            "type": "scattercarpet"
           }
          ],
          "scattergeo": [
           {
            "marker": {
             "colorbar": {
              "outlinewidth": 0,
              "tickcolor": "rgb(237,237,237)",
              "ticklen": 6,
              "ticks": "inside"
             }
            },
            "type": "scattergeo"
           }
          ],
          "scattergl": [
           {
            "marker": {
             "colorbar": {
              "outlinewidth": 0,
              "tickcolor": "rgb(237,237,237)",
              "ticklen": 6,
              "ticks": "inside"
             }
            },
            "type": "scattergl"
           }
          ],
          "scattermapbox": [
           {
            "marker": {
             "colorbar": {
              "outlinewidth": 0,
              "tickcolor": "rgb(237,237,237)",
              "ticklen": 6,
              "ticks": "inside"
             }
            },
            "type": "scattermapbox"
           }
          ],
          "scatterpolar": [
           {
            "marker": {
             "colorbar": {
              "outlinewidth": 0,
              "tickcolor": "rgb(237,237,237)",
              "ticklen": 6,
              "ticks": "inside"
             }
            },
            "type": "scatterpolar"
           }
          ],
          "scatterpolargl": [
           {
            "marker": {
             "colorbar": {
              "outlinewidth": 0,
              "tickcolor": "rgb(237,237,237)",
              "ticklen": 6,
              "ticks": "inside"
             }
            },
            "type": "scatterpolargl"
           }
          ],
          "scatterternary": [
           {
            "marker": {
             "colorbar": {
              "outlinewidth": 0,
              "tickcolor": "rgb(237,237,237)",
              "ticklen": 6,
              "ticks": "inside"
             }
            },
            "type": "scatterternary"
           }
          ],
          "surface": [
           {
            "colorbar": {
             "outlinewidth": 0,
             "tickcolor": "rgb(237,237,237)",
             "ticklen": 6,
             "ticks": "inside"
            },
            "colorscale": [
             [
              0,
              "rgb(20,44,66)"
             ],
             [
              1,
              "rgb(90,179,244)"
             ]
            ],
            "type": "surface"
           }
          ],
          "table": [
           {
            "cells": {
             "fill": {
              "color": "rgb(237,237,237)"
             },
             "line": {
              "color": "white"
             }
            },
            "header": {
             "fill": {
              "color": "rgb(217,217,217)"
             },
             "line": {
              "color": "white"
             }
            },
            "type": "table"
           }
          ]
         },
         "layout": {
          "annotationdefaults": {
           "arrowhead": 0,
           "arrowwidth": 1
          },
          "autotypenumbers": "strict",
          "coloraxis": {
           "colorbar": {
            "outlinewidth": 0,
            "tickcolor": "rgb(237,237,237)",
            "ticklen": 6,
            "ticks": "inside"
           }
          },
          "colorscale": {
           "sequential": [
            [
             0,
             "rgb(20,44,66)"
            ],
            [
             1,
             "rgb(90,179,244)"
            ]
           ],
           "sequentialminus": [
            [
             0,
             "rgb(20,44,66)"
            ],
            [
             1,
             "rgb(90,179,244)"
            ]
           ]
          },
          "colorway": [
           "#F8766D",
           "#A3A500",
           "#00BF7D",
           "#00B0F6",
           "#E76BF3"
          ],
          "font": {
           "color": "rgb(51,51,51)"
          },
          "geo": {
           "bgcolor": "white",
           "lakecolor": "white",
           "landcolor": "rgb(237,237,237)",
           "showlakes": true,
           "showland": true,
           "subunitcolor": "white"
          },
          "hoverlabel": {
           "align": "left"
          },
          "hovermode": "closest",
          "paper_bgcolor": "white",
          "plot_bgcolor": "rgb(237,237,237)",
          "polar": {
           "angularaxis": {
            "gridcolor": "white",
            "linecolor": "white",
            "showgrid": true,
            "tickcolor": "rgb(51,51,51)",
            "ticks": "outside"
           },
           "bgcolor": "rgb(237,237,237)",
           "radialaxis": {
            "gridcolor": "white",
            "linecolor": "white",
            "showgrid": true,
            "tickcolor": "rgb(51,51,51)",
            "ticks": "outside"
           }
          },
          "scene": {
           "xaxis": {
            "backgroundcolor": "rgb(237,237,237)",
            "gridcolor": "white",
            "gridwidth": 2,
            "linecolor": "white",
            "showbackground": true,
            "showgrid": true,
            "tickcolor": "rgb(51,51,51)",
            "ticks": "outside",
            "zerolinecolor": "white"
           },
           "yaxis": {
            "backgroundcolor": "rgb(237,237,237)",
            "gridcolor": "white",
            "gridwidth": 2,
            "linecolor": "white",
            "showbackground": true,
            "showgrid": true,
            "tickcolor": "rgb(51,51,51)",
            "ticks": "outside",
            "zerolinecolor": "white"
           },
           "zaxis": {
            "backgroundcolor": "rgb(237,237,237)",
            "gridcolor": "white",
            "gridwidth": 2,
            "linecolor": "white",
            "showbackground": true,
            "showgrid": true,
            "tickcolor": "rgb(51,51,51)",
            "ticks": "outside",
            "zerolinecolor": "white"
           }
          },
          "shapedefaults": {
           "fillcolor": "black",
           "line": {
            "width": 0
           },
           "opacity": 0.3
          },
          "ternary": {
           "aaxis": {
            "gridcolor": "white",
            "linecolor": "white",
            "showgrid": true,
            "tickcolor": "rgb(51,51,51)",
            "ticks": "outside"
           },
           "baxis": {
            "gridcolor": "white",
            "linecolor": "white",
            "showgrid": true,
            "tickcolor": "rgb(51,51,51)",
            "ticks": "outside"
           },
           "bgcolor": "rgb(237,237,237)",
           "caxis": {
            "gridcolor": "white",
            "linecolor": "white",
            "showgrid": true,
            "tickcolor": "rgb(51,51,51)",
            "ticks": "outside"
           }
          },
          "xaxis": {
           "automargin": true,
           "gridcolor": "white",
           "linecolor": "white",
           "showgrid": true,
           "tickcolor": "rgb(51,51,51)",
           "ticks": "outside",
           "title": {
            "standoff": 15
           },
           "zerolinecolor": "white"
          },
          "yaxis": {
           "automargin": true,
           "gridcolor": "white",
           "linecolor": "white",
           "showgrid": true,
           "tickcolor": "rgb(51,51,51)",
           "ticks": "outside",
           "title": {
            "standoff": 15
           },
           "zerolinecolor": "white"
          }
         }
        },
        "title": {
         "text": "Scatterplot for see"
        },
        "width": 1000,
        "xaxis": {
         "showgrid": true,
         "tickmode": "array"
        },
        "yaxis": {
         "showgrid": true,
         "tickmode": "array"
        }
       }
      }
     },
     "metadata": {},
     "output_type": "display_data"
    }
   ],
   "source": [
    "valplot(data, 'see', theme='light')"
   ]
  },
  {
   "cell_type": "code",
   "execution_count": null,
   "metadata": {},
   "outputs": [],
   "source": []
  }
 ],
 "metadata": {
  "kernelspec": {
   "display_name": "hdna",
   "language": "python",
   "name": "python3"
  },
  "language_info": {
   "codemirror_mode": {
    "name": "ipython",
    "version": 3
   },
   "file_extension": ".py",
   "mimetype": "text/x-python",
   "name": "python",
   "nbconvert_exporter": "python",
   "pygments_lexer": "ipython3",
   "version": "3.10.9 (main, Jan 11 2023, 15:21:40) [GCC 11.2.0]"
  },
  "orig_nbformat": 4,
  "vscode": {
   "interpreter": {
    "hash": "13f02c433cbffcd00bbcbbfeff349f4b7c28e9023d8fb9f65ab93bb104997abd"
   }
  }
 },
 "nbformat": 4,
 "nbformat_minor": 2
}
