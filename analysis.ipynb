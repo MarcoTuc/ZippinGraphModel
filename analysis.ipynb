{
 "cells": [
  {
   "cell_type": "code",
   "execution_count": 49,
   "metadata": {},
   "outputs": [
    {
     "name": "stdout",
     "output_type": "stream",
     "text": [
      "The autoreload extension is already loaded. To reload it, use:\n",
      "  %reload_ext autoreload\n"
     ]
    }
   ],
   "source": [
    "%load_ext autoreload\n",
    "%autoreload 2"
   ]
  },
  {
   "cell_type": "code",
   "execution_count": 50,
   "metadata": {},
   "outputs": [],
   "source": [
    "import pandas as pd \n",
    "import math\n",
    "from conf import *\n",
    "\n",
    "pd.set_option('display.float_format', lambda x: '%.3e' % x if float(x) > 5000 or float(x) < 0.01 and float(x) != 0 else ('%d' % x if x.is_integer() else '%.3f' % x))"
   ]
  },
  {
   "cell_type": "code",
   "execution_count": 51,
   "metadata": {},
   "outputs": [],
   "source": [
    "DIR = '/home/marco/Desktop/HDNAback/hDNA/results/sumofinchandpk40/run_1'\n",
    "\n",
    "# hyperp = pd.read_csv(f'{DIR}/hyperparameters.csv'); hyperp['values'][:-1].map(float)\n",
    "data = pd.read_csv(f'{DIR}/simulationdata.csv'); \n",
    "data['index'] = data.index\n",
    "try: data.drop('seq.1', axis=1, inplace=True)\n",
    "except KeyError: pass\n",
    "try: data.drop('Unnamed: 0', axis=1, inplace=True)\n",
    "except KeyError: pass"
   ]
  },
  {
   "cell_type": "code",
   "execution_count": 52,
   "metadata": {},
   "outputs": [],
   "source": [
    "from hdna import valplot"
   ]
  },
  {
   "cell_type": "code",
   "execution_count": 53,
   "metadata": {},
   "outputs": [
    {
     "data": {
      "application/vnd.plotly.v1+json": {
       "config": {
        "plotlyServerURL": "https://plot.ly"
       },
       "data": [
        {
         "customdata": [
          "20_GCTGTTCGGTCTAT",
          "0_GTTCGGTCTA",
          "21_ACCAAACCACCAAC",
          "1_CCAAAACCAA",
          "22_CAACACCAAACAAC",
          "2_AAACCACACA",
          "23_CAAAACCCCAACAC",
          "24_AAACCCACCACACA",
          "25_CAACACCCAAACAC",
          "3_ACCAAACCAC",
          "4_ACACCAAACC",
          "26_CCAAAACCAACAAC",
          "5_AAAAACCCAC",
          "27_AAAAACCCACCCAA",
          "6_CAACACCCAA",
          "7_AAACCCACCA",
          "8_ACAACACCAC",
          "9_CAAAACCCCA",
          "10_AACCAACACC",
          "11_CAACACAACC",
          "28_AAACCACCCAACAC",
          "12_ACCAACACCA",
          "13_CCACCAACAA",
          "29_CCCAAACCCAACCA",
          "30_ACCAACACCAACCA",
          "31_CAACAACACCACCA",
          "32_AACCAACACCACCA",
          "33_AACCACCACAAACC",
          "34_CAACACAACCAACC",
          "35_CACCACAACCACCA",
          "14_ACACACACAC",
          "15_AACCACCACA",
          "16_CAACCAACCA",
          "36_CCCCACACAACAAC",
          "37_CCACCAACAACAAC",
          "17_ACACACACCA",
          "38_ACACACACCACACA",
          "39_CACACACACACACA",
          "40_ACCAACCAACCAAC",
          "18_CCCCACACAA",
          "19_ACACCACCAC"
         ],
         "hovertemplate": "emp = %{x:.3e}\n                     <br>mod = %{y:.3e}\n                     <br>seq:  %{customdata} </b>",
         "marker": {
          "color": "tan"
         },
         "mode": "markers",
         "name": "",
         "type": "scatter",
         "x": [
          1042173,
          1145950,
          1186657,
          1668154,
          1779672,
          1809459,
          1831343,
          1892296,
          2124654,
          2167675,
          2178513,
          2304253,
          2364640,
          2433452,
          2511513,
          2527035,
          2559279,
          2651666,
          2655670,
          2695608,
          2745623,
          2765864,
          2825047,
          2975581,
          3186916,
          3242444,
          3629903,
          3659749,
          3763039,
          3805400,
          3843880,
          3865948,
          3960894,
          3961922,
          4062258,
          4159347,
          4442077,
          4818114,
          5208461,
          5448523,
          5613147
         ],
         "y": [
          1902885.900899656,
          2497375.5071939384,
          3207582.0750935725,
          2770840.859513549,
          1981188.889298286,
          3211082.884358472,
          1788383.0747011546,
          2913192.18366665,
          1999246.55228632,
          3160713.67241767,
          2305800.8535208357,
          2168214.692712282,
          2373952.826536301,
          2424604.99733802,
          1934309.9806442116,
          2833097.7942350134,
          2251608.537420657,
          2760135.687476714,
          2209852.614860941,
          2970943.514883456,
          1966710.1942803743,
          2987791.3721581385,
          2511703.299286473,
          2477291.046412467,
          3178387.443783546,
          2868634.514430868,
          3074822.173722467,
          2627269.685316672,
          3095953.6356668263,
          3124228.990055673,
          5134738.060933797,
          3579411.061795548,
          3803968.897683709,
          3076750.7341891066,
          2905337.874500961,
          4133510.864207416,
          4223451.519836899,
          4308502.036218053,
          3437009.3266162863,
          3896739.201614647,
          3370866.807165849
         ]
        },
        {
         "line": {
          "dash": "dash"
         },
         "marker": {
          "color": "coral"
         },
         "mode": "lines",
         "name": "bisector",
         "type": "scatter",
         "x": [
          0,
          122448.97959183673,
          244897.95918367346,
          367346.9387755102,
          489795.9183673469,
          612244.8979591837,
          734693.8775510204,
          857142.8571428572,
          979591.8367346938,
          1102040.8163265307,
          1224489.7959183673,
          1346938.775510204,
          1469387.7551020407,
          1591836.7346938774,
          1714285.7142857143,
          1836734.693877551,
          1959183.6734693877,
          2081632.6530612244,
          2204081.6326530613,
          2326530.612244898,
          2448979.5918367347,
          2571428.5714285714,
          2693877.551020408,
          2816326.5306122447,
          2938775.5102040814,
          3061224.489795918,
          3183673.469387755,
          3306122.448979592,
          3428571.4285714286,
          3551020.4081632653,
          3673469.387755102,
          3795918.3673469387,
          3918367.3469387754,
          4040816.326530612,
          4163265.3061224488,
          4285714.285714285,
          4408163.265306123,
          4530612.244897959,
          4653061.224489796,
          4775510.204081632,
          4897959.183673469,
          5020408.163265306,
          5142857.142857143,
          5265306.12244898,
          5387755.102040816,
          5510204.081632653,
          5632653.0612244895,
          5755102.040816327,
          5877551.020408163,
          6000000
         ],
         "y": [
          0,
          122448.97959183673,
          244897.95918367346,
          367346.9387755102,
          489795.9183673469,
          612244.8979591837,
          734693.8775510204,
          857142.8571428572,
          979591.8367346938,
          1102040.8163265307,
          1224489.7959183673,
          1346938.775510204,
          1469387.7551020407,
          1591836.7346938774,
          1714285.7142857143,
          1836734.693877551,
          1959183.6734693877,
          2081632.6530612244,
          2204081.6326530613,
          2326530.612244898,
          2448979.5918367347,
          2571428.5714285714,
          2693877.551020408,
          2816326.5306122447,
          2938775.5102040814,
          3061224.489795918,
          3183673.469387755,
          3306122.448979592,
          3428571.4285714286,
          3551020.4081632653,
          3673469.387755102,
          3795918.3673469387,
          3918367.3469387754,
          4040816.326530612,
          4163265.3061224488,
          4285714.285714285,
          4408163.265306123,
          4530612.244897959,
          4653061.224489796,
          4775510.204081632,
          4897959.183673469,
          5020408.163265306,
          5142857.142857143,
          5265306.12244898,
          5387755.102040816,
          5510204.081632653,
          5632653.0612244895,
          5755102.040816327,
          5877551.020408163,
          6000000
         ]
        }
       ],
       "layout": {
        "autosize": false,
        "height": 600,
        "margin": {
         "b": 50,
         "l": 50,
         "pad": 0,
         "r": 50,
         "t": 50
        },
        "showlegend": false,
        "template": {
         "data": {
          "bar": [
           {
            "error_x": {
             "color": "#f2f5fa"
            },
            "error_y": {
             "color": "#f2f5fa"
            },
            "marker": {
             "line": {
              "color": "rgb(17,17,17)",
              "width": 0.5
             },
             "pattern": {
              "fillmode": "overlay",
              "size": 10,
              "solidity": 0.2
             }
            },
            "type": "bar"
           }
          ],
          "barpolar": [
           {
            "marker": {
             "line": {
              "color": "rgb(17,17,17)",
              "width": 0.5
             },
             "pattern": {
              "fillmode": "overlay",
              "size": 10,
              "solidity": 0.2
             }
            },
            "type": "barpolar"
           }
          ],
          "carpet": [
           {
            "aaxis": {
             "endlinecolor": "#A2B1C6",
             "gridcolor": "#506784",
             "linecolor": "#506784",
             "minorgridcolor": "#506784",
             "startlinecolor": "#A2B1C6"
            },
            "baxis": {
             "endlinecolor": "#A2B1C6",
             "gridcolor": "#506784",
             "linecolor": "#506784",
             "minorgridcolor": "#506784",
             "startlinecolor": "#A2B1C6"
            },
            "type": "carpet"
           }
          ],
          "choropleth": [
           {
            "colorbar": {
             "outlinewidth": 0,
             "ticks": ""
            },
            "type": "choropleth"
           }
          ],
          "contour": [
           {
            "colorbar": {
             "outlinewidth": 0,
             "ticks": ""
            },
            "colorscale": [
             [
              0,
              "#0d0887"
             ],
             [
              0.1111111111111111,
              "#46039f"
             ],
             [
              0.2222222222222222,
              "#7201a8"
             ],
             [
              0.3333333333333333,
              "#9c179e"
             ],
             [
              0.4444444444444444,
              "#bd3786"
             ],
             [
              0.5555555555555556,
              "#d8576b"
             ],
             [
              0.6666666666666666,
              "#ed7953"
             ],
             [
              0.7777777777777778,
              "#fb9f3a"
             ],
             [
              0.8888888888888888,
              "#fdca26"
             ],
             [
              1,
              "#f0f921"
             ]
            ],
            "type": "contour"
           }
          ],
          "contourcarpet": [
           {
            "colorbar": {
             "outlinewidth": 0,
             "ticks": ""
            },
            "type": "contourcarpet"
           }
          ],
          "heatmap": [
           {
            "colorbar": {
             "outlinewidth": 0,
             "ticks": ""
            },
            "colorscale": [
             [
              0,
              "#0d0887"
             ],
             [
              0.1111111111111111,
              "#46039f"
             ],
             [
              0.2222222222222222,
              "#7201a8"
             ],
             [
              0.3333333333333333,
              "#9c179e"
             ],
             [
              0.4444444444444444,
              "#bd3786"
             ],
             [
              0.5555555555555556,
              "#d8576b"
             ],
             [
              0.6666666666666666,
              "#ed7953"
             ],
             [
              0.7777777777777778,
              "#fb9f3a"
             ],
             [
              0.8888888888888888,
              "#fdca26"
             ],
             [
              1,
              "#f0f921"
             ]
            ],
            "type": "heatmap"
           }
          ],
          "heatmapgl": [
           {
            "colorbar": {
             "outlinewidth": 0,
             "ticks": ""
            },
            "colorscale": [
             [
              0,
              "#0d0887"
             ],
             [
              0.1111111111111111,
              "#46039f"
             ],
             [
              0.2222222222222222,
              "#7201a8"
             ],
             [
              0.3333333333333333,
              "#9c179e"
             ],
             [
              0.4444444444444444,
              "#bd3786"
             ],
             [
              0.5555555555555556,
              "#d8576b"
             ],
             [
              0.6666666666666666,
              "#ed7953"
             ],
             [
              0.7777777777777778,
              "#fb9f3a"
             ],
             [
              0.8888888888888888,
              "#fdca26"
             ],
             [
              1,
              "#f0f921"
             ]
            ],
            "type": "heatmapgl"
           }
          ],
          "histogram": [
           {
            "marker": {
             "pattern": {
              "fillmode": "overlay",
              "size": 10,
              "solidity": 0.2
             }
            },
            "type": "histogram"
           }
          ],
          "histogram2d": [
           {
            "colorbar": {
             "outlinewidth": 0,
             "ticks": ""
            },
            "colorscale": [
             [
              0,
              "#0d0887"
             ],
             [
              0.1111111111111111,
              "#46039f"
             ],
             [
              0.2222222222222222,
              "#7201a8"
             ],
             [
              0.3333333333333333,
              "#9c179e"
             ],
             [
              0.4444444444444444,
              "#bd3786"
             ],
             [
              0.5555555555555556,
              "#d8576b"
             ],
             [
              0.6666666666666666,
              "#ed7953"
             ],
             [
              0.7777777777777778,
              "#fb9f3a"
             ],
             [
              0.8888888888888888,
              "#fdca26"
             ],
             [
              1,
              "#f0f921"
             ]
            ],
            "type": "histogram2d"
           }
          ],
          "histogram2dcontour": [
           {
            "colorbar": {
             "outlinewidth": 0,
             "ticks": ""
            },
            "colorscale": [
             [
              0,
              "#0d0887"
             ],
             [
              0.1111111111111111,
              "#46039f"
             ],
             [
              0.2222222222222222,
              "#7201a8"
             ],
             [
              0.3333333333333333,
              "#9c179e"
             ],
             [
              0.4444444444444444,
              "#bd3786"
             ],
             [
              0.5555555555555556,
              "#d8576b"
             ],
             [
              0.6666666666666666,
              "#ed7953"
             ],
             [
              0.7777777777777778,
              "#fb9f3a"
             ],
             [
              0.8888888888888888,
              "#fdca26"
             ],
             [
              1,
              "#f0f921"
             ]
            ],
            "type": "histogram2dcontour"
           }
          ],
          "mesh3d": [
           {
            "colorbar": {
             "outlinewidth": 0,
             "ticks": ""
            },
            "type": "mesh3d"
           }
          ],
          "parcoords": [
           {
            "line": {
             "colorbar": {
              "outlinewidth": 0,
              "ticks": ""
             }
            },
            "type": "parcoords"
           }
          ],
          "pie": [
           {
            "automargin": true,
            "type": "pie"
           }
          ],
          "scatter": [
           {
            "marker": {
             "line": {
              "color": "#283442"
             }
            },
            "type": "scatter"
           }
          ],
          "scatter3d": [
           {
            "line": {
             "colorbar": {
              "outlinewidth": 0,
              "ticks": ""
             }
            },
            "marker": {
             "colorbar": {
              "outlinewidth": 0,
              "ticks": ""
             }
            },
            "type": "scatter3d"
           }
          ],
          "scattercarpet": [
           {
            "marker": {
             "colorbar": {
              "outlinewidth": 0,
              "ticks": ""
             }
            },
            "type": "scattercarpet"
           }
          ],
          "scattergeo": [
           {
            "marker": {
             "colorbar": {
              "outlinewidth": 0,
              "ticks": ""
             }
            },
            "type": "scattergeo"
           }
          ],
          "scattergl": [
           {
            "marker": {
             "line": {
              "color": "#283442"
             }
            },
            "type": "scattergl"
           }
          ],
          "scattermapbox": [
           {
            "marker": {
             "colorbar": {
              "outlinewidth": 0,
              "ticks": ""
             }
            },
            "type": "scattermapbox"
           }
          ],
          "scatterpolar": [
           {
            "marker": {
             "colorbar": {
              "outlinewidth": 0,
              "ticks": ""
             }
            },
            "type": "scatterpolar"
           }
          ],
          "scatterpolargl": [
           {
            "marker": {
             "colorbar": {
              "outlinewidth": 0,
              "ticks": ""
             }
            },
            "type": "scatterpolargl"
           }
          ],
          "scatterternary": [
           {
            "marker": {
             "colorbar": {
              "outlinewidth": 0,
              "ticks": ""
             }
            },
            "type": "scatterternary"
           }
          ],
          "surface": [
           {
            "colorbar": {
             "outlinewidth": 0,
             "ticks": ""
            },
            "colorscale": [
             [
              0,
              "#0d0887"
             ],
             [
              0.1111111111111111,
              "#46039f"
             ],
             [
              0.2222222222222222,
              "#7201a8"
             ],
             [
              0.3333333333333333,
              "#9c179e"
             ],
             [
              0.4444444444444444,
              "#bd3786"
             ],
             [
              0.5555555555555556,
              "#d8576b"
             ],
             [
              0.6666666666666666,
              "#ed7953"
             ],
             [
              0.7777777777777778,
              "#fb9f3a"
             ],
             [
              0.8888888888888888,
              "#fdca26"
             ],
             [
              1,
              "#f0f921"
             ]
            ],
            "type": "surface"
           }
          ],
          "table": [
           {
            "cells": {
             "fill": {
              "color": "#506784"
             },
             "line": {
              "color": "rgb(17,17,17)"
             }
            },
            "header": {
             "fill": {
              "color": "#2a3f5f"
             },
             "line": {
              "color": "rgb(17,17,17)"
             }
            },
            "type": "table"
           }
          ]
         },
         "layout": {
          "annotationdefaults": {
           "arrowcolor": "#f2f5fa",
           "arrowhead": 0,
           "arrowwidth": 1
          },
          "autotypenumbers": "strict",
          "coloraxis": {
           "colorbar": {
            "outlinewidth": 0,
            "ticks": ""
           }
          },
          "colorscale": {
           "diverging": [
            [
             0,
             "#8e0152"
            ],
            [
             0.1,
             "#c51b7d"
            ],
            [
             0.2,
             "#de77ae"
            ],
            [
             0.3,
             "#f1b6da"
            ],
            [
             0.4,
             "#fde0ef"
            ],
            [
             0.5,
             "#f7f7f7"
            ],
            [
             0.6,
             "#e6f5d0"
            ],
            [
             0.7,
             "#b8e186"
            ],
            [
             0.8,
             "#7fbc41"
            ],
            [
             0.9,
             "#4d9221"
            ],
            [
             1,
             "#276419"
            ]
           ],
           "sequential": [
            [
             0,
             "#0d0887"
            ],
            [
             0.1111111111111111,
             "#46039f"
            ],
            [
             0.2222222222222222,
             "#7201a8"
            ],
            [
             0.3333333333333333,
             "#9c179e"
            ],
            [
             0.4444444444444444,
             "#bd3786"
            ],
            [
             0.5555555555555556,
             "#d8576b"
            ],
            [
             0.6666666666666666,
             "#ed7953"
            ],
            [
             0.7777777777777778,
             "#fb9f3a"
            ],
            [
             0.8888888888888888,
             "#fdca26"
            ],
            [
             1,
             "#f0f921"
            ]
           ],
           "sequentialminus": [
            [
             0,
             "#0d0887"
            ],
            [
             0.1111111111111111,
             "#46039f"
            ],
            [
             0.2222222222222222,
             "#7201a8"
            ],
            [
             0.3333333333333333,
             "#9c179e"
            ],
            [
             0.4444444444444444,
             "#bd3786"
            ],
            [
             0.5555555555555556,
             "#d8576b"
            ],
            [
             0.6666666666666666,
             "#ed7953"
            ],
            [
             0.7777777777777778,
             "#fb9f3a"
            ],
            [
             0.8888888888888888,
             "#fdca26"
            ],
            [
             1,
             "#f0f921"
            ]
           ]
          },
          "colorway": [
           "#636efa",
           "#EF553B",
           "#00cc96",
           "#ab63fa",
           "#FFA15A",
           "#19d3f3",
           "#FF6692",
           "#B6E880",
           "#FF97FF",
           "#FECB52"
          ],
          "font": {
           "color": "#f2f5fa"
          },
          "geo": {
           "bgcolor": "rgb(17,17,17)",
           "lakecolor": "rgb(17,17,17)",
           "landcolor": "rgb(17,17,17)",
           "showlakes": true,
           "showland": true,
           "subunitcolor": "#506784"
          },
          "hoverlabel": {
           "align": "left"
          },
          "hovermode": "closest",
          "mapbox": {
           "style": "dark"
          },
          "paper_bgcolor": "rgb(17,17,17)",
          "plot_bgcolor": "rgb(17,17,17)",
          "polar": {
           "angularaxis": {
            "gridcolor": "#506784",
            "linecolor": "#506784",
            "ticks": ""
           },
           "bgcolor": "rgb(17,17,17)",
           "radialaxis": {
            "gridcolor": "#506784",
            "linecolor": "#506784",
            "ticks": ""
           }
          },
          "scene": {
           "xaxis": {
            "backgroundcolor": "rgb(17,17,17)",
            "gridcolor": "#506784",
            "gridwidth": 2,
            "linecolor": "#506784",
            "showbackground": true,
            "ticks": "",
            "zerolinecolor": "#C8D4E3"
           },
           "yaxis": {
            "backgroundcolor": "rgb(17,17,17)",
            "gridcolor": "#506784",
            "gridwidth": 2,
            "linecolor": "#506784",
            "showbackground": true,
            "ticks": "",
            "zerolinecolor": "#C8D4E3"
           },
           "zaxis": {
            "backgroundcolor": "rgb(17,17,17)",
            "gridcolor": "#506784",
            "gridwidth": 2,
            "linecolor": "#506784",
            "showbackground": true,
            "ticks": "",
            "zerolinecolor": "#C8D4E3"
           }
          },
          "shapedefaults": {
           "line": {
            "color": "#f2f5fa"
           }
          },
          "sliderdefaults": {
           "bgcolor": "#C8D4E3",
           "bordercolor": "rgb(17,17,17)",
           "borderwidth": 1,
           "tickwidth": 0
          },
          "ternary": {
           "aaxis": {
            "gridcolor": "#506784",
            "linecolor": "#506784",
            "ticks": ""
           },
           "baxis": {
            "gridcolor": "#506784",
            "linecolor": "#506784",
            "ticks": ""
           },
           "bgcolor": "rgb(17,17,17)",
           "caxis": {
            "gridcolor": "#506784",
            "linecolor": "#506784",
            "ticks": ""
           }
          },
          "title": {
           "x": 0.05
          },
          "updatemenudefaults": {
           "bgcolor": "#506784",
           "borderwidth": 0
          },
          "xaxis": {
           "automargin": true,
           "gridcolor": "#283442",
           "linecolor": "#506784",
           "ticks": "",
           "title": {
            "standoff": 15
           },
           "zerolinecolor": "#283442",
           "zerolinewidth": 2
          },
          "yaxis": {
           "automargin": true,
           "gridcolor": "#283442",
           "linecolor": "#506784",
           "ticks": "",
           "title": {
            "standoff": 15
           },
           "zerolinecolor": "#283442",
           "zerolinewidth": 2
          }
         }
        },
        "title": {
         "text": "Scatterplot for see"
        },
        "width": 600,
        "xaxis": {
         "exponentformat": "e",
         "range": [
          0,
          6000000
         ],
         "showgrid": true,
         "tickmode": "array",
         "tickvals": [
          0,
          1000000,
          2000000,
          3000000,
          4000000,
          5000000,
          6000000
         ],
         "title": {
          "font": {
           "size": 22
          },
          "text": "$k_{exp}(seq)$"
         }
        },
        "yaxis": {
         "exponentformat": "e",
         "range": [
          0,
          6000000
         ],
         "showgrid": true,
         "tickmode": "array",
         "tickvals": [
          0,
          1000000,
          2000000,
          3000000,
          4000000,
          5000000,
          6000000
         ],
         "title": {
          "font": {
           "size": 22
          },
          "text": "$k_{mod}(seq)$"
         }
        }
       }
      }
     },
     "metadata": {},
     "output_type": "display_data"
    }
   ],
   "source": [
    "plot = valplot(data, 'see', writepath=None)"
   ]
  },
  {
   "cell_type": "code",
   "execution_count": 54,
   "metadata": {},
   "outputs": [],
   "source": [
    "def pearson(exp, mod):\n",
    "    avgexp = np.mean(exp)\n",
    "    avgmod = np.mean(mod)\n",
    "    sigmaexp = sum([np.power(x-avgexp,2) for x in exp])\n",
    "    sigmamod = sum([np.power(x-avgmod,2) for x in mod])\n",
    "    norm = np.sqrt(sigmaexp*sigmamod)\n",
    "    corr = sum([(x-avgexp)*(y-avgmod) for x, y in zip(exp, mod)])\n",
    "    return corr/norm\n",
    "\n",
    "def distance2badness(exp, mod):\n",
    "    i = 0\n",
    "    for expe, mode in zip(exp, mod):\n",
    "        if mode/2 <= expe <= mode*2:\n",
    "            i += 1\n",
    "    return i/len(exp)"
   ]
  },
  {
   "cell_type": "code",
   "execution_count": 55,
   "metadata": {},
   "outputs": [
    {
     "data": {
      "text/plain": [
       "0.6535237282481379"
      ]
     },
     "execution_count": 55,
     "metadata": {},
     "output_type": "execute_result"
    }
   ],
   "source": [
    "pearson(data['experimental'], data['computational'])"
   ]
  },
  {
   "cell_type": "code",
   "execution_count": 56,
   "metadata": {},
   "outputs": [
    {
     "data": {
      "text/plain": [
       "0.9512195121951219"
      ]
     },
     "execution_count": 56,
     "metadata": {},
     "output_type": "execute_result"
    }
   ],
   "source": [
    "distance2badness(data['experimental'], data['computational'])"
   ]
  },
  {
   "cell_type": "code",
   "execution_count": 88,
   "metadata": {},
   "outputs": [
    {
     "name": "stdout",
     "output_type": "stream",
     "text": [
      "9.524e+06\n"
     ]
    }
   ],
   "source": [
    "kz = 2e7\n",
    "kn = 2e9\n",
    "kb = 2e6\n",
    "kobs = (kn*kz)/(kz+kn+kb)\n",
    "print(f'{kobs:.3e}')"
   ]
  },
  {
   "cell_type": "code",
   "execution_count": 92,
   "metadata": {},
   "outputs": [
    {
     "data": {
      "text/plain": [
       "0.5095890410958904"
      ]
     },
     "execution_count": 92,
     "metadata": {},
     "output_type": "execute_result"
    }
   ],
   "source": [
    "186/365"
   ]
  },
  {
   "cell_type": "code",
   "execution_count": 3,
   "metadata": {},
   "outputs": [],
   "source": [
    "import diffeqpy"
   ]
  },
  {
   "cell_type": "code",
   "execution_count": 4,
   "metadata": {},
   "outputs": [
    {
     "name": "stderr",
     "output_type": "stream",
     "text": [
      "    Updating registry at `~/.julia/registries/General.toml`\n",
      "   Resolving package versions...\n",
      "   Installed Calculus ───────────────────────── v0.5.1\n",
      "   Installed OffsetArrays ───────────────────── v1.12.9\n",
      "   Installed NonlinearSolve ─────────────────── v1.5.0\n",
      "   Installed PDMats ─────────────────────────── v0.11.17\n",
      "   Installed HypergeometricFunctions ────────── v0.3.11\n",
      "   Installed TreeViews ──────────────────────── v0.3.0\n",
      "   Installed StatsFuns ──────────────────────── v1.3.0\n",
      "   Installed DifferentialEquations ──────────── v7.7.0\n",
      "   Installed Polyester ──────────────────────── v0.7.2\n",
      "   Installed Sundials_jll ───────────────────── v5.2.1+0\n",
      "   Installed FunctionWrappers ───────────────── v1.1.3\n",
      "   Installed CEnum ──────────────────────────── v0.4.2\n",
      "   Installed EnumX ──────────────────────────── v1.0.4\n",
      "   Installed ArrayInterfaceOffsetArrays ─────── v0.1.7\n",
      "   Installed TriangularSolve ────────────────── v0.1.19\n",
      "   Installed Static ─────────────────────────── v0.8.4\n",
      "   Installed RandomNumbers ──────────────────── v1.5.3\n",
      "   Installed KrylovKit ──────────────────────── v0.6.0\n",
      "   Installed SLEEFPirates ───────────────────── v0.6.38\n",
      "   Installed BoundaryValueDiffEq ────────────── v2.11.0\n",
      "   Installed SteadyStateDiffEq ──────────────── v1.13.0\n",
      "   Installed Distances ──────────────────────── v0.10.8\n",
      "   Installed Tricks ─────────────────────────── v0.1.6\n",
      "   Installed FiniteDiff ─────────────────────── v2.17.0\n",
      "   Installed MuladdMacro ────────────────────── v0.2.4\n",
      "   Installed SIMDTypes ──────────────────────── v0.1.0\n",
      "   Installed ArnoldiMethod ──────────────────── v0.2.0\n",
      "   Installed CpuId ──────────────────────────── v0.3.1\n",
      "   Installed SimpleUnPack ───────────────────── v1.1.0\n",
      "   Installed BandedMatrices ─────────────────── v0.17.16\n",
      "   Installed DiffEqBase ─────────────────────── v6.119.0\n",
      "   Installed LinearSolve ────────────────────── v1.37.0\n",
      "   Installed SciMLBase ──────────────────────── v1.91.0\n",
      "   Installed SciMLNLSolve ───────────────────── v0.1.3\n",
      "   Installed NLsolve ────────────────────────── v4.5.1\n",
      "   Installed IfElse ─────────────────────────── v0.1.1\n",
      "   Installed ArrayInterfaceGPUArrays ────────── v0.2.2\n",
      "   Installed SimpleNonlinearSolve ───────────── v0.1.14\n",
      "   Installed DiffEqNoiseProcess ─────────────── v5.16.0\n",
      "   Installed SpecialFunctions ───────────────── v2.2.0\n",
      "   Installed NaNMath ────────────────────────── v1.0.2\n",
      "   Installed OrdinaryDiffEq ─────────────────── v6.40.1\n",
      "   Installed ThreadingUtilities ─────────────── v0.5.1\n",
      "   Installed Graphs ─────────────────────────── v1.8.0\n",
      "   Installed ManualMemory ───────────────────── v0.1.8\n",
      "   Installed NLSolversBase ──────────────────── v7.8.3\n",
      "   Installed JumpProcesses ──────────────────── v9.5.1\n",
      "   Installed Rmath_jll ──────────────────────── v0.4.0+0\n",
      "   Installed Lazy ───────────────────────────── v0.15.1\n",
      "   Installed Random123 ──────────────────────── v1.6.0\n",
      "   Installed LevyArea ───────────────────────── v1.0.0\n",
      "   Installed CommonSubexpressions ───────────── v0.3.0\n",
      "   Installed ExprTools ──────────────────────── v0.1.9\n",
      "   Installed FunctionWrappersWrappers ───────── v0.1.3\n",
      "   Installed LayoutPointers ─────────────────── v0.1.13\n",
      "   Installed ArrayLayouts ───────────────────── v0.8.18\n",
      "   Installed BitTwiddlingConvenienceFunctions ─ v0.1.5\n",
      "   Installed GenericSchur ───────────────────── v0.5.3\n",
      "   Installed DiffRules ──────────────────────── v1.13.0\n",
      "   Installed Sundials ───────────────────────── v4.15.1\n",
      "   Installed StochasticDiffEq ───────────────── v6.58.0\n",
      "   Installed PositiveFactorizations ─────────── v0.2.4\n",
      "   Installed DiffResults ────────────────────── v1.1.0\n",
      "   Installed Inflate ────────────────────────── v0.1.3\n",
      "   Installed DiffEqCallbacks ────────────────── v2.26.0\n",
      "   Installed SciMLOperators ─────────────────── v0.1.21\n",
      "   Installed Setfield ───────────────────────── v1.1.1\n",
      "   Installed DelayDiffEq ────────────────────── v5.41.1\n",
      "   Installed ConstructionBase ───────────────── v1.5.1\n",
      "   Installed PolyesterWeave ─────────────────── v0.2.1\n",
      "   Installed LoopVectorization ──────────────── v0.12.150\n",
      "   Installed FastClosures ───────────────────── v0.3.2\n",
      "   Installed LineSearches ───────────────────── v7.2.0\n",
      "   Installed Reexport ───────────────────────── v1.2.2\n",
      "   Installed ArrayInterface ─────────────────── v6.0.25\n",
      "   Installed FastLapackInterface ────────────── v1.2.9\n",
      "   Installed KLU ────────────────────────────── v0.4.0\n",
      "   Installed PreallocationTools ─────────────── v0.4.11\n",
      "   Installed UnPack ─────────────────────────── v1.0.2\n",
      "   Installed OpenSpecFun_jll ────────────────── v0.5.5+0\n",
      "   Installed Krylov ─────────────────────────── v0.9.0\n",
      "   Installed CloseOpenIntervals ─────────────── v0.1.11\n",
      "   Installed CommonSolve ────────────────────── v0.2.3\n",
      "   Installed ArrayInterfaceStaticArrays ─────── v0.1.5\n",
      "   Installed SimpleTraits ───────────────────── v0.9.4\n",
      "   Installed StrideArraysCore ───────────────── v0.4.7\n",
      "   Installed ExponentialUtilities ───────────── v1.23.0\n",
      "   Installed DualNumbers ────────────────────── v0.6.8\n",
      "   Installed Rmath ──────────────────────────── v0.7.1\n",
      "   Installed RuntimeGeneratedFunctions ──────── v0.5.5\n",
      "   Installed CPUSummary ─────────────────────── v0.2.2\n",
      "   Installed VectorizationBase ──────────────── v0.21.58\n",
      "   Installed VertexSafeGraphs ───────────────── v0.2.0\n",
      "   Installed Optim ──────────────────────────── v1.7.4\n",
      "   Installed TruncatedStacktraces ───────────── v1.1.0\n",
      "   Installed ResettableStacks ───────────────── v1.1.1\n",
      "   Installed IterativeSolvers ───────────────── v0.9.2\n",
      "   Installed HostCPUFeatures ────────────────── v0.1.14\n",
      "   Installed QuadGK ─────────────────────────── v2.8.1\n",
      "   Installed ForwardDiff ────────────────────── v0.10.35\n",
      "   Installed FastBroadcast ──────────────────── v0.2.4\n",
      "   Installed Parameters ─────────────────────── v0.12.3\n",
      "   Installed RecursiveFactorization ─────────── v0.2.18\n",
      "   Installed Distributions ──────────────────── v0.25.86\n",
      "   Installed SparseDiffTools ────────────────── v1.30.0\n",
      "   Installed DensityInterface ───────────────── v0.4.0\n",
      "   Installed Sparspak ───────────────────────── v0.3.9\n",
      "    Updating `~/.julia/environments/v1.8/Project.toml`\n",
      "  [0c46a032] + DifferentialEquations v7.7.0\n",
      "    Updating `~/.julia/environments/v1.8/Manifest.toml`\n",
      "  [ec485272] + ArnoldiMethod v0.2.0\n",
      "⌅ [4fba245c] + ArrayInterface v6.0.25\n",
      "  [6ba088a2] + ArrayInterfaceGPUArrays v0.2.2\n",
      "  [015c0d05] + ArrayInterfaceOffsetArrays v0.1.7\n",
      "  [b0d46f97] + ArrayInterfaceStaticArrays v0.1.5\n",
      "  [4c555306] + ArrayLayouts v0.8.18\n",
      "  [aae01518] + BandedMatrices v0.17.16\n",
      "  [62783981] + BitTwiddlingConvenienceFunctions v0.1.5\n",
      "  [764a87c0] + BoundaryValueDiffEq v2.11.0\n",
      "  [fa961155] + CEnum v0.4.2\n",
      "  [2a0fbf3d] + CPUSummary v0.2.2\n",
      "  [49dc2e85] + Calculus v0.5.1\n",
      "⌃ [fb6a15b2] + CloseOpenIntervals v0.1.11\n",
      "  [38540f10] + CommonSolve v0.2.3\n",
      "  [bbf7d656] + CommonSubexpressions v0.3.0\n",
      "  [187b0558] + ConstructionBase v1.5.1\n",
      "  [adafc99b] + CpuId v0.3.1\n",
      "⌃ [bcd4f6db] + DelayDiffEq v5.41.1\n",
      "  [b429d917] + DensityInterface v0.4.0\n",
      "⌃ [2b5f629d] + DiffEqBase v6.119.0\n",
      "  [459566f4] + DiffEqCallbacks v2.26.0\n",
      "  [77a26b50] + DiffEqNoiseProcess v5.16.0\n",
      "  [163ba53b] + DiffResults v1.1.0\n",
      "  [b552c78f] + DiffRules v1.13.0\n",
      "  [0c46a032] + DifferentialEquations v7.7.0\n",
      "  [b4f34e82] + Distances v0.10.8\n",
      "  [31c24e10] + Distributions v0.25.86\n",
      "  [fa6b7ba4] + DualNumbers v0.6.8\n",
      "  [4e289a0a] + EnumX v1.0.4\n",
      "⌃ [d4d017d3] + ExponentialUtilities v1.23.0\n",
      "  [e2ba6199] + ExprTools v0.1.9\n",
      "⌃ [7034ab61] + FastBroadcast v0.2.4\n",
      "  [9aa1b823] + FastClosures v0.3.2\n",
      "  [29a986be] + FastLapackInterface v1.2.9\n",
      "⌃ [6a86dc24] + FiniteDiff v2.17.0\n",
      "  [f6369f11] + ForwardDiff v0.10.35\n",
      "  [069b7b12] + FunctionWrappers v1.1.3\n",
      "  [77dc65aa] + FunctionWrappersWrappers v0.1.3\n",
      "  [c145ed77] + GenericSchur v0.5.3\n",
      "  [86223c79] + Graphs v1.8.0\n",
      "  [3e5b6fbb] + HostCPUFeatures v0.1.14\n",
      "  [34004b35] + HypergeometricFunctions v0.3.11\n",
      "  [615f187c] + IfElse v0.1.1\n",
      "  [d25df0c9] + Inflate v0.1.3\n",
      "  [42fd0dbc] + IterativeSolvers v0.9.2\n",
      "  [ccbc3e58] + JumpProcesses v9.5.1\n",
      "  [ef3ab10e] + KLU v0.4.0\n",
      "  [ba0b0d4f] + Krylov v0.9.0\n",
      "  [0b1a1467] + KrylovKit v0.6.0\n",
      "⌃ [10f19ff3] + LayoutPointers v0.1.13\n",
      "  [50d2b5c4] + Lazy v0.15.1\n",
      "  [2d8b4e74] + LevyArea v1.0.0\n",
      "  [d3d80556] + LineSearches v7.2.0\n",
      "⌃ [7ed4a6bd] + LinearSolve v1.37.0\n",
      "⌃ [bdcacae8] + LoopVectorization v0.12.150\n",
      "  [d125e4d3] + ManualMemory v0.1.8\n",
      "  [46d2c3a1] + MuladdMacro v0.2.4\n",
      "  [d41bc354] + NLSolversBase v7.8.3\n",
      "  [2774e3e8] + NLsolve v4.5.1\n",
      "  [77ba4419] + NaNMath v1.0.2\n",
      "  [8913a72c] + NonlinearSolve v1.5.0\n",
      "  [6fe1bfb0] + OffsetArrays v1.12.9\n",
      "  [429524aa] + Optim v1.7.4\n",
      "⌃ [1dea7af3] + OrdinaryDiffEq v6.40.1\n",
      "  [90014a1f] + PDMats v0.11.17\n",
      "  [d96e819e] + Parameters v0.12.3\n",
      "⌃ [f517fe37] + Polyester v0.7.2\n",
      "  [1d0040c9] + PolyesterWeave v0.2.1\n",
      "  [85a6dd25] + PositiveFactorizations v0.2.4\n",
      "⌃ [d236fae5] + PreallocationTools v0.4.11\n",
      "  [1fd47b50] + QuadGK v2.8.1\n",
      "  [74087812] + Random123 v1.6.0\n",
      "  [e6cf234a] + RandomNumbers v1.5.3\n",
      "  [f2c3362d] + RecursiveFactorization v0.2.18\n",
      "  [189a3867] + Reexport v1.2.2\n",
      "  [ae029012] + Requires v1.3.0\n",
      "  [ae5879a3] + ResettableStacks v1.1.1\n",
      "  [79098fc4] + Rmath v0.7.1\n",
      "  [7e49a35a] + RuntimeGeneratedFunctions v0.5.5\n",
      "  [94e857df] + SIMDTypes v0.1.0\n",
      "  [476501e8] + SLEEFPirates v0.6.38\n",
      "  [0bca4576] + SciMLBase v1.91.0\n",
      "  [e9a6253c] + SciMLNLSolve v0.1.3\n",
      "⌅ [c0aeaf25] + SciMLOperators v0.1.21\n",
      "  [efcf1570] + Setfield v1.1.1\n",
      "  [727e6d20] + SimpleNonlinearSolve v0.1.14\n",
      "  [699a6c99] + SimpleTraits v0.9.4\n",
      "  [ce78b400] + SimpleUnPack v1.1.0\n",
      "⌃ [47a9eef4] + SparseDiffTools v1.30.0\n",
      "  [e56a9233] + Sparspak v0.3.9\n",
      "  [276daf66] + SpecialFunctions v2.2.0\n",
      "  [aedffcd0] + Static v0.8.4\n",
      "  [4c63d2b9] + StatsFuns v1.3.0\n",
      "⌃ [9672c7b4] + SteadyStateDiffEq v1.13.0\n",
      "  [789caeaf] + StochasticDiffEq v6.58.0\n",
      "⌃ [7792a7ef] + StrideArraysCore v0.4.7\n",
      "  [c3572dad] + Sundials v4.15.1\n",
      "  [8290d209] + ThreadingUtilities v0.5.1\n",
      "  [a2a6695c] + TreeViews v0.3.0\n",
      "  [d5829a12] + TriangularSolve v0.1.19\n",
      "  [410a4b4d] + Tricks v0.1.6\n",
      "  [781d530d] + TruncatedStacktraces v1.1.0\n",
      "  [3a884ed6] + UnPack v1.0.2\n",
      "⌃ [3d5dd08c] + VectorizationBase v0.21.58\n",
      "  [19fa3120] + VertexSafeGraphs v0.2.0\n",
      "  [efe28fd5] + OpenSpecFun_jll v0.5.5+0\n",
      "  [f50d1b31] + Rmath_jll v0.4.0+0\n",
      "  [fb77eaff] + Sundials_jll v5.2.1+0\n",
      "  [8ba89e20] + Distributed\n",
      "  [9fa8497b] + Future\n",
      "  [1a1011a3] + SharedArrays\n",
      "  [05823500] + OpenLibm_jll v0.8.1+0\n",
      "  [bea87d4a] + SuiteSparse_jll v5.10.1+0\n",
      "        Info Packages marked with ⌃ and ⌅ have new versions available, but those with ⌅ are restricted by compatibility constraints from upgrading. To see why use `status --outdated -m`\n",
      "Precompiling project...\n",
      "\u001b[32m  ✓ \u001b[39m\u001b[90mUnPack\u001b[39m\n",
      "\u001b[32m  ✓ \u001b[39m\u001b[90mPositiveFactorizations\u001b[39m\n",
      "\u001b[32m  ✓ \u001b[39m\u001b[90mSimpleUnPack\u001b[39m\n",
      "\u001b[32m  ✓ \u001b[39m\u001b[90mExprTools\u001b[39m\n",
      "\u001b[32m  ✓ \u001b[39m\u001b[90mTricks\u001b[39m\n",
      "\u001b[32m  ✓ \u001b[39m\u001b[90mOpenLibm_jll\u001b[39m\n",
      "\u001b[32m  ✓ \u001b[39m\u001b[90mMuladdMacro\u001b[39m\n",
      "\u001b[32m  ✓ \u001b[39m\u001b[90mCEnum\u001b[39m\n",
      "\u001b[32m  ✓ \u001b[39m\u001b[90mFunctionWrappers\u001b[39m\n",
      "\u001b[32m  ✓ \u001b[39m\u001b[90mPDMats\u001b[39m\n",
      "\u001b[32m  ✓ \u001b[39m\u001b[90mANSIColoredPrinters\u001b[39m\n",
      "\u001b[32m  ✓ \u001b[39m\u001b[90mSIMDTypes\u001b[39m\n",
      "\u001b[32m  ✓ \u001b[39m\u001b[90mReexport\u001b[39m\n",
      "\u001b[32m  ✓ \u001b[39m\u001b[90mCalculus\u001b[39m\n",
      "\u001b[32m  ✓ \u001b[39m\u001b[90mCommonSolve\u001b[39m\n",
      "\u001b[32m  ✓ \u001b[39m\u001b[90mTreeViews\u001b[39m\n",
      "\u001b[32m  ✓ \u001b[39m\u001b[90mManualMemory\u001b[39m\n",
      "\u001b[32m  ✓ \u001b[39m\u001b[90mEnumX\u001b[39m\n",
      "\u001b[32m  ✓ \u001b[39m\u001b[90mIfElse\u001b[39m\n",
      "\u001b[32m  ✓ \u001b[39m\u001b[90mFastClosures\u001b[39m\n",
      "\u001b[32m  ✓ \u001b[39m\u001b[90mIOCapture\u001b[39m\n",
      "\u001b[32m  ✓ \u001b[39m\u001b[90mInflate\u001b[39m\n",
      "\u001b[32m  ✓ \u001b[39m\u001b[90mGenericSchur\u001b[39m\n",
      "\u001b[32m  ✓ \u001b[39m\u001b[90mConstructionBase\u001b[39m\n",
      "\u001b[32m  ✓ \u001b[39m\u001b[90mCpuId\u001b[39m\n",
      "\u001b[32m  ✓ \u001b[39m\u001b[90mDistances\u001b[39m\n",
      "\u001b[32m  ✓ \u001b[39m\u001b[90mDensityInterface\u001b[39m\n",
      "\u001b[32m  ✓ \u001b[39m\u001b[90mTruncatedStacktraces\u001b[39m\n",
      "\u001b[32m  ✓ \u001b[39m\u001b[90mDiffResults\u001b[39m\n",
      "\u001b[32m  ✓ \u001b[39m\u001b[90mCommonSubexpressions\u001b[39m\n",
      "\u001b[32m  ✓ \u001b[39m\u001b[90mRmath_jll\u001b[39m\n",
      "\u001b[32m  ✓ \u001b[39m\u001b[90mSuiteSparse_jll\u001b[39m\n",
      "\u001b[32m  ✓ \u001b[39m\u001b[90mOpenSpecFun_jll\u001b[39m\n",
      "\u001b[32m  ✓ \u001b[39m\u001b[90mArrayInterfaceGPUArrays\u001b[39m\n",
      "\u001b[32m  ✓ \u001b[39m\u001b[90mFastLapackInterface\u001b[39m\n",
      "\u001b[32m  ✓ \u001b[39m\u001b[90mRandomNumbers\u001b[39m\n",
      "\u001b[32m  ✓ \u001b[39m\u001b[90mSimpleTraits\u001b[39m\n",
      "\u001b[32m  ✓ \u001b[39m\u001b[90mOffsetArrays\u001b[39m\n",
      "\u001b[32m  ✓ \u001b[39m\u001b[90mRuntimeGeneratedFunctions\u001b[39m\n",
      "\u001b[32m  ✓ \u001b[39m\u001b[90mParameters\u001b[39m\n",
      "\u001b[32m  ✓ \u001b[39m\u001b[90mNaNMath\u001b[39m\n",
      "\u001b[32m  ✓ \u001b[39m\u001b[90mQuadGK\u001b[39m\n",
      "\u001b[32m  ✓ \u001b[39m\u001b[90mFunctionWrappersWrappers\u001b[39m\n",
      "\u001b[32m  ✓ \u001b[39m\u001b[90mKrylov\u001b[39m\n",
      "\u001b[32m  ✓ \u001b[39m\u001b[90mLazy\u001b[39m\n",
      "\u001b[32m  ✓ \u001b[39m\u001b[90mThreadingUtilities\u001b[39m\n",
      "\u001b[32m  ✓ \u001b[39m\u001b[90mResettableStacks\u001b[39m\n",
      "\u001b[32m  ✓ \u001b[39m\u001b[90mSundials_jll\u001b[39m\n",
      "\u001b[32m  ✓ \u001b[39m\u001b[90mKLU\u001b[39m\n",
      "\u001b[32m  ✓ \u001b[39m\u001b[90mRmath\u001b[39m\n",
      "\u001b[32m  ✓ \u001b[39m\u001b[90mStatic\u001b[39m\n",
      "\u001b[32m  ✓ \u001b[39m\u001b[90mIterativeSolvers\u001b[39m\n",
      "\u001b[32m  ✓ \u001b[39m\u001b[90mSetfield\u001b[39m\n",
      "\u001b[32m  ✓ \u001b[39m\u001b[90mBitTwiddlingConvenienceFunctions\u001b[39m\n",
      "\u001b[32m  ✓ \u001b[39m\u001b[90mKrylovKit\u001b[39m\n",
      "\u001b[32m  ✓ \u001b[39m\u001b[90mRandom123\u001b[39m\n",
      "\u001b[32m  ✓ \u001b[39m\u001b[90mArnoldiMethod\u001b[39m\n",
      "\u001b[32m  ✓ \u001b[39m\u001b[90mCPUSummary\u001b[39m\n",
      "\u001b[32m  ✓ \u001b[39m\u001b[90mSparspak\u001b[39m\n",
      "\u001b[32m  ✓ \u001b[39m\u001b[90mHostCPUFeatures\u001b[39m\n",
      "\u001b[32m  ✓ \u001b[39m\u001b[90mPolyesterWeave\u001b[39m\n",
      "\u001b[32m  ✓ \u001b[39m\u001b[90mArrayInterface\u001b[39m\n",
      "\u001b[32m  ✓ \u001b[39m\u001b[90mCloseOpenIntervals\u001b[39m\n",
      "\u001b[32m  ✓ \u001b[39m\u001b[90mArrayInterfaceOffsetArrays\u001b[39m\n",
      "\u001b[32m  ✓ \u001b[39m\u001b[90mFiniteDiff\u001b[39m\n",
      "\u001b[32m  ✓ \u001b[39m\u001b[90mSciMLOperators\u001b[39m\n",
      "\u001b[32m  ✓ \u001b[39m\u001b[90mArrayInterfaceStaticArrays\u001b[39m\n",
      "\u001b[32m  ✓ \u001b[39m\u001b[90mDocumenter\u001b[39m\n",
      "\u001b[32m  ✓ \u001b[39m\u001b[90mSpecialFunctions\u001b[39m\n",
      "\u001b[32m  ✓ \u001b[39mPolymers\n",
      "\u001b[32m  ✓ \u001b[39m\u001b[90mArrayLayouts\u001b[39m\n",
      "\u001b[32m  ✓ \u001b[39m\u001b[90mLayoutPointers\u001b[39m\n",
      "\u001b[32m  ✓ \u001b[39m\u001b[90mDiffRules\u001b[39m\n",
      "\u001b[32m  ✓ \u001b[39m\u001b[90mLevyArea\u001b[39m\n",
      "\u001b[32m  ✓ \u001b[39m\u001b[90mDualNumbers\u001b[39m\n",
      "\u001b[32m  ✓ \u001b[39m\u001b[90mGraphs\u001b[39m\n",
      "\u001b[32m  ✓ \u001b[39m\u001b[90mHypergeometricFunctions\u001b[39m\n",
      "\u001b[32m  ✓ \u001b[39m\u001b[90mStrideArraysCore\u001b[39m\n",
      "\u001b[32m  ✓ \u001b[39m\u001b[90mVertexSafeGraphs\u001b[39m\n",
      "\u001b[32m  ✓ \u001b[39m\u001b[90mStatsFuns\u001b[39m\n",
      "\u001b[32m  ✓ \u001b[39m\u001b[90mPolyester\u001b[39m\n",
      "\u001b[32m  ✓ \u001b[39m\u001b[90mForwardDiff\u001b[39m\n",
      "\u001b[32m  ✓ \u001b[39m\u001b[90mSciMLBase\u001b[39m\n",
      "\u001b[32m  ✓ \u001b[39m\u001b[90mFastBroadcast\u001b[39m\n",
      "\u001b[32m  ✓ \u001b[39m\u001b[90mPreallocationTools\u001b[39m\n",
      "\u001b[32m  ✓ \u001b[39m\u001b[90mNLSolversBase\u001b[39m\n",
      "\u001b[32m  ✓ \u001b[39m\u001b[90mSparseDiffTools\u001b[39m\n",
      "\u001b[32m  ✓ \u001b[39m\u001b[90mLineSearches\u001b[39m\n",
      "\u001b[32m  ✓ \u001b[39m\u001b[90mDistributions\u001b[39m\n",
      "\u001b[32m  ✓ \u001b[39m\u001b[90mNLsolve\u001b[39m\n",
      "\u001b[32m  ✓ \u001b[39m\u001b[90mOptim\u001b[39m\n",
      "\u001b[32m  ✓ \u001b[39m\u001b[90mVectorizationBase\u001b[39m\n",
      "\u001b[32m  ✓ \u001b[39m\u001b[90mDiffEqBase\u001b[39m\n",
      "\u001b[32m  ✓ \u001b[39m\u001b[90mSLEEFPirates\u001b[39m\n",
      "\u001b[32m  ✓ \u001b[39m\u001b[90mBandedMatrices\u001b[39m\n",
      "\u001b[32m  ✓ \u001b[39m\u001b[90mExponentialUtilities\u001b[39m\n",
      "\u001b[32m  ✓ \u001b[39m\u001b[90mSciMLNLSolve\u001b[39m\n",
      "\u001b[32m  ✓ \u001b[39m\u001b[90mDiffEqCallbacks\u001b[39m\n",
      "\u001b[32m  ✓ \u001b[39m\u001b[90mJumpProcesses\u001b[39m\n",
      "\u001b[32m  ✓ \u001b[39m\u001b[90mDiffEqNoiseProcess\u001b[39m\n",
      "\u001b[32m  ✓ \u001b[39m\u001b[90mBoundaryValueDiffEq\u001b[39m\n",
      "\u001b[32m  ✓ \u001b[39m\u001b[90mSimpleNonlinearSolve\u001b[39m\n",
      "\u001b[32m  ✓ \u001b[39m\u001b[90mSteadyStateDiffEq\u001b[39m\n",
      "\u001b[32m  ✓ \u001b[39m\u001b[90mLoopVectorization\u001b[39m\n",
      "\u001b[32m  ✓ \u001b[39m\u001b[90mSundials\u001b[39m\n",
      "\u001b[32m  ✓ \u001b[39m\u001b[90mTriangularSolve\u001b[39m\n",
      "\u001b[32m  ✓ \u001b[39m\u001b[90mRecursiveFactorization\u001b[39m\n",
      "\u001b[32m  ✓ \u001b[39m\u001b[90mLinearSolve\u001b[39m\n",
      "\u001b[32m  ✓ \u001b[39m\u001b[90mNonlinearSolve\u001b[39m\n",
      "\u001b[91m  ✗ \u001b[39m\u001b[90mOrdinaryDiffEq\u001b[39m\n",
      "\u001b[91m  ✗ \u001b[39m\u001b[90mDelayDiffEq\u001b[39m\n",
      "\u001b[91m  ✗ \u001b[39m\u001b[90mStochasticDiffEq\u001b[39m\n",
      "\u001b[91m  ✗ \u001b[39mDifferentialEquations\n",
      "  109 dependencies successfully precompiled in 199 seconds. 54 already precompiled.\n",
      "  \u001b[91m4\u001b[39m dependencies errored. To see a full report either run `import Pkg; Pkg.precompile()` or load the packages\n",
      "   Resolving package versions...\n",
      "    Updating `~/.julia/environments/v1.8/Project.toml`\n",
      "⌃ [1dea7af3] + OrdinaryDiffEq v6.40.1\n",
      "  No Changes to `~/.julia/environments/v1.8/Manifest.toml`\n",
      "   Resolving package versions...\n",
      "    Updating `~/.julia/environments/v1.8/Project.toml`\n",
      "⌃ [2b5f629d] + DiffEqBase v6.119.0\n",
      "  No Changes to `~/.julia/environments/v1.8/Manifest.toml`\n",
      "   Resolving package versions...\n",
      "   Installed PyCall ─ v1.95.1\n",
      "    Updating `~/.julia/environments/v1.8/Project.toml`\n",
      "  [438e738f] + PyCall v1.95.1\n",
      "    Updating `~/.julia/environments/v1.8/Manifest.toml`\n",
      "  [438e738f] + PyCall v1.95.1\n",
      "    Building PyCall → `~/.julia/scratchspaces/44cfe95a-1eb2-52ea-b672-e2afdf69b78f/62f417f6ad727987c755549e9cd88c46578da562/build.log`\n",
      "Precompiling project...\n",
      "\u001b[32m  ✓ \u001b[39mPyCall\n",
      "  1 dependency successfully precompiled in 6 seconds. 163 already precompiled. 4 skipped during auto due to previous errors.\n",
      "ERROR: LoadError: UndefVarError: AbstractDiffEqLinearOperator not defined\n",
      "\n",
      "Some of the types have been truncated in the stacktrace for improved reading. To emit complete information\n",
      "in the stack trace, evaluate `TruncatedStacktraces.VERBOSE[] = true` and re-run the code.\n",
      "\n",
      "Stacktrace:\n",
      " [1] getproperty(x::Module, f::Symbol)\n",
      "   @ Base ./Base.jl:31\n",
      " [2] top-level scope\n",
      "   @ ~/.julia/packages/OrdinaryDiffEq/CWSFV/src/derivative_utils.jl:157\n",
      " [3] include(mod::Module, _path::String)\n",
      "   @ Base ./Base.jl:419\n",
      " [4] include(x::String)\n",
      "   @ OrdinaryDiffEq ~/.julia/packages/OrdinaryDiffEq/CWSFV/src/OrdinaryDiffEq.jl:4\n",
      " [5] top-level scope\n",
      "   @ ~/.julia/packages/OrdinaryDiffEq/CWSFV/src/OrdinaryDiffEq.jl:195\n",
      " [6] include\n",
      "   @ ./Base.jl:419 [inlined]\n",
      " [7] include_package_for_output(pkg::Base.PkgId, input::String, depot_path::Vector{String}, dl_load_path::Vector{String}, load_path::Vector{String}, concrete_deps::Vector{Pair{Base.PkgId, UInt64}}, source::String)\n",
      "   @ Base ./loading.jl:1554\n",
      " [8] top-level scope\n",
      "   @ stdin:1\n",
      "in expression starting at /home/marco/.julia/packages/OrdinaryDiffEq/CWSFV/src/derivative_utils.jl:157\n",
      "in expression starting at /home/marco/.julia/packages/OrdinaryDiffEq/CWSFV/src/OrdinaryDiffEq.jl:1\n",
      "in expression starting at stdin:1\n",
      "ERROR: LoadError: Failed to precompile OrdinaryDiffEq [1dea7af3-3e70-54e6-95c3-0bf5283fa5ed] to /home/marco/.julia/compiled/v1.8/OrdinaryDiffEq/jl_w12fZB.\n",
      "Stacktrace:\n",
      "  [1] error(s::String)\n",
      "    @ Base ./error.jl:35\n",
      "  [2] compilecache(pkg::Base.PkgId, path::String, internal_stderr::IO, internal_stdout::IO, keep_loaded_modules::Bool)\n",
      "    @ Base ./loading.jl:1707\n",
      "  [3] compilecache\n",
      "    @ ./loading.jl:1651 [inlined]\n",
      "  [4] _require(pkg::Base.PkgId)\n",
      "    @ Base ./loading.jl:1337\n",
      "  [5] _require_prelocked(uuidkey::Base.PkgId)\n",
      "    @ Base ./loading.jl:1200\n",
      "  [6] macro expansion\n",
      "    @ ./loading.jl:1180 [inlined]\n",
      "  [7] macro expansion\n",
      "    @ ./lock.jl:223 [inlined]\n",
      "  [8] require(into::Module, mod::Symbol)\n",
      "    @ Base ./loading.jl:1144\n",
      "  [9] include\n",
      "    @ ./Base.jl:419 [inlined]\n",
      " [10] include_package_for_output(pkg::Base.PkgId, input::String, depot_path::Vector{String}, dl_load_path::Vector{String}, load_path::Vector{String}, concrete_deps::Vector{Pair{Base.PkgId, UInt64}}, source::String)\n",
      "    @ Base ./loading.jl:1554\n",
      " [11] top-level scope\n",
      "    @ stdin:1\n",
      "in expression starting at /home/marco/.julia/packages/StochasticDiffEq/0PuS7/src/StochasticDiffEq.jl:1\n",
      "in expression starting at stdin:1\n",
      "ERROR: LoadError: Failed to precompile StochasticDiffEq [789caeaf-c7a9-5a7d-9973-96adeb23e2a0] to /home/marco/.julia/compiled/v1.8/StochasticDiffEq/jl_nZc1HM.\n",
      "Stacktrace:\n",
      "  [1] error(s::String)\n",
      "    @ Base ./error.jl:35\n",
      "  [2] compilecache(pkg::Base.PkgId, path::String, internal_stderr::IO, internal_stdout::IO, keep_loaded_modules::Bool)\n",
      "    @ Base ./loading.jl:1707\n",
      "  [3] compilecache\n",
      "    @ ./loading.jl:1651 [inlined]\n",
      "  [4] _require(pkg::Base.PkgId)\n",
      "    @ Base ./loading.jl:1337\n",
      "  [5] _require_prelocked(uuidkey::Base.PkgId)\n",
      "    @ Base ./loading.jl:1200\n",
      "  [6] macro expansion\n",
      "    @ ./loading.jl:1180 [inlined]\n",
      "  [7] macro expansion\n",
      "    @ ./lock.jl:223 [inlined]\n",
      "  [8] require(into::Module, mod::Symbol)\n",
      "    @ Base ./loading.jl:1144\n",
      "  [9] include\n",
      "    @ ./Base.jl:419 [inlined]\n",
      " [10] include_package_for_output(pkg::Base.PkgId, input::String, depot_path::Vector{String}, dl_load_path::Vector{String}, load_path::Vector{String}, concrete_deps::Vector{Pair{Base.PkgId, UInt64}}, source::String)\n",
      "    @ Base ./loading.jl:1554\n",
      " [11] top-level scope\n",
      "    @ stdin:1\n",
      "in expression starting at /home/marco/.julia/packages/DifferentialEquations/quY78/src/DifferentialEquations.jl:1\n",
      "in expression starting at stdin:1\n",
      "ERROR: LoadError: Failed to precompile DifferentialEquations [0c46a032-eb83-5123-abaf-570d42b7fbaa] to /home/marco/.julia/compiled/v1.8/DifferentialEquations/jl_uq72qD.\n",
      "Stacktrace:\n",
      " [1] error(s::String)\n",
      "   @ Base ./error.jl:35\n",
      " [2] compilecache(pkg::Base.PkgId, path::String, internal_stderr::IO, internal_stdout::IO, keep_loaded_modules::Bool)\n",
      "   @ Base ./loading.jl:1707\n",
      " [3] compilecache\n",
      "   @ ./loading.jl:1651 [inlined]\n",
      " [4] _require(pkg::Base.PkgId)\n",
      "   @ Base ./loading.jl:1337\n",
      " [5] _require_prelocked(uuidkey::Base.PkgId)\n",
      "   @ Base ./loading.jl:1200\n",
      " [6] macro expansion\n",
      "   @ ./loading.jl:1180 [inlined]\n",
      " [7] macro expansion\n",
      "   @ ./lock.jl:223 [inlined]\n",
      " [8] require(into::Module, mod::Symbol)\n",
      "   @ Base ./loading.jl:1144\n",
      "in expression starting at /home/marco/miniconda3/envs/hdna/lib/python3.10/site-packages/diffeqpy/install.jl:6\n"
     ]
    },
    {
     "ename": "CalledProcessError",
     "evalue": "Command '['julia', '/home/marco/miniconda3/envs/hdna/lib/python3.10/site-packages/diffeqpy/install.jl']' returned non-zero exit status 1.",
     "output_type": "error",
     "traceback": [
      "\u001b[0;31m---------------------------------------------------------------------------\u001b[0m",
      "\u001b[0;31mCalledProcessError\u001b[0m                        Traceback (most recent call last)",
      "Cell \u001b[0;32mIn[4], line 1\u001b[0m\n\u001b[0;32m----> 1\u001b[0m diffeqpy\u001b[39m.\u001b[39;49minstall()\n",
      "File \u001b[0;32m~/miniconda3/envs/hdna/lib/python3.10/site-packages/diffeqpy/__init__.py:11\u001b[0m, in \u001b[0;36minstall\u001b[0;34m()\u001b[0m\n\u001b[1;32m      7\u001b[0m \u001b[39mdef\u001b[39;00m \u001b[39minstall\u001b[39m():\n\u001b[1;32m      8\u001b[0m \u001b[39m    \u001b[39m\u001b[39m\"\"\"\u001b[39;00m\n\u001b[1;32m      9\u001b[0m \u001b[39m    Install Julia packages required for diffeqpy.\u001b[39;00m\n\u001b[1;32m     10\u001b[0m \u001b[39m    \"\"\"\u001b[39;00m\n\u001b[0;32m---> 11\u001b[0m     subprocess\u001b[39m.\u001b[39;49mcheck_call([\u001b[39m'\u001b[39;49m\u001b[39mjulia\u001b[39;49m\u001b[39m'\u001b[39;49m, os\u001b[39m.\u001b[39;49mpath\u001b[39m.\u001b[39;49mjoin(script_dir, \u001b[39m'\u001b[39;49m\u001b[39minstall.jl\u001b[39;49m\u001b[39m'\u001b[39;49m)])\n",
      "File \u001b[0;32m~/miniconda3/envs/hdna/lib/python3.10/subprocess.py:369\u001b[0m, in \u001b[0;36mcheck_call\u001b[0;34m(*popenargs, **kwargs)\u001b[0m\n\u001b[1;32m    367\u001b[0m     \u001b[39mif\u001b[39;00m cmd \u001b[39mis\u001b[39;00m \u001b[39mNone\u001b[39;00m:\n\u001b[1;32m    368\u001b[0m         cmd \u001b[39m=\u001b[39m popenargs[\u001b[39m0\u001b[39m]\n\u001b[0;32m--> 369\u001b[0m     \u001b[39mraise\u001b[39;00m CalledProcessError(retcode, cmd)\n\u001b[1;32m    370\u001b[0m \u001b[39mreturn\u001b[39;00m \u001b[39m0\u001b[39m\n",
      "\u001b[0;31mCalledProcessError\u001b[0m: Command '['julia', '/home/marco/miniconda3/envs/hdna/lib/python3.10/site-packages/diffeqpy/install.jl']' returned non-zero exit status 1."
     ]
    }
   ],
   "source": [
    "diffeqpy.install()"
   ]
  },
  {
   "cell_type": "code",
   "execution_count": null,
   "metadata": {},
   "outputs": [],
   "source": []
  }
 ],
 "metadata": {
  "kernelspec": {
   "display_name": "hdna",
   "language": "python",
   "name": "python3"
  },
  "language_info": {
   "codemirror_mode": {
    "name": "ipython",
    "version": 3
   },
   "file_extension": ".py",
   "mimetype": "text/x-python",
   "name": "python",
   "nbconvert_exporter": "python",
   "pygments_lexer": "ipython3",
   "version": "3.10.9 (main, Jan 11 2023, 15:21:40) [GCC 11.2.0]"
  },
  "orig_nbformat": 4,
  "vscode": {
   "interpreter": {
    "hash": "13f02c433cbffcd00bbcbbfeff349f4b7c28e9023d8fb9f65ab93bb104997abd"
   }
  }
 },
 "nbformat": 4,
 "nbformat_minor": 2
}
