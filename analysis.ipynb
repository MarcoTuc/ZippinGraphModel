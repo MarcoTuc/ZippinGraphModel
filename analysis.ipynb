{
 "cells": [
  {
   "cell_type": "code",
   "execution_count": 1,
   "metadata": {},
   "outputs": [],
   "source": [
    "%load_ext autoreload\n",
    "%autoreload 2"
   ]
  },
  {
   "cell_type": "code",
   "execution_count": 2,
   "metadata": {},
   "outputs": [],
   "source": [
    "import pandas as pd \n",
    "from conf import *\n",
    "\n",
    "pd.set_option('display.float_format', lambda x: '%.3e' % x if float(x) > 5000 or float(x) < 0.01 and float(x) != 0 else ('%d' % x if x.is_integer() else '%.3f' % x))"
   ]
  },
  {
   "cell_type": "code",
   "execution_count": 3,
   "metadata": {},
   "outputs": [],
   "source": [
    "DIR = '/home/marco/Desktop/hDNA/results/porschke_aveva_ragione4/run_1'\n",
    "\n",
    "# hyperp = pd.read_csv(f'{DIR}/hyperparameters.csv'); hyperp['values'][:-1].map(float)\n",
    "data = pd.read_csv(f'{DIR}/simulationdata.csv'); \n",
    "data['index'] = data.index\n",
    "try: data.drop('seq.1', axis=1, inplace=True)\n",
    "except KeyError: pass\n",
    "try: data.drop('Unnamed: 0', axis=1, inplace=True)\n",
    "except KeyError: pass"
   ]
  },
  {
   "cell_type": "code",
   "execution_count": 4,
   "metadata": {},
   "outputs": [],
   "source": [
    "from hdna import valplot"
   ]
  },
  {
   "cell_type": "code",
   "execution_count": 15,
   "metadata": {},
   "outputs": [
    {
     "data": {
      "application/vnd.plotly.v1+json": {
       "config": {
        "plotlyServerURL": "https://plot.ly"
       },
       "data": [
        {
         "customdata": [
          "20_GCTGTTCGGTCTAT",
          "0_GTTCGGTCTA",
          "21_ACCAAACCACCAAC",
          "1_CCAAAACCAA",
          "22_CAACACCAAACAAC",
          "2_AAACCACACA",
          "23_CAAAACCCCAACAC",
          "24_AAACCCACCACACA",
          "25_CAACACCCAAACAC",
          "3_ACCAAACCAC",
          "4_ACACCAAACC",
          "26_CCAAAACCAACAAC",
          "5_AAAAACCCAC",
          "27_AAAAACCCACCCAA",
          "6_CAACACCCAA",
          "7_AAACCCACCA",
          "8_ACAACACCAC",
          "9_CAAAACCCCA",
          "10_AACCAACACC",
          "11_CAACACAACC",
          "28_AAACCACCCAACAC",
          "12_ACCAACACCA",
          "13_CCACCAACAA",
          "29_CCCAAACCCAACCA",
          "30_ACCAACACCAACCA",
          "31_CAACAACACCACCA",
          "32_AACCAACACCACCA",
          "33_AACCACCACAAACC",
          "34_CAACACAACCAACC",
          "35_CACCACAACCACCA",
          "14_ACACACACAC",
          "15_AACCACCACA",
          "16_CAACCAACCA",
          "36_CCCCACACAACAAC",
          "37_CCACCAACAACAAC",
          "17_ACACACACCA",
          "38_ACACACACCACACA",
          "39_CACACACACACACA",
          "40_ACCAACCAACCAAC",
          "18_CCCCACACAA",
          "19_ACACCACCAC"
         ],
         "hovertemplate": "emp = %{x:.3e}\n                     <br>mod = %{y:.3e}\n                     <br>seq:  %{customdata} </b>",
         "marker": {
          "color": "tan"
         },
         "mode": "markers",
         "name": "",
         "type": "scatter",
         "x": [
          1042173,
          1145950,
          1186657,
          1668154,
          1779672,
          1809459,
          1831343,
          1892296,
          2124654,
          2167675,
          2178513,
          2304253,
          2364640,
          2433452,
          2511513,
          2527035,
          2559279,
          2651666,
          2655670,
          2695608,
          2745623,
          2765864,
          2825047,
          2975581,
          3186916,
          3242444,
          3629903,
          3659749,
          3763039,
          3805400,
          3843880,
          3865948,
          3960894,
          3961922,
          4062258,
          4159347,
          4442077,
          4818114,
          5208461,
          5448523,
          5613147
         ],
         "y": [
          2056394.0731603752,
          2398987.866415252,
          4606582.976744522,
          4119550.74199192,
          1941527.4737673004,
          4261665.060782751,
          1836122.2523269216,
          2997892.552893501,
          3163109.536799354,
          3036783.621410129,
          2201350.540617529,
          3419603.4941945486,
          2796844.568422918,
          2316990.5890308074,
          2407367.176876162,
          3860310.935103777,
          1994044.31164176,
          3266780.1244597323,
          3446903.611561884,
          3618317.958808484,
          3131657.5679891054,
          2880901.856647684,
          2593871.933698482,
          3767682.2463825936,
          3970092.920686087,
          3073783.758422232,
          3652783.749715131,
          2732311.645200823,
          3476633.3476598333,
          4922637.009284053,
          8595227.166206565,
          3688094.644666197,
          4589681.284275594,
          4126010.802225593,
          3733206.202250796,
          5505265.991773902,
          6303878.485684239,
          5616344.349159016,
          4837904.457400063,
          3918998.907711005,
          5053609.76970418
         ]
        },
        {
         "line": {
          "dash": "dash"
         },
         "marker": {
          "color": "coral"
         },
         "mode": "lines",
         "name": "bisector",
         "type": "scatter",
         "x": [
          10000,
          193469.38775510204,
          376938.7755102041,
          560408.1632653062,
          743877.5510204082,
          927346.9387755102,
          1110816.3265306123,
          1294285.7142857143,
          1477755.1020408163,
          1661224.4897959183,
          1844693.8775510204,
          2028163.2653061224,
          2211632.6530612246,
          2395102.0408163266,
          2578571.4285714286,
          2762040.8163265307,
          2945510.2040816327,
          3128979.5918367347,
          3312448.9795918367,
          3495918.3673469387,
          3679387.7551020407,
          3862857.1428571427,
          4046326.5306122447,
          4229795.918367347,
          4413265.306122449,
          4596734.693877551,
          4780204.081632653,
          4963673.469387755,
          5147142.857142857,
          5330612.244897959,
          5514081.632653061,
          5697551.020408163,
          5881020.408163265,
          6064489.795918368,
          6247959.183673469,
          6431428.571428572,
          6614897.959183673,
          6798367.346938776,
          6981836.734693877,
          7165306.12244898,
          7348775.510204081,
          7532244.897959184,
          7715714.285714285,
          7899183.673469388,
          8082653.0612244895,
          8266122.448979592,
          8449591.836734693,
          8633061.224489795,
          8816530.612244898,
          9000000
         ],
         "y": [
          10000,
          193469.38775510204,
          376938.7755102041,
          560408.1632653062,
          743877.5510204082,
          927346.9387755102,
          1110816.3265306123,
          1294285.7142857143,
          1477755.1020408163,
          1661224.4897959183,
          1844693.8775510204,
          2028163.2653061224,
          2211632.6530612246,
          2395102.0408163266,
          2578571.4285714286,
          2762040.8163265307,
          2945510.2040816327,
          3128979.5918367347,
          3312448.9795918367,
          3495918.3673469387,
          3679387.7551020407,
          3862857.1428571427,
          4046326.5306122447,
          4229795.918367347,
          4413265.306122449,
          4596734.693877551,
          4780204.081632653,
          4963673.469387755,
          5147142.857142857,
          5330612.244897959,
          5514081.632653061,
          5697551.020408163,
          5881020.408163265,
          6064489.795918368,
          6247959.183673469,
          6431428.571428572,
          6614897.959183673,
          6798367.346938776,
          6981836.734693877,
          7165306.12244898,
          7348775.510204081,
          7532244.897959184,
          7715714.285714285,
          7899183.673469388,
          8082653.0612244895,
          8266122.448979592,
          8449591.836734693,
          8633061.224489795,
          8816530.612244898,
          9000000
         ]
        }
       ],
       "layout": {
        "autosize": false,
        "height": 600,
        "margin": {
         "b": 50,
         "l": 50,
         "pad": 0,
         "r": 50,
         "t": 50
        },
        "showlegend": false,
        "template": {
         "data": {
          "bar": [
           {
            "error_x": {
             "color": "#f2f5fa"
            },
            "error_y": {
             "color": "#f2f5fa"
            },
            "marker": {
             "line": {
              "color": "rgb(17,17,17)",
              "width": 0.5
             },
             "pattern": {
              "fillmode": "overlay",
              "size": 10,
              "solidity": 0.2
             }
            },
            "type": "bar"
           }
          ],
          "barpolar": [
           {
            "marker": {
             "line": {
              "color": "rgb(17,17,17)",
              "width": 0.5
             },
             "pattern": {
              "fillmode": "overlay",
              "size": 10,
              "solidity": 0.2
             }
            },
            "type": "barpolar"
           }
          ],
          "carpet": [
           {
            "aaxis": {
             "endlinecolor": "#A2B1C6",
             "gridcolor": "#506784",
             "linecolor": "#506784",
             "minorgridcolor": "#506784",
             "startlinecolor": "#A2B1C6"
            },
            "baxis": {
             "endlinecolor": "#A2B1C6",
             "gridcolor": "#506784",
             "linecolor": "#506784",
             "minorgridcolor": "#506784",
             "startlinecolor": "#A2B1C6"
            },
            "type": "carpet"
           }
          ],
          "choropleth": [
           {
            "colorbar": {
             "outlinewidth": 0,
             "ticks": ""
            },
            "type": "choropleth"
           }
          ],
          "contour": [
           {
            "colorbar": {
             "outlinewidth": 0,
             "ticks": ""
            },
            "colorscale": [
             [
              0,
              "#0d0887"
             ],
             [
              0.1111111111111111,
              "#46039f"
             ],
             [
              0.2222222222222222,
              "#7201a8"
             ],
             [
              0.3333333333333333,
              "#9c179e"
             ],
             [
              0.4444444444444444,
              "#bd3786"
             ],
             [
              0.5555555555555556,
              "#d8576b"
             ],
             [
              0.6666666666666666,
              "#ed7953"
             ],
             [
              0.7777777777777778,
              "#fb9f3a"
             ],
             [
              0.8888888888888888,
              "#fdca26"
             ],
             [
              1,
              "#f0f921"
             ]
            ],
            "type": "contour"
           }
          ],
          "contourcarpet": [
           {
            "colorbar": {
             "outlinewidth": 0,
             "ticks": ""
            },
            "type": "contourcarpet"
           }
          ],
          "heatmap": [
           {
            "colorbar": {
             "outlinewidth": 0,
             "ticks": ""
            },
            "colorscale": [
             [
              0,
              "#0d0887"
             ],
             [
              0.1111111111111111,
              "#46039f"
             ],
             [
              0.2222222222222222,
              "#7201a8"
             ],
             [
              0.3333333333333333,
              "#9c179e"
             ],
             [
              0.4444444444444444,
              "#bd3786"
             ],
             [
              0.5555555555555556,
              "#d8576b"
             ],
             [
              0.6666666666666666,
              "#ed7953"
             ],
             [
              0.7777777777777778,
              "#fb9f3a"
             ],
             [
              0.8888888888888888,
              "#fdca26"
             ],
             [
              1,
              "#f0f921"
             ]
            ],
            "type": "heatmap"
           }
          ],
          "heatmapgl": [
           {
            "colorbar": {
             "outlinewidth": 0,
             "ticks": ""
            },
            "colorscale": [
             [
              0,
              "#0d0887"
             ],
             [
              0.1111111111111111,
              "#46039f"
             ],
             [
              0.2222222222222222,
              "#7201a8"
             ],
             [
              0.3333333333333333,
              "#9c179e"
             ],
             [
              0.4444444444444444,
              "#bd3786"
             ],
             [
              0.5555555555555556,
              "#d8576b"
             ],
             [
              0.6666666666666666,
              "#ed7953"
             ],
             [
              0.7777777777777778,
              "#fb9f3a"
             ],
             [
              0.8888888888888888,
              "#fdca26"
             ],
             [
              1,
              "#f0f921"
             ]
            ],
            "type": "heatmapgl"
           }
          ],
          "histogram": [
           {
            "marker": {
             "pattern": {
              "fillmode": "overlay",
              "size": 10,
              "solidity": 0.2
             }
            },
            "type": "histogram"
           }
          ],
          "histogram2d": [
           {
            "colorbar": {
             "outlinewidth": 0,
             "ticks": ""
            },
            "colorscale": [
             [
              0,
              "#0d0887"
             ],
             [
              0.1111111111111111,
              "#46039f"
             ],
             [
              0.2222222222222222,
              "#7201a8"
             ],
             [
              0.3333333333333333,
              "#9c179e"
             ],
             [
              0.4444444444444444,
              "#bd3786"
             ],
             [
              0.5555555555555556,
              "#d8576b"
             ],
             [
              0.6666666666666666,
              "#ed7953"
             ],
             [
              0.7777777777777778,
              "#fb9f3a"
             ],
             [
              0.8888888888888888,
              "#fdca26"
             ],
             [
              1,
              "#f0f921"
             ]
            ],
            "type": "histogram2d"
           }
          ],
          "histogram2dcontour": [
           {
            "colorbar": {
             "outlinewidth": 0,
             "ticks": ""
            },
            "colorscale": [
             [
              0,
              "#0d0887"
             ],
             [
              0.1111111111111111,
              "#46039f"
             ],
             [
              0.2222222222222222,
              "#7201a8"
             ],
             [
              0.3333333333333333,
              "#9c179e"
             ],
             [
              0.4444444444444444,
              "#bd3786"
             ],
             [
              0.5555555555555556,
              "#d8576b"
             ],
             [
              0.6666666666666666,
              "#ed7953"
             ],
             [
              0.7777777777777778,
              "#fb9f3a"
             ],
             [
              0.8888888888888888,
              "#fdca26"
             ],
             [
              1,
              "#f0f921"
             ]
            ],
            "type": "histogram2dcontour"
           }
          ],
          "mesh3d": [
           {
            "colorbar": {
             "outlinewidth": 0,
             "ticks": ""
            },
            "type": "mesh3d"
           }
          ],
          "parcoords": [
           {
            "line": {
             "colorbar": {
              "outlinewidth": 0,
              "ticks": ""
             }
            },
            "type": "parcoords"
           }
          ],
          "pie": [
           {
            "automargin": true,
            "type": "pie"
           }
          ],
          "scatter": [
           {
            "marker": {
             "line": {
              "color": "#283442"
             }
            },
            "type": "scatter"
           }
          ],
          "scatter3d": [
           {
            "line": {
             "colorbar": {
              "outlinewidth": 0,
              "ticks": ""
             }
            },
            "marker": {
             "colorbar": {
              "outlinewidth": 0,
              "ticks": ""
             }
            },
            "type": "scatter3d"
           }
          ],
          "scattercarpet": [
           {
            "marker": {
             "colorbar": {
              "outlinewidth": 0,
              "ticks": ""
             }
            },
            "type": "scattercarpet"
           }
          ],
          "scattergeo": [
           {
            "marker": {
             "colorbar": {
              "outlinewidth": 0,
              "ticks": ""
             }
            },
            "type": "scattergeo"
           }
          ],
          "scattergl": [
           {
            "marker": {
             "line": {
              "color": "#283442"
             }
            },
            "type": "scattergl"
           }
          ],
          "scattermapbox": [
           {
            "marker": {
             "colorbar": {
              "outlinewidth": 0,
              "ticks": ""
             }
            },
            "type": "scattermapbox"
           }
          ],
          "scatterpolar": [
           {
            "marker": {
             "colorbar": {
              "outlinewidth": 0,
              "ticks": ""
             }
            },
            "type": "scatterpolar"
           }
          ],
          "scatterpolargl": [
           {
            "marker": {
             "colorbar": {
              "outlinewidth": 0,
              "ticks": ""
             }
            },
            "type": "scatterpolargl"
           }
          ],
          "scatterternary": [
           {
            "marker": {
             "colorbar": {
              "outlinewidth": 0,
              "ticks": ""
             }
            },
            "type": "scatterternary"
           }
          ],
          "surface": [
           {
            "colorbar": {
             "outlinewidth": 0,
             "ticks": ""
            },
            "colorscale": [
             [
              0,
              "#0d0887"
             ],
             [
              0.1111111111111111,
              "#46039f"
             ],
             [
              0.2222222222222222,
              "#7201a8"
             ],
             [
              0.3333333333333333,
              "#9c179e"
             ],
             [
              0.4444444444444444,
              "#bd3786"
             ],
             [
              0.5555555555555556,
              "#d8576b"
             ],
             [
              0.6666666666666666,
              "#ed7953"
             ],
             [
              0.7777777777777778,
              "#fb9f3a"
             ],
             [
              0.8888888888888888,
              "#fdca26"
             ],
             [
              1,
              "#f0f921"
             ]
            ],
            "type": "surface"
           }
          ],
          "table": [
           {
            "cells": {
             "fill": {
              "color": "#506784"
             },
             "line": {
              "color": "rgb(17,17,17)"
             }
            },
            "header": {
             "fill": {
              "color": "#2a3f5f"
             },
             "line": {
              "color": "rgb(17,17,17)"
             }
            },
            "type": "table"
           }
          ]
         },
         "layout": {
          "annotationdefaults": {
           "arrowcolor": "#f2f5fa",
           "arrowhead": 0,
           "arrowwidth": 1
          },
          "autotypenumbers": "strict",
          "coloraxis": {
           "colorbar": {
            "outlinewidth": 0,
            "ticks": ""
           }
          },
          "colorscale": {
           "diverging": [
            [
             0,
             "#8e0152"
            ],
            [
             0.1,
             "#c51b7d"
            ],
            [
             0.2,
             "#de77ae"
            ],
            [
             0.3,
             "#f1b6da"
            ],
            [
             0.4,
             "#fde0ef"
            ],
            [
             0.5,
             "#f7f7f7"
            ],
            [
             0.6,
             "#e6f5d0"
            ],
            [
             0.7,
             "#b8e186"
            ],
            [
             0.8,
             "#7fbc41"
            ],
            [
             0.9,
             "#4d9221"
            ],
            [
             1,
             "#276419"
            ]
           ],
           "sequential": [
            [
             0,
             "#0d0887"
            ],
            [
             0.1111111111111111,
             "#46039f"
            ],
            [
             0.2222222222222222,
             "#7201a8"
            ],
            [
             0.3333333333333333,
             "#9c179e"
            ],
            [
             0.4444444444444444,
             "#bd3786"
            ],
            [
             0.5555555555555556,
             "#d8576b"
            ],
            [
             0.6666666666666666,
             "#ed7953"
            ],
            [
             0.7777777777777778,
             "#fb9f3a"
            ],
            [
             0.8888888888888888,
             "#fdca26"
            ],
            [
             1,
             "#f0f921"
            ]
           ],
           "sequentialminus": [
            [
             0,
             "#0d0887"
            ],
            [
             0.1111111111111111,
             "#46039f"
            ],
            [
             0.2222222222222222,
             "#7201a8"
            ],
            [
             0.3333333333333333,
             "#9c179e"
            ],
            [
             0.4444444444444444,
             "#bd3786"
            ],
            [
             0.5555555555555556,
             "#d8576b"
            ],
            [
             0.6666666666666666,
             "#ed7953"
            ],
            [
             0.7777777777777778,
             "#fb9f3a"
            ],
            [
             0.8888888888888888,
             "#fdca26"
            ],
            [
             1,
             "#f0f921"
            ]
           ]
          },
          "colorway": [
           "#636efa",
           "#EF553B",
           "#00cc96",
           "#ab63fa",
           "#FFA15A",
           "#19d3f3",
           "#FF6692",
           "#B6E880",
           "#FF97FF",
           "#FECB52"
          ],
          "font": {
           "color": "#f2f5fa"
          },
          "geo": {
           "bgcolor": "rgb(17,17,17)",
           "lakecolor": "rgb(17,17,17)",
           "landcolor": "rgb(17,17,17)",
           "showlakes": true,
           "showland": true,
           "subunitcolor": "#506784"
          },
          "hoverlabel": {
           "align": "left"
          },
          "hovermode": "closest",
          "mapbox": {
           "style": "dark"
          },
          "paper_bgcolor": "rgb(17,17,17)",
          "plot_bgcolor": "rgb(17,17,17)",
          "polar": {
           "angularaxis": {
            "gridcolor": "#506784",
            "linecolor": "#506784",
            "ticks": ""
           },
           "bgcolor": "rgb(17,17,17)",
           "radialaxis": {
            "gridcolor": "#506784",
            "linecolor": "#506784",
            "ticks": ""
           }
          },
          "scene": {
           "xaxis": {
            "backgroundcolor": "rgb(17,17,17)",
            "gridcolor": "#506784",
            "gridwidth": 2,
            "linecolor": "#506784",
            "showbackground": true,
            "ticks": "",
            "zerolinecolor": "#C8D4E3"
           },
           "yaxis": {
            "backgroundcolor": "rgb(17,17,17)",
            "gridcolor": "#506784",
            "gridwidth": 2,
            "linecolor": "#506784",
            "showbackground": true,
            "ticks": "",
            "zerolinecolor": "#C8D4E3"
           },
           "zaxis": {
            "backgroundcolor": "rgb(17,17,17)",
            "gridcolor": "#506784",
            "gridwidth": 2,
            "linecolor": "#506784",
            "showbackground": true,
            "ticks": "",
            "zerolinecolor": "#C8D4E3"
           }
          },
          "shapedefaults": {
           "line": {
            "color": "#f2f5fa"
           }
          },
          "sliderdefaults": {
           "bgcolor": "#C8D4E3",
           "bordercolor": "rgb(17,17,17)",
           "borderwidth": 1,
           "tickwidth": 0
          },
          "ternary": {
           "aaxis": {
            "gridcolor": "#506784",
            "linecolor": "#506784",
            "ticks": ""
           },
           "baxis": {
            "gridcolor": "#506784",
            "linecolor": "#506784",
            "ticks": ""
           },
           "bgcolor": "rgb(17,17,17)",
           "caxis": {
            "gridcolor": "#506784",
            "linecolor": "#506784",
            "ticks": ""
           }
          },
          "title": {
           "x": 0.05
          },
          "updatemenudefaults": {
           "bgcolor": "#506784",
           "borderwidth": 0
          },
          "xaxis": {
           "automargin": true,
           "gridcolor": "#283442",
           "linecolor": "#506784",
           "ticks": "",
           "title": {
            "standoff": 15
           },
           "zerolinecolor": "#283442",
           "zerolinewidth": 2
          },
          "yaxis": {
           "automargin": true,
           "gridcolor": "#283442",
           "linecolor": "#506784",
           "ticks": "",
           "title": {
            "standoff": 15
           },
           "zerolinecolor": "#283442",
           "zerolinewidth": 2
          }
         }
        },
        "title": {
         "text": "Scatterplot for see"
        },
        "width": 1000,
        "xaxis": {
         "exponentformat": "e",
         "showgrid": true,
         "tickmode": "array",
         "title": {
          "font": {
           "size": 22
          },
          "text": "empirical rates "
         }
        },
        "yaxis": {
         "exponentformat": "e",
         "showgrid": true,
         "tickmode": "array",
         "title": {
          "font": {
           "size": 22
          },
          "text": "computed rates"
         }
        }
       }
      }
     },
     "metadata": {},
     "output_type": "display_data"
    }
   ],
   "source": [
    "valplot(data, 'see', theme='dark')"
   ]
  },
  {
   "cell_type": "code",
   "execution_count": 6,
   "metadata": {},
   "outputs": [
    {
     "data": {
      "text/html": [
       "<div>\n",
       "<style scoped>\n",
       "    .dataframe tbody tr th:only-of-type {\n",
       "        vertical-align: middle;\n",
       "    }\n",
       "\n",
       "    .dataframe tbody tr th {\n",
       "        vertical-align: top;\n",
       "    }\n",
       "\n",
       "    .dataframe thead th {\n",
       "        text-align: right;\n",
       "    }\n",
       "</style>\n",
       "<table border=\"1\" class=\"dataframe\">\n",
       "  <thead>\n",
       "    <tr style=\"text-align: right;\">\n",
       "      <th></th>\n",
       "      <th>sequences</th>\n",
       "      <th>experimental</th>\n",
       "      <th>computational</th>\n",
       "      <th>off_nucleation</th>\n",
       "      <th>sliding</th>\n",
       "    </tr>\n",
       "  </thead>\n",
       "  <tbody>\n",
       "    <tr>\n",
       "      <th>0</th>\n",
       "      <td>GTTCGGTCTA</td>\n",
       "      <td>1.146e+06</td>\n",
       "      <td>2.399e+06</td>\n",
       "      <td>20</td>\n",
       "      <td>4</td>\n",
       "    </tr>\n",
       "    <tr>\n",
       "      <th>16</th>\n",
       "      <td>CAACCAACCA</td>\n",
       "      <td>3.961e+06</td>\n",
       "      <td>4.590e+06</td>\n",
       "      <td>40</td>\n",
       "      <td>4</td>\n",
       "    </tr>\n",
       "    <tr>\n",
       "      <th>20</th>\n",
       "      <td>GCTGTTCGGTCTAT</td>\n",
       "      <td>1.042e+06</td>\n",
       "      <td>2.056e+06</td>\n",
       "      <td>48</td>\n",
       "      <td>6</td>\n",
       "    </tr>\n",
       "    <tr>\n",
       "      <th>40</th>\n",
       "      <td>ACCAACCAACCAAC</td>\n",
       "      <td>5.208e+06</td>\n",
       "      <td>4.838e+06</td>\n",
       "      <td>84</td>\n",
       "      <td>6</td>\n",
       "    </tr>\n",
       "    <tr>\n",
       "      <th>18</th>\n",
       "      <td>CCCCACACAA</td>\n",
       "      <td>5.449e+06</td>\n",
       "      <td>3.919e+06</td>\n",
       "      <td>42</td>\n",
       "      <td>8</td>\n",
       "    </tr>\n",
       "    <tr>\n",
       "      <th>15</th>\n",
       "      <td>AACCACCACA</td>\n",
       "      <td>3.866e+06</td>\n",
       "      <td>3.688e+06</td>\n",
       "      <td>40</td>\n",
       "      <td>8</td>\n",
       "    </tr>\n",
       "    <tr>\n",
       "      <th>14</th>\n",
       "      <td>ACACACACAC</td>\n",
       "      <td>3.844e+06</td>\n",
       "      <td>8.595e+06</td>\n",
       "      <td>40</td>\n",
       "      <td>8</td>\n",
       "    </tr>\n",
       "    <tr>\n",
       "      <th>13</th>\n",
       "      <td>CCACCAACAA</td>\n",
       "      <td>2.825e+06</td>\n",
       "      <td>2.594e+06</td>\n",
       "      <td>40</td>\n",
       "      <td>8</td>\n",
       "    </tr>\n",
       "    <tr>\n",
       "      <th>11</th>\n",
       "      <td>CAACACAACC</td>\n",
       "      <td>2.696e+06</td>\n",
       "      <td>3.618e+06</td>\n",
       "      <td>40</td>\n",
       "      <td>8</td>\n",
       "    </tr>\n",
       "    <tr>\n",
       "      <th>10</th>\n",
       "      <td>AACCAACACC</td>\n",
       "      <td>2.656e+06</td>\n",
       "      <td>3.447e+06</td>\n",
       "      <td>40</td>\n",
       "      <td>8</td>\n",
       "    </tr>\n",
       "    <tr>\n",
       "      <th>3</th>\n",
       "      <td>ACCAAACCAC</td>\n",
       "      <td>2.168e+06</td>\n",
       "      <td>3.037e+06</td>\n",
       "      <td>40</td>\n",
       "      <td>8</td>\n",
       "    </tr>\n",
       "    <tr>\n",
       "      <th>7</th>\n",
       "      <td>AAACCCACCA</td>\n",
       "      <td>2.527e+06</td>\n",
       "      <td>3.860e+06</td>\n",
       "      <td>40</td>\n",
       "      <td>8</td>\n",
       "    </tr>\n",
       "    <tr>\n",
       "      <th>12</th>\n",
       "      <td>ACCAACACCA</td>\n",
       "      <td>2.766e+06</td>\n",
       "      <td>2.881e+06</td>\n",
       "      <td>40</td>\n",
       "      <td>10</td>\n",
       "    </tr>\n",
       "    <tr>\n",
       "      <th>6</th>\n",
       "      <td>CAACACCCAA</td>\n",
       "      <td>2.512e+06</td>\n",
       "      <td>2.407e+06</td>\n",
       "      <td>40</td>\n",
       "      <td>10</td>\n",
       "    </tr>\n",
       "    <tr>\n",
       "      <th>5</th>\n",
       "      <td>AAAAACCCAC</td>\n",
       "      <td>2.365e+06</td>\n",
       "      <td>2.797e+06</td>\n",
       "      <td>42</td>\n",
       "      <td>10</td>\n",
       "    </tr>\n",
       "    <tr>\n",
       "      <th>1</th>\n",
       "      <td>CCAAAACCAA</td>\n",
       "      <td>1.668e+06</td>\n",
       "      <td>4.120e+06</td>\n",
       "      <td>42</td>\n",
       "      <td>10</td>\n",
       "    </tr>\n",
       "    <tr>\n",
       "      <th>4</th>\n",
       "      <td>ACACCAAACC</td>\n",
       "      <td>2.179e+06</td>\n",
       "      <td>2.201e+06</td>\n",
       "      <td>40</td>\n",
       "      <td>10</td>\n",
       "    </tr>\n",
       "    <tr>\n",
       "      <th>19</th>\n",
       "      <td>ACACCACCAC</td>\n",
       "      <td>5.613e+06</td>\n",
       "      <td>5.054e+06</td>\n",
       "      <td>42</td>\n",
       "      <td>10</td>\n",
       "    </tr>\n",
       "    <tr>\n",
       "      <th>2</th>\n",
       "      <td>AAACCACACA</td>\n",
       "      <td>1.809e+06</td>\n",
       "      <td>4.262e+06</td>\n",
       "      <td>42</td>\n",
       "      <td>10</td>\n",
       "    </tr>\n",
       "    <tr>\n",
       "      <th>9</th>\n",
       "      <td>CAAAACCCCA</td>\n",
       "      <td>2.652e+06</td>\n",
       "      <td>3.267e+06</td>\n",
       "      <td>40</td>\n",
       "      <td>10</td>\n",
       "    </tr>\n",
       "    <tr>\n",
       "      <th>17</th>\n",
       "      <td>ACACACACCA</td>\n",
       "      <td>4.159e+06</td>\n",
       "      <td>5.505e+06</td>\n",
       "      <td>40</td>\n",
       "      <td>12</td>\n",
       "    </tr>\n",
       "    <tr>\n",
       "      <th>39</th>\n",
       "      <td>CACACACACACACA</td>\n",
       "      <td>4.818e+06</td>\n",
       "      <td>5.616e+06</td>\n",
       "      <td>84</td>\n",
       "      <td>12</td>\n",
       "    </tr>\n",
       "    <tr>\n",
       "      <th>8</th>\n",
       "      <td>ACAACACCAC</td>\n",
       "      <td>2.559e+06</td>\n",
       "      <td>1.994e+06</td>\n",
       "      <td>40</td>\n",
       "      <td>14</td>\n",
       "    </tr>\n",
       "    <tr>\n",
       "      <th>21</th>\n",
       "      <td>ACCAAACCACCAAC</td>\n",
       "      <td>1.187e+06</td>\n",
       "      <td>4.607e+06</td>\n",
       "      <td>84</td>\n",
       "      <td>14</td>\n",
       "    </tr>\n",
       "    <tr>\n",
       "      <th>32</th>\n",
       "      <td>AACCAACACCACCA</td>\n",
       "      <td>3.630e+06</td>\n",
       "      <td>3.653e+06</td>\n",
       "      <td>84</td>\n",
       "      <td>16</td>\n",
       "    </tr>\n",
       "    <tr>\n",
       "      <th>37</th>\n",
       "      <td>CCACCAACAACAAC</td>\n",
       "      <td>4.062e+06</td>\n",
       "      <td>3.733e+06</td>\n",
       "      <td>84</td>\n",
       "      <td>16</td>\n",
       "    </tr>\n",
       "    <tr>\n",
       "      <th>30</th>\n",
       "      <td>ACCAACACCAACCA</td>\n",
       "      <td>3.187e+06</td>\n",
       "      <td>3.970e+06</td>\n",
       "      <td>84</td>\n",
       "      <td>16</td>\n",
       "    </tr>\n",
       "    <tr>\n",
       "      <th>34</th>\n",
       "      <td>CAACACAACCAACC</td>\n",
       "      <td>3.763e+06</td>\n",
       "      <td>3.477e+06</td>\n",
       "      <td>84</td>\n",
       "      <td>16</td>\n",
       "    </tr>\n",
       "    <tr>\n",
       "      <th>26</th>\n",
       "      <td>CCAAAACCAACAAC</td>\n",
       "      <td>2.304e+06</td>\n",
       "      <td>3.420e+06</td>\n",
       "      <td>86</td>\n",
       "      <td>18</td>\n",
       "    </tr>\n",
       "    <tr>\n",
       "      <th>36</th>\n",
       "      <td>CCCCACACAACAAC</td>\n",
       "      <td>3.962e+06</td>\n",
       "      <td>4.126e+06</td>\n",
       "      <td>86</td>\n",
       "      <td>18</td>\n",
       "    </tr>\n",
       "    <tr>\n",
       "      <th>33</th>\n",
       "      <td>AACCACCACAAACC</td>\n",
       "      <td>3.660e+06</td>\n",
       "      <td>2.732e+06</td>\n",
       "      <td>84</td>\n",
       "      <td>18</td>\n",
       "    </tr>\n",
       "    <tr>\n",
       "      <th>38</th>\n",
       "      <td>ACACACACCACACA</td>\n",
       "      <td>4.442e+06</td>\n",
       "      <td>6.304e+06</td>\n",
       "      <td>84</td>\n",
       "      <td>20</td>\n",
       "    </tr>\n",
       "    <tr>\n",
       "      <th>35</th>\n",
       "      <td>CACCACAACCACCA</td>\n",
       "      <td>3.805e+06</td>\n",
       "      <td>4.923e+06</td>\n",
       "      <td>86</td>\n",
       "      <td>20</td>\n",
       "    </tr>\n",
       "    <tr>\n",
       "      <th>24</th>\n",
       "      <td>AAACCCACCACACA</td>\n",
       "      <td>1.892e+06</td>\n",
       "      <td>2.998e+06</td>\n",
       "      <td>84</td>\n",
       "      <td>20</td>\n",
       "    </tr>\n",
       "    <tr>\n",
       "      <th>29</th>\n",
       "      <td>CCCAAACCCAACCA</td>\n",
       "      <td>2.976e+06</td>\n",
       "      <td>3.768e+06</td>\n",
       "      <td>86</td>\n",
       "      <td>20</td>\n",
       "    </tr>\n",
       "    <tr>\n",
       "      <th>28</th>\n",
       "      <td>AAACCACCCAACAC</td>\n",
       "      <td>2.746e+06</td>\n",
       "      <td>3.132e+06</td>\n",
       "      <td>84</td>\n",
       "      <td>22</td>\n",
       "    </tr>\n",
       "    <tr>\n",
       "      <th>22</th>\n",
       "      <td>CAACACCAAACAAC</td>\n",
       "      <td>1.780e+06</td>\n",
       "      <td>1.942e+06</td>\n",
       "      <td>86</td>\n",
       "      <td>22</td>\n",
       "    </tr>\n",
       "    <tr>\n",
       "      <th>23</th>\n",
       "      <td>CAAAACCCCAACAC</td>\n",
       "      <td>1.831e+06</td>\n",
       "      <td>1.836e+06</td>\n",
       "      <td>84</td>\n",
       "      <td>22</td>\n",
       "    </tr>\n",
       "    <tr>\n",
       "      <th>31</th>\n",
       "      <td>CAACAACACCACCA</td>\n",
       "      <td>3.242e+06</td>\n",
       "      <td>3.074e+06</td>\n",
       "      <td>84</td>\n",
       "      <td>24</td>\n",
       "    </tr>\n",
       "    <tr>\n",
       "      <th>27</th>\n",
       "      <td>AAAAACCCACCCAA</td>\n",
       "      <td>2.433e+06</td>\n",
       "      <td>2.317e+06</td>\n",
       "      <td>86</td>\n",
       "      <td>24</td>\n",
       "    </tr>\n",
       "    <tr>\n",
       "      <th>25</th>\n",
       "      <td>CAACACCCAAACAC</td>\n",
       "      <td>2.125e+06</td>\n",
       "      <td>3.163e+06</td>\n",
       "      <td>84</td>\n",
       "      <td>24</td>\n",
       "    </tr>\n",
       "  </tbody>\n",
       "</table>\n",
       "</div>"
      ],
      "text/plain": [
       "         sequences  experimental  computational  off_nucleation  sliding\n",
       "0       GTTCGGTCTA     1.146e+06      2.399e+06              20        4\n",
       "16      CAACCAACCA     3.961e+06      4.590e+06              40        4\n",
       "20  GCTGTTCGGTCTAT     1.042e+06      2.056e+06              48        6\n",
       "40  ACCAACCAACCAAC     5.208e+06      4.838e+06              84        6\n",
       "18      CCCCACACAA     5.449e+06      3.919e+06              42        8\n",
       "15      AACCACCACA     3.866e+06      3.688e+06              40        8\n",
       "14      ACACACACAC     3.844e+06      8.595e+06              40        8\n",
       "13      CCACCAACAA     2.825e+06      2.594e+06              40        8\n",
       "11      CAACACAACC     2.696e+06      3.618e+06              40        8\n",
       "10      AACCAACACC     2.656e+06      3.447e+06              40        8\n",
       "3       ACCAAACCAC     2.168e+06      3.037e+06              40        8\n",
       "7       AAACCCACCA     2.527e+06      3.860e+06              40        8\n",
       "12      ACCAACACCA     2.766e+06      2.881e+06              40       10\n",
       "6       CAACACCCAA     2.512e+06      2.407e+06              40       10\n",
       "5       AAAAACCCAC     2.365e+06      2.797e+06              42       10\n",
       "1       CCAAAACCAA     1.668e+06      4.120e+06              42       10\n",
       "4       ACACCAAACC     2.179e+06      2.201e+06              40       10\n",
       "19      ACACCACCAC     5.613e+06      5.054e+06              42       10\n",
       "2       AAACCACACA     1.809e+06      4.262e+06              42       10\n",
       "9       CAAAACCCCA     2.652e+06      3.267e+06              40       10\n",
       "17      ACACACACCA     4.159e+06      5.505e+06              40       12\n",
       "39  CACACACACACACA     4.818e+06      5.616e+06              84       12\n",
       "8       ACAACACCAC     2.559e+06      1.994e+06              40       14\n",
       "21  ACCAAACCACCAAC     1.187e+06      4.607e+06              84       14\n",
       "32  AACCAACACCACCA     3.630e+06      3.653e+06              84       16\n",
       "37  CCACCAACAACAAC     4.062e+06      3.733e+06              84       16\n",
       "30  ACCAACACCAACCA     3.187e+06      3.970e+06              84       16\n",
       "34  CAACACAACCAACC     3.763e+06      3.477e+06              84       16\n",
       "26  CCAAAACCAACAAC     2.304e+06      3.420e+06              86       18\n",
       "36  CCCCACACAACAAC     3.962e+06      4.126e+06              86       18\n",
       "33  AACCACCACAAACC     3.660e+06      2.732e+06              84       18\n",
       "38  ACACACACCACACA     4.442e+06      6.304e+06              84       20\n",
       "35  CACCACAACCACCA     3.805e+06      4.923e+06              86       20\n",
       "24  AAACCCACCACACA     1.892e+06      2.998e+06              84       20\n",
       "29  CCCAAACCCAACCA     2.976e+06      3.768e+06              86       20\n",
       "28  AAACCACCCAACAC     2.746e+06      3.132e+06              84       22\n",
       "22  CAACACCAAACAAC     1.780e+06      1.942e+06              86       22\n",
       "23  CAAAACCCCAACAC     1.831e+06      1.836e+06              84       22\n",
       "31  CAACAACACCACCA     3.242e+06      3.074e+06              84       24\n",
       "27  AAAAACCCACCCAA     2.433e+06      2.317e+06              86       24\n",
       "25  CAACACCCAAACAC     2.125e+06      3.163e+06              84       24"
      ]
     },
     "execution_count": 6,
     "metadata": {},
     "output_type": "execute_result"
    }
   ],
   "source": [
    "data[['sequences', 'experimental', 'computational', 'off_nucleation', 'sliding']].sort_values('sliding')"
   ]
  },
  {
   "cell_type": "code",
   "execution_count": 7,
   "metadata": {},
   "outputs": [
    {
     "data": {
      "text/html": [
       "<div>\n",
       "<style scoped>\n",
       "    .dataframe tbody tr th:only-of-type {\n",
       "        vertical-align: middle;\n",
       "    }\n",
       "\n",
       "    .dataframe tbody tr th {\n",
       "        vertical-align: top;\n",
       "    }\n",
       "\n",
       "    .dataframe thead th {\n",
       "        text-align: right;\n",
       "    }\n",
       "</style>\n",
       "<table border=\"1\" class=\"dataframe\">\n",
       "  <thead>\n",
       "    <tr style=\"text-align: right;\">\n",
       "      <th></th>\n",
       "      <th>sequences</th>\n",
       "      <th>sequences.1</th>\n",
       "      <th>experimental</th>\n",
       "      <th>index</th>\n",
       "      <th>computational</th>\n",
       "      <th>Unnamed: 5</th>\n",
       "      <th>singlestranded</th>\n",
       "      <th>duplex</th>\n",
       "      <th>zipping</th>\n",
       "      <th>on_nucleation</th>\n",
       "      <th>off_nucleation</th>\n",
       "      <th>backfray</th>\n",
       "      <th>sliding</th>\n",
       "      <th>failed</th>\n",
       "      <th>fail%</th>\n",
       "      <th>error</th>\n",
       "    </tr>\n",
       "  </thead>\n",
       "  <tbody>\n",
       "  </tbody>\n",
       "</table>\n",
       "</div>"
      ],
      "text/plain": [
       "Empty DataFrame\n",
       "Columns: [sequences, sequences.1, experimental, index, computational, Unnamed: 5, singlestranded, duplex, zipping, on_nucleation, off_nucleation, backfray, sliding, failed, fail%, error]\n",
       "Index: []"
      ]
     },
     "execution_count": 7,
     "metadata": {},
     "output_type": "execute_result"
    }
   ],
   "source": [
    "data[data['off_nucleation'] == 0]"
   ]
  }
 ],
 "metadata": {
  "kernelspec": {
   "display_name": "hdna",
   "language": "python",
   "name": "python3"
  },
  "language_info": {
   "codemirror_mode": {
    "name": "ipython",
    "version": 3
   },
   "file_extension": ".py",
   "mimetype": "text/x-python",
   "name": "python",
   "nbconvert_exporter": "python",
   "pygments_lexer": "ipython3",
   "version": "3.10.9"
  },
  "orig_nbformat": 4,
  "vscode": {
   "interpreter": {
    "hash": "13f02c433cbffcd00bbcbbfeff349f4b7c28e9023d8fb9f65ab93bb104997abd"
   }
  }
 },
 "nbformat": 4,
 "nbformat_minor": 2
}
