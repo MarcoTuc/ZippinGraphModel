{
 "cells": [
  {
   "cell_type": "code",
   "execution_count": 1,
   "metadata": {},
   "outputs": [],
   "source": [
    "import pandas as pd "
   ]
  },
  {
   "cell_type": "code",
   "execution_count": 2,
   "metadata": {},
   "outputs": [],
   "source": [
    "expe = pd.read_csv('kineticsdata/experimental.csv',header=0)"
   ]
  },
  {
   "cell_type": "code",
   "execution_count": 3,
   "metadata": {},
   "outputs": [
    {
     "data": {
      "text/html": [
       "<div>\n",
       "<style scoped>\n",
       "    .dataframe tbody tr th:only-of-type {\n",
       "        vertical-align: middle;\n",
       "    }\n",
       "\n",
       "    .dataframe tbody tr th {\n",
       "        vertical-align: top;\n",
       "    }\n",
       "\n",
       "    .dataframe thead th {\n",
       "        text-align: right;\n",
       "    }\n",
       "</style>\n",
       "<table border=\"1\" class=\"dataframe\">\n",
       "  <thead>\n",
       "    <tr style=\"text-align: right;\">\n",
       "      <th></th>\n",
       "      <th>nucleation rate</th>\n",
       "      <th>zipping rate</th>\n",
       "      <th>sequence</th>\n",
       "      <th>temperature</th>\n",
       "      <th>salt</th>\n",
       "      <th>notes</th>\n",
       "    </tr>\n",
       "  </thead>\n",
       "  <tbody>\n",
       "    <tr>\n",
       "      <th>craig71</th>\n",
       "      <td>2000000.0</td>\n",
       "      <td>None</td>\n",
       "      <td>AAAAAAA</td>\n",
       "      <td>25</td>\n",
       "      <td>None</td>\n",
       "      <td>dimer formation kinetics between two comple...</td>\n",
       "    </tr>\n",
       "    <tr>\n",
       "      <th>porsche71</th>\n",
       "      <td>8500000.0</td>\n",
       "      <td>2e7</td>\n",
       "      <td>AAAAAAAAA</td>\n",
       "      <td>25</td>\n",
       "      <td>None</td>\n",
       "      <td></td>\n",
       "    </tr>\n",
       "    <tr>\n",
       "      <th>christensen2001</th>\n",
       "      <td>20000000.0</td>\n",
       "      <td>None</td>\n",
       "      <td>TGCTCCTG</td>\n",
       "      <td>25</td>\n",
       "      <td>0.1 M NaCl</td>\n",
       "      <td>and 0.01 M MgCl2</td>\n",
       "    </tr>\n",
       "  </tbody>\n",
       "</table>\n",
       "</div>"
      ],
      "text/plain": [
       "                                 nucleation rate          zipping rate  \\\n",
       "craig71                                2000000.0                  None   \n",
       "porsche71                              8500000.0                   2e7   \n",
       "christensen2001                       20000000.0                  None   \n",
       "\n",
       "                              sequence     temperature               salt  \\\n",
       "craig71                        AAAAAAA              25               None   \n",
       "porsche71                    AAAAAAAAA              25               None   \n",
       "christensen2001               TGCTCCTG              25         0.1 M NaCl   \n",
       "\n",
       "                                                            notes   \n",
       "craig71             dimer formation kinetics between two comple...  \n",
       "porsche71                                                           \n",
       "christensen2001                                   and 0.01 M MgCl2  "
      ]
     },
     "execution_count": 3,
     "metadata": {},
     "output_type": "execute_result"
    }
   ],
   "source": [
    "expe"
   ]
  },
  {
   "cell_type": "markdown",
   "metadata": {},
   "source": []
  }
 ],
 "metadata": {
  "kernelspec": {
   "display_name": "hdna",
   "language": "python",
   "name": "python3"
  },
  "language_info": {
   "codemirror_mode": {
    "name": "ipython",
    "version": 3
   },
   "file_extension": ".py",
   "mimetype": "text/x-python",
   "name": "python",
   "nbconvert_exporter": "python",
   "pygments_lexer": "ipython3",
   "version": "3.10.9 (main, Jan 11 2023, 15:21:40) [GCC 11.2.0]"
  },
  "orig_nbformat": 4,
  "vscode": {
   "interpreter": {
    "hash": "13f02c433cbffcd00bbcbbfeff349f4b7c28e9023d8fb9f65ab93bb104997abd"
   }
  }
 },
 "nbformat": 4,
 "nbformat_minor": 2
}
