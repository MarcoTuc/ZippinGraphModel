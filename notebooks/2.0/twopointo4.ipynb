{
 "cells": [
  {
   "cell_type": "code",
   "execution_count": 2,
   "metadata": {},
   "outputs": [],
   "source": [
    "%load_ext autoreload\n",
    "%autoreload 2"
   ]
  },
  {
   "cell_type": "code",
   "execution_count": 3,
   "metadata": {},
   "outputs": [],
   "source": [
    "import sys\n",
    "sys.path.append('..')"
   ]
  },
  {
   "cell_type": "code",
   "execution_count": 4,
   "metadata": {},
   "outputs": [],
   "source": [
    "from hdna import * \n",
    "import nupack as nu\n",
    "import networkx as nx \n",
    "import cProfile, pstats"
   ]
  },
  {
   "cell_type": "code",
   "execution_count": 5,
   "metadata": {},
   "outputs": [],
   "source": [
    "model = Model('dna', '3D', stacking='nostacking')\n",
    "s1 = Strand(model, \"AAAAAAAAAAAAAAAA\")\n",
    "s2 = s1.complementary()\n",
    "C = Chamber(model, s1, s2)\n",
    "N = Kinetwork(model, s1, s2, Geometry(120,270), clean=True)"
   ]
  },
  {
   "cell_type": "code",
   "execution_count": 6,
   "metadata": {},
   "outputs": [],
   "source": [
    "N.zippingraph()\n",
    "N.slidingraph()\n",
    "N.completegraph()"
   ]
  },
  {
   "cell_type": "code",
   "execution_count": 7,
   "metadata": {},
   "outputs": [
    {
     "data": {
      "text/plain": [
       "[[[[[[[[[[[[]]]]]]]],\n",
       "    [[[[[[[[]]]]]]],\n",
       "     [[[[[[[]]]]]], [[[[[[]]]]], [[[[[]]]], [[[[]]], [[[]], [[]]]]]]]]],\n",
       "   [[[[[[[[[]]]]]]],\n",
       "     [[[[[[[]]]]]], [[[[[[]]]]], [[[[[]]]], [[[[]]], [[[]], [[]]]]]]]],\n",
       "    [[[[[[[[]]]]]], [[[[[[]]]]], [[[[[]]]], [[[[]]], [[[]], [[]]]]]]],\n",
       "     [[[[[[[]]]]], [[[[[]]]], [[[[]]], [[[]], [[]]]]]],\n",
       "      [[[[[[]]]], [[[[]]], [[[]], [[]]]]],\n",
       "       [[[[[]]], [[[]], [[]]]], [[[[]], [[]]], [[[]]]]]]]]]],\n",
       "  [[[[[[[[[[]]]]]]],\n",
       "     [[[[[[[]]]]]], [[[[[[]]]]], [[[[[]]]], [[[[]]], [[[]], [[]]]]]]]],\n",
       "    [[[[[[[[]]]]]], [[[[[[]]]]], [[[[[]]]], [[[[]]], [[[]], [[]]]]]]],\n",
       "     [[[[[[[]]]]], [[[[[]]]], [[[[]]], [[[]], [[]]]]]],\n",
       "      [[[[[[]]]], [[[[]]], [[[]], [[]]]]],\n",
       "       [[[[[]]], [[[]], [[]]]], [[[[]], [[]]], [[[]]]]]]]]],\n",
       "   [[[[[[[[[]]]]]], [[[[[[]]]]], [[[[[]]]], [[[[]]], [[[]], [[]]]]]]],\n",
       "     [[[[[[[]]]]], [[[[[]]]], [[[[]]], [[[]], [[]]]]]],\n",
       "      [[[[[[]]]], [[[[]]], [[[]], [[]]]]],\n",
       "       [[[[[]]], [[[]], [[]]]], [[[[]], [[]]], [[[]]]]]]]],\n",
       "    [[[[[[[[]]]]], [[[[[]]]], [[[[]]], [[[]], [[]]]]]],\n",
       "      [[[[[[]]]], [[[[]]], [[[]], [[]]]]],\n",
       "       [[[[[]]], [[[]], [[]]]], [[[[]], [[]]], [[[]]]]]]],\n",
       "     [[[[[[[]]]], [[[[]]], [[[]], [[]]]]],\n",
       "       [[[[[]]], [[[]], [[]]]], [[[[]], [[]]], [[[]]]]]],\n",
       "      [[[[[[]]], [[[]], [[]]]], [[[[]], [[]]], [[[]]]]],\n",
       "       [[[[[]], [[]]], [[[]]]], [[[[]]]]]]]]]]],\n",
       " [[[[[[[[[[[]]]]]]],\n",
       "     [[[[[[[]]]]]], [[[[[[]]]]], [[[[[]]]], [[[[]]], [[[]], [[]]]]]]]],\n",
       "    [[[[[[[[]]]]]], [[[[[[]]]]], [[[[[]]]], [[[[]]], [[[]], [[]]]]]]],\n",
       "     [[[[[[[]]]]], [[[[[]]]], [[[[]]], [[[]], [[]]]]]],\n",
       "      [[[[[[]]]], [[[[]]], [[[]], [[]]]]],\n",
       "       [[[[[]]], [[[]], [[]]]], [[[[]], [[]]], [[[]]]]]]]]],\n",
       "   [[[[[[[[[]]]]]], [[[[[[]]]]], [[[[[]]]], [[[[]]], [[[]], [[]]]]]]],\n",
       "     [[[[[[[]]]]], [[[[[]]]], [[[[]]], [[[]], [[]]]]]],\n",
       "      [[[[[[]]]], [[[[]]], [[[]], [[]]]]],\n",
       "       [[[[[]]], [[[]], [[]]]], [[[[]], [[]]], [[[]]]]]]]],\n",
       "    [[[[[[[[]]]]], [[[[[]]]], [[[[]]], [[[]], [[]]]]]],\n",
       "      [[[[[[]]]], [[[[]]], [[[]], [[]]]]],\n",
       "       [[[[[]]], [[[]], [[]]]], [[[[]], [[]]], [[[]]]]]]],\n",
       "     [[[[[[[]]]], [[[[]]], [[[]], [[]]]]],\n",
       "       [[[[[]]], [[[]], [[]]]], [[[[]], [[]]], [[[]]]]]],\n",
       "      [[[[[[]]], [[[]], [[]]]], [[[[]], [[]]], [[[]]]]],\n",
       "       [[[[[]], [[]]], [[[]]]], [[[[]]]]]]]]]],\n",
       "  [[[[[[[[[[]]]]]], [[[[[[]]]]], [[[[[]]]], [[[[]]], [[[]], [[]]]]]]],\n",
       "     [[[[[[[]]]]], [[[[[]]]], [[[[]]], [[[]], [[]]]]]],\n",
       "      [[[[[[]]]], [[[[]]], [[[]], [[]]]]],\n",
       "       [[[[[]]], [[[]], [[]]]], [[[[]], [[]]], [[[]]]]]]]],\n",
       "    [[[[[[[[]]]]], [[[[[]]]], [[[[]]], [[[]], [[]]]]]],\n",
       "      [[[[[[]]]], [[[[]]], [[[]], [[]]]]],\n",
       "       [[[[[]]], [[[]], [[]]]], [[[[]], [[]]], [[[]]]]]]],\n",
       "     [[[[[[[]]]], [[[[]]], [[[]], [[]]]]],\n",
       "       [[[[[]]], [[[]], [[]]]], [[[[]], [[]]], [[[]]]]]],\n",
       "      [[[[[[]]], [[[]], [[]]]], [[[[]], [[]]], [[[]]]]],\n",
       "       [[[[[]], [[]]], [[[]]]], [[[[]]]]]]]]],\n",
       "   [[[[[[[[[]]]]], [[[[[]]]], [[[[]]], [[[]], [[]]]]]],\n",
       "      [[[[[[]]]], [[[[]]], [[[]], [[]]]]],\n",
       "       [[[[[]]], [[[]], [[]]]], [[[[]], [[]]], [[[]]]]]]],\n",
       "     [[[[[[[]]]], [[[[]]], [[[]], [[]]]]],\n",
       "       [[[[[]]], [[[]], [[]]]], [[[[]], [[]]], [[[]]]]]],\n",
       "      [[[[[[]]], [[[]], [[]]]], [[[[]], [[]]], [[[]]]]],\n",
       "       [[[[[]], [[]]], [[[]]]], [[[[]]]]]]]],\n",
       "    [[[[[[[[]]]], [[[[]]], [[[]], [[]]]]],\n",
       "       [[[[[]]], [[[]], [[]]]], [[[[]], [[]]], [[[]]]]]],\n",
       "      [[[[[[]]], [[[]], [[]]]], [[[[]], [[]]], [[[]]]]],\n",
       "       [[[[[]], [[]]], [[[]]]], [[[[]]]]]]],\n",
       "     [[[[[[[]]], [[[]], [[]]]], [[[[]], [[]]], [[[]]]]],\n",
       "       [[[[[]], [[]]], [[[]]]], [[[[]]]]]],\n",
       "      [[[[[[]], [[]]], [[[]]]], [[[[]]]]], [[[[[]]]]]]]]]]]]"
      ]
     },
     "execution_count": 7,
     "metadata": {},
     "output_type": "execute_result"
    }
   ],
   "source": [
    "import networkx as nx \n",
    "from itertools import pairwise\n",
    "\n",
    "\n",
    "def get_i(lst):\n",
    "    indices = []\n",
    "    for i, (el1, el2) in enumerate(pairwise(lst)):\n",
    "        if el1 == '.' and el2 != '.':\n",
    "            indices.append(i)\n",
    "        if el1 != '.' and el2 == '.':\n",
    "            indices.append(i+1)\n",
    "    return indices\n",
    "#updates current the given structure\n",
    "def update_structure(string, side, character: str):\n",
    "    updated = string\n",
    "    moveslist = []\n",
    "    moves = get_i(string)[::side]\n",
    "    for m in moves:\n",
    "        up = updated[:m] + character + updated[m+1:]\n",
    "        moveslist.append(up)\n",
    "    return moveslist\n",
    "#recursively add nodes and edges to their leafs in a tree like manner until duplexation\n",
    "#duplexation is automatically recognised by the production of an empty moveslist list \n",
    "def leafs(left, right, graph):\n",
    "    lmoves = update_structure(left, 1, '(')\n",
    "    rmoves = update_structure(right, -1, ')')\n",
    "    inbound = '+'.join([left, right])\n",
    "    zobj = Zippo(model, s1, s2, state='zipping', structure=inbound, clean = True)\n",
    "    graph.add_node( inbound,\n",
    "                    obj = zobj,\n",
    "                    state = zobj.state,\n",
    "                    pairs = zobj.total_nucleations)\n",
    "    for lmove, rmove in zip(lmoves, rmoves):\n",
    "        outbound = '+'.join([lmove,rmove])\n",
    "        zobj = Zippo(model, s1, s2, state='zipping', structure=outbound, clean = True)\n",
    "        graph.add_node(outbound,\n",
    "                        obj = zobj,\n",
    "                        state = zobj.state,\n",
    "                        pairs = zobj.total_nucleations)\n",
    "        graph.add_edge(inbound, outbound) #TODO ADD RATES\n",
    "        graph.add_edge(outbound, inbound) #TODO ADD RATES\n",
    "        yield list(leafs(lmove,rmove,graph))\n",
    "#takes inputted oncore and splits it to update structure simultaneously on the left and the right\n",
    "left, right = '....(.......+.......)....'.split('+')\n",
    "subZG = nx.DiGraph()\n",
    "list(leafs(left, right, subZG))"
   ]
  },
  {
   "cell_type": "code",
   "execution_count": 81,
   "metadata": {},
   "outputs": [
    {
     "ename": "ValueError",
     "evalue": "not enough values to unpack (expected 2, got 1)",
     "output_type": "error",
     "traceback": [
      "\u001b[0;31m---------------------------------------------------------------------------\u001b[0m",
      "\u001b[0;31mValueError\u001b[0m                                Traceback (most recent call last)",
      "Cell \u001b[0;32mIn[81], line 39\u001b[0m\n\u001b[1;32m     37\u001b[0m left, right \u001b[39m=\u001b[39m \u001b[39m'\u001b[39m\u001b[39m....(.......+.......)....\u001b[39m\u001b[39m'\u001b[39m\u001b[39m.\u001b[39msplit(\u001b[39m'\u001b[39m\u001b[39m+\u001b[39m\u001b[39m'\u001b[39m)\n\u001b[1;32m     38\u001b[0m structure \u001b[39m=\u001b[39m \u001b[39m'\u001b[39m\u001b[39m....(.......+.......)....\u001b[39m\u001b[39m'\u001b[39m\n\u001b[0;32m---> 39\u001b[0m tree(structure)\n",
      "Cell \u001b[0;32mIn[81], line 32\u001b[0m, in \u001b[0;36mtree\u001b[0;34m(structure)\u001b[0m\n\u001b[1;32m     31\u001b[0m \u001b[39mdef\u001b[39;00m \u001b[39mtree\u001b[39m(structure):\n\u001b[0;32m---> 32\u001b[0m     \u001b[39mfor\u001b[39;00m leaf \u001b[39min\u001b[39;00m leafs([\u001b[39m*\u001b[39;49mstructure]):\n\u001b[1;32m     33\u001b[0m         \u001b[39m# print(tree(leaf))\u001b[39;00m\n\u001b[1;32m     34\u001b[0m         \u001b[39mreturn\u001b[39;00m tree(leafs([\u001b[39m*\u001b[39mleaf]))\n",
      "Cell \u001b[0;32mIn[81], line 22\u001b[0m, in \u001b[0;36mleafs\u001b[0;34m(inbound)\u001b[0m\n\u001b[1;32m     20\u001b[0m \u001b[39mdef\u001b[39;00m \u001b[39mleafs\u001b[39m(inbound):\n\u001b[1;32m     21\u001b[0m     \u001b[39mfor\u001b[39;00m inb \u001b[39min\u001b[39;00m inbound:\n\u001b[0;32m---> 22\u001b[0m         left, right \u001b[39m=\u001b[39m inb\u001b[39m.\u001b[39msplit(\u001b[39m'\u001b[39m\u001b[39m+\u001b[39m\u001b[39m'\u001b[39m)\n\u001b[1;32m     23\u001b[0m         lmoves \u001b[39m=\u001b[39m update_structure(left, \u001b[39m1\u001b[39m, \u001b[39m'\u001b[39m\u001b[39m(\u001b[39m\u001b[39m'\u001b[39m)\n\u001b[1;32m     24\u001b[0m         rmoves \u001b[39m=\u001b[39m update_structure(right, \u001b[39m-\u001b[39m\u001b[39m1\u001b[39m, \u001b[39m'\u001b[39m\u001b[39m)\u001b[39m\u001b[39m'\u001b[39m)\n",
      "\u001b[0;31mValueError\u001b[0m: not enough values to unpack (expected 2, got 1)"
     ]
    }
   ],
   "source": [
    "def get_i(lst):\n",
    "    indices = []\n",
    "    for i, (el1, el2) in enumerate(pairwise(lst)):\n",
    "        if el1 == '.' and el2 != '.':\n",
    "            indices.append(i)\n",
    "        if el1 != '.' and el2 == '.':\n",
    "            indices.append(i+1)\n",
    "    return indices\n",
    "#updates current the given structure\n",
    "def update_structure(string, side, character: str):\n",
    "    updated = string\n",
    "    moveslist = []\n",
    "    moves = get_i(string)[::side]\n",
    "    for m in moves:\n",
    "        up = updated[:m] + character + updated[m+1:]\n",
    "        moveslist.append(up)\n",
    "    return moveslist\n",
    "#recursively add nodes and edges to their leafs in a tree like manner until duplexation\n",
    "#duplexation is automatically recognised by the production of an empty moveslist list \n",
    "def leafs(inbound):\n",
    "    for inb in inbound:\n",
    "        left, right = inb.split('+')\n",
    "        lmoves = update_structure(left, 1, '(')\n",
    "        rmoves = update_structure(right, -1, ')')\n",
    "        # print('in   ',inb)\n",
    "        outbound = []\n",
    "        for lmove, rmove in zip(lmoves, rmoves):\n",
    "            outbound.append('+'.join([lmove, rmove]))\n",
    "        return outbound\n",
    "\n",
    "def tree(structure):\n",
    "    for leaf in leafs([*structure]):\n",
    "        # print(tree(leaf))\n",
    "        return tree(leafs([*leaf]))\n",
    "        # yield list(leafs(lmove,rmove))\n",
    "#takes inputted oncore and splits it to update structure simultaneously on the left and the right\n",
    "left, right = '....(.......+.......)....'.split('+')\n",
    "structure = '....(.......+.......)....'\n",
    "tree(structure)"
   ]
  }
 ],
 "metadata": {
  "kernelspec": {
   "display_name": "hdna",
   "language": "python",
   "name": "python3"
  },
  "language_info": {
   "codemirror_mode": {
    "name": "ipython",
    "version": 3
   },
   "file_extension": ".py",
   "mimetype": "text/x-python",
   "name": "python",
   "nbconvert_exporter": "python",
   "pygments_lexer": "ipython3",
   "version": "3.10.9 (main, Jan 11 2023, 15:21:40) [GCC 11.2.0]"
  },
  "orig_nbformat": 4,
  "vscode": {
   "interpreter": {
    "hash": "13f02c433cbffcd00bbcbbfeff349f4b7c28e9023d8fb9f65ab93bb104997abd"
   }
  }
 },
 "nbformat": 4,
 "nbformat_minor": 2
}
