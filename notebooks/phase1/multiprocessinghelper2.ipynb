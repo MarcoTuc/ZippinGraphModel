{
 "cells": [
  {
   "cell_type": "code",
   "execution_count": 1,
   "metadata": {},
   "outputs": [
    {
     "name": "stdout",
     "output_type": "stream",
     "text": [
      "Number of processors:  12\n"
     ]
    }
   ],
   "source": [
    "import multiprocessing\n",
    "multiprocessing.set_start_method(\"spawn\", force=True)\n",
    "print(\"Number of processors: \", multiprocessing.cpu_count())"
   ]
  },
  {
   "cell_type": "code",
   "execution_count": 7,
   "metadata": {},
   "outputs": [],
   "source": [
    "from julia.api import Julia \n",
    "jpath = '/home/marktas/.local/bin/julia'\n",
    "jl = Julia(runtime=jpath, compiled_modules=False)"
   ]
  },
  {
   "cell_type": "code",
   "execution_count": 9,
   "metadata": {},
   "outputs": [],
   "source": [
    "from julia import Main as jl    \n",
    "from julia import BioSimulator"
   ]
  },
  {
   "cell_type": "code",
   "execution_count": 10,
   "metadata": {},
   "outputs": [
    {
     "name": "stdout",
     "output_type": "stream",
     "text": [
      "Initializing Julia interpreter. This may take some time...\n"
     ]
    }
   ],
   "source": [
    "%load_ext julia.magic"
   ]
  },
  {
   "cell_type": "code",
   "execution_count": 4,
   "metadata": {},
   "outputs": [],
   "source": [
    "import os\n",
    "from multiprocessing import cpu_count\n",
    "# read num of cpus and set the julia threas var\n",
    "os.environ[\"JULIA_NUM_THREADS\"] = str(cpu_count())\n",
    "\n",
    "#import (py)julia\n",
    "from julia.api import Julia \n",
    "jpath = '/home/marktas/.local/bin/julia'\n",
    "jl = Julia(runtime=jpath, compiled_modules=False)\n",
    "from julia import Main as jl\n",
    "from julia import BioSimulator as bs "
   ]
  },
  {
   "cell_type": "code",
   "execution_count": 9,
   "metadata": {},
   "outputs": [
    {
     "ename": "AttributeError",
     "evalue": "'list' object has no attribute 'u'",
     "output_type": "error",
     "traceback": [
      "\u001b[0;31m---------------------------------------------------------------------------\u001b[0m",
      "\u001b[0;31mAttributeError\u001b[0m                            Traceback (most recent call last)",
      "Cell \u001b[0;32mIn[9], line 70\u001b[0m\n\u001b[1;32m     67\u001b[0m runtime \u001b[39m=\u001b[39m \u001b[39m1e-5\u001b[39m\n\u001b[1;32m     69\u001b[0m simresults \u001b[39m=\u001b[39m [bs\u001b[39m.\u001b[39msimulate(model, bs\u001b[39m.\u001b[39mDirect(),tfinal\u001b[39m=\u001b[39mruntime) \u001b[39mfor\u001b[39;00m i \u001b[39min\u001b[39;00m \u001b[39mrange\u001b[39m(Nmonte)]\n\u001b[0;32m---> 70\u001b[0m results \u001b[39m=\u001b[39m [{\u001b[39m'\u001b[39m\u001b[39mc\u001b[39m\u001b[39m'\u001b[39m:jl\u001b[39m.\u001b[39mhcat(\u001b[39m*\u001b[39msimresults[i]\u001b[39m.\u001b[39mu)\u001b[39m.\u001b[39m__array__(), \u001b[39m'\u001b[39m\u001b[39mt\u001b[39m\u001b[39m'\u001b[39m:simresults[i]\u001b[39m.\u001b[39mt} \u001b[39mfor\u001b[39;00m i \u001b[39min\u001b[39;00m \u001b[39mrange\u001b[39m(Nmonte)]\n\u001b[1;32m     71\u001b[0m \u001b[39m# simresults = juliacall.VectorValue\u001b[39;00m\n\u001b[1;32m     72\u001b[0m \u001b[39m# for i in range(Nmonte):\u001b[39;00m\n\u001b[1;32m     73\u001b[0m \u001b[39m#     jl.append(simresults,jl.simulate(model, jl.Direct(),tfinal=runtime))\u001b[39;00m\n",
      "Cell \u001b[0;32mIn[9], line 70\u001b[0m, in \u001b[0;36m<listcomp>\u001b[0;34m(.0)\u001b[0m\n\u001b[1;32m     67\u001b[0m runtime \u001b[39m=\u001b[39m \u001b[39m1e-5\u001b[39m\n\u001b[1;32m     69\u001b[0m simresults \u001b[39m=\u001b[39m [bs\u001b[39m.\u001b[39msimulate(model, bs\u001b[39m.\u001b[39mDirect(),tfinal\u001b[39m=\u001b[39mruntime) \u001b[39mfor\u001b[39;00m i \u001b[39min\u001b[39;00m \u001b[39mrange\u001b[39m(Nmonte)]\n\u001b[0;32m---> 70\u001b[0m results \u001b[39m=\u001b[39m [{\u001b[39m'\u001b[39m\u001b[39mc\u001b[39m\u001b[39m'\u001b[39m:jl\u001b[39m.\u001b[39mhcat(\u001b[39m*\u001b[39msimresults[i]\u001b[39m.\u001b[39;49mu)\u001b[39m.\u001b[39m__array__(), \u001b[39m'\u001b[39m\u001b[39mt\u001b[39m\u001b[39m'\u001b[39m:simresults[i]\u001b[39m.\u001b[39mt} \u001b[39mfor\u001b[39;00m i \u001b[39min\u001b[39;00m \u001b[39mrange\u001b[39m(Nmonte)]\n\u001b[1;32m     71\u001b[0m \u001b[39m# simresults = juliacall.VectorValue\u001b[39;00m\n\u001b[1;32m     72\u001b[0m \u001b[39m# for i in range(Nmonte):\u001b[39;00m\n\u001b[1;32m     73\u001b[0m \u001b[39m#     jl.append(simresults,jl.simulate(model, jl.Direct(),tfinal=runtime))\u001b[39;00m\n",
      "\u001b[0;31mAttributeError\u001b[0m: 'list' object has no attribute 'u'"
     ]
    }
   ],
   "source": [
    "model = bs.Network(\"multi\")  \n",
    "\n",
    "initial = 2\n",
    "\n",
    "model <= bs.Species(\"SS\",int(initial))\n",
    "model <= bs.Species(\"L1\",0)\n",
    "model <= bs.Species(\"L2\",0)\n",
    "model <= bs.Species(\"R1\",0)\n",
    "model <= bs.Species(\"R2\",0)\n",
    "model <= bs.Species(\"D\",0)\n",
    "\n",
    "kf_dl = 4e8\n",
    "nonspecific_correction = 1/5\n",
    "\n",
    "sliding_correction = 1/2\n",
    "kf_sliding = 1e7 * sliding_correction\n",
    "\n",
    "Na = 6.023e23\n",
    "\n",
    "kf_ssl1 = kf_dl*nonspecific_correction\n",
    "kb_ssl1 = 22.920792678077465 \n",
    "\n",
    "kf_ssl2 = kf_dl*nonspecific_correction\n",
    "kb_ssl2 = 0.007808225837362128\n",
    "\n",
    "kf_ssr2 = kf_dl*nonspecific_correction\n",
    "kb_ssr2 = 0.0626785751957368\n",
    "\n",
    "kf_ssr1 = kf_dl*nonspecific_correction\n",
    "kb_ssr1 = 183.99091641848813\n",
    "\n",
    "kf_ssD = kf_dl*nonspecific_correction\n",
    "kb_ssD = 6.902831840829526e-08\n",
    "\n",
    "kf_l1l2 = kf_sliding\n",
    "kb_l1l2 = 3406.6124793451313*sliding_correction\n",
    "\n",
    "kf_l2D = kf_sliding\n",
    "kb_l2D = 88.40461309148736*sliding_correction\n",
    "\n",
    "kf_r1r2 = kf_sliding\n",
    "kb_r1r2 = 3406.6124793451313*sliding_correction\n",
    "\n",
    "kf_r2D = kf_sliding\n",
    "kb_r2D = 11.01306438328072*sliding_correction\n",
    "\n",
    "model <= bs.Reaction(\"ss-l1_f\",  kf_ssl1, \"SS + SS --> L1\")\n",
    "model <= bs.Reaction(\"ss-l1_b\",  kb_ssl1, \"L1 --> SS + SS\")\n",
    "model <= bs.Reaction(\"ss-l2_f\",  kf_ssl2, \"SS + SS --> L2\")\n",
    "model <= bs.Reaction(\"ss-l2_b\",  kb_ssl2, \"L2 --> SS + SS\")\n",
    "model <= bs.Reaction(\"ss-r2_f\",  kf_ssr2, \"SS + SS --> R2\")\n",
    "model <= bs.Reaction(\"ss-r2_b\",  kb_ssr2, \"R2 --> SS + SS\")\n",
    "model <= bs.Reaction(\"ss-r1_f\",  kf_ssr1, \"SS + SS --> R1\")\n",
    "model <= bs.Reaction(\"ss-r1_b\",  kb_ssr1, \"R1 --> SS + SS\")\n",
    "model <= bs.Reaction(\"ss-D_f\",   kf_ssD, \"SS + SS --> D\")\n",
    "model <= bs.Reaction(\"ss-D_b\",   kb_ssD, \"D --> SS + SS\")\n",
    "model <= bs.Reaction(\"l1-l2_f\",  kf_l1l2, \"L1 --> L2\")\n",
    "model <= bs.Reaction(\"l1-l2_b\",  kb_l1l2, \"L2 --> L1\")\n",
    "model <= bs.Reaction(\"l2-D_f\",   kf_l2D, \"L2 --> D\")\n",
    "model <= bs.Reaction(\"l2-D_b\",   kb_l2D, \"D --> L2\")\n",
    "model <= bs.Reaction(\"r1-r2_f\",  kf_r1r2, \"R1 --> R2\")\n",
    "model <= bs.Reaction(\"r1-r2_b\",  kb_r1r2, \"R2 --> R1\")\n",
    "model <= bs.Reaction(\"r2-D_f\",   kf_r2D, \"R2 --> D\")\n",
    "model <= bs.Reaction(\"r2-D_b\",   kb_r2D, \"D --> R2\")\n",
    "\n",
    "Nmonte = 50000\n",
    "runtime = 1e-5\n",
    "\n",
    "simresults = [bs.simulate(model, jl.Direct(),tfinal=runtime) for i in range(Nmonte)]\n",
    "results = [{'c':jl.hcat(*simresults[i].u).__array__(), 't':simresults[i].t} for i in range(Nmonte)]\n",
    "# simresults = juliacall.VectorValue\n",
    "# for i in range(Nmonte):\n",
    "#     jl.append(simresults,jl.simulate(model, jl.Direct(),tfinal=runtime))\n"
   ]
  },
  {
   "cell_type": "code",
   "execution_count": null,
   "metadata": {},
   "outputs": [],
   "source": [
    "from IPython.core.interactiveshell import InteractiveShell\n",
    "InteractiveShell.ast_node_interactivity = \"all\""
   ]
  },
  {
   "cell_type": "code",
   "execution_count": null,
   "metadata": {},
   "outputs": [
    {
     "data": {
      "text/plain": [
       "array([[2, 0, 0, 0, 0, 0, 0, 0, 0],\n",
       "       [0, 0, 0, 0, 0, 0, 0, 0, 0],\n",
       "       [0, 0, 0, 0, 1, 0, 1, 0, 0],\n",
       "       [0, 1, 0, 0, 0, 0, 0, 0, 0],\n",
       "       [0, 0, 1, 0, 0, 0, 0, 0, 0],\n",
       "       [0, 0, 0, 1, 0, 1, 0, 1, 1]])"
      ]
     },
     "execution_count": 107,
     "metadata": {},
     "output_type": "execute_result"
    },
    {
     "data": {
      "text/plain": [
       "array([0, 0, 0, 1, 0, 1, 0, 1, 1])"
      ]
     },
     "execution_count": 107,
     "metadata": {},
     "output_type": "execute_result"
    },
    {
     "data": {
      "text/csv": [
       "0.0\n",
       "2.372237859220639e-9\n",
       "1.4628208175078858e-7\n",
       "3.001033672771653e-7\n",
       "0.005699058104488336\n",
       "0.005699231462495758\n",
       "0.009411363406971164\n",
       "0.009411431725315063\n",
       "0.01\n"
      ],
      "text/plain": [
       "9-element Vector{Float64}:\n",
       " 0.0\n",
       " 2.372237859220639e-9\n",
       " 1.4628208175078858e-7\n",
       " 3.001033672771653e-7\n",
       " 0.005699058104488336\n",
       " 0.005699231462495758\n",
       " 0.009411363406971164\n",
       " 0.009411431725315063\n",
       " 0.01"
      ],
      "text/tab-separated-values": [
       "0.0\n",
       "2.372237859220639e-9\n",
       "1.4628208175078858e-7\n",
       "3.001033672771653e-7\n",
       "0.005699058104488336\n",
       "0.005699231462495758\n",
       "0.009411363406971164\n",
       "0.009411431725315063\n",
       "0.01\n"
      ]
     },
     "execution_count": 107,
     "metadata": {},
     "output_type": "execute_result"
    },
    {
     "data": {
      "text/plain": [
       "(3, 3.001033672771653e-07)"
      ]
     },
     "execution_count": 107,
     "metadata": {},
     "output_type": "execute_result"
    }
   ],
   "source": [
    "#definitive routine for mfpis is detailed below\n",
    "\n",
    "index = 2\n",
    "\n",
    "results[index]['c']\n",
    "results[index]['c'][-1]\n",
    "results[index]['t']\n",
    "\n",
    "fpi = np.argmax(results[index]['c'][-1] == 1)\n",
    "\n",
    "fpi, results[index]['t'][fpi]"
   ]
  },
  {
   "cell_type": "code",
   "execution_count": null,
   "metadata": {},
   "outputs": [],
   "source": []
  },
  {
   "cell_type": "code",
   "execution_count": null,
   "metadata": {},
   "outputs": [],
   "source": [
    "# here i will keep the fastest routine i found for conversion\n",
    "for sim in range(50000):\n",
    "    # a = pd.DataFrame(simresults[sim].u)\n",
    "    a = simresults[sim].u.__array__()\n"
   ]
  },
  {
   "cell_type": "code",
   "execution_count": null,
   "metadata": {},
   "outputs": [
    {
     "data": {
      "application/json": {
       "ascii": false,
       "bar_format": null,
       "colour": null,
       "elapsed": 0.02258777618408203,
       "initial": 0,
       "n": 0,
       "ncols": null,
       "nrows": null,
       "postfix": null,
       "prefix": "",
       "rate": null,
       "total": 5000,
       "unit": "it",
       "unit_divisor": 1000,
       "unit_scale": false
      },
      "application/vnd.jupyter.widget-view+json": {
       "model_id": "69e9ed0d729144b3be728529807dfa5f",
       "version_major": 2,
       "version_minor": 0
      },
      "text/plain": [
       "  0%|          | 0/5000 [00:00<?, ?it/s]"
      ]
     },
     "metadata": {},
     "output_type": "display_data"
    },
    {
     "ename": "KeyboardInterrupt",
     "evalue": "",
     "output_type": "error",
     "traceback": [
      "\u001b[0;31m---------------------------------------------------------------------------\u001b[0m",
      "\u001b[0;31mKeyboardInterrupt\u001b[0m                         Traceback (most recent call last)",
      "Cell \u001b[0;32mIn [234], line 2\u001b[0m\n\u001b[1;32m      1\u001b[0m \u001b[39m@parfor\u001b[39;49m(\u001b[39mrange\u001b[39;49m(\u001b[39m5000\u001b[39;49m))\n\u001b[0;32m----> 2\u001b[0m \u001b[39mdef\u001b[39;49;00m \u001b[39mfun\u001b[39;49m(i):\n\u001b[1;32m      3\u001b[0m     i \u001b[39m=\u001b[39;49m pd\u001b[39m.\u001b[39;49mconcat([i, pd\u001b[39m.\u001b[39;49mDataFrame(simresults[sim]\u001b[39m.\u001b[39;49mu)])\n",
      "File \u001b[0;32m~/miniconda3/lib/python3.9/site-packages/parfor/__init__.py:233\u001b[0m, in \u001b[0;36mparfor.<locals>.decfun\u001b[0;34m(fun)\u001b[0m\n\u001b[1;32m    232\u001b[0m \u001b[39mdef\u001b[39;00m \u001b[39mdecfun\u001b[39m(fun):\n\u001b[0;32m--> 233\u001b[0m     \u001b[39mreturn\u001b[39;00m pmap(fun, \u001b[39m*\u001b[39;49margs, \u001b[39m*\u001b[39;49m\u001b[39m*\u001b[39;49mkwargs)\n",
      "File \u001b[0;32m~/miniconda3/lib/python3.9/site-packages/parfor/__init__.py:610\u001b[0m, in \u001b[0;36mpmap\u001b[0;34m(fun, iterable, args, kwargs, length, desc, bar, qbar, terminator, rP, nP, serial, qsize)\u001b[0m\n\u001b[1;32m    608\u001b[0m \u001b[39mwith\u001b[39;00m Parpool(chunk_fun, args, kwargs, rP, nP, bar, qbar, terminator, qsize) \u001b[39mas\u001b[39;00m p:\n\u001b[1;32m    609\u001b[0m     \u001b[39mfor\u001b[39;00m i, (j, l) \u001b[39min\u001b[39;00m \u001b[39menumerate\u001b[39m(\u001b[39mzip\u001b[39m(iterable, iterable\u001b[39m.\u001b[39mlengths)):  \u001b[39m# add work to the queue\u001b[39;00m\n\u001b[0;32m--> 610\u001b[0m         p(j, handle\u001b[39m=\u001b[39;49mi, barlength\u001b[39m=\u001b[39;49miterable\u001b[39m.\u001b[39;49mlengths[i])\n\u001b[1;32m    611\u001b[0m         \u001b[39mif\u001b[39;00m bar\u001b[39m.\u001b[39mtotal \u001b[39mis\u001b[39;00m \u001b[39mNone\u001b[39;00m \u001b[39mor\u001b[39;00m bar\u001b[39m.\u001b[39mtotal \u001b[39m<\u001b[39m i\u001b[39m+\u001b[39m\u001b[39m1\u001b[39m:\n\u001b[1;32m    612\u001b[0m             bar\u001b[39m.\u001b[39mtotal \u001b[39m=\u001b[39m i\u001b[39m+\u001b[39m\u001b[39m1\u001b[39m\n",
      "File \u001b[0;32m~/miniconda3/lib/python3.9/site-packages/parfor/__init__.py:419\u001b[0m, in \u001b[0;36mParpool.__call__\u001b[0;34m(self, n, fun, args, kwargs, handle, barlength)\u001b[0m\n\u001b[1;32m    417\u001b[0m \u001b[39m\"\"\" Add new iteration, using optional manually defined handle.\"\"\"\u001b[39;00m\n\u001b[1;32m    418\u001b[0m \u001b[39mif\u001b[39;00m \u001b[39mself\u001b[39m\u001b[39m.\u001b[39mis_alive \u001b[39mand\u001b[39;00m \u001b[39mnot\u001b[39;00m \u001b[39mself\u001b[39m\u001b[39m.\u001b[39mevent\u001b[39m.\u001b[39mis_set():\n\u001b[0;32m--> 419\u001b[0m     \u001b[39mself\u001b[39m\u001b[39m.\u001b[39mtask \u001b[39m=\u001b[39m Task(fun \u001b[39mor\u001b[39;49;00m \u001b[39mself\u001b[39;49m\u001b[39m.\u001b[39;49mtask\u001b[39m.\u001b[39;49mfun, args \u001b[39mor\u001b[39;49;00m \u001b[39mself\u001b[39;49m\u001b[39m.\u001b[39;49mtask\u001b[39m.\u001b[39;49margs, kwargs \u001b[39mor\u001b[39;49;00m \u001b[39mself\u001b[39;49m\u001b[39m.\u001b[39;49mtask\u001b[39m.\u001b[39;49mkwargs, handle, n)\n\u001b[1;32m    420\u001b[0m     \u001b[39mwhile\u001b[39;00m \u001b[39mself\u001b[39m\u001b[39m.\u001b[39mqueue_in\u001b[39m.\u001b[39mfull():\n\u001b[1;32m    421\u001b[0m         \u001b[39mself\u001b[39m\u001b[39m.\u001b[39m_get_from_queue()\n",
      "File \u001b[0;32m~/miniconda3/lib/python3.9/site-packages/parfor/__init__.py:298\u001b[0m, in \u001b[0;36mTask.__init__\u001b[0;34m(self, fun, args, kwargs, handle, n, done, result)\u001b[0m\n\u001b[1;32m    297\u001b[0m \u001b[39mdef\u001b[39;00m \u001b[39m__init__\u001b[39m(\u001b[39mself\u001b[39m, fun\u001b[39m=\u001b[39m\u001b[39mNone\u001b[39;00m, args\u001b[39m=\u001b[39m\u001b[39mNone\u001b[39;00m, kwargs\u001b[39m=\u001b[39m\u001b[39mNone\u001b[39;00m, handle\u001b[39m=\u001b[39m\u001b[39mNone\u001b[39;00m, n\u001b[39m=\u001b[39m\u001b[39mNone\u001b[39;00m, done\u001b[39m=\u001b[39m\u001b[39mFalse\u001b[39;00m, result\u001b[39m=\u001b[39m\u001b[39mNone\u001b[39;00m):\n\u001b[0;32m--> 298\u001b[0m     \u001b[39mself\u001b[39m\u001b[39m.\u001b[39mfun \u001b[39m=\u001b[39m fun \u001b[39mor\u001b[39;00m (\u001b[39mlambda\u001b[39;00m \u001b[39m*\u001b[39margs, \u001b[39m*\u001b[39m\u001b[39m*\u001b[39mkwargs: \u001b[39mNone\u001b[39;00m)\n\u001b[1;32m    299\u001b[0m     \u001b[39mself\u001b[39m\u001b[39m.\u001b[39margs \u001b[39m=\u001b[39m args \u001b[39mor\u001b[39;00m ()\n\u001b[1;32m    300\u001b[0m     \u001b[39mself\u001b[39m\u001b[39m.\u001b[39mkwargs \u001b[39m=\u001b[39m kwargs \u001b[39mor\u001b[39;00m {}\n",
      "File \u001b[0;32m~/miniconda3/lib/python3.9/site-packages/parfor/__init__.py:268\u001b[0m, in \u001b[0;36mHashDescriptor.__set__\u001b[0;34m(self, instance, value)\u001b[0m\n\u001b[1;32m    266\u001b[0m     \u001b[39msetattr\u001b[39m(instance, \u001b[39mself\u001b[39m\u001b[39m.\u001b[39mname, value)\n\u001b[1;32m    267\u001b[0m \u001b[39melse\u001b[39;00m:\n\u001b[0;32m--> 268\u001b[0m     \u001b[39msetattr\u001b[39m(instance, \u001b[39mself\u001b[39m\u001b[39m.\u001b[39mname, Hasher(value))\n",
      "File \u001b[0;32m~/miniconda3/lib/python3.9/site-packages/parfor/__init__.py:245\u001b[0m, in \u001b[0;36mHasher.__init__\u001b[0;34m(self, obj, hsh)\u001b[0m\n\u001b[1;32m    243\u001b[0m \u001b[39melse\u001b[39;00m:\n\u001b[1;32m    244\u001b[0m     \u001b[39mself\u001b[39m\u001b[39m.\u001b[39mobj \u001b[39m=\u001b[39m obj\n\u001b[0;32m--> 245\u001b[0m     \u001b[39mself\u001b[39m\u001b[39m.\u001b[39mstr \u001b[39m=\u001b[39m dumps(\u001b[39mself\u001b[39;49m\u001b[39m.\u001b[39;49mobj, recurse\u001b[39m=\u001b[39;49m\u001b[39mTrue\u001b[39;49;00m)\n\u001b[1;32m    246\u001b[0m     \u001b[39mself\u001b[39m\u001b[39m.\u001b[39mhash \u001b[39m=\u001b[39m \u001b[39mhash\u001b[39m(\u001b[39mself\u001b[39m\u001b[39m.\u001b[39mstr)\n",
      "File \u001b[0;32m~/miniconda3/lib/python3.9/site-packages/parfor/pickler.py:102\u001b[0m, in \u001b[0;36mdumps\u001b[0;34m(obj, protocol, byref, fmode, recurse, **kwds)\u001b[0m\n\u001b[1;32m    100\u001b[0m _kwds\u001b[39m.\u001b[39mupdate(\u001b[39mdict\u001b[39m(byref\u001b[39m=\u001b[39mbyref, fmode\u001b[39m=\u001b[39mfmode, recurse\u001b[39m=\u001b[39mrecurse))\n\u001b[1;32m    101\u001b[0m file \u001b[39m=\u001b[39m BytesIO()\n\u001b[0;32m--> 102\u001b[0m Pickler(file, protocol, \u001b[39m*\u001b[39;49m\u001b[39m*\u001b[39;49m_kwds)\u001b[39m.\u001b[39;49mdump(obj)\n\u001b[1;32m    103\u001b[0m \u001b[39mreturn\u001b[39;00m file\u001b[39m.\u001b[39mgetvalue()\n",
      "File \u001b[0;32m~/miniconda3/lib/python3.9/site-packages/dill/_dill.py:394\u001b[0m, in \u001b[0;36mPickler.dump\u001b[0;34m(self, obj)\u001b[0m\n\u001b[1;32m    392\u001b[0m \u001b[39mdef\u001b[39;00m \u001b[39mdump\u001b[39m(\u001b[39mself\u001b[39m, obj): \u001b[39m#NOTE: if settings change, need to update attributes\u001b[39;00m\n\u001b[1;32m    393\u001b[0m     logger\u001b[39m.\u001b[39mtrace_setup(\u001b[39mself\u001b[39m)\n\u001b[0;32m--> 394\u001b[0m     StockPickler\u001b[39m.\u001b[39;49mdump(\u001b[39mself\u001b[39;49m, obj)\n",
      "File \u001b[0;32m~/miniconda3/lib/python3.9/pickle.py:487\u001b[0m, in \u001b[0;36m_Pickler.dump\u001b[0;34m(self, obj)\u001b[0m\n\u001b[1;32m    485\u001b[0m \u001b[39mif\u001b[39;00m \u001b[39mself\u001b[39m\u001b[39m.\u001b[39mproto \u001b[39m>\u001b[39m\u001b[39m=\u001b[39m \u001b[39m4\u001b[39m:\n\u001b[1;32m    486\u001b[0m     \u001b[39mself\u001b[39m\u001b[39m.\u001b[39mframer\u001b[39m.\u001b[39mstart_framing()\n\u001b[0;32m--> 487\u001b[0m \u001b[39mself\u001b[39;49m\u001b[39m.\u001b[39;49msave(obj)\n\u001b[1;32m    488\u001b[0m \u001b[39mself\u001b[39m\u001b[39m.\u001b[39mwrite(STOP)\n\u001b[1;32m    489\u001b[0m \u001b[39mself\u001b[39m\u001b[39m.\u001b[39mframer\u001b[39m.\u001b[39mend_framing()\n",
      "File \u001b[0;32m~/miniconda3/lib/python3.9/site-packages/parfor/pickler.py:41\u001b[0m, in \u001b[0;36mPickler.save\u001b[0;34m(self, obj, save_persistent_id)\u001b[0m\n\u001b[1;32m     39\u001b[0m f \u001b[39m=\u001b[39m \u001b[39mself\u001b[39m\u001b[39m.\u001b[39mdispatch\u001b[39m.\u001b[39mget(t)\n\u001b[1;32m     40\u001b[0m \u001b[39mif\u001b[39;00m f \u001b[39mis\u001b[39;00m \u001b[39mnot\u001b[39;00m \u001b[39mNone\u001b[39;00m:\n\u001b[0;32m---> 41\u001b[0m     f(\u001b[39mself\u001b[39;49m, obj)  \u001b[39m# Call unbound method with explicit self\u001b[39;00m\n\u001b[1;32m     42\u001b[0m     \u001b[39mreturn\u001b[39;00m\n\u001b[1;32m     44\u001b[0m \u001b[39m# Check private dispatch table if any, or else\u001b[39;00m\n\u001b[1;32m     45\u001b[0m \u001b[39m# copyreg.dispatch_table\u001b[39;00m\n",
      "File \u001b[0;32m~/miniconda3/lib/python3.9/site-packages/dill/_dill.py:1824\u001b[0m, in \u001b[0;36msave_function\u001b[0;34m(pickler, obj)\u001b[0m\n\u001b[1;32m   1821\u001b[0m \u001b[39mif\u001b[39;00m state_dict:\n\u001b[1;32m   1822\u001b[0m     state \u001b[39m=\u001b[39m state, state_dict\n\u001b[0;32m-> 1824\u001b[0m _save_with_postproc(pickler, (_create_function, (\n\u001b[1;32m   1825\u001b[0m         obj\u001b[39m.\u001b[39;49m\u001b[39m__code__\u001b[39;49m, globs, obj\u001b[39m.\u001b[39;49m\u001b[39m__name__\u001b[39;49m, obj\u001b[39m.\u001b[39;49m\u001b[39m__defaults__\u001b[39;49m,\n\u001b[1;32m   1826\u001b[0m         closure\n\u001b[1;32m   1827\u001b[0m ), state), obj\u001b[39m=\u001b[39;49mobj, postproc_list\u001b[39m=\u001b[39;49mpostproc_list)\n\u001b[1;32m   1829\u001b[0m \u001b[39m# Lift closure cell update to earliest function (#458)\u001b[39;00m\n\u001b[1;32m   1830\u001b[0m \u001b[39mif\u001b[39;00m _postproc:\n",
      "File \u001b[0;32m~/miniconda3/lib/python3.9/site-packages/dill/_dill.py:1089\u001b[0m, in \u001b[0;36m_save_with_postproc\u001b[0;34m(pickler, reduction, is_pickler_dill, obj, postproc_list)\u001b[0m\n\u001b[1;32m   1087\u001b[0m         \u001b[39mcontinue\u001b[39;00m\n\u001b[1;32m   1088\u001b[0m \u001b[39melse\u001b[39;00m:\n\u001b[0;32m-> 1089\u001b[0m     pickler\u001b[39m.\u001b[39;49msave_reduce(\u001b[39m*\u001b[39;49mreduction)\n\u001b[1;32m   1090\u001b[0m \u001b[39m# pop None created by calling preprocessing step off stack\u001b[39;00m\n\u001b[1;32m   1091\u001b[0m pickler\u001b[39m.\u001b[39mwrite(\u001b[39mbytes\u001b[39m(\u001b[39m'\u001b[39m\u001b[39m0\u001b[39m\u001b[39m'\u001b[39m, \u001b[39m'\u001b[39m\u001b[39mUTF-8\u001b[39m\u001b[39m'\u001b[39m))\n",
      "File \u001b[0;32m~/miniconda3/lib/python3.9/pickle.py:692\u001b[0m, in \u001b[0;36m_Pickler.save_reduce\u001b[0;34m(self, func, args, state, listitems, dictitems, state_setter, obj)\u001b[0m\n\u001b[1;32m    690\u001b[0m \u001b[39melse\u001b[39;00m:\n\u001b[1;32m    691\u001b[0m     save(func)\n\u001b[0;32m--> 692\u001b[0m     save(args)\n\u001b[1;32m    693\u001b[0m     write(REDUCE)\n\u001b[1;32m    695\u001b[0m \u001b[39mif\u001b[39;00m obj \u001b[39mis\u001b[39;00m \u001b[39mnot\u001b[39;00m \u001b[39mNone\u001b[39;00m:\n\u001b[1;32m    696\u001b[0m     \u001b[39m# If the object is already in the memo, this means it is\u001b[39;00m\n\u001b[1;32m    697\u001b[0m     \u001b[39m# recursive. In this case, throw away everything we put on the\u001b[39;00m\n\u001b[1;32m    698\u001b[0m     \u001b[39m# stack, and fetch the object back from the memo.\u001b[39;00m\n",
      "File \u001b[0;32m~/miniconda3/lib/python3.9/site-packages/parfor/pickler.py:41\u001b[0m, in \u001b[0;36mPickler.save\u001b[0;34m(self, obj, save_persistent_id)\u001b[0m\n\u001b[1;32m     39\u001b[0m f \u001b[39m=\u001b[39m \u001b[39mself\u001b[39m\u001b[39m.\u001b[39mdispatch\u001b[39m.\u001b[39mget(t)\n\u001b[1;32m     40\u001b[0m \u001b[39mif\u001b[39;00m f \u001b[39mis\u001b[39;00m \u001b[39mnot\u001b[39;00m \u001b[39mNone\u001b[39;00m:\n\u001b[0;32m---> 41\u001b[0m     f(\u001b[39mself\u001b[39;49m, obj)  \u001b[39m# Call unbound method with explicit self\u001b[39;00m\n\u001b[1;32m     42\u001b[0m     \u001b[39mreturn\u001b[39;00m\n\u001b[1;32m     44\u001b[0m \u001b[39m# Check private dispatch table if any, or else\u001b[39;00m\n\u001b[1;32m     45\u001b[0m \u001b[39m# copyreg.dispatch_table\u001b[39;00m\n",
      "File \u001b[0;32m~/miniconda3/lib/python3.9/pickle.py:886\u001b[0m, in \u001b[0;36m_Pickler.save_tuple\u001b[0;34m(self, obj)\u001b[0m\n\u001b[1;32m    884\u001b[0m \u001b[39mif\u001b[39;00m n \u001b[39m<\u001b[39m\u001b[39m=\u001b[39m \u001b[39m3\u001b[39m \u001b[39mand\u001b[39;00m \u001b[39mself\u001b[39m\u001b[39m.\u001b[39mproto \u001b[39m>\u001b[39m\u001b[39m=\u001b[39m \u001b[39m2\u001b[39m:\n\u001b[1;32m    885\u001b[0m     \u001b[39mfor\u001b[39;00m element \u001b[39min\u001b[39;00m obj:\n\u001b[0;32m--> 886\u001b[0m         save(element)\n\u001b[1;32m    887\u001b[0m     \u001b[39m# Subtle.  Same as in the big comment below.\u001b[39;00m\n\u001b[1;32m    888\u001b[0m     \u001b[39mif\u001b[39;00m \u001b[39mid\u001b[39m(obj) \u001b[39min\u001b[39;00m memo:\n",
      "File \u001b[0;32m~/miniconda3/lib/python3.9/site-packages/parfor/pickler.py:41\u001b[0m, in \u001b[0;36mPickler.save\u001b[0;34m(self, obj, save_persistent_id)\u001b[0m\n\u001b[1;32m     39\u001b[0m f \u001b[39m=\u001b[39m \u001b[39mself\u001b[39m\u001b[39m.\u001b[39mdispatch\u001b[39m.\u001b[39mget(t)\n\u001b[1;32m     40\u001b[0m \u001b[39mif\u001b[39;00m f \u001b[39mis\u001b[39;00m \u001b[39mnot\u001b[39;00m \u001b[39mNone\u001b[39;00m:\n\u001b[0;32m---> 41\u001b[0m     f(\u001b[39mself\u001b[39;49m, obj)  \u001b[39m# Call unbound method with explicit self\u001b[39;00m\n\u001b[1;32m     42\u001b[0m     \u001b[39mreturn\u001b[39;00m\n\u001b[1;32m     44\u001b[0m \u001b[39m# Check private dispatch table if any, or else\u001b[39;00m\n\u001b[1;32m     45\u001b[0m \u001b[39m# copyreg.dispatch_table\u001b[39;00m\n",
      "File \u001b[0;32m~/miniconda3/lib/python3.9/site-packages/dill/_dill.py:1824\u001b[0m, in \u001b[0;36msave_function\u001b[0;34m(pickler, obj)\u001b[0m\n\u001b[1;32m   1821\u001b[0m \u001b[39mif\u001b[39;00m state_dict:\n\u001b[1;32m   1822\u001b[0m     state \u001b[39m=\u001b[39m state, state_dict\n\u001b[0;32m-> 1824\u001b[0m _save_with_postproc(pickler, (_create_function, (\n\u001b[1;32m   1825\u001b[0m         obj\u001b[39m.\u001b[39;49m\u001b[39m__code__\u001b[39;49m, globs, obj\u001b[39m.\u001b[39;49m\u001b[39m__name__\u001b[39;49m, obj\u001b[39m.\u001b[39;49m\u001b[39m__defaults__\u001b[39;49m,\n\u001b[1;32m   1826\u001b[0m         closure\n\u001b[1;32m   1827\u001b[0m ), state), obj\u001b[39m=\u001b[39;49mobj, postproc_list\u001b[39m=\u001b[39;49mpostproc_list)\n\u001b[1;32m   1829\u001b[0m \u001b[39m# Lift closure cell update to earliest function (#458)\u001b[39;00m\n\u001b[1;32m   1830\u001b[0m \u001b[39mif\u001b[39;00m _postproc:\n",
      "File \u001b[0;32m~/miniconda3/lib/python3.9/site-packages/dill/_dill.py:1084\u001b[0m, in \u001b[0;36m_save_with_postproc\u001b[0;34m(pickler, reduction, is_pickler_dill, obj, postproc_list)\u001b[0m\n\u001b[1;32m   1082\u001b[0m \u001b[39mif\u001b[39;00m source:\n\u001b[1;32m   1083\u001b[0m     pickler\u001b[39m.\u001b[39mwrite(pickler\u001b[39m.\u001b[39mget(pickler\u001b[39m.\u001b[39mmemo[\u001b[39mid\u001b[39m(dest)][\u001b[39m0\u001b[39m]))\n\u001b[0;32m-> 1084\u001b[0m     pickler\u001b[39m.\u001b[39;49m_batch_setitems(\u001b[39miter\u001b[39;49m(source\u001b[39m.\u001b[39;49mitems()))\n\u001b[1;32m   1085\u001b[0m \u001b[39melse\u001b[39;00m:\n\u001b[1;32m   1086\u001b[0m     \u001b[39m# Updating with an empty dictionary. Same as doing nothing.\u001b[39;00m\n\u001b[1;32m   1087\u001b[0m     \u001b[39mcontinue\u001b[39;00m\n",
      "File \u001b[0;32m~/miniconda3/lib/python3.9/pickle.py:997\u001b[0m, in \u001b[0;36m_Pickler._batch_setitems\u001b[0;34m(self, items)\u001b[0m\n\u001b[1;32m    995\u001b[0m     \u001b[39mfor\u001b[39;00m k, v \u001b[39min\u001b[39;00m tmp:\n\u001b[1;32m    996\u001b[0m         save(k)\n\u001b[0;32m--> 997\u001b[0m         save(v)\n\u001b[1;32m    998\u001b[0m     write(SETITEMS)\n\u001b[1;32m    999\u001b[0m \u001b[39melif\u001b[39;00m n:\n",
      "File \u001b[0;32m~/miniconda3/lib/python3.9/site-packages/parfor/pickler.py:41\u001b[0m, in \u001b[0;36mPickler.save\u001b[0;34m(self, obj, save_persistent_id)\u001b[0m\n\u001b[1;32m     39\u001b[0m f \u001b[39m=\u001b[39m \u001b[39mself\u001b[39m\u001b[39m.\u001b[39mdispatch\u001b[39m.\u001b[39mget(t)\n\u001b[1;32m     40\u001b[0m \u001b[39mif\u001b[39;00m f \u001b[39mis\u001b[39;00m \u001b[39mnot\u001b[39;00m \u001b[39mNone\u001b[39;00m:\n\u001b[0;32m---> 41\u001b[0m     f(\u001b[39mself\u001b[39;49m, obj)  \u001b[39m# Call unbound method with explicit self\u001b[39;00m\n\u001b[1;32m     42\u001b[0m     \u001b[39mreturn\u001b[39;00m\n\u001b[1;32m     44\u001b[0m \u001b[39m# Check private dispatch table if any, or else\u001b[39;00m\n\u001b[1;32m     45\u001b[0m \u001b[39m# copyreg.dispatch_table\u001b[39;00m\n",
      "File \u001b[0;32m~/miniconda3/lib/python3.9/pickle.py:931\u001b[0m, in \u001b[0;36m_Pickler.save_list\u001b[0;34m(self, obj)\u001b[0m\n\u001b[1;32m    928\u001b[0m     \u001b[39mself\u001b[39m\u001b[39m.\u001b[39mwrite(MARK \u001b[39m+\u001b[39m LIST)\n\u001b[1;32m    930\u001b[0m \u001b[39mself\u001b[39m\u001b[39m.\u001b[39mmemoize(obj)\n\u001b[0;32m--> 931\u001b[0m \u001b[39mself\u001b[39;49m\u001b[39m.\u001b[39;49m_batch_appends(obj)\n",
      "File \u001b[0;32m~/miniconda3/lib/python3.9/pickle.py:955\u001b[0m, in \u001b[0;36m_Pickler._batch_appends\u001b[0;34m(self, items)\u001b[0m\n\u001b[1;32m    953\u001b[0m     write(MARK)\n\u001b[1;32m    954\u001b[0m     \u001b[39mfor\u001b[39;00m x \u001b[39min\u001b[39;00m tmp:\n\u001b[0;32m--> 955\u001b[0m         save(x)\n\u001b[1;32m    956\u001b[0m     write(APPENDS)\n\u001b[1;32m    957\u001b[0m \u001b[39melif\u001b[39;00m n:\n",
      "File \u001b[0;32m~/miniconda3/lib/python3.9/site-packages/parfor/pickler.py:60\u001b[0m, in \u001b[0;36mPickler.save\u001b[0;34m(self, obj, save_persistent_id)\u001b[0m\n\u001b[1;32m     58\u001b[0m \u001b[39mtry\u001b[39;00m:\n\u001b[1;32m     59\u001b[0m     \u001b[39mif\u001b[39;00m reduce \u001b[39mis\u001b[39;00m \u001b[39mnot\u001b[39;00m \u001b[39mNone\u001b[39;00m:\n\u001b[0;32m---> 60\u001b[0m         rv \u001b[39m=\u001b[39m reduce(\u001b[39mself\u001b[39;49m\u001b[39m.\u001b[39;49mproto)\n\u001b[1;32m     61\u001b[0m     \u001b[39melse\u001b[39;00m:\n\u001b[1;32m     62\u001b[0m         reduce \u001b[39m=\u001b[39m \u001b[39mgetattr\u001b[39m(obj, \u001b[39m\"\u001b[39m\u001b[39m__reduce__\u001b[39m\u001b[39m\"\u001b[39m, \u001b[39mNone\u001b[39;00m)\n",
      "\u001b[0;31mKeyboardInterrupt\u001b[0m: "
     ]
    }
   ],
   "source": [
    "@parfor(range(5000))\n",
    "def fun(i):\n",
    "    i = pd.concat([i, pd.DataFrame(simresults[sim].u)])"
   ]
  },
  {
   "cell_type": "code",
   "execution_count": null,
   "metadata": {},
   "outputs": [
    {
     "data": {
      "text/html": [
       "<div>\n",
       "<style scoped>\n",
       "    .dataframe tbody tr th:only-of-type {\n",
       "        vertical-align: middle;\n",
       "    }\n",
       "\n",
       "    .dataframe tbody tr th {\n",
       "        vertical-align: top;\n",
       "    }\n",
       "\n",
       "    .dataframe thead th {\n",
       "        text-align: right;\n",
       "    }\n",
       "</style>\n",
       "<table border=\"1\" class=\"dataframe\">\n",
       "  <thead>\n",
       "    <tr style=\"text-align: right;\">\n",
       "      <th></th>\n",
       "      <th>0</th>\n",
       "      <th>1</th>\n",
       "      <th>2</th>\n",
       "      <th>3</th>\n",
       "      <th>4</th>\n",
       "      <th>5</th>\n",
       "    </tr>\n",
       "  </thead>\n",
       "  <tbody>\n",
       "    <tr>\n",
       "      <th>0</th>\n",
       "      <td>2</td>\n",
       "      <td>0</td>\n",
       "      <td>0</td>\n",
       "      <td>0</td>\n",
       "      <td>0</td>\n",
       "      <td>0</td>\n",
       "    </tr>\n",
       "    <tr>\n",
       "      <th>1</th>\n",
       "      <td>0</td>\n",
       "      <td>0</td>\n",
       "      <td>0</td>\n",
       "      <td>1</td>\n",
       "      <td>0</td>\n",
       "      <td>0</td>\n",
       "    </tr>\n",
       "    <tr>\n",
       "      <th>2</th>\n",
       "      <td>0</td>\n",
       "      <td>0</td>\n",
       "      <td>0</td>\n",
       "      <td>0</td>\n",
       "      <td>1</td>\n",
       "      <td>0</td>\n",
       "    </tr>\n",
       "    <tr>\n",
       "      <th>3</th>\n",
       "      <td>0</td>\n",
       "      <td>0</td>\n",
       "      <td>0</td>\n",
       "      <td>0</td>\n",
       "      <td>0</td>\n",
       "      <td>1</td>\n",
       "    </tr>\n",
       "    <tr>\n",
       "      <th>4</th>\n",
       "      <td>0</td>\n",
       "      <td>0</td>\n",
       "      <td>0</td>\n",
       "      <td>0</td>\n",
       "      <td>0</td>\n",
       "      <td>1</td>\n",
       "    </tr>\n",
       "    <tr>\n",
       "      <th>0</th>\n",
       "      <td>2</td>\n",
       "      <td>0</td>\n",
       "      <td>0</td>\n",
       "      <td>0</td>\n",
       "      <td>0</td>\n",
       "      <td>0</td>\n",
       "    </tr>\n",
       "    <tr>\n",
       "      <th>1</th>\n",
       "      <td>0</td>\n",
       "      <td>0</td>\n",
       "      <td>0</td>\n",
       "      <td>0</td>\n",
       "      <td>1</td>\n",
       "      <td>0</td>\n",
       "    </tr>\n",
       "    <tr>\n",
       "      <th>2</th>\n",
       "      <td>0</td>\n",
       "      <td>0</td>\n",
       "      <td>0</td>\n",
       "      <td>0</td>\n",
       "      <td>0</td>\n",
       "      <td>1</td>\n",
       "    </tr>\n",
       "    <tr>\n",
       "      <th>3</th>\n",
       "      <td>0</td>\n",
       "      <td>0</td>\n",
       "      <td>0</td>\n",
       "      <td>0</td>\n",
       "      <td>0</td>\n",
       "      <td>1</td>\n",
       "    </tr>\n",
       "    <tr>\n",
       "      <th>0</th>\n",
       "      <td>2</td>\n",
       "      <td>0</td>\n",
       "      <td>0</td>\n",
       "      <td>0</td>\n",
       "      <td>0</td>\n",
       "      <td>0</td>\n",
       "    </tr>\n",
       "    <tr>\n",
       "      <th>1</th>\n",
       "      <td>0</td>\n",
       "      <td>0</td>\n",
       "      <td>0</td>\n",
       "      <td>1</td>\n",
       "      <td>0</td>\n",
       "      <td>0</td>\n",
       "    </tr>\n",
       "    <tr>\n",
       "      <th>2</th>\n",
       "      <td>0</td>\n",
       "      <td>0</td>\n",
       "      <td>0</td>\n",
       "      <td>0</td>\n",
       "      <td>1</td>\n",
       "      <td>0</td>\n",
       "    </tr>\n",
       "    <tr>\n",
       "      <th>3</th>\n",
       "      <td>0</td>\n",
       "      <td>0</td>\n",
       "      <td>0</td>\n",
       "      <td>0</td>\n",
       "      <td>0</td>\n",
       "      <td>1</td>\n",
       "    </tr>\n",
       "    <tr>\n",
       "      <th>4</th>\n",
       "      <td>0</td>\n",
       "      <td>0</td>\n",
       "      <td>1</td>\n",
       "      <td>0</td>\n",
       "      <td>0</td>\n",
       "      <td>0</td>\n",
       "    </tr>\n",
       "    <tr>\n",
       "      <th>5</th>\n",
       "      <td>0</td>\n",
       "      <td>0</td>\n",
       "      <td>0</td>\n",
       "      <td>0</td>\n",
       "      <td>0</td>\n",
       "      <td>1</td>\n",
       "    </tr>\n",
       "    <tr>\n",
       "      <th>6</th>\n",
       "      <td>0</td>\n",
       "      <td>0</td>\n",
       "      <td>0</td>\n",
       "      <td>0</td>\n",
       "      <td>0</td>\n",
       "      <td>1</td>\n",
       "    </tr>\n",
       "    <tr>\n",
       "      <th>0</th>\n",
       "      <td>2</td>\n",
       "      <td>0</td>\n",
       "      <td>0</td>\n",
       "      <td>0</td>\n",
       "      <td>0</td>\n",
       "      <td>0</td>\n",
       "    </tr>\n",
       "    <tr>\n",
       "      <th>1</th>\n",
       "      <td>0</td>\n",
       "      <td>0</td>\n",
       "      <td>0</td>\n",
       "      <td>0</td>\n",
       "      <td>0</td>\n",
       "      <td>1</td>\n",
       "    </tr>\n",
       "    <tr>\n",
       "      <th>2</th>\n",
       "      <td>0</td>\n",
       "      <td>0</td>\n",
       "      <td>0</td>\n",
       "      <td>0</td>\n",
       "      <td>0</td>\n",
       "      <td>1</td>\n",
       "    </tr>\n",
       "    <tr>\n",
       "      <th>0</th>\n",
       "      <td>2</td>\n",
       "      <td>0</td>\n",
       "      <td>0</td>\n",
       "      <td>0</td>\n",
       "      <td>0</td>\n",
       "      <td>0</td>\n",
       "    </tr>\n",
       "    <tr>\n",
       "      <th>1</th>\n",
       "      <td>0</td>\n",
       "      <td>0</td>\n",
       "      <td>1</td>\n",
       "      <td>0</td>\n",
       "      <td>0</td>\n",
       "      <td>0</td>\n",
       "    </tr>\n",
       "    <tr>\n",
       "      <th>2</th>\n",
       "      <td>0</td>\n",
       "      <td>0</td>\n",
       "      <td>0</td>\n",
       "      <td>0</td>\n",
       "      <td>0</td>\n",
       "      <td>1</td>\n",
       "    </tr>\n",
       "    <tr>\n",
       "      <th>3</th>\n",
       "      <td>0</td>\n",
       "      <td>0</td>\n",
       "      <td>0</td>\n",
       "      <td>0</td>\n",
       "      <td>0</td>\n",
       "      <td>1</td>\n",
       "    </tr>\n",
       "    <tr>\n",
       "      <th>0</th>\n",
       "      <td>2</td>\n",
       "      <td>0</td>\n",
       "      <td>0</td>\n",
       "      <td>0</td>\n",
       "      <td>0</td>\n",
       "      <td>0</td>\n",
       "    </tr>\n",
       "    <tr>\n",
       "      <th>1</th>\n",
       "      <td>0</td>\n",
       "      <td>0</td>\n",
       "      <td>0</td>\n",
       "      <td>1</td>\n",
       "      <td>0</td>\n",
       "      <td>0</td>\n",
       "    </tr>\n",
       "    <tr>\n",
       "      <th>2</th>\n",
       "      <td>0</td>\n",
       "      <td>0</td>\n",
       "      <td>0</td>\n",
       "      <td>0</td>\n",
       "      <td>1</td>\n",
       "      <td>0</td>\n",
       "    </tr>\n",
       "    <tr>\n",
       "      <th>3</th>\n",
       "      <td>0</td>\n",
       "      <td>0</td>\n",
       "      <td>0</td>\n",
       "      <td>0</td>\n",
       "      <td>0</td>\n",
       "      <td>1</td>\n",
       "    </tr>\n",
       "    <tr>\n",
       "      <th>4</th>\n",
       "      <td>0</td>\n",
       "      <td>0</td>\n",
       "      <td>0</td>\n",
       "      <td>0</td>\n",
       "      <td>0</td>\n",
       "      <td>1</td>\n",
       "    </tr>\n",
       "  </tbody>\n",
       "</table>\n",
       "</div>"
      ],
      "text/plain": [
       "   0  1  2  3  4  5\n",
       "0  2  0  0  0  0  0\n",
       "1  0  0  0  1  0  0\n",
       "2  0  0  0  0  1  0\n",
       "3  0  0  0  0  0  1\n",
       "4  0  0  0  0  0  1\n",
       "0  2  0  0  0  0  0\n",
       "1  0  0  0  0  1  0\n",
       "2  0  0  0  0  0  1\n",
       "3  0  0  0  0  0  1\n",
       "0  2  0  0  0  0  0\n",
       "1  0  0  0  1  0  0\n",
       "2  0  0  0  0  1  0\n",
       "3  0  0  0  0  0  1\n",
       "4  0  0  1  0  0  0\n",
       "5  0  0  0  0  0  1\n",
       "6  0  0  0  0  0  1\n",
       "0  2  0  0  0  0  0\n",
       "1  0  0  0  0  0  1\n",
       "2  0  0  0  0  0  1\n",
       "0  2  0  0  0  0  0\n",
       "1  0  0  1  0  0  0\n",
       "2  0  0  0  0  0  1\n",
       "3  0  0  0  0  0  1\n",
       "0  2  0  0  0  0  0\n",
       "1  0  0  0  1  0  0\n",
       "2  0  0  0  0  1  0\n",
       "3  0  0  0  0  0  1\n",
       "4  0  0  0  0  0  1"
      ]
     },
     "execution_count": 228,
     "metadata": {},
     "output_type": "execute_result"
    }
   ],
   "source": [
    "a"
   ]
  },
  {
   "cell_type": "code",
   "execution_count": null,
   "metadata": {},
   "outputs": [
    {
     "data": {
      "text/html": [
       "<div>\n",
       "<style scoped>\n",
       "    .dataframe tbody tr th:only-of-type {\n",
       "        vertical-align: middle;\n",
       "    }\n",
       "\n",
       "    .dataframe tbody tr th {\n",
       "        vertical-align: top;\n",
       "    }\n",
       "\n",
       "    .dataframe thead th {\n",
       "        text-align: right;\n",
       "    }\n",
       "</style>\n",
       "<table border=\"1\" class=\"dataframe\">\n",
       "  <thead>\n",
       "    <tr style=\"text-align: right;\">\n",
       "      <th></th>\n",
       "      <th>0</th>\n",
       "      <th>1</th>\n",
       "      <th>2</th>\n",
       "      <th>3</th>\n",
       "      <th>4</th>\n",
       "      <th>5</th>\n",
       "    </tr>\n",
       "  </thead>\n",
       "  <tbody>\n",
       "    <tr>\n",
       "      <th>0</th>\n",
       "      <td>2</td>\n",
       "      <td>0</td>\n",
       "      <td>0</td>\n",
       "      <td>0</td>\n",
       "      <td>0</td>\n",
       "      <td>0</td>\n",
       "    </tr>\n",
       "    <tr>\n",
       "      <th>1</th>\n",
       "      <td>0</td>\n",
       "      <td>0</td>\n",
       "      <td>0</td>\n",
       "      <td>0</td>\n",
       "      <td>1</td>\n",
       "      <td>0</td>\n",
       "    </tr>\n",
       "    <tr>\n",
       "      <th>2</th>\n",
       "      <td>0</td>\n",
       "      <td>0</td>\n",
       "      <td>0</td>\n",
       "      <td>0</td>\n",
       "      <td>0</td>\n",
       "      <td>1</td>\n",
       "    </tr>\n",
       "    <tr>\n",
       "      <th>3</th>\n",
       "      <td>0</td>\n",
       "      <td>0</td>\n",
       "      <td>0</td>\n",
       "      <td>0</td>\n",
       "      <td>0</td>\n",
       "      <td>1</td>\n",
       "    </tr>\n",
       "  </tbody>\n",
       "</table>\n",
       "</div>"
      ],
      "text/plain": [
       "   0  1  2  3  4  5\n",
       "0  2  0  0  0  0  0\n",
       "1  0  0  0  0  1  0\n",
       "2  0  0  0  0  0  1\n",
       "3  0  0  0  0  0  1"
      ]
     },
     "execution_count": 205,
     "metadata": {},
     "output_type": "execute_result"
    }
   ],
   "source": [
    "pd.DataFrame(simresults[0].u)"
   ]
  },
  {
   "cell_type": "code",
   "execution_count": null,
   "metadata": {},
   "outputs": [
    {
     "data": {
      "text/plain": [
       "numpy.ndarray"
      ]
     },
     "execution_count": 159,
     "metadata": {},
     "output_type": "execute_result"
    },
    {
     "data": {
      "text/csv": [
       "0\n",
       "0\n",
       "0\n",
       "0\n",
       "0\n",
       "1\n"
      ],
      "text/plain": [
       "6-element Vector{Int64}:\n",
       " 0\n",
       " 0\n",
       " 0\n",
       " 0\n",
       " 0\n",
       " 1"
      ],
      "text/tab-separated-values": [
       "0\n",
       "0\n",
       "0\n",
       "0\n",
       "0\n",
       "1\n"
      ]
     },
     "execution_count": 159,
     "metadata": {},
     "output_type": "execute_result"
    }
   ],
   "source": [
    "type(simresults[1].to_numpy())\n",
    "#NO NEED TO CONVERT IT TO PYTHON JUST CALL IT AS BELOW \n",
    "simresults[1].u[-1]"
   ]
  },
  {
   "cell_type": "code",
   "execution_count": null,
   "metadata": {},
   "outputs": [],
   "source": [
    "def first(array, condition = lambda x: x == 1):\n",
    "    for i in range(len(array)):\n",
    "        if condition(array[i]):\n",
    "            return i"
   ]
  },
  {
   "cell_type": "code",
   "execution_count": null,
   "metadata": {},
   "outputs": [
    {
     "data": {
      "text/html": [
       "<div>\n",
       "<style scoped>\n",
       "    .dataframe tbody tr th:only-of-type {\n",
       "        vertical-align: middle;\n",
       "    }\n",
       "\n",
       "    .dataframe tbody tr th {\n",
       "        vertical-align: top;\n",
       "    }\n",
       "\n",
       "    .dataframe thead th {\n",
       "        text-align: right;\n",
       "    }\n",
       "</style>\n",
       "<table border=\"1\" class=\"dataframe\">\n",
       "  <thead>\n",
       "    <tr style=\"text-align: right;\">\n",
       "      <th></th>\n",
       "      <th>0</th>\n",
       "      <th>1</th>\n",
       "      <th>2</th>\n",
       "      <th>3</th>\n",
       "      <th>4</th>\n",
       "      <th>5</th>\n",
       "    </tr>\n",
       "  </thead>\n",
       "  <tbody>\n",
       "    <tr>\n",
       "      <th>0</th>\n",
       "      <td>2</td>\n",
       "      <td>0</td>\n",
       "      <td>0</td>\n",
       "      <td>0</td>\n",
       "      <td>0</td>\n",
       "      <td>0</td>\n",
       "    </tr>\n",
       "    <tr>\n",
       "      <th>1</th>\n",
       "      <td>0</td>\n",
       "      <td>0</td>\n",
       "      <td>0</td>\n",
       "      <td>0</td>\n",
       "      <td>1</td>\n",
       "      <td>0</td>\n",
       "    </tr>\n",
       "    <tr>\n",
       "      <th>2</th>\n",
       "      <td>0</td>\n",
       "      <td>0</td>\n",
       "      <td>0</td>\n",
       "      <td>0</td>\n",
       "      <td>0</td>\n",
       "      <td>1</td>\n",
       "    </tr>\n",
       "    <tr>\n",
       "      <th>3</th>\n",
       "      <td>0</td>\n",
       "      <td>0</td>\n",
       "      <td>0</td>\n",
       "      <td>0</td>\n",
       "      <td>0</td>\n",
       "      <td>1</td>\n",
       "    </tr>\n",
       "  </tbody>\n",
       "</table>\n",
       "</div>"
      ],
      "text/plain": [
       "   0  1  2  3  4  5\n",
       "0  2  0  0  0  0  0\n",
       "1  0  0  0  0  1  0\n",
       "2  0  0  0  0  0  1\n",
       "3  0  0  0  0  0  1"
      ]
     },
     "execution_count": 188,
     "metadata": {},
     "output_type": "execute_result"
    },
    {
     "data": {
      "text/csv": [
       "0.0\n",
       "5.3295782525917545e-9\n",
       "2.2212434133477408e-7\n",
       "0.01\n"
      ],
      "text/plain": [
       "4-element Vector{Float64}:\n",
       " 0.0\n",
       " 5.3295782525917545e-9\n",
       " 2.2212434133477408e-7\n",
       " 0.01"
      ],
      "text/tab-separated-values": [
       "0.0\n",
       "5.3295782525917545e-9\n",
       "2.2212434133477408e-7\n",
       "0.01\n"
      ]
     },
     "execution_count": 188,
     "metadata": {},
     "output_type": "execute_result"
    }
   ],
   "source": [
    "pd.DataFrame(simresults[0].u)\n",
    "x=first(simresults[0].u[-1])\n",
    "simresults[0].t"
   ]
  },
  {
   "cell_type": "code",
   "execution_count": null,
   "metadata": {},
   "outputs": [
    {
     "data": {
      "text/plain": [
       "juliacall.ArrayValue"
      ]
     },
     "execution_count": 125,
     "metadata": {},
     "output_type": "execute_result"
    },
    {
     "data": {
      "text/plain": [
       "3"
      ]
     },
     "execution_count": 125,
     "metadata": {},
     "output_type": "execute_result"
    },
    {
     "data": {
      "text/plain": [
       "(6, 3)"
      ]
     },
     "execution_count": 125,
     "metadata": {},
     "output_type": "execute_result"
    },
    {
     "data": {
      "text/plain": [
       "(6, 3)"
      ]
     },
     "execution_count": 125,
     "metadata": {},
     "output_type": "execute_result"
    }
   ],
   "source": [
    "index = 5\n",
    "type(simresults[index])\n",
    "len(simresults[index])\n",
    "np.shape(simresults[index].__array__())\n",
    "np.shape(simresults[index])"
   ]
  }
 ],
 "metadata": {
  "kernelspec": {
   "display_name": "hdna",
   "language": "python",
   "name": "python3"
  },
  "language_info": {
   "codemirror_mode": {
    "name": "ipython",
    "version": 3
   },
   "file_extension": ".py",
   "mimetype": "text/x-python",
   "name": "python",
   "nbconvert_exporter": "python",
   "pygments_lexer": "ipython3",
   "version": "3.10.8 (main, Nov 24 2022, 14:13:03) [GCC 11.2.0]"
  },
  "orig_nbformat": 4,
  "vscode": {
   "interpreter": {
    "hash": "0fde5c8d8fbf4af14052faaef2bffca60bff3b5a58a1c3dbc1964c8897a65693"
   }
  }
 },
 "nbformat": 4,
 "nbformat_minor": 2
}
