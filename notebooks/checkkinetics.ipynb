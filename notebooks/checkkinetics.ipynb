{
 "cells": [
  {
   "cell_type": "code",
   "execution_count": 3,
   "metadata": {},
   "outputs": [],
   "source": [
    "import sys\n",
    "sys.path.append('..')"
   ]
  },
  {
   "cell_type": "code",
   "execution_count": 5,
   "metadata": {},
   "outputs": [],
   "source": [
    "import numpy as np \n",
    "import pandas as pd\n",
    "from hdna import *\n",
    "\n",
    "EXPNAME = 'datawritingtrials'\n",
    "RESULTS_DIR = f\"results/{EXPNAME}\"\n",
    "\n",
    "# Import experimental data from Hertel \n",
    "expdata = pd.read_csv('../data/herteldata.csv', names=['seq', 'expvalue'])\n",
    "# Clean the dataframe \n",
    "expdata = expdata.drop(0)\n",
    "expdata['expvalue'] = ['{:e}'.format(float(e)) for e in expdata['expvalue']]\n",
    "\n",
    "limit = len(expdata)\n",
    "torun = expdata.iloc[:limit]\n",
    "\n",
    "# Actual computation \n",
    "rates = []\n",
    "\n",
    "model = Model('dna', '3D')\n"
   ]
  },
  {
   "cell_type": "code",
   "execution_count": 10,
   "metadata": {},
   "outputs": [
    {
     "name": "stdout",
     "output_type": "stream",
     "text": [
      "Strand number 1: GTTCGGTCTA        \n",
      "Creating network from sequence...\n",
      "2.000e+08\n",
      "2.000e+06\n",
      "Strand number 2: CCAAAACCAA        \n",
      "Creating network from sequence...\n",
      "2.000e+08\n",
      "2.000e+06\n",
      "Strand number 3: AAACCACACA        \n",
      "Creating network from sequence...\n",
      "2.000e+08\n",
      "2.000e+06\n",
      "Strand number 4: ACCAAACCAC        \n",
      "Creating network from sequence...\n"
     ]
    },
    {
     "ename": "KeyboardInterrupt",
     "evalue": "",
     "output_type": "error",
     "traceback": [
      "\u001b[0;31m---------------------------------------------------------------------------\u001b[0m",
      "\u001b[0;31mKeyboardInterrupt\u001b[0m                         Traceback (most recent call last)",
      "Cell \u001b[0;32mIn[10], line 8\u001b[0m\n\u001b[1;32m      6\u001b[0m A \u001b[39m=\u001b[39m Strand(model, seq)\n\u001b[1;32m      7\u001b[0m B \u001b[39m=\u001b[39m A\u001b[39m.\u001b[39mcomplementary()\n\u001b[0;32m----> 8\u001b[0m kinet \u001b[39m=\u001b[39m Kinetwork(model, A, B, \u001b[39m4\u001b[39;49m)\n\u001b[1;32m      9\u001b[0m geo \u001b[39m=\u001b[39m Geometry(\u001b[39m120\u001b[39m, \u001b[39m360\u001b[39m)\n\u001b[1;32m     10\u001b[0m K \u001b[39m=\u001b[39m Kinetics(model, kinet, geo)\n",
      "File \u001b[0;32m~/Desktop/hDNA/notebooks/../hdna/kinetwork.py:20\u001b[0m, in \u001b[0;36mKinetwork.__init__\u001b[0;34m(self, model, s1, s2, minimum_nucleation)\u001b[0m\n\u001b[1;32m     18\u001b[0m \u001b[39mself\u001b[39m\u001b[39m.\u001b[39ms2 \u001b[39m=\u001b[39m s2\n\u001b[1;32m     19\u001b[0m \u001b[39mself\u001b[39m\u001b[39m.\u001b[39mmincore \u001b[39m=\u001b[39m minimum_nucleation\n\u001b[0;32m---> 20\u001b[0m \u001b[39mself\u001b[39m\u001b[39m.\u001b[39mchamber \u001b[39m=\u001b[39m Chamber(\u001b[39mself\u001b[39;49m\u001b[39m.\u001b[39;49mmodel, \u001b[39mself\u001b[39;49m\u001b[39m.\u001b[39;49ms1, \u001b[39mself\u001b[39;49m\u001b[39m.\u001b[39;49ms2, \u001b[39mself\u001b[39;49m\u001b[39m.\u001b[39;49mmincore)\n\u001b[1;32m     23\u001b[0m \u001b[39mself\u001b[39m\u001b[39m.\u001b[39mGraph \u001b[39m=\u001b[39m nx\u001b[39m.\u001b[39mGraph()\n\u001b[1;32m     24\u001b[0m \u001b[39mself\u001b[39m\u001b[39m.\u001b[39madd_nodes()\n",
      "File \u001b[0;32m~/Desktop/hDNA/notebooks/../hdna/chamber.py:30\u001b[0m, in \u001b[0;36mChamber.__init__\u001b[0;34m(self, model, s1, s2, mincore)\u001b[0m\n\u001b[1;32m     27\u001b[0m \u001b[39mself\u001b[39m\u001b[39m.\u001b[39mcompute_offcores(\u001b[39mself\u001b[39m\u001b[39m.\u001b[39mmincore)\n\u001b[1;32m     29\u001b[0m \u001b[39m\u001b[39m\u001b[39m\"\"\" On-Register Nucleation Cores \"\"\"\u001b[39;00m\n\u001b[0;32m---> 30\u001b[0m \u001b[39mself\u001b[39;49m\u001b[39m.\u001b[39;49mcompute_oncores(\u001b[39mself\u001b[39;49m\u001b[39m.\u001b[39;49mmincore)\n\u001b[1;32m     32\u001b[0m \u001b[39m\u001b[39m\u001b[39m\"\"\"\u001b[39;00m\n\u001b[1;32m     33\u001b[0m \u001b[39mself.finalstructure --->    compute the most stable structure for the \u001b[39;00m\n\u001b[1;32m     34\u001b[0m \u001b[39m                            given sequence, this will be the arrival \u001b[39;00m\n\u001b[1;32m     35\u001b[0m \u001b[39m                            of trajectories on the kinetic simulation\u001b[39;00m\n\u001b[1;32m     36\u001b[0m \u001b[39m\"\"\"\u001b[39;00m\n",
      "File \u001b[0;32m~/Desktop/hDNA/notebooks/../hdna/chamber.py:80\u001b[0m, in \u001b[0;36mChamber.compute_oncores\u001b[0;34m(self, min_nucleation)\u001b[0m\n\u001b[1;32m     78\u001b[0m \u001b[39mfor\u001b[39;00m structureì \u001b[39min\u001b[39;00m \u001b[39mself\u001b[39m\u001b[39m.\u001b[39mnativeì:\n\u001b[1;32m     79\u001b[0m     structureout \u001b[39m=\u001b[39m \u001b[39mself\u001b[39m\u001b[39m.\u001b[39mparse_structure(structureì, \u001b[39mself\u001b[39m\u001b[39m.\u001b[39ms1, \u001b[39mself\u001b[39m\u001b[39m.\u001b[39ms2)\n\u001b[0;32m---> 80\u001b[0m     \u001b[39mself\u001b[39m\u001b[39m.\u001b[39moncores\u001b[39m.\u001b[39mappend(Complex(\u001b[39mself\u001b[39;49m\u001b[39m.\u001b[39;49mmodel, \u001b[39mself\u001b[39;49m\u001b[39m.\u001b[39;49ms1, \u001b[39mself\u001b[39;49m\u001b[39m.\u001b[39;49ms2, structure\u001b[39m=\u001b[39;49mstructureout, onregister\u001b[39m=\u001b[39;49m\u001b[39mTrue\u001b[39;49;00m))\n\u001b[1;32m     81\u001b[0m \u001b[39mself\u001b[39m\u001b[39m.\u001b[39moncores \u001b[39m=\u001b[39m [core \u001b[39mfor\u001b[39;00m core \u001b[39min\u001b[39;00m \u001b[39mself\u001b[39m\u001b[39m.\u001b[39moncores \u001b[39mif\u001b[39;00m core\u001b[39m.\u001b[39mtotal_nucleations \u001b[39m>\u001b[39m\u001b[39m=\u001b[39m min_nucleation]\n\u001b[1;32m     82\u001b[0m \u001b[39mreturn\u001b[39;00m \u001b[39mself\u001b[39m\u001b[39m.\u001b[39moncores\n",
      "File \u001b[0;32m~/Desktop/hDNA/notebooks/../hdna/complex.py:69\u001b[0m, in \u001b[0;36mComplex.__init__\u001b[0;34m(self, model, s1, s2, structure, singlestranded, duplex, offregister, onregister)\u001b[0m\n\u001b[1;32m     67\u001b[0m \u001b[39mself\u001b[39m\u001b[39m.\u001b[39monregister \u001b[39m=\u001b[39m onregister\n\u001b[1;32m     68\u001b[0m \u001b[39mself\u001b[39m\u001b[39m.\u001b[39mcheck_onregister()\n\u001b[0;32m---> 69\u001b[0m \u001b[39mself\u001b[39;49m\u001b[39m.\u001b[39;49mzipping_trajectory()\n",
      "File \u001b[0;32m~/Desktop/hDNA/notebooks/../hdna/complex.py:150\u001b[0m, in \u001b[0;36mComplex.zipping_trajectory\u001b[0;34m(self)\u001b[0m\n\u001b[1;32m    148\u001b[0m     \u001b[39m# The generated structure is parsed to see if it is correctly base-paired \u001b[39;00m\n\u001b[1;32m    149\u001b[0m     candidatestep \u001b[39m=\u001b[39m \u001b[39mself\u001b[39m\u001b[39m.\u001b[39mparse_structure(step, \u001b[39mself\u001b[39m\u001b[39m.\u001b[39ms1, \u001b[39mself\u001b[39m\u001b[39m.\u001b[39ms2)\n\u001b[0;32m--> 150\u001b[0m     \u001b[39mself\u001b[39m\u001b[39m.\u001b[39mzipping\u001b[39m.\u001b[39mappend(Zippo(\u001b[39mself\u001b[39;49m\u001b[39m.\u001b[39;49mmodel, \u001b[39mself\u001b[39;49m\u001b[39m.\u001b[39;49ms1, \u001b[39mself\u001b[39;49m\u001b[39m.\u001b[39;49ms2, candidatestep, \u001b[39mself\u001b[39;49m\u001b[39m.\u001b[39;49mstructureG(candidatestep)))\n\u001b[1;32m    152\u001b[0m \u001b[39mself\u001b[39m\u001b[39m.\u001b[39mzipping\u001b[39m.\u001b[39mpop(\u001b[39m-\u001b[39m\u001b[39m1\u001b[39m) \u001b[39m#remove the spurious duplex element generated at the end of the while loop\u001b[39;00m\n\u001b[1;32m    153\u001b[0m \u001b[39mreturn\u001b[39;00m \u001b[39mself\u001b[39m\u001b[39m.\u001b[39mzipping\n",
      "File \u001b[0;32m~/Desktop/hDNA/notebooks/../hdna/complex.py:299\u001b[0m, in \u001b[0;36mZippo.__init__\u001b[0;34m(self, model, s1, s2, structure, energy)\u001b[0m\n\u001b[1;32m    293\u001b[0m \u001b[39mdef\u001b[39;00m \u001b[39m__init__\u001b[39m(\u001b[39mself\u001b[39m, \n\u001b[1;32m    294\u001b[0m                 model: Model, \n\u001b[1;32m    295\u001b[0m                 s1: Strand, \n\u001b[1;32m    296\u001b[0m                 s2: Strand, \n\u001b[1;32m    297\u001b[0m                 structure,\n\u001b[1;32m    298\u001b[0m                 energy):\n\u001b[0;32m--> 299\u001b[0m     \u001b[39msuper\u001b[39;49m()\u001b[39m.\u001b[39;49m\u001b[39m__init__\u001b[39;49m(model,s1,s2,structure)\n\u001b[1;32m    300\u001b[0m     \u001b[39mself\u001b[39m\u001b[39m.\u001b[39mstruct \u001b[39m=\u001b[39m structure\n\u001b[1;32m    301\u001b[0m     \u001b[39mself\u001b[39m\u001b[39m.\u001b[39mG \u001b[39m=\u001b[39m energy\n",
      "File \u001b[0;32m~/Desktop/hDNA/notebooks/../hdna/complex.py:40\u001b[0m, in \u001b[0;36mComplex.__init__\u001b[0;34m(self, model, s1, s2, structure, singlestranded, duplex, offregister, onregister)\u001b[0m\n\u001b[1;32m     36\u001b[0m \u001b[39m# Think of this as self.initialstructure\u001b[39;00m\n\u001b[1;32m     37\u001b[0m \u001b[39m# I didn't change it because of laziness \u001b[39;00m\n\u001b[1;32m     38\u001b[0m \u001b[39mself\u001b[39m\u001b[39m.\u001b[39mstructure \u001b[39m=\u001b[39m structure\n\u001b[0;32m---> 40\u001b[0m \u001b[39mself\u001b[39;49m\u001b[39m.\u001b[39;49mgetnupackmodel()\n\u001b[1;32m     41\u001b[0m \u001b[39mself\u001b[39m\u001b[39m.\u001b[39mgetnupackproperties()\n\u001b[1;32m     42\u001b[0m \u001b[39mself\u001b[39m\u001b[39m.\u001b[39mG \u001b[39m=\u001b[39m \u001b[39mself\u001b[39m\u001b[39m.\u001b[39mstructureG(\u001b[39mself\u001b[39m\u001b[39m.\u001b[39mstructure)\n",
      "File \u001b[0;32m~/Desktop/hDNA/notebooks/../hdna/complex.py:173\u001b[0m, in \u001b[0;36mComplex.getnupackmodel\u001b[0;34m(self)\u001b[0m\n\u001b[1;32m    172\u001b[0m \u001b[39mdef\u001b[39;00m \u001b[39mgetnupackmodel\u001b[39m(\u001b[39mself\u001b[39m):\n\u001b[0;32m--> 173\u001b[0m     \u001b[39mself\u001b[39m\u001b[39m.\u001b[39mnupackmodel \u001b[39m=\u001b[39m nu\u001b[39m.\u001b[39;49mModel(material\u001b[39m=\u001b[39;49m\u001b[39mself\u001b[39;49m\u001b[39m.\u001b[39;49mmodel\u001b[39m.\u001b[39;49mmaterial, \n\u001b[1;32m    174\u001b[0m                                 ensemble\u001b[39m=\u001b[39;49m\u001b[39m'\u001b[39;49m\u001b[39mstacking\u001b[39;49m\u001b[39m'\u001b[39;49m, \n\u001b[1;32m    175\u001b[0m                                 celsius\u001b[39m=\u001b[39;49m\u001b[39mself\u001b[39;49m\u001b[39m.\u001b[39;49mmodel\u001b[39m.\u001b[39;49mcelsius, \n\u001b[1;32m    176\u001b[0m                                 sodium\u001b[39m=\u001b[39;49m\u001b[39mself\u001b[39;49m\u001b[39m.\u001b[39;49mmodel\u001b[39m.\u001b[39;49mNa, \n\u001b[1;32m    177\u001b[0m                                 magnesium\u001b[39m=\u001b[39;49m \u001b[39mself\u001b[39;49m\u001b[39m.\u001b[39;49mmodel\u001b[39m.\u001b[39;49mMg)\n",
      "File \u001b[0;32m~/miniconda3/envs/hdna/lib/python3.10/site-packages/nupack/rebind/render.py:238\u001b[0m, in \u001b[0;36mrender_function.<locals>.wrap\u001b[0;34m(_orig, _bind, _old, *args, **kwargs)\u001b[0m\n\u001b[1;32m    236\u001b[0m bound \u001b[39m=\u001b[39m _bind(\u001b[39m*\u001b[39margs, \u001b[39m*\u001b[39m\u001b[39m*\u001b[39mkwargs)\n\u001b[1;32m    237\u001b[0m bound\u001b[39m.\u001b[39mapply_defaults()\n\u001b[0;32m--> 238\u001b[0m \u001b[39mreturn\u001b[39;00m _old(\u001b[39m*\u001b[39;49mbound\u001b[39m.\u001b[39;49margs, _fun_\u001b[39m=\u001b[39;49m_orig, \u001b[39m*\u001b[39;49m\u001b[39m*\u001b[39;49mbound\u001b[39m.\u001b[39;49mkwargs)\n",
      "File \u001b[0;32m~/miniconda3/envs/hdna/lib/python3.10/site-packages/nupack/model.py:184\u001b[0m, in \u001b[0;36mModel.__init__\u001b[0;34m(self, ensemble, material, kelvin, celsius, sodium, magnesium, bits, _fun_)\u001b[0m\n\u001b[1;32m    181\u001b[0m bits \u001b[39m=\u001b[39m nbits(bits)\n\u001b[1;32m    182\u001b[0m \u001b[39mcls\u001b[39m \u001b[39m=\u001b[39m match(k \u001b[39mfor\u001b[39;00m k, v \u001b[39min\u001b[39;00m \u001b[39mself\u001b[39m\u001b[39m.\u001b[39m_metadata_\u001b[39m.\u001b[39mitems() \u001b[39mif\u001b[39;00m v\u001b[39m.\u001b[39mcast(\u001b[39mint\u001b[39m) \u001b[39m==\u001b[39m bits)\n\u001b[0;32m--> 184\u001b[0m _fun_(\u001b[39mself\u001b[39;49m, Ensemble\u001b[39m.\u001b[39;49mget(ensemble), material, conditions, return_type\u001b[39m=\u001b[39;49m\u001b[39mcls\u001b[39;49m)\n",
      "File \u001b[0;32m~/miniconda3/envs/hdna/lib/python3.10/site-packages/nupack/rebind/render.py:87\u001b[0m, in \u001b[0;36mrender_init.<locals>.init\u001b[0;34m(self, _new, return_type, signature, gil, *args)\u001b[0m\n\u001b[1;32m     86\u001b[0m \u001b[39mdef\u001b[39;00m \u001b[39minit\u001b[39m(\u001b[39mself\u001b[39m, \u001b[39m*\u001b[39margs, _new\u001b[39m=\u001b[39minit, return_type\u001b[39m=\u001b[39m\u001b[39mNone\u001b[39;00m, signature\u001b[39m=\u001b[39m\u001b[39mNone\u001b[39;00m, gil\u001b[39m=\u001b[39m\u001b[39mNone\u001b[39;00m):\n\u001b[0;32m---> 87\u001b[0m     \u001b[39mself\u001b[39m\u001b[39m.\u001b[39mmove_from(_new(\u001b[39m*\u001b[39;49margs, return_type\u001b[39m=\u001b[39;49mreturn_type, signature\u001b[39m=\u001b[39;49msignature, gil\u001b[39m=\u001b[39;49mgil))\n",
      "\u001b[0;31mKeyboardInterrupt\u001b[0m: "
     ]
    }
   ],
   "source": [
    "for i, (seq, exp) in enumerate(zip(torun['seq'], torun['expvalue'])):\n",
    "    print(f'Strand number {i+1}: {seq}')\n",
    "    seq = str(seq.strip())      # make sure they are alright\n",
    "    exp = float(exp.strip())    #\n",
    "    print(f'Creating network from sequence...')\n",
    "    A = Strand(model, seq)\n",
    "    B = A.complementary()\n",
    "    kinet = Kinetwork(model, A, B, 4)\n",
    "    geo = Geometry(120, 360)\n",
    "    K = Kinetics(model, kinet, geo)\n",
    "    K.set_slidingrate(2e6)\n",
    "    K.set_zippingrate(2e8)\n",
    "    print('{:.3e}'.format(K.zippingrate))\n",
    "    print('{:.3e}'.format(K.slidingrate))"
   ]
  },
  {
   "cell_type": "code",
   "execution_count": null,
   "metadata": {},
   "outputs": [],
   "source": []
  }
 ],
 "metadata": {
  "kernelspec": {
   "display_name": "hdna",
   "language": "python",
   "name": "python3"
  },
  "language_info": {
   "codemirror_mode": {
    "name": "ipython",
    "version": 3
   },
   "file_extension": ".py",
   "mimetype": "text/x-python",
   "name": "python",
   "nbconvert_exporter": "python",
   "pygments_lexer": "ipython3",
   "version": "3.10.9"
  },
  "orig_nbformat": 4,
  "vscode": {
   "interpreter": {
    "hash": "13f02c433cbffcd00bbcbbfeff349f4b7c28e9023d8fb9f65ab93bb104997abd"
   }
  }
 },
 "nbformat": 4,
 "nbformat_minor": 2
}
