{
 "cells": [
  {
   "cell_type": "code",
   "execution_count": 61,
   "metadata": {},
   "outputs": [
    {
     "name": "stdout",
     "output_type": "stream",
     "text": [
      "The autoreload extension is already loaded. To reload it, use:\n",
      "  %reload_ext autoreload\n"
     ]
    }
   ],
   "source": [
    "import sys\n",
    "sys.path.append('..')\n",
    "\n",
    "%load_ext autoreload\n",
    "%autoreload 2"
   ]
  },
  {
   "cell_type": "code",
   "execution_count": 62,
   "metadata": {},
   "outputs": [],
   "source": [
    "import pandas as pd \n",
    "import networkx as nx \n",
    "import nupack as nu\n",
    "from random import choice as choicerandom\n",
    "from numpy.random import choice as choicenumpy\n",
    "from hdna import * "
   ]
  },
  {
   "cell_type": "code",
   "execution_count": 153,
   "metadata": {},
   "outputs": [],
   "source": [
    "M = Model('dna', '3D', min_nucleation=2, sliding_cutoff=3, stacking='nostacking')\n",
    "# A = Strand(M, 'GGGGGGGGGGGGGGGGG')\n",
    "A = Strand(M, 'ACCAAACCACCAAC')\n",
    "# A = Strand(M, 'ATGATGTTCCGCTTT')\n",
    "B = A.complementary()"
   ]
  },
  {
   "cell_type": "code",
   "execution_count": 154,
   "metadata": {},
   "outputs": [
    {
     "name": "stdout",
     "output_type": "stream",
     "text": [
      "i'm a sweet boy: ((............+))............\n",
      "i'm a sweet boy: (.(...........+).)...........\n",
      "i'm a sweet boy: ..............+..............\n",
      "i'm a sweet boy: .(.(..........+.).)..........\n",
      "0 1 4 5\n",
      "1 2 3 4\n",
      "None None 2 3\n",
      "i'm a sweet boy: ..(.(((.......+))).).........\n",
      "i'm a sweet boy: .(...(.(......+).)...).......\n",
      "0 5 3 8\n",
      "1 6 2 7\n",
      "i'm a sweet boy: (.(.(.(.((....+)).).).).)....\n",
      "0 0 10 10\n",
      "5 2 8 5\n",
      "6 3 7 4\n",
      "i'm a sweet boy: ...(...(......+....)...).....\n",
      "i'm a sweet boy: .(.((.(..(.(..+.).)..).)).)..\n",
      "i'm a sweet boy: ..(.((.(..(.(.+..).)..).)).).\n",
      "i'm a sweet boy: .....(...(....+......)...)...\n",
      "3 3 13 13\n",
      "8 5 11 8\n",
      "9 6 10 7\n",
      "i'm a sweet boy: ....(.(.(.(.((+....)).).).).)\n",
      "5 10 8 13\n",
      "6 11 7 12\n",
      "i'm a sweet boy: .......(...(.(+......).)...).\n",
      "i'm a sweet boy: .........(.(((+.......))).)..\n",
      "8 9 12 13\n",
      "9 10 11 12\n",
      "None None 10 11\n",
      "i'm a sweet boy: ..........(.(.+..........).).\n",
      "i'm a sweet boy: ..............+..............\n",
      "i'm a sweet boy: ...........(.(+...........).)\n",
      "i'm a sweet boy: ............((+............))\n"
     ]
    }
   ],
   "source": [
    "G = Geometry(120,270)\n",
    "N = Kinetwork(M, A, B)\n",
    "K = Kinetics(M, N, G)\n",
    "S = Simulator(M, N, K)"
   ]
  },
  {
   "cell_type": "code",
   "execution_count": 155,
   "metadata": {},
   "outputs": [
    {
     "name": "stdout",
     "output_type": "stream",
     "text": [
      "14\n",
      "((............+))............\n",
      "15\n",
      "............((+............))\n",
      "16\n",
      "(((((.........+.)))))........\n",
      "17\n",
      "........(((((.+.........)))))\n",
      "18\n",
      "..(.(((.......+))).).........\n",
      "19\n",
      ".........(.(((+.......))).)..\n",
      "20\n",
      "((((..........+.....)))).....\n",
      "21\n",
      ".....((((.....+..........))))\n",
      "24\n",
      "(....((((.(...+).))))....)...\n",
      "25\n",
      "...(....((((.(+...).))))....)\n"
     ]
    }
   ],
   "source": [
    "DG = S.DiGraph()\n",
    "DF = pd.DataFrame(DG.nodes.data('object'))\n",
    "DF = DF.set_axis(['structure', 'object'], axis=1)\n",
    "DF['gibbs'] = [obj.G for obj in DF['object']]\n",
    "PF = DF[DF['gibbs'] < 0]\n",
    "for s, data in PF.iterrows():\n",
    "    if type(data['object']) == Sliding:\n",
    "        print(s)\n",
    "        print(data['object'].structure)"
   ]
  },
  {
   "cell_type": "code",
   "execution_count": 156,
   "metadata": {},
   "outputs": [],
   "source": [
    "def get_ix(string, char):\n",
    "            indices = []\n",
    "            for i, e in enumerate(list(string)):\n",
    "                if e == char:\n",
    "                    indices.append(i)\n",
    "            return indices "
   ]
  },
  {
   "cell_type": "code",
   "execution_count": 157,
   "metadata": {},
   "outputs": [
    {
     "name": "stdout",
     "output_type": "stream",
     "text": [
      "...............))))).............\n",
      "................)))..............\n",
      ".................)...............\n",
      ".................................\n"
     ]
    }
   ],
   "source": [
    "import itertools as it \n",
    "a = '..............)))))))............'\n",
    "ix = get_ix(a, ')')\n",
    "for d, i in it.zip_longest(ix[:int(len(ix)/2)], ix[int(len(ix)/2):][::-1]):\n",
    "    try: a = a[:d] + '.' + a[d+1:]\n",
    "    except TypeError: pass \n",
    "    try: a = a[:i] + '.' + a[i+1:]\n",
    "    except TypeError: pass\n",
    "    print(a)"
   ]
  },
  {
   "cell_type": "code",
   "execution_count": 170,
   "metadata": {},
   "outputs": [
    {
     "name": "stdout",
     "output_type": "stream",
     "text": [
      "3 3 13 13\n",
      "8 5 11 8\n",
      "9 6 10 7\n",
      ".........((...+......))......\n",
      "........((((..+.....)))).....\n",
      "...(....((((.(+...).))))....)\n"
     ]
    }
   ],
   "source": [
    "slide = PF.loc[25,'object']\n",
    "slide.backfraying_trajectory()\n",
    "for e in slide.backfrayings:\n",
    "    print(e)\n",
    "print(slide.structure)"
   ]
  },
  {
   "cell_type": "code",
   "execution_count": null,
   "metadata": {},
   "outputs": [
    {
     "data": {
      "text/plain": [
       "-2.564378356251272"
      ]
     },
     "execution_count": 6,
     "metadata": {},
     "output_type": "execute_result"
    }
   ],
   "source": [
    "nupackmodel = nu.Model(\n",
    "    material='dna', \n",
    "    ensemble='nostacking', \n",
    "    celsius=25, \n",
    "    sodium=1, \n",
    "    magnesium=0) \n",
    "\n",
    "nuStrand1 = nu.Strand(A.sequence, name = 'a')\n",
    "nuStrand2 = nu.Strand(B.sequence, name = 'b') # An inversion here is needed because in this program strands are defined as 5-3 against 3-5 but in NUPACK all strands are defined 5-3 and the program takes care to turn them around and so on\n",
    "nuStructure = nu.Structure('.......((........+........)).......')\n",
    "dG = nu.structure_energy(strands=[nuStrand1,nuStrand2], structure=nuStructure, model=nupackmodel)\n",
    "# dGloop = nupackmodel.loop_energy(loop='AAA+TTT', structure='(((+)))')\n",
    "dG"
   ]
  },
  {
   "cell_type": "code",
   "execution_count": null,
   "metadata": {},
   "outputs": [],
   "source": []
  }
 ],
 "metadata": {
  "kernelspec": {
   "display_name": "hdna",
   "language": "python",
   "name": "python3"
  },
  "language_info": {
   "codemirror_mode": {
    "name": "ipython",
    "version": 3
   },
   "file_extension": ".py",
   "mimetype": "text/x-python",
   "name": "python",
   "nbconvert_exporter": "python",
   "pygments_lexer": "ipython3",
   "version": "3.10.9"
  },
  "orig_nbformat": 4,
  "vscode": {
   "interpreter": {
    "hash": "13f02c433cbffcd00bbcbbfeff349f4b7c28e9023d8fb9f65ab93bb104997abd"
   }
  }
 },
 "nbformat": 4,
 "nbformat_minor": 2
}
