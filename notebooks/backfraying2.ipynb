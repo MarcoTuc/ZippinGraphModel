{
 "cells": [
  {
   "cell_type": "code",
   "execution_count": 19,
   "metadata": {},
   "outputs": [
    {
     "name": "stdout",
     "output_type": "stream",
     "text": [
      "The autoreload extension is already loaded. To reload it, use:\n",
      "  %reload_ext autoreload\n"
     ]
    }
   ],
   "source": [
    "import sys\n",
    "sys.path.append('..')\n",
    "\n",
    "%load_ext autoreload\n",
    "%autoreload 2"
   ]
  },
  {
   "cell_type": "code",
   "execution_count": 20,
   "metadata": {},
   "outputs": [],
   "source": [
    "import pandas as pd \n",
    "import networkx as nx \n",
    "import nupack as nu\n",
    "from random import choice as choicerandom\n",
    "from numpy.random import choice as choicenumpy\n",
    "from hdna import * "
   ]
  },
  {
   "cell_type": "code",
   "execution_count": 21,
   "metadata": {},
   "outputs": [],
   "source": [
    "M = Model('dna', '3D', min_nucleation=2, sliding_cutoff=3, stacking='nostacking')\n",
    "# A = Strand(M, 'GGGGGGGGGGGGGGGGG')\n",
    "A = Strand(M, 'ACCAAACCACCAAC')\n",
    "# A = Strand(M, 'ATGATGTTCCGCTTT')\n",
    "B = A.complementary()"
   ]
  },
  {
   "cell_type": "code",
   "execution_count": 68,
   "metadata": {},
   "outputs": [],
   "source": [
    "G = Geometry(120,270)\n",
    "C = Chamber(M, A, B)\n",
    "N = Kinetwork(M, A, B)\n",
    "K = Kinetics(M, N, G)\n",
    "S = Simulator(M, N, K)"
   ]
  },
  {
   "cell_type": "code",
   "execution_count": 52,
   "metadata": {},
   "outputs": [
    {
     "name": "stdout",
     "output_type": "stream",
     "text": [
      "\n",
      "\n",
      "(((((.........+.)))))........ -6.925764238903476\n",
      ".(((..........+..)))......... -4.120449068824481\n",
      "..(...........+...).......... -0.4881872600222883\n",
      "\n",
      "\n",
      "\n",
      "\n",
      "((((..........+.....))))..... -5.681043942272813\n",
      ".((...........+......))...... -2.546662191507054\n",
      "\n",
      "\n",
      "\n",
      "\n",
      "(....((((.(...+).))))....)... -0.38376681830054116\n",
      ".....((((.....+..))))........ -5.681043942272813\n",
      "......((......+...))......... -2.546662191507054\n",
      "\n",
      "\n",
      "\n",
      "\n",
      "\n",
      "\n",
      "...(....((((.(+...).))))....) -2.450460353686646\n",
      "........((((..+.....))))..... -5.681043942272813\n",
      ".........((...+......))...... -2.546662191507054\n",
      "\n",
      "\n",
      "\n",
      "\n",
      ".....((((.....+..........)))) -5.681043942272813\n",
      "......((......+...........)). -2.546662191507054\n",
      "\n",
      "\n",
      "\n",
      "\n",
      "........(((((.+.........))))) -6.925764238903476\n",
      ".........(((..+..........))). -4.120449068824481\n",
      "..........(...+...........).. -0.4881872600222883\n",
      "\n",
      "\n",
      "\n",
      "\n"
     ]
    }
   ],
   "source": [
    "for slide in C.offcores:\n",
    "    for e in slide.backfray: \n",
    "        print(e.structure, e.G)\n",
    "    print('\\n')"
   ]
  },
  {
   "cell_type": "code",
   "execution_count": 78,
   "metadata": {},
   "outputs": [
    {
     "name": "stdout",
     "output_type": "stream",
     "text": [
      "1 -5.681043942272813\n",
      "(<hdna.complex.Sliding object at 0x7fdcd0115090>, '(....((((.(...+).))))....)...', -0.38376681830054116)\n",
      "(<hdna.complex.Zippo object at 0x7fdcd0117cd0>, '.....((((.....+..))))........', -5.681043942272813)\n",
      "(<hdna.complex.Zippo object at 0x7fdcc1bdc460>, '......((......+...)).........', -2.546662191507054)\n"
     ]
    }
   ],
   "source": [
    "import numpy as np \n",
    "slide = C.offcores[5]\n",
    "maxG = np.argmin(slide.gbackfray)\n",
    "print(maxG, slide.gbackfray[maxG])\n",
    "print(*zip(slide.backfray, slide.sbackfray, slide.gbackfray), sep='\\n')\n",
    "\n"
   ]
  },
  {
   "cell_type": "code",
   "execution_count": 48,
   "metadata": {},
   "outputs": [
    {
     "name": "stdout",
     "output_type": "stream",
     "text": [
      "14\n",
      "((............+))............\n",
      "15\n",
      "............((+............))\n",
      "16\n",
      "(((((.........+.)))))........\n",
      "17\n",
      "........(((((.+.........)))))\n",
      "18\n",
      "..(.(((.......+))).).........\n",
      "19\n",
      ".........(.(((+.......))).)..\n",
      "20\n",
      "((((..........+.....)))).....\n",
      "21\n",
      ".....((((.....+..........))))\n",
      "24\n",
      "(....((((.(...+).))))....)...\n",
      "25\n",
      "...(....((((.(+...).))))....)\n"
     ]
    }
   ],
   "source": [
    "DG = S.DiGraph()\n",
    "DF = pd.DataFrame(DG.nodes.data('object'))\n",
    "DF = DF.set_axis(['structure', 'object'], axis=1)\n",
    "DF['gibbs'] = [obj.G for obj in DF['object']]\n",
    "PF = DF[DF['gibbs'] < 0]\n",
    "for s, data in PF.iterrows():\n",
    "    if type(data['object']) == Sliding:\n",
    "        print(s)\n",
    "        print(data['object'].structure)"
   ]
  },
  {
   "cell_type": "code",
   "execution_count": 49,
   "metadata": {},
   "outputs": [],
   "source": [
    "def get_ix(string, char):\n",
    "            indices = []\n",
    "            for i, e in enumerate(list(string)):\n",
    "                if e == char:\n",
    "                    indices.append(i)\n",
    "            return indices "
   ]
  },
  {
   "cell_type": "code",
   "execution_count": 26,
   "metadata": {},
   "outputs": [
    {
     "name": "stdout",
     "output_type": "stream",
     "text": [
      "...............))))).............\n",
      "................)))..............\n",
      ".................)...............\n",
      ".................................\n"
     ]
    }
   ],
   "source": [
    "import itertools as it \n",
    "a = '..............)))))))............'\n",
    "ix = get_ix(a, ')')\n",
    "for d, i in it.zip_longest(ix[:int(len(ix)/2)], ix[int(len(ix)/2):][::-1]):\n",
    "    try: a = a[:d] + '.' + a[d+1:]\n",
    "    except TypeError: pass \n",
    "    try: a = a[:i] + '.' + a[i+1:]\n",
    "    except TypeError: pass\n",
    "    print(a)"
   ]
  },
  {
   "cell_type": "code",
   "execution_count": 27,
   "metadata": {},
   "outputs": [
    {
     "name": "stdout",
     "output_type": "stream",
     "text": [
      "<hdna.complex.Zippo object at 0x7fdcd0115cf0>\n",
      "<hdna.complex.Zippo object at 0x7fdcd0115f00>\n",
      "...(....((((.(+...).))))....)\n"
     ]
    }
   ],
   "source": [
    "slide = PF.loc[25,'object']\n",
    "slide.backfraying_trajectory()\n",
    "for e in slide.backfrayings:\n",
    "    print(e)\n",
    "print(slide.structure)"
   ]
  },
  {
   "cell_type": "code",
   "execution_count": 28,
   "metadata": {},
   "outputs": [
    {
     "ename": "RuntimeError",
     "evalue": "C++: : \"pair list length doesn't match sequence length\" (State.cc, line 27)\nlen(pairs) = 34\nn = 32\n",
     "output_type": "error",
     "traceback": [
      "\u001b[0;31m---------------------------------------------------------------------------\u001b[0m",
      "\u001b[0;31mRuntimeError\u001b[0m                              Traceback (most recent call last)",
      "Cell \u001b[0;32mIn[28], line 11\u001b[0m\n\u001b[1;32m      9\u001b[0m nuStrand2 \u001b[39m=\u001b[39m nu\u001b[39m.\u001b[39mStrand(B\u001b[39m.\u001b[39msequence, name \u001b[39m=\u001b[39m \u001b[39m'\u001b[39m\u001b[39mb\u001b[39m\u001b[39m'\u001b[39m) \u001b[39m# An inversion here is needed because in this program strands are defined as 5-3 against 3-5 but in NUPACK all strands are defined 5-3 and the program takes care to turn them around and so on\u001b[39;00m\n\u001b[1;32m     10\u001b[0m nuStructure \u001b[39m=\u001b[39m nu\u001b[39m.\u001b[39mStructure(\u001b[39m'\u001b[39m\u001b[39m.......((........+........)).......\u001b[39m\u001b[39m'\u001b[39m)\n\u001b[0;32m---> 11\u001b[0m dG \u001b[39m=\u001b[39m nu\u001b[39m.\u001b[39;49mstructure_energy(strands\u001b[39m=\u001b[39;49m[nuStrand1,nuStrand2], structure\u001b[39m=\u001b[39;49mnuStructure, model\u001b[39m=\u001b[39;49mnupackmodel)\n\u001b[1;32m     12\u001b[0m \u001b[39m# dGloop = nupackmodel.loop_energy(loop='AAA+TTT', structure='(((+)))')\u001b[39;00m\n\u001b[1;32m     13\u001b[0m dG\n",
      "File \u001b[0;32m~/miniconda3/envs/hdna/lib/python3.10/site-packages/nupack/model.py:261\u001b[0m, in \u001b[0;36mstructure_energy\u001b[0;34m(strands, structure, model, distinguishable)\u001b[0m\n\u001b[1;32m    259\u001b[0m \u001b[39m\u001b[39m\u001b[39m'''Free energy of a given secondary structure in (kcal/mol)'''\u001b[39;00m\n\u001b[1;32m    260\u001b[0m check_instance(model, Model)\n\u001b[0;32m--> 261\u001b[0m \u001b[39mreturn\u001b[39;00m model\u001b[39m.\u001b[39;49mstructure_energy(strands, structure, distinguishable)\n",
      "File \u001b[0;32m~/miniconda3/envs/hdna/lib/python3.10/site-packages/nupack/rebind/render.py:238\u001b[0m, in \u001b[0;36mrender_function.<locals>.wrap\u001b[0;34m(_orig, _bind, _old, *args, **kwargs)\u001b[0m\n\u001b[1;32m    236\u001b[0m bound \u001b[39m=\u001b[39m _bind(\u001b[39m*\u001b[39margs, \u001b[39m*\u001b[39m\u001b[39m*\u001b[39mkwargs)\n\u001b[1;32m    237\u001b[0m bound\u001b[39m.\u001b[39mapply_defaults()\n\u001b[0;32m--> 238\u001b[0m \u001b[39mreturn\u001b[39;00m _old(\u001b[39m*\u001b[39;49mbound\u001b[39m.\u001b[39;49margs, _fun_\u001b[39m=\u001b[39;49m_orig, \u001b[39m*\u001b[39;49m\u001b[39m*\u001b[39;49mbound\u001b[39m.\u001b[39;49mkwargs)\n",
      "File \u001b[0;32m~/miniconda3/envs/hdna/lib/python3.10/site-packages/nupack/model.py:235\u001b[0m, in \u001b[0;36mModel.structure_energy\u001b[0;34m(self, strands, structure, distinguishable, _fun_)\u001b[0m\n\u001b[1;32m    233\u001b[0m \u001b[39mif\u001b[39;00m \u001b[39mself\u001b[39m\u001b[39m.\u001b[39mmaterial \u001b[39m==\u001b[39m \u001b[39m'\u001b[39m\u001b[39mDNA/RNA\u001b[39m\u001b[39m'\u001b[39m \u001b[39mand\u001b[39;00m \u001b[39misinstance\u001b[39m(strands, Complex):\n\u001b[1;32m    234\u001b[0m     strands \u001b[39m=\u001b[39m standardize_alphabet([strands], \u001b[39mself\u001b[39m\u001b[39m.\u001b[39malphabet())[\u001b[39m0\u001b[39m]\n\u001b[0;32m--> 235\u001b[0m \u001b[39mreturn\u001b[39;00m _fun_(\u001b[39mself\u001b[39;49m, SequenceList(strands, alphabet \u001b[39m=\u001b[39;49m \u001b[39mself\u001b[39;49m\u001b[39m.\u001b[39;49malphabet()), PairList(structure), distinguishable)\u001b[39m.\u001b[39mcast(\u001b[39mfloat\u001b[39m)\n",
      "\u001b[0;31mRuntimeError\u001b[0m: C++: : \"pair list length doesn't match sequence length\" (State.cc, line 27)\nlen(pairs) = 34\nn = 32\n"
     ]
    }
   ],
   "source": [
    "nupackmodel = nu.Model(\n",
    "    material='dna', \n",
    "    ensemble='nostacking', \n",
    "    celsius=25, \n",
    "    sodium=1, \n",
    "    magnesium=0) \n",
    "\n",
    "nuStrand1 = nu.Strand(A.sequence, name = 'a')\n",
    "nuStrand2 = nu.Strand(B.sequence, name = 'b') # An inversion here is needed because in this program strands are defined as 5-3 against 3-5 but in NUPACK all strands are defined 5-3 and the program takes care to turn them around and so on\n",
    "nuStructure = nu.Structure('.......((........+........)).......')\n",
    "dG = nu.structure_energy(strands=[nuStrand1,nuStrand2], structure=nuStructure, model=nupackmodel)\n",
    "# dGloop = nupackmodel.loop_energy(loop='AAA+TTT', structure='(((+)))')\n",
    "dG"
   ]
  },
  {
   "cell_type": "code",
   "execution_count": null,
   "metadata": {},
   "outputs": [],
   "source": []
  }
 ],
 "metadata": {
  "kernelspec": {
   "display_name": "hdna",
   "language": "python",
   "name": "python3"
  },
  "language_info": {
   "codemirror_mode": {
    "name": "ipython",
    "version": 3
   },
   "file_extension": ".py",
   "mimetype": "text/x-python",
   "name": "python",
   "nbconvert_exporter": "python",
   "pygments_lexer": "ipython3",
   "version": "3.10.9"
  },
  "orig_nbformat": 4,
  "vscode": {
   "interpreter": {
    "hash": "13f02c433cbffcd00bbcbbfeff349f4b7c28e9023d8fb9f65ab93bb104997abd"
   }
  }
 },
 "nbformat": 4,
 "nbformat_minor": 2
}
