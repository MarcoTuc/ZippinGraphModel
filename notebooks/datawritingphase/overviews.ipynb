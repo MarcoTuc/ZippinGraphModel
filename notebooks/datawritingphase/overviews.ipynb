{
 "cells": [
  {
   "cell_type": "code",
   "execution_count": 1,
   "metadata": {},
   "outputs": [],
   "source": [
    "%load_ext autoreload\n",
    "%autoreload 2"
   ]
  },
  {
   "cell_type": "code",
   "execution_count": 2,
   "metadata": {},
   "outputs": [],
   "source": [
    "import sys; sys.path.append('..')"
   ]
  },
  {
   "cell_type": "code",
   "execution_count": 3,
   "metadata": {},
   "outputs": [],
   "source": [
    "import os \n",
    "import sys \n",
    "import numpy as np \n",
    "import pandas as pd\n",
    "from hdna import *"
   ]
  },
  {
   "cell_type": "code",
   "execution_count": 4,
   "metadata": {},
   "outputs": [],
   "source": [
    "# Import experimental data from Hertel \n",
    "expdata = pd.read_csv('../data/herteldata.csv', names=['seq', 'expvalue'])\n",
    "# Clean the dataframe \n",
    "expdata = expdata.drop(0)\n",
    "expdata['expvalue'] = ['{:e}'.format(float(e)) for e in expdata['expvalue']]\n",
    "\n",
    "limit = 3\n",
    "torun = expdata.copy().iloc[:limit]\n",
    "torun.set_index(torun['seq'], inplace=True)"
   ]
  },
  {
   "cell_type": "code",
   "execution_count": 5,
   "metadata": {},
   "outputs": [
    {
     "name": "stdout",
     "output_type": "stream",
     "text": [
      ">>>> overwriting old simulations\n",
      "Strand number 0: GTTCGGTCTA\n",
      "Creating network from sequence...\n",
      "embedding network into biosimulator network model...\n",
      "start running simulations...\n"
     ]
    },
    {
     "name": "stderr",
     "output_type": "stream",
     "text": [
      "100%|██████████| 3000/3000 [00:02<00:00, 1117.79it/s]\n"
     ]
    },
    {
     "name": "stdout",
     "output_type": "stream",
     "text": [
      "39 simulations didn't produce a duplex.\n",
      "That's 1.3% of simulations\n",
      "experimental rate: 1.145950e+06\n",
      "computed rate:     2.169387e+06 \n",
      "\n",
      "Strand number 1: CCAAAACCAA\n",
      "Creating network from sequence...\n",
      "embedding network into biosimulator network model...\n",
      "start running simulations...\n"
     ]
    },
    {
     "name": "stderr",
     "output_type": "stream",
     "text": [
      "100%|██████████| 3000/3000 [00:01<00:00, 2314.36it/s]\n"
     ]
    },
    {
     "name": "stdout",
     "output_type": "stream",
     "text": [
      "2 simulations didn't produce a duplex.\n",
      "That's 0.06666666666666667% of simulations\n",
      "experimental rate: 1.668154e+06\n",
      "computed rate:     5.162517e+06 \n",
      "\n",
      "Strand number 2: AAACCACACA\n",
      "Creating network from sequence...\n",
      "embedding network into biosimulator network model...\n",
      "start running simulations...\n"
     ]
    },
    {
     "name": "stderr",
     "output_type": "stream",
     "text": [
      "100%|██████████| 3000/3000 [00:17<00:00, 176.42it/s]\n"
     ]
    },
    {
     "name": "stdout",
     "output_type": "stream",
     "text": [
      "0 simulations didn't produce a duplex.\n",
      "That's 0.0% of simulations\n",
      "experimental rate: 1.809459e+06\n",
      "computed rate:     2.098110e+07 \n",
      "\n"
     ]
    },
    {
     "data": {
      "text/plain": [
       "' Also for error checking put some csv with nodes and edges of the \\n    network and with the same information but from the biosim model. \\n'"
      ]
     },
     "execution_count": 5,
     "metadata": {},
     "output_type": "execute_result"
    }
   ],
   "source": [
    "\n",
    "EXPNAME = 'jupyter_OW2'\n",
    "RESULTS_DIR = f\"results/{EXPNAME}\"\n",
    "\n",
    "if os.path.isdir(RESULTS_DIR): \n",
    "    i = 0\n",
    "    while True: \n",
    "        i += 1\n",
    "        permission = input('Folder already exists, do you want to overwrite old experiments? [Y,N]')\n",
    "        if permission.lower().startswith('y'):\n",
    "            print('>>>> overwriting old simulations')\n",
    "            break\n",
    "        elif permission.lower().startswith('n') or i == 3:\n",
    "            print(\">>>> stopping the program\")\n",
    "            sys.exit()\n",
    "        print(\"yes or not?\") \n",
    "else:\n",
    "    os.makedirs(RESULTS_DIR)\n",
    "\n",
    "\n",
    "HP = {\n",
    "    \n",
    "    #model free parameters  \n",
    "    'minimum_nucleation': 4,\n",
    "    'zipping_rate':       2e9,\n",
    "    'sliding_rate':       2e7,\n",
    "    \n",
    "    #temperature\n",
    "    'temperature':        25,       #### HERTEL EXPERIMENTAL TEMPERATURE \n",
    "    \n",
    "    #angles\n",
    "    'azimutal_angle':     120,\n",
    "    'longitudinal_angle': 270,\n",
    "}\n",
    "\n",
    "OPT = {\n",
    "\n",
    "    #simulation options\n",
    "    'runtime': 5e-6,\n",
    "    'N_simul': 3000\n",
    "}\n",
    "\n",
    "hyperparams = pd.DataFrame.from_dict([dict(**HP,**OPT)]).T\n",
    "hyperparams.rename(columns={np.int64(0):'values'}, inplace=True)\n",
    "hyperparams.index.rename('hyperparameters', inplace=True)\n",
    "hyperparams.to_csv(f'{RESULTS_DIR}/hyperparameters.csv')\n",
    "\n",
    "# Actual computation \n",
    "rates = []\n",
    "model = Model('dna', '3D', celsius=HP['temperature'])\n",
    "\n",
    "for i, (seq, exp) in enumerate(zip(torun['seq'], torun['expvalue'])):\n",
    "    print(f'Strand number {i}: {seq}')\n",
    "    print(f'Creating network from sequence...')\n",
    "    A = Strand(model, seq)\n",
    "    B = A.complementary()\n",
    "    kinet = Kinetwork(model, A, B, HP['minimum_nucleation'])\n",
    "    geo = Geometry(HP['azimutal_angle'], HP['longitudinal_angle'])\n",
    "    K = Kinetics(model, kinet, geo)\n",
    "    K.set_slidingrate(HP['sliding_rate'])\n",
    "    K.set_zippingrate(HP['zipping_rate'])\n",
    "    opts = Options(method='direct', runtime=OPT['runtime'], Nsim=OPT['N_simul'], results_dir=RESULTS_DIR, stranditer=i)\n",
    "    print('embedding network into biosimulator network model...')\n",
    "    simulatore = Simulator(model, kinet, K, options=opts)\n",
    "    print('start running simulations...')\n",
    "    results = simulatore.ensemble()\n",
    "    mfpt = simulatore.mfpts(results)\n",
    "    rates.append(1/mfpt)\n",
    "\n",
    "    df = pd.DataFrame.from_dict([simulatore.overview])\n",
    "    df.drop(['duplex','singlestranded'], axis=1, inplace=True)\n",
    "    newcols = list(df.columns)\n",
    "    newvals = list(df.loc[0,df.columns])\n",
    "    torun.loc[seq, newcols] = newvals\n",
    "\n",
    "    print(f\"experimental rate: {'{:e}'.format(float(exp))}\")\n",
    "    print(f\"computed rate:     {'{:e}'.format(1/mfpt)}\", '\\n')\n",
    "    del results\n",
    "\n",
    "torun['computed'] = rates\n",
    "torun.to_csv(f\"{RESULTS_DIR}/simulationdata.csv\")\n",
    "valplot(torun, EXPNAME, writepath=RESULTS_DIR, theme='dark')\n",
    "\n",
    "\n",
    "#TODO\n",
    "\"\"\" Also for error checking put some csv with nodes and edges of the \n",
    "    network and with the same information but from the biosim model. \n",
    "\"\"\""
   ]
  },
  {
   "cell_type": "code",
   "execution_count": 6,
   "metadata": {},
   "outputs": [
    {
     "ename": "SyntaxError",
     "evalue": "invalid syntax (1613367156.py, line 1)",
     "output_type": "error",
     "traceback": [
      "\u001b[0;36m  Cell \u001b[0;32mIn[6], line 1\u001b[0;36m\u001b[0m\n\u001b[0;31m    torun;;;;;;;;;\u001b[0m\n\u001b[0m          ^\u001b[0m\n\u001b[0;31mSyntaxError\u001b[0m\u001b[0;31m:\u001b[0m invalid syntax\n"
     ]
    }
   ],
   "source": [
    "torun;;;;;;;;;"
   ]
  },
  {
   "cell_type": "code",
   "execution_count": null,
   "metadata": {},
   "outputs": [],
   "source": [
    "tt = torun.copy()"
   ]
  },
  {
   "cell_type": "code",
   "execution_count": null,
   "metadata": {},
   "outputs": [
    {
     "data": {
      "text/html": [
       "<div>\n",
       "<style scoped>\n",
       "    .dataframe tbody tr th:only-of-type {\n",
       "        vertical-align: middle;\n",
       "    }\n",
       "\n",
       "    .dataframe tbody tr th {\n",
       "        vertical-align: top;\n",
       "    }\n",
       "\n",
       "    .dataframe thead th {\n",
       "        text-align: right;\n",
       "    }\n",
       "</style>\n",
       "<table border=\"1\" class=\"dataframe\">\n",
       "  <thead>\n",
       "    <tr style=\"text-align: right;\">\n",
       "      <th></th>\n",
       "      <th>singlestranded</th>\n",
       "      <th>off_register</th>\n",
       "      <th>on_register</th>\n",
       "      <th>zipping</th>\n",
       "      <th>duplex</th>\n",
       "      <th>failed</th>\n",
       "      <th>fail%</th>\n",
       "    </tr>\n",
       "  </thead>\n",
       "  <tbody>\n",
       "    <tr>\n",
       "      <th>0</th>\n",
       "      <td>1</td>\n",
       "      <td>2</td>\n",
       "      <td>7</td>\n",
       "      <td>14</td>\n",
       "      <td>1</td>\n",
       "      <td>0</td>\n",
       "      <td>0.0</td>\n",
       "    </tr>\n",
       "  </tbody>\n",
       "</table>\n",
       "</div>"
      ],
      "text/plain": [
       "   singlestranded  off_register  on_register  zipping  duplex  failed  fail%\n",
       "0               1             2            7       14       1       0    0.0"
      ]
     },
     "execution_count": 146,
     "metadata": {},
     "output_type": "execute_result"
    }
   ],
   "source": [
    "df = pd.DataFrame.from_dict([simulatore.overview])\n",
    "df"
   ]
  },
  {
   "cell_type": "code",
   "execution_count": null,
   "metadata": {},
   "outputs": [],
   "source": [
    "df.drop(['duplex','singlestranded'], axis=1, inplace=True)"
   ]
  },
  {
   "cell_type": "code",
   "execution_count": null,
   "metadata": {},
   "outputs": [],
   "source": [
    "newcols = list(df.columns)\n",
    "newvals = list(df.loc[0,df.columns])"
   ]
  },
  {
   "cell_type": "code",
   "execution_count": null,
   "metadata": {},
   "outputs": [],
   "source": [
    "tt.set_index(tt['seq'], inplace=True)"
   ]
  },
  {
   "cell_type": "code",
   "execution_count": null,
   "metadata": {},
   "outputs": [],
   "source": [
    "tt.loc['GTTCGGTCTA', newcols] = newvals"
   ]
  },
  {
   "cell_type": "code",
   "execution_count": null,
   "metadata": {},
   "outputs": [
    {
     "data": {
      "text/plain": [
       "Index(['GTTCGGTCTA', 'CCAAAACCAA', 'AAACCACACA'], dtype='object', name='seq')"
      ]
     },
     "execution_count": 151,
     "metadata": {},
     "output_type": "execute_result"
    }
   ],
   "source": [
    "tt.index"
   ]
  },
  {
   "cell_type": "code",
   "execution_count": null,
   "metadata": {},
   "outputs": [
    {
     "data": {
      "text/html": [
       "<div>\n",
       "<style scoped>\n",
       "    .dataframe tbody tr th:only-of-type {\n",
       "        vertical-align: middle;\n",
       "    }\n",
       "\n",
       "    .dataframe tbody tr th {\n",
       "        vertical-align: top;\n",
       "    }\n",
       "\n",
       "    .dataframe thead th {\n",
       "        text-align: right;\n",
       "    }\n",
       "</style>\n",
       "<table border=\"1\" class=\"dataframe\">\n",
       "  <thead>\n",
       "    <tr style=\"text-align: right;\">\n",
       "      <th></th>\n",
       "      <th>seq</th>\n",
       "      <th>expvalue</th>\n",
       "      <th>off_register</th>\n",
       "      <th>on_register</th>\n",
       "      <th>zipping</th>\n",
       "      <th>failed</th>\n",
       "      <th>fail%</th>\n",
       "    </tr>\n",
       "    <tr>\n",
       "      <th>seq</th>\n",
       "      <th></th>\n",
       "      <th></th>\n",
       "      <th></th>\n",
       "      <th></th>\n",
       "      <th></th>\n",
       "      <th></th>\n",
       "      <th></th>\n",
       "    </tr>\n",
       "  </thead>\n",
       "  <tbody>\n",
       "    <tr>\n",
       "      <th>GTTCGGTCTA</th>\n",
       "      <td>GTTCGGTCTA</td>\n",
       "      <td>1.145950e+06</td>\n",
       "      <td>2.0</td>\n",
       "      <td>7.0</td>\n",
       "      <td>14.0</td>\n",
       "      <td>0.0</td>\n",
       "      <td>0.0</td>\n",
       "    </tr>\n",
       "    <tr>\n",
       "      <th>CCAAAACCAA</th>\n",
       "      <td>CCAAAACCAA</td>\n",
       "      <td>1.668154e+06</td>\n",
       "      <td>NaN</td>\n",
       "      <td>NaN</td>\n",
       "      <td>NaN</td>\n",
       "      <td>NaN</td>\n",
       "      <td>NaN</td>\n",
       "    </tr>\n",
       "    <tr>\n",
       "      <th>AAACCACACA</th>\n",
       "      <td>AAACCACACA</td>\n",
       "      <td>1.809459e+06</td>\n",
       "      <td>NaN</td>\n",
       "      <td>NaN</td>\n",
       "      <td>NaN</td>\n",
       "      <td>NaN</td>\n",
       "      <td>NaN</td>\n",
       "    </tr>\n",
       "  </tbody>\n",
       "</table>\n",
       "</div>"
      ],
      "text/plain": [
       "                   seq      expvalue  off_register  on_register  zipping  \\\n",
       "seq                                                                        \n",
       "GTTCGGTCTA  GTTCGGTCTA  1.145950e+06           2.0          7.0     14.0   \n",
       "CCAAAACCAA  CCAAAACCAA  1.668154e+06           NaN          NaN      NaN   \n",
       "AAACCACACA  AAACCACACA  1.809459e+06           NaN          NaN      NaN   \n",
       "\n",
       "            failed  fail%  \n",
       "seq                        \n",
       "GTTCGGTCTA     0.0    0.0  \n",
       "CCAAAACCAA     NaN    NaN  \n",
       "AAACCACACA     NaN    NaN  "
      ]
     },
     "execution_count": 152,
     "metadata": {},
     "output_type": "execute_result"
    }
   ],
   "source": [
    "tt"
   ]
  },
  {
   "cell_type": "code",
   "execution_count": null,
   "metadata": {},
   "outputs": [],
   "source": []
  }
 ],
 "metadata": {
  "kernelspec": {
   "display_name": "hdna",
   "language": "python",
   "name": "python3"
  },
  "language_info": {
   "codemirror_mode": {
    "name": "ipython",
    "version": 3
   },
   "file_extension": ".py",
   "mimetype": "text/x-python",
   "name": "python",
   "nbconvert_exporter": "python",
   "pygments_lexer": "ipython3",
   "version": "3.10.9"
  },
  "orig_nbformat": 4,
  "vscode": {
   "interpreter": {
    "hash": "13f02c433cbffcd00bbcbbfeff349f4b7c28e9023d8fb9f65ab93bb104997abd"
   }
  }
 },
 "nbformat": 4,
 "nbformat_minor": 2
}
