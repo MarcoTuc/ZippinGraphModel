{
 "cells": [
  {
   "cell_type": "code",
   "execution_count": 209,
   "metadata": {},
   "outputs": [
    {
     "name": "stdout",
     "output_type": "stream",
     "text": [
      "The autoreload extension is already loaded. To reload it, use:\n",
      "  %reload_ext autoreload\n"
     ]
    }
   ],
   "source": [
    "%load_ext autoreload\n",
    "%autoreload 2"
   ]
  },
  {
   "cell_type": "code",
   "execution_count": 210,
   "metadata": {},
   "outputs": [],
   "source": [
    "import pandas as pd \n",
    "import math\n",
    "from conf import *\n",
    "\n",
    "pd.set_option('display.float_format', lambda x: '%.3e' % x if float(x) > 5000 or float(x) < 0.01 and float(x) != 0 else ('%d' % x if x.is_integer() else '%.3f' % x))"
   ]
  },
  {
   "cell_type": "code",
   "execution_count": 211,
   "metadata": {},
   "outputs": [],
   "source": [
    "DIR = '/home/marco/Desktop/HDNAback/hDNA/results/sumofinchandpk51/run_1'\n",
    "\n",
    "# hyperp = pd.read_csv(f'{DIR}/hyperparameters.csv'); hyperp['values'][:-1].map(float)\n",
    "data = pd.read_csv(f'{DIR}/simulationdata.csv'); \n",
    "data['index'] = data.index\n",
    "try: data.drop('sequences.1', axis=1, inplace=True)\n",
    "except KeyError: pass\n",
    "try: data.drop('Unnamed: 5', axis=1, inplace=True)\n",
    "except KeyError: pass"
   ]
  },
  {
   "cell_type": "code",
   "execution_count": 212,
   "metadata": {},
   "outputs": [],
   "source": [
    "import plotly.graph_objects as go\n",
    "\n",
    "import pandas as pd"
   ]
  },
  {
   "cell_type": "code",
   "execution_count": 213,
   "metadata": {},
   "outputs": [],
   "source": [
    "varz = []\n",
    "for i, seq in enumerate(data['sequences']):\n",
    "    fptsdf = pd.read_csv(f'{DIR}/simulations/{i+1}_{seq}/fpts.csv',index_col=[0])\n",
    "    fpts = np.array(fptsdf)\n",
    "    # print(seq)\n",
    "    # print('mean:', 1/np.mean(fpts))\n",
    "    rates = [1/float(f) for f in fpts]\n",
    "    varrates = np.var(rates)\n",
    "    std = np.sqrt(varrates)\n",
    "    # print('var :',std)\n",
    "    varz.append(std/np.sqrt(5000))\n",
    "data['var'] = pd.Series(varz)"
   ]
  },
  {
   "cell_type": "code",
   "execution_count": 214,
   "metadata": {},
   "outputs": [],
   "source": [
    "from hdna import valplot, histotime"
   ]
  },
  {
   "cell_type": "code",
   "execution_count": 215,
   "metadata": {},
   "outputs": [],
   "source": [
    "# data['computational'][0] = data.iloc[0]['experimental']*1.3\n",
    "# data.iloc[0]\n",
    "# data['computational'][20] = data.iloc[20]['experimental']*1.1\n",
    "# data.iloc[0]\n"
   ]
  },
  {
   "cell_type": "code",
   "execution_count": 216,
   "metadata": {},
   "outputs": [
    {
     "data": {
      "application/vnd.plotly.v1+json": {
       "config": {
        "plotlyServerURL": "https://plot.ly"
       },
       "data": [
        {
         "customdata": [
          "20_GCTGTTCGGTCTAT",
          "0_GTTCGGTCTA",
          "21_ACCAAACCACCAAC",
          "1_CCAAAACCAA",
          "22_CAACACCAAACAAC",
          "2_AAACCACACA",
          "23_CAAAACCCCAACAC",
          "24_AAACCCACCACACA",
          "25_CAACACCCAAACAC",
          "3_ACCAAACCAC",
          "4_ACACCAAACC",
          "26_CCAAAACCAACAAC",
          "5_AAAAACCCAC",
          "27_AAAAACCCACCCAA",
          "6_CAACACCCAA",
          "7_AAACCCACCA",
          "8_ACAACACCAC",
          "9_CAAAACCCCA",
          "10_AACCAACACC",
          "11_CAACACAACC",
          "28_AAACCACCCAACAC",
          "12_ACCAACACCA",
          "13_CCACCAACAA",
          "29_CCCAAACCCAACCA",
          "30_ACCAACACCAACCA",
          "31_CAACAACACCACCA",
          "32_AACCAACACCACCA",
          "33_AACCACCACAAACC",
          "34_CAACACAACCAACC",
          "35_CACCACAACCACCA",
          "14_ACACACACAC",
          "15_AACCACCACA",
          "16_CAACCAACCA",
          "36_CCCCACACAACAAC",
          "37_CCACCAACAACAAC",
          "17_ACACACACCA",
          "38_ACACACACCACACA",
          "39_CACACACACACACA",
          "40_ACCAACCAACCAAC",
          "18_CCCCACACAA",
          "19_ACACCACCAC"
         ],
         "error_y": {
          "array": [
           38002.58703591162,
           57280.23289978832,
           67812.72647938169,
           62447.48121707554,
           59667.216280394605,
           77487.48718815565,
           82314.09791603147,
           101854.67675510581,
           71655.2429096685,
           80644.70736820644,
           76922.92696448525,
           60822.683191091775,
           66393.70954302528,
           84894.49751912219,
           71569.82203553457,
           83056.20434576625,
           91982.00861359022,
           72631.49198449845,
           71290.21301417772,
           125450.75788176266,
           71929.83782922017,
           74789.95621057122,
           84381.46006634901,
           85694.302721595,
           72046.1671485488,
           73618.67561094998,
           70735.77186912984,
           58615.73109102444,
           96879.99662050573,
           71485.3203069862,
           63773.84507700363,
           83834.49216027548,
           57574.551349045534,
           88877.3055786201,
           77610.46171416377,
           80731.45279636793,
           89035.04042859282,
           53515.52942725784,
           38752.432921357926,
           102749.38154859439,
           68683.83103668809
          ],
          "color": "tomato",
          "thickness": 1.5,
          "type": "data",
          "visible": true,
          "width": 3
         },
         "hovertemplate": "emp = %{x:.3e}\n                     <br>mod = %{y:.3e}\n                     <br>seq:  %{customdata} </b>",
         "marker": {
          "color": "white",
          "line": {
           "color": "tomato",
           "width": 2
          },
          "size": 14
         },
         "mode": "markers",
         "name": "",
         "type": "scatter",
         "x": [
          1042173,
          1145950,
          1186657,
          1668154,
          1779672,
          1809459,
          1831343,
          1892296,
          2124654,
          2167675,
          2178513,
          2304253,
          2364640,
          2433452,
          2511513,
          2527035,
          2559279,
          2651666,
          2655670,
          2695608,
          2745623,
          2765864,
          2825047,
          2975581,
          3186916,
          3242444,
          3629903,
          3659749,
          3763039,
          3805400,
          3843880,
          3865948,
          3960894,
          3961922,
          4062258,
          4159347,
          4442077,
          4818114,
          5208461,
          5448523,
          5613147
         ],
         "y": [
          1664704.6765274785,
          2292829.187885385,
          3215229.4802681766,
          2837512.9587224345,
          2184389.4664594457,
          3069516.699098048,
          2015549.546598076,
          3126030.992177091,
          2214084.010778704,
          3121290.609459927,
          2486278.9147797823,
          2385600.293118254,
          2446409.304735898,
          2525065.2801975887,
          2171589.398905407,
          3130774.066075434,
          2592744.596281676,
          2951516.2046534694,
          2514156.691237031,
          3134454.241058948,
          2253900.227954424,
          3138425.948736682,
          2734784.032497446,
          2811021.522264709,
          3122329.9585567946,
          2865860.1904523163,
          3173248.915640251,
          2725490.354785058,
          3024451.088978774,
          3219915.7509633107,
          5124496.548912347,
          3513272.9597940296,
          3576877.342500084,
          3226847.8893693443,
          2948584.768887899,
          4294086.799638238,
          4504641.831855216,
          4234638.902273256,
          3225884.946249901,
          4056592.373244324,
          3627368.042903997
         ]
        },
        {
         "line": {
          "dash": "dash"
         },
         "marker": {
          "color": "royalblue"
         },
         "mode": "lines",
         "name": "bisector",
         "type": "scatter",
         "x": [
          0,
          163265.306122449,
          326530.612244898,
          489795.918367347,
          653061.224489796,
          816326.530612245,
          979591.836734694,
          1142857.142857143,
          1306122.448979592,
          1469387.755102041,
          1632653.06122449,
          1795918.367346939,
          1959183.673469388,
          2122448.979591837,
          2285714.285714286,
          2448979.5918367347,
          2612244.897959184,
          2775510.204081633,
          2938775.510204082,
          3102040.8163265307,
          3265306.12244898,
          3428571.428571429,
          3591836.734693878,
          3755102.0408163266,
          3918367.346938776,
          4081632.653061225,
          4244897.959183674,
          4408163.265306123,
          4571428.571428572,
          4734693.877551021,
          4897959.183673469,
          5061224.489795919,
          5224489.795918368,
          5387755.102040817,
          5551020.408163266,
          5714285.714285715,
          5877551.020408164,
          6040816.326530613,
          6204081.632653061,
          6367346.9387755105,
          6530612.24489796,
          6693877.551020409,
          6857142.857142858,
          7020408.1632653065,
          7183673.469387756,
          7346938.775510205,
          7510204.081632653,
          7673469.3877551025,
          7836734.693877552,
          8000000
         ],
         "y": [
          0,
          163265.306122449,
          326530.612244898,
          489795.918367347,
          653061.224489796,
          816326.530612245,
          979591.836734694,
          1142857.142857143,
          1306122.448979592,
          1469387.755102041,
          1632653.06122449,
          1795918.367346939,
          1959183.673469388,
          2122448.979591837,
          2285714.285714286,
          2448979.5918367347,
          2612244.897959184,
          2775510.204081633,
          2938775.510204082,
          3102040.8163265307,
          3265306.12244898,
          3428571.428571429,
          3591836.734693878,
          3755102.0408163266,
          3918367.346938776,
          4081632.653061225,
          4244897.959183674,
          4408163.265306123,
          4571428.571428572,
          4734693.877551021,
          4897959.183673469,
          5061224.489795919,
          5224489.795918368,
          5387755.102040817,
          5551020.408163266,
          5714285.714285715,
          5877551.020408164,
          6040816.326530613,
          6204081.632653061,
          6367346.9387755105,
          6530612.24489796,
          6693877.551020409,
          6857142.857142858,
          7020408.1632653065,
          7183673.469387756,
          7346938.775510205,
          7510204.081632653,
          7673469.3877551025,
          7836734.693877552,
          8000000
         ]
        }
       ],
       "layout": {
        "autosize": false,
        "height": 600,
        "margin": {
         "b": 50,
         "l": 50,
         "pad": 0,
         "r": 50,
         "t": 50
        },
        "showlegend": false,
        "template": {
         "data": {
          "pie": [
           {
            "automargin": true,
            "type": "pie"
           }
          ],
          "scatter": [
           {
            "line": {
             "width": 3
            },
            "marker": {
             "size": 9
            },
            "type": "scatter"
           }
          ],
          "scatter3d": [
           {
            "line": {
             "width": 3
            },
            "marker": {
             "size": 9
            },
            "type": "scatter3d"
           }
          ],
          "scattergeo": [
           {
            "line": {
             "width": 3
            },
            "marker": {
             "size": 9
            },
            "type": "scattergeo"
           }
          ],
          "scattergl": [
           {
            "line": {
             "width": 3
            },
            "marker": {
             "size": 9
            },
            "type": "scattergl"
           }
          ],
          "scatterpolar": [
           {
            "line": {
             "width": 3
            },
            "marker": {
             "size": 9
            },
            "type": "scatterpolar"
           }
          ],
          "scatterpolargl": [
           {
            "line": {
             "width": 3
            },
            "marker": {
             "size": 9
            },
            "type": "scatterpolargl"
           }
          ],
          "scatterternary": [
           {
            "line": {
             "width": 3
            },
            "marker": {
             "size": 9
            },
            "type": "scatterternary"
           }
          ],
          "table": [
           {
            "cells": {
             "height": 30
            },
            "header": {
             "height": 36
            },
            "type": "table"
           }
          ]
         },
         "layout": {
          "font": {
           "size": 18
          },
          "xaxis": {
           "title": {
            "standoff": 15
           }
          },
          "yaxis": {
           "title": {
            "standoff": 15
           }
          }
         }
        },
        "width": 600,
        "xaxis": {
         "exponentformat": "e",
         "range": [
          0,
          8000000
         ],
         "showgrid": true,
         "tickmode": "array",
         "tickvals": [
          0,
          1000000,
          2000000,
          3000000,
          4000000,
          5000000,
          6000000,
          7000000,
          8000000
         ],
         "title": {
          "font": {
           "size": 22
          },
          "text": ""
         }
        },
        "yaxis": {
         "exponentformat": "e",
         "range": [
          0,
          8000000
         ],
         "showgrid": true,
         "tickmode": "array",
         "tickvals": [
          0,
          1000000,
          2000000,
          3000000,
          4000000,
          5000000,
          6000000,
          7000000,
          8000000
         ],
         "title": {
          "font": {
           "size": 22
          },
          "text": ""
         }
        }
       }
      }
     },
     "metadata": {},
     "output_type": "display_data"
    }
   ],
   "source": [
    "plot = valplot(data, 'see', writepath=None, theme='light')"
   ]
  },
  {
   "cell_type": "code",
   "execution_count": 217,
   "metadata": {},
   "outputs": [
    {
     "data": {
      "application/vnd.plotly.v1+json": {
       "config": {
        "plotlyServerURL": "https://plot.ly"
       },
       "data": [
        {
         "alignmentgroup": "True",
         "bingroup": "x",
         "hovertemplate": "variable=0<br>value=%{x}<br>count=%{y}<extra></extra>",
         "legendgroup": "0",
         "marker": {
          "autocolorscale": false,
          "color": "steelblue",
          "line": {
           "color": "black",
           "width": 4
          },
          "pattern": {
           "fgcolor": "black",
           "shape": ""
          }
         },
         "name": "0",
         "nbinsx": 24,
         "offsetgroup": "0",
         "opacity": 0.8,
         "orientation": "v",
         "showlegend": false,
         "type": "histogram",
         "x": [
          0.3012060327472033,
          0.23070171241452395,
          0.2295212534113107,
          0.1583400368939429,
          0.0573896910174559,
          0.014764088087278079,
          -0.06315771759617904,
          0.09304047062525617,
          0.005642104677019749,
          0.04652635188739829,
          -0.023781766583455398,
          0.06550519749198576,
          0.054881064263830444,
          -0.014102641992600178,
          0.1248813837875211,
          -0.04154411500955757,
          -0.04428917245695443,
          0.013845665343452438,
          -0.12811741872807508,
          -0.1896147933488617,
          0.20339738203318292,
          0.43288676977857543,
          0.08899010598124675,
          0.041623785748617005,
          0.21800420805539336,
          0.01790588037334454,
          0.015067517882776117,
          0.01604982618393729,
          -0.08570621677246387,
          -0.02470760619514996,
          -0.008891820487781426,
          -0.05361748441413899,
          -0.058390879450497944,
          -0.1280066513444365,
          -0.09489215380798856,
          -0.07255580530577076,
          -0.08912742750582998,
          -0.1391538847991873,
          0.00607418310123425,
          -0.05606068857723375,
          -0.20806054272097932
         ],
         "xaxis": "x",
         "yaxis": "y"
        }
       ],
       "layout": {
        "barmode": "relative",
        "legend": {
         "title": {
          "text": "variable"
         },
         "tracegroupgap": 0
        },
        "margin": {
         "t": 60
        },
        "template": {
         "data": {
          "pie": [
           {
            "automargin": true,
            "type": "pie"
           }
          ],
          "scatter": [
           {
            "line": {
             "width": 3
            },
            "marker": {
             "size": 9
            },
            "type": "scatter"
           }
          ],
          "scatter3d": [
           {
            "line": {
             "width": 3
            },
            "marker": {
             "size": 9
            },
            "type": "scatter3d"
           }
          ],
          "scattergeo": [
           {
            "line": {
             "width": 3
            },
            "marker": {
             "size": 9
            },
            "type": "scattergeo"
           }
          ],
          "scattergl": [
           {
            "line": {
             "width": 3
            },
            "marker": {
             "size": 9
            },
            "type": "scattergl"
           }
          ],
          "scatterpolar": [
           {
            "line": {
             "width": 3
            },
            "marker": {
             "size": 9
            },
            "type": "scatterpolar"
           }
          ],
          "scatterpolargl": [
           {
            "line": {
             "width": 3
            },
            "marker": {
             "size": 9
            },
            "type": "scatterpolargl"
           }
          ],
          "scatterternary": [
           {
            "line": {
             "width": 3
            },
            "marker": {
             "size": 9
            },
            "type": "scatterternary"
           }
          ],
          "table": [
           {
            "cells": {
             "height": 30
            },
            "header": {
             "height": 36
            },
            "type": "table"
           }
          ]
         },
         "layout": {
          "font": {
           "size": 18
          },
          "xaxis": {
           "title": {
            "standoff": 15
           }
          },
          "yaxis": {
           "title": {
            "standoff": 15
           }
          }
         }
        },
        "xaxis": {
         "anchor": "y",
         "domain": [
          0,
          1
         ],
         "exponentformat": "e",
         "title": {
          "text": ""
         }
        },
        "yaxis": {
         "anchor": "x",
         "domain": [
          0,
          1
         ],
         "title": {
          "text": "count"
         }
        }
       }
      }
     },
     "metadata": {},
     "output_type": "display_data"
    }
   ],
   "source": [
    "import plotly.express as px\n",
    "error = [np.log10(mod/exp) for mod, exp in zip(data['computational'], data['experimental'])]\n",
    "histo = px.histogram(error,nbins=24)\n",
    "histo.update_xaxes(exponentformat='e')\n",
    "histo.update_layout(template='presentation',\n",
    "                    xaxis_title='')\n",
    "histo.update_traces(opacity=0.8,\n",
    "                    marker_autocolorscale=False,\n",
    "                    marker_color='steelblue',\n",
    "                    marker_line_color='black',\n",
    "                    marker_line_width=4,\n",
    "                    showlegend=False,\n",
    "                    marker_pattern_fgcolor='black')\n",
    "histo.show()"
   ]
  },
  {
   "cell_type": "code",
   "execution_count": 218,
   "metadata": {},
   "outputs": [],
   "source": [
    "def pearson(exp, mod):\n",
    "    avgexp = np.mean(exp)\n",
    "    avgmod = np.mean(mod)\n",
    "    sigmaexp = sum([np.power(x-avgexp,2) for x in exp])\n",
    "    sigmamod = sum([np.power(y-avgmod,2) for y in mod])\n",
    "    norm = np.sqrt(sigmaexp*sigmamod)\n",
    "    corr = sum([(x-avgexp)*(y-avgmod) for x, y in zip(exp, mod)])\n",
    "    return corr/norm\n",
    "\n",
    "def distance2badness(exp, mod):\n",
    "    i = 0\n",
    "    for expe, mode in zip(exp, mod):\n",
    "        if mode/2 <= expe <= mode*2:\n",
    "            i += 1\n",
    "    return i/len(exp)\n",
    "\n",
    "def rmse(exp, mod):\n",
    "    N = len(exp)\n",
    "    err = sum([(np.log10(m/e))**2 for m,e in zip(mod,exp)])\n",
    "    return np.sqrt(err/N)"
   ]
  },
  {
   "cell_type": "code",
   "execution_count": 219,
   "metadata": {},
   "outputs": [
    {
     "data": {
      "text/plain": [
       "0.6831956405492323"
      ]
     },
     "execution_count": 219,
     "metadata": {},
     "output_type": "execute_result"
    }
   ],
   "source": [
    "pearson(data['experimental'], data['computational'])"
   ]
  },
  {
   "cell_type": "code",
   "execution_count": 220,
   "metadata": {},
   "outputs": [
    {
     "data": {
      "text/plain": [
       "0.9512195121951219"
      ]
     },
     "execution_count": 220,
     "metadata": {},
     "output_type": "execute_result"
    }
   ],
   "source": [
    "distance2badness(data['experimental'], data['computational'])"
   ]
  },
  {
   "cell_type": "code",
   "execution_count": 221,
   "metadata": {},
   "outputs": [
    {
     "data": {
      "text/plain": [
       "0.13301914360283046"
      ]
     },
     "execution_count": 221,
     "metadata": {},
     "output_type": "execute_result"
    }
   ],
   "source": [
    "rmse(data['experimental'], data['computational'])"
   ]
  },
  {
   "cell_type": "code",
   "execution_count": null,
   "metadata": {},
   "outputs": [],
   "source": []
  }
 ],
 "metadata": {
  "kernelspec": {
   "display_name": "hdna",
   "language": "python",
   "name": "python3"
  },
  "language_info": {
   "codemirror_mode": {
    "name": "ipython",
    "version": 3
   },
   "file_extension": ".py",
   "mimetype": "text/x-python",
   "name": "python",
   "nbconvert_exporter": "python",
   "pygments_lexer": "ipython3",
   "version": "3.10.9 (main, Jan 11 2023, 15:21:40) [GCC 11.2.0]"
  },
  "orig_nbformat": 4,
  "vscode": {
   "interpreter": {
    "hash": "13f02c433cbffcd00bbcbbfeff349f4b7c28e9023d8fb9f65ab93bb104997abd"
   }
  }
 },
 "nbformat": 4,
 "nbformat_minor": 2
}
