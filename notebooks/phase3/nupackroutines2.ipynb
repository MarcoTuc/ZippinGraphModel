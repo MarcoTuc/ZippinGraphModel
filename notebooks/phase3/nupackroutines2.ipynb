{
 "cells": [
  {
   "cell_type": "code",
   "execution_count": 2,
   "metadata": {},
   "outputs": [],
   "source": [
    "%load_ext autoreload\n",
    "%autoreload 2"
   ]
  },
  {
   "cell_type": "code",
   "execution_count": 3,
   "metadata": {},
   "outputs": [],
   "source": [
    "import sys\n",
    "sys.path.append('..')\n",
    "sys.path.append('../oldsequentialcode/kinetics')"
   ]
  },
  {
   "cell_type": "code",
   "execution_count": 4,
   "metadata": {},
   "outputs": [],
   "source": [
    "from hdna import * \n",
    "import nupack as nu"
   ]
  },
  {
   "cell_type": "code",
   "execution_count": 24,
   "metadata": {},
   "outputs": [],
   "source": [
    "model = Model('dna', '3D', stacking='nostacking')\n",
    "A = Strand(model, \"AAAAAAA\")\n",
    "B = A.complementary()\n",
    "C = Chamber(model, A, B)"
   ]
  },
  {
   "cell_type": "code",
   "execution_count": 43,
   "metadata": {},
   "outputs": [
    {
     "data": {
      "text/plain": [
       "[StructureEnergy(Structure('(((((((+)))))))'), energy=-7.704002857208252, stack_energy=-7.704002857208252)]"
      ]
     },
     "execution_count": 43,
     "metadata": {},
     "output_type": "execute_result"
    }
   ],
   "source": [
    "fed = C.duplexenergy()\n",
    "cplx = C.slidings[4].backfray[0]\n",
    "struct = cplx.structure\n",
    "fes = -cplx.G\n",
    "nu.subopt([cplx.nuStrand1,cplx.nuStrand2], energy_gap=fes, model=cplx.nupackmodel)"
   ]
  },
  {
   "cell_type": "code",
   "execution_count": null,
   "metadata": {},
   "outputs": [
    {
     "data": {
      "text/plain": [
       "[StructureEnergy(Structure('(((((((((+)))))))))'), energy=-14.10849380493164, stack_energy=-14.10849380493164),\n",
       " StructureEnergy(Structure('((((((((.+.))))))))'), energy=-12.723504304885864, stack_energy=-12.723504304885864),\n",
       " StructureEnergy(Structure('.((((((((+)))))))).'), energy=-12.295392036437988, stack_energy=-12.295392036437988),\n",
       " StructureEnergy(Structure('(((((((..+..)))))))'), energy=-11.052530527114868, stack_energy=-11.052530527114868),\n",
       " StructureEnergy(Structure('..(((((((+)))))))..'), energy=-11.050671577453613, stack_energy=-11.050671577453613),\n",
       " StructureEnergy(Structure('.(((((((.+.))))))).'), energy=-10.910402536392212, stack_energy=-10.910402536392212),\n",
       " StructureEnergy(Structure('((.((((((+)))))).))'), energy=-10.354519844055176, stack_energy=-10.354519844055176),\n",
       " StructureEnergy(Structure('(.(((((((+))))))).)'), energy=-10.21239185333252, stack_energy=-10.21239185333252),\n",
       " StructureEnergy(Structure('(((((((.(+).)))))))'), energy=-10.087997436523438, stack_energy=-10.087997436523438),\n",
       " StructureEnergy(Structure('((((((.((+)).))))))'), energy=-9.912392139434814, stack_energy=-9.912392139434814),\n",
       " StructureEnergy(Structure('..((((((.+.))))))..'), energy=-9.665682077407837, stack_energy=-9.665682077407837),\n",
       " StructureEnergy(Structure('...((((((+))))))...'), energy=-9.632204055786133, stack_energy=-9.632204055786133),\n",
       " StructureEnergy(Structure('((((((...+...))))))'), energy=-9.491935729980469, stack_energy=-9.491935729980469),\n",
       " StructureEnergy(Structure('(((((.(((+))).)))))'), energy=-9.398637294769287, stack_energy=-9.398637294769287),\n",
       " StructureEnergy(Structure('.((((((..+..)))))).'), energy=-9.239428758621216, stack_energy=-9.239428758621216),\n",
       " StructureEnergy(Structure('(((.(((((+))))).)))'), energy=-9.130255699157715, stack_energy=-9.130255699157715),\n",
       " StructureEnergy(Structure('((.(((((.+.))))).))'), energy=-8.9695303440094, stack_energy=-8.9695303440094),\n",
       " StructureEnergy(Structure('(.((((((.+.)))))).)'), energy=-8.827402353286743, stack_energy=-8.827402353286743),\n",
       " StructureEnergy(Structure('((((.((((+)))).))))'), energy=-8.616501331329346, stack_energy=-8.616501331329346),\n",
       " StructureEnergy(Structure('.(.((((((+)))))).).'), energy=-8.541418075561523, stack_energy=-8.541418075561523),\n",
       " StructureEnergy(Structure('((((((.(.+.).))))))'), energy=-8.527402639389038, stack_energy=-8.527402639389038),\n",
       " StructureEnergy(Structure('.((((((.(+).)))))).'), energy=-8.274895668029785, stack_energy=-8.274895668029785),\n",
       " StructureEnergy(Structure('...(((((.+.)))))...'), energy=-8.247214555740356, stack_energy=-8.247214555740356),\n",
       " StructureEnergy(Structure('.(((((.((+)).))))).'), energy=-8.099290370941162, stack_energy=-8.099290370941162),\n",
       " StructureEnergy(Structure('(..((((((+))))))..)'), energy=-8.098978042602539, stack_energy=-8.098978042602539),\n",
       " StructureEnergy(Structure('(((((.((.+.)).)))))'), energy=-8.01364779472351, stack_energy=-8.01364779472351),\n",
       " StructureEnergy(Structure('..(((((..+..)))))..'), energy=-7.994708299636841, stack_energy=-7.994708299636841),\n",
       " StructureEnergy(Structure('(((.((((.+.)))).)))'), energy=-7.7452661991119385, stack_energy=-7.7452661991119385),\n",
       " StructureEnergy(Structure('.(((((...+...))))).'), energy=-7.678833961486816, stack_energy=-7.678833961486816),\n",
       " StructureEnergy(Structure('(((((..((+))..)))))'), energy=-7.656850814819336, stack_energy=-7.656850814819336),\n",
       " StructureEnergy(Structure('.((((.(((+))).)))).'), energy=-7.585535526275635, stack_energy=-7.585535526275635),\n",
       " StructureEnergy(Structure('((..(((((+)))))..))'), energy=-7.577136039733887, stack_energy=-7.577136039733887),\n",
       " StructureEnergy(Structure('((((((..(+)..))))))'), energy=-7.528909683227539, stack_energy=-7.528909683227539),\n",
       " StructureEnergy(Structure('(((((....+....)))))'), energy=-7.433460712432861, stack_energy=-7.433460712432861),\n",
       " StructureEnergy(Structure('.((.(((((+))))).)).'), energy=-7.3171539306640625, stack_energy=-7.3171539306640625),\n",
       " StructureEnergy(Structure('((.((((..+..)))).))'), energy=-7.298556566238403, stack_energy=-7.298556566238403),\n",
       " StructureEnergy(Structure('((((.(((.+.))).))))'), energy=-7.231511831283569, stack_energy=-7.231511831283569),\n",
       " StructureEnergy(Structure('..(((((((+)))))).).'), energy=-7.192537784576416, stack_energy=-7.192537784576416),\n",
       " StructureEnergy(Structure('.(.((((((+)))))))..'), energy=-7.192537784576416, stack_energy=-7.192537784576416),\n",
       " StructureEnergy(Structure('....(((((+)))))....'), energy=-7.163219928741455, stack_energy=-7.163219928741455),\n",
       " StructureEnergy(Structure('.(.(((((.+.))))).).'), energy=-7.156428575515747, stack_energy=-7.156428575515747),\n",
       " StructureEnergy(Structure('(.(((((..+..))))).)'), energy=-7.156428575515747, stack_energy=-7.156428575515747),\n",
       " StructureEnergy(Structure('..(((((.(+).)))))..'), energy=-7.03017520904541, stack_energy=-7.03017520904541),\n",
       " StructureEnergy(Structure('((((..(((+)))..))))'), energy=-7.024800777435303, stack_energy=-7.024800777435303),\n",
       " StructureEnergy(Structure('(((..((((+))))..)))'), energy=-6.8747148513793945, stack_energy=-6.8747148513793945),\n",
       " StructureEnergy(Structure('..((((.((+)).))))..'), energy=-6.854569911956787, stack_energy=-6.854569911956787),\n",
       " StructureEnergy(Structure('.(((.((((+)))).))).'), energy=-6.803399562835693, stack_energy=-6.803399562835693),\n",
       " StructureEnergy(Structure('.(((((.(.+.).))))).'), energy=-6.714300870895386, stack_energy=-6.714300870895386),\n",
       " StructureEnergy(Structure('(..(((((.+.)))))..)'), energy=-6.713988542556763, stack_energy=-6.713988542556763),\n",
       " StructureEnergy(Structure('...((((..+..))))...'), energy=-6.57624077796936, stack_energy=-6.57624077796936),\n",
       " StructureEnergy(Structure('(((((((..+)..))))))'), energy=-6.442282676696777, stack_energy=-6.442282676696777),\n",
       " StructureEnergy(Structure('((((((..(+..)))))))'), energy=-6.442282676696777, stack_energy=-6.442282676696777),\n",
       " StructureEnergy(Structure('..((((...+...))))..'), energy=-6.434113502502441, stack_energy=-6.434113502502441),\n",
       " StructureEnergy(Structure('(((((.(..+..).)))))'), energy=-6.342674016952515, stack_energy=-6.342674016952515),\n",
       " StructureEnergy(Structure('..(((.(((+))).)))..'), energy=-6.34081506729126, stack_energy=-6.34081506729126),\n",
       " StructureEnergy(Structure('((.((((.(+).)))).))'), energy=-6.334023475646973, stack_energy=-6.334023475646973),\n",
       " StructureEnergy(Structure('(((((..(.+.)..)))))'), energy=-6.27186131477356, stack_energy=-6.27186131477356),\n",
       " StructureEnergy(Structure('.((((.((.+.)).)))).'), energy=-6.200546026229858, stack_energy=-6.200546026229858),\n",
       " StructureEnergy(Structure('((..((((.+.))))..))'), energy=-6.19214653968811, stack_energy=-6.19214653968811),\n",
       " StructureEnergy(Structure('(.(((((.(+).))))).)'), energy=-6.191895484924316, stack_energy=-6.191895484924316),\n",
       " StructureEnergy(Structure('((.(((.((+)).))).))'), energy=-6.15841817855835, stack_energy=-6.15841817855835),\n",
       " StructureEnergy(Structure('(((.(((..+..))).)))'), energy=-6.074292421340942, stack_energy=-6.074292421340942),\n",
       " StructureEnergy(Structure('..(.(((((+))))).)..'), energy=-6.0724334716796875, stack_energy=-6.0724334716796875),\n",
       " StructureEnergy(Structure('..(.(((((+)))))..).'), energy=-6.037046909332275, stack_energy=-6.037046909332275),\n",
       " StructureEnergy(Structure('(.((((.((+)).)))).)'), energy=-6.016290187835693, stack_energy=-6.016290187835693),\n",
       " StructureEnergy(Structure('.((.((((.+.)))).)).'), energy=-5.932164430618286, stack_energy=-5.932164430618286),\n",
       " StructureEnergy(Structure('.((((..((+))..)))).'), energy=-5.843749046325684, stack_energy=-5.843749046325684),\n",
       " StructureEnergy(Structure('.(.(((((.+.))))))..'), energy=-5.80754828453064, stack_energy=-5.80754828453064),\n",
       " StructureEnergy(Structure('..((((((.+.))))).).'), energy=-5.80754828453064, stack_energy=-5.80754828453064),\n",
       " StructureEnergy(Structure('....((((.+.))))....'), energy=-5.778230428695679, stack_energy=-5.778230428695679),\n",
       " StructureEnergy(Structure('.(..(((((+)))))..).'), energy=-5.764034271240234, stack_energy=-5.764034271240234),\n",
       " StructureEnergy(Structure('((.(((...+...))).))'), energy=-5.737961769104004, stack_energy=-5.737961769104004),\n",
       " StructureEnergy(Structure('.(((((..(+)..))))).'), energy=-5.715807914733887, stack_energy=-5.715807914733887),\n",
       " StructureEnergy(Structure('((.((.(((+))).)).))'), energy=-5.644663333892822, stack_energy=-5.644663333892822),\n",
       " StructureEnergy(Structure('((((..((.+.))..))))'), energy=-5.639811277389526, stack_energy=-5.639811277389526),\n",
       " StructureEnergy(Structure('.(..(((((+))))).)..'), energy=-5.626407146453857, stack_energy=-5.626407146453857),\n",
       " StructureEnergy(Structure('.((((....+....)))).'), energy=-5.620358943939209, stack_energy=-5.620358943939209),\n",
       " StructureEnergy(Structure('...((((.(+).))))...'), energy=-5.61170768737793, stack_energy=-5.61170768737793),\n",
       " StructureEnergy(Structure('(.((((...+...)))).)'), energy=-5.595833778381348, stack_energy=-5.595833778381348),\n",
       " StructureEnergy(Structure('((((.((..+..)).))))'), energy=-5.560538053512573, stack_energy=-5.560538053512573),\n",
       " StructureEnergy(Structure('..((.((((+)))).))..'), energy=-5.558679103851318, stack_energy=-5.558679103851318),\n",
       " StructureEnergy(Structure('(.(((.(((+))).))).)'), energy=-5.502535343170166, stack_energy=-5.502535343170166),\n",
       " StructureEnergy(Structure('(((..(((.+.)))..)))'), energy=-5.489725351333618, stack_energy=-5.489725351333618),\n",
       " StructureEnergy(Structure('.(.((((..+..)))).).'), energy=-5.485454797744751, stack_energy=-5.485454797744751),\n",
       " StructureEnergy(Structure('..((((.(.+.).))))..'), energy=-5.469580411911011, stack_energy=-5.469580411911011),\n",
       " StructureEnergy(Structure('...(((.((+)).)))...'), energy=-5.436102390289307, stack_energy=-5.436102390289307),\n",
       " StructureEnergy(Structure('.(((.(((.+.))).))).'), energy=-5.418410062789917, stack_energy=-5.418410062789917),\n",
       " StructureEnergy(Structure('(((((.(.(+).).)))))'), energy=-5.378140926361084, stack_energy=-5.378140926361084),\n",
       " StructureEnergy(Structure('(.(.(((((+))))).).)'), energy=-5.234153747558594, stack_energy=-5.234153747558594),\n",
       " StructureEnergy(Structure('.(((..(((+)))..))).'), energy=-5.21169900894165, stack_energy=-5.21169900894165),\n",
       " StructureEnergy(Structure('((.((((((+))))))).)'), energy=-5.1475067138671875, stack_energy=-5.1475067138671875),\n",
       " StructureEnergy(Structure('(.(((((((+)))))).))'), energy=-5.1475067138671875, stack_energy=-5.1475067138671875),\n",
       " StructureEnergy(Structure('(((.(((.(+).))).)))'), energy=-5.109759330749512, stack_energy=-5.109759330749512),\n",
       " StructureEnergy(Structure('.....((((+)))).....'), energy=-5.104744911193848, stack_energy=-5.104744911193848),\n",
       " StructureEnergy(Structure('.((..((((+))))..)).'), energy=-5.061613082885742, stack_energy=-5.061613082885742),\n",
       " StructureEnergy(Structure('(..((((..+..))))..)'), energy=-5.043014764785767, stack_energy=-5.043014764785767),\n",
       " StructureEnergy(Structure('(((((...(+..).)))))'), energy=-5.029260635375977, stack_energy=-5.029260635375977),\n",
       " StructureEnergy(Structure('(((((.(..+)...)))))'), energy=-5.029260635375977, stack_energy=-5.029260635375977),\n",
       " StructureEnergy(Structure('...(((...+...)))...'), energy=-5.015645980834961, stack_energy=-5.015645980834961),\n",
       " StructureEnergy(Structure('((((.....+.....))))'), energy=-4.964476585388184, stack_energy=-4.964476585388184),\n",
       " StructureEnergy(Structure('..(((.((.+.)).)))..'), energy=-4.955825567245483, stack_energy=-4.955825567245483),\n",
       " StructureEnergy(Structure('(((.((.((+)).)).)))'), energy=-4.934154033660889, stack_energy=-4.934154033660889),\n",
       " StructureEnergy(Structure('...((.(((+))).))...'), energy=-4.922347545623779, stack_energy=-4.922347545623779),\n",
       " StructureEnergy(Structure('((.(.((((+)))).).))'), energy=-4.862527370452881, stack_energy=-4.862527370452881),\n",
       " StructureEnergy(Structure('((.(((.(.+.).))).))'), energy=-4.773428678512573, stack_energy=-4.773428678512573),\n",
       " StructureEnergy(Structure('(.((.((((+)))).)).)'), energy=-4.720399379730225, stack_energy=-4.720399379730225),\n",
       " StructureEnergy(Structure('..(.((((.+.)))).)..'), energy=-4.687443971633911, stack_energy=-4.687443971633911),\n",
       " StructureEnergy(Structure('..(.((((.+.))))..).'), energy=-4.652057409286499, stack_energy=-4.652057409286499),\n",
       " StructureEnergy(Structure('(.((((.(.+.).)))).)'), energy=-4.631300687789917, stack_energy=-4.631300687789917),\n",
       " StructureEnergy(Structure('.((((((..+)..))))).'), energy=-4.629180908203125, stack_energy=-4.629180908203125),\n",
       " StructureEnergy(Structure('.(((((..(+..)))))).'), energy=-4.629180908203125, stack_energy=-4.629180908203125),\n",
       " StructureEnergy(Structure('..(((..((+))..)))..'), energy=-4.599028587341309, stack_energy=-4.599028587341309),\n",
       " StructureEnergy(Structure('((((.((.(+).)).))))'), energy=-4.596004962921143, stack_energy=-4.596004962921143),\n",
       " StructureEnergy(Structure('.((((.(..+..).)))).'), energy=-4.529572248458862, stack_energy=-4.529572248458862),\n",
       " StructureEnergy(Structure('((..(((..+..)))..))'), energy=-4.521172761917114, stack_energy=-4.521172761917114),\n",
       " StructureEnergy(Structure('.(.((((.(+).)))).).'), energy=-4.52092170715332, stack_energy=-4.52092170715332),\n",
       " StructureEnergy(Structure('(((.((...+...)).)))'), energy=-4.513697624206543, stack_energy=-4.513697624206543),\n",
       " StructureEnergy(Structure('..((((..(+)..))))..'), energy=-4.471087455749512, stack_energy=-4.471087455749512),\n",
       " StructureEnergy(Structure('.((((..(.+.)..)))).'), energy=-4.458759546279907, stack_energy=-4.458759546279907),\n",
       " StructureEnergy(Structure('((((.(.((+)).).))))'), energy=-4.4203996658325195, stack_energy=-4.4203996658325195),\n",
       " StructureEnergy(Structure('(((.(.(((+))).).)))'), energy=-4.420399188995361, stack_energy=-4.420399188995361),\n",
       " StructureEnergy(Structure('.(..((((.+.))))..).'), energy=-4.379044771194458, stack_energy=-4.379044771194458),\n",
       " StructureEnergy(Structure('..(((....+....)))..'), energy=-4.375638484954834, stack_energy=-4.375638484954834),\n",
       " StructureEnergy(Structure('.(.(((.((+)).))).).'), energy=-4.345316410064697, stack_energy=-4.345316410064697),\n",
       " StructureEnergy(Structure('((((.((((+))).)))))'), energy=-4.33375358581543, stack_energy=-4.33375358581543),\n",
       " StructureEnergy(Structure('(((((.(((+)))).))))'), energy=-4.33375358581543, stack_energy=-4.33375358581543),\n",
       " StructureEnergy(Structure('.((.(((..+..))).)).'), energy=-4.26119065284729, stack_energy=-4.26119065284729),\n",
       " StructureEnergy(Structure('((.((.((.+.)).)).))'), energy=-4.259673833847046, stack_energy=-4.259673833847046),\n",
       " StructureEnergy(Structure('.(..((((.+.)))).)..'), energy=-4.241417646408081, stack_energy=-4.241417646408081),\n",
       " StructureEnergy(Structure('..((.(((.+.))).))..'), energy=-4.173689603805542, stack_energy=-4.173689603805542),\n",
       " StructureEnergy(Structure('...(.((((+)))).)...'), energy=-4.140211582183838, stack_energy=-4.140211582183838),\n",
       " StructureEnergy(Structure('.(.((((..+..)))))..'), energy=-4.1365745067596436, stack_energy=-4.1365745067596436),\n",
       " StructureEnergy(Structure('..(((((..+..)))).).'), energy=-4.1365745067596436, stack_energy=-4.1365745067596436),\n",
       " StructureEnergy(Structure('(.(((.((.+.)).))).)'), energy=-4.11754584312439, stack_energy=-4.11754584312439),\n",
       " StructureEnergy(Structure('....(((..+..)))....'), energy=-4.107256650924683, stack_energy=-4.107256650924683),\n",
       " StructureEnergy(Structure('(..((((.(+).))))..)'), energy=-4.078481674194336, stack_energy=-4.078481674194336),\n",
       " StructureEnergy(Structure('...(((.(.+.).)))...'), energy=-4.05111289024353, stack_energy=-4.05111289024353),\n",
       " StructureEnergy(Structure('((((.(...+...).))))'), energy=-3.999943256378174, stack_energy=-3.999943256378174),\n",
       " StructureEnergy(Structure('(.(.(((((+)))))..))'), energy=-3.992015838623047, stack_energy=-3.992015838623047),\n",
       " StructureEnergy(Structure('((((..(..+..)..))))'), energy=-3.9688374996185303, stack_energy=-3.9688374996185303),\n",
       " StructureEnergy(Structure('..((..(((+)))..))..'), energy=-3.9669785499572754, stack_energy=-3.9669785499572754),\n",
       " StructureEnergy(Structure('.(.(((...+...))).).'), energy=-3.9248600006103516, stack_energy=-3.9248600006103516),\n",
       " StructureEnergy(Structure('((.((..((+))..)).))'), energy=-3.902876853942871, stack_energy=-3.902876853942871),\n",
       " StructureEnergy(Structure('(..(((.((+)).)))..)'), energy=-3.902876377105713, stack_energy=-3.902876377105713),\n",
       " StructureEnergy(Structure('(((((..((+)).).))))'), energy=-3.8497583866119385, stack_energy=-3.8497583866119385),\n",
       " StructureEnergy(Structure('(.(.((((.+.)))).).)'), energy=-3.8491642475128174, stack_energy=-3.8491642475128174),\n",
       " StructureEnergy(Structure('.(.((.(((+))).)).).'), energy=-3.83156156539917, stack_energy=-3.83156156539917),\n",
       " StructureEnergy(Structure('.(((..((.+.))..))).'), energy=-3.826709508895874, stack_energy=-3.826709508895874),\n",
       " StructureEnergy(Structure('(((..((..+..))..)))'), energy=-3.818751573562622, stack_energy=-3.818751573562622),\n",
       " StructureEnergy(Structure('..(..((((+))))..)..'), energy=-3.816892623901367, stack_energy=-3.816892623901367),\n",
       " StructureEnergy(Structure('((.(((..(+)..))).))'), energy=-3.774935722351074, stack_energy=-3.774935722351074),\n",
       " StructureEnergy(Structure('(.((((((.+.))))).))'), energy=-3.762517213821411, stack_energy=-3.762517213821411),\n",
       " StructureEnergy(Structure('((.(((((.+.)))))).)'), energy=-3.762517213821411, stack_energy=-3.762517213821411),\n",
       " StructureEnergy(Structure('(.(((..((+))..))).)'), energy=-3.760748863220215, stack_energy=-3.760748863220215),\n",
       " StructureEnergy(Structure('.(((.((..+..)).))).'), energy=-3.747436285018921, stack_energy=-3.747436285018921),\n",
       " StructureEnergy(Structure('.....(((.+.))).....'), energy=-3.7197554111480713, stack_energy=-3.7197554111480713),\n",
       " StructureEnergy(Structure('((.((....+....)).))'), energy=-3.6794867515563965, stack_energy=-3.6794867515563965),\n",
       " StructureEnergy(Structure('.((..(((.+.)))..)).'), energy=-3.676623582839966, stack_energy=-3.676623582839966),\n",
       " StructureEnergy(Structure('(.((((..(+)..)))).)'), energy=-3.632807731628418, stack_energy=-3.632807731628418),\n",
       " StructureEnergy(Structure('((..(((((+))))).).)'), energy=-3.581376075744629, stack_energy=-3.581376075744629),\n",
       " StructureEnergy(Structure('(((((....+...).))))'), energy=-3.5753283500671387, stack_energy=-3.5753283500671387),\n",
       " StructureEnergy(Structure('((((.(...+....)))))'), energy=-3.5753283500671387, stack_energy=-3.5753283500671387),\n",
       " StructureEnergy(Structure('.((((.(.(+).).)))).'), energy=-3.5650391578674316, stack_energy=-3.5650391578674316),\n",
       " StructureEnergy(Structure('((((.(.((+))..)))))'), energy=-3.5603984594345093, stack_energy=-3.5603984594345093),\n",
       " StructureEnergy(Structure('((..(((.(+).)))..))'), energy=-3.5566396713256836, stack_energy=-3.5566396713256836),\n",
       " StructureEnergy(Structure('(((.((.(.+.).)).)))'), energy=-3.5491645336151123, stack_energy=-3.5491645336151123),\n",
       " StructureEnergy(Structure('(.(((....+....))).)'), energy=-3.5373587608337402, stack_energy=-3.5373587608337402),\n",
       " StructureEnergy(Structure('...((.((.+.)).))...'), energy=-3.537358045578003, stack_energy=-3.537358045578003),\n",
       " StructureEnergy(Structure('(..(((...+...)))..)'), energy=-3.482419967651367, stack_energy=-3.482419967651367),\n",
       " StructureEnergy(Structure('((.(.(((.+.))).).))'), energy=-3.4775378704071045, stack_energy=-3.4775378704071045),\n",
       " StructureEnergy(Structure('(..((.(((+))).))..)'), energy=-3.3891215324401855, stack_energy=-3.3891215324401855),\n",
       " StructureEnergy(Structure('..((((..(+..)))))..'), energy=-3.38446044921875, stack_energy=-3.38446044921875),\n",
       " StructureEnergy(Structure('..(((((..+)..))))..'), energy=-3.38446044921875, stack_energy=-3.38446044921875),\n",
       " StructureEnergy(Structure('((..((.((+)).))..))'), energy=-3.3810343742370605, stack_energy=-3.3810343742370605),\n",
       " StructureEnergy(Structure('(.((.(((.+.))).)).)'), energy=-3.3354098796844482, stack_energy=-3.3354098796844482),\n",
       " StructureEnergy(Structure('.((.(((.(+).))).)).'), energy=-3.2966575622558594, stack_energy=-3.2966575622558594),\n",
       " StructureEnergy(Structure('(((......+......)))'), energy=-3.2935028076171875, stack_energy=-3.2935028076171875),\n",
       " StructureEnergy(Structure('......(((+)))......'), energy=-3.2916431427001953, stack_energy=-3.2916431427001953),\n",
       " StructureEnergy(Structure('..(((.(..+..).)))..'), energy=-3.2848517894744873, stack_energy=-3.2848517894744873),\n",
       " StructureEnergy(Structure('((.(..(((+)))..).))'), energy=-3.270826816558838, stack_energy=-3.270826816558838),\n",
       " StructureEnergy(Structure('.((((.(..+)...)))).'), energy=-3.216158866882324, stack_energy=-3.216158866882324),\n",
       " StructureEnergy(Structure('.((((...(+..).)))).'), energy=-3.216158866882324, stack_energy=-3.216158866882324),\n",
       " StructureEnergy(Structure('..(((..(.+.)..)))..'), energy=-3.2140390872955322, stack_energy=-3.2140390872955322),\n",
       " StructureEnergy(Structure('...((..((+))..))...'), energy=-3.180561065673828, stack_energy=-3.180561065673828),\n",
       " StructureEnergy(Structure('..(((((.(+).)))).).'), energy=-3.172041416168213, stack_energy=-3.172041416168213),\n",
       " StructureEnergy(Structure('.(.((((.(+).)))))..'), energy=-3.172041416168213, stack_energy=-3.172041416168213),\n",
       " StructureEnergy(Structure('.(((.....+.....))).'), energy=-3.1513748168945312, stack_energy=-3.1513748168945312),\n",
       " StructureEnergy(Structure('....(((.(+).)))....'), energy=-3.142723560333252, stack_energy=-3.142723560333252),\n",
       " StructureEnergy(Structure('(.((..(((+)))..)).)'), energy=-3.1286988258361816, stack_energy=-3.1286988258361816),\n",
       " StructureEnergy(Structure('.((.((.((+)).)).)).'), energy=-3.1210522651672363, stack_energy=-3.1210522651672363),\n",
       " StructureEnergy(Structure('(((((...(+)...)))))'), energy=-3.063261032104492, stack_energy=-3.063261032104492),\n",
       " StructureEnergy(Structure('...(((..(+)..)))...'), energy=-3.0526199340820312, stack_energy=-3.0526199340820312),\n",
       " StructureEnergy(Structure('.(.(.((((+)))).).).'), energy=-3.0494256019592285, stack_energy=-3.0494256019592285),\n",
       " StructureEnergy(Structure('((((.(.(.+.).).))))'), energy=-3.035410165786743, stack_energy=-3.035410165786743),\n",
       " StructureEnergy(Structure('(((.(.((.+.)).).)))'), energy=-3.035409688949585, stack_energy=-3.035409688949585),\n",
       " StructureEnergy(Structure('..(.(((..+..))).)..'), energy=-3.016470193862915, stack_energy=-3.016470193862915),\n",
       " StructureEnergy(Structure('((((..(.(+).)..))))'), energy=-3.0043044090270996, stack_energy=-3.0043044090270996),\n",
       " StructureEnergy(Structure('.(.(((.((+)).))))..'), energy=-2.99643611907959, stack_energy=-2.99643611907959),\n",
       " StructureEnergy(Structure('..((((.((+)).))).).'), energy=-2.99643611907959, stack_energy=-2.99643611907959),\n",
       " StructureEnergy(Structure('..(.(((..+..)))..).'), energy=-2.981083631515503, stack_energy=-2.981083631515503),\n",
       " StructureEnergy(Structure('(.(..((((+))))..).)'), energy=-2.9786128997802734, stack_energy=-2.9786128997802734),\n",
       " StructureEnergy(Structure('(((..((((+))).).)))'), energy=-2.9711685180664062, stack_energy=-2.9711685180664062),\n",
       " StructureEnergy(Structure('....((.((+)).))....'), energy=-2.967118263244629, stack_energy=-2.967118263244629),\n",
       " StructureEnergy(Structure('((..((...+...))..))'), energy=-2.960577964782715, stack_energy=-2.960577964782715),\n",
       " StructureEnergy(Structure('.(.(((.(.+.).))).).'), energy=-2.960326910018921, stack_energy=-2.960326910018921),\n",
       " StructureEnergy(Structure('...((....+....))...'), energy=-2.9571709632873535, stack_energy=-2.9571709632873535),\n",
       " StructureEnergy(Structure('(((((.((.+.))).))))'), energy=-2.9487640857696533, stack_energy=-2.9487640857696533),\n",
       " StructureEnergy(Structure('((((.(((.+.)).)))))'), energy=-2.9487640857696533, stack_energy=-2.9487640857696533),\n",
       " StructureEnergy(Structure('(...(((((+)))))...)'), energy=-2.9192733764648438, stack_energy=-2.9192733764648438),\n",
       " StructureEnergy(Structure('((..(.(((+))).)..))'), energy=-2.867279529571533, stack_energy=-2.867279529571533),\n",
       " StructureEnergy(Structure('(((..((.(+).))..)))'), energy=-2.8542184829711914, stack_energy=-2.8542184829711914),\n",
       " StructureEnergy(Structure('.(((.((.(+).)).))).'), energy=-2.7829031944274902, stack_energy=-2.7829031944274902),\n",
       " StructureEnergy(Structure('...(.(((.+.))).)...'), energy=-2.7552220821380615, stack_energy=-2.7552220821380615),\n",
       " StructureEnergy(Structure('.(..(((..+..)))..).'), energy=-2.708070993423462, stack_energy=-2.708070993423462),\n",
       " StructureEnergy(Structure('.((.((...+...)).)).'), energy=-2.7005958557128906, stack_energy=-2.7005958557128906),\n",
       " StructureEnergy(Structure('((.(((..(+..)))).))'), energy=-2.6883087158203125, stack_energy=-2.6883087158203125),\n",
       " StructureEnergy(Structure('((.((((..+)..))).))'), energy=-2.6883087158203125, stack_energy=-2.6883087158203125),\n",
       " StructureEnergy(Structure('(((..(.((+)).)..)))'), energy=-2.6786131858825684, stack_energy=-2.6786131858825684),\n",
       " StructureEnergy(Structure('(((.(..((+))..).)))'), energy=-2.67861270904541, stack_energy=-2.67861270904541),\n",
       " StructureEnergy(Structure('.(((.(.((+)).).))).'), energy=-2.607297897338867, stack_energy=-2.607297897338867),\n",
       " StructureEnergy(Structure('.((.(.(((+))).).)).'), energy=-2.607297420501709, stack_energy=-2.607297420501709),\n",
       " StructureEnergy(Structure('(.(.((((.+.))))..))'), energy=-2.6070263385772705, stack_energy=-2.6070263385772705),\n",
       " StructureEnergy(Structure('(..(.((((+)))).)..)'), energy=-2.606985569000244, stack_energy=-2.606985569000244),\n",
       " StructureEnergy(Structure('((.((.(..+..).)).))'), energy=-2.58870005607605, stack_energy=-2.58870005607605),\n",
       " StructureEnergy(Structure('(((.(.(((+))))..)))'), energy=-2.585354804992676, stack_energy=-2.585354804992676),\n",
       " StructureEnergy(Structure('..((..((.+.))..))..'), energy=-2.581989049911499, stack_energy=-2.581989049911499),\n",
       " StructureEnergy(Structure('.(.(((...+...))))..'), energy=-2.575979709625244, stack_energy=-2.575979709625244),\n",
       " StructureEnergy(Structure('..((((...+...))).).'), energy=-2.575979709625244, stack_energy=-2.575979709625244),\n",
       " StructureEnergy(Structure('.(..(((..+..))).)..'), energy=-2.570443868637085, stack_energy=-2.570443868637085),\n",
       " StructureEnergy(Structure('(((.((..(+)..)).)))'), energy=-2.5506715774536133, stack_energy=-2.5506715774536133),\n",
       " StructureEnergy(Structure('...(..(((+)))..)...'), energy=-2.548511028289795, stack_energy=-2.548511028289795),\n",
       " StructureEnergy(Structure('((...((((+))))...))'), energy=-2.547647476196289, stack_energy=-2.547647476196289),\n",
       " StructureEnergy(Structure('....((...+...))....'), energy=-2.546661853790283, stack_energy=-2.546661853790283),\n",
       " StructureEnergy(Structure('(.(((((..+)..)))).)'), energy=-2.5461807250976562, stack_energy=-2.5461807250976562),\n",
       " StructureEnergy(Structure('(.((((..(+..))))).)'), energy=-2.5461807250976562, stack_energy=-2.5461807250976562),\n",
       " StructureEnergy(Structure('.((((.(((+)))).))).'), energy=-2.5206518173217773, stack_energy=-2.5206518173217773),\n",
       " StructureEnergy(Structure('.(((.((((+))).)))).'), energy=-2.5206518173217773, stack_energy=-2.5206518173217773),\n",
       " StructureEnergy(Structure('((.((..(.+.)..)).))'), energy=-2.5178873538970947, stack_energy=-2.5178873538970947),\n",
       " StructureEnergy(Structure('(..(((.(.+.).)))..)'), energy=-2.5178868770599365, stack_energy=-2.5178868770599365),\n",
       " StructureEnergy(Structure('..((.((..+..)).))..'), energy=-2.502715826034546, stack_energy=-2.502715826034546),\n",
       " StructureEnergy(Structure('..(((.(((+))).)).).'), energy=-2.4826812744140625, stack_energy=-2.4826812744140625),\n",
       " StructureEnergy(Structure('.(.((.(((+))).)))..'), energy=-2.4826812744140625, stack_energy=-2.4826812744140625),\n",
       " StructureEnergy(Structure('(((((..(.+.).).))))'), energy=-2.464768886566162, stack_energy=-2.464768886566162),\n",
       " StructureEnergy(Structure('(((.(....+....).)))'), energy=-2.4552226066589355, stack_energy=-2.4552226066589355),\n",
       " StructureEnergy(Structure('....(.(((+))).)....'), energy=-2.4533634185791016, stack_energy=-2.4533634185791016),\n",
       " StructureEnergy(Structure('(.(((.(..+..).))).)'), energy=-2.4465720653533936, stack_energy=-2.4465720653533936),\n",
       " StructureEnergy(Structure('.(.((.((.+.)).)).).'), energy=-2.4465720653533936, stack_energy=-2.4465720653533936),\n",
       " StructureEnergy(Structure('..(..(((.+.)))..)..'), energy=-2.431903123855591, stack_energy=-2.431903123855591),\n",
       " StructureEnergy(Structure('....(.((.+.....)).)'), energy=-2.4029765129089355, stack_energy=-2.4029765129089355),\n",
       " StructureEnergy(Structure('(.(((..(.+.)..))).)'), energy=-2.3757593631744385, stack_energy=-2.3757593631744385),\n",
       " StructureEnergy(Structure('..(((.(.(+).).)))..'), energy=-2.3203186988830566, stack_energy=-2.3203186988830566),\n",
       " StructureEnergy(Structure('(((..(...+...)..)))'), energy=-2.2581567764282227, stack_energy=-2.2581567764282227),\n",
       " StructureEnergy(Structure('(((((.(..+)..).))))'), energy=-2.2150752544403076, stack_energy=-2.2150752544403076),\n",
       " StructureEnergy(Structure('(((..(...+....).)))'), energy=-2.2127432823181152, stack_energy=-2.2127432823181152),\n",
       " StructureEnergy(Structure('(((..(.((+))..).)))'), energy=-2.197813391685486, stack_energy=-2.197813391685486),\n",
       " StructureEnergy(Structure('((..((((.+.)))).).)'), energy=-2.1963865756988525, stack_energy=-2.1963865756988525),\n",
       " StructureEnergy(Structure('.(((.(...+...).))).'), energy=-2.1868414878845215, stack_energy=-2.1868414878845215),\n",
       " StructureEnergy(Structure('(.(.(((..+..))).).)'), energy=-2.1781904697418213, stack_energy=-2.1781904697418213),\n",
       " StructureEnergy(Structure('((((.(.(.+.)..)))))'), energy=-2.175408959388733, stack_energy=-2.175408959388733),\n",
       " StructureEnergy(Structure('.(((..(..+..)..))).'), energy=-2.155735731124878, stack_energy=-2.155735731124878),\n",
       " StructureEnergy(Structure('((((...((+))...))))'), energy=-2.1055192947387695, stack_energy=-2.1055192947387695),\n",
       " StructureEnergy(Structure('(((...(((+)))...)))'), energy=-2.1055192947387695, stack_energy=-2.1055192947387695),\n",
       " StructureEnergy(Structure('(((.(..((+)).)..)))'), energy=-2.1013596057891846, stack_energy=-2.1013596057891846),\n",
       " StructureEnergy(Structure('(.(((((..+..)))).))'), energy=-2.091543436050415, stack_energy=-2.091543436050415),\n",
       " StructureEnergy(Structure('((.((((..+..))))).)'), energy=-2.091543436050415, stack_energy=-2.091543436050415),\n",
       " StructureEnergy(Structure('.(.((..((+))..)).).'), energy=-2.0897750854492188, stack_energy=-2.0897750854492188),\n",
       " StructureEnergy(Structure('..(.(((.(+).))).)..'), energy=-2.0519371032714844, stack_energy=-2.0519371032714844),\n",
       " StructureEnergy(Structure('((.......+.......))'), energy=-2.0487823486328125, stack_energy=-2.0487823486328125),\n",
       " StructureEnergy(Structure('.....((..+.......))'), energy=-2.048781633377075, stack_energy=-2.048781633377075),\n",
       " StructureEnergy(Structure('.....((..+..)).....'), energy=-2.048781633377075, stack_energy=-2.048781633377075),\n",
       " StructureEnergy(Structure('((.......+..)).....'), energy=-2.048781394958496, stack_energy=-2.048781394958496),\n",
       " StructureEnergy(Structure('((((.(..(+)..).))))'), energy=-2.036917209625244, stack_energy=-2.036917209625244),\n",
       " StructureEnergy(Structure('.((((..((+)).).))).'), energy=-2.036656618118286, stack_energy=-2.036656618118286),\n",
       " StructureEnergy(Structure('....(((((+))))....)'), energy=-2.0182383060455322, stack_energy=-2.0182383060455322),\n",
       " StructureEnergy(Structure('(....((((+)))))....'), energy=-2.018238067626953, stack_energy=-2.018238067626953),\n",
       " StructureEnergy(Structure('..(.(((.(+).)))..).'), energy=-2.0165505409240723, stack_energy=-2.0165505409240723),\n",
       " StructureEnergy(Structure('.((..((..+..))..)).'), energy=-2.0056498050689697, stack_energy=-2.0056498050689697),\n",
       " StructureEnergy(Structure('(..((.((.+.)).))..)'), energy=-2.004132032394409, stack_energy=-2.004132032394409),\n",
       " StructureEnergy(Structure('((..((.(.+.).))..))'), energy=-1.9960448741912842, stack_energy=-1.9960448741912842),\n",
       " StructureEnergy(Structure('..(((.(..+)...)))..'), energy=-1.9714384078979492, stack_energy=-1.9714384078979492),\n",
       " StructureEnergy(Structure('..(((...(+..).)))..'), energy=-1.9714384078979492, stack_energy=-1.9714384078979492),\n",
       " StructureEnergy(Structure('...(((..(+..))))...'), energy=-1.9659929275512695, stack_energy=-1.9659929275512695),\n",
       " StructureEnergy(Structure('...((((..+)..)))...'), energy=-1.9659929275512695, stack_energy=-1.9659929275512695),\n",
       " StructureEnergy(Structure('.(.(((..(+)..))).).'), energy=-1.9618339538574219, stack_energy=-1.9618339538574219),\n",
       " StructureEnergy(Structure('..((.....+.....))..'), energy=-1.9066543579101562, stack_energy=-1.9066543579101562),\n",
       " StructureEnergy(Structure('......((.+.))......'), energy=-1.906653642654419, stack_energy=-1.906653642654419),\n",
       " StructureEnergy(Structure('......((.+.....))..'), energy=-1.9066534042358398, stack_energy=-1.9066534042358398),\n",
       " StructureEnergy(Structure('..((.....+.))......'), energy=-1.9066534042358398, stack_energy=-1.9066534042358398),\n",
       " StructureEnergy(Structure('((.(..((.+.))..).))'), energy=-1.8858373165130615, stack_energy=-1.8858373165130615),\n",
       " StructureEnergy(Structure('..(.((.((+)).)).)..'), energy=-1.8763318061828613, stack_energy=-1.8763318061828613),\n",
       " StructureEnergy(Structure('.......((+)).......'), energy=-1.8731765747070312, stack_energy=-1.8731765747070312),\n",
       " StructureEnergy(Structure('.(.((....+....)).).'), energy=-1.8663849830627441, stack_energy=-1.8663849830627441),\n",
       " StructureEnergy(Structure('...((.(..+..).))...'), energy=-1.8663842678070068, stack_energy=-1.8663842678070068),\n",
       " StructureEnergy(Structure('..(.((.((+)).))..).'), energy=-1.8409452438354492, stack_energy=-1.8409452438354492),\n",
       " StructureEnergy(Structure('(((.(....+...)..)))'), energy=-1.8269295692443848, stack_energy=-1.8269295692443848),\n",
       " StructureEnergy(Structure('((.(.((..+..)).).))'), energy=-1.8065640926361084, stack_energy=-1.8065640926361084),\n",
       " StructureEnergy(Structure('...((..(.+.)..))...'), energy=-1.7955715656280518, stack_energy=-1.7955715656280518),\n",
       " StructureEnergy(Structure('.((((....+...).))).'), energy=-1.7622265815734863, stack_energy=-1.7622265815734863),\n",
       " StructureEnergy(Structure('.(((.(...+....)))).'), energy=-1.7622265815734863, stack_energy=-1.7622265815734863),\n",
       " StructureEnergy(Structure('.(((.(.((+))..)))).'), energy=-1.747296690940857, stack_energy=-1.747296690940857),\n",
       " StructureEnergy(Structure('(.((..((.+.))..)).)'), energy=-1.7437093257904053, stack_energy=-1.7437093257904053),\n",
       " StructureEnergy(Structure('.(..(((.(+).)))..).'), energy=-1.7435379028320312, stack_energy=-1.7435379028320312),\n",
       " StructureEnergy(Structure('.((.((.(.+.).)).)).'), energy=-1.73606276512146, stack_energy=-1.73606276512146),\n",
       " StructureEnergy(Structure('.(.(.((((+)))).))..'), energy=-1.700545310974121, stack_energy=-1.700545310974121),\n",
       " StructureEnergy(Structure('..((.((((+)))).).).'), energy=-1.700545310974121, stack_energy=-1.700545310974121),\n",
       " StructureEnergy(Structure('.(.(.(((.+.))).).).'), energy=-1.6644361019134521, stack_energy=-1.6644361019134521),\n",
       " StructureEnergy(Structure('(.((.((..+..)).)).)'), energy=-1.6644361019134521, stack_energy=-1.6644361019134521),\n",
       " StructureEnergy(Structure('(..((..((+))..))..)'), energy=-1.6473350524902344, stack_energy=-1.6473350524902344),\n",
       " StructureEnergy(Structure('((((.(..(+..).)))))'), energy=-1.6363551616668701, stack_energy=-1.6363551616668701),\n",
       " StructureEnergy(Structure('((.((.(.(+).).)).))'), energy=-1.6241669654846191, stack_energy=-1.6241669654846191),\n",
       " StructureEnergy(Structure('..((((.(.+.).))).).'), energy=-1.6114466190338135, stack_energy=-1.6114466190338135),\n",
       " StructureEnergy(Structure('.(.(((.(.+.).))))..'), energy=-1.6114466190338135, stack_energy=-1.6114466190338135),\n",
       " StructureEnergy(Structure('.(..(((.(+).))).)..'), energy=-1.6059107780456543, stack_energy=-1.6059107780456543),\n",
       " StructureEnergy(Structure('(.(..(((.+.)))..).)'), energy=-1.593623399734497, stack_energy=-1.593623399734497),\n",
       " StructureEnergy(Structure('(((..(((.+.)).).)))'), energy=-1.5861790180206299, stack_energy=-1.5861790180206299),\n",
       " StructureEnergy(Structure('....((.(.+.).))....'), energy=-1.5821287631988525, stack_energy=-1.5821287631988525),\n",
       " StructureEnergy(Structure('.(..((.((+)).))..).'), energy=-1.5679326057434082, stack_energy=-1.5679326057434082),\n",
       " StructureEnergy(Structure('.(...((((+))))..)..'), energy=-1.5409455299377441, stack_energy=-1.5409455299377441),\n",
       " StructureEnergy(Structure('..((.((.(+).)).))..'), energy=-1.5381827354431152, stack_energy=-1.5381827354431152),\n",
       " StructureEnergy(Structure('(...((((.+.))))...)'), energy=-1.5342838764190674, stack_energy=-1.5342838764190674),\n",
       " StructureEnergy(Structure('(..(((..(+)..)))..)'), energy=-1.5193939208984375, stack_energy=-1.5193939208984375),\n",
       " StructureEnergy(Structure('((..(.((.+.)).)..))'), energy=-1.4822900295257568, stack_energy=-1.4822900295257568),\n",
       " StructureEnergy(Structure('(.(((.(.(+).).))).)'), energy=-1.482038974761963, stack_energy=-1.482038974761963),\n",
       " StructureEnergy(Structure('.((......+......)).'), energy=-1.4804010391235352, stack_energy=-1.4804010391235352),\n",
       " StructureEnergy(Structure('(((.(((..+)..)).)))'), energy=-1.4640445709228516, stack_energy=-1.4640445709228516),\n",
       " StructureEnergy(Structure('(((.((..(+..))).)))'), energy=-1.4640445709228516, stack_energy=-1.4640445709228516),\n",
       " StructureEnergy(Structure('.(.(..(((+)))..).).'), energy=-1.4577250480651855, stack_energy=-1.4577250480651855),\n",
       " StructureEnergy(Structure('..(.((...+...)).)..'), energy=-1.4558753967285156, stack_energy=-1.4558753967285156),\n",
       " StructureEnergy(Structure('.(..((.((+)).)).)..'), energy=-1.4303054809570312, stack_energy=-1.4303054809570312),\n",
       " StructureEnergy(Structure('(..((....+....))..)'), energy=-1.4239449501037598, stack_energy=-1.4239449501037598),\n",
       " StructureEnergy(Structure('..(.((...+...))..).'), energy=-1.4204888343811035, stack_energy=-1.4204888343811035),\n",
       " StructureEnergy(Structure('..(..((((+))))...).'), energy=-1.4054784774780273, stack_energy=-1.4054784774780273),\n",
       " StructureEnergy(Structure('(((.(.(..+..).).)))'), energy=-1.3644359111785889, stack_energy=-1.3644359111785889),\n",
       " StructureEnergy(Structure('..((.(.((+)).).))..'), energy=-1.3625774383544922, stack_energy=-1.3625774383544922),\n",
       " StructureEnergy(Structure('..(.(.(((+))).).)..'), energy=-1.362576961517334, stack_energy=-1.362576961517334),\n",
       " StructureEnergy(Structure('..(.(.(((+))).)..).'), energy=-1.3271903991699219, stack_energy=-1.3271903991699219),\n",
       " StructureEnergy(Structure('(((..(.(.+.).)..)))'), energy=-1.293623685836792, stack_energy=-1.293623685836792),\n",
       " StructureEnergy(Structure('(((.(..(.+.)..).)))'), energy=-1.2936232089996338, stack_energy=-1.2936232089996338),\n",
       " StructureEnergy(Structure('((((.((..+..).)))))'), energy=-1.2777903079986572, stack_energy=-1.2777903079986572),\n",
       " StructureEnergy(Structure('(((((.(..+..)).))))'), energy=-1.2777903079986572, stack_energy=-1.2777903079986572),\n",
       " StructureEnergy(Structure('..((.((((+))).)))..'), energy=-1.2759313583374023, stack_energy=-1.2759313583374023),\n",
       " StructureEnergy(Structure('..(((.(((+)))).))..'), energy=-1.2759313583374023, stack_energy=-1.2759313583374023),\n",
       " StructureEnergy(Structure('((.((.(..+)...)).))'), energy=-1.2752866744995117, stack_energy=-1.2752866744995117),\n",
       " StructureEnergy(Structure('((.((...(+..).)).))'), energy=-1.2752866744995117, stack_energy=-1.2752866744995117),\n",
       " StructureEnergy(Structure('.((((...(+)...)))).'), energy=-1.2501592636108398, stack_energy=-1.2501592636108398),\n",
       " StructureEnergy(Structure('....(.(((+)))).....'), energy=-1.2466120719909668, stack_energy=-1.2466120719909668),\n",
       " StructureEnergy(Structure('.....((((+))).)....'), energy=-1.2466120719909668, stack_energy=-1.2466120719909668),\n",
       " StructureEnergy(Structure('.(((.(.(.+.).).))).'), energy=-1.2223083972930908, stack_energy=-1.2223083972930908),\n",
       " StructureEnergy(Structure('.((.(.((.+.)).).)).'), energy=-1.2223079204559326, stack_energy=-1.2223079204559326),\n",
       " StructureEnergy(Structure('(..(.(((.+.))).)..)'), energy=-1.2219960689544678, stack_energy=-1.2219960689544678),\n",
       " StructureEnergy(Structure('(.(.(((.(+).))).).)'), energy=-1.2136573791503906, stack_energy=-1.2136573791503906),\n",
       " StructureEnergy(Structure('((.(.....+.....).))'), energy=-1.2105026245117188, stack_energy=-1.2105026245117188),\n",
       " StructureEnergy(Structure('(((.(.((.+.)))..)))'), energy=-1.2003653049468994, stack_energy=-1.2003653049468994),\n",
       " StructureEnergy(Structure('.(((..(.(+).)..))).'), energy=-1.1912026405334473, stack_energy=-1.1912026405334473),\n",
       " StructureEnergy(Structure('...(..((.+.))..)...'), energy=-1.1635215282440186, stack_energy=-1.1635215282440186),\n",
       " StructureEnergy(Structure('((...(((.+.)))...))'), energy=-1.1626579761505127, stack_energy=-1.1626579761505127),\n",
       " StructureEnergy(Structure('.((..((((+))).).)).'), energy=-1.158066749572754, stack_energy=-1.158066749572754),\n",
       " StructureEnergy(Structure('.(..((...+...))..).'), energy=-1.1474761962890625, stack_energy=-1.1474761962890625),\n",
       " StructureEnergy(Structure('.(((.(((.+.)).)))).'), energy=-1.135662317276001, stack_energy=-1.135662317276001),\n",
       " StructureEnergy(Structure('.((((.((.+.))).))).'), energy=-1.135662317276001, stack_energy=-1.135662317276001),\n",
       " StructureEnergy(Structure('(.(((.(..+)...))).)'), energy=-1.1331586837768555, stack_energy=-1.1331586837768555),\n",
       " StructureEnergy(Structure('(.(((...(+..).))).)'), energy=-1.1331586837768555, stack_energy=-1.1331586837768555),\n",
       " StructureEnergy(Structure('(.(((((.(+).)))).))'), energy=-1.1270103454589844, stack_energy=-1.1270103454589844),\n",
       " StructureEnergy(Structure('((.((((.(+).))))).)'), energy=-1.1270103454589844, stack_energy=-1.1270103454589844),\n",
       " StructureEnergy(Structure('((..(..((+))..)..))'), energy=-1.125493049621582, stack_energy=-1.125493049621582),\n",
       " StructureEnergy(Structure('..(((.((.+.)).)).).'), energy=-1.0976917743682861, stack_energy=-1.0976917743682861),\n",
       " StructureEnergy(Structure('.(.((.((.+.)).)))..'), energy=-1.0976917743682861, stack_energy=-1.0976917743682861),\n",
       " StructureEnergy(Structure('.....((.(+).)).....'), energy=-1.0842485427856445, stack_energy=-1.0842485427856445),\n",
       " StructureEnergy(Structure('...(.((..+..)).)...'), energy=-1.0842483043670654, stack_energy=-1.0842483043670654),\n",
       " StructureEnergy(Structure('(.((.....+.....)).)'), energy=-1.0683746337890625, stack_energy=-1.0683746337890625),\n",
       " StructureEnergy(Structure('....(.((.+.)).)....'), energy=-1.0683739185333252, stack_energy=-1.0683739185333252),\n",
       " StructureEnergy(Structure('.(..(.(((+))).)..).'), energy=-1.0541777610778809, stack_energy=-1.0541777610778809),\n",
       " StructureEnergy(Structure('.((..((.(+).))..)).'), energy=-1.041116714477539, stack_energy=-1.041116714477539),\n",
       " StructureEnergy(Structure('(.(.((.((+)).)).).)'), energy=-1.0380520820617676, stack_energy=-1.0380520820617676),\n",
       " StructureEnergy(Structure('(..(..(((+)))..)..)'), energy=-1.0152850151062012, stack_energy=-1.0152850151062012),\n",
       " StructureEnergy(Structure('.(..((...+...)).)..'), energy=-1.0098490715026855, stack_energy=-1.0098490715026855),\n",
       " StructureEnergy(Structure('((..((..(+)..))..))'), energy=-0.9975519180297852, stack_energy=-0.9975519180297852),\n",
       " StructureEnergy(Structure('(.((((.((+)).))).))'), energy=-0.9514050483703613, stack_energy=-0.9514050483703613),\n",
       " StructureEnergy(Structure('((.(((.((+)).)))).)'), energy=-0.9514050483703613, stack_energy=-0.9514050483703613),\n",
       " StructureEnergy(Structure('((((.((..+)..).))))'), energy=-0.9502902030944824, stack_energy=-0.9502902030944824),\n",
       " StructureEnergy(Structure('((((.(..(+..)).))))'), energy=-0.9502902030944824, stack_energy=-0.9502902030944824),\n",
       " StructureEnergy(Structure('..((.(...+...).))..'), energy=-0.9421210289001465, stack_energy=-0.9421210289001465),\n",
       " StructureEnergy(Structure('(.(.(((..+..)))..))'), energy=-0.9360525608062744, stack_energy=-0.9360525608062744),\n",
       " StructureEnergy(Structure('.(..(.(((+))).).)..'), energy=-0.9165506362915039, stack_energy=-0.9165506362915039),\n",
       " StructureEnergy(Structure('..((..(..+..)..))..'), energy=-0.9110152721405029, stack_energy=-0.9110152721405029),\n",
       " StructureEnergy(Structure('.....(.((+)).).....'), energy=-0.9086432456970215, stack_energy=-0.9086432456970215),\n",
       " StructureEnergy(Structure('((..(....+....)..))'), energy=-0.9021029472351074, stack_energy=-0.9021029472351074),\n",
       " StructureEnergy(Structure('...((.(.(+).).))...'), energy=-0.9018511772155762, stack_energy=-0.9018511772155762),\n",
       " StructureEnergy(Structure('.(.((((..+)..))).).'), energy=-0.8752069473266602, stack_energy=-0.8752069473266602),\n",
       " StructureEnergy(Structure('.(.(((..(+..)))).).'), energy=-0.8752069473266602, stack_energy=-0.8752069473266602),\n",
       " StructureEnergy(Structure('.((..(.((+)).)..)).'), energy=-0.865511417388916, stack_energy=-0.865511417388916),\n",
       " StructureEnergy(Structure('.((.(..((+))..).)).'), energy=-0.8655109405517578, stack_energy=-0.8655109405517578),\n",
       " StructureEnergy(Structure('((.(.((.(+).)).).))'), energy=-0.8420310020446777, stack_energy=-0.8420310020446777),\n",
       " StructureEnergy(Structure('(((..(.(.+.)..).)))'), energy=-0.8128238916397095, stack_energy=-0.8128238916397095),\n",
       " StructureEnergy(Structure('..(((..((+)).).))..'), energy=-0.7919361591339111, stack_energy=-0.7919361591339111),\n",
       " StructureEnergy(Structure('.(.((.(..+..).)).).'), energy=-0.7755982875823975, stack_energy=-0.7755982875823975),\n",
       " StructureEnergy(Structure('.((.(.(((+))))..)).'), energy=-0.7722530364990234, stack_energy=-0.7722530364990234),\n",
       " StructureEnergy(Structure('....(..((+)).).....'), energy=-0.7626168727874756, stack_energy=-0.7626168727874756),\n",
       " StructureEnergy(Structure('..(..((..+..))..)..'), energy=-0.7609293460845947, stack_energy=-0.7609293460845947),\n",
       " StructureEnergy(Structure('..(((..((+))..)).).'), energy=-0.7408947944641113, stack_energy=-0.7408947944641113),\n",
       " StructureEnergy(Structure('.(.((..((+))..)))..'), energy=-0.7408947944641113, stack_energy=-0.7408947944641113),\n",
       " StructureEnergy(Structure('.((.((..(+)..)).)).'), energy=-0.7375698089599609, stack_energy=-0.7375698089599609),\n",
       " StructureEnergy(Structure('.(...((((+))))...).'), energy=-0.7345457077026367, stack_energy=-0.7345457077026367),\n",
       " StructureEnergy(Structure('....(.(..+......).)'), energy=-0.7320027351379395, stack_energy=-0.7320027351379395),\n",
       " StructureEnergy(Structure('((((...(.+.)...))))'), energy=-0.7205297946929932, stack_energy=-0.7205297946929932),\n",
       " StructureEnergy(Structure('(((...((.+.))...)))'), energy=-0.7205297946929932, stack_energy=-0.7205297946929932),\n",
       " StructureEnergy(Structure('(((.(..(.+.).)..)))'), energy=-0.7163701057434082, stack_energy=-0.7163701057434082),\n",
       " StructureEnergy(Structure('....(..((+))..)....'), energy=-0.7115769386291504, stack_energy=-0.7115769386291504),\n",
       " StructureEnergy(Structure('.(.((..(.+.)..)).).'), energy=-0.7047855854034424, stack_energy=-0.7047855854034424),\n",
       " StructureEnergy(Structure('(.((.((.(+).)).)).)'), energy=-0.6999030113220215, stack_energy=-0.6999030113220215),\n",
       " StructureEnergy(Structure('((.(.(.((+)).).).))'), energy=-0.6664257049560547, stack_energy=-0.6664257049560547),\n",
       " StructureEnergy(Structure('.((((..(.+.).).))).'), energy=-0.6516671180725098, stack_energy=-0.6516671180725098),\n",
       " StructureEnergy(Structure('.((.(....+....).)).'), energy=-0.6421208381652832, stack_energy=-0.6421208381652832),\n",
       " StructureEnergy(Structure('....((((.+.)))....)'), energy=-0.6332488059997559, stack_energy=-0.6332488059997559),\n",
       " StructureEnergy(Structure('(....(((.+.))))....'), energy=-0.6332485675811768, stack_energy=-0.6332485675811768),\n",
       " StructureEnergy(Structure('(.(.((...+...)).).)'), energy=-0.6175956726074219, stack_energy=-0.6175956726074219),\n",
       " StructureEnergy(Structure('..((((..(+)..))).).'), energy=-0.6129536628723145, stack_energy=-0.6129536628723145),\n",
       " StructureEnergy(Structure('.(.(((..(+)..))))..'), energy=-0.6129536628723145, stack_energy=-0.6129536628723145),\n",
       " StructureEnergy(Structure('....((..(+)..))....'), energy=-0.5836358070373535, stack_energy=-0.5836358070373535),\n",
       " StructureEnergy(Structure('((.((.(((+)))).).))'), energy=-0.5797796249389648, stack_energy=-0.5797796249389648),\n",
       " StructureEnergy(Structure('((.(.((((+))).)).))'), energy=-0.5797796249389648, stack_energy=-0.5797796249389648),\n",
       " StructureEnergy(Structure('...((...(+..).))...'), energy=-0.5529708862304688, stack_energy=-0.5529708862304688),\n",
       " StructureEnergy(Structure('...((.(..+)...))...'), energy=-0.5529708862304688, stack_energy=-0.5529708862304688),\n",
       " StructureEnergy(Structure('((.(((...+...)))).)'), energy=-0.5309486389160156, stack_energy=-0.5309486389160156),\n",
       " StructureEnergy(Structure('(.((((...+...))).))'), energy=-0.5309486389160156, stack_energy=-0.5309486389160156),\n",
       " StructureEnergy(Structure('((..(((..+..))).).)'), energy=-0.5254127979278564, stack_energy=-0.5254127979278564),\n",
       " StructureEnergy(Structure('(.((.(.((+)).).)).)'), energy=-0.5242977142333984, stack_energy=-0.5242977142333984),\n",
       " StructureEnergy(Structure('(.(.(.(((+))).).).)'), energy=-0.5242972373962402, stack_energy=-0.5242972373962402),\n",
       " StructureEnergy(Structure('..((.(...+....)))..'), energy=-0.5175061225891113, stack_energy=-0.5175061225891113),\n",
       " StructureEnergy(Structure('..(((....+...).))..'), energy=-0.5175061225891113, stack_energy=-0.5175061225891113),\n",
       " StructureEnergy(Structure('.(.((....+....)))..'), energy=-0.5175046920776367, stack_energy=-0.5175046920776367),\n",
       " StructureEnergy(Structure('..(((....+....)).).'), energy=-0.5175046920776367, stack_energy=-0.5175046920776367),\n",
       " StructureEnergy(Structure('..((.(.((+))..)))..'), energy=-0.5025762319564819, stack_energy=-0.5025762319564819),\n",
       " StructureEnergy(Structure('..(.((.(.+.).)).)..'), energy=-0.49134230613708496, stack_energy=-0.49134230613708496),\n",
       " StructureEnergy(Structure('.......(.+.....)...'), energy=-0.4881870746612549, stack_energy=-0.4881870746612549),\n",
       " StructureEnergy(Structure('.......(.+.).......'), energy=-0.4881870746612549, stack_energy=-0.4881870746612549),\n",
       " StructureEnergy(Structure('...(.....+.....)...'), energy=-0.4881868362426758, stack_energy=-0.4881868362426758),\n",
       " StructureEnergy(Structure('.....(...+...).....'), energy=-0.4881868362426758, stack_energy=-0.4881868362426758),\n",
       " StructureEnergy(Structure('...(.....+.).......'), energy=-0.4881868362426758, stack_energy=-0.4881868362426758),\n",
       " StructureEnergy(Structure('.....(...+....)....'), energy=-0.4881868362426758, stack_energy=-0.4881868362426758),\n",
       " StructureEnergy(Structure('....(....+...).....'), energy=-0.4881868362426758, stack_energy=-0.4881868362426758),\n",
       " StructureEnergy(Structure('....(....+........)'), energy=-0.4881868362426758, stack_energy=-0.4881868362426758),\n",
       " StructureEnergy(Structure('.....(...+........)'), energy=-0.4881868362426758, stack_energy=-0.4881868362426758),\n",
       " StructureEnergy(Structure('....(....+....)....'), energy=-0.4881868362426758, stack_energy=-0.4881868362426758),\n",
       " StructureEnergy(Structure('(........+........)'), energy=-0.4881868362426758, stack_energy=-0.4881868362426758),\n",
       " StructureEnergy(Structure('(........+...).....'), energy=-0.4881865978240967, stack_energy=-0.4881865978240967),\n",
       " StructureEnergy(Structure('(........+....)....'), energy=-0.4881865978240967, stack_energy=-0.4881865978240967),\n",
       " StructureEnergy(Structure('((....(((+)))....))'), energy=-0.47498512268066406, stack_energy=-0.47498512268066406),\n",
       " StructureEnergy(Structure('(....((((+))))....)'), energy=-0.47498512268066406, stack_energy=-0.47498512268066406),\n",
       " StructureEnergy(Structure('.....(.((+))..)....'), energy=-0.4732569456100464, stack_energy=-0.4732569456100464),\n",
       " StructureEnergy(Structure('(((.(.(..+)..)..)))'), energy=-0.4666764736175537, stack_energy=-0.4666764736175537),\n",
       " StructureEnergy(Structure('..(.((.(.+.).))..).'), energy=-0.45595574378967285, stack_energy=-0.45595574378967285),\n",
       " StructureEnergy(Structure('((((..(..+)....))))'), energy=-0.4474763870239258, stack_energy=-0.4474763870239258),\n",
       " StructureEnergy(Structure('.((..(...+...)..)).'), energy=-0.4450550079345703, stack_energy=-0.4450550079345703),\n",
       " StructureEnergy(Structure('(.(((.(((+)))).)).)'), energy=-0.4376516342163086, stack_energy=-0.4376516342163086),\n",
       " StructureEnergy(Structure('(.((.((((+))).))).)'), energy=-0.4376516342163086, stack_energy=-0.4376516342163086),\n",
       " StructureEnergy(Structure('(.(((.(((+))).)).))'), energy=-0.437650203704834, stack_energy=-0.437650203704834),\n",
       " StructureEnergy(Structure('((.((.(((+))).))).)'), energy=-0.437650203704834, stack_energy=-0.437650203704834),\n",
       " StructureEnergy(Structure('(..(((..(+..))))..)'), energy=-0.4327669143676758, stack_energy=-0.4327669143676758),\n",
       " StructureEnergy(Structure('(..((((..+)..)))..)'), energy=-0.4327669143676758, stack_energy=-0.4327669143676758),\n",
       " StructureEnergy(Structure('(((((...(+)..).))))'), energy=-0.40798211097717285, stack_energy=-0.40798211097717285),\n",
       " StructureEnergy(Structure('.((((.(..+)..).))).'), energy=-0.4019734859466553, stack_energy=-0.4019734859466553),\n",
       " StructureEnergy(Structure('(((.(.(.(+).).).)))'), energy=-0.3999028205871582, stack_energy=-0.3999028205871582),\n",
       " StructureEnergy(Structure('.((..(...+....).)).'), energy=-0.3996415138244629, stack_energy=-0.3996415138244629),\n",
       " StructureEnergy(Structure('.((..(.((+))..).)).'), energy=-0.3847116231918335, stack_energy=-0.3847116231918335),\n",
       " StructureEnergy(Structure('((((.....+.))....))'), energy=-0.38074207305908203, stack_energy=-0.38074207305908203),\n",
       " StructureEnergy(Structure('((....((.+.....))))'), energy=-0.38074207305908203, stack_energy=-0.38074207305908203),\n",
       " StructureEnergy(Structure('.(((.(.(.+.)..)))).'), energy=-0.36230719089508057, stack_energy=-0.36230719089508057),\n",
       " StructureEnergy(Structure('(..((.(..+..).))..)'), energy=-0.3331582546234131, stack_energy=-0.3331582546234131),\n",
       " StructureEnergy(Structure('((((.((..+)...)))))'), energy=-0.33276844024658203, stack_energy=-0.33276844024658203),\n",
       " StructureEnergy(Structure('(((((...(+..)).))))'), energy=-0.33276844024658203, stack_energy=-0.33276844024658203),\n",
       " StructureEnergy(Structure('.(.(.(((.+.))).))..'), energy=-0.3155558109283447, stack_energy=-0.3155558109283447),\n",
       " StructureEnergy(Structure('..((.(((.+.))).).).'), energy=-0.3155558109283447, stack_energy=-0.3155558109283447),\n",
       " StructureEnergy(Structure('(((((.(.(+).)).))))'), energy=-0.31325721740722656, stack_energy=-0.31325721740722656),\n",
       " StructureEnergy(Structure('((((.((.(+).).)))))'), energy=-0.31325721740722656, stack_energy=-0.31325721740722656),\n",
       " StructureEnergy(Structure('(((..(..(+)..)..)))'), energy=-0.29513072967529297, stack_energy=-0.29513072967529297),\n",
       " StructureEnergy(Structure('.(((...((+))...))).'), energy=-0.2924175262451172, stack_energy=-0.2924175262451172),\n",
       " StructureEnergy(Structure('.((...(((+)))...)).'), energy=-0.2924175262451172, stack_energy=-0.2924175262451172),\n",
       " StructureEnergy(Structure('.((.(..((+)).)..)).'), energy=-0.2882578372955322, stack_energy=-0.2882578372955322),\n",
       " StructureEnergy(Structure('(((..(..(+..).).)))'), energy=-0.2737700939178467, stack_energy=-0.2737700939178467),\n",
       " StructureEnergy(Structure('(..((..(.+.)..))..)'), energy=-0.262345552444458, stack_energy=-0.262345552444458),\n",
       " StructureEnergy(Structure('(.((.....+.)).)....'), energy=-0.2611093521118164, stack_energy=-0.2611093521118164),\n",
       " StructureEnergy(Structure('.....((((+)).....))'), energy=-0.2508113384246826, stack_energy=-0.2508113384246826),\n",
       " StructureEnergy(Structure('((.....((+)))).....'), energy=-0.2508111000061035, stack_energy=-0.2508111000061035),\n",
       " StructureEnergy(Structure('((.(.(...+...).).))'), energy=-0.24596929550170898, stack_energy=-0.24596929550170898),\n",
       " StructureEnergy(Structure('..(......+......)..'), energy=-0.23568058013916016, stack_energy=-0.23568058013916016),\n",
       " StructureEnergy(Structure('.(.......+.......).'), energy=-0.23568058013916016, stack_energy=-0.23568058013916016),\n",
       " StructureEnergy(Structure('......(..+..)......'), energy=-0.23567986488342285, stack_energy=-0.23567986488342285),\n",
       " StructureEnergy(Structure('.(.......+)........'), energy=-0.23567962646484375, stack_energy=-0.23567962646484375),\n",
       " StructureEnergy(Structure('..(......+.......).'), energy=-0.23567962646484375, stack_energy=-0.23567962646484375),\n",
       " StructureEnergy(Structure('.(.......+......)..'), energy=-0.23567962646484375, stack_energy=-0.23567962646484375),\n",
       " StructureEnergy(Structure('......(..+)........'), energy=-0.23567962646484375, stack_energy=-0.23567962646484375),\n",
       " StructureEnergy(Structure('..(......+)........'), energy=-0.23567962646484375, stack_energy=-0.23567962646484375),\n",
       " StructureEnergy(Structure('......(..+.......).'), energy=-0.23567962646484375, stack_energy=-0.23567962646484375),\n",
       " StructureEnergy(Structure('.(.......+..)......'), energy=-0.23567962646484375, stack_energy=-0.23567962646484375),\n",
       " StructureEnergy(Structure('........(+..)......'), energy=-0.23567962646484375, stack_energy=-0.23567962646484375),\n",
       " StructureEnergy(Structure('........(+......)..'), energy=-0.23567962646484375, stack_energy=-0.23567962646484375),\n",
       " StructureEnergy(Structure('........(+)........'), energy=-0.23567962646484375, stack_energy=-0.23567962646484375),\n",
       " StructureEnergy(Structure('..(......+..)......'), energy=-0.23567962646484375, stack_energy=-0.23567962646484375),\n",
       " StructureEnergy(Structure('......(..+......)..'), energy=-0.23567962646484375, stack_energy=-0.23567962646484375),\n",
       " StructureEnergy(Structure('........(+.......).'), energy=-0.23567962646484375, stack_energy=-0.23567962646484375),\n",
       " StructureEnergy(Structure('((((....(+..)..))))'), energy=-0.2261962890625, stack_energy=-0.2261962890625),\n",
       " StructureEnergy(Structure('.(((.(..(+)..).))).'), energy=-0.2238154411315918, stack_energy=-0.2238154411315918),\n",
       " StructureEnergy(Structure('((.(..(..+..)..).))'), energy=-0.21486353874206543, stack_energy=-0.21486353874206543),\n",
       " StructureEnergy(Structure('((((....(+)....))))'), energy=-0.2084636688232422, stack_energy=-0.2084636688232422),\n",
       " StructureEnergy(Structure('(((....(.+.....))))'), energy=-0.20699596405029297, stack_energy=-0.20699596405029297),\n",
       " StructureEnergy(Structure('((((.....+.)....)))'), energy=-0.20699596405029297, stack_energy=-0.20699596405029297),\n",
       " StructureEnergy(Structure('.(..((.(.+.).))..).'), energy=-0.18294310569763184, stack_energy=-0.18294310569763184),\n",
       " StructureEnergy(Structure('(((....((+))....)))'), energy=-0.1749858856201172, stack_energy=-0.1749858856201172),\n",
       " StructureEnergy(Structure('.(...(((.+.)))..)..'), energy=-0.15595602989196777, stack_energy=-0.15595602989196777),\n",
       " StructureEnergy(Structure('...(.((.(+).)).)...'), energy=-0.11971521377563477, stack_energy=-0.11971521377563477),\n",
       " StructureEnergy(Structure('.(.(..(((+)))..))..'), energy=-0.10884475708007812, stack_energy=-0.10884475708007812),\n",
       " StructureEnergy(Structure('..((..(((+)))..).).'), energy=-0.10884475708007812, stack_energy=-0.10884475708007812),\n",
       " StructureEnergy(Structure('.....((((+))).....)'), energy=-0.10868358612060547, stack_energy=-0.10868358612060547),\n",
       " StructureEnergy(Structure('(.....(((+)))).....'), energy=-0.10868334770202637, stack_energy=-0.10868334770202637),\n",
       " StructureEnergy(Structure('(.((.(...+...).)).)'), energy=-0.10384130477905273, stack_energy=-0.10384130477905273),\n",
       " StructureEnergy(Structure('((.((..((+)).).).))'), energy=-0.09578442573547363, stack_energy=-0.09578442573547363),\n",
       " StructureEnergy(Structure('(.((..(..+..)..)).)'), energy=-0.07273554801940918, stack_energy=-0.07273554801940918),\n",
       " StructureEnergy(Structure('.(.(..((.+.))..).).'), energy=-0.07273554801940918, stack_energy=-0.07273554801940918),\n",
       " StructureEnergy(Structure('(((.(.(..+)...).)))'), energy=-0.05102252960205078, stack_energy=-0.05102252960205078),\n",
       " StructureEnergy(Structure('(((.(...(+..).).)))'), energy=-0.05102252960205078, stack_energy=-0.05102252960205078),\n",
       " StructureEnergy(Structure('.(..((.(.+.).)).)..'), energy=-0.04531598091125488, stack_energy=-0.04531598091125488),\n",
       " StructureEnergy(Structure('..(..(((.+.)))...).'), energy=-0.020488977432250977, stack_energy=-0.020488977432250977),\n",
       " StructureEnergy(Structure('.((.(....+...)..)).'), energy=-0.013827800750732422, stack_energy=-0.013827800750732422),\n",
       " StructureEnergy(Structure('..(((...(+)...)))..'), energy=-0.005438804626464844, stack_energy=-0.005438804626464844),\n",
       " StructureEnergy(Structure('.(.(.((..+..)).).).'), energy=0.006537675857543945, stack_energy=0.006537675857543945),\n",
       " StructureEnergy(Structure('..((.(.(.+.).).))..'), energy=0.02241206169128418, stack_energy=0.02241206169128418),\n",
       " StructureEnergy(Structure('..(.(.((.+.)).).)..'), energy=0.022412538528442383, stack_energy=0.022412538528442383),\n",
       " StructureEnergy(Structure('(.(.(((.(+).)))..))'), energy=0.02848052978515625, stack_energy=0.02848052978515625),\n",
       " StructureEnergy(Structure('((((.(..(+)...)))))'), energy=0.031031131744384766, stack_energy=0.031031131744384766),\n",
       " StructureEnergy(Structure('(.(((..((+)).).)).)'), energy=0.04634356498718262, stack_energy=0.04634356498718262),\n",
       " StructureEnergy(Structure('..((..(.(+).)..))..'), energy=0.053517818450927734, stack_energy=0.053517818450927734),\n",
       " StructureEnergy(Structure('...(.(.((+)).).)...'), energy=0.05589008331298828, stack_energy=0.05589008331298828),\n",
       " StructureEnergy(Structure('..(.(.((.+.)).)..).'), energy=0.05779910087585449, stack_energy=0.05779910087585449),\n",
       " StructureEnergy(Structure('(.(..((..+..))..).)'), energy=0.07735037803649902, stack_energy=0.07735037803649902),\n",
       " StructureEnergy(Structure('(((..((..+..).).)))'), energy=0.08479475975036621, stack_energy=0.08479475975036621),\n",
       " StructureEnergy(Structure('..(..((((+))).).)..'), energy=0.0866537094116211, stack_energy=0.0866537094116211),\n",
       " StructureEnergy(Structure('((..(((..+)..))..))'), energy=0.08907508850097656, stack_energy=0.08907508850097656),\n",
       " StructureEnergy(Structure('((..((..(+..)))..))'), energy=0.08907508850097656, stack_energy=0.08907508850097656),\n",
       " StructureEnergy(Structure('..(((.((.+.))).))..'), energy=0.10905814170837402, stack_energy=0.10905814170837402),\n",
       " StructureEnergy(Structure('..((.(((.+.)).)))..'), energy=0.10905814170837402, stack_energy=0.10905814170837402),\n",
       " StructureEnergy(Structure('(...(((..+..)))...)'), energy=0.1366899013519287, stack_energy=0.1366899013519287),\n",
       " StructureEnergy(Structure('....(.((.+.))).....'), energy=0.13837742805480957, stack_energy=0.13837742805480957),\n",
       " StructureEnergy(Structure('.....(((.+.)).)....'), energy=0.13837742805480957, stack_energy=0.13837742805480957),\n",
       " StructureEnergy(Structure('.....(((.+.....)).)'), energy=0.13837742805480957, stack_energy=0.13837742805480957),\n",
       " StructureEnergy(Structure('(.((.....+.))).....'), energy=0.13837766647338867, stack_energy=0.13837766647338867),\n",
       " StructureEnergy(Structure('.....(((.+.....).))'), energy=0.13837766647338867, stack_energy=0.13837766647338867),\n",
       " StructureEnergy(Structure('((.(.....+.))).....'), energy=0.13837790489196777, stack_energy=0.13837790489196777),\n",
       " StructureEnergy(Structure('...(.((((+))).))...'), energy=0.14253616333007812, stack_energy=0.14253616333007812),\n",
       " StructureEnergy(Structure('...((.(((+)))).)...'), energy=0.14253616333007812, stack_energy=0.14253616333007812),\n",
       " StructureEnergy(Structure('.(((.(..(+..).)))).'), energy=0.17674660682678223, stack_energy=0.17674660682678223),\n",
       " StructureEnergy(Structure('((.((....+...).).))'), energy=0.17864561080932617, stack_energy=0.17864561080932617),\n",
       " StructureEnergy(Structure('((.(.(...+....)).))'), energy=0.17864561080932617, stack_energy=0.17864561080932617),\n",
       " StructureEnergy(Structure('((..(.(..+..).)..))'), energy=0.18868374824523926, stack_energy=0.18868374824523926),\n",
       " StructureEnergy(Structure('.(.((.(.(+).).)).).'), energy=0.1889348030090332, stack_energy=0.1889348030090332),\n",
       " StructureEnergy(Structure('((.(.(.((+))..)).))'), energy=0.19357550144195557, stack_energy=0.19357550144195557),\n",
       " StructureEnergy(Structure('..(..((.(+).))..)..'), energy=0.20360374450683594, stack_energy=0.20360374450683594),\n",
       " StructureEnergy(Structure('(.(.((.((+)).))..))'), energy=0.2040858268737793, stack_energy=0.2040858268737793),\n",
       " StructureEnergy(Structure('.((..(((.+.)).).)).'), energy=0.22692275047302246, stack_energy=0.22692275047302246),\n",
       " StructureEnergy(Structure('((...((((+))).)..))'), energy=0.24309921264648438, stack_energy=0.24309921264648438),\n",
       " StructureEnergy(Structure('((..(..(.+.)..)..))'), energy=0.25949645042419434, stack_energy=0.25949645042419434),\n",
       " StructureEnergy(Structure('..(..((((+))).)..).'), energy=0.3065476417541504, stack_energy=0.3065476417541504),\n",
       " StructureEnergy(Structure('(.(((....+...).)).)'), energy=0.3207736015319824, stack_energy=0.3207736015319824),\n",
       " StructureEnergy(Structure('(.((.(...+....))).)'), energy=0.3207736015319824, stack_energy=0.3207736015319824),\n",
       " StructureEnergy(Structure('.(..(.((.+.)).)..).'), energy=0.3308117389678955, stack_energy=0.3308117389678955),\n",
       " StructureEnergy(Structure('(.((.(.((+))..))).)'), energy=0.3357034921646118, stack_energy=0.3357034921646118),\n",
       " StructureEnergy(Structure('((.(.((((+)))).)).)'), energy=0.3444857597351074, stack_energy=0.3444857597351074),\n",
       " StructureEnergy(Structure('(.((.((((+)))).).))'), energy=0.3444857597351074, stack_energy=0.3444857597351074),\n",
       " StructureEnergy(Structure('(.(.((.(.+.).)).).)'), energy=0.3469374179840088, stack_energy=0.3469374179840088),\n",
       " StructureEnergy(Structure('.((.(((..+)..)).)).'), energy=0.3490571975708008, stack_energy=0.3490571975708008),\n",
       " StructureEnergy(Structure('.((.((..(+..))).)).'), energy=0.3490571975708008, stack_energy=0.3490571975708008),\n",
       " StructureEnergy(Structure('(..(..((.+.))..)..)'), energy=0.3697044849395752, stack_energy=0.3697044849395752),\n",
       " StructureEnergy(Structure('..(..(.((+)).)..)..'), energy=0.379209041595459, stack_energy=0.379209041595459),\n",
       " StructureEnergy(Structure('..(.(..((+))..).)..'), energy=0.3792095184326172, stack_energy=0.3792095184326172),\n",
       " StructureEnergy(Structure('....(.(((+))).....)'), energy=0.4033029079437256, stack_energy=0.4033029079437256),\n",
       " StructureEnergy(Structure('(.....(((+))).)....'), energy=0.4033031463623047, stack_energy=0.4033031463623047),\n",
       " StructureEnergy(Structure('..(.(..((+))..)..).'), energy=0.4145960807800293, stack_energy=0.4145960807800293),\n",
       " StructureEnergy(Structure('((.(((.(.+.).)))).)'), energy=0.43358445167541504, stack_energy=0.43358445167541504),\n",
       " StructureEnergy(Structure('(.((((.(.+.).))).))'), energy=0.43358445167541504, stack_energy=0.43358445167541504),\n",
       " StructureEnergy(Structure('((..(((.(+).))).).)'), energy=0.4391202926635742, stack_energy=0.4391202926635742),\n",
       " StructureEnergy(Structure('.((.(.(..+..).).)).'), energy=0.4486658573150635, stack_energy=0.4486658573150635),\n",
       " StructureEnergy(Structure('(..(.((..+..)).)..)'), energy=0.4489777088165283, stack_energy=0.4489777088165283),\n",
       " StructureEnergy(Structure('.(..(.((.+.)).).)..'), energy=0.46843886375427246, stack_energy=0.46843886375427246),\n",
       " StructureEnergy(Structure('(((.(.(..+..))..)))'), energy=0.4706084728240967, stack_energy=0.4706084728240967),\n",
       " StructureEnergy(Structure('..(.(.(((+))))..)..'), energy=0.47246742248535156, stack_energy=0.47246742248535156),\n",
       " StructureEnergy(Structure('.(.(((..(+..)))))..'), energy=0.47367334365844727, stack_energy=0.47367334365844727),\n",
       " StructureEnergy(Structure('..((((..(+..)))).).'), energy=0.47367334365844727, stack_energy=0.47367334365844727),\n",
       " StructureEnergy(Structure('..(((((..+)..))).).'), energy=0.47367334365844727, stack_energy=0.47367334365844727),\n",
       " StructureEnergy(Structure('.(.((((..+)..))))..'), energy=0.47367334365844727, stack_energy=0.47367334365844727),\n",
       " StructureEnergy(Structure('.....(.(.+.).).....'), energy=0.4763462543487549, stack_energy=0.4763462543487549),\n",
       " StructureEnergy(Structure('...(.(...+...).)...'), energy=0.476346492767334, stack_energy=0.476346492767334),\n",
       " StructureEnergy(Structure('....((..(+..)))....'), energy=0.5029911994934082, stack_energy=0.5029911994934082),\n",
       " StructureEnergy(Structure('....(((..+)..))....'), energy=0.5029911994934082, stack_energy=0.5029911994934082),\n",
       " StructureEnergy(Structure('((...((((+))))..).)'), energy=0.5040855407714844, stack_energy=0.5040855407714844),\n",
       " StructureEnergy(Structure('..(.((..(+)..)).)..'), energy=0.5071506500244141, stack_energy=0.5071506500244141),\n",
       " StructureEnergy(Structure('...(..(..+..)..)...'), energy=0.5074522495269775, stack_energy=0.5074522495269775),\n",
       " StructureEnergy(Structure('((...((..+..))...))'), energy=0.5083158016204834, stack_energy=0.5083158016204834),\n",
       " StructureEnergy(Structure('.((..(.(.+.).)..)).'), energy=0.5194780826568604, stack_energy=0.5194780826568604),\n",
       " StructureEnergy(Structure('.((.(..(.+.)..).)).'), energy=0.5194785594940186, stack_energy=0.5194785594940186),\n",
       " StructureEnergy(Structure('.(((.((..+..).)))).'), energy=0.5353114604949951, stack_energy=0.5353114604949951),\n",
       " StructureEnergy(Structure('.((((.(..+..)).))).'), energy=0.5353114604949951, stack_energy=0.5353114604949951),\n",
       " StructureEnergy(Structure('.(.((...(+..).)).).'), energy=0.5378150939941406, stack_energy=0.5378150939941406),\n",
       " StructureEnergy(Structure('.(.((.(..+)...)).).'), energy=0.5378150939941406, stack_energy=0.5378150939941406),\n",
       " StructureEnergy(Structure('..(.((..(+)..))..).'), energy=0.5425372123718262, stack_energy=0.5425372123718262),\n",
       " StructureEnergy(Structure('.....((.(+......)))'), energy=0.5646312236785889, stack_energy=0.5646312236785889),\n",
       " StructureEnergy(Structure('(((......+).)).....'), energy=0.564631462097168, stack_energy=0.564631462097168),\n",
       " StructureEnergy(Structure('..(((.(..+..).)).).'), energy=0.57328200340271, stack_energy=0.57328200340271),\n",
       " StructureEnergy(Structure('.(.((.(..+..).)))..'), energy=0.57328200340271, stack_energy=0.57328200340271),\n",
       " StructureEnergy(Structure('..(((..(.+.).).))..'), energy=0.5930533409118652, stack_energy=0.5930533409118652),\n",
       " StructureEnergy(Structure('(.(......+......).)'), energy=0.6025991439819336, stack_energy=0.6025991439819336),\n",
       " StructureEnergy(Structure('.(.(.....+.....).).'), energy=0.6025991439819336, stack_energy=0.6025991439819336),\n",
       " StructureEnergy(Structure('..(.(....+....).)..'), energy=0.6025996208190918, stack_energy=0.6025996208190918),\n",
       " StructureEnergy(Structure('....(.(..+..).)....'), energy=0.6025998592376709, stack_energy=0.6025998592376709),\n",
       " StructureEnergy(Structure('.((.(.((.+.)))..)).'), energy=0.6127364635467529, stack_energy=0.6127364635467529),\n",
       " StructureEnergy(Structure('((..((.((+)).)).).)'), energy=0.6147255897521973, stack_energy=0.6147255897521973),\n",
       " StructureEnergy(Structure('....(..(.+.).).....'), energy=0.6223726272583008, stack_energy=0.6223726272583008),\n",
       " StructureEnergy(Structure('....(..(.+.....)..)'), energy=0.6223726272583008, stack_energy=0.6223726272583008),\n",
       " StructureEnergy(Structure('(.(.((...+...))..))'), energy=0.624542236328125, stack_energy=0.624542236328125),\n",
       " StructureEnergy(Structure('...((..((+)).).)...'), energy=0.6265313625335693, stack_energy=0.6265313625335693),\n",
       " StructureEnergy(Structure('.(....(((+)))...)..'), energy=0.6281700134277344, stack_energy=0.6281700134277344),\n",
       " StructureEnergy(Structure('(..((.(.(+).).))..)'), energy=0.6313748359680176, stack_energy=0.6313748359680176),\n",
       " StructureEnergy(Structure('..(.(....+....)..).'), energy=0.6379861831665039, stack_energy=0.6379861831665039),\n",
       " StructureEnergy(Structure('(.(..((((+))))...))'), energy=0.6395525932312012, stack_energy=0.6395525932312012),\n",
       " StructureEnergy(Structure('.(.((..(.+.)..)))..'), energy=0.644094705581665, stack_energy=0.644094705581665),\n",
       " StructureEnergy(Structure('..(((..(.+.)..)).).'), energy=0.644094705581665, stack_energy=0.644094705581665),\n",
       " StructureEnergy(Structure('....(.(((+..)..)).)'), energy=0.646676778793335, stack_energy=0.646676778793335),\n",
       " StructureEnergy(Structure('.(...(((.+.)))...).'), energy=0.6504437923431396, stack_energy=0.6504437923431396),\n",
       " StructureEnergy(Structure('....(..(.+.)..)....'), energy=0.673412561416626, stack_energy=0.673412561416626),\n",
       " StructureEnergy(Structure('((..(.(((+))))...))'), energy=0.6821117401123047, stack_energy=0.6821117401123047),\n",
       " StructureEnergy(Structure('.(..(..((+))..)..).'), energy=0.6876087188720703, stack_energy=0.6876087188720703),\n",
       " StructureEnergy(Structure('((.((...(+)...)).))'), energy=0.6907129287719727, stack_energy=0.6907129287719727),\n",
       " StructureEnergy(Structure('(.(.(.(((+))).)..))'), energy=0.7178406715393066, stack_energy=0.7178406715393066),\n",
       " StructureEnergy(Structure('((.(.(.(.+.).).).))'), energy=0.7185637950897217, stack_energy=0.7185637950897217),\n",
       " StructureEnergy(Structure('......(.(+).)......'), energy=0.7288532257080078, stack_energy=0.7288532257080078),\n",
       " StructureEnergy(Structure('((.(..(.(+).)..).))'), energy=0.7496695518493652, stack_energy=0.7496695518493652),\n",
       " StructureEnergy(Structure('..(...(((+)))....).'), energy=0.763636589050293, stack_energy=0.763636589050293),\n",
       " StructureEnergy(Structure('(((..(..(+..))..)))'), energy=0.7914962768554688, stack_energy=0.7914962768554688),\n",
       " StructureEnergy(Structure('(((..((..+)..)..)))'), energy=0.7914962768554688, stack_energy=0.7914962768554688),\n",
       " StructureEnergy(Structure('..(..(...+...)..)..'), energy=0.7996654510498047, stack_energy=0.7996654510498047),\n",
       " StructureEnergy(Structure('((.(.(((.+.)).)).))'), energy=0.8052098751068115, stack_energy=0.8052098751068115),\n",
       " StructureEnergy(Structure('((.((.((.+.))).).))'), energy=0.8052098751068115, stack_energy=0.8052098751068115),\n",
       " StructureEnergy(Structure('.(..((..(+)..))..).'), energy=0.8155498504638672, stack_energy=0.8155498504638672),\n",
       " StructureEnergy(Structure('.(..(..((+))..).)..'), energy=0.8252358436584473, stack_energy=0.8252358436584473),\n",
       " StructureEnergy(Structure('(.(((...(+)...))).)'), energy=0.8328409194946289, stack_energy=0.8328409194946289),\n",
       " StructureEnergy(Structure('..(((.(..+)..).))..'), energy=0.8427469730377197, stack_energy=0.8427469730377197),\n",
       " StructureEnergy(Structure('..(..(...+....).)..'), energy=0.8450789451599121, stack_energy=0.8450789451599121),\n",
       " StructureEnergy(Structure('..(..(.((+))..).)..'), energy=0.8600088357925415, stack_energy=0.8600088357925415),\n",
       " StructureEnergy(Structure('(.((.(.(.+.).).)).)'), energy=0.8606917858123779, stack_energy=0.8606917858123779),\n",
       " StructureEnergy(Structure('(.(.(.((.+.)).).).)'), energy=0.8606922626495361, stack_energy=0.8606922626495361),\n",
       " StructureEnergy(Structure('.(((.((..+)..).))).'), energy=0.8628115653991699, stack_energy=0.8628115653991699),\n",
       " StructureEnergy(Structure('.(((.(..(+..)).))).'), energy=0.8628115653991699, stack_energy=0.8628115653991699),\n",
       " StructureEnergy(Structure('....(.(..+)..).....'), energy=0.8720662593841553, stack_energy=0.8720662593841553),\n",
       " StructureEnergy(Structure('..((.(.(.+.)..)))..'), energy=0.8824132680892944, stack_energy=0.8824132680892944),\n",
       " StructureEnergy(Structure('(.((..(.(+).)..)).)'), energy=0.8917975425720215, stack_energy=0.8917975425720215),\n",
       " StructureEnergy(Structure('...(.(...+....))...'), energy=0.9009613990783691, stack_energy=0.9009613990783691),\n",
       " StructureEnergy(Structure('...((....+...).)...'), energy=0.9009613990783691, stack_energy=0.9009613990783691),\n",
       " StructureEnergy(Structure('((....((.+.))....))'), energy=0.9100043773651123, stack_energy=0.9100043773651123),\n",
       " StructureEnergy(Structure('(....(((.+.)))....)'), energy=0.9100043773651123, stack_energy=0.9100043773651123),\n",
       " StructureEnergy(Structure('.(..(....+....)..).'), energy=0.9109988212585449, stack_energy=0.9109988212585449),\n",
       " StructureEnergy(Structure('.....(.(.+.)..)....'), energy=0.91173255443573, stack_energy=0.91173255443573),\n",
       " StructureEnergy(Structure('(..(.....+.)..)....'), energy=0.9117326736450195, stack_energy=0.9117326736450195),\n",
       " StructureEnergy(Structure('...(.(.((+))..))...'), energy=0.9158912897109985, stack_energy=0.9158912897109985),\n",
       " StructureEnergy(Structure('(.(..((((+))).).).)'), energy=0.9249334335327148, stack_energy=0.9249334335327148),\n",
       " StructureEnergy(Structure('....(.(((+)....)).)'), energy=0.9360370635986328, stack_energy=0.9360370635986328),\n",
       " StructureEnergy(Structure('(.(((.((.+.))).)).)'), energy=0.9473378658294678, stack_energy=0.9473378658294678),\n",
       " StructureEnergy(Structure('(.((.(((.+.)).))).)'), energy=0.9473378658294678, stack_energy=0.9473378658294678),\n",
       " StructureEnergy(Structure('((.((.((.+.)).))).)'), energy=0.9473392963409424, stack_energy=0.9473392963409424),\n",
       " StructureEnergy(Structure('(.(((.((.+.)).)).))'), energy=0.9473392963409424, stack_energy=0.9473392963409424),\n",
       " StructureEnergy(Structure('(((...(..+..)...)))'), energy=0.9504439830780029, stack_energy=0.9504439830780029),\n",
       " StructureEnergy(Structure('..(...(((+)))...)..'), energy=0.9523029327392578, stack_energy=0.9523029327392578),\n",
       " StructureEnergy(Structure('..((...((+))...))..'), energy=0.9523029327392578, stack_energy=0.9523029327392578),\n",
       " StructureEnergy(Structure('.(..((..(+)..)).)..'), energy=0.9531769752502441, stack_energy=0.9531769752502441),\n",
       " StructureEnergy(Structure('..(.(..((+)).)..)..'), energy=0.9564626216888428, stack_energy=0.9564626216888428),\n",
       " StructureEnergy(Structure('....(.(((+))....).)'), energy=0.9695143699645996, stack_energy=0.9695143699645996),\n",
       " StructureEnergy(Structure('.(.(.((.(+).)).).).'), energy=0.9710707664489746, stack_energy=0.9710707664489746),\n",
       " StructureEnergy(Structure('(..((...(+..).))..)'), energy=0.980255126953125, stack_energy=0.980255126953125),\n",
       " StructureEnergy(Structure('(..((.(..+)...))..)'), energy=0.980255126953125, stack_energy=0.980255126953125)]"
      ]
     },
     "execution_count": 8,
     "metadata": {},
     "output_type": "execute_result"
    }
   ],
   "source": [
    "gap = -C.mfe[0].energy+1\n",
    "nu.subopt([C.nuStrand1,C.nuStrand2], energy_gap=gap, model=C.nupackmodel)"
   ]
  },
  {
   "cell_type": "code",
   "execution_count": null,
   "metadata": {},
   "outputs": [
    {
     "data": {
      "text/plain": [
       "[Structure('(((((((((+)))))))))'),\n",
       " Structure('(((((((((+)))))))))'),\n",
       " Structure('((((((((.+.))))))))'),\n",
       " Structure('(((((((((+)))))))))'),\n",
       " Structure('(((((((((+)))))))))'),\n",
       " Structure('(((((((((+)))))))))'),\n",
       " Structure('(((((((((+)))))))))'),\n",
       " Structure('(((((((((+)))))))))'),\n",
       " Structure('(((((((((+)))))))))'),\n",
       " Structure('(((((((((+)))))))))'),\n",
       " Structure('(((((((((+)))))))))'),\n",
       " Structure('(((((((((+)))))))))'),\n",
       " Structure('((((((((.+.))))))))'),\n",
       " Structure('.(((((((.+.))))))).'),\n",
       " Structure('((((((((.+.))))))))'),\n",
       " Structure('(((((((((+)))))))))'),\n",
       " Structure('(((((((((+)))))))))'),\n",
       " Structure('(((((((((+)))))))))'),\n",
       " Structure('(((((((((+)))))))))'),\n",
       " Structure('((((((((.+.))))))))'),\n",
       " Structure('(((((((((+)))))))))'),\n",
       " Structure('(((((((((+)))))))))'),\n",
       " Structure('(((((((((+)))))))))'),\n",
       " Structure('(((((((((+)))))))))'),\n",
       " Structure('(((((((((+)))))))))'),\n",
       " Structure('(((((((((+)))))))))'),\n",
       " Structure('(((((((((+)))))))))'),\n",
       " Structure('(((((((((+)))))))))'),\n",
       " Structure('(((((((((+)))))))))'),\n",
       " Structure('(((((((((+)))))))))'),\n",
       " Structure('(((((((((+)))))))))'),\n",
       " Structure('(((((((((+)))))))))'),\n",
       " Structure('(((((((((+)))))))))'),\n",
       " Structure('(((((((((+)))))))))'),\n",
       " Structure('(((((((((+)))))))))'),\n",
       " Structure('(((((((((+)))))))))'),\n",
       " Structure('(((((((((+)))))))))'),\n",
       " Structure('(((((((((+)))))))))'),\n",
       " Structure('(((((((((+)))))))))'),\n",
       " Structure('(((((((((+)))))))))'),\n",
       " Structure('((((((((.+.))))))))'),\n",
       " Structure('(((((((((+)))))))))'),\n",
       " Structure('(((((((((+)))))))))'),\n",
       " Structure('(((((((((+)))))))))'),\n",
       " Structure('(((((((((+)))))))))'),\n",
       " Structure('..(((((((+)))))))..'),\n",
       " Structure('(((((((((+)))))))))'),\n",
       " Structure('(((((((((+)))))))))'),\n",
       " Structure('(((((((((+)))))))))'),\n",
       " Structure('(((((((((+)))))))))'),\n",
       " Structure('(((((((((+)))))))))'),\n",
       " Structure('(((((((((+)))))))))'),\n",
       " Structure('(((((((((+)))))))))'),\n",
       " Structure('(((((((((+)))))))))'),\n",
       " Structure('(((((((((+)))))))))'),\n",
       " Structure('(((((((((+)))))))))'),\n",
       " Structure('(((((((((+)))))))))'),\n",
       " Structure('(((((((((+)))))))))'),\n",
       " Structure('(((((((((+)))))))))'),\n",
       " Structure('((((((.((+)).))))))'),\n",
       " Structure('(((((((((+)))))))))'),\n",
       " Structure('(((((((((+)))))))))'),\n",
       " Structure('(((((((((+)))))))))'),\n",
       " Structure('(((((((((+)))))))))'),\n",
       " Structure('(((((((((+)))))))))'),\n",
       " Structure('(((((((((+)))))))))'),\n",
       " Structure('(((((((((+)))))))))'),\n",
       " Structure('(((((((((+)))))))))'),\n",
       " Structure('.((((((((+)))))))).'),\n",
       " Structure('.((((((((+)))))))).'),\n",
       " Structure('(((((((((+)))))))))'),\n",
       " Structure('(((((((((+)))))))))'),\n",
       " Structure('(((((((((+)))))))))'),\n",
       " Structure('(((((((((+)))))))))'),\n",
       " Structure('(((((((((+)))))))))'),\n",
       " Structure('(((((((((+)))))))))'),\n",
       " Structure('(((((((((+)))))))))'),\n",
       " Structure('(((((((((+)))))))))'),\n",
       " Structure('(((((((((+)))))))))'),\n",
       " Structure('((((((.(.+.).))))))'),\n",
       " Structure('(((((((((+)))))))))'),\n",
       " Structure('(((((((((+)))))))))'),\n",
       " Structure('(((((((((+)))))))))'),\n",
       " Structure('(((((((((+)))))))))'),\n",
       " Structure('(((((((((+)))))))))'),\n",
       " Structure('(((((((((+)))))))))'),\n",
       " Structure('(((((((((+)))))))))'),\n",
       " Structure('(((((((((+)))))))))'),\n",
       " Structure('.((((((((+)))))))).'),\n",
       " Structure('(((((((((+)))))))))'),\n",
       " Structure('(((((((((+)))))))))'),\n",
       " Structure('(((((((((+)))))))))'),\n",
       " Structure('(((((((((+)))))))))'),\n",
       " Structure('(((((((((+)))))))))'),\n",
       " Structure('(((((((((+)))))))))'),\n",
       " Structure('(((((((((+)))))))))'),\n",
       " Structure('(((((((((+)))))))))'),\n",
       " Structure('(((((((((+)))))))))'),\n",
       " Structure('(((((((((+)))))))))'),\n",
       " Structure('(((((((((+)))))))))')]"
      ]
     },
     "execution_count": 10,
     "metadata": {},
     "output_type": "execute_result"
    }
   ],
   "source": [
    "sampled = nu.sample([C.nuStrand1,C.nuStrand2], num_sample=100, model=C.nupackmodel)\n",
    "sampled"
   ]
  },
  {
   "cell_type": "code",
   "execution_count": null,
   "metadata": {},
   "outputs": [],
   "source": [
    "import plotly.express as px "
   ]
  },
  {
   "cell_type": "code",
   "execution_count": null,
   "metadata": {},
   "outputs": [
    {
     "data": {
      "application/vnd.plotly.v1+json": {
       "config": {
        "plotlyServerURL": "https://plot.ly"
       },
       "data": [
        {
         "coloraxis": "coloraxis",
         "hovertemplate": "x: %{x}<br>y: %{y}<br>color: %{z}<extra></extra>",
         "name": "0",
         "type": "heatmap",
         "xaxis": "x",
         "yaxis": "y",
         "z": [
          [
           0.05093575831646702,
           0,
           0,
           0,
           0,
           0,
           0,
           2.364597868175898e-12,
           0,
           0,
           0,
           0,
           1.6453624316558095e-9,
           1.5970348516650163e-9,
           0,
           0,
           0,
           0.9490642384387711
          ],
          [
           0,
           0.007431477496978256,
           0,
           0,
           0,
           0,
           0,
           0,
           0,
           6.446503799007102e-11,
           0,
           1.5180228480018166e-9,
           0,
           0,
           0,
           0.000009268861660179582,
           0.9925592520588736,
           0
          ],
          [
           0,
           0,
           0.0023723708880006855,
           0,
           0,
           0,
           0,
           0,
           0,
           8.693466616951011e-11,
           0,
           1.321814970398894e-9,
           0,
           0,
           0,
           0.997617741456449,
           0.000009886246800654906,
           0
          ],
          [
           0,
           0,
           0,
           0.0002621642596984941,
           0,
           0,
           0,
           0,
           0,
           0,
           1.457568148499383e-9,
           0,
           0,
           0,
           0.9997378342827333,
           0,
           0,
           0
          ],
          [
           0,
           0,
           0,
           0,
           0.00010958689928308729,
           0,
           0,
           0,
           0,
           0,
           0,
           0,
           1.3134855637669606e-7,
           0.9998902776418213,
           0,
           0,
           0,
           4.110339315089038e-9
          ],
          [
           0,
           0,
           0,
           0,
           0,
           0.00040037347919574806,
           0,
           0,
           0,
           0,
           0,
           0,
           0.999599502352837,
           1.2252006075792505e-7,
           0,
           0,
           0,
           1.6479065357347307e-9
          ],
          [
           0,
           0,
           0,
           0,
           0,
           0,
           0.0012844038408198477,
           0,
           0,
           0.000002479926760004687,
           0,
           0.9987131108848581,
           0,
           0,
           0,
           3.829539130952722e-9,
           1.5180228480018166e-9,
           0
          ],
          [
           2.364597868175898e-12,
           0,
           0,
           0,
           0,
           0,
           0,
           0.0067532209062269866,
           0,
           0,
           0.9932467752710084,
           0,
           0,
           0,
           3.820400139808765e-9,
           0,
           0,
           0
          ],
          [
           0,
           0,
           0,
           0,
           0,
           0,
           0,
           0,
           0.09377594290785185,
           0.9062215782157029,
           0,
           0.0000024787226941744274,
           0,
           0,
           0,
           8.938567525284036e-11,
           6.436531246000981e-11,
           0
          ],
          [
           0,
           6.446503799007102e-11,
           8.693466616951011e-11,
           0,
           0,
           0,
           0.000002479926760004687,
           0,
           0.9062215782157029,
           0.09377594170613746,
           0,
           0,
           0,
           0,
           0,
           0,
           0,
           0
          ],
          [
           0,
           0,
           0,
           1.457568148499383e-9,
           0,
           0,
           0,
           0.9932467752710084,
           0,
           0,
           0.0067532232686600135,
           0,
           0,
           0,
           0,
           0,
           0,
           2.763499988420393e-12
          ],
          [
           0,
           1.5180228480018166e-9,
           1.321814970398894e-9,
           0,
           0,
           0,
           0.9987131108848581,
           0,
           0.0000024787226941744274,
           0,
           0,
           0.0012844075526098342,
           0,
           0,
           0,
           0,
           0,
           0
          ],
          [
           1.6453624316558095e-9,
           0,
           0,
           0,
           1.3134855637669606e-7,
           0.999599502352837,
           0,
           0,
           0,
           0,
           0,
           0,
           0.0004003646532442229,
           0,
           0,
           0,
           0,
           0
          ],
          [
           1.5970348516650163e-9,
           0,
           0,
           0,
           0.9998902776418213,
           1.2252006075792505e-7,
           0,
           0,
           0,
           0,
           0,
           0,
           0,
           0.00010959824108314198,
           0,
           0,
           0,
           0
          ],
          [
           0,
           0,
           0,
           0.9997378342827333,
           0,
           0,
           0,
           3.820400139808765e-9,
           0,
           0,
           0,
           0,
           0,
           0,
           0.000262161896866564,
           0,
           0,
           0
          ],
          [
           0,
           0.000009268861660179582,
           0.997617741456449,
           0,
           0,
           0,
           3.829539130952722e-9,
           0,
           8.938567525284036e-11,
           0,
           0,
           0,
           0,
           0,
           0,
           0.0023729857629659623,
           0,
           0
          ],
          [
           0,
           0.9925592520588736,
           0.000009886246800654906,
           0,
           0,
           0,
           1.5180228480018166e-9,
           0,
           6.436531246000981e-11,
           0,
           0,
           0,
           0,
           0,
           0,
           0,
           0.007430860111937498,
           0
          ],
          [
           0.9490642384387711,
           0,
           0,
           0,
           4.110339315089038e-9,
           1.6479065357347307e-9,
           0,
           0,
           0,
           0,
           2.763499988420393e-12,
           0,
           0,
           0,
           0,
           0,
           0,
           0.050935755800219584
          ]
         ]
        }
       ],
       "layout": {
        "coloraxis": {
         "colorscale": [
          [
           0,
           "#0d0887"
          ],
          [
           0.1111111111111111,
           "#46039f"
          ],
          [
           0.2222222222222222,
           "#7201a8"
          ],
          [
           0.3333333333333333,
           "#9c179e"
          ],
          [
           0.4444444444444444,
           "#bd3786"
          ],
          [
           0.5555555555555556,
           "#d8576b"
          ],
          [
           0.6666666666666666,
           "#ed7953"
          ],
          [
           0.7777777777777778,
           "#fb9f3a"
          ],
          [
           0.8888888888888888,
           "#fdca26"
          ],
          [
           1,
           "#f0f921"
          ]
         ]
        },
        "margin": {
         "t": 60
        },
        "template": {
         "data": {
          "bar": [
           {
            "error_x": {
             "color": "#2a3f5f"
            },
            "error_y": {
             "color": "#2a3f5f"
            },
            "marker": {
             "line": {
              "color": "#E5ECF6",
              "width": 0.5
             },
             "pattern": {
              "fillmode": "overlay",
              "size": 10,
              "solidity": 0.2
             }
            },
            "type": "bar"
           }
          ],
          "barpolar": [
           {
            "marker": {
             "line": {
              "color": "#E5ECF6",
              "width": 0.5
             },
             "pattern": {
              "fillmode": "overlay",
              "size": 10,
              "solidity": 0.2
             }
            },
            "type": "barpolar"
           }
          ],
          "carpet": [
           {
            "aaxis": {
             "endlinecolor": "#2a3f5f",
             "gridcolor": "white",
             "linecolor": "white",
             "minorgridcolor": "white",
             "startlinecolor": "#2a3f5f"
            },
            "baxis": {
             "endlinecolor": "#2a3f5f",
             "gridcolor": "white",
             "linecolor": "white",
             "minorgridcolor": "white",
             "startlinecolor": "#2a3f5f"
            },
            "type": "carpet"
           }
          ],
          "choropleth": [
           {
            "colorbar": {
             "outlinewidth": 0,
             "ticks": ""
            },
            "type": "choropleth"
           }
          ],
          "contour": [
           {
            "colorbar": {
             "outlinewidth": 0,
             "ticks": ""
            },
            "colorscale": [
             [
              0,
              "#0d0887"
             ],
             [
              0.1111111111111111,
              "#46039f"
             ],
             [
              0.2222222222222222,
              "#7201a8"
             ],
             [
              0.3333333333333333,
              "#9c179e"
             ],
             [
              0.4444444444444444,
              "#bd3786"
             ],
             [
              0.5555555555555556,
              "#d8576b"
             ],
             [
              0.6666666666666666,
              "#ed7953"
             ],
             [
              0.7777777777777778,
              "#fb9f3a"
             ],
             [
              0.8888888888888888,
              "#fdca26"
             ],
             [
              1,
              "#f0f921"
             ]
            ],
            "type": "contour"
           }
          ],
          "contourcarpet": [
           {
            "colorbar": {
             "outlinewidth": 0,
             "ticks": ""
            },
            "type": "contourcarpet"
           }
          ],
          "heatmap": [
           {
            "colorbar": {
             "outlinewidth": 0,
             "ticks": ""
            },
            "colorscale": [
             [
              0,
              "#0d0887"
             ],
             [
              0.1111111111111111,
              "#46039f"
             ],
             [
              0.2222222222222222,
              "#7201a8"
             ],
             [
              0.3333333333333333,
              "#9c179e"
             ],
             [
              0.4444444444444444,
              "#bd3786"
             ],
             [
              0.5555555555555556,
              "#d8576b"
             ],
             [
              0.6666666666666666,
              "#ed7953"
             ],
             [
              0.7777777777777778,
              "#fb9f3a"
             ],
             [
              0.8888888888888888,
              "#fdca26"
             ],
             [
              1,
              "#f0f921"
             ]
            ],
            "type": "heatmap"
           }
          ],
          "heatmapgl": [
           {
            "colorbar": {
             "outlinewidth": 0,
             "ticks": ""
            },
            "colorscale": [
             [
              0,
              "#0d0887"
             ],
             [
              0.1111111111111111,
              "#46039f"
             ],
             [
              0.2222222222222222,
              "#7201a8"
             ],
             [
              0.3333333333333333,
              "#9c179e"
             ],
             [
              0.4444444444444444,
              "#bd3786"
             ],
             [
              0.5555555555555556,
              "#d8576b"
             ],
             [
              0.6666666666666666,
              "#ed7953"
             ],
             [
              0.7777777777777778,
              "#fb9f3a"
             ],
             [
              0.8888888888888888,
              "#fdca26"
             ],
             [
              1,
              "#f0f921"
             ]
            ],
            "type": "heatmapgl"
           }
          ],
          "histogram": [
           {
            "marker": {
             "pattern": {
              "fillmode": "overlay",
              "size": 10,
              "solidity": 0.2
             }
            },
            "type": "histogram"
           }
          ],
          "histogram2d": [
           {
            "colorbar": {
             "outlinewidth": 0,
             "ticks": ""
            },
            "colorscale": [
             [
              0,
              "#0d0887"
             ],
             [
              0.1111111111111111,
              "#46039f"
             ],
             [
              0.2222222222222222,
              "#7201a8"
             ],
             [
              0.3333333333333333,
              "#9c179e"
             ],
             [
              0.4444444444444444,
              "#bd3786"
             ],
             [
              0.5555555555555556,
              "#d8576b"
             ],
             [
              0.6666666666666666,
              "#ed7953"
             ],
             [
              0.7777777777777778,
              "#fb9f3a"
             ],
             [
              0.8888888888888888,
              "#fdca26"
             ],
             [
              1,
              "#f0f921"
             ]
            ],
            "type": "histogram2d"
           }
          ],
          "histogram2dcontour": [
           {
            "colorbar": {
             "outlinewidth": 0,
             "ticks": ""
            },
            "colorscale": [
             [
              0,
              "#0d0887"
             ],
             [
              0.1111111111111111,
              "#46039f"
             ],
             [
              0.2222222222222222,
              "#7201a8"
             ],
             [
              0.3333333333333333,
              "#9c179e"
             ],
             [
              0.4444444444444444,
              "#bd3786"
             ],
             [
              0.5555555555555556,
              "#d8576b"
             ],
             [
              0.6666666666666666,
              "#ed7953"
             ],
             [
              0.7777777777777778,
              "#fb9f3a"
             ],
             [
              0.8888888888888888,
              "#fdca26"
             ],
             [
              1,
              "#f0f921"
             ]
            ],
            "type": "histogram2dcontour"
           }
          ],
          "mesh3d": [
           {
            "colorbar": {
             "outlinewidth": 0,
             "ticks": ""
            },
            "type": "mesh3d"
           }
          ],
          "parcoords": [
           {
            "line": {
             "colorbar": {
              "outlinewidth": 0,
              "ticks": ""
             }
            },
            "type": "parcoords"
           }
          ],
          "pie": [
           {
            "automargin": true,
            "type": "pie"
           }
          ],
          "scatter": [
           {
            "fillpattern": {
             "fillmode": "overlay",
             "size": 10,
             "solidity": 0.2
            },
            "type": "scatter"
           }
          ],
          "scatter3d": [
           {
            "line": {
             "colorbar": {
              "outlinewidth": 0,
              "ticks": ""
             }
            },
            "marker": {
             "colorbar": {
              "outlinewidth": 0,
              "ticks": ""
             }
            },
            "type": "scatter3d"
           }
          ],
          "scattercarpet": [
           {
            "marker": {
             "colorbar": {
              "outlinewidth": 0,
              "ticks": ""
             }
            },
            "type": "scattercarpet"
           }
          ],
          "scattergeo": [
           {
            "marker": {
             "colorbar": {
              "outlinewidth": 0,
              "ticks": ""
             }
            },
            "type": "scattergeo"
           }
          ],
          "scattergl": [
           {
            "marker": {
             "colorbar": {
              "outlinewidth": 0,
              "ticks": ""
             }
            },
            "type": "scattergl"
           }
          ],
          "scattermapbox": [
           {
            "marker": {
             "colorbar": {
              "outlinewidth": 0,
              "ticks": ""
             }
            },
            "type": "scattermapbox"
           }
          ],
          "scatterpolar": [
           {
            "marker": {
             "colorbar": {
              "outlinewidth": 0,
              "ticks": ""
             }
            },
            "type": "scatterpolar"
           }
          ],
          "scatterpolargl": [
           {
            "marker": {
             "colorbar": {
              "outlinewidth": 0,
              "ticks": ""
             }
            },
            "type": "scatterpolargl"
           }
          ],
          "scatterternary": [
           {
            "marker": {
             "colorbar": {
              "outlinewidth": 0,
              "ticks": ""
             }
            },
            "type": "scatterternary"
           }
          ],
          "surface": [
           {
            "colorbar": {
             "outlinewidth": 0,
             "ticks": ""
            },
            "colorscale": [
             [
              0,
              "#0d0887"
             ],
             [
              0.1111111111111111,
              "#46039f"
             ],
             [
              0.2222222222222222,
              "#7201a8"
             ],
             [
              0.3333333333333333,
              "#9c179e"
             ],
             [
              0.4444444444444444,
              "#bd3786"
             ],
             [
              0.5555555555555556,
              "#d8576b"
             ],
             [
              0.6666666666666666,
              "#ed7953"
             ],
             [
              0.7777777777777778,
              "#fb9f3a"
             ],
             [
              0.8888888888888888,
              "#fdca26"
             ],
             [
              1,
              "#f0f921"
             ]
            ],
            "type": "surface"
           }
          ],
          "table": [
           {
            "cells": {
             "fill": {
              "color": "#EBF0F8"
             },
             "line": {
              "color": "white"
             }
            },
            "header": {
             "fill": {
              "color": "#C8D4E3"
             },
             "line": {
              "color": "white"
             }
            },
            "type": "table"
           }
          ]
         },
         "layout": {
          "annotationdefaults": {
           "arrowcolor": "#2a3f5f",
           "arrowhead": 0,
           "arrowwidth": 1
          },
          "autotypenumbers": "strict",
          "coloraxis": {
           "colorbar": {
            "outlinewidth": 0,
            "ticks": ""
           }
          },
          "colorscale": {
           "diverging": [
            [
             0,
             "#8e0152"
            ],
            [
             0.1,
             "#c51b7d"
            ],
            [
             0.2,
             "#de77ae"
            ],
            [
             0.3,
             "#f1b6da"
            ],
            [
             0.4,
             "#fde0ef"
            ],
            [
             0.5,
             "#f7f7f7"
            ],
            [
             0.6,
             "#e6f5d0"
            ],
            [
             0.7,
             "#b8e186"
            ],
            [
             0.8,
             "#7fbc41"
            ],
            [
             0.9,
             "#4d9221"
            ],
            [
             1,
             "#276419"
            ]
           ],
           "sequential": [
            [
             0,
             "#0d0887"
            ],
            [
             0.1111111111111111,
             "#46039f"
            ],
            [
             0.2222222222222222,
             "#7201a8"
            ],
            [
             0.3333333333333333,
             "#9c179e"
            ],
            [
             0.4444444444444444,
             "#bd3786"
            ],
            [
             0.5555555555555556,
             "#d8576b"
            ],
            [
             0.6666666666666666,
             "#ed7953"
            ],
            [
             0.7777777777777778,
             "#fb9f3a"
            ],
            [
             0.8888888888888888,
             "#fdca26"
            ],
            [
             1,
             "#f0f921"
            ]
           ],
           "sequentialminus": [
            [
             0,
             "#0d0887"
            ],
            [
             0.1111111111111111,
             "#46039f"
            ],
            [
             0.2222222222222222,
             "#7201a8"
            ],
            [
             0.3333333333333333,
             "#9c179e"
            ],
            [
             0.4444444444444444,
             "#bd3786"
            ],
            [
             0.5555555555555556,
             "#d8576b"
            ],
            [
             0.6666666666666666,
             "#ed7953"
            ],
            [
             0.7777777777777778,
             "#fb9f3a"
            ],
            [
             0.8888888888888888,
             "#fdca26"
            ],
            [
             1,
             "#f0f921"
            ]
           ]
          },
          "colorway": [
           "#636efa",
           "#EF553B",
           "#00cc96",
           "#ab63fa",
           "#FFA15A",
           "#19d3f3",
           "#FF6692",
           "#B6E880",
           "#FF97FF",
           "#FECB52"
          ],
          "font": {
           "color": "#2a3f5f"
          },
          "geo": {
           "bgcolor": "white",
           "lakecolor": "white",
           "landcolor": "#E5ECF6",
           "showlakes": true,
           "showland": true,
           "subunitcolor": "white"
          },
          "hoverlabel": {
           "align": "left"
          },
          "hovermode": "closest",
          "mapbox": {
           "style": "light"
          },
          "paper_bgcolor": "white",
          "plot_bgcolor": "#E5ECF6",
          "polar": {
           "angularaxis": {
            "gridcolor": "white",
            "linecolor": "white",
            "ticks": ""
           },
           "bgcolor": "#E5ECF6",
           "radialaxis": {
            "gridcolor": "white",
            "linecolor": "white",
            "ticks": ""
           }
          },
          "scene": {
           "xaxis": {
            "backgroundcolor": "#E5ECF6",
            "gridcolor": "white",
            "gridwidth": 2,
            "linecolor": "white",
            "showbackground": true,
            "ticks": "",
            "zerolinecolor": "white"
           },
           "yaxis": {
            "backgroundcolor": "#E5ECF6",
            "gridcolor": "white",
            "gridwidth": 2,
            "linecolor": "white",
            "showbackground": true,
            "ticks": "",
            "zerolinecolor": "white"
           },
           "zaxis": {
            "backgroundcolor": "#E5ECF6",
            "gridcolor": "white",
            "gridwidth": 2,
            "linecolor": "white",
            "showbackground": true,
            "ticks": "",
            "zerolinecolor": "white"
           }
          },
          "shapedefaults": {
           "line": {
            "color": "#2a3f5f"
           }
          },
          "ternary": {
           "aaxis": {
            "gridcolor": "white",
            "linecolor": "white",
            "ticks": ""
           },
           "baxis": {
            "gridcolor": "white",
            "linecolor": "white",
            "ticks": ""
           },
           "bgcolor": "#E5ECF6",
           "caxis": {
            "gridcolor": "white",
            "linecolor": "white",
            "ticks": ""
           }
          },
          "title": {
           "x": 0.05
          },
          "xaxis": {
           "automargin": true,
           "gridcolor": "white",
           "linecolor": "white",
           "ticks": "",
           "title": {
            "standoff": 15
           },
           "zerolinecolor": "white",
           "zerolinewidth": 2
          },
          "yaxis": {
           "automargin": true,
           "gridcolor": "white",
           "linecolor": "white",
           "ticks": "",
           "title": {
            "standoff": 15
           },
           "zerolinecolor": "white",
           "zerolinewidth": 2
          }
         }
        },
        "xaxis": {
         "anchor": "y",
         "constrain": "domain",
         "domain": [
          0,
          1
         ],
         "scaleanchor": "y"
        },
        "yaxis": {
         "anchor": "x",
         "autorange": "reversed",
         "constrain": "domain",
         "domain": [
          0,
          1
         ]
        }
       }
      }
     },
     "metadata": {},
     "output_type": "display_data"
    }
   ],
   "source": [
    "pairs = nu.pairs([C.nuStrand1,C.nuStrand2], model=C.nupackmodel)\n",
    "heat = pairs.to_array()\n",
    "fig = px.imshow(heat)\n",
    "fig.show()"
   ]
  }
 ],
 "metadata": {
  "kernelspec": {
   "display_name": "hdna",
   "language": "python",
   "name": "python3"
  },
  "language_info": {
   "codemirror_mode": {
    "name": "ipython",
    "version": 3
   },
   "file_extension": ".py",
   "mimetype": "text/x-python",
   "name": "python",
   "nbconvert_exporter": "python",
   "pygments_lexer": "ipython3",
   "version": "3.10.9"
  },
  "orig_nbformat": 4,
  "vscode": {
   "interpreter": {
    "hash": "13f02c433cbffcd00bbcbbfeff349f4b7c28e9023d8fb9f65ab93bb104997abd"
   }
  }
 },
 "nbformat": 4,
 "nbformat_minor": 2
}
