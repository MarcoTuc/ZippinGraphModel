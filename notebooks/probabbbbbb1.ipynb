{
 "cells": [
  {
   "cell_type": "code",
   "execution_count": 1,
   "metadata": {},
   "outputs": [],
   "source": [
    "%load_ext autoreload\n",
    "%autoreload 2"
   ]
  },
  {
   "cell_type": "code",
   "execution_count": 2,
   "metadata": {},
   "outputs": [],
   "source": [
    "import sys\n",
    "sys.path.append('..')"
   ]
  },
  {
   "cell_type": "code",
   "execution_count": 17,
   "metadata": {},
   "outputs": [],
   "source": [
    "from hdna import * \n",
    "import nupack as nu\n",
    "import networkx as nx \n",
    "import numpy as np "
   ]
  },
  {
   "cell_type": "code",
   "execution_count": null,
   "metadata": {},
   "outputs": [],
   "source": []
  },
  {
   "cell_type": "code",
   "execution_count": 75,
   "metadata": {},
   "outputs": [],
   "source": [
    "A = nu.Strand('CACGCGAGCGAG', name='a')\n",
    "B = nu.Strand('GTGCGCTCGCTC'[::-1], name='b')\n",
    "M = nu.Model(ensemble='stacking', material='dna', celsius=26)\n",
    "\n",
    "C = nu.Complex([A, B])\n",
    "Z = nu.pfunc(C, M)\n",
    "\n",
    "s1 = ('...(........+........)...')\n",
    "s2 = ('.......(....+....).......')\n",
    "\n",
    "dg1 = nu.structure_energy(strands=[A, B], structure=s1, model=M)\n",
    "dg2 = nu.structure_energy(strands=[A, B], structure=s2, model=M)\n",
    "\n",
    "p1 = nu.structure_probability(strands=[A, B], structure=s1, model=M)\n",
    "p2 = nu.structure_probability(strands=[A, B], structure=s2, model=M)"
   ]
  },
  {
   "cell_type": "code",
   "execution_count": null,
   "metadata": {},
   "outputs": [],
   "source": []
  },
  {
   "cell_type": "code",
   "execution_count": 79,
   "metadata": {},
   "outputs": [
    {
     "data": {
      "text/plain": [
       "0.00198717"
      ]
     },
     "execution_count": 79,
     "metadata": {},
     "output_type": "execute_result"
    }
   ],
   "source": [
    "1/(M.beta*(273.15+26))"
   ]
  },
  {
   "cell_type": "code",
   "execution_count": 41,
   "metadata": {},
   "outputs": [
    {
     "data": {
      "text/plain": [
       "5.481841525497449e+16"
      ]
     },
     "execution_count": 41,
     "metadata": {},
     "output_type": "execute_result"
    }
   ],
   "source": [
    "float(Z[0])"
   ]
  },
  {
   "cell_type": "code",
   "execution_count": 33,
   "metadata": {},
   "outputs": [
    {
     "name": "stdout",
     "output_type": "stream",
     "text": [
      "-3.192758338872137 -3.725194399925824\n",
      "3.922822391424179e-15 9.60680705393374e-15\n"
     ]
    }
   ],
   "source": [
    "print(dg1, dg2)\n",
    "print(p1, p2)"
   ]
  },
  {
   "cell_type": "code",
   "execution_count": 80,
   "metadata": {},
   "outputs": [],
   "source": [
    "def bzm(dg, celsius, pfunc):\n",
    "    temp = 273.15 + celsius\n",
    "    kb = 1.987204259e-3\n",
    "    return np.exp(-dg/(kb*temp))/float(pfunc[0])"
   ]
  },
  {
   "cell_type": "code",
   "execution_count": 81,
   "metadata": {},
   "outputs": [
    {
     "name": "stdout",
     "output_type": "stream",
     "text": [
      "3.9224591856610895e-15 9.605769256256618e-15\n"
     ]
    }
   ],
   "source": [
    "pp1 = bzm(dg1, 26, Z)\n",
    "pp2 = bzm(dg2, 26, Z)\n",
    "print(pp1, pp2)"
   ]
  }
 ],
 "metadata": {
  "kernelspec": {
   "display_name": "hdna",
   "language": "python",
   "name": "python3"
  },
  "language_info": {
   "codemirror_mode": {
    "name": "ipython",
    "version": 3
   },
   "file_extension": ".py",
   "mimetype": "text/x-python",
   "name": "python",
   "nbconvert_exporter": "python",
   "pygments_lexer": "ipython3",
   "version": "3.10.9 (main, Jan 11 2023, 15:21:40) [GCC 11.2.0]"
  },
  "orig_nbformat": 4,
  "vscode": {
   "interpreter": {
    "hash": "13f02c433cbffcd00bbcbbfeff349f4b7c28e9023d8fb9f65ab93bb104997abd"
   }
  }
 },
 "nbformat": 4,
 "nbformat_minor": 2
}
