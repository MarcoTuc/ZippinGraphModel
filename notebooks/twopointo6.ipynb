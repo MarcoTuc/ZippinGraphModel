{
 "cells": [
  {
   "cell_type": "code",
   "execution_count": 2,
   "metadata": {},
   "outputs": [],
   "source": [
    "%load_ext autoreload\n",
    "%autoreload 2"
   ]
  },
  {
   "cell_type": "code",
   "execution_count": 3,
   "metadata": {},
   "outputs": [],
   "source": [
    "import sys\n",
    "sys.path.append('..')"
   ]
  },
  {
   "cell_type": "code",
   "execution_count": 4,
   "metadata": {},
   "outputs": [],
   "source": [
    "from hdna import * \n",
    "import nupack as nu\n",
    "import networkx as nx "
   ]
  },
  {
   "cell_type": "code",
   "execution_count": 44,
   "metadata": {},
   "outputs": [],
   "source": [
    "model = Model('dna', '3D', stacking='nostacking')\n",
    "s1 = Strand(model, \"ACCAAACCAC\")\n",
    "s2 = s1.complementary()\n",
    "C = Chamber(model, s1, s2)\n",
    "N = Kinetwork(model, s1, s2, Geometry(120,270))\n",
    "S = Simulator(model, N)"
   ]
  },
  {
   "cell_type": "code",
   "execution_count": 9,
   "metadata": {},
   "outputs": [
    {
     "data": {
      "text/plain": [
       "{None: 0,\n",
       " 'singlestranded': 1,\n",
       " 'duplex': 1,\n",
       " 'zipping': 44,\n",
       " 'on_nucleation': 10,\n",
       " 'off_nucleation': 26,\n",
       " 'backfray': 24,\n",
       " 'sliding': 8}"
      ]
     },
     "execution_count": 9,
     "metadata": {},
     "output_type": "execute_result"
    }
   ],
   "source": [
    "N.overview"
   ]
  },
  {
   "cell_type": "code",
   "execution_count": 38,
   "metadata": {},
   "outputs": [
    {
     "data": {
      "text/plain": [
       "[('((........+))........',\n",
       "  {'obj': <hdna.complex.Complex at 0x7ff705974d60>,\n",
       "   'pairs': 2,\n",
       "   'state': 'sliding',\n",
       "   'dpxdist': 8,\n",
       "   'dtc': 0,\n",
       "   'side': 'l'}),\n",
       " ('........((+........))',\n",
       "  {'obj': <hdna.complex.Complex at 0x7ff705974b50>,\n",
       "   'pairs': 2,\n",
       "   'state': 'sliding',\n",
       "   'dpxdist': 8,\n",
       "   'dtc': 0,\n",
       "   'side': 'r'}),\n",
       " ('((((......+.)))).....',\n",
       "  {'obj': <hdna.complex.Complex at 0x7ff7059a4820>,\n",
       "   'pairs': 4,\n",
       "   'state': 'sliding',\n",
       "   'dpxdist': 5,\n",
       "   'dtc': 0,\n",
       "   'side': 'l'}),\n",
       " ('.....((((.+......))))',\n",
       "  {'obj': <hdna.complex.Complex at 0x7ff7059745e0>,\n",
       "   'pairs': 4,\n",
       "   'state': 'sliding',\n",
       "   'dpxdist': 5,\n",
       "   'dtc': 0,\n",
       "   'side': 'r'}),\n",
       " ('(....((...+))....)...',\n",
       "  {'obj': <hdna.complex.Complex at 0x7ff7059a77f0>,\n",
       "   'pairs': 3,\n",
       "   'state': 'sliding',\n",
       "   'dpxdist': 3,\n",
       "   'dtc': 0,\n",
       "   'side': 'l'}),\n",
       " ('...(....((+...))....)',\n",
       "  {'obj': <hdna.complex.Complex at 0x7ff7059a4610>,\n",
       "   'pairs': 3,\n",
       "   'state': 'sliding',\n",
       "   'dpxdist': 3,\n",
       "   'dtc': 0,\n",
       "   'side': 'r'}),\n",
       " ('.(.((.(...+..).)).)..',\n",
       "  {'obj': <hdna.complex.Complex at 0x7ff7059a7d30>,\n",
       "   'pairs': 4,\n",
       "   'state': 'sliding',\n",
       "   'dpxdist': 1,\n",
       "   'dtc': 0,\n",
       "   'side': 'l'}),\n",
       " ('..(.((.(..+...).)).).',\n",
       "  {'obj': <hdna.complex.Complex at 0x7ff7059a7e50>,\n",
       "   'pairs': 4,\n",
       "   'state': 'sliding',\n",
       "   'dpxdist': 1,\n",
       "   'dtc': 0,\n",
       "   'side': 'r'})]"
      ]
     },
     "execution_count": 38,
     "metadata": {},
     "output_type": "execute_result"
    }
   ],
   "source": [
    "FG = N.filternodes('state', lambda x: x == 'sliding', N.DG)\n",
    "list(FG.nodes.data())"
   ]
  },
  {
   "cell_type": "code",
   "execution_count": 41,
   "metadata": {},
   "outputs": [],
   "source": [
    "def ownsliding(node, graph):\n",
    "        \"\"\" special filtering method to get the goal sliding associated with an off_nucleation\"\"\"\n",
    "        dpxdist = node[1]['dpxdist']\n",
    "        side    = node[1]['side']\n",
    "        def filternode(node):\n",
    "            try: return graph.nodes[node]['dpxdist'] == dpxdist and graph.nodes[node]['side'] == side and graph.nodes[node]['state'] == 'sliding'\n",
    "            except KeyError: pass     \n",
    "        sliding = list(nx.subgraph_view(graph, filter_node=filternode).nodes())[0]\n",
    "        return sliding"
   ]
  },
  {
   "cell_type": "code",
   "execution_count": 28,
   "metadata": {},
   "outputs": [
    {
     "name": "stdout",
     "output_type": "stream",
     "text": [
      ".........(+........).\n",
      "{'obj': <hdna.complex.Complex object at 0x7ff705974970>, 'pairs': 1, 'state': 'off_nucleation', 'dpxdist': 8, 'dtc': 1, 'side': 'r'}\n"
     ]
    }
   ],
   "source": [
    "off = list(FG.nodes.data())[3]\n",
    "print(*off, sep='\\n')"
   ]
  },
  {
   "cell_type": "code",
   "execution_count": 42,
   "metadata": {},
   "outputs": [
    {
     "data": {
      "text/plain": [
       "'........((+........))'"
      ]
     },
     "execution_count": 42,
     "metadata": {},
     "output_type": "execute_result"
    }
   ],
   "source": [
    "ownsliding(off, N.DG)"
   ]
  },
  {
   "cell_type": "code",
   "execution_count": null,
   "metadata": {},
   "outputs": [],
   "source": [
    "for n in N.DG.nodes.data():\n",
    "    try: n[1]['obj'] = str(type(n[1]['obj']))   \n",
    "    except: pass \n",
    "nx.write_gexf(N.DG, './COMPLETE.gexf')"
   ]
  }
 ],
 "metadata": {
  "kernelspec": {
   "display_name": "hdna",
   "language": "python",
   "name": "python3"
  },
  "language_info": {
   "codemirror_mode": {
    "name": "ipython",
    "version": 3
   },
   "file_extension": ".py",
   "mimetype": "text/x-python",
   "name": "python",
   "nbconvert_exporter": "python",
   "pygments_lexer": "ipython3",
   "version": "3.10.9 (main, Jan 11 2023, 15:21:40) [GCC 11.2.0]"
  },
  "orig_nbformat": 4,
  "vscode": {
   "interpreter": {
    "hash": "13f02c433cbffcd00bbcbbfeff349f4b7c28e9023d8fb9f65ab93bb104997abd"
   }
  }
 },
 "nbformat": 4,
 "nbformat_minor": 2
}
