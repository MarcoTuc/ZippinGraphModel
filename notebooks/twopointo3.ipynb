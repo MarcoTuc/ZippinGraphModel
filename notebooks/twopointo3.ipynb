{
 "cells": [
  {
   "cell_type": "code",
   "execution_count": 8,
   "metadata": {},
   "outputs": [
    {
     "name": "stdout",
     "output_type": "stream",
     "text": [
      "The autoreload extension is already loaded. To reload it, use:\n",
      "  %reload_ext autoreload\n"
     ]
    }
   ],
   "source": [
    "%load_ext autoreload\n",
    "%autoreload 2"
   ]
  },
  {
   "cell_type": "code",
   "execution_count": 9,
   "metadata": {},
   "outputs": [],
   "source": [
    "import sys\n",
    "sys.path.append('..')"
   ]
  },
  {
   "cell_type": "code",
   "execution_count": 10,
   "metadata": {},
   "outputs": [],
   "source": [
    "from hdna import * \n",
    "import nupack as nu\n",
    "import networkx as nx \n",
    "import cProfile, pstats"
   ]
  },
  {
   "cell_type": "code",
   "execution_count": 15,
   "metadata": {},
   "outputs": [],
   "source": [
    "model = Model('dna', '3D', stacking='nostacking')\n",
    "A = Strand(model, \"AAAAAAAAAAAAAAAA\")\n",
    "B = A.complementary()\n",
    "C = Chamber(model, A, B)\n",
    "N = Kinetwork(model, A, B, Geometry(120,270), clean=True)"
   ]
  },
  {
   "cell_type": "code",
   "execution_count": 16,
   "metadata": {},
   "outputs": [],
   "source": [
    "N.zippingraph()\n",
    "N.slidingraph()\n",
    "N.completegraph()"
   ]
  },
  {
   "cell_type": "code",
   "execution_count": 13,
   "metadata": {},
   "outputs": [
    {
     "ename": "AttributeError",
     "evalue": "'Kinetwork' object has no attribute 'DG'",
     "output_type": "error",
     "traceback": [
      "\u001b[0;31m---------------------------------------------------------------------------\u001b[0m",
      "\u001b[0;31mAttributeError\u001b[0m                            Traceback (most recent call last)",
      "Cell \u001b[0;32mIn[13], line 1\u001b[0m\n\u001b[0;32m----> 1\u001b[0m \u001b[39mfor\u001b[39;00m n \u001b[39min\u001b[39;00m N\u001b[39m.\u001b[39;49mDG\u001b[39m.\u001b[39mnodes\u001b[39m.\u001b[39mdata():\n\u001b[1;32m      2\u001b[0m     \u001b[39mtry\u001b[39;00m: n[\u001b[39m1\u001b[39m][\u001b[39m'\u001b[39m\u001b[39mobj\u001b[39m\u001b[39m'\u001b[39m] \u001b[39m=\u001b[39m \u001b[39mstr\u001b[39m(\u001b[39mtype\u001b[39m(n[\u001b[39m1\u001b[39m][\u001b[39m'\u001b[39m\u001b[39mobj\u001b[39m\u001b[39m'\u001b[39m]))   \n\u001b[1;32m      3\u001b[0m     \u001b[39mexcept\u001b[39;00m: \u001b[39mpass\u001b[39;00m \n",
      "\u001b[0;31mAttributeError\u001b[0m: 'Kinetwork' object has no attribute 'DG'"
     ]
    }
   ],
   "source": [
    "for n in N.DG.nodes.data():\n",
    "    try: n[1]['obj'] = str(type(n[1]['obj']))   \n",
    "    except: pass \n",
    "nx.write_gexf(N.DG, './COMPLETE.gexf')"
   ]
  },
  {
   "attachments": {},
   "cell_type": "markdown",
   "metadata": {},
   "source": [
    "How to profile:"
   ]
  },
  {
   "cell_type": "code",
   "execution_count": 17,
   "metadata": {},
   "outputs": [
    {
     "name": "stderr",
     "output_type": "stream",
     "text": [
      "Exception ignored When destroying _lsprof profiler:\n",
      "Traceback (most recent call last):\n",
      "  File \"/tmp/ipykernel_53101/439621331.py\", line 2, in <module>\n",
      "RuntimeError: Cannot install a profile function while another profile function is being installed\n"
     ]
    }
   ],
   "source": [
    "profiler = cProfile.Profile()\n",
    "profiler.enable()\n",
    "N.zippingraph()\n",
    "N.slidingraph()\n",
    "N.completegraph()\n",
    "profiler.disable()"
   ]
  },
  {
   "cell_type": "code",
   "execution_count": 18,
   "metadata": {},
   "outputs": [
    {
     "name": "stdout",
     "output_type": "stream",
     "text": [
      "         37001967 function calls (36196591 primitive calls) in 14.901 seconds\n",
      "\n",
      "   Ordered by: internal time\n",
      "\n",
      "   ncalls  tottime  percall  cumtime  percall filename:lineno(function)\n",
      "   523668    3.023    0.000    4.130    0.000 /home/marco/Desktop/hDNA/notebooks/../hdna/kinetwork.py:154(getix)\n",
      "523430/658    1.249    0.000   10.549    0.016 /home/marco/Desktop/hDNA/notebooks/../hdna/kinetwork.py:207(leafs)\n",
      "   261834    1.243    0.000    5.590    0.000 /home/marco/Desktop/hDNA/notebooks/../hdna/kinetwork.py:164(adjacent)\n",
      "   785522    1.186    0.000    3.385    0.000 /home/marco/Desktop/hDNA/notebooks/../hdna/complex.py:16(__init__)\n",
      "   785522    0.830    0.000    1.564    0.000 /home/marco/Desktop/hDNA/notebooks/../hdna/complex.py:110(maxconsbp)\n",
      " 14796442    0.823    0.000    0.823    0.000 {method 'append' of 'list' objects}\n",
      "   785936    0.718    0.000    0.884    0.000 /home/marco/miniconda3/envs/hdna/lib/python3.10/site-packages/networkx/classes/digraph.py:643(add_edge)\n",
      "262092/46    0.632    0.000    3.276    0.071 /home/marco/Desktop/hDNA/notebooks/../hdna/kinetwork.py:98(leafs)\n",
      "   262108    0.595    0.000    0.618    0.000 /home/marco/Desktop/hDNA/notebooks/../hdna/kinetwork.py:79(get_i)\n",
      "    16467    0.436    0.000    0.441    0.000 /home/marco/miniconda3/envs/hdna/lib/python3.10/site-packages/nupack/rebind/render.py:86(init)\n",
      "   261834    0.383    0.000    5.993    0.000 /home/marco/Desktop/hDNA/notebooks/../hdna/kinetwork.py:198(update_structure)\n",
      "   785526    0.372    0.000    0.605    0.000 /home/marco/miniconda3/envs/hdna/lib/python3.10/site-packages/networkx/classes/digraph.py:420(add_node)\n",
      "   523668    0.371    0.000    0.371    0.000 /home/marco/Desktop/hDNA/notebooks/../hdna/kinetwork.py:162(<listcomp>)\n",
      "   785522    0.338    0.000    0.635    0.000 /home/marco/Desktop/hDNA/notebooks/../hdna/complex.py:103(totbasepairs)\n",
      "  2356582    0.335    0.000    0.335    0.000 {method 'split' of 'str' objects}\n",
      "  1655147    0.326    0.000    0.326    0.000 {method 'update' of 'dict' objects}\n",
      "  5663766    0.301    0.000    0.309    0.000 {built-in method builtins.len}\n",
      "  1571044    0.299    0.000    0.299    0.000 {built-in method builtins.max}\n",
      "  1571044    0.298    0.000    0.298    0.000 {method 'count' of 'str' objects}\n",
      "   262108    0.222    0.000    0.859    0.000 /home/marco/Desktop/hDNA/notebooks/../hdna/kinetwork.py:88(update_structure)\n",
      "   262092    0.186    0.000    1.268    0.000 /home/marco/Desktop/hDNA/notebooks/../hdna/complex.py:247(__init__)\n",
      "    17964    0.135    0.000    0.186    0.000 /home/marco/miniconda3/envs/hdna/lib/python3.10/inspect.py:3049(_bind)\n",
      "   819428    0.086    0.000    0.086    0.000 {method 'get' of 'dict' objects}\n",
      "    14970    0.044    0.000    0.057    0.000 /home/marco/miniconda3/envs/hdna/lib/python3.10/inspect.py:2786(args)\n",
      "    17964    0.043    0.000    0.053    0.000 /home/marco/miniconda3/envs/hdna/lib/python3.10/inspect.py:2839(apply_defaults)\n",
      "      286    0.039    0.000    0.064    0.000 /home/marco/miniconda3/envs/hdna/lib/python3.10/site-packages/networkx/classes/digraph.py:713(add_edges_from)\n",
      "14970/5988    0.033    0.000    0.924    0.000 /home/marco/miniconda3/envs/hdna/lib/python3.10/site-packages/nupack/rebind/render.py:235(wrap)\n",
      "   262092    0.032    0.000    0.032    0.000 {method 'join' of 'str' objects}\n",
      "    14970    0.026    0.000    0.032    0.000 /home/marco/miniconda3/envs/hdna/lib/python3.10/inspect.py:2809(kwargs)\n",
      "   359280    0.023    0.000    0.023    0.000 /home/marco/miniconda3/envs/hdna/lib/python3.10/inspect.py:2698(kind)\n",
      "     1497    0.020    0.000    0.546    0.000 /home/marco/miniconda3/envs/hdna/lib/python3.10/site-packages/nupack/model.py:231(structure_energy)\n",
      "       30    0.018    0.001   10.624    0.354 /home/marco/Desktop/hDNA/notebooks/../hdna/kinetwork.py:152(backfraygraph)\n",
      "     5988    0.015    0.000    0.021    0.000 /home/marco/miniconda3/envs/hdna/lib/python3.10/site-packages/nupack/rebind/render.py:97(fget)\n",
      "      286    0.014    0.000    0.019    0.000 /home/marco/miniconda3/envs/hdna/lib/python3.10/site-packages/networkx/classes/digraph.py:469(add_nodes_from)\n",
      "   113780    0.013    0.000    0.013    0.000 {built-in method builtins.next}\n",
      "13473/10479    0.012    0.000    0.018    0.000 {method 'cast' of 'rebind.Variable' objects}\n",
      "    32050    0.012    0.000    0.015    0.000 /home/marco/miniconda3/envs/hdna/lib/python3.10/site-packages/networkx/classes/reportviews.py:788(<genexpr>)\n",
      "     2994    0.011    0.000    0.062    0.000 /home/marco/miniconda3/envs/hdna/lib/python3.10/site-packages/nupack/rebind/render.py:248(wrap)\n",
      "     2994    0.010    0.000    0.162    0.000 /home/marco/miniconda3/envs/hdna/lib/python3.10/site-packages/nupack/core.py:444(__init__)\n",
      "     1497    0.009    0.000    0.936    0.001 /home/marco/Desktop/hDNA/notebooks/../hdna/complex.py:126(structureG)\n",
      "       16    0.009    0.001    3.285    0.205 /home/marco/Desktop/hDNA/notebooks/../hdna/kinetwork.py:77(subzippingraph)\n",
      "     1497    0.009    0.000    0.134    0.000 /home/marco/miniconda3/envs/hdna/lib/python3.10/site-packages/nupack/core.py:94(__init__)\n",
      "   119760    0.008    0.000    0.008    0.000 /home/marco/miniconda3/envs/hdna/lib/python3.10/inspect.py:2686(name)\n",
      "    17964    0.007    0.000    0.193    0.000 /home/marco/miniconda3/envs/hdna/lib/python3.10/inspect.py:3180(bind)\n",
      "13978/11234    0.006    0.000    0.013    0.000 /home/marco/Desktop/hDNA/notebooks/../hdna/kinetwork.py:297(filternode)\n",
      "    47904    0.006    0.000    0.006    0.000 {method 'items' of 'mappingproxy' objects}\n",
      "    65868    0.005    0.000    0.005    0.000 /home/marco/miniconda3/envs/hdna/lib/python3.10/inspect.py:3005(parameters)\n",
      "    16467    0.005    0.000    0.005    0.000 {method 'move_from' of 'rebind.Variable' objects}\n",
      "     5988    0.005    0.000    0.117    0.000 /home/marco/miniconda3/envs/hdna/lib/python3.10/site-packages/nupack/core.py:397(__init__)\n",
      "15475/12731    0.004    0.000    0.008    0.000 /home/marco/miniconda3/envs/hdna/lib/python3.10/site-packages/networkx/classes/reportviews.py:188(__getitem__)\n",
      "    37717    0.004    0.000    0.004    0.000 {built-in method builtins.iter}\n",
      "        1    0.004    0.004   11.506   11.506 /home/marco/Desktop/hDNA/notebooks/../hdna/kinetwork.py:138(slidingraph)\n",
      "     1497    0.004    0.000    0.173    0.000 /home/marco/miniconda3/envs/hdna/lib/python3.10/site-packages/nupack/core.py:616(<listcomp>)\n",
      "    33439    0.004    0.000    0.004    0.000 {built-in method builtins.isinstance}\n",
      "    17964    0.004    0.000    0.004    0.000 {method 'values' of 'mappingproxy' objects}\n",
      "    17964    0.003    0.000    0.003    0.000 /home/marco/miniconda3/envs/hdna/lib/python3.10/inspect.py:2778(__init__)\n",
      "    26946    0.003    0.000    0.003    0.000 {method 'pop' of 'dict' objects}\n",
      "     2994    0.003    0.000    0.003    0.000 {built-in method numpy.asarray}\n",
      "    31764    0.003    0.000    0.003    0.000 /home/marco/miniconda3/envs/hdna/lib/python3.10/site-packages/networkx/classes/reportviews.py:774(<lambda>)\n",
      "    35928    0.003    0.000    0.003    0.000 /home/marco/miniconda3/envs/hdna/lib/python3.10/inspect.py:2690(default)\n",
      "     1497    0.003    0.000    0.003    0.000 /home/marco/miniconda3/envs/hdna/lib/python3.10/site-packages/nupack/rebind/render.py:213(bound)\n",
      "     1497    0.003    0.000    0.003    0.000 {method 'copy' of 'numpy.ndarray' objects}\n",
      " 3292/572    0.003    0.000    0.015    0.000 /home/marco/miniconda3/envs/hdna/lib/python3.10/site-packages/networkx/classes/coreviews.py:281(<genexpr>)\n",
      "     1497    0.003    0.000    0.322    0.000 /home/marco/miniconda3/envs/hdna/lib/python3.10/site-packages/nupack/core.py:613(__init__)\n",
      "    11976    0.002    0.000    0.002    0.000 /home/marco/miniconda3/envs/hdna/lib/python3.10/site-packages/nupack/rebind/render.py:252(<genexpr>)\n",
      "     2994    0.002    0.000    0.023    0.000 /home/marco/miniconda3/envs/hdna/lib/python3.10/site-packages/nupack/core.py:111(view)\n",
      "     2994    0.002    0.000    0.009    0.000 /home/marco/miniconda3/envs/hdna/lib/python3.10/site-packages/nupack/__init__.py:59(<lambda>)\n",
      "  864/578    0.002    0.000    0.004    0.000 /home/marco/miniconda3/envs/hdna/lib/python3.10/functools.py:961(__get__)\n",
      "     1497    0.002    0.000    0.582    0.000 /home/marco/miniconda3/envs/hdna/lib/python3.10/site-packages/nupack/model.py:258(structure_energy)\n",
      "     1497    0.002    0.000    0.066    0.000 /home/marco/miniconda3/envs/hdna/lib/python3.10/site-packages/nupack/core.py:167(__init__)\n",
      "     1497    0.002    0.000    0.020    0.000 /home/marco/miniconda3/envs/hdna/lib/python3.10/site-packages/nupack/core.py:107(pairlist)\n",
      "     1497    0.001    0.000    0.013    0.000 /home/marco/miniconda3/envs/hdna/lib/python3.10/site-packages/nupack/model.py:196(material)\n",
      "      284    0.001    0.000    0.077    0.000 /home/marco/miniconda3/envs/hdna/lib/python3.10/site-packages/networkx/classes/graph.py:1158(update)\n",
      "2828/2744    0.001    0.000    0.003    0.000 /home/marco/miniconda3/envs/hdna/lib/python3.10/site-packages/networkx/classes/coreviews.py:283(__getitem__)\n",
      "     1497    0.001    0.000    0.009    0.000 /home/marco/miniconda3/envs/hdna/lib/python3.10/site-packages/nupack/core.py:138(__len__)\n",
      "     2994    0.001    0.000    0.001    0.000 /home/marco/miniconda3/envs/hdna/lib/python3.10/site-packages/nupack/utility.py:54(create_name)\n",
      "     1497    0.001    0.000    0.021    0.000 /home/marco/miniconda3/envs/hdna/lib/python3.10/site-packages/nupack/core.py:132(__iter__)\n",
      "    10361    0.001    0.000    0.001    0.000 {method 'items' of 'dict' objects}\n",
      "        1    0.001    0.001    0.014    0.014 /home/marco/Desktop/hDNA/notebooks/../hdna/kinetwork.py:61(completegraph)\n",
      "     5988    0.001    0.000    0.001    0.000 {method '_set_ward' of 'rebind.Variable' objects}\n",
      "      293    0.001    0.000    0.001    0.000 /home/marco/miniconda3/envs/hdna/lib/python3.10/site-packages/networkx/classes/digraph.py:316(__init__)\n",
      "     9789    0.001    0.000    0.001    0.000 {method 'copy' of 'dict' objects}\n",
      "     1497    0.000    0.000    0.001    0.000 /home/marco/miniconda3/envs/hdna/lib/python3.10/site-packages/nupack/utility.py:146(check_instance)\n",
      "        1    0.000    0.000    3.382    3.382 /home/marco/Desktop/hDNA/notebooks/../hdna/kinetwork.py:64(zippingraph)\n",
      "      284    0.000    0.000    0.001    0.000 /home/marco/miniconda3/envs/hdna/lib/python3.10/site-packages/networkx/classes/reportviews.py:1102(data)\n",
      "     2994    0.000    0.000    0.000    0.000 {method 'values' of 'dict' objects}\n",
      "      286    0.000    0.000    0.000    0.000 /home/marco/miniconda3/envs/hdna/lib/python3.10/site-packages/networkx/classes/reportviews.py:760(__init__)\n",
      "      286    0.000    0.000    0.001    0.000 /home/marco/miniconda3/envs/hdna/lib/python3.10/site-packages/networkx/classes/reportviews.py:1065(__init__)\n",
      "     4116    0.000    0.000    0.000    0.000 /home/marco/Desktop/hDNA/notebooks/../hdna/kinetwork.py:263(<lambda>)\n",
      "     4116    0.000    0.000    0.000    0.000 /home/marco/Desktop/hDNA/notebooks/../hdna/kinetwork.py:262(<lambda>)\n",
      "      292    0.000    0.000    0.000    0.000 /home/marco/miniconda3/envs/hdna/lib/python3.10/site-packages/networkx/classes/graph.py:732(nodes)\n",
      "      288    0.000    0.000    0.000    0.000 /home/marco/miniconda3/envs/hdna/lib/python3.10/site-packages/networkx/classes/reportviews.py:329(__iter__)\n",
      "      286    0.000    0.000    0.000    0.000 /home/marco/miniconda3/envs/hdna/lib/python3.10/site-packages/networkx/classes/reportviews.py:787(__iter__)\n",
      "      286    0.000    0.000    0.000    0.000 /home/marco/miniconda3/envs/hdna/lib/python3.10/site-packages/networkx/classes/reportviews.py:210(data)\n",
      "      286    0.000    0.000    0.002    0.000 /home/marco/miniconda3/envs/hdna/lib/python3.10/site-packages/networkx/classes/digraph.py:931(edges)\n",
      "      286    0.000    0.000    0.000    0.000 /home/marco/miniconda3/envs/hdna/lib/python3.10/site-packages/networkx/classes/digraph.py:383(succ)\n",
      "     2720    0.000    0.000    0.000    0.000 /home/marco/Desktop/hDNA/notebooks/../hdna/kinetwork.py:287(<lambda>)\n",
      "      299    0.000    0.000    0.000    0.000 /home/marco/miniconda3/envs/hdna/lib/python3.10/site-packages/networkx/classes/graph.py:59(__set__)\n",
      "      286    0.000    0.000    0.001    0.000 {built-in method builtins.hasattr}\n",
      "      299    0.000    0.000    0.000    0.000 /home/marco/miniconda3/envs/hdna/lib/python3.10/site-packages/networkx/classes/digraph.py:37(__set__)\n",
      "      288    0.000    0.000    0.000    0.000 /home/marco/miniconda3/envs/hdna/lib/python3.10/site-packages/networkx/classes/reportviews.py:311(__init__)\n",
      "      292    0.000    0.000    0.000    0.000 /home/marco/miniconda3/envs/hdna/lib/python3.10/site-packages/networkx/classes/reportviews.py:178(__init__)\n",
      "     1372    0.000    0.000    0.000    0.000 /home/marco/Desktop/hDNA/notebooks/../hdna/kinetwork.py:265(<lambda>)\n",
      "      864    0.000    0.000    0.000    0.000 {method '__exit__' of '_thread.RLock' objects}\n",
      "        4    0.000    0.000    0.000    0.000 {built-in method builtins.compile}\n",
      "     1372    0.000    0.000    0.000    0.000 /home/marco/Desktop/hDNA/notebooks/../hdna/kinetwork.py:264(<lambda>)\n",
      "      299    0.000    0.000    0.000    0.000 /home/marco/miniconda3/envs/hdna/lib/python3.10/site-packages/networkx/classes/digraph.py:63(__set__)\n",
      "      286    0.000    0.000    0.000    0.000 /home/marco/miniconda3/envs/hdna/lib/python3.10/site-packages/networkx/classes/coreviews.py:43(__init__)\n",
      "      286    0.000    0.000    0.008    0.000 /home/marco/miniconda3/envs/hdna/lib/python3.10/site-packages/networkx/classes/coreviews.py:272(<genexpr>)\n",
      "       30    0.000    0.000    0.006    0.000 /home/marco/miniconda3/envs/hdna/lib/python3.10/_collections_abc.py:909(__iter__)\n",
      "        4    0.000    0.000    0.008    0.002 {built-in method builtins.sum}\n",
      "        6    0.000    0.000    0.000    0.000 /home/marco/miniconda3/envs/hdna/lib/python3.10/site-packages/networkx/classes/graphviews.py:74(subgraph_view)\n",
      "     12/8    0.000    0.000    0.000    0.000 /home/marco/miniconda3/envs/hdna/lib/python3.10/site-packages/networkx/classes/coreviews.py:274(__iter__)\n",
      "      274    0.000    0.000    0.000    0.000 /home/marco/Desktop/hDNA/notebooks/../hdna/kinetwork.py:128(<lambda>)\n",
      "        4    0.000    0.000   14.901    3.725 {built-in method builtins.exec}\n",
      "        1    0.000    0.000    0.013    0.013 /home/marco/miniconda3/envs/hdna/lib/python3.10/site-packages/networkx/algorithms/operators/all.py:133(compose_all)\n",
      "        4    0.000    0.000   14.901    3.725 /home/marco/miniconda3/envs/hdna/lib/python3.10/site-packages/IPython/core/interactiveshell.py:3406(run_code)\n",
      "      378    0.000    0.000    0.000    0.000 {built-in method builtins.abs}\n",
      "        4    0.000    0.000    0.000    0.000 /home/marco/miniconda3/envs/hdna/lib/python3.10/codeop.py:117(__call__)\n",
      "        6    0.000    0.000    0.000    0.000 /home/marco/miniconda3/envs/hdna/lib/python3.10/site-packages/networkx/classes/function.py:159(freeze)\n",
      "        4    0.000    0.000    0.000    0.000 /home/marco/miniconda3/envs/hdna/lib/python3.10/contextlib.py:102(__init__)\n",
      "        8    0.000    0.000    0.000    0.000 /home/marco/miniconda3/envs/hdna/lib/python3.10/site-packages/IPython/core/compilerop.py:180(extra_flags)\n",
      "       28    0.000    0.000    0.000    0.000 /home/marco/miniconda3/envs/hdna/lib/python3.10/_collections_abc.py:828(__contains__)\n",
      "        6    0.000    0.000    0.000    0.000 /home/marco/Desktop/hDNA/notebooks/../hdna/kinetwork.py:296(filternodes)\n",
      "        4    0.000    0.000    0.008    0.002 /home/marco/miniconda3/envs/hdna/lib/python3.10/site-packages/networkx/classes/coreviews.py:271(__len__)\n",
      "        1    0.000    0.000    3.382    3.382 /tmp/ipykernel_53101/439621331.py:1(<module>)\n",
      "        4    0.000    0.000    0.000    0.000 /home/marco/miniconda3/envs/hdna/lib/python3.10/contextlib.py:279(helper)\n",
      "        4    0.000    0.000    0.000    0.000 /home/marco/miniconda3/envs/hdna/lib/python3.10/contextlib.py:139(__exit__)\n",
      "        4    0.000    0.000    0.000    0.000 /home/marco/.local/lib/python3.10/site-packages/traitlets/traitlets.py:692(__get__)\n",
      "       12    0.000    0.000    0.000    0.000 /home/marco/miniconda3/envs/hdna/lib/python3.10/site-packages/networkx/classes/coreviews.py:296(__init__)\n",
      "        4    0.000    0.000    0.000    0.000 /home/marco/miniconda3/envs/hdna/lib/python3.10/contextlib.py:130(__enter__)\n",
      "        4    0.000    0.000    0.000    0.000 /home/marco/.local/lib/python3.10/site-packages/traitlets/traitlets.py:654(get)\n",
      "        8    0.000    0.000    0.000    0.000 {built-in method builtins.getattr}\n",
      "        4    0.000    0.000    0.000    0.000 /home/marco/miniconda3/envs/hdna/lib/python3.10/site-packages/IPython/core/interactiveshell.py:3358(compare)\n",
      "        1    0.000    0.000    0.000    0.000 /home/marco/Desktop/hDNA/notebooks/../hdna/chamber.py:79(split_slidings)\n",
      "        6    0.000    0.000    0.000    0.000 /home/marco/miniconda3/envs/hdna/lib/python3.10/site-packages/networkx/classes/reportviews.py:205(__call__)\n",
      "        4    0.000    0.000    0.000    0.000 /home/marco/miniconda3/envs/hdna/lib/python3.10/site-packages/IPython/core/interactiveshell.py:1227(user_global_ns)\n",
      "        6    0.000    0.000    0.000    0.000 /home/marco/miniconda3/envs/hdna/lib/python3.10/site-packages/networkx/classes/coreviews.py:267(__init__)\n",
      "        2    0.000    0.000    0.000    0.000 /home/marco/miniconda3/envs/hdna/lib/python3.10/site-packages/networkx/classes/reportviews.py:1097(__call__)\n",
      "        2    0.000    0.000    0.000    0.000 /home/marco/miniconda3/envs/hdna/lib/python3.10/_collections_abc.py:840(items)\n",
      "        4    0.000    0.000    0.000    0.000 /home/marco/miniconda3/envs/hdna/lib/python3.10/site-packages/networkx/classes/reportviews.py:185(__iter__)\n",
      "        1    0.000    0.000    0.013    0.013 /home/marco/miniconda3/envs/hdna/lib/python3.10/site-packages/networkx/algorithms/operators/binary.py:285(compose)\n",
      "       10    0.000    0.000    0.000    0.000 /home/marco/miniconda3/envs/hdna/lib/python3.10/site-packages/networkx/classes/digraph.py:1217(is_multigraph)\n",
      "        2    0.000    0.000    0.006    0.003 /home/marco/miniconda3/envs/hdna/lib/python3.10/site-packages/networkx/classes/reportviews.py:326(__len__)\n",
      "        2    0.000    0.000    0.002    0.001 /home/marco/miniconda3/envs/hdna/lib/python3.10/site-packages/networkx/classes/reportviews.py:182(__len__)\n",
      "        2    0.000    0.000    0.000    0.000 /home/marco/miniconda3/envs/hdna/lib/python3.10/_collections_abc.py:862(__init__)\n",
      "        6    0.000    0.000    0.000    0.000 /home/marco/miniconda3/envs/hdna/lib/python3.10/site-packages/networkx/classes/digraph.py:1221(is_directed)\n",
      "        1    0.000    0.000    0.000    0.000 {method 'disable' of '_lsprof.Profiler' objects}\n",
      "\n",
      "\n"
     ]
    },
    {
     "data": {
      "text/plain": [
       "<pstats.Stats at 0x7fad4e2abee0>"
      ]
     },
     "execution_count": 18,
     "metadata": {},
     "output_type": "execute_result"
    }
   ],
   "source": [
    "stats = pstats.Stats(profiler).sort_stats('tottime')\n",
    "stats.print_stats()"
   ]
  }
 ],
 "metadata": {
  "kernelspec": {
   "display_name": "hdna",
   "language": "python",
   "name": "python3"
  },
  "language_info": {
   "codemirror_mode": {
    "name": "ipython",
    "version": 3
   },
   "file_extension": ".py",
   "mimetype": "text/x-python",
   "name": "python",
   "nbconvert_exporter": "python",
   "pygments_lexer": "ipython3",
   "version": "3.10.9 (main, Jan 11 2023, 15:21:40) [GCC 11.2.0]"
  },
  "orig_nbformat": 4,
  "vscode": {
   "interpreter": {
    "hash": "13f02c433cbffcd00bbcbbfeff349f4b7c28e9023d8fb9f65ab93bb104997abd"
   }
  }
 },
 "nbformat": 4,
 "nbformat_minor": 2
}
