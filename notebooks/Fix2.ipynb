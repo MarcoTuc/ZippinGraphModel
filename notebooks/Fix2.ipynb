{
 "cells": [
  {
   "cell_type": "code",
   "execution_count": 2,
   "metadata": {},
   "outputs": [],
   "source": [
    "import sys\n",
    "sys.path.append('..')\n",
    "\n",
    "%load_ext autoreload\n",
    "%autoreload 2"
   ]
  },
  {
   "cell_type": "code",
   "execution_count": 3,
   "metadata": {},
   "outputs": [],
   "source": [
    "import pandas as pd \n",
    "import networkx as nx \n",
    "import nupack as nu\n",
    "from random import choice as choicerandom\n",
    "from numpy.random import choice as choicenumpy\n",
    "from hdna import * "
   ]
  },
  {
   "cell_type": "code",
   "execution_count": 222,
   "metadata": {},
   "outputs": [],
   "source": [
    "M = Model('dna', '3D', min_nucleation=3, sliding_cutoff=3, stacking='nostacking')\n",
    "# A = Strand(M, 'CAACAACACCACCA')\n",
    "A = Strand(M, 'AAAAAA')\n",
    "B = A.complementary()"
   ]
  },
  {
   "cell_type": "code",
   "execution_count": 57,
   "metadata": {},
   "outputs": [],
   "source": [
    "g = pd.DataFrame(N.nodata('state','object'), columns=['structure','state'])"
   ]
  },
  {
   "cell_type": "code",
   "execution_count": 233,
   "metadata": {},
   "outputs": [],
   "source": [
    "N = Kinetwork(M, A, B, clean=True)"
   ]
  },
  {
   "cell_type": "code",
   "execution_count": 208,
   "metadata": {},
   "outputs": [
    {
     "name": "stdout",
     "output_type": "stream",
     "text": [
      "(((..............+....)))..........\n",
      ".(((.............+...)))...........\n",
      "..(((............+..)))............\n",
      "...(((...........+.))).............\n",
      "....(((..........+)))..............\n"
     ]
    }
   ],
   "source": [
    "for n in N.nodata()[20][1]['obj'].backfray:\n",
    "    print(n.structure)"
   ]
  },
  {
   "cell_type": "code",
   "execution_count": 256,
   "metadata": {},
   "outputs": [
    {
     "name": "stdout",
     "output_type": "stream",
     "text": [
      "(((...+)))...\n",
      "\n",
      "\n",
      "((((..+))))..\n",
      "(((...+.))).. .(((..+)))...\n",
      "\n",
      "\n",
      "(((((.+))))).\n",
      "(((...+..))). .(((..+.)))..\n",
      ".(((..+.))).. ..(((.+)))...\n",
      "\n",
      "\n",
      ".(((((+.)))))\n",
      ".(((..+...))) ..(((.+..))).\n",
      "..(((.+..))). ...(((+.)))..\n",
      "\n",
      "\n",
      "..((((+..))))\n",
      "..(((.+...))) ...(((+..))).\n",
      "\n",
      "\n"
     ]
    }
   ],
   "source": [
    "from itertools import pairwise\n",
    "\n",
    "nonnative = N.add_reactions()\n",
    "# A = Q[Q['state'] == 'on_nucleation']\n",
    "# N.nodes[A.iloc[0]['structure']]['obj'].zipping\n",
    "for n, next in pairwise(nonnative['structure']):\n",
    "    print(n)\n",
    "    cplx = N.nodes[n]['obj']\n",
    "    for bf1, bf2 in pairwise(cplx.backfray):\n",
    "        print(bf1.structure, bf2.structure)\n",
    "    print('\\n')"
   ]
  },
  {
   "cell_type": "code",
   "execution_count": 237,
   "metadata": {},
   "outputs": [
    {
     "name": "stdout",
     "output_type": "stream",
     "text": [
      "......+...... singlestranded\n",
      "(((...+)))... off_nucleation\n",
      "(((...+)))... sliding\n",
      "(((...+.))).. off_nucleation\n",
      "((((..+)))).. sliding\n",
      ".(((..+)))... off_nucleation\n",
      "((((..+)))).. sliding\n",
      "(((...+..))). off_nucleation\n",
      "((((..+.)))). backfray\n",
      "(((((.+))))). sliding\n",
      ".(((..+.))).. off_nucleation\n",
      "(((((.+))))). sliding\n",
      "..(((.+)))... off_nucleation\n",
      ".((((.+)))).. backfray\n",
      "(((((.+))))). sliding\n",
      ".(((..+...))) off_nucleation\n",
      ".((((.+..)))) backfray\n",
      ".(((((+.))))) sliding\n",
      "..(((.+..))). off_nucleation\n",
      ".(((((+.))))) sliding\n",
      "...(((+.))).. off_nucleation\n",
      "..((((+.)))). backfray\n",
      ".(((((+.))))) sliding\n",
      "..(((.+...))) off_nucleation\n",
      "..((((+..)))) sliding\n",
      "...(((+..))). off_nucleation\n",
      "..((((+..)))) sliding\n",
      "...(((+...))) off_nucleation\n",
      "...(((+...))) sliding\n",
      "(((...+...))) off_nucleation\n",
      "((((..+..)))) zipping\n",
      "(((((.+.))))) zipping\n",
      ".(((..+..))). zipping\n",
      "(((((.+.))))) zipping\n",
      "..(((.+.))).. zipping\n",
      ".(((((+))))). zipping\n",
      "...(((+)))... zipping\n",
      "..((((+)))).. zipping\n",
      ".(((((+))))). zipping\n",
      "((((((+)))))) duplex\n"
     ]
    }
   ],
   "source": [
    "print(N.chamber.singlestranded.structure, N.chamber.singlestranded.state)\n",
    "for c in N.chamber.slidings:\n",
    "    # print(c.structure, c.state)\n",
    "    for z in c.backfray:\n",
    "        print(z.structure, z.state)\n",
    "        for zz in z.zipping:\n",
    "            print(zz.structure, zz.state)\n",
    "        print(c.structure, c.state)\n",
    "\n",
    "for c in N.chamber.oncores:\n",
    "    print(c.structure, z.state)\n",
    "    for z in c.zipping:\n",
    "        print(z.structure, z.state)\n",
    "\n",
    "print(N.chamber.duplex.structure, N.chamber.duplex.state)"
   ]
  }
 ],
 "metadata": {
  "kernelspec": {
   "display_name": "hdna",
   "language": "python",
   "name": "python3"
  },
  "language_info": {
   "codemirror_mode": {
    "name": "ipython",
    "version": 3
   },
   "file_extension": ".py",
   "mimetype": "text/x-python",
   "name": "python",
   "nbconvert_exporter": "python",
   "pygments_lexer": "ipython3",
   "version": "3.10.9"
  },
  "orig_nbformat": 4,
  "vscode": {
   "interpreter": {
    "hash": "13f02c433cbffcd00bbcbbfeff349f4b7c28e9023d8fb9f65ab93bb104997abd"
   }
  }
 },
 "nbformat": 4,
 "nbformat_minor": 2
}
