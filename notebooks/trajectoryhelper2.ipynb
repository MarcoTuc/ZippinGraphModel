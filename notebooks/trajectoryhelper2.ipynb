{
 "cells": [
  {
   "cell_type": "code",
   "execution_count": 1,
   "metadata": {},
   "outputs": [],
   "source": [
    "import sys \n",
    "sys.path.append(\"..\")"
   ]
  },
  {
   "cell_type": "code",
   "execution_count": 2,
   "metadata": {},
   "outputs": [],
   "source": [
    "import numpy as np \n",
    "import pandas as pd\n",
    "from hdna import *\n",
    "from juliacall import Main as jl "
   ]
  },
  {
   "cell_type": "code",
   "execution_count": 3,
   "metadata": {},
   "outputs": [],
   "source": [
    "# Import experimental data from Hertel \n",
    "expdata = pd.read_csv('../data/herteldata.csv', names=['seq', 'expvalue'])\n",
    "# Clean the dataframe \n",
    "expdata = expdata.drop(0)\n",
    "expdata['expvalue'] = ['{:e}'.format(float(e)) for e in expdata['expvalue']]\n"
   ]
  },
  {
   "cell_type": "code",
   "execution_count": 4,
   "metadata": {},
   "outputs": [],
   "source": [
    "rates = []\n",
    "model = Model('dna', '3D')"
   ]
  },
  {
   "cell_type": "code",
   "execution_count": 5,
   "metadata": {},
   "outputs": [
    {
     "name": "stdout",
     "output_type": "stream",
     "text": [
      "Creating network from string GTTCGGTCTA...\n",
      "embedding strand into biosimulator network model...\n",
      "start running simulations...\n"
     ]
    },
    {
     "name": "stderr",
     "output_type": "stream",
     "text": [
      "100%|██████████| 20/20 [00:00<00:00, 21.54it/s]\n"
     ]
    },
    {
     "name": "stdout",
     "output_type": "stream",
     "text": [
      "2 simulations didn't produce a duplex.\n",
      "That's 10.0% of simulations\n",
      "experimental rate: 1.145950e+06\n",
      "computed rate:     8.735512e+05 \n",
      "\n"
     ]
    }
   ],
   "source": [
    "for i, (seq, exp) in enumerate(zip(expdata['seq'], expdata['expvalue'])):\n",
    "    seq = str(seq.strip())      # make sure they are alright\n",
    "    exp = float(exp.strip())    #\n",
    "    print(f'Creating network from string {seq}...')\n",
    "    A = Strand(model, seq)\n",
    "    B = A.complementary()\n",
    "    kinet = Kinetwork(model, A, B, 1)\n",
    "    geo = Geometry(120, 360)\n",
    "    K = Kinetics(model, kinet, geo)\n",
    "    opts = Options(method='direct', runtime=3e-6, Nmonte=20)\n",
    "    print('embedding strand into biosimulator network model...')\n",
    "    simulatore = Simulator(model, kinet, K, options=opts)\n",
    "    print('start running simulations...')\n",
    "    results = simulatore.ensemble()\n",
    "    mfpt = simulatore.mfpts(results)\n",
    "    rates.append(1/mfpt)\n",
    "    print(f\"experimental rate: {'{:e}'.format(exp)}\")\n",
    "    print(f\"computed rate:     {'{:e}'.format(1/mfpt)}\", '\\n')\n",
    "    if i == 0: break"
   ]
  },
  {
   "cell_type": "code",
   "execution_count": null,
   "metadata": {},
   "outputs": [],
   "source": []
  }
 ],
 "metadata": {
  "kernelspec": {
   "display_name": "hdna",
   "language": "python",
   "name": "python3"
  },
  "language_info": {
   "codemirror_mode": {
    "name": "ipython",
    "version": 3
   },
   "file_extension": ".py",
   "mimetype": "text/x-python",
   "name": "python",
   "nbconvert_exporter": "python",
   "pygments_lexer": "ipython3",
   "version": "3.10.9"
  },
  "orig_nbformat": 4,
  "vscode": {
   "interpreter": {
    "hash": "13f02c433cbffcd00bbcbbfeff349f4b7c28e9023d8fb9f65ab93bb104997abd"
   }
  }
 },
 "nbformat": 4,
 "nbformat_minor": 2
}
