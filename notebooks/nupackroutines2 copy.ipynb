{
 "cells": [
  {
   "cell_type": "code",
   "execution_count": 1,
   "metadata": {},
   "outputs": [],
   "source": [
    "%load_ext autoreload\n",
    "%autoreload 2"
   ]
  },
  {
   "cell_type": "code",
   "execution_count": 2,
   "metadata": {},
   "outputs": [],
   "source": [
    "import sys\n",
    "sys.path.append('..')\n",
    "sys.path.append('../oldsequentialcode/kinetics')"
   ]
  },
  {
   "cell_type": "code",
   "execution_count": 3,
   "metadata": {},
   "outputs": [],
   "source": [
    "from hdna import * \n",
    "import nupack as nu"
   ]
  },
  {
   "cell_type": "code",
   "execution_count": 4,
   "metadata": {},
   "outputs": [],
   "source": [
    "model = Model('dna', '3D', stacking='nostacking')\n",
    "A = Strand(model, \"AAAAAAA\")\n",
    "B = A.complementary()\n",
    "C = Chamber(model, A, B)"
   ]
  },
  {
   "cell_type": "code",
   "execution_count": 5,
   "metadata": {},
   "outputs": [
    {
     "name": "stdout",
     "output_type": "stream",
     "text": [
      "...(...+......)\n"
     ]
    },
    {
     "data": {
      "text/plain": [
       "[StructureEnergy(Structure('(((((((+)))))))'), energy=-7.704002857208252, stack_energy=-7.704002857208252)]"
      ]
     },
     "execution_count": 5,
     "metadata": {},
     "output_type": "execute_result"
    }
   ],
   "source": [
    "fed = C.duplexenergy()\n",
    "cplx = C.slidings[8].backfray[0]\n",
    "struct = cplx.structure\n",
    "print(struct)\n",
    "fes = -cplx.G\n",
    "nu.subopt([cplx.nuStrand1,cplx.nuStrand2], energy_gap=fes, model=cplx.nupackmodel)"
   ]
  },
  {
   "cell_type": "code",
   "execution_count": 6,
   "metadata": {},
   "outputs": [
    {
     "name": "stdout",
     "output_type": "stream",
     "text": [
      "(......+......)\n",
      ".(.....+.....).\n",
      "..(....+....)..\n",
      "...(...+...)...\n",
      "....(..+..)....\n",
      ".....(.+.).....\n",
      "......(+)......\n"
     ]
    }
   ],
   "source": [
    "for on in C.oncores:\n",
    "    print(on.structure)"
   ]
  },
  {
   "cell_type": "code",
   "execution_count": 7,
   "metadata": {},
   "outputs": [],
   "source": [
    "cplx = C.oncores[3]"
   ]
  },
  {
   "cell_type": "code",
   "execution_count": null,
   "metadata": {},
   "outputs": [
    {
     "ename": "AttributeError",
     "evalue": "'Chamber' object has no attribute 'mfe'",
     "output_type": "error",
     "traceback": [
      "\u001b[0;31m---------------------------------------------------------------------------\u001b[0m",
      "\u001b[0;31mAttributeError\u001b[0m                            Traceback (most recent call last)",
      "Cell \u001b[0;32mIn[6], line 1\u001b[0m\n\u001b[0;32m----> 1\u001b[0m gap \u001b[39m=\u001b[39m \u001b[39m-\u001b[39mC\u001b[39m.\u001b[39;49mmfe[\u001b[39m0\u001b[39m]\u001b[39m.\u001b[39menergy\u001b[39m+\u001b[39m\u001b[39m1\u001b[39m\n\u001b[1;32m      2\u001b[0m nu\u001b[39m.\u001b[39msubopt([C\u001b[39m.\u001b[39mnuStrand1,C\u001b[39m.\u001b[39mnuStrand2], energy_gap\u001b[39m=\u001b[39mgap, model\u001b[39m=\u001b[39mC\u001b[39m.\u001b[39mnupackmodel)\n",
      "\u001b[0;31mAttributeError\u001b[0m: 'Chamber' object has no attribute 'mfe'"
     ]
    }
   ],
   "source": [
    "gap = -C.mfe[0].energy+1\n",
    "nu.subopt([C.nuStrand1,C.nuStrand2], energy_gap=gap, model=C.nupackmodel)"
   ]
  },
  {
   "cell_type": "code",
   "execution_count": null,
   "metadata": {},
   "outputs": [
    {
     "data": {
      "text/plain": [
       "[Structure('(((((((((+)))))))))'),\n",
       " Structure('(((((((((+)))))))))'),\n",
       " Structure('((((((((.+.))))))))'),\n",
       " Structure('(((((((((+)))))))))'),\n",
       " Structure('(((((((((+)))))))))'),\n",
       " Structure('(((((((((+)))))))))'),\n",
       " Structure('(((((((((+)))))))))'),\n",
       " Structure('(((((((((+)))))))))'),\n",
       " Structure('(((((((((+)))))))))'),\n",
       " Structure('(((((((((+)))))))))'),\n",
       " Structure('(((((((((+)))))))))'),\n",
       " Structure('(((((((((+)))))))))'),\n",
       " Structure('((((((((.+.))))))))'),\n",
       " Structure('.(((((((.+.))))))).'),\n",
       " Structure('((((((((.+.))))))))'),\n",
       " Structure('(((((((((+)))))))))'),\n",
       " Structure('(((((((((+)))))))))'),\n",
       " Structure('(((((((((+)))))))))'),\n",
       " Structure('(((((((((+)))))))))'),\n",
       " Structure('((((((((.+.))))))))'),\n",
       " Structure('(((((((((+)))))))))'),\n",
       " Structure('(((((((((+)))))))))'),\n",
       " Structure('(((((((((+)))))))))'),\n",
       " Structure('(((((((((+)))))))))'),\n",
       " Structure('(((((((((+)))))))))'),\n",
       " Structure('(((((((((+)))))))))'),\n",
       " Structure('(((((((((+)))))))))'),\n",
       " Structure('(((((((((+)))))))))'),\n",
       " Structure('(((((((((+)))))))))'),\n",
       " Structure('(((((((((+)))))))))'),\n",
       " Structure('(((((((((+)))))))))'),\n",
       " Structure('(((((((((+)))))))))'),\n",
       " Structure('(((((((((+)))))))))'),\n",
       " Structure('(((((((((+)))))))))'),\n",
       " Structure('(((((((((+)))))))))'),\n",
       " Structure('(((((((((+)))))))))'),\n",
       " Structure('(((((((((+)))))))))'),\n",
       " Structure('(((((((((+)))))))))'),\n",
       " Structure('(((((((((+)))))))))'),\n",
       " Structure('(((((((((+)))))))))'),\n",
       " Structure('((((((((.+.))))))))'),\n",
       " Structure('(((((((((+)))))))))'),\n",
       " Structure('(((((((((+)))))))))'),\n",
       " Structure('(((((((((+)))))))))'),\n",
       " Structure('(((((((((+)))))))))'),\n",
       " Structure('..(((((((+)))))))..'),\n",
       " Structure('(((((((((+)))))))))'),\n",
       " Structure('(((((((((+)))))))))'),\n",
       " Structure('(((((((((+)))))))))'),\n",
       " Structure('(((((((((+)))))))))'),\n",
       " Structure('(((((((((+)))))))))'),\n",
       " Structure('(((((((((+)))))))))'),\n",
       " Structure('(((((((((+)))))))))'),\n",
       " Structure('(((((((((+)))))))))'),\n",
       " Structure('(((((((((+)))))))))'),\n",
       " Structure('(((((((((+)))))))))'),\n",
       " Structure('(((((((((+)))))))))'),\n",
       " Structure('(((((((((+)))))))))'),\n",
       " Structure('(((((((((+)))))))))'),\n",
       " Structure('((((((.((+)).))))))'),\n",
       " Structure('(((((((((+)))))))))'),\n",
       " Structure('(((((((((+)))))))))'),\n",
       " Structure('(((((((((+)))))))))'),\n",
       " Structure('(((((((((+)))))))))'),\n",
       " Structure('(((((((((+)))))))))'),\n",
       " Structure('(((((((((+)))))))))'),\n",
       " Structure('(((((((((+)))))))))'),\n",
       " Structure('(((((((((+)))))))))'),\n",
       " Structure('.((((((((+)))))))).'),\n",
       " Structure('.((((((((+)))))))).'),\n",
       " Structure('(((((((((+)))))))))'),\n",
       " Structure('(((((((((+)))))))))'),\n",
       " Structure('(((((((((+)))))))))'),\n",
       " Structure('(((((((((+)))))))))'),\n",
       " Structure('(((((((((+)))))))))'),\n",
       " Structure('(((((((((+)))))))))'),\n",
       " Structure('(((((((((+)))))))))'),\n",
       " Structure('(((((((((+)))))))))'),\n",
       " Structure('(((((((((+)))))))))'),\n",
       " Structure('((((((.(.+.).))))))'),\n",
       " Structure('(((((((((+)))))))))'),\n",
       " Structure('(((((((((+)))))))))'),\n",
       " Structure('(((((((((+)))))))))'),\n",
       " Structure('(((((((((+)))))))))'),\n",
       " Structure('(((((((((+)))))))))'),\n",
       " Structure('(((((((((+)))))))))'),\n",
       " Structure('(((((((((+)))))))))'),\n",
       " Structure('(((((((((+)))))))))'),\n",
       " Structure('.((((((((+)))))))).'),\n",
       " Structure('(((((((((+)))))))))'),\n",
       " Structure('(((((((((+)))))))))'),\n",
       " Structure('(((((((((+)))))))))'),\n",
       " Structure('(((((((((+)))))))))'),\n",
       " Structure('(((((((((+)))))))))'),\n",
       " Structure('(((((((((+)))))))))'),\n",
       " Structure('(((((((((+)))))))))'),\n",
       " Structure('(((((((((+)))))))))'),\n",
       " Structure('(((((((((+)))))))))'),\n",
       " Structure('(((((((((+)))))))))'),\n",
       " Structure('(((((((((+)))))))))')]"
      ]
     },
     "execution_count": 10,
     "metadata": {},
     "output_type": "execute_result"
    }
   ],
   "source": [
    "sampled = nu.sample([C.nuStrand1,C.nuStrand2], num_sample=100, model=C.nupackmodel)\n",
    "sampled"
   ]
  },
  {
   "cell_type": "code",
   "execution_count": null,
   "metadata": {},
   "outputs": [],
   "source": [
    "import plotly.express as px "
   ]
  },
  {
   "cell_type": "code",
   "execution_count": null,
   "metadata": {},
   "outputs": [
    {
     "data": {
      "application/vnd.plotly.v1+json": {
       "config": {
        "plotlyServerURL": "https://plot.ly"
       },
       "data": [
        {
         "coloraxis": "coloraxis",
         "hovertemplate": "x: %{x}<br>y: %{y}<br>color: %{z}<extra></extra>",
         "name": "0",
         "type": "heatmap",
         "xaxis": "x",
         "yaxis": "y",
         "z": [
          [
           0.05093575831646702,
           0,
           0,
           0,
           0,
           0,
           0,
           2.364597868175898e-12,
           0,
           0,
           0,
           0,
           1.6453624316558095e-9,
           1.5970348516650163e-9,
           0,
           0,
           0,
           0.9490642384387711
          ],
          [
           0,
           0.007431477496978256,
           0,
           0,
           0,
           0,
           0,
           0,
           0,
           6.446503799007102e-11,
           0,
           1.5180228480018166e-9,
           0,
           0,
           0,
           0.000009268861660179582,
           0.9925592520588736,
           0
          ],
          [
           0,
           0,
           0.0023723708880006855,
           0,
           0,
           0,
           0,
           0,
           0,
           8.693466616951011e-11,
           0,
           1.321814970398894e-9,
           0,
           0,
           0,
           0.997617741456449,
           0.000009886246800654906,
           0
          ],
          [
           0,
           0,
           0,
           0.0002621642596984941,
           0,
           0,
           0,
           0,
           0,
           0,
           1.457568148499383e-9,
           0,
           0,
           0,
           0.9997378342827333,
           0,
           0,
           0
          ],
          [
           0,
           0,
           0,
           0,
           0.00010958689928308729,
           0,
           0,
           0,
           0,
           0,
           0,
           0,
           1.3134855637669606e-7,
           0.9998902776418213,
           0,
           0,
           0,
           4.110339315089038e-9
          ],
          [
           0,
           0,
           0,
           0,
           0,
           0.00040037347919574806,
           0,
           0,
           0,
           0,
           0,
           0,
           0.999599502352837,
           1.2252006075792505e-7,
           0,
           0,
           0,
           1.6479065357347307e-9
          ],
          [
           0,
           0,
           0,
           0,
           0,
           0,
           0.0012844038408198477,
           0,
           0,
           0.000002479926760004687,
           0,
           0.9987131108848581,
           0,
           0,
           0,
           3.829539130952722e-9,
           1.5180228480018166e-9,
           0
          ],
          [
           2.364597868175898e-12,
           0,
           0,
           0,
           0,
           0,
           0,
           0.0067532209062269866,
           0,
           0,
           0.9932467752710084,
           0,
           0,
           0,
           3.820400139808765e-9,
           0,
           0,
           0
          ],
          [
           0,
           0,
           0,
           0,
           0,
           0,
           0,
           0,
           0.09377594290785185,
           0.9062215782157029,
           0,
           0.0000024787226941744274,
           0,
           0,
           0,
           8.938567525284036e-11,
           6.436531246000981e-11,
           0
          ],
          [
           0,
           6.446503799007102e-11,
           8.693466616951011e-11,
           0,
           0,
           0,
           0.000002479926760004687,
           0,
           0.9062215782157029,
           0.09377594170613746,
           0,
           0,
           0,
           0,
           0,
           0,
           0,
           0
          ],
          [
           0,
           0,
           0,
           1.457568148499383e-9,
           0,
           0,
           0,
           0.9932467752710084,
           0,
           0,
           0.0067532232686600135,
           0,
           0,
           0,
           0,
           0,
           0,
           2.763499988420393e-12
          ],
          [
           0,
           1.5180228480018166e-9,
           1.321814970398894e-9,
           0,
           0,
           0,
           0.9987131108848581,
           0,
           0.0000024787226941744274,
           0,
           0,
           0.0012844075526098342,
           0,
           0,
           0,
           0,
           0,
           0
          ],
          [
           1.6453624316558095e-9,
           0,
           0,
           0,
           1.3134855637669606e-7,
           0.999599502352837,
           0,
           0,
           0,
           0,
           0,
           0,
           0.0004003646532442229,
           0,
           0,
           0,
           0,
           0
          ],
          [
           1.5970348516650163e-9,
           0,
           0,
           0,
           0.9998902776418213,
           1.2252006075792505e-7,
           0,
           0,
           0,
           0,
           0,
           0,
           0,
           0.00010959824108314198,
           0,
           0,
           0,
           0
          ],
          [
           0,
           0,
           0,
           0.9997378342827333,
           0,
           0,
           0,
           3.820400139808765e-9,
           0,
           0,
           0,
           0,
           0,
           0,
           0.000262161896866564,
           0,
           0,
           0
          ],
          [
           0,
           0.000009268861660179582,
           0.997617741456449,
           0,
           0,
           0,
           3.829539130952722e-9,
           0,
           8.938567525284036e-11,
           0,
           0,
           0,
           0,
           0,
           0,
           0.0023729857629659623,
           0,
           0
          ],
          [
           0,
           0.9925592520588736,
           0.000009886246800654906,
           0,
           0,
           0,
           1.5180228480018166e-9,
           0,
           6.436531246000981e-11,
           0,
           0,
           0,
           0,
           0,
           0,
           0,
           0.007430860111937498,
           0
          ],
          [
           0.9490642384387711,
           0,
           0,
           0,
           4.110339315089038e-9,
           1.6479065357347307e-9,
           0,
           0,
           0,
           0,
           2.763499988420393e-12,
           0,
           0,
           0,
           0,
           0,
           0,
           0.050935755800219584
          ]
         ]
        }
       ],
       "layout": {
        "coloraxis": {
         "colorscale": [
          [
           0,
           "#0d0887"
          ],
          [
           0.1111111111111111,
           "#46039f"
          ],
          [
           0.2222222222222222,
           "#7201a8"
          ],
          [
           0.3333333333333333,
           "#9c179e"
          ],
          [
           0.4444444444444444,
           "#bd3786"
          ],
          [
           0.5555555555555556,
           "#d8576b"
          ],
          [
           0.6666666666666666,
           "#ed7953"
          ],
          [
           0.7777777777777778,
           "#fb9f3a"
          ],
          [
           0.8888888888888888,
           "#fdca26"
          ],
          [
           1,
           "#f0f921"
          ]
         ]
        },
        "margin": {
         "t": 60
        },
        "template": {
         "data": {
          "bar": [
           {
            "error_x": {
             "color": "#2a3f5f"
            },
            "error_y": {
             "color": "#2a3f5f"
            },
            "marker": {
             "line": {
              "color": "#E5ECF6",
              "width": 0.5
             },
             "pattern": {
              "fillmode": "overlay",
              "size": 10,
              "solidity": 0.2
             }
            },
            "type": "bar"
           }
          ],
          "barpolar": [
           {
            "marker": {
             "line": {
              "color": "#E5ECF6",
              "width": 0.5
             },
             "pattern": {
              "fillmode": "overlay",
              "size": 10,
              "solidity": 0.2
             }
            },
            "type": "barpolar"
           }
          ],
          "carpet": [
           {
            "aaxis": {
             "endlinecolor": "#2a3f5f",
             "gridcolor": "white",
             "linecolor": "white",
             "minorgridcolor": "white",
             "startlinecolor": "#2a3f5f"
            },
            "baxis": {
             "endlinecolor": "#2a3f5f",
             "gridcolor": "white",
             "linecolor": "white",
             "minorgridcolor": "white",
             "startlinecolor": "#2a3f5f"
            },
            "type": "carpet"
           }
          ],
          "choropleth": [
           {
            "colorbar": {
             "outlinewidth": 0,
             "ticks": ""
            },
            "type": "choropleth"
           }
          ],
          "contour": [
           {
            "colorbar": {
             "outlinewidth": 0,
             "ticks": ""
            },
            "colorscale": [
             [
              0,
              "#0d0887"
             ],
             [
              0.1111111111111111,
              "#46039f"
             ],
             [
              0.2222222222222222,
              "#7201a8"
             ],
             [
              0.3333333333333333,
              "#9c179e"
             ],
             [
              0.4444444444444444,
              "#bd3786"
             ],
             [
              0.5555555555555556,
              "#d8576b"
             ],
             [
              0.6666666666666666,
              "#ed7953"
             ],
             [
              0.7777777777777778,
              "#fb9f3a"
             ],
             [
              0.8888888888888888,
              "#fdca26"
             ],
             [
              1,
              "#f0f921"
             ]
            ],
            "type": "contour"
           }
          ],
          "contourcarpet": [
           {
            "colorbar": {
             "outlinewidth": 0,
             "ticks": ""
            },
            "type": "contourcarpet"
           }
          ],
          "heatmap": [
           {
            "colorbar": {
             "outlinewidth": 0,
             "ticks": ""
            },
            "colorscale": [
             [
              0,
              "#0d0887"
             ],
             [
              0.1111111111111111,
              "#46039f"
             ],
             [
              0.2222222222222222,
              "#7201a8"
             ],
             [
              0.3333333333333333,
              "#9c179e"
             ],
             [
              0.4444444444444444,
              "#bd3786"
             ],
             [
              0.5555555555555556,
              "#d8576b"
             ],
             [
              0.6666666666666666,
              "#ed7953"
             ],
             [
              0.7777777777777778,
              "#fb9f3a"
             ],
             [
              0.8888888888888888,
              "#fdca26"
             ],
             [
              1,
              "#f0f921"
             ]
            ],
            "type": "heatmap"
           }
          ],
          "heatmapgl": [
           {
            "colorbar": {
             "outlinewidth": 0,
             "ticks": ""
            },
            "colorscale": [
             [
              0,
              "#0d0887"
             ],
             [
              0.1111111111111111,
              "#46039f"
             ],
             [
              0.2222222222222222,
              "#7201a8"
             ],
             [
              0.3333333333333333,
              "#9c179e"
             ],
             [
              0.4444444444444444,
              "#bd3786"
             ],
             [
              0.5555555555555556,
              "#d8576b"
             ],
             [
              0.6666666666666666,
              "#ed7953"
             ],
             [
              0.7777777777777778,
              "#fb9f3a"
             ],
             [
              0.8888888888888888,
              "#fdca26"
             ],
             [
              1,
              "#f0f921"
             ]
            ],
            "type": "heatmapgl"
           }
          ],
          "histogram": [
           {
            "marker": {
             "pattern": {
              "fillmode": "overlay",
              "size": 10,
              "solidity": 0.2
             }
            },
            "type": "histogram"
           }
          ],
          "histogram2d": [
           {
            "colorbar": {
             "outlinewidth": 0,
             "ticks": ""
            },
            "colorscale": [
             [
              0,
              "#0d0887"
             ],
             [
              0.1111111111111111,
              "#46039f"
             ],
             [
              0.2222222222222222,
              "#7201a8"
             ],
             [
              0.3333333333333333,
              "#9c179e"
             ],
             [
              0.4444444444444444,
              "#bd3786"
             ],
             [
              0.5555555555555556,
              "#d8576b"
             ],
             [
              0.6666666666666666,
              "#ed7953"
             ],
             [
              0.7777777777777778,
              "#fb9f3a"
             ],
             [
              0.8888888888888888,
              "#fdca26"
             ],
             [
              1,
              "#f0f921"
             ]
            ],
            "type": "histogram2d"
           }
          ],
          "histogram2dcontour": [
           {
            "colorbar": {
             "outlinewidth": 0,
             "ticks": ""
            },
            "colorscale": [
             [
              0,
              "#0d0887"
             ],
             [
              0.1111111111111111,
              "#46039f"
             ],
             [
              0.2222222222222222,
              "#7201a8"
             ],
             [
              0.3333333333333333,
              "#9c179e"
             ],
             [
              0.4444444444444444,
              "#bd3786"
             ],
             [
              0.5555555555555556,
              "#d8576b"
             ],
             [
              0.6666666666666666,
              "#ed7953"
             ],
             [
              0.7777777777777778,
              "#fb9f3a"
             ],
             [
              0.8888888888888888,
              "#fdca26"
             ],
             [
              1,
              "#f0f921"
             ]
            ],
            "type": "histogram2dcontour"
           }
          ],
          "mesh3d": [
           {
            "colorbar": {
             "outlinewidth": 0,
             "ticks": ""
            },
            "type": "mesh3d"
           }
          ],
          "parcoords": [
           {
            "line": {
             "colorbar": {
              "outlinewidth": 0,
              "ticks": ""
             }
            },
            "type": "parcoords"
           }
          ],
          "pie": [
           {
            "automargin": true,
            "type": "pie"
           }
          ],
          "scatter": [
           {
            "fillpattern": {
             "fillmode": "overlay",
             "size": 10,
             "solidity": 0.2
            },
            "type": "scatter"
           }
          ],
          "scatter3d": [
           {
            "line": {
             "colorbar": {
              "outlinewidth": 0,
              "ticks": ""
             }
            },
            "marker": {
             "colorbar": {
              "outlinewidth": 0,
              "ticks": ""
             }
            },
            "type": "scatter3d"
           }
          ],
          "scattercarpet": [
           {
            "marker": {
             "colorbar": {
              "outlinewidth": 0,
              "ticks": ""
             }
            },
            "type": "scattercarpet"
           }
          ],
          "scattergeo": [
           {
            "marker": {
             "colorbar": {
              "outlinewidth": 0,
              "ticks": ""
             }
            },
            "type": "scattergeo"
           }
          ],
          "scattergl": [
           {
            "marker": {
             "colorbar": {
              "outlinewidth": 0,
              "ticks": ""
             }
            },
            "type": "scattergl"
           }
          ],
          "scattermapbox": [
           {
            "marker": {
             "colorbar": {
              "outlinewidth": 0,
              "ticks": ""
             }
            },
            "type": "scattermapbox"
           }
          ],
          "scatterpolar": [
           {
            "marker": {
             "colorbar": {
              "outlinewidth": 0,
              "ticks": ""
             }
            },
            "type": "scatterpolar"
           }
          ],
          "scatterpolargl": [
           {
            "marker": {
             "colorbar": {
              "outlinewidth": 0,
              "ticks": ""
             }
            },
            "type": "scatterpolargl"
           }
          ],
          "scatterternary": [
           {
            "marker": {
             "colorbar": {
              "outlinewidth": 0,
              "ticks": ""
             }
            },
            "type": "scatterternary"
           }
          ],
          "surface": [
           {
            "colorbar": {
             "outlinewidth": 0,
             "ticks": ""
            },
            "colorscale": [
             [
              0,
              "#0d0887"
             ],
             [
              0.1111111111111111,
              "#46039f"
             ],
             [
              0.2222222222222222,
              "#7201a8"
             ],
             [
              0.3333333333333333,
              "#9c179e"
             ],
             [
              0.4444444444444444,
              "#bd3786"
             ],
             [
              0.5555555555555556,
              "#d8576b"
             ],
             [
              0.6666666666666666,
              "#ed7953"
             ],
             [
              0.7777777777777778,
              "#fb9f3a"
             ],
             [
              0.8888888888888888,
              "#fdca26"
             ],
             [
              1,
              "#f0f921"
             ]
            ],
            "type": "surface"
           }
          ],
          "table": [
           {
            "cells": {
             "fill": {
              "color": "#EBF0F8"
             },
             "line": {
              "color": "white"
             }
            },
            "header": {
             "fill": {
              "color": "#C8D4E3"
             },
             "line": {
              "color": "white"
             }
            },
            "type": "table"
           }
          ]
         },
         "layout": {
          "annotationdefaults": {
           "arrowcolor": "#2a3f5f",
           "arrowhead": 0,
           "arrowwidth": 1
          },
          "autotypenumbers": "strict",
          "coloraxis": {
           "colorbar": {
            "outlinewidth": 0,
            "ticks": ""
           }
          },
          "colorscale": {
           "diverging": [
            [
             0,
             "#8e0152"
            ],
            [
             0.1,
             "#c51b7d"
            ],
            [
             0.2,
             "#de77ae"
            ],
            [
             0.3,
             "#f1b6da"
            ],
            [
             0.4,
             "#fde0ef"
            ],
            [
             0.5,
             "#f7f7f7"
            ],
            [
             0.6,
             "#e6f5d0"
            ],
            [
             0.7,
             "#b8e186"
            ],
            [
             0.8,
             "#7fbc41"
            ],
            [
             0.9,
             "#4d9221"
            ],
            [
             1,
             "#276419"
            ]
           ],
           "sequential": [
            [
             0,
             "#0d0887"
            ],
            [
             0.1111111111111111,
             "#46039f"
            ],
            [
             0.2222222222222222,
             "#7201a8"
            ],
            [
             0.3333333333333333,
             "#9c179e"
            ],
            [
             0.4444444444444444,
             "#bd3786"
            ],
            [
             0.5555555555555556,
             "#d8576b"
            ],
            [
             0.6666666666666666,
             "#ed7953"
            ],
            [
             0.7777777777777778,
             "#fb9f3a"
            ],
            [
             0.8888888888888888,
             "#fdca26"
            ],
            [
             1,
             "#f0f921"
            ]
           ],
           "sequentialminus": [
            [
             0,
             "#0d0887"
            ],
            [
             0.1111111111111111,
             "#46039f"
            ],
            [
             0.2222222222222222,
             "#7201a8"
            ],
            [
             0.3333333333333333,
             "#9c179e"
            ],
            [
             0.4444444444444444,
             "#bd3786"
            ],
            [
             0.5555555555555556,
             "#d8576b"
            ],
            [
             0.6666666666666666,
             "#ed7953"
            ],
            [
             0.7777777777777778,
             "#fb9f3a"
            ],
            [
             0.8888888888888888,
             "#fdca26"
            ],
            [
             1,
             "#f0f921"
            ]
           ]
          },
          "colorway": [
           "#636efa",
           "#EF553B",
           "#00cc96",
           "#ab63fa",
           "#FFA15A",
           "#19d3f3",
           "#FF6692",
           "#B6E880",
           "#FF97FF",
           "#FECB52"
          ],
          "font": {
           "color": "#2a3f5f"
          },
          "geo": {
           "bgcolor": "white",
           "lakecolor": "white",
           "landcolor": "#E5ECF6",
           "showlakes": true,
           "showland": true,
           "subunitcolor": "white"
          },
          "hoverlabel": {
           "align": "left"
          },
          "hovermode": "closest",
          "mapbox": {
           "style": "light"
          },
          "paper_bgcolor": "white",
          "plot_bgcolor": "#E5ECF6",
          "polar": {
           "angularaxis": {
            "gridcolor": "white",
            "linecolor": "white",
            "ticks": ""
           },
           "bgcolor": "#E5ECF6",
           "radialaxis": {
            "gridcolor": "white",
            "linecolor": "white",
            "ticks": ""
           }
          },
          "scene": {
           "xaxis": {
            "backgroundcolor": "#E5ECF6",
            "gridcolor": "white",
            "gridwidth": 2,
            "linecolor": "white",
            "showbackground": true,
            "ticks": "",
            "zerolinecolor": "white"
           },
           "yaxis": {
            "backgroundcolor": "#E5ECF6",
            "gridcolor": "white",
            "gridwidth": 2,
            "linecolor": "white",
            "showbackground": true,
            "ticks": "",
            "zerolinecolor": "white"
           },
           "zaxis": {
            "backgroundcolor": "#E5ECF6",
            "gridcolor": "white",
            "gridwidth": 2,
            "linecolor": "white",
            "showbackground": true,
            "ticks": "",
            "zerolinecolor": "white"
           }
          },
          "shapedefaults": {
           "line": {
            "color": "#2a3f5f"
           }
          },
          "ternary": {
           "aaxis": {
            "gridcolor": "white",
            "linecolor": "white",
            "ticks": ""
           },
           "baxis": {
            "gridcolor": "white",
            "linecolor": "white",
            "ticks": ""
           },
           "bgcolor": "#E5ECF6",
           "caxis": {
            "gridcolor": "white",
            "linecolor": "white",
            "ticks": ""
           }
          },
          "title": {
           "x": 0.05
          },
          "xaxis": {
           "automargin": true,
           "gridcolor": "white",
           "linecolor": "white",
           "ticks": "",
           "title": {
            "standoff": 15
           },
           "zerolinecolor": "white",
           "zerolinewidth": 2
          },
          "yaxis": {
           "automargin": true,
           "gridcolor": "white",
           "linecolor": "white",
           "ticks": "",
           "title": {
            "standoff": 15
           },
           "zerolinecolor": "white",
           "zerolinewidth": 2
          }
         }
        },
        "xaxis": {
         "anchor": "y",
         "constrain": "domain",
         "domain": [
          0,
          1
         ],
         "scaleanchor": "y"
        },
        "yaxis": {
         "anchor": "x",
         "autorange": "reversed",
         "constrain": "domain",
         "domain": [
          0,
          1
         ]
        }
       }
      }
     },
     "metadata": {},
     "output_type": "display_data"
    }
   ],
   "source": [
    "pairs = nu.pairs([C.nuStrand1,C.nuStrand2], model=C.nupackmodel)\n",
    "heat = pairs.to_array()\n",
    "fig = px.imshow(heat)\n",
    "fig.show()"
   ]
  },
  {
   "cell_type": "code",
   "execution_count": 58,
   "metadata": {},
   "outputs": [],
   "source": [
    "from itertools import pairwise, chain\n",
    "import networkx as nx"
   ]
  },
  {
   "cell_type": "code",
   "execution_count": 49,
   "metadata": {},
   "outputs": [],
   "source": [
    "struct = '...(...+...)...'\n"
   ]
  },
  {
   "cell_type": "code",
   "execution_count": 66,
   "metadata": {},
   "outputs": [
    {
     "name": "stdout",
     "output_type": "stream",
     "text": [
      "...(... ['..((...', '...((..']\n",
      "..((... ['.(((...', '..(((..']\n",
      ".(((... ['((((...', '.((((..']\n",
      "((((... ['(((((..']\n",
      "(((((.. ['((((((.']\n",
      "((((((. ['(((((((']\n",
      "((((((( []\n",
      ".((((.. ['(((((..', '.(((((.']\n",
      "(((((.. ['((((((.']\n",
      "((((((. ['(((((((']\n",
      "((((((( []\n",
      ".(((((. ['((((((.', '.((((((']\n",
      "((((((. ['(((((((']\n",
      "((((((( []\n",
      ".(((((( ['(((((((']\n",
      "((((((( []\n",
      "..(((.. ['.((((..', '..((((.']\n",
      ".((((.. ['(((((..', '.(((((.']\n",
      "(((((.. ['((((((.']\n",
      "((((((. ['(((((((']\n",
      "((((((( []\n",
      ".(((((. ['((((((.', '.((((((']\n",
      "((((((. ['(((((((']\n",
      "((((((( []\n",
      ".(((((( ['(((((((']\n",
      "((((((( []\n",
      "..((((. ['.(((((.', '..(((((']\n",
      ".(((((. ['((((((.', '.((((((']\n",
      "((((((. ['(((((((']\n",
      "((((((( []\n",
      ".(((((( ['(((((((']\n",
      "((((((( []\n",
      "..((((( ['.((((((']\n",
      ".(((((( ['(((((((']\n",
      "((((((( []\n",
      "...((.. ['..(((..', '...(((.']\n",
      "..(((.. ['.((((..', '..((((.']\n",
      ".((((.. ['(((((..', '.(((((.']\n",
      "(((((.. ['((((((.']\n",
      "((((((. ['(((((((']\n",
      "((((((( []\n",
      ".(((((. ['((((((.', '.((((((']\n",
      "((((((. ['(((((((']\n",
      "((((((( []\n",
      ".(((((( ['(((((((']\n",
      "((((((( []\n",
      "..((((. ['.(((((.', '..(((((']\n",
      ".(((((. ['((((((.', '.((((((']\n",
      "((((((. ['(((((((']\n",
      "((((((( []\n",
      ".(((((( ['(((((((']\n",
      "((((((( []\n",
      "..((((( ['.((((((']\n",
      ".(((((( ['(((((((']\n",
      "((((((( []\n",
      "...(((. ['..((((.', '...((((']\n",
      "..((((. ['.(((((.', '..(((((']\n",
      ".(((((. ['((((((.', '.((((((']\n",
      "((((((. ['(((((((']\n",
      "((((((( []\n",
      ".(((((( ['(((((((']\n",
      "((((((( []\n",
      "..((((( ['.((((((']\n",
      ".(((((( ['(((((((']\n",
      "((((((( []\n",
      "...(((( ['..(((((']\n",
      "..((((( ['.((((((']\n",
      ".(((((( ['(((((((']\n",
      "((((((( []\n"
     ]
    },
    {
     "data": {
      "text/plain": [
       "[[[[[[[]]]], [[[[]]], [[[]], [[]]]]],\n",
       "  [[[[[]]], [[[]], [[]]]], [[[[]], [[]]], [[[]]]]]],\n",
       " [[[[[[]]], [[[]], [[]]]], [[[[]], [[]]], [[[]]]]],\n",
       "  [[[[[]], [[]]], [[[]]]], [[[[]]]]]]]"
      ]
     },
     "execution_count": 66,
     "metadata": {},
     "output_type": "execute_result"
    }
   ],
   "source": [
    "struct = '...(...+...)...'\n",
    "left, right = struct.split('+')\n",
    "\n",
    "def get_i(lst):\n",
    "    indices = []\n",
    "    for i, (el1, el2) in enumerate(pairwise(lst)):\n",
    "        if el1 == '.' and el2 != '.':\n",
    "            indices.append(i)\n",
    "        if el1 != '.' and el2 == '.':\n",
    "            indices.append(i+1)\n",
    "    return indices\n",
    "\n",
    "def update_structure(string, side, character: str):\n",
    "    updated = string\n",
    "    moveslist = []\n",
    "    moves = get_i(string)[::side]\n",
    "    for m in moves:\n",
    "        up = updated[:m] + character + updated[m+1:]\n",
    "        moveslist.append(up)\n",
    "    return moveslist\n",
    "    \n",
    "def leafs(structure,graph):\n",
    "    moves = update_structure(structure, 1, '(')\n",
    "    print(structure, moves)\n",
    "    for move in moves:\n",
    "        ZG.add_edge(structure, move)\n",
    "        yield list(leafs(move,graph))\n",
    "\n",
    "ZG = nx.Graph()\n",
    "list(leafs(left, ZG))"
   ]
  },
  {
   "cell_type": "code",
   "execution_count": 120,
   "metadata": {},
   "outputs": [],
   "source": [
    "def get_i(lst):\n",
    "    indices = []\n",
    "    for i, (el1, el2) in enumerate(pairwise(lst)):\n",
    "        if el1 == '.' and el2 != '.':\n",
    "            indices.append(i)\n",
    "        if el1 != '.' and el2 == '.':\n",
    "            indices.append(i+1)\n",
    "    return indices\n",
    "\n",
    "def update_structure(string, side, character: str):\n",
    "    updated = string\n",
    "    moveslist = []\n",
    "    moves = get_i(string)[::side]\n",
    "    for m in moves:\n",
    "        up = updated[:m] + character + updated[m+1:]\n",
    "        moveslist.append(up)\n",
    "    return moveslist\n",
    "    \n",
    "def leafs(left, right, graph):\n",
    "    lmoves = update_structure(left, 1, '(')\n",
    "    rmoves = update_structure(right, -1, ')')\n",
    "    for lmove, rmove in zip(lmoves, rmoves):\n",
    "        graph.add_edge('+'.join([left, right]), '+'.join([lmove,rmove]))\n",
    "        yield list(leafs(lmove,rmove,graph))\n",
    "\n",
    "def zipping(left, right, graph):\n",
    "    return list(leafs(left, right, graph))"
   ]
  },
  {
   "cell_type": "code",
   "execution_count": 121,
   "metadata": {},
   "outputs": [],
   "source": [
    "struct1 = '...(...+...)...'\n",
    "left1, right1 = struct1.split('+')\n",
    "struct2 = '.(.....+.....).'\n",
    "left2, right2 = struct2.split('+')"
   ]
  },
  {
   "cell_type": "code",
   "execution_count": 124,
   "metadata": {},
   "outputs": [
    {
     "data": {
      "text/plain": [
       "[[[[[[[]]]]]], [[[[[[]]]]], [[[[[]]]], [[[[]]], [[[]], [[]]]]]]]"
      ]
     },
     "execution_count": 124,
     "metadata": {},
     "output_type": "execute_result"
    }
   ],
   "source": [
    "ZG1 = nx.Graph()\n",
    "list(leafs(left1, right1, ZG1))\n",
    "ZG2 = nx.Graph()\n",
    "list(leafs(left2, right2, ZG2))"
   ]
  },
  {
   "cell_type": "code",
   "execution_count": 127,
   "metadata": {},
   "outputs": [],
   "source": [
    "Z = nx.compose(ZG1, ZG2)"
   ]
  },
  {
   "cell_type": "code",
   "execution_count": 128,
   "metadata": {},
   "outputs": [],
   "source": [
    "nx.write_gexf(Z, './BROOOOOO.gexf')"
   ]
  },
  {
   "cell_type": "code",
   "execution_count": null,
   "metadata": {},
   "outputs": [],
   "source": [
    "# GRAVEYARD\n",
    "def leafswhat(structure):\n",
    "    tree = []\n",
    "    moves = update_structure(structure, 1, '(')\n",
    "    print(moves)\n",
    "    for move in moves:\n",
    "        tree.append(leafs(move))\n",
    "    return [update_structure(t, 1, '(') for t in tree]"
   ]
  }
 ],
 "metadata": {
  "kernelspec": {
   "display_name": "hdna",
   "language": "python",
   "name": "python3"
  },
  "language_info": {
   "codemirror_mode": {
    "name": "ipython",
    "version": 3
   },
   "file_extension": ".py",
   "mimetype": "text/x-python",
   "name": "python",
   "nbconvert_exporter": "python",
   "pygments_lexer": "ipython3",
   "version": "3.10.9"
  },
  "orig_nbformat": 4,
  "vscode": {
   "interpreter": {
    "hash": "13f02c433cbffcd00bbcbbfeff349f4b7c28e9023d8fb9f65ab93bb104997abd"
   }
  }
 },
 "nbformat": 4,
 "nbformat_minor": 2
}
