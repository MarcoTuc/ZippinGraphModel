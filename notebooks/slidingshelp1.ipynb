{
 "cells": [
  {
   "cell_type": "code",
   "execution_count": 7,
   "metadata": {},
   "outputs": [
    {
     "name": "stdout",
     "output_type": "stream",
     "text": [
      "The autoreload extension is already loaded. To reload it, use:\n",
      "  %reload_ext autoreload\n"
     ]
    }
   ],
   "source": [
    "import sys\n",
    "sys.path.append('..')\n",
    "\n",
    "%load_ext autoreload\n",
    "%autoreload 2"
   ]
  },
  {
   "cell_type": "code",
   "execution_count": 8,
   "metadata": {},
   "outputs": [],
   "source": [
    "from random import choice as choicerandom\n",
    "from numpy.random import choice as choicenumpy\n",
    "from hdna import * "
   ]
  },
  {
   "cell_type": "code",
   "execution_count": 9,
   "metadata": {},
   "outputs": [],
   "source": [
    "M = Model('dna', '3D', min_nucleation=2, sliding_cutoff=3)\n",
    "# A = Strand.random(M, 15)\n",
    "# A = Strand(M, 'ACCAAACCACCAAC')\n",
    "# A = Strand(M, 'ATGATGTTCCGCTTT')\n",
    "# A = Strand(M, 'ACCAAACCAC')\n",
    "A = Strand(M, 'GGGGGGGGGGGGGGGGG')\n",
    "# A = Strand(M, ''.join(['GACT' for i in range(5)]))\n",
    "B = A.complementary()\n",
    "# print(A.sequence+'+'+A.complementary().sequence)"
   ]
  },
  {
   "cell_type": "code",
   "execution_count": 10,
   "metadata": {},
   "outputs": [],
   "source": [
    "G = Geometry(120,270)\n",
    "N = Kinetwork(M, A, B)\n",
    "K = Kinetics(M, N, G)\n",
    "S = Simulator(M, N, K)"
   ]
  },
  {
   "cell_type": "code",
   "execution_count": 11,
   "metadata": {},
   "outputs": [],
   "source": [
    "S.save_graph('./checkgraph')\n",
    "N.save_graph('./checkgraph')"
   ]
  },
  {
   "cell_type": "code",
   "execution_count": 12,
   "metadata": {},
   "outputs": [
    {
     "ename": "NameError",
     "evalue": "name 'c' is not defined",
     "output_type": "error",
     "traceback": [
      "\u001b[0;31m---------------------------------------------------------------------------\u001b[0m",
      "\u001b[0;31mNameError\u001b[0m                                 Traceback (most recent call last)",
      "Cell \u001b[0;32mIn[12], line 1\u001b[0m\n\u001b[0;32m----> 1\u001b[0m L \u001b[39m=\u001b[39m \u001b[39mlist\u001b[39m(c\u001b[39m.\u001b[39mGraph\u001b[39m.\u001b[39mnodes\u001b[39m.\u001b[39mdata(\u001b[39m'\u001b[39m\u001b[39mobject\u001b[39m\u001b[39m'\u001b[39m))\n\u001b[1;32m      2\u001b[0m \u001b[39mfor\u001b[39;00m l \u001b[39min\u001b[39;00m L: \n\u001b[1;32m      3\u001b[0m     \u001b[39mprint\u001b[39m(A\u001b[39m.\u001b[39msequence\u001b[39m+\u001b[39m\u001b[39m'\u001b[39m\u001b[39m+\u001b[39m\u001b[39m'\u001b[39m\u001b[39m+\u001b[39mB\u001b[39m.\u001b[39minvert\u001b[39m.\u001b[39msequence)\n",
      "\u001b[0;31mNameError\u001b[0m: name 'c' is not defined"
     ]
    }
   ],
   "source": [
    "L = list(c.Graph.nodes.data('object'))\n",
    "for l in L: \n",
    "    print(A.sequence+'+'+B.invert.sequence)\n",
    "    print(l[0])\n",
    "    print(      'object type:      ',l[1])\n",
    "    print(      'basepairs:        ',l[1].total_nucleations)\n",
    "    try: \n",
    "        print(  'duplex distance:  ',l[1].dpxdist)\n",
    "        print(  'sliding side:     ',l[1].offregister)\n",
    "    except AttributeError: print('bro')\n",
    "    print('\\n')"
   ]
  },
  {
   "cell_type": "code",
   "execution_count": null,
   "metadata": {},
   "outputs": [],
   "source": [
    "c.save_graph('.','trial')"
   ]
  }
 ],
 "metadata": {
  "kernelspec": {
   "display_name": "hdna",
   "language": "python",
   "name": "python3"
  },
  "language_info": {
   "codemirror_mode": {
    "name": "ipython",
    "version": 3
   },
   "file_extension": ".py",
   "mimetype": "text/x-python",
   "name": "python",
   "nbconvert_exporter": "python",
   "pygments_lexer": "ipython3",
   "version": "3.10.9"
  },
  "orig_nbformat": 4,
  "vscode": {
   "interpreter": {
    "hash": "13f02c433cbffcd00bbcbbfeff349f4b7c28e9023d8fb9f65ab93bb104997abd"
   }
  }
 },
 "nbformat": 4,
 "nbformat_minor": 2
}
