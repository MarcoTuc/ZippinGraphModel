{
 "cells": [
  {
   "cell_type": "code",
   "execution_count": 2,
   "metadata": {},
   "outputs": [],
   "source": [
    "import sys\n",
    "sys.path.append('..')\n",
    "\n",
    "%load_ext autoreload\n",
    "%autoreload 2"
   ]
  },
  {
   "cell_type": "code",
   "execution_count": 7,
   "metadata": {},
   "outputs": [],
   "source": [
    "import pandas as pd \n",
    "import networkx as nx \n",
    "import nupack as nu\n",
    "from random import choice as choicerandom\n",
    "from numpy.random import choice as choicenumpy\n",
    "from hdna import * "
   ]
  },
  {
   "cell_type": "code",
   "execution_count": 4,
   "metadata": {},
   "outputs": [],
   "source": [
    "M = Model('dna', '3D', min_nucleation=2, sliding_cutoff=3)\n",
    "A = Strand(M, 'GGGGGGGGGGGGGGGGG')\n",
    "B = A.complementary()"
   ]
  },
  {
   "cell_type": "code",
   "execution_count": 5,
   "metadata": {},
   "outputs": [],
   "source": [
    "G = Geometry(120,270)\n",
    "N = Kinetwork(M, A, B)\n",
    "K = Kinetics(M, N, G)\n",
    "S = Simulator(M, N, K)"
   ]
  },
  {
   "cell_type": "code",
   "execution_count": 6,
   "metadata": {},
   "outputs": [
    {
     "data": {
      "text/html": [
       "<div>\n",
       "<style scoped>\n",
       "    .dataframe tbody tr th:only-of-type {\n",
       "        vertical-align: middle;\n",
       "    }\n",
       "\n",
       "    .dataframe tbody tr th {\n",
       "        vertical-align: top;\n",
       "    }\n",
       "\n",
       "    .dataframe thead th {\n",
       "        text-align: right;\n",
       "    }\n",
       "</style>\n",
       "<table border=\"1\" class=\"dataframe\">\n",
       "  <thead>\n",
       "    <tr style=\"text-align: right;\">\n",
       "      <th></th>\n",
       "      <th>structure</th>\n",
       "      <th>object</th>\n",
       "      <th>gibbs</th>\n",
       "    </tr>\n",
       "  </thead>\n",
       "  <tbody>\n",
       "    <tr>\n",
       "      <th>1</th>\n",
       "      <td>.......((........+........)).......</td>\n",
       "      <td>&lt;hdna.complex.Complex object at 0x7f074630fa00&gt;</td>\n",
       "      <td>-5.614313</td>\n",
       "    </tr>\n",
       "    <tr>\n",
       "      <th>2</th>\n",
       "      <td>............((...+...))............</td>\n",
       "      <td>&lt;hdna.complex.Complex object at 0x7f078056ca00&gt;</td>\n",
       "      <td>-5.614313</td>\n",
       "    </tr>\n",
       "    <tr>\n",
       "      <th>3</th>\n",
       "      <td>..............((.+.))..............</td>\n",
       "      <td>&lt;hdna.complex.Complex object at 0x7f07463a4610&gt;</td>\n",
       "      <td>-5.614313</td>\n",
       "    </tr>\n",
       "    <tr>\n",
       "      <th>4</th>\n",
       "      <td>...((............+............))...</td>\n",
       "      <td>&lt;hdna.complex.Complex object at 0x7f0746307e50&gt;</td>\n",
       "      <td>-5.614313</td>\n",
       "    </tr>\n",
       "    <tr>\n",
       "      <th>5</th>\n",
       "      <td>....((...........+...........))....</td>\n",
       "      <td>&lt;hdna.complex.Complex object at 0x7f07463a42b0&gt;</td>\n",
       "      <td>-5.614313</td>\n",
       "    </tr>\n",
       "    <tr>\n",
       "      <th>...</th>\n",
       "      <td>...</td>\n",
       "      <td>...</td>\n",
       "      <td>...</td>\n",
       "    </tr>\n",
       "    <tr>\n",
       "      <th>113</th>\n",
       "      <td>..........((((((.+.))))))..........</td>\n",
       "      <td>&lt;hdna.complex.Zippo object at 0x7f078056d2d0&gt;</td>\n",
       "      <td>-13.848212</td>\n",
       "    </tr>\n",
       "    <tr>\n",
       "      <th>114</th>\n",
       "      <td>.........((((((((+)))))))).........</td>\n",
       "      <td>&lt;hdna.complex.Zippo object at 0x7f078056c640&gt;</td>\n",
       "      <td>-16.380021</td>\n",
       "    </tr>\n",
       "    <tr>\n",
       "      <th>115</th>\n",
       "      <td>..........(((((((+)))))))..........</td>\n",
       "      <td>&lt;hdna.complex.Zippo object at 0x7f078056de40&gt;</td>\n",
       "      <td>-14.321546</td>\n",
       "    </tr>\n",
       "    <tr>\n",
       "      <th>116</th>\n",
       "      <td>...........((((((+))))))...........</td>\n",
       "      <td>&lt;hdna.complex.Zippo object at 0x7f078056f010&gt;</td>\n",
       "      <td>-12.263071</td>\n",
       "    </tr>\n",
       "    <tr>\n",
       "      <th>117</th>\n",
       "      <td>............(((((+)))))............</td>\n",
       "      <td>&lt;hdna.complex.Zippo object at 0x7f078056ccd0&gt;</td>\n",
       "      <td>-10.204596</td>\n",
       "    </tr>\n",
       "  </tbody>\n",
       "</table>\n",
       "<p>117 rows × 3 columns</p>\n",
       "</div>"
      ],
      "text/plain": [
       "                               structure  \\\n",
       "1    .......((........+........)).......   \n",
       "2    ............((...+...))............   \n",
       "3    ..............((.+.))..............   \n",
       "4    ...((............+............))...   \n",
       "5    ....((...........+...........))....   \n",
       "..                                   ...   \n",
       "113  ..........((((((.+.))))))..........   \n",
       "114  .........((((((((+)))))))).........   \n",
       "115  ..........(((((((+)))))))..........   \n",
       "116  ...........((((((+))))))...........   \n",
       "117  ............(((((+)))))............   \n",
       "\n",
       "                                              object      gibbs  \n",
       "1    <hdna.complex.Complex object at 0x7f074630fa00>  -5.614313  \n",
       "2    <hdna.complex.Complex object at 0x7f078056ca00>  -5.614313  \n",
       "3    <hdna.complex.Complex object at 0x7f07463a4610>  -5.614313  \n",
       "4    <hdna.complex.Complex object at 0x7f0746307e50>  -5.614313  \n",
       "5    <hdna.complex.Complex object at 0x7f07463a42b0>  -5.614313  \n",
       "..                                               ...        ...  \n",
       "113    <hdna.complex.Zippo object at 0x7f078056d2d0> -13.848212  \n",
       "114    <hdna.complex.Zippo object at 0x7f078056c640> -16.380021  \n",
       "115    <hdna.complex.Zippo object at 0x7f078056de40> -14.321546  \n",
       "116    <hdna.complex.Zippo object at 0x7f078056f010> -12.263071  \n",
       "117    <hdna.complex.Zippo object at 0x7f078056ccd0> -10.204596  \n",
       "\n",
       "[117 rows x 3 columns]"
      ]
     },
     "execution_count": 6,
     "metadata": {},
     "output_type": "execute_result"
    }
   ],
   "source": [
    "DG = S.DiGraph()\n",
    "DF = pd.DataFrame(DG.nodes.data('object'))\n",
    "DF = DF.set_axis(['structure', 'object'], axis=1)\n",
    "DF['gibbs'] = [obj.G for obj in DF['object']]\n",
    "DF[DF['gibbs'] < 0]"
   ]
  },
  {
   "cell_type": "code",
   "execution_count": 30,
   "metadata": {},
   "outputs": [
    {
     "data": {
      "text/plain": [
       "-2.564378356251272"
      ]
     },
     "execution_count": 30,
     "metadata": {},
     "output_type": "execute_result"
    }
   ],
   "source": [
    "nupackmodel = nu.Model(\n",
    "    material='dna', \n",
    "    ensemble='nostacking', \n",
    "    celsius=25, \n",
    "    sodium=1, \n",
    "    magnesium=0) \n",
    "\n",
    "nuStrand1 = nu.Strand(A.sequence, name = 'a')\n",
    "nuStrand2 = nu.Strand(B.sequence, name = 'b') # An inversion here is needed because in this program strands are defined as 5-3 against 3-5 but in NUPACK all strands are defined 5-3 and the program takes care to turn them around and so on\n",
    "nuStructure = nu.Structure('.......((........+........)).......')\n",
    "dG = nu.structure_energy(strands=[nuStrand1,nuStrand2], structure=nuStructure, model=nupackmodel)\n",
    "# dGloop = nupackmodel.loop_energy(loop='AAA+TTT', structure='(((+)))')\n",
    "dG"
   ]
  },
  {
   "cell_type": "code",
   "execution_count": null,
   "metadata": {},
   "outputs": [],
   "source": []
  }
 ],
 "metadata": {
  "kernelspec": {
   "display_name": "hdna",
   "language": "python",
   "name": "python3"
  },
  "language_info": {
   "codemirror_mode": {
    "name": "ipython",
    "version": 3
   },
   "file_extension": ".py",
   "mimetype": "text/x-python",
   "name": "python",
   "nbconvert_exporter": "python",
   "pygments_lexer": "ipython3",
   "version": "3.10.9 (main, Jan 11 2023, 15:21:40) [GCC 11.2.0]"
  },
  "orig_nbformat": 4,
  "vscode": {
   "interpreter": {
    "hash": "13f02c433cbffcd00bbcbbfeff349f4b7c28e9023d8fb9f65ab93bb104997abd"
   }
  }
 },
 "nbformat": 4,
 "nbformat_minor": 2
}
