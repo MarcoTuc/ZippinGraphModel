{
 "cells": [
  {
   "cell_type": "code",
   "execution_count": 1,
   "metadata": {},
   "outputs": [],
   "source": [
    "import os \n",
    "import sys \n",
    "import numpy as np \n",
    "import pandas as pd\n",
    "from hdna import *\n",
    "from conf import * "
   ]
  },
  {
   "cell_type": "code",
   "execution_count": 2,
   "metadata": {},
   "outputs": [
    {
     "name": "stdout",
     "output_type": "stream",
     "text": [
      ">>>> overwriting old simulations\n"
     ]
    }
   ],
   "source": [
    "# Import experimental data from Hertel \n",
    "expdata = pd.read_csv('./data/herteldata.csv', names=['seq', 'expvalue'])\n",
    "# Clean the dataframe \n",
    "expdata = expdata.drop(0)\n",
    "expdata['expvalue'] = ['{:e}'.format(float(e)) for e in expdata['expvalue']]\n",
    "\n",
    "limit = len(expdata)\n",
    "torun = expdata.copy().iloc[:limit]\n",
    "torun.set_index(torun['seq'], inplace=True)\n",
    "\n",
    "# Directory Check \n",
    "if os.path.isdir(RESULTS_DIR): \n",
    "    i = 0\n",
    "    while True: \n",
    "        i += 1\n",
    "        permission = input(f'Folder {RESULTS_DIR} already exists, do you want to overwrite old experiments? [Y,N]')\n",
    "        if permission.lower().startswith('y'):\n",
    "            print('>>>> overwriting old simulations')\n",
    "            break\n",
    "        elif permission.lower().startswith('n') or i == 3:\n",
    "            print(\">>>> stopping the program\")\n",
    "            sys.exit()\n",
    "        print(\"yes or not?\") \n",
    "else:\n",
    "    os.makedirs(RESULTS_DIR)"
   ]
  },
  {
   "cell_type": "code",
   "execution_count": 3,
   "metadata": {},
   "outputs": [],
   "source": [
    "# Leave a csv with hyperparameters \n",
    "hyperparams = pd.DataFrame.from_dict([dict(**HP,**OPT)]).T\n",
    "hyperparams.rename(columns={np.int64(0):'values'}, inplace=True)\n",
    "hyperparams.index.rename('hyperparameters', inplace=True)\n",
    "hyperparams.to_csv(f'{RESULTS_DIR}/hyperparameters.csv')\n",
    "\n",
    "# export console output to a txt \n",
    "f = open(f'{RESULTS_DIR}/console.txt', 'w')\n",
    "sys.stdout = Tee(sys.stdout, f)\n",
    "\n",
    "# Actual computation \n",
    "MOD = Model('dna', '3D', \n",
    "        min_nucleation=HP['minimum_nucleation'], \n",
    "        sliding_cutoff=HP['sliding_cutoff'],\n",
    "        celsius=HP['temperature'])"
   ]
  },
  {
   "cell_type": "code",
   "execution_count": 4,
   "metadata": {},
   "outputs": [
    {
     "name": "stdout",
     "output_type": "stream",
     "text": [
      "Strand number 0: GTTCGGTCTA\n",
      "Creating network from sequence...\n",
      "no left slidings as you can see from the empty list: []\n",
      "no right slidings as you can see from the empty list: []\n",
      "embedding network into biosimulator network model...\n",
      "start running simulations...\n",
      "40 simulations didn't produce a duplex.\n",
      "That's 1.3333333333333333% of simulations\n",
      "experimental rate: 1.145950e+06\n",
      "computed rate:     2.143136e+06 \n",
      "\n"
     ]
    },
    {
     "name": "stderr",
     "output_type": "stream",
     "text": [
      "100%|██████████| 3000/3000 [00:02<00:00, 1095.72it/s]\n"
     ]
    },
    {
     "data": {
      "text/plain": [
       "' Also for error checking put some csv with nodes and edges of the \\n    network and with the same information but from the biosim model. \\n'"
      ]
     },
     "execution_count": 4,
     "metadata": {},
     "output_type": "execute_result"
    }
   ],
   "source": [
    "for i, (seq, exp) in enumerate(zip(torun['seq'], torun['expvalue'])):\n",
    "\n",
    "    print(f'Strand number {i}: {seq}')\n",
    "    seq = str(seq.strip())      \n",
    "    exp = float(exp.strip())    \n",
    "\n",
    "    print(f'Creating network from sequence...')\n",
    "    A = Strand(MOD, seq)\n",
    "    B = A.complementary()\n",
    "    kinet = Kinetwork(MOD, A, B)\n",
    "    geo = Geometry(HP['azimutal_angle'], HP['longitudinal_angle'])\n",
    "    K = Kinetics(MOD, kinet, geo)\n",
    "    K.set_slidingrate(HP['sliding_rate'])\n",
    "    K.set_zippingrate(HP['zipping_rate'])\n",
    "\n",
    "    opts = Options(\n",
    "        method='direct', \n",
    "        runtime=OPT['runtime'], \n",
    "        Nsim=OPT['N_simul'], \n",
    "        results_dir=RESULTS_DIR, \n",
    "        graphsalone=SOPT['G_saving'],\n",
    "        stranditer=i)\n",
    "\n",
    "    print('embedding network into biosimulator network model...')\n",
    "    simulatore = Simulator(MOD, kinet, K, options=opts)\n",
    "    print('start running simulations...')\n",
    "    results = simulatore.ensemble()\n",
    "    mfpt = simulatore.mfpts(results)\n",
    "\n",
    "    df = pd.DataFrame.from_dict([simulatore.overview])\n",
    "    df.drop(['duplex','singlestranded'], axis=1, inplace=True)\n",
    "    newcols = list(df.columns)\n",
    "    newvals = list(df.loc[0,df.columns])\n",
    "    torun.loc[seq, 'computed'] = 1/mfpt\n",
    "    torun.loc[seq, newcols] = newvals\n",
    "\n",
    "    print(f\"experimental rate: {'{:e}'.format(exp)}\")\n",
    "    print(f\"computed rate:     {'{:e}'.format(1/mfpt)}\", '\\n')\n",
    "\n",
    "    break ############################################################################################\n",
    "    \n",
    "    del results\n",
    "\n",
    "torun.to_csv(f\"{RESULTS_DIR}/simulationdata.csv\")\n",
    "valplot(torun, EXPNAME, writepath=RESULTS_DIR, theme='dark')\n",
    "\n",
    "\n",
    "#TODO\n",
    "\"\"\" Also for error checking put some csv with nodes and edges of the \n",
    "    network and with the same information but from the biosim model. \n",
    "\"\"\""
   ]
  }
 ],
 "metadata": {
  "kernelspec": {
   "display_name": "hdna",
   "language": "python",
   "name": "python3"
  },
  "language_info": {
   "codemirror_mode": {
    "name": "ipython",
    "version": 3
   },
   "file_extension": ".py",
   "mimetype": "text/x-python",
   "name": "python",
   "nbconvert_exporter": "python",
   "pygments_lexer": "ipython3",
   "version": "3.10.9"
  },
  "orig_nbformat": 4,
  "vscode": {
   "interpreter": {
    "hash": "13f02c433cbffcd00bbcbbfeff349f4b7c28e9023d8fb9f65ab93bb104997abd"
   }
  }
 },
 "nbformat": 4,
 "nbformat_minor": 2
}
