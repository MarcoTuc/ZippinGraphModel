{
 "cells": [
  {
   "cell_type": "code",
   "execution_count": 1,
   "metadata": {},
   "outputs": [],
   "source": [
    "import sys\n",
    "sys.path.append('..')\n",
    "\n",
    "%load_ext autoreload\n",
    "%autoreload 2"
   ]
  },
  {
   "cell_type": "code",
   "execution_count": 20,
   "metadata": {},
   "outputs": [],
   "source": [
    "import pandas as pd \n",
    "import networkx as nx \n",
    "from random import choice as choicerandom\n",
    "from numpy.random import choice as choicenumpy\n",
    "from hdna import * "
   ]
  },
  {
   "cell_type": "code",
   "execution_count": 3,
   "metadata": {},
   "outputs": [],
   "source": [
    "M = Model('dna', '3D', min_nucleation=2, sliding_cutoff=3)\n",
    "# A = Strand.random(M, 15)\n",
    "# A = Strand(M, 'ACCAAACCACCAAC')\n",
    "# A = Strand(M, 'ATGATGTTCCGCTTT')\n",
    "# A = Strand(M, 'ACCAAACCAC')\n",
    "A = Strand(M, 'GGGGGGGGGGGGGGGGG')\n",
    "# A = Strand(M, ''.join(['GACT' for i in range(5)]))\n",
    "B = A.complementary()\n",
    "# print(A.sequence+'+'+A.complementary().sequence)"
   ]
  },
  {
   "cell_type": "code",
   "execution_count": 5,
   "metadata": {},
   "outputs": [],
   "source": [
    "G = Geometry(120,270)\n",
    "N = Kinetwork(M, A, B)\n",
    "K = Kinetics(M, N, G)\n",
    "S = Simulator(M, N, K)"
   ]
  },
  {
   "cell_type": "code",
   "execution_count": 48,
   "metadata": {},
   "outputs": [
    {
     "data": {
      "text/html": [
       "<div>\n",
       "<style scoped>\n",
       "    .dataframe tbody tr th:only-of-type {\n",
       "        vertical-align: middle;\n",
       "    }\n",
       "\n",
       "    .dataframe tbody tr th {\n",
       "        vertical-align: top;\n",
       "    }\n",
       "\n",
       "    .dataframe thead th {\n",
       "        text-align: right;\n",
       "    }\n",
       "</style>\n",
       "<table border=\"1\" class=\"dataframe\">\n",
       "  <thead>\n",
       "    <tr style=\"text-align: right;\">\n",
       "      <th></th>\n",
       "      <th>structure</th>\n",
       "      <th>object</th>\n",
       "      <th>gibbs</th>\n",
       "    </tr>\n",
       "  </thead>\n",
       "  <tbody>\n",
       "    <tr>\n",
       "      <th>1</th>\n",
       "      <td>.....((..........+..........)).....</td>\n",
       "      <td>&lt;hdna.complex.Complex object at 0x7fb2f00f3820&gt;</td>\n",
       "      <td>-5.614313</td>\n",
       "    </tr>\n",
       "    <tr>\n",
       "      <th>2</th>\n",
       "      <td>........((.......+.......))........</td>\n",
       "      <td>&lt;hdna.complex.Complex object at 0x7fb2f00f3850&gt;</td>\n",
       "      <td>-5.614313</td>\n",
       "    </tr>\n",
       "    <tr>\n",
       "      <th>3</th>\n",
       "      <td>..((.............+.............))..</td>\n",
       "      <td>&lt;hdna.complex.Complex object at 0x7fb2c8116ec0&gt;</td>\n",
       "      <td>-5.614313</td>\n",
       "    </tr>\n",
       "    <tr>\n",
       "      <th>4</th>\n",
       "      <td>((...............+...............))</td>\n",
       "      <td>&lt;hdna.complex.Complex object at 0x7fb2c81172e0&gt;</td>\n",
       "      <td>-4.131803</td>\n",
       "    </tr>\n",
       "    <tr>\n",
       "      <th>5</th>\n",
       "      <td>...........((....+....))...........</td>\n",
       "      <td>&lt;hdna.complex.Complex object at 0x7fb2f00bece0&gt;</td>\n",
       "      <td>-5.614313</td>\n",
       "    </tr>\n",
       "    <tr>\n",
       "      <th>...</th>\n",
       "      <td>...</td>\n",
       "      <td>...</td>\n",
       "      <td>...</td>\n",
       "    </tr>\n",
       "    <tr>\n",
       "      <th>113</th>\n",
       "      <td>..........((((((.+.))))))..........</td>\n",
       "      <td>&lt;hdna.complex.Zippo object at 0x7fb2c8388f10&gt;</td>\n",
       "      <td>-13.848212</td>\n",
       "    </tr>\n",
       "    <tr>\n",
       "      <th>114</th>\n",
       "      <td>.........((((((((+)))))))).........</td>\n",
       "      <td>&lt;hdna.complex.Zippo object at 0x7fb2f00c27d0&gt;</td>\n",
       "      <td>-16.380021</td>\n",
       "    </tr>\n",
       "    <tr>\n",
       "      <th>115</th>\n",
       "      <td>..........(((((((+)))))))..........</td>\n",
       "      <td>&lt;hdna.complex.Zippo object at 0x7fb2f00c0fd0&gt;</td>\n",
       "      <td>-14.321546</td>\n",
       "    </tr>\n",
       "    <tr>\n",
       "      <th>116</th>\n",
       "      <td>...........((((((+))))))...........</td>\n",
       "      <td>&lt;hdna.complex.Zippo object at 0x7fb2f00f2e60&gt;</td>\n",
       "      <td>-12.263071</td>\n",
       "    </tr>\n",
       "    <tr>\n",
       "      <th>117</th>\n",
       "      <td>............(((((+)))))............</td>\n",
       "      <td>&lt;hdna.complex.Zippo object at 0x7fb2f00f0550&gt;</td>\n",
       "      <td>-10.204596</td>\n",
       "    </tr>\n",
       "  </tbody>\n",
       "</table>\n",
       "<p>117 rows × 3 columns</p>\n",
       "</div>"
      ],
      "text/plain": [
       "                               structure  \\\n",
       "1    .....((..........+..........)).....   \n",
       "2    ........((.......+.......))........   \n",
       "3    ..((.............+.............))..   \n",
       "4    ((...............+...............))   \n",
       "5    ...........((....+....))...........   \n",
       "..                                   ...   \n",
       "113  ..........((((((.+.))))))..........   \n",
       "114  .........((((((((+)))))))).........   \n",
       "115  ..........(((((((+)))))))..........   \n",
       "116  ...........((((((+))))))...........   \n",
       "117  ............(((((+)))))............   \n",
       "\n",
       "                                              object      gibbs  \n",
       "1    <hdna.complex.Complex object at 0x7fb2f00f3820>  -5.614313  \n",
       "2    <hdna.complex.Complex object at 0x7fb2f00f3850>  -5.614313  \n",
       "3    <hdna.complex.Complex object at 0x7fb2c8116ec0>  -5.614313  \n",
       "4    <hdna.complex.Complex object at 0x7fb2c81172e0>  -4.131803  \n",
       "5    <hdna.complex.Complex object at 0x7fb2f00bece0>  -5.614313  \n",
       "..                                               ...        ...  \n",
       "113    <hdna.complex.Zippo object at 0x7fb2c8388f10> -13.848212  \n",
       "114    <hdna.complex.Zippo object at 0x7fb2f00c27d0> -16.380021  \n",
       "115    <hdna.complex.Zippo object at 0x7fb2f00c0fd0> -14.321546  \n",
       "116    <hdna.complex.Zippo object at 0x7fb2f00f2e60> -12.263071  \n",
       "117    <hdna.complex.Zippo object at 0x7fb2f00f0550> -10.204596  \n",
       "\n",
       "[117 rows x 3 columns]"
      ]
     },
     "execution_count": 48,
     "metadata": {},
     "output_type": "execute_result"
    }
   ],
   "source": [
    "DG = S.DiGraph()\n",
    "DF = pd.DataFrame(DG.nodes.data('object'))\n",
    "DF = DF.set_axis(['structure', 'object'], axis=1)\n",
    "DF['gibbs'] = [obj.G for obj in DF['object']]\n",
    "DF[DF['gibbs'] < 0]"
   ]
  },
  {
   "cell_type": "code",
   "execution_count": null,
   "metadata": {},
   "outputs": [],
   "source": [
    "# S.save_graph('./checkgraph')\n",
    "# N.save_graph('./checkgraph')"
   ]
  },
  {
   "cell_type": "code",
   "execution_count": null,
   "metadata": {},
   "outputs": [
    {
     "ename": "NameError",
     "evalue": "name 'c' is not defined",
     "output_type": "error",
     "traceback": [
      "\u001b[0;31m---------------------------------------------------------------------------\u001b[0m",
      "\u001b[0;31mNameError\u001b[0m                                 Traceback (most recent call last)",
      "Cell \u001b[0;32mIn[12], line 1\u001b[0m\n\u001b[0;32m----> 1\u001b[0m L \u001b[39m=\u001b[39m \u001b[39mlist\u001b[39m(c\u001b[39m.\u001b[39mGraph\u001b[39m.\u001b[39mnodes\u001b[39m.\u001b[39mdata(\u001b[39m'\u001b[39m\u001b[39mobject\u001b[39m\u001b[39m'\u001b[39m))\n\u001b[1;32m      2\u001b[0m \u001b[39mfor\u001b[39;00m l \u001b[39min\u001b[39;00m L: \n\u001b[1;32m      3\u001b[0m     \u001b[39mprint\u001b[39m(A\u001b[39m.\u001b[39msequence\u001b[39m+\u001b[39m\u001b[39m'\u001b[39m\u001b[39m+\u001b[39m\u001b[39m'\u001b[39m\u001b[39m+\u001b[39mB\u001b[39m.\u001b[39minvert\u001b[39m.\u001b[39msequence)\n",
      "\u001b[0;31mNameError\u001b[0m: name 'c' is not defined"
     ]
    }
   ],
   "source": [
    "L = list(c.Graph.nodes.data('object'))\n",
    "for l in L: \n",
    "    print(A.sequence+'+'+B.invert.sequence)\n",
    "    print(l[0])\n",
    "    print(      'object type:      ',l[1])\n",
    "    print(      'basepairs:        ',l[1].total_nucleations)\n",
    "    try: \n",
    "        print(  'duplex distance:  ',l[1].dpxdist)\n",
    "        print(  'sliding side:     ',l[1].offregister)\n",
    "    except AttributeError: print('bro')\n",
    "    print('\\n')"
   ]
  }
 ],
 "metadata": {
  "kernelspec": {
   "display_name": "hdna",
   "language": "python",
   "name": "python3"
  },
  "language_info": {
   "codemirror_mode": {
    "name": "ipython",
    "version": 3
   },
   "file_extension": ".py",
   "mimetype": "text/x-python",
   "name": "python",
   "nbconvert_exporter": "python",
   "pygments_lexer": "ipython3",
   "version": "3.10.9 (main, Jan 11 2023, 15:21:40) [GCC 11.2.0]"
  },
  "orig_nbformat": 4,
  "vscode": {
   "interpreter": {
    "hash": "13f02c433cbffcd00bbcbbfeff349f4b7c28e9023d8fb9f65ab93bb104997abd"
   }
  }
 },
 "nbformat": 4,
 "nbformat_minor": 2
}
