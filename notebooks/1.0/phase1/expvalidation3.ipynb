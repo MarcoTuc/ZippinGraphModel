{
 "cells": [
  {
   "cell_type": "code",
   "execution_count": 1,
   "metadata": {},
   "outputs": [],
   "source": [
    "import sys \n",
    "sys.path.append('..')"
   ]
  },
  {
   "cell_type": "code",
   "execution_count": 2,
   "metadata": {},
   "outputs": [],
   "source": [
    "import time\n",
    "import pickle \n",
    "import numpy as np \n",
    "import pandas as pd\n",
    "import networkx as nx \n",
    "\n",
    "from juliacall import Main as jl  \n",
    "from hdna import *"
   ]
  },
  {
   "cell_type": "code",
   "execution_count": 3,
   "metadata": {},
   "outputs": [],
   "source": [
    "# Import experimental data inside a dataframe\n",
    "\n",
    "expdata = pd.read_csv('../data/herteldata.csv', names=['seq', 'expvalue'])"
   ]
  },
  {
   "cell_type": "code",
   "execution_count": 4,
   "metadata": {},
   "outputs": [],
   "source": [
    "# Clean the dataframe \n",
    "\n",
    "expdata = expdata.drop(0)\n",
    "expdata['expvalue'] = ['{:e}'.format(float(e)) for e in expdata['expvalue']]"
   ]
  },
  {
   "cell_type": "code",
   "execution_count": 5,
   "metadata": {},
   "outputs": [
    {
     "name": "stdout",
     "output_type": "stream",
     "text": [
      "Creating network from string GTTCGGTCTA...\n",
      "embedding strand into biosimulator network model...\n",
      "start running simulations...\n"
     ]
    },
    {
     "name": "stderr",
     "output_type": "stream",
     "text": [
      "100%|██████████| 20000/20000 [00:13<00:00, 1526.39it/s]\n"
     ]
    },
    {
     "name": "stdout",
     "output_type": "stream",
     "text": [
      "3043 simulations didn't produce a duplex.\n",
      "That's 15.215% of simulations\n",
      "experimental rate: 1.145950e+06\n",
      "computed rate:     8.792824e+05\n"
     ]
    }
   ],
   "source": [
    "# Actual computation \n",
    "\n",
    "rates = []\n",
    "\n",
    "model = Model('dna', '3D')\n",
    "\n",
    "for i, (seq, exp) in enumerate(zip(expdata['seq'], expdata['expvalue'])):\n",
    "    seq = str(seq.strip())      # make sure they are alright\n",
    "    exp = float(exp.strip())    #\n",
    "    print(f'Creating network from string {seq}...')\n",
    "    A = Strand(model, seq)\n",
    "    B = A.complementary()\n",
    "    kinet = Kinetwork(model, A, B, 1)\n",
    "    geo = Geometry(120, 360)\n",
    "    K = Kinetics(model, kinet, geo)\n",
    "    opts = Options(method='direct', runtime=3e-6, Nmonte=20000)\n",
    "    print('embedding strand into biosimulator network model...')\n",
    "    simulatore = Simulator(model, kinet, K, options=opts)\n",
    "    print('start running simulations...')\n",
    "    results = simulatore.ensemble()\n",
    "    mfpt = simulatore.mfpts(results)\n",
    "    rates.append(1/mfpt)\n",
    "    print(f\"experimental rate: {'{:e}'.format(exp)}\")\n",
    "    print(f\"computed rate:     {'{:e}'.format(1/mfpt)}\")\n",
    "    break "
   ]
  },
  {
   "cell_type": "code",
   "execution_count": 6,
   "metadata": {},
   "outputs": [],
   "source": [
    "from pyvis.network import Network"
   ]
  },
  {
   "cell_type": "code",
   "execution_count": 8,
   "metadata": {},
   "outputs": [],
   "source": [
    "G = simulatore.Graph\n",
    "for n in G.nodes.data():\n",
    "    del n[1]['object']"
   ]
  },
  {
   "cell_type": "code",
   "execution_count": 33,
   "metadata": {},
   "outputs": [
    {
     "data": {
      "text/plain": [
       "[('kind', 'on_nucleation'),\n",
       " ('kf', 38505212.66779661),\n",
       " ('kb', 827964.3174347384)]"
      ]
     },
     "execution_count": 33,
     "metadata": {},
     "output_type": "execute_result"
    }
   ],
   "source": [
    "a = list(G.edges.data())[0][2]\n",
    "[(b,a[b]) for b in [*a]]"
   ]
  },
  {
   "cell_type": "code",
   "execution_count": 39,
   "metadata": {},
   "outputs": [],
   "source": [
    "states = [node[1]['state'] for node in list(G.nodes.data())]\n",
    "visnet = Network(select_menu=True,filter_menu=True, heading = 'stringseq')\n",
    "visnet.add_nodes(list(G.nodes()), state=states)\n",
    "for edge in list(G.edges.data()):\n",
    "    visnet.add_edge(edge[0], edge[1], **edge[2])\n",
    "visnet.show_buttons()\n",
    "visnet.toggle_physics(True)\n",
    "visnet.show('name.html')"
   ]
  },
  {
   "cell_type": "code",
   "execution_count": 11,
   "metadata": {},
   "outputs": [],
   "source": [
    "states = [node[1]['state'] for node in list(G.nodes.data())]\n",
    "\n",
    "visnet = Network(select_menu=True,filter_menu=True)\n",
    "visnet.add_nodes(list(G.nodes()), state=states)\n",
    "\n",
    "for edge in list(G.edges()):\n",
    "    pass\n",
    "\n",
    "visnet.add_edges(list(G.edges()))\n",
    "visnet.show_buttons()\n",
    "visnet.toggle_physics(True)\n",
    "visnet.show('name.html')"
   ]
  },
  {
   "cell_type": "code",
   "execution_count": 17,
   "metadata": {},
   "outputs": [
    {
     "data": {
      "text/plain": [
       "[{'color': '#97c2fc',\n",
       "  'state': 'singlestranded',\n",
       "  'id': '..........+..........',\n",
       "  'label': '..........+..........',\n",
       "  'shape': 'dot'},\n",
       " {'color': '#97c2fc',\n",
       "  'state': 'off_register',\n",
       "  'id': '.(........+.)........',\n",
       "  'label': '.(........+.)........',\n",
       "  'shape': 'dot'},\n",
       " {'color': '#97c2fc',\n",
       "  'state': 'off_register',\n",
       "  'id': '..(.......+.)........',\n",
       "  'label': '..(.......+.)........',\n",
       "  'shape': 'dot'},\n",
       " {'color': '#97c2fc',\n",
       "  'state': 'off_register',\n",
       "  'id': '((........+...)).....',\n",
       "  'label': '((........+...)).....',\n",
       "  'shape': 'dot'},\n",
       " {'color': '#97c2fc',\n",
       "  'state': 'off_register',\n",
       "  'id': '(.((......+..)).)....',\n",
       "  'label': '(.((......+..)).)....',\n",
       "  'shape': 'dot'},\n",
       " {'color': '#97c2fc',\n",
       "  'state': 'off_register',\n",
       "  'id': '......(...+.)........',\n",
       "  'label': '......(...+.)........',\n",
       "  'shape': 'dot'},\n",
       " {'color': '#97c2fc',\n",
       "  'state': 'off_register',\n",
       "  'id': '.(..(.....+....)..)..',\n",
       "  'label': '.(..(.....+....)..)..',\n",
       "  'shape': 'dot'},\n",
       " {'color': '#97c2fc',\n",
       "  'state': 'off_register',\n",
       "  'id': '..(..(....+.....)..).',\n",
       "  'label': '..(..(....+.....)..).',\n",
       "  'shape': 'dot'},\n",
       " {'color': '#97c2fc',\n",
       "  'state': 'off_register',\n",
       "  'id': '........(.+...)......',\n",
       "  'label': '........(.+...)......',\n",
       "  'shape': 'dot'},\n",
       " {'color': '#97c2fc',\n",
       "  'state': 'off_register',\n",
       "  'id': '....(.((..+......)).)',\n",
       "  'label': '....(.((..+......)).)',\n",
       "  'shape': 'dot'},\n",
       " {'color': '#97c2fc',\n",
       "  'state': 'off_register',\n",
       "  'id': '.....((...+........))',\n",
       "  'label': '.....((...+........))',\n",
       "  'shape': 'dot'},\n",
       " {'color': '#97c2fc',\n",
       "  'state': 'off_register',\n",
       "  'id': '........(.+.......)..',\n",
       "  'label': '........(.+.......)..',\n",
       "  'shape': 'dot'},\n",
       " {'color': '#97c2fc',\n",
       "  'state': 'off_register',\n",
       "  'id': '........(.+........).',\n",
       "  'label': '........(.+........).',\n",
       "  'shape': 'dot'},\n",
       " {'color': '#97c2fc',\n",
       "  'state': 'on_register',\n",
       "  'id': '(.........+.........)',\n",
       "  'label': '(.........+.........)',\n",
       "  'shape': 'dot'},\n",
       " {'color': '#97c2fc',\n",
       "  'state': 'on_register',\n",
       "  'id': '.(........+........).',\n",
       "  'label': '.(........+........).',\n",
       "  'shape': 'dot'},\n",
       " {'color': '#97c2fc',\n",
       "  'state': 'on_register',\n",
       "  'id': '..(.......+.......)..',\n",
       "  'label': '..(.......+.......)..',\n",
       "  'shape': 'dot'},\n",
       " {'color': '#97c2fc',\n",
       "  'state': 'on_register',\n",
       "  'id': '...(......+......)...',\n",
       "  'label': '...(......+......)...',\n",
       "  'shape': 'dot'},\n",
       " {'color': '#97c2fc',\n",
       "  'state': 'on_register',\n",
       "  'id': '....(.....+.....)....',\n",
       "  'label': '....(.....+.....)....',\n",
       "  'shape': 'dot'},\n",
       " {'color': '#97c2fc',\n",
       "  'state': 'on_register',\n",
       "  'id': '.....(....+....).....',\n",
       "  'label': '.....(....+....).....',\n",
       "  'shape': 'dot'},\n",
       " {'color': '#97c2fc',\n",
       "  'state': 'on_register',\n",
       "  'id': '......(...+...)......',\n",
       "  'label': '......(...+...)......',\n",
       "  'shape': 'dot'},\n",
       " {'color': '#97c2fc',\n",
       "  'state': 'on_register',\n",
       "  'id': '.......(..+..).......',\n",
       "  'label': '.......(..+..).......',\n",
       "  'shape': 'dot'},\n",
       " {'color': '#97c2fc',\n",
       "  'state': 'on_register',\n",
       "  'id': '........(.+.)........',\n",
       "  'label': '........(.+.)........',\n",
       "  'shape': 'dot'},\n",
       " {'color': '#97c2fc',\n",
       "  'state': 'on_register',\n",
       "  'id': '.........(+).........',\n",
       "  'label': '.........(+).........',\n",
       "  'shape': 'dot'},\n",
       " {'color': '#97c2fc',\n",
       "  'state': 'zipping',\n",
       "  'id': '((........+........))',\n",
       "  'label': '((........+........))',\n",
       "  'shape': 'dot'},\n",
       " {'color': '#97c2fc',\n",
       "  'state': 'zipping',\n",
       "  'id': '(((.......+.......)))',\n",
       "  'label': '(((.......+.......)))',\n",
       "  'shape': 'dot'},\n",
       " {'color': '#97c2fc',\n",
       "  'state': 'zipping',\n",
       "  'id': '((((......+......))))',\n",
       "  'label': '((((......+......))))',\n",
       "  'shape': 'dot'},\n",
       " {'color': '#97c2fc',\n",
       "  'state': 'zipping',\n",
       "  'id': '(((((.....+.....)))))',\n",
       "  'label': '(((((.....+.....)))))',\n",
       "  'shape': 'dot'},\n",
       " {'color': '#97c2fc',\n",
       "  'state': 'zipping',\n",
       "  'id': '((((((....+....))))))',\n",
       "  'label': '((((((....+....))))))',\n",
       "  'shape': 'dot'},\n",
       " {'color': '#97c2fc',\n",
       "  'state': 'zipping',\n",
       "  'id': '(((((((...+...)))))))',\n",
       "  'label': '(((((((...+...)))))))',\n",
       "  'shape': 'dot'},\n",
       " {'color': '#97c2fc',\n",
       "  'state': 'zipping',\n",
       "  'id': '((((((((..+..))))))))',\n",
       "  'label': '((((((((..+..))))))))',\n",
       "  'shape': 'dot'},\n",
       " {'color': '#97c2fc',\n",
       "  'state': 'zipping',\n",
       "  'id': '(((((((((.+.)))))))))',\n",
       "  'label': '(((((((((.+.)))))))))',\n",
       "  'shape': 'dot'},\n",
       " {'color': '#97c2fc',\n",
       "  'state': 'zipping',\n",
       "  'id': '.(((......+......))).',\n",
       "  'label': '.(((......+......))).',\n",
       "  'shape': 'dot'},\n",
       " {'color': '#97c2fc',\n",
       "  'state': 'zipping',\n",
       "  'id': '..(((.....+.....)))..',\n",
       "  'label': '..(((.....+.....)))..',\n",
       "  'shape': 'dot'},\n",
       " {'color': '#97c2fc',\n",
       "  'state': 'zipping',\n",
       "  'id': '.(((((....+....))))).',\n",
       "  'label': '.(((((....+....))))).',\n",
       "  'shape': 'dot'},\n",
       " {'color': '#97c2fc',\n",
       "  'state': 'zipping',\n",
       "  'id': '...(((....+....)))...',\n",
       "  'label': '...(((....+....)))...',\n",
       "  'shape': 'dot'},\n",
       " {'color': '#97c2fc',\n",
       "  'state': 'zipping',\n",
       "  'id': '..(((((...+...)))))..',\n",
       "  'label': '..(((((...+...)))))..',\n",
       "  'shape': 'dot'},\n",
       " {'color': '#97c2fc',\n",
       "  'state': 'zipping',\n",
       "  'id': '.(((((((..+..))))))).',\n",
       "  'label': '.(((((((..+..))))))).',\n",
       "  'shape': 'dot'},\n",
       " {'color': '#97c2fc',\n",
       "  'state': 'zipping',\n",
       "  'id': '....(((...+...)))....',\n",
       "  'label': '....(((...+...)))....',\n",
       "  'shape': 'dot'},\n",
       " {'color': '#97c2fc',\n",
       "  'state': 'zipping',\n",
       "  'id': '...(((((..+..)))))...',\n",
       "  'label': '...(((((..+..)))))...',\n",
       "  'shape': 'dot'},\n",
       " {'color': '#97c2fc',\n",
       "  'state': 'zipping',\n",
       "  'id': '..(((((((.+.)))))))..',\n",
       "  'label': '..(((((((.+.)))))))..',\n",
       "  'shape': 'dot'},\n",
       " {'color': '#97c2fc',\n",
       "  'state': 'zipping',\n",
       "  'id': '.(((((((((+))))))))).',\n",
       "  'label': '.(((((((((+))))))))).',\n",
       "  'shape': 'dot'},\n",
       " {'color': '#97c2fc',\n",
       "  'state': 'zipping',\n",
       "  'id': '.....(((..+..))).....',\n",
       "  'label': '.....(((..+..))).....',\n",
       "  'shape': 'dot'},\n",
       " {'color': '#97c2fc',\n",
       "  'state': 'zipping',\n",
       "  'id': '....(((((.+.)))))....',\n",
       "  'label': '....(((((.+.)))))....',\n",
       "  'shape': 'dot'},\n",
       " {'color': '#97c2fc',\n",
       "  'state': 'zipping',\n",
       "  'id': '...(((((((+)))))))...',\n",
       "  'label': '...(((((((+)))))))...',\n",
       "  'shape': 'dot'},\n",
       " {'color': '#97c2fc',\n",
       "  'state': 'zipping',\n",
       "  'id': '..((((((((+))))))))..',\n",
       "  'label': '..((((((((+))))))))..',\n",
       "  'shape': 'dot'},\n",
       " {'color': '#97c2fc',\n",
       "  'state': 'zipping',\n",
       "  'id': '......(((.+.)))......',\n",
       "  'label': '......(((.+.)))......',\n",
       "  'shape': 'dot'},\n",
       " {'color': '#97c2fc',\n",
       "  'state': 'zipping',\n",
       "  'id': '.....(((((+))))).....',\n",
       "  'label': '.....(((((+))))).....',\n",
       "  'shape': 'dot'},\n",
       " {'color': '#97c2fc',\n",
       "  'state': 'zipping',\n",
       "  'id': '....((((((+))))))....',\n",
       "  'label': '....((((((+))))))....',\n",
       "  'shape': 'dot'},\n",
       " {'color': '#97c2fc',\n",
       "  'state': 'zipping',\n",
       "  'id': '.......(((+))).......',\n",
       "  'label': '.......(((+))).......',\n",
       "  'shape': 'dot'},\n",
       " {'color': '#97c2fc',\n",
       "  'state': 'zipping',\n",
       "  'id': '......((((+))))......',\n",
       "  'label': '......((((+))))......',\n",
       "  'shape': 'dot'},\n",
       " {'color': '#97c2fc',\n",
       "  'state': 'zipping',\n",
       "  'id': '........((+))........',\n",
       "  'label': '........((+))........',\n",
       "  'shape': 'dot'},\n",
       " {'color': '#97c2fc',\n",
       "  'state': 'duplex',\n",
       "  'id': '((((((((((+))))))))))',\n",
       "  'label': '((((((((((+))))))))))',\n",
       "  'shape': 'dot'}]"
      ]
     },
     "execution_count": 17,
     "metadata": {},
     "output_type": "execute_result"
    }
   ],
   "source": [
    "visnet.nodes"
   ]
  },
  {
   "cell_type": "code",
   "execution_count": null,
   "metadata": {},
   "outputs": [
    {
     "data": {
      "text/html": [
       "\n",
       "        <iframe\n",
       "            width=\"100%\"\n",
       "            height=\"600px\"\n",
       "            src=\"Try.html\"\n",
       "            frameborder=\"0\"\n",
       "            allowfullscreen\n",
       "            \n",
       "        ></iframe>\n",
       "        "
      ],
      "text/plain": [
       "<IPython.lib.display.IFrame at 0x7f1168128670>"
      ]
     },
     "execution_count": 31,
     "metadata": {},
     "output_type": "execute_result"
    }
   ],
   "source": [
    "G = simulatore.Graph\n",
    "Gp = nx.convert_node_labels_to_integers(G)\n",
    "Np = Network(notebook=True, cdn_resources='in_line')\n",
    "Np.from_nx(Gp)\n",
    "Np.show_buttons()\n",
    "Np.show('Try.html')"
   ]
  },
  {
   "cell_type": "code",
   "execution_count": null,
   "metadata": {},
   "outputs": [],
   "source": [
    "expdata['computed'] = rates\n",
    "expdata['ratios'] = [float(e)/c for e, c in zip(expdata['expvalue'], expdata['computed'])]"
   ]
  },
  {
   "cell_type": "code",
   "execution_count": null,
   "metadata": {},
   "outputs": [],
   "source": [
    "expdata.to_csv('nucleation1.csv')"
   ]
  }
 ],
 "metadata": {
  "kernelspec": {
   "display_name": "hdna",
   "language": "python",
   "name": "python3"
  },
  "language_info": {
   "codemirror_mode": {
    "name": "ipython",
    "version": 3
   },
   "file_extension": ".py",
   "mimetype": "text/x-python",
   "name": "python",
   "nbconvert_exporter": "python",
   "pygments_lexer": "ipython3",
   "version": "3.10.9 (main, Jan 11 2023, 15:21:40) [GCC 11.2.0]"
  },
  "orig_nbformat": 4,
  "vscode": {
   "interpreter": {
    "hash": "13f02c433cbffcd00bbcbbfeff349f4b7c28e9023d8fb9f65ab93bb104997abd"
   }
  }
 },
 "nbformat": 4,
 "nbformat_minor": 2
}
