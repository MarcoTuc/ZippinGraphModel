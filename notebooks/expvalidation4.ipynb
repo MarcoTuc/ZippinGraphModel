{
 "cells": [
  {
   "cell_type": "code",
   "execution_count": 1,
   "metadata": {},
   "outputs": [],
   "source": [
    "%load_ext autoreload\n",
    "%autoreload 2"
   ]
  },
  {
   "cell_type": "code",
   "execution_count": 2,
   "metadata": {},
   "outputs": [],
   "source": [
    "import sys \n",
    "sys.path.append('..')"
   ]
  },
  {
   "cell_type": "code",
   "execution_count": 3,
   "metadata": {},
   "outputs": [],
   "source": [
    "import time\n",
    "import pickle \n",
    "import numpy as np \n",
    "import pandas as pd\n",
    "import networkx as nx \n",
    "\n",
    "from juliacall import Main as jl  \n",
    "from hdna import *"
   ]
  },
  {
   "cell_type": "code",
   "execution_count": 4,
   "metadata": {},
   "outputs": [],
   "source": [
    "# Import experimental data inside a dataframe\n",
    "\n",
    "expdata = pd.read_csv('../data/herteldata.csv', names=['seq', 'expvalue'])"
   ]
  },
  {
   "cell_type": "code",
   "execution_count": 5,
   "metadata": {},
   "outputs": [],
   "source": [
    "# Clean the dataframe \n",
    "\n",
    "expdata = expdata.drop(0)\n",
    "expdata['expvalue'] = ['{:e}'.format(float(e)) for e in expdata['expvalue']]"
   ]
  },
  {
   "cell_type": "code",
   "execution_count": 17,
   "metadata": {},
   "outputs": [
    {
     "name": "stdout",
     "output_type": "stream",
     "text": [
      "Creating network from string GTTCGGTCTA...\n",
      "embedding strand into biosimulator network model...\n",
      "start running simulations...\n"
     ]
    },
    {
     "name": "stderr",
     "output_type": "stream",
     "text": [
      "100%|██████████| 200/200 [00:00<00:00, 1826.52it/s]\n"
     ]
    },
    {
     "name": "stdout",
     "output_type": "stream",
     "text": [
      "30 simulations didn't produce a duplex.\n",
      "That's 15.0% of simulations\n",
      "experimental rate: 1.145950e+06\n",
      "computed rate:     8.495355e+05\n"
     ]
    }
   ],
   "source": [
    "# Actual computation \n",
    "\n",
    "rates = []\n",
    "\n",
    "model = Model('dna', '3D')\n",
    "\n",
    "for i, (seq, exp) in enumerate(zip(expdata['seq'], expdata['expvalue'])):\n",
    "    seq = str(seq.strip())      # make sure they are alright\n",
    "    exp = float(exp.strip())    #\n",
    "    print(f'Creating network from string {seq}...')\n",
    "    A = Strand(model, seq)\n",
    "    B = A.complementary()\n",
    "    kinet = Kinetwork(model, A, B, 1)\n",
    "    geo = Geometry(120, 360)\n",
    "    K = Kinetics(model, kinet, geo)\n",
    "    opts = Options(method='direct', runtime=3e-6, Nsim=200)\n",
    "    print('embedding strand into biosimulator network model...')\n",
    "    simulatore = Simulator(model, kinet, K, options=opts)\n",
    "    print('start running simulations...')\n",
    "    results = simulatore.ensemble()\n",
    "    mfpt = simulatore.mfpts(results)\n",
    "    rates.append(1/mfpt)\n",
    "    print(f\"experimental rate: {'{:e}'.format(exp)}\")\n",
    "    print(f\"computed rate:     {'{:e}'.format(1/mfpt)}\")\n",
    "    break "
   ]
  },
  {
   "cell_type": "code",
   "execution_count": 22,
   "metadata": {},
   "outputs": [],
   "source": [
    "import networkx as nx \n",
    "from pyvis.network import Network"
   ]
  },
  {
   "cell_type": "code",
   "execution_count": 26,
   "metadata": {},
   "outputs": [],
   "source": [
    "DG = simulatore.digraph\n",
    "for n in DG.nodes.data():\n",
    "    del n[1]['object']\n",
    "nx.write_gexf(DG,'digraphtrial.gexf')"
   ]
  },
  {
   "cell_type": "code",
   "execution_count": 24,
   "metadata": {},
   "outputs": [],
   "source": [
    "states = [node[1]['state'] for node in list(DG.nodes.data())]\n",
    "visnet = Network(directed=True,select_menu=True,filter_menu=True, heading = 'stringseq')\n",
    "visnet.add_nodes(list(DG.nodes()), state=states)\n",
    "for edge in list(DG.edges.data()):\n",
    "    visnet.add_edge(edge[0], edge[1], **edge[2])\n",
    "visnet.show_buttons()\n",
    "visnet.toggle_physics(True)\n",
    "visnet.show('name.html')"
   ]
  }
 ],
 "metadata": {
  "kernelspec": {
   "display_name": "hdna",
   "language": "python",
   "name": "python3"
  },
  "language_info": {
   "codemirror_mode": {
    "name": "ipython",
    "version": 3
   },
   "file_extension": ".py",
   "mimetype": "text/x-python",
   "name": "python",
   "nbconvert_exporter": "python",
   "pygments_lexer": "ipython3",
   "version": "3.10.9"
  },
  "orig_nbformat": 4,
  "vscode": {
   "interpreter": {
    "hash": "13f02c433cbffcd00bbcbbfeff349f4b7c28e9023d8fb9f65ab93bb104997abd"
   }
  }
 },
 "nbformat": 4,
 "nbformat_minor": 2
}
