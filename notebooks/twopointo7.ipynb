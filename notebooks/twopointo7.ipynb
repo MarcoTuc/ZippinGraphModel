{
 "cells": [
  {
   "cell_type": "code",
   "execution_count": 1,
   "metadata": {},
   "outputs": [],
   "source": [
    "%load_ext autoreload\n",
    "%autoreload 2"
   ]
  },
  {
   "cell_type": "code",
   "execution_count": 2,
   "metadata": {},
   "outputs": [],
   "source": [
    "import sys\n",
    "sys.path.append('..')"
   ]
  },
  {
   "cell_type": "code",
   "execution_count": 3,
   "metadata": {},
   "outputs": [],
   "source": [
    "from hdna import * \n",
    "import nupack as nu\n",
    "import networkx as nx "
   ]
  },
  {
   "cell_type": "code",
   "execution_count": 73,
   "metadata": {},
   "outputs": [],
   "source": [
    "model = Model('dna', '3D', stacking='nostacking')\n",
    "s1 = Strand(model, \"GTTCGGTCTA\")\n",
    "s2 = s1.complementary()\n",
    "C = Chamber(model, s1, s2)\n",
    "N = Kinetwork(model, s1, s2, Geometry(120,270))\n",
    "S = Simulator(model, N, Options(make_sim_csv=False))"
   ]
  },
  {
   "cell_type": "code",
   "execution_count": 18,
   "metadata": {},
   "outputs": [],
   "source": [
    "import numpy as np "
   ]
  },
  {
   "cell_type": "code",
   "execution_count": 20,
   "metadata": {},
   "outputs": [],
   "source": [
    "sim = S.simulation()\n",
    "# sim[0,:]"
   ]
  },
  {
   "cell_type": "code",
   "execution_count": 29,
   "metadata": {},
   "outputs": [
    {
     "data": {
      "text/plain": [
       "['..........+..........',\n",
       " '((((((((((+))))))))))',\n",
       " '(.........+....).....',\n",
       " '((........+...)).....',\n",
       " '.(........+...)......',\n",
       " '.....(....+.........)',\n",
       " '.....((...+........))',\n",
       " '......(...+........).',\n",
       " '(.........+.....)....',\n",
       " '(.(.......+...).)....',\n",
       " '(.((......+..)).)....',\n",
       " '..(.......+...)......',\n",
       " '..((......+..))......',\n",
       " '...(......+..).......',\n",
       " '....(.....+.........)',\n",
       " '....(.(...+.......).)',\n",
       " '....(.((..+......)).)',\n",
       " '......(...+.......)..',\n",
       " '......((..+......))..',\n",
       " '.......(..+......)...',\n",
       " '(.........+.........)',\n",
       " '((........+........))',\n",
       " '(((.......+.......)))',\n",
       " '((((......+......))))',\n",
       " '(((((.....+.....)))))',\n",
       " '((((((....+....))))))',\n",
       " '(((((((...+...)))))))',\n",
       " '((((((((..+..))))))))',\n",
       " '(((((((((.+.)))))))))',\n",
       " '.(........+........).',\n",
       " '.((.......+.......)).',\n",
       " '.(((......+......))).',\n",
       " '.((((.....+.....)))).',\n",
       " '.(((((....+....))))).',\n",
       " '.((((((...+...)))))).',\n",
       " '.(((((((..+..))))))).',\n",
       " '.((((((((.+.)))))))).',\n",
       " '.(((((((((+))))))))).',\n",
       " '..(.......+.......)..',\n",
       " '..((......+......))..',\n",
       " '..(((.....+.....)))..',\n",
       " '..((((....+....))))..',\n",
       " '..(((((...+...)))))..',\n",
       " '..((((((..+..))))))..',\n",
       " '..(((((((.+.)))))))..',\n",
       " '..((((((((+))))))))..',\n",
       " '...(......+......)...',\n",
       " '...((.....+.....))...',\n",
       " '...(((....+....)))...',\n",
       " '...((((...+...))))...',\n",
       " '...(((((..+..)))))...',\n",
       " '...((((((.+.))))))...',\n",
       " '...(((((((+)))))))...',\n",
       " '....(.....+.....)....',\n",
       " '....((....+....))....',\n",
       " '....(((...+...)))....',\n",
       " '....((((..+..))))....',\n",
       " '....(((((.+.)))))....',\n",
       " '....((((((+))))))....',\n",
       " '.....(....+....).....',\n",
       " '.....((...+...)).....',\n",
       " '.....(((..+..))).....',\n",
       " '.....((((.+.)))).....',\n",
       " '.....(((((+))))).....',\n",
       " '......(...+...)......',\n",
       " '......((..+..))......',\n",
       " '......(((.+.)))......',\n",
       " '......((((+))))......',\n",
       " '.......(..+..).......',\n",
       " '.......((.+.)).......',\n",
       " '.......(((+))).......',\n",
       " '........(.+.)........',\n",
       " '........((+))........',\n",
       " '.........(+).........']"
      ]
     },
     "execution_count": 29,
     "metadata": {},
     "output_type": "execute_result"
    }
   ],
   "source": [
    "[S.lt(str(e)) for e in list(S.biosim.species_list)]"
   ]
  },
  {
   "cell_type": "code",
   "execution_count": 41,
   "metadata": {},
   "outputs": [
    {
     "data": {
      "text/plain": [
       "str"
      ]
     },
     "execution_count": 41,
     "metadata": {},
     "output_type": "execute_result"
    }
   ],
   "source": [
    "type([S.lt(str(e)) for e in list(S.biosim.species_list)][0])"
   ]
  },
  {
   "cell_type": "code",
   "execution_count": 42,
   "metadata": {},
   "outputs": [
    {
     "data": {
      "text/plain": [
       "str"
      ]
     },
     "execution_count": 42,
     "metadata": {},
     "output_type": "execute_result"
    }
   ],
   "source": [
    "S.kinet.duplex"
   ]
  },
  {
   "cell_type": "code",
   "execution_count": 59,
   "metadata": {},
   "outputs": [
    {
     "name": "stdout",
     "output_type": "stream",
     "text": [
      "1\n"
     ]
    }
   ],
   "source": [
    "# cond = np.array([S.lt(str(e)) for e in list(S.biosim.species_list)])\n",
    "index = np.where(np.array([S.lt(str(e)) for e in list(S.biosim.species_list)]) == S.kinet.duplex)[0][0]\n",
    "print(index)"
   ]
  },
  {
   "cell_type": "code",
   "execution_count": 71,
   "metadata": {},
   "outputs": [],
   "source": [
    "for n in N.DG.nodes.data():\n",
    "    try: n[1]['obj'] = str(type(n[1]['obj']))   \n",
    "    except: pass \n",
    "nx.write_gexf(N.DG, './COMPLETE.gexf')"
   ]
  }
 ],
 "metadata": {
  "kernelspec": {
   "display_name": "hdna",
   "language": "python",
   "name": "python3"
  },
  "language_info": {
   "codemirror_mode": {
    "name": "ipython",
    "version": 3
   },
   "file_extension": ".py",
   "mimetype": "text/x-python",
   "name": "python",
   "nbconvert_exporter": "python",
   "pygments_lexer": "ipython3",
   "version": "3.10.9"
  },
  "orig_nbformat": 4,
  "vscode": {
   "interpreter": {
    "hash": "13f02c433cbffcd00bbcbbfeff349f4b7c28e9023d8fb9f65ab93bb104997abd"
   }
  }
 },
 "nbformat": 4,
 "nbformat_minor": 2
}
