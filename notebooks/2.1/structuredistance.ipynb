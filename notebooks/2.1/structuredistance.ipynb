{
 "cells": [
  {
   "cell_type": "code",
   "execution_count": 2,
   "metadata": {},
   "outputs": [],
   "source": [
    "%load_ext autoreload\n",
    "%autoreload 2\n",
    "\n",
    "import sys\n",
    "sys.path.append('../../')\n",
    "\n",
    "from hdna import * \n",
    "import nupack as nu\n",
    "import networkx as nx \n",
    "import pandas as pd \n"
   ]
  },
  {
   "cell_type": "code",
   "execution_count": 2,
   "metadata": {},
   "outputs": [],
   "source": [
    "pd.set_option('display.float_format', \n",
    "              lambda x: '%.3e' % x if float(x) > 5000 or float(x) < 0.01 and float(x) != 0 else ('%d' % x if x.is_integer() else '%.3f' % x))"
   ]
  },
  {
   "cell_type": "code",
   "execution_count": 63,
   "metadata": {},
   "outputs": [
    {
     "name": "stdout",
     "output_type": "stream",
     "text": [
      "branch 2\n",
      "2 ...((.....+...)).....\n",
      "branch 3\n",
      "3 (((.......+....)))...\n",
      "3 ....(((...+))).......\n",
      "branch 5\n",
      "5 ((........+...)).....\n",
      "5 ...((.....+))........\n",
      "branch 6\n",
      "6 .((.......+.)).......\n",
      "branch 8\n",
      "8 ((........+))........\n",
      "branch -8\n",
      "-8 ........((+........))\n",
      "branch -6\n",
      "-6 .......((.+.......)).\n",
      "branch -5\n",
      "-5 .....((...+........))\n",
      "-5 ........((+.....))...\n",
      "branch -3\n",
      "-3 ...(((....+.......)))\n",
      "-3 .......(((+...)))....\n",
      "branch -2\n",
      "-2 .....((...+.....))...\n"
     ]
    }
   ],
   "source": [
    "model = Model(standard=True)\n",
    "s1 = Strand(model, \"ACAACACCAC\")\n",
    "s2 = s1.complementary()\n",
    "S = Simulator(model, s1, s2)"
   ]
  },
  {
   "cell_type": "code",
   "execution_count": 64,
   "metadata": {},
   "outputs": [],
   "source": [
    "S.kinet.save_graph('.')"
   ]
  },
  {
   "cell_type": "code",
   "execution_count": 1,
   "metadata": {},
   "outputs": [],
   "source": [
    "import nupack as nu "
   ]
  },
  {
   "cell_type": "code",
   "execution_count": 25,
   "metadata": {},
   "outputs": [
    {
     "data": {
      "text/plain": [
       "12"
      ]
     },
     "execution_count": 25,
     "metadata": {},
     "output_type": "execute_result"
    }
   ],
   "source": [
    "nu.struc_distance('....((..(...+..)..)).....', '...(((((....+....)))))...')"
   ]
  },
  {
   "cell_type": "code",
   "execution_count": 31,
   "metadata": {},
   "outputs": [
    {
     "data": {
      "text/plain": [
       "3"
      ]
     },
     "execution_count": 31,
     "metadata": {},
     "output_type": "execute_result"
    }
   ],
   "source": [
    "nu.struc_distance('...(+...)', '..(.+...)')"
   ]
  },
  {
   "cell_type": "code",
   "execution_count": 21,
   "metadata": {},
   "outputs": [
    {
     "data": {
      "text/plain": [
       "0"
      ]
     },
     "execution_count": 21,
     "metadata": {},
     "output_type": "execute_result"
    }
   ],
   "source": []
  },
  {
   "cell_type": "code",
   "execution_count": null,
   "metadata": {},
   "outputs": [],
   "source": []
  }
 ],
 "metadata": {
  "kernelspec": {
   "display_name": "hdna",
   "language": "python",
   "name": "python3"
  },
  "language_info": {
   "codemirror_mode": {
    "name": "ipython",
    "version": 3
   },
   "file_extension": ".py",
   "mimetype": "text/x-python",
   "name": "python",
   "nbconvert_exporter": "python",
   "pygments_lexer": "ipython3",
   "version": "3.10.9 (main, Jan 11 2023, 15:21:40) [GCC 11.2.0]"
  },
  "orig_nbformat": 4,
  "vscode": {
   "interpreter": {
    "hash": "13f02c433cbffcd00bbcbbfeff349f4b7c28e9023d8fb9f65ab93bb104997abd"
   }
  }
 },
 "nbformat": 4,
 "nbformat_minor": 2
}
