{
 "cells": [
  {
   "cell_type": "code",
   "execution_count": 1,
   "metadata": {},
   "outputs": [],
   "source": [
    "%load_ext autoreload\n",
    "%autoreload 2\n",
    "\n",
    "import sys\n",
    "sys.path.append('../../')\n",
    "\n",
    "from hdna import * \n",
    "import nupack as nu\n",
    "import networkx as nx \n",
    "import pandas as pd \n",
    "\n",
    "pd.set_option('display.float_format', \n",
    "              lambda x: '%.3e' % x if float(x) > 5000 or float(x) < 0.01 and float(x) != 0 else ('%d' % x if x.is_integer() else '%.3f' % x))"
   ]
  },
  {
   "cell_type": "code",
   "execution_count": 33,
   "metadata": {},
   "outputs": [],
   "source": [
    "DIR = '/home/marco/Desktop/hDNA/optimization/tryout/run_1'\n",
    "\n",
    "# hyperp = pd.read_csv(f'{DIR}/hyperparameters.csv'); hyperp['values'][:-1].map(float)\n",
    "data = pd.read_csv(f'{DIR}/simulationdata.csv'); \n",
    "data['index'] = data.index\n",
    "data.drop('singlestranded', axis=1, inplace=True)\n",
    "data.drop('duplex', axis=1, inplace=True)\n",
    "try: data.drop('sequences.1', axis=1, inplace=True)\n",
    "except KeyError: pass\n",
    "try: data.drop('Unnamed: 5', axis=1, inplace=True)\n",
    "except KeyError: pass\n"
   ]
  },
  {
   "cell_type": "code",
   "execution_count": 36,
   "metadata": {},
   "outputs": [],
   "source": [
    "wrongones = data[data['off_nucleation'] == 0]"
   ]
  },
  {
   "cell_type": "code",
   "execution_count": 39,
   "metadata": {},
   "outputs": [],
   "source": [
    "dfsim = wrongones.copy()\n",
    "dfsim['index'] = wrongones.index \n",
    "dfsim.set_index(wrongones['sequences'], inplace=True)"
   ]
  },
  {
   "cell_type": "code",
   "execution_count": 42,
   "metadata": {},
   "outputs": [],
   "source": [
    "dfsim = dfsim[['sequences', 'experimental', 'index']]"
   ]
  },
  {
   "cell_type": "code",
   "execution_count": 43,
   "metadata": {},
   "outputs": [
    {
     "data": {
      "text/html": [
       "<div>\n",
       "<style scoped>\n",
       "    .dataframe tbody tr th:only-of-type {\n",
       "        vertical-align: middle;\n",
       "    }\n",
       "\n",
       "    .dataframe tbody tr th {\n",
       "        vertical-align: top;\n",
       "    }\n",
       "\n",
       "    .dataframe thead th {\n",
       "        text-align: right;\n",
       "    }\n",
       "</style>\n",
       "<table border=\"1\" class=\"dataframe\">\n",
       "  <thead>\n",
       "    <tr style=\"text-align: right;\">\n",
       "      <th></th>\n",
       "      <th>sequences</th>\n",
       "      <th>experimental</th>\n",
       "      <th>index</th>\n",
       "    </tr>\n",
       "    <tr>\n",
       "      <th>sequences</th>\n",
       "      <th></th>\n",
       "      <th></th>\n",
       "      <th></th>\n",
       "    </tr>\n",
       "  </thead>\n",
       "  <tbody>\n",
       "    <tr>\n",
       "      <th>GTTCGGTCTA</th>\n",
       "      <td>GTTCGGTCTA</td>\n",
       "      <td>1.146e+06</td>\n",
       "      <td>0</td>\n",
       "    </tr>\n",
       "    <tr>\n",
       "      <th>ACACCAAACC</th>\n",
       "      <td>ACACCAAACC</td>\n",
       "      <td>2.179e+06</td>\n",
       "      <td>4</td>\n",
       "    </tr>\n",
       "    <tr>\n",
       "      <th>CAACACCCAA</th>\n",
       "      <td>CAACACCCAA</td>\n",
       "      <td>2.512e+06</td>\n",
       "      <td>6</td>\n",
       "    </tr>\n",
       "    <tr>\n",
       "      <th>AAACCCACCA</th>\n",
       "      <td>AAACCCACCA</td>\n",
       "      <td>2.527e+06</td>\n",
       "      <td>7</td>\n",
       "    </tr>\n",
       "    <tr>\n",
       "      <th>ACAACACCAC</th>\n",
       "      <td>ACAACACCAC</td>\n",
       "      <td>2.559e+06</td>\n",
       "      <td>8</td>\n",
       "    </tr>\n",
       "    <tr>\n",
       "      <th>CAAAACCCCA</th>\n",
       "      <td>CAAAACCCCA</td>\n",
       "      <td>2.652e+06</td>\n",
       "      <td>9</td>\n",
       "    </tr>\n",
       "    <tr>\n",
       "      <th>AACCAACACC</th>\n",
       "      <td>AACCAACACC</td>\n",
       "      <td>2.656e+06</td>\n",
       "      <td>10</td>\n",
       "    </tr>\n",
       "    <tr>\n",
       "      <th>CCACCAACAA</th>\n",
       "      <td>CCACCAACAA</td>\n",
       "      <td>2.825e+06</td>\n",
       "      <td>13</td>\n",
       "    </tr>\n",
       "    <tr>\n",
       "      <th>GCTGTTCGGTCTAT</th>\n",
       "      <td>GCTGTTCGGTCTAT</td>\n",
       "      <td>1.042e+06</td>\n",
       "      <td>20</td>\n",
       "    </tr>\n",
       "    <tr>\n",
       "      <th>CAAAACCCCAACAC</th>\n",
       "      <td>CAAAACCCCAACAC</td>\n",
       "      <td>1.831e+06</td>\n",
       "      <td>23</td>\n",
       "    </tr>\n",
       "    <tr>\n",
       "      <th>AAACCACCCAACAC</th>\n",
       "      <td>AAACCACCCAACAC</td>\n",
       "      <td>2.746e+06</td>\n",
       "      <td>28</td>\n",
       "    </tr>\n",
       "  </tbody>\n",
       "</table>\n",
       "</div>"
      ],
      "text/plain": [
       "                     sequences  experimental  index\n",
       "sequences                                          \n",
       "GTTCGGTCTA          GTTCGGTCTA     1.146e+06      0\n",
       "ACACCAAACC          ACACCAAACC     2.179e+06      4\n",
       "CAACACCCAA          CAACACCCAA     2.512e+06      6\n",
       "AAACCCACCA          AAACCCACCA     2.527e+06      7\n",
       "ACAACACCAC          ACAACACCAC     2.559e+06      8\n",
       "CAAAACCCCA          CAAAACCCCA     2.652e+06      9\n",
       "AACCAACACC          AACCAACACC     2.656e+06     10\n",
       "CCACCAACAA          CCACCAACAA     2.825e+06     13\n",
       "GCTGTTCGGTCTAT  GCTGTTCGGTCTAT     1.042e+06     20\n",
       "CAAAACCCCAACAC  CAAAACCCCAACAC     1.831e+06     23\n",
       "AAACCACCCAACAC  AAACCACCCAACAC     2.746e+06     28"
      ]
     },
     "execution_count": 43,
     "metadata": {},
     "output_type": "execute_result"
    }
   ],
   "source": [
    "dfsim"
   ]
  },
  {
   "cell_type": "code",
   "execution_count": 44,
   "metadata": {},
   "outputs": [
    {
     "name": "stderr",
     "output_type": "stream",
     "text": [
      "GTTCGGTCTA:   0%|          | 0/11 [00:00<?, ?it/s]/home/marco/Desktop/hDNA/notebooks/2.1/../../hdna/hdna.py:61: SettingWithCopyWarning:\n",
      "\n",
      "\n",
      "A value is trying to be set on a copy of a slice from a DataFrame.\n",
      "Try using .loc[row_indexer,col_indexer] = value instead\n",
      "\n",
      "See the caveats in the documentation: https://pandas.pydata.org/pandas-docs/stable/user_guide/indexing.html#returning-a-view-versus-a-copy\n",
      "\n",
      "/home/marco/Desktop/hDNA/notebooks/2.1/../../hdna/hdna.py:63: SettingWithCopyWarning:\n",
      "\n",
      "\n",
      "A value is trying to be set on a copy of a slice from a DataFrame.\n",
      "Try using .loc[row_indexer,col_indexer] = value instead\n",
      "\n",
      "See the caveats in the documentation: https://pandas.pydata.org/pandas-docs/stable/user_guide/indexing.html#returning-a-view-versus-a-copy\n",
      "\n",
      "/home/marco/Desktop/hDNA/notebooks/2.1/../../hdna/hdna.py:63: SettingWithCopyWarning:\n",
      "\n",
      "\n",
      "A value is trying to be set on a copy of a slice from a DataFrame.\n",
      "Try using .loc[row_indexer,col_indexer] = value instead\n",
      "\n",
      "See the caveats in the documentation: https://pandas.pydata.org/pandas-docs/stable/user_guide/indexing.html#returning-a-view-versus-a-copy\n",
      "\n",
      "/home/marco/Desktop/hDNA/notebooks/2.1/../../hdna/hdna.py:63: SettingWithCopyWarning:\n",
      "\n",
      "\n",
      "A value is trying to be set on a copy of a slice from a DataFrame.\n",
      "Try using .loc[row_indexer,col_indexer] = value instead\n",
      "\n",
      "See the caveats in the documentation: https://pandas.pydata.org/pandas-docs/stable/user_guide/indexing.html#returning-a-view-versus-a-copy\n",
      "\n",
      "/home/marco/Desktop/hDNA/notebooks/2.1/../../hdna/hdna.py:63: SettingWithCopyWarning:\n",
      "\n",
      "\n",
      "A value is trying to be set on a copy of a slice from a DataFrame.\n",
      "Try using .loc[row_indexer,col_indexer] = value instead\n",
      "\n",
      "See the caveats in the documentation: https://pandas.pydata.org/pandas-docs/stable/user_guide/indexing.html#returning-a-view-versus-a-copy\n",
      "\n",
      "/home/marco/Desktop/hDNA/notebooks/2.1/../../hdna/hdna.py:63: SettingWithCopyWarning:\n",
      "\n",
      "\n",
      "A value is trying to be set on a copy of a slice from a DataFrame.\n",
      "Try using .loc[row_indexer,col_indexer] = value instead\n",
      "\n",
      "See the caveats in the documentation: https://pandas.pydata.org/pandas-docs/stable/user_guide/indexing.html#returning-a-view-versus-a-copy\n",
      "\n",
      "/home/marco/Desktop/hDNA/notebooks/2.1/../../hdna/hdna.py:63: SettingWithCopyWarning:\n",
      "\n",
      "\n",
      "A value is trying to be set on a copy of a slice from a DataFrame.\n",
      "Try using .loc[row_indexer,col_indexer] = value instead\n",
      "\n",
      "See the caveats in the documentation: https://pandas.pydata.org/pandas-docs/stable/user_guide/indexing.html#returning-a-view-versus-a-copy\n",
      "\n",
      "/home/marco/Desktop/hDNA/notebooks/2.1/../../hdna/hdna.py:63: SettingWithCopyWarning:\n",
      "\n",
      "\n",
      "A value is trying to be set on a copy of a slice from a DataFrame.\n",
      "Try using .loc[row_indexer,col_indexer] = value instead\n",
      "\n",
      "See the caveats in the documentation: https://pandas.pydata.org/pandas-docs/stable/user_guide/indexing.html#returning-a-view-versus-a-copy\n",
      "\n",
      "                                                               \r"
     ]
    },
    {
     "data": {
      "text/plain": [
       "20755899025198.832"
      ]
     },
     "execution_count": 44,
     "metadata": {},
     "output_type": "execute_result"
    }
   ],
   "source": [
    "MOD = Model()\n",
    "MOD.setparams(sliding_filter=2)\n",
    "\n",
    "H = HDNA(dfsim, 'fuckpandas', model=MOD)\n",
    "H.run([80000000.0, 10000000.0])"
   ]
  }
 ],
 "metadata": {
  "kernelspec": {
   "display_name": "hdna",
   "language": "python",
   "name": "python3"
  },
  "language_info": {
   "codemirror_mode": {
    "name": "ipython",
    "version": 3
   },
   "file_extension": ".py",
   "mimetype": "text/x-python",
   "name": "python",
   "nbconvert_exporter": "python",
   "pygments_lexer": "ipython3",
   "version": "3.10.9 (main, Jan 11 2023, 15:21:40) [GCC 11.2.0]"
  },
  "orig_nbformat": 4,
  "vscode": {
   "interpreter": {
    "hash": "13f02c433cbffcd00bbcbbfeff349f4b7c28e9023d8fb9f65ab93bb104997abd"
   }
  }
 },
 "nbformat": 4,
 "nbformat_minor": 2
}
