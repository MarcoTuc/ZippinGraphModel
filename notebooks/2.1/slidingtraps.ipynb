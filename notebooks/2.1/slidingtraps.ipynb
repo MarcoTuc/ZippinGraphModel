{
 "cells": [
  {
   "cell_type": "code",
   "execution_count": 63,
   "metadata": {},
   "outputs": [
    {
     "name": "stdout",
     "output_type": "stream",
     "text": [
      "The autoreload extension is already loaded. To reload it, use:\n",
      "  %reload_ext autoreload\n"
     ]
    }
   ],
   "source": [
    "%load_ext autoreload\n",
    "%autoreload 2\n",
    "\n",
    "import sys\n",
    "sys.path.append('../../')\n",
    "\n",
    "from hdna import * \n",
    "import nupack as nu\n",
    "import networkx as nx \n",
    "import pandas as pd \n",
    "\n",
    "pd.set_option('display.float_format', \n",
    "              lambda x: '%.3e' % x if float(x) > 5000 or float(x) < 0.01 and float(x) != 0 else ('%d' % x if x.is_integer() else '%.3f' % x))"
   ]
  },
  {
   "cell_type": "code",
   "execution_count": 68,
   "metadata": {},
   "outputs": [],
   "source": [
    "model = Model(standard=True)\n",
    "s1 = Strand(model, \"AAACCACACA\")\n",
    "s2 = s1.complementary()\n",
    "C = Chamber(model, s1, s2)\n",
    "S = Simulator(model, s1, s2)"
   ]
  },
  {
   "cell_type": "code",
   "execution_count": 82,
   "metadata": {},
   "outputs": [
    {
     "name": "stdout",
     "output_type": "stream",
     "text": [
      "AAACCACACA+TGTGTGGTTT\n",
      "(.........+).........\n",
      "AAACCACACA+TGTGTGGTTT\n",
      "(.........+..).......\n",
      "AAACCACACA+TGTGTGGTTT\n",
      "(.........+....).....\n",
      "AAACCACACA+TGTGTGGTTT\n",
      "(.........+.......)..\n",
      "AAACCACACA+TGTGTGGTTT\n",
      "(.........+........).\n",
      "AAACCACACA+TGTGTGGTTT\n",
      ".(........+).........\n",
      "AAACCACACA+TGTGTGGTTT\n",
      ".(........+..).......\n",
      "AAACCACACA+TGTGTGGTTT\n",
      ".(........+....).....\n",
      "AAACCACACA+TGTGTGGTTT\n",
      ".(........+.......)..\n",
      "AAACCACACA+TGTGTGGTTT\n",
      ".(........+.........)\n",
      "AAACCACACA+TGTGTGGTTT\n",
      "..(.......+).........\n",
      "AAACCACACA+TGTGTGGTTT\n",
      "..(.......+..).......\n",
      "AAACCACACA+TGTGTGGTTT\n",
      "..(.......+....).....\n",
      "AAACCACACA+TGTGTGGTTT\n",
      "..(.......+........).\n",
      "AAACCACACA+TGTGTGGTTT\n",
      "..(.......+.........)\n",
      "AAACCACACA+TGTGTGGTTT\n",
      "...(......+.)........\n",
      "AAACCACACA+TGTGTGGTTT\n",
      "...(......+...)......\n",
      "AAACCACACA+TGTGTGGTTT\n",
      "...(......+.....)....\n",
      "AAACCACACA+TGTGTGGTTT\n",
      "....(.....+.)........\n",
      "AAACCACACA+TGTGTGGTTT\n",
      "....(.....+...)......\n",
      "AAACCACACA+TGTGTGGTTT\n",
      "....(.....+......)...\n",
      "AAACCACACA+TGTGTGGTTT\n",
      ".....(....+).........\n",
      "AAACCACACA+TGTGTGGTTT\n",
      ".....(....+..).......\n",
      "AAACCACACA+TGTGTGGTTT\n",
      ".....(....+.......)..\n",
      "AAACCACACA+TGTGTGGTTT\n",
      ".....(....+........).\n",
      "AAACCACACA+TGTGTGGTTT\n",
      ".....(....+.........)\n",
      "AAACCACACA+TGTGTGGTTT\n",
      "......(...+.)........\n",
      "AAACCACACA+TGTGTGGTTT\n",
      "......(...+.....)....\n",
      "AAACCACACA+TGTGTGGTTT\n",
      "......(...+......)...\n",
      "AAACCACACA+TGTGTGGTTT\n",
      ".......(..+).........\n",
      "AAACCACACA+TGTGTGGTTT\n",
      ".......(..+....).....\n",
      "AAACCACACA+TGTGTGGTTT\n",
      ".......(..+.......)..\n",
      "AAACCACACA+TGTGTGGTTT\n",
      ".......(..+........).\n",
      "AAACCACACA+TGTGTGGTTT\n",
      ".......(..+.........)\n",
      "AAACCACACA+TGTGTGGTTT\n",
      "........(.+...)......\n",
      "AAACCACACA+TGTGTGGTTT\n",
      "........(.+.....)....\n",
      "AAACCACACA+TGTGTGGTTT\n",
      "........(.+......)...\n",
      "AAACCACACA+TGTGTGGTTT\n",
      ".........(+..).......\n",
      "AAACCACACA+TGTGTGGTTT\n",
      ".........(+....).....\n",
      "AAACCACACA+TGTGTGGTTT\n",
      ".........(+.......)..\n",
      "AAACCACACA+TGTGTGGTTT\n",
      ".........(+........).\n",
      "AAACCACACA+TGTGTGGTTT\n",
      ".........(+.........)\n"
     ]
    }
   ],
   "source": [
    "S.kinet.get_traps()"
   ]
  },
  {
   "cell_type": "code",
   "execution_count": 84,
   "metadata": {},
   "outputs": [],
   "source": [
    "S.kinet.save_graph('.')"
   ]
  },
  {
   "cell_type": "code",
   "execution_count": null,
   "metadata": {},
   "outputs": [],
   "source": [
    "def addpar(string, i, char):\n",
    "    return string[:i] + char + string[i+1:]"
   ]
  },
  {
   "cell_type": "code",
   "execution_count": null,
   "metadata": {},
   "outputs": [
    {
     "name": "stdout",
     "output_type": "stream",
     "text": [
      "GTTCGGTCTA+TAGACCGAAC\n",
      "(.........+....).....\n",
      "GTTCGGTCTA+TAGACCGAAC\n",
      "(.........+.....)....\n",
      "GTTCGGTCTA+TAGACCGAAC\n",
      ".(........+.)........\n",
      "GTTCGGTCTA+TAGACCGAAC\n",
      ".(........+...)......\n",
      "GTTCGGTCTA+TAGACCGAAC\n",
      ".(........+.......)..\n",
      "GTTCGGTCTA+TAGACCGAAC\n",
      "..(.......+.)........\n",
      "GTTCGGTCTA+TAGACCGAAC\n",
      "..(.......+...)......\n",
      "GTTCGGTCTA+TAGACCGAAC\n",
      "..(.......+........).\n",
      "GTTCGGTCTA+TAGACCGAAC\n",
      "...(......+..).......\n",
      "GTTCGGTCTA+TAGACCGAAC\n",
      "....(.....+....).....\n",
      "GTTCGGTCTA+TAGACCGAAC\n",
      "....(.....+.........)\n",
      "GTTCGGTCTA+TAGACCGAAC\n",
      ".....(....+.....)....\n",
      "GTTCGGTCTA+TAGACCGAAC\n",
      ".....(....+.........)\n",
      "GTTCGGTCTA+TAGACCGAAC\n",
      "......(...+.)........\n",
      "GTTCGGTCTA+TAGACCGAAC\n",
      "......(...+.......)..\n",
      "GTTCGGTCTA+TAGACCGAAC\n",
      "......(...+........).\n",
      "GTTCGGTCTA+TAGACCGAAC\n",
      ".......(..+......)...\n",
      "GTTCGGTCTA+TAGACCGAAC\n",
      "........(.+...)......\n",
      "GTTCGGTCTA+TAGACCGAAC\n",
      "........(.+.......)..\n",
      "GTTCGGTCTA+TAGACCGAAC\n",
      "........(.+........).\n"
     ]
    }
   ],
   "source": [
    "a  = 'GTTCGGTCTA'\n",
    "b  = 'CAAGCCAGAT'[::-1]\n",
    "wc = {'A': 'T', 'T': 'A', 'C': 'G', 'G': 'C'}\n",
    "ss = '..........'\n",
    "sab = '+'.join([a,b])\n",
    "traps = []\n",
    "for i, e1 in enumerate(a):\n",
    "    for j, e2 in enumerate(b):\n",
    "        if e1 == wc[e2]:\n",
    "            if i+j != len(ss)-1:\n",
    "                l = addpar(ss, i, '(')\n",
    "                r = addpar(ss, j, ')')\n",
    "                print(sab)\n",
    "                print('+'.join([l,r]))\n",
    "                traps.append('+'.join([l,r]))\n"
   ]
  },
  {
   "cell_type": "code",
   "execution_count": null,
   "metadata": {},
   "outputs": [],
   "source": [
    "model.setparams(sliding_filter=1)"
   ]
  },
  {
   "cell_type": "code",
   "execution_count": null,
   "metadata": {},
   "outputs": [
    {
     "name": "stdout",
     "output_type": "stream",
     "text": [
      "ACATTG+TGTAAC\n",
      "(.....+...)..\n",
      "ACATTG+TGTAAC\n",
      "...(..+.)....\n",
      "ACATTG+TGTAAC\n",
      "....(.+..)...\n",
      "ACATTG+TGTAAC\n",
      "..(...+.....)\n"
     ]
    }
   ],
   "source": [
    "C = Chamber(model, Strand(model,a), Strand(model,b))\n",
    "for c in C.slidings:\n",
    "    print(sab)\n",
    "    print(c.structure)"
   ]
  },
  {
   "cell_type": "code",
   "execution_count": null,
   "metadata": {},
   "outputs": [],
   "source": []
  }
 ],
 "metadata": {
  "kernelspec": {
   "display_name": "hdna",
   "language": "python",
   "name": "python3"
  },
  "language_info": {
   "codemirror_mode": {
    "name": "ipython",
    "version": 3
   },
   "file_extension": ".py",
   "mimetype": "text/x-python",
   "name": "python",
   "nbconvert_exporter": "python",
   "pygments_lexer": "ipython3",
   "version": "3.10.9"
  },
  "orig_nbformat": 4,
  "vscode": {
   "interpreter": {
    "hash": "13f02c433cbffcd00bbcbbfeff349f4b7c28e9023d8fb9f65ab93bb104997abd"
   }
  }
 },
 "nbformat": 4,
 "nbformat_minor": 2
}
