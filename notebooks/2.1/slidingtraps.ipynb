{
 "cells": [
  {
   "cell_type": "code",
   "execution_count": 2,
   "metadata": {},
   "outputs": [],
   "source": [
    "%load_ext autoreload\n",
    "%autoreload 2\n",
    "\n",
    "import sys\n",
    "sys.path.append('../../')\n",
    "\n",
    "from hdna import * \n",
    "import nupack as nu\n",
    "import networkx as nx \n",
    "import pandas as pd \n",
    "\n",
    "pd.set_option('display.float_format', \n",
    "              lambda x: '%.3e' % x if float(x) > 5000 or float(x) < 0.01 and float(x) != 0 else ('%d' % x if x.is_integer() else '%.3f' % x))"
   ]
  },
  {
   "cell_type": "code",
   "execution_count": 3,
   "metadata": {},
   "outputs": [],
   "source": [
    "model = Model(standard=True)\n",
    "s1 = Strand(model, \"AAACCACACA\")\n",
    "s2 = s1.complementary()\n",
    "C = Chamber(model, s1, s2)\n",
    "S = Simulator(model, s1, s2)"
   ]
  },
  {
   "cell_type": "code",
   "execution_count": 4,
   "metadata": {},
   "outputs": [
    {
     "name": "stdout",
     "output_type": "stream",
     "text": [
      "AAACCACACA+TGTGTGGTTT\n",
      "(.........+).........\n",
      "AAACCACACA+TGTGTGGTTT\n",
      "(.........+..).......\n",
      "AAACCACACA+TGTGTGGTTT\n",
      "(.........+....).....\n",
      "AAACCACACA+TGTGTGGTTT\n",
      "(.........+.......)..\n",
      "AAACCACACA+TGTGTGGTTT\n",
      "(.........+........).\n",
      "AAACCACACA+TGTGTGGTTT\n",
      ".(........+).........\n",
      "AAACCACACA+TGTGTGGTTT\n",
      ".(........+..).......\n",
      "AAACCACACA+TGTGTGGTTT\n",
      ".(........+....).....\n",
      "AAACCACACA+TGTGTGGTTT\n",
      ".(........+.......)..\n",
      "AAACCACACA+TGTGTGGTTT\n",
      ".(........+.........)\n",
      "AAACCACACA+TGTGTGGTTT\n",
      "..(.......+).........\n",
      "AAACCACACA+TGTGTGGTTT\n",
      "..(.......+..).......\n",
      "AAACCACACA+TGTGTGGTTT\n",
      "..(.......+....).....\n",
      "AAACCACACA+TGTGTGGTTT\n",
      "..(.......+........).\n",
      "AAACCACACA+TGTGTGGTTT\n",
      "..(.......+.........)\n",
      "AAACCACACA+TGTGTGGTTT\n",
      "...(......+.)........\n",
      "AAACCACACA+TGTGTGGTTT\n",
      "...(......+...)......\n",
      "AAACCACACA+TGTGTGGTTT\n",
      "...(......+.....)....\n",
      "AAACCACACA+TGTGTGGTTT\n",
      "....(.....+.)........\n",
      "AAACCACACA+TGTGTGGTTT\n",
      "....(.....+...)......\n",
      "AAACCACACA+TGTGTGGTTT\n",
      "....(.....+......)...\n",
      "AAACCACACA+TGTGTGGTTT\n",
      ".....(....+).........\n",
      "AAACCACACA+TGTGTGGTTT\n",
      ".....(....+..).......\n",
      "AAACCACACA+TGTGTGGTTT\n",
      ".....(....+.......)..\n",
      "AAACCACACA+TGTGTGGTTT\n",
      ".....(....+........).\n",
      "AAACCACACA+TGTGTGGTTT\n",
      ".....(....+.........)\n",
      "AAACCACACA+TGTGTGGTTT\n",
      "......(...+.)........\n",
      "AAACCACACA+TGTGTGGTTT\n",
      "......(...+.....)....\n",
      "AAACCACACA+TGTGTGGTTT\n",
      "......(...+......)...\n",
      "AAACCACACA+TGTGTGGTTT\n",
      ".......(..+).........\n",
      "AAACCACACA+TGTGTGGTTT\n",
      ".......(..+....).....\n",
      "AAACCACACA+TGTGTGGTTT\n",
      ".......(..+.......)..\n",
      "AAACCACACA+TGTGTGGTTT\n",
      ".......(..+........).\n",
      "AAACCACACA+TGTGTGGTTT\n",
      ".......(..+.........)\n",
      "AAACCACACA+TGTGTGGTTT\n",
      "........(.+...)......\n",
      "AAACCACACA+TGTGTGGTTT\n",
      "........(.+.....)....\n",
      "AAACCACACA+TGTGTGGTTT\n",
      "........(.+......)...\n",
      "AAACCACACA+TGTGTGGTTT\n",
      ".........(+..).......\n",
      "AAACCACACA+TGTGTGGTTT\n",
      ".........(+....).....\n",
      "AAACCACACA+TGTGTGGTTT\n",
      ".........(+.......)..\n",
      "AAACCACACA+TGTGTGGTTT\n",
      ".........(+........).\n",
      "AAACCACACA+TGTGTGGTTT\n",
      ".........(+.........)\n"
     ]
    }
   ],
   "source": [
    "S.kinet.get_traps()"
   ]
  },
  {
   "cell_type": "code",
   "execution_count": 5,
   "metadata": {},
   "outputs": [],
   "source": [
    "S.kinet.save_graph('.')"
   ]
  },
  {
   "cell_type": "code",
   "execution_count": 6,
   "metadata": {},
   "outputs": [],
   "source": [
    "def addpar(string, i, char):\n",
    "    return string[:i] + char + string[i+1:]"
   ]
  },
  {
   "cell_type": "code",
   "execution_count": 7,
   "metadata": {},
   "outputs": [
    {
     "name": "stdout",
     "output_type": "stream",
     "text": [
      "GTTCGGTCTA+TAGACCGAAC\n",
      "(.........+....).....\n",
      "GTTCGGTCTA+TAGACCGAAC\n",
      "(.........+.....)....\n",
      "GTTCGGTCTA+TAGACCGAAC\n",
      ".(........+.)........\n",
      "GTTCGGTCTA+TAGACCGAAC\n",
      ".(........+...)......\n",
      "GTTCGGTCTA+TAGACCGAAC\n",
      ".(........+.......)..\n",
      "GTTCGGTCTA+TAGACCGAAC\n",
      "..(.......+.)........\n",
      "GTTCGGTCTA+TAGACCGAAC\n",
      "..(.......+...)......\n",
      "GTTCGGTCTA+TAGACCGAAC\n",
      "..(.......+........).\n",
      "GTTCGGTCTA+TAGACCGAAC\n",
      "...(......+..).......\n",
      "GTTCGGTCTA+TAGACCGAAC\n",
      "....(.....+....).....\n",
      "GTTCGGTCTA+TAGACCGAAC\n",
      "....(.....+.........)\n",
      "GTTCGGTCTA+TAGACCGAAC\n",
      ".....(....+.....)....\n",
      "GTTCGGTCTA+TAGACCGAAC\n",
      ".....(....+.........)\n",
      "GTTCGGTCTA+TAGACCGAAC\n",
      "......(...+.)........\n",
      "GTTCGGTCTA+TAGACCGAAC\n",
      "......(...+.......)..\n",
      "GTTCGGTCTA+TAGACCGAAC\n",
      "......(...+........).\n",
      "GTTCGGTCTA+TAGACCGAAC\n",
      ".......(..+......)...\n",
      "GTTCGGTCTA+TAGACCGAAC\n",
      "........(.+...)......\n",
      "GTTCGGTCTA+TAGACCGAAC\n",
      "........(.+.......)..\n",
      "GTTCGGTCTA+TAGACCGAAC\n",
      "........(.+........).\n"
     ]
    }
   ],
   "source": [
    "a  = 'GTTCGGTCTA'\n",
    "b  = 'CAAGCCAGAT'[::-1]\n",
    "wc = {'A': 'T', 'T': 'A', 'C': 'G', 'G': 'C'}\n",
    "ss = '..........'\n",
    "sab = '+'.join([a,b])\n",
    "traps = []\n",
    "for i, e1 in enumerate(a):\n",
    "    for j, e2 in enumerate(b):\n",
    "        if e1 == wc[e2]:\n",
    "            if i+j != len(ss)-1:\n",
    "                l = addpar(ss, i, '(')\n",
    "                r = addpar(ss, j, ')')\n",
    "                print(sab)\n",
    "                print('+'.join([l,r]))\n",
    "                traps.append('+'.join([l,r]))\n"
   ]
  },
  {
   "cell_type": "code",
   "execution_count": 8,
   "metadata": {},
   "outputs": [],
   "source": [
    "model.setparams(sliding_filter=1)"
   ]
  },
  {
   "cell_type": "code",
   "execution_count": 9,
   "metadata": {},
   "outputs": [
    {
     "ename": "RuntimeError",
     "evalue": "C++: : \"Invalid secondary structure for the given energy model\" (StaticState.h, line 87)\nsequences = GTTCGGTCTA+CAAGCCAGAT\ndotparens = ((((((((((+))))))))))\nstrand1 = 0\nstrand2 = 1\nindex1 = 0\nindex2 = 9\nbase1 = g\nbase2 = t\n",
     "output_type": "error",
     "traceback": [
      "\u001b[0;31m---------------------------------------------------------------------------\u001b[0m",
      "\u001b[0;31mRuntimeError\u001b[0m                              Traceback (most recent call last)",
      "Cell \u001b[0;32mIn[9], line 1\u001b[0m\n\u001b[0;32m----> 1\u001b[0m C \u001b[39m=\u001b[39m Chamber(model, Strand(model,a), Strand(model,b))\n\u001b[1;32m      2\u001b[0m \u001b[39mfor\u001b[39;00m c \u001b[39min\u001b[39;00m C\u001b[39m.\u001b[39mslidings:\n\u001b[1;32m      3\u001b[0m     \u001b[39mprint\u001b[39m(sab)\n",
      "File \u001b[0;32m~/Desktop/hDNA/notebooks/2.1/../../hdna/chamber.py:27\u001b[0m, in \u001b[0;36mChamber.__init__\u001b[0;34m(self, model, s1, s2)\u001b[0m\n\u001b[1;32m     24\u001b[0m \u001b[39m#TODO: generalize the minimum nucleation size, right now it is just 3\u001b[39;00m\n\u001b[1;32m     26\u001b[0m \u001b[39m\u001b[39m\u001b[39m\"\"\" General Slidings \"\"\"\u001b[39;00m\n\u001b[0;32m---> 27\u001b[0m \u001b[39mself\u001b[39;49m\u001b[39m.\u001b[39;49mcompute_slidings()\n\u001b[1;32m     29\u001b[0m \u001b[39m\u001b[39m\u001b[39m\"\"\" On-Register Nucleation Cores \"\"\"\u001b[39;00m\n\u001b[1;32m     30\u001b[0m \u001b[39mself\u001b[39m\u001b[39m.\u001b[39mcompute_oncores()\n",
      "File \u001b[0;32m~/Desktop/hDNA/notebooks/2.1/../../hdna/chamber.py:70\u001b[0m, in \u001b[0;36mChamber.compute_slidings\u001b[0;34m(self, verbose)\u001b[0m\n\u001b[1;32m     68\u001b[0m fullstructure \u001b[39m=\u001b[39m \u001b[39m\"\u001b[39m\u001b[39m(\u001b[39m\u001b[39m\"\u001b[39m\u001b[39m*\u001b[39m\u001b[39mself\u001b[39m\u001b[39m.\u001b[39ms1\u001b[39m.\u001b[39mlength\u001b[39m+\u001b[39m\u001b[39m\"\u001b[39m\u001b[39m+\u001b[39m\u001b[39m\"\u001b[39m\u001b[39m+\u001b[39m\u001b[39m\"\u001b[39m\u001b[39m)\u001b[39m\u001b[39m\"\u001b[39m\u001b[39m*\u001b[39m\u001b[39mself\u001b[39m\u001b[39m.\u001b[39ms2\u001b[39m.\u001b[39mlength\n\u001b[1;32m     69\u001b[0m \u001b[39mif\u001b[39;00m verbose: \u001b[39mprint\u001b[39m(fullstructure)\n\u001b[0;32m---> 70\u001b[0m \u001b[39mself\u001b[39m\u001b[39m.\u001b[39mduplex \u001b[39m=\u001b[39m Complex(\u001b[39mself\u001b[39;49m\u001b[39m.\u001b[39;49mmodel, \u001b[39mself\u001b[39;49m\u001b[39m.\u001b[39;49ms1, \u001b[39mself\u001b[39;49m\u001b[39m.\u001b[39;49ms2, state\u001b[39m=\u001b[39;49m\u001b[39m'\u001b[39;49m\u001b[39mduplex\u001b[39;49m\u001b[39m'\u001b[39;49m, structure\u001b[39m=\u001b[39;49mfullstructure, dpxdist\u001b[39m=\u001b[39;49m\u001b[39m0\u001b[39;49m)\n\u001b[1;32m     71\u001b[0m \u001b[39mfor\u001b[39;00m b \u001b[39min\u001b[39;00m \u001b[39mrange\u001b[39m(\u001b[39m1\u001b[39m, \u001b[39mself\u001b[39m\u001b[39m.\u001b[39ms1\u001b[39m.\u001b[39mlength \u001b[39m-\u001b[39m \u001b[39mself\u001b[39m\u001b[39m.\u001b[39mmin_nucleation \u001b[39m+\u001b[39m \u001b[39m1\u001b[39m):\n\u001b[1;32m     72\u001b[0m     slidingstruct \u001b[39m=\u001b[39m \u001b[39m\"\u001b[39m\u001b[39m.\u001b[39m\u001b[39m\"\u001b[39m\u001b[39m*\u001b[39mb\u001b[39m+\u001b[39m\u001b[39m\"\u001b[39m\u001b[39mì\u001b[39m\u001b[39m\"\u001b[39m\u001b[39m*\u001b[39m(\u001b[39mself\u001b[39m\u001b[39m.\u001b[39ms1\u001b[39m.\u001b[39mlength\u001b[39m-\u001b[39mb)\n",
      "File \u001b[0;32m~/Desktop/hDNA/notebooks/2.1/../../hdna/complex.py:49\u001b[0m, in \u001b[0;36mComplex.__init__\u001b[0;34m(self, model, s1, s2, state, structure, dpxdist, clean)\u001b[0m\n\u001b[1;32m     47\u001b[0m \u001b[39m# self.getnupackproperties()\u001b[39;00m\n\u001b[1;32m     48\u001b[0m \u001b[39mif\u001b[39;00m \u001b[39mnot\u001b[39;00m clean:\n\u001b[0;32m---> 49\u001b[0m     \u001b[39mself\u001b[39;49m\u001b[39m.\u001b[39;49mstructureG(\u001b[39mself\u001b[39;49m\u001b[39m.\u001b[39;49mstructure)        \n\u001b[1;32m     51\u001b[0m \u001b[39mself\u001b[39m\u001b[39m.\u001b[39mpossible_states \u001b[39m=\u001b[39m [ \u001b[39mNone\u001b[39;00m,\n\u001b[1;32m     52\u001b[0m                     \u001b[39m'\u001b[39m\u001b[39msinglestranded\u001b[39m\u001b[39m'\u001b[39m,\n\u001b[1;32m     53\u001b[0m                     \u001b[39m'\u001b[39m\u001b[39mduplex\u001b[39m\u001b[39m'\u001b[39m,\n\u001b[0;32m   (...)\u001b[0m\n\u001b[1;32m     57\u001b[0m                     \u001b[39m'\u001b[39m\u001b[39mbackfray\u001b[39m\u001b[39m'\u001b[39m,\n\u001b[1;32m     58\u001b[0m                     \u001b[39m'\u001b[39m\u001b[39msliding\u001b[39m\u001b[39m'\u001b[39m ]   \n\u001b[1;32m     61\u001b[0m \u001b[39mif\u001b[39;00m state \u001b[39mnot\u001b[39;00m \u001b[39min\u001b[39;00m \u001b[39mself\u001b[39m\u001b[39m.\u001b[39mpossible_states:\n",
      "File \u001b[0;32m~/Desktop/hDNA/notebooks/2.1/../../hdna/complex.py:132\u001b[0m, in \u001b[0;36mComplex.structureG\u001b[0;34m(self, structure)\u001b[0m\n\u001b[1;32m    130\u001b[0m nuStrand2 \u001b[39m=\u001b[39m nu\u001b[39m.\u001b[39mStrand(\u001b[39mself\u001b[39m\u001b[39m.\u001b[39ms2\u001b[39m.\u001b[39msequence, name \u001b[39m=\u001b[39m \u001b[39m'\u001b[39m\u001b[39mb\u001b[39m\u001b[39m'\u001b[39m) \u001b[39m# An inversion here is needed because in this program strands are defined as 5-3 against 3-5 but in NUPACK all strands are defined 5-3 and the program takes care to turn them around and so on\u001b[39;00m\n\u001b[1;32m    131\u001b[0m nuStructure \u001b[39m=\u001b[39m nu\u001b[39m.\u001b[39mStructure(structure)\n\u001b[0;32m--> 132\u001b[0m dG \u001b[39m=\u001b[39m nu\u001b[39m.\u001b[39;49mstructure_energy(strands\u001b[39m=\u001b[39;49m[nuStrand1,nuStrand2], structure\u001b[39m=\u001b[39;49mnuStructure, model\u001b[39m=\u001b[39;49m\u001b[39mself\u001b[39;49m\u001b[39m.\u001b[39;49mmodel\u001b[39m.\u001b[39;49mnupack)\n\u001b[1;32m    133\u001b[0m \u001b[39mself\u001b[39m\u001b[39m.\u001b[39mG \u001b[39m=\u001b[39m dG\n\u001b[1;32m    134\u001b[0m \u001b[39mreturn\u001b[39;00m dG\n",
      "File \u001b[0;32m~/miniconda3/envs/hdna/lib/python3.10/site-packages/nupack/model.py:261\u001b[0m, in \u001b[0;36mstructure_energy\u001b[0;34m(strands, structure, model, distinguishable)\u001b[0m\n\u001b[1;32m    259\u001b[0m \u001b[39m\u001b[39m\u001b[39m'''Free energy of a given secondary structure in (kcal/mol)'''\u001b[39;00m\n\u001b[1;32m    260\u001b[0m check_instance(model, Model)\n\u001b[0;32m--> 261\u001b[0m \u001b[39mreturn\u001b[39;00m model\u001b[39m.\u001b[39;49mstructure_energy(strands, structure, distinguishable)\n",
      "File \u001b[0;32m~/miniconda3/envs/hdna/lib/python3.10/site-packages/nupack/rebind/render.py:238\u001b[0m, in \u001b[0;36mrender_function.<locals>.wrap\u001b[0;34m(_orig, _bind, _old, *args, **kwargs)\u001b[0m\n\u001b[1;32m    236\u001b[0m bound \u001b[39m=\u001b[39m _bind(\u001b[39m*\u001b[39margs, \u001b[39m*\u001b[39m\u001b[39m*\u001b[39mkwargs)\n\u001b[1;32m    237\u001b[0m bound\u001b[39m.\u001b[39mapply_defaults()\n\u001b[0;32m--> 238\u001b[0m \u001b[39mreturn\u001b[39;00m _old(\u001b[39m*\u001b[39;49mbound\u001b[39m.\u001b[39;49margs, _fun_\u001b[39m=\u001b[39;49m_orig, \u001b[39m*\u001b[39;49m\u001b[39m*\u001b[39;49mbound\u001b[39m.\u001b[39;49mkwargs)\n",
      "File \u001b[0;32m~/miniconda3/envs/hdna/lib/python3.10/site-packages/nupack/model.py:235\u001b[0m, in \u001b[0;36mModel.structure_energy\u001b[0;34m(self, strands, structure, distinguishable, _fun_)\u001b[0m\n\u001b[1;32m    233\u001b[0m \u001b[39mif\u001b[39;00m \u001b[39mself\u001b[39m\u001b[39m.\u001b[39mmaterial \u001b[39m==\u001b[39m \u001b[39m'\u001b[39m\u001b[39mDNA/RNA\u001b[39m\u001b[39m'\u001b[39m \u001b[39mand\u001b[39;00m \u001b[39misinstance\u001b[39m(strands, Complex):\n\u001b[1;32m    234\u001b[0m     strands \u001b[39m=\u001b[39m standardize_alphabet([strands], \u001b[39mself\u001b[39m\u001b[39m.\u001b[39malphabet())[\u001b[39m0\u001b[39m]\n\u001b[0;32m--> 235\u001b[0m \u001b[39mreturn\u001b[39;00m _fun_(\u001b[39mself\u001b[39;49m, SequenceList(strands, alphabet \u001b[39m=\u001b[39;49m \u001b[39mself\u001b[39;49m\u001b[39m.\u001b[39;49malphabet()), PairList(structure), distinguishable)\u001b[39m.\u001b[39mcast(\u001b[39mfloat\u001b[39m)\n",
      "\u001b[0;31mRuntimeError\u001b[0m: C++: : \"Invalid secondary structure for the given energy model\" (StaticState.h, line 87)\nsequences = GTTCGGTCTA+CAAGCCAGAT\ndotparens = ((((((((((+))))))))))\nstrand1 = 0\nstrand2 = 1\nindex1 = 0\nindex2 = 9\nbase1 = g\nbase2 = t\n"
     ]
    }
   ],
   "source": [
    "C = Chamber(model, Strand(model,a), Strand(model,b))\n",
    "for c in C.slidings:\n",
    "    print(sab)\n",
    "    print(c.structure)"
   ]
  },
  {
   "cell_type": "code",
   "execution_count": null,
   "metadata": {},
   "outputs": [],
   "source": []
  }
 ],
 "metadata": {
  "kernelspec": {
   "display_name": "hdna",
   "language": "python",
   "name": "python3"
  },
  "language_info": {
   "codemirror_mode": {
    "name": "ipython",
    "version": 3
   },
   "file_extension": ".py",
   "mimetype": "text/x-python",
   "name": "python",
   "nbconvert_exporter": "python",
   "pygments_lexer": "ipython3",
   "version": "3.10.9"
  },
  "orig_nbformat": 4,
  "vscode": {
   "interpreter": {
    "hash": "13f02c433cbffcd00bbcbbfeff349f4b7c28e9023d8fb9f65ab93bb104997abd"
   }
  }
 },
 "nbformat": 4,
 "nbformat_minor": 2
}
