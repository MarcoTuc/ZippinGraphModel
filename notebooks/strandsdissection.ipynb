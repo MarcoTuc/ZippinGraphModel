{
 "cells": [
  {
   "cell_type": "code",
   "execution_count": 1,
   "metadata": {},
   "outputs": [],
   "source": [
    "%load_ext autoreload\n",
    "%autoreload 2"
   ]
  },
  {
   "cell_type": "code",
   "execution_count": 2,
   "metadata": {},
   "outputs": [],
   "source": [
    "import sys \n",
    "sys.path.append('..')\n",
    "\n",
    "from hdna import *"
   ]
  },
  {
   "cell_type": "code",
   "execution_count": 3,
   "metadata": {},
   "outputs": [],
   "source": [
    "MOD = Model(\n",
    "    stacking='nostacking',\n",
    "    min_nucleation=1)\n",
    "MOD.setgeometry(theta=120, phi = 270)\n",
    "MOD.setparams(zipping=7.6e7, sliding=2e5)\n",
    "MOD.alpha = 1\n",
    "MOD.gamma = 0\n",
    "MOD.kappa = 1"
   ]
  },
  {
   "cell_type": "code",
   "execution_count": 5,
   "metadata": {},
   "outputs": [
    {
     "name": "stdout",
     "output_type": "stream",
     "text": [
      "null pseudoknottingoverlap\n",
      "sum fwd 38000000.0\n",
      "((((((((((....+)))))))))).... 3.800e+07 0.000e+00 -15.429\n",
      "pseudoknotting overlap: 0.06892679515627409\n",
      "fwdpseudoknot 5.238e+06\n",
      "sum fwd 24238436.43187683\n",
      "((((((........+))))))........ 2.424e+07 0.000e+00 -8.739\n",
      "pseudoknotting overlap: 0.19593572764721456\n",
      "fwdpseudoknot 2.196e+05\n",
      "sum fwd 406360.41828753665\n",
      "((............+))............ 4.064e+05 0.000e+00 -2.049\n",
      "pseudoknotting overlap: 0.19593572764721456\n",
      "fwdpseudoknot 2.196e+05\n",
      "sum fwd 406360.41828753665\n",
      "............((+............)) 4.064e+05 0.000e+00 -2.049\n",
      "pseudoknotting overlap: 0.06892679515627409\n",
      "fwdpseudoknot 5.238e+06\n",
      "sum fwd 24238436.43187683\n",
      "........((((((+........)))))) 2.424e+07 0.000e+00 -8.739\n",
      "null pseudoknottingoverlap\n",
      "sum fwd 38000000.0\n",
      "....((((((((((+....)))))))))) 3.800e+07 0.000e+00 -15.429\n"
     ]
    },
    {
     "name": "stderr",
     "output_type": "stream",
     "text": [
      "                                                               "
     ]
    },
    {
     "name": "stdout",
     "output_type": "stream",
     "text": [
      "0 simulations didn't produce a duplex.\n",
      "That's 0.0% of simulations\n",
      "4.155e+06\n"
     ]
    },
    {
     "name": "stderr",
     "output_type": "stream",
     "text": [
      "\r"
     ]
    }
   ],
   "source": [
    "A = Strand(MOD, 'ACCAACCAACCAAC')\n",
    "B = A.complementary()\n",
    "# N = Kinetwork(MOD, A, B)\n",
    "S = Simulator(MOD, A, B)\n",
    "fpts, mfpt = S.directsimulation()\n",
    "print(f'{mfpt:.3e}')"
   ]
  },
  {
   "cell_type": "code",
   "execution_count": null,
   "metadata": {},
   "outputs": [],
   "source": []
  }
 ],
 "metadata": {
  "kernelspec": {
   "display_name": "hdna",
   "language": "python",
   "name": "python3"
  },
  "language_info": {
   "codemirror_mode": {
    "name": "ipython",
    "version": 3
   },
   "file_extension": ".py",
   "mimetype": "text/x-python",
   "name": "python",
   "nbconvert_exporter": "python",
   "pygments_lexer": "ipython3",
   "version": "3.10.9"
  },
  "orig_nbformat": 4,
  "vscode": {
   "interpreter": {
    "hash": "13f02c433cbffcd00bbcbbfeff349f4b7c28e9023d8fb9f65ab93bb104997abd"
   }
  }
 },
 "nbformat": 4,
 "nbformat_minor": 2
}
