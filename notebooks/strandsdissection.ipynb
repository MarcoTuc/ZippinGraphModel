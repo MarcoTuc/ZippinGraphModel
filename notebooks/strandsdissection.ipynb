{
 "cells": [
  {
   "cell_type": "code",
   "execution_count": 1,
   "metadata": {},
   "outputs": [],
   "source": [
    "%load_ext autoreload\n",
    "%autoreload 2"
   ]
  },
  {
   "cell_type": "code",
   "execution_count": 2,
   "metadata": {},
   "outputs": [],
   "source": [
    "import sys \n",
    "sys.path.append('..')\n",
    "\n",
    "from hdna import *"
   ]
  },
  {
   "cell_type": "code",
   "execution_count": 21,
   "metadata": {},
   "outputs": [],
   "source": [
    "MOD = Model(\n",
    "    stacking='nostacking',\n",
    "    min_nucleation=1)\n",
    "MOD.setgeometry(theta=120, phi = 270)\n",
    "MOD.setparams(zipping=8e7, sliding=2e5)\n",
    "MOD.alpha = 1\n",
    "MOD.gamma = 0\n",
    "MOD.kappa = 1"
   ]
  },
  {
   "cell_type": "code",
   "execution_count": 24,
   "metadata": {},
   "outputs": [
    {
     "name": "stdout",
     "output_type": "stream",
     "text": [
      "difference -3.464e+13\n",
      "initial fwd 1.848e+02\n",
      "null pseudoknottingoverlap\n",
      "sum fwd 92.39192634363063\n",
      "((((((((((....+)))))))))).... 9.239e+01 0.000e+00 -15.429\n",
      "difference -1.246e+11\n",
      "initial fwd 5.136e+04\n",
      "pseudoknotting overlap: 0.06892679515627409\n",
      "fwdpseudoknot 3.540e+03\n",
      "sum fwd 16381.084226857507\n",
      "((((((........+))))))........ 1.638e+04 0.000e+00 -8.739\n",
      "difference -4.340e+08\n",
      "initial fwd 1.428e+07\n",
      "pseudoknotting overlap: 0.19593572764721456\n",
      "fwdpseudoknot 2.797e+06\n",
      "sum fwd 5176901.70381211\n",
      "((............+))............ 5.177e+06 0.000e+00 -2.049\n",
      "difference -4.340e+08\n",
      "initial fwd 1.428e+07\n",
      "pseudoknotting overlap: 0.19593572764721456\n",
      "fwdpseudoknot 2.797e+06\n",
      "sum fwd 5176901.70381211\n",
      "............((+............)) 5.177e+06 0.000e+00 -2.049\n",
      "difference -1.246e+11\n",
      "initial fwd 5.136e+04\n",
      "pseudoknotting overlap: 0.06892679515627409\n",
      "fwdpseudoknot 3.540e+03\n",
      "sum fwd 16381.084226857507\n",
      "........((((((+........)))))) 1.638e+04 0.000e+00 -8.739\n",
      "difference -3.464e+13\n",
      "initial fwd 1.848e+02\n",
      "null pseudoknottingoverlap\n",
      "sum fwd 92.39192634363063\n",
      "....((((((((((+....)))))))))) 9.239e+01 0.000e+00 -15.429\n"
     ]
    },
    {
     "name": "stderr",
     "output_type": "stream",
     "text": [
      "                                                               "
     ]
    },
    {
     "name": "stdout",
     "output_type": "stream",
     "text": [
      "662 simulations didn't produce a duplex.\n",
      "That's 66.2% of simulations\n",
      "3.624e+05\n"
     ]
    },
    {
     "name": "stderr",
     "output_type": "stream",
     "text": [
      "\r"
     ]
    }
   ],
   "source": [
    "A = Strand(MOD, 'ACCAACCAACCAAC')\n",
    "B = A.complementary()\n",
    "# N = Kinetwork(MOD, A, B)\n",
    "S = Simulator(MOD, A, B)\n",
    "fpts, mfpt = S.directsimulation()\n",
    "print(f'{mfpt:.3e}')"
   ]
  },
  {
   "cell_type": "code",
   "execution_count": 9,
   "metadata": {},
   "outputs": [
    {
     "name": "stdout",
     "output_type": "stream",
     "text": [
      "1.314e+06\n"
     ]
    }
   ],
   "source": [
    "z = S.kinetics.avgunzip()/2\n",
    "print(f'{z:.3e}')"
   ]
  },
  {
   "cell_type": "code",
   "execution_count": null,
   "metadata": {},
   "outputs": [],
   "source": []
  }
 ],
 "metadata": {
  "kernelspec": {
   "display_name": "hdna",
   "language": "python",
   "name": "python3"
  },
  "language_info": {
   "codemirror_mode": {
    "name": "ipython",
    "version": 3
   },
   "file_extension": ".py",
   "mimetype": "text/x-python",
   "name": "python",
   "nbconvert_exporter": "python",
   "pygments_lexer": "ipython3",
   "version": "3.10.9"
  },
  "orig_nbformat": 4,
  "vscode": {
   "interpreter": {
    "hash": "13f02c433cbffcd00bbcbbfeff349f4b7c28e9023d8fb9f65ab93bb104997abd"
   }
  }
 },
 "nbformat": 4,
 "nbformat_minor": 2
}
