{
 "cells": [
  {
   "cell_type": "code",
   "execution_count": 42,
   "metadata": {},
   "outputs": [
    {
     "name": "stdout",
     "output_type": "stream",
     "text": [
      "The autoreload extension is already loaded. To reload it, use:\n",
      "  %reload_ext autoreload\n"
     ]
    }
   ],
   "source": [
    "%load_ext autoreload\n",
    "%autoreload 2"
   ]
  },
  {
   "cell_type": "code",
   "execution_count": 43,
   "metadata": {},
   "outputs": [],
   "source": [
    "import sys \n",
    "sys.path.append('..')\n",
    "\n",
    "from hdna import *"
   ]
  },
  {
   "cell_type": "code",
   "execution_count": 44,
   "metadata": {},
   "outputs": [],
   "source": [
    "MOD = Model(\n",
    "    stacking='nostacking',\n",
    "    min_nucleation=1)\n",
    "MOD.setgeometry(theta=120, phi = 270)\n",
    "MOD.setparams(zipping=8e7, sliding=2e5)\n",
    "MOD.alpha = 1\n",
    "MOD.gamma = 0\n",
    "MOD.kappa = 1"
   ]
  },
  {
   "cell_type": "code",
   "execution_count": 45,
   "metadata": {},
   "outputs": [
    {
     "name": "stdout",
     "output_type": "stream",
     "text": [
      "initial fwd 1.741e+12\n",
      "null pseudoknottingoverlap\n",
      "sum fwd 26666666.666666668\n",
      "((((((((((((..+)))))))))))).. 2.667e+07 0.000e+00 -18.996\n",
      "initial fwd 1.008e+11\n",
      "null pseudoknottingoverlap\n",
      "sum fwd 13333333.333333334\n",
      "((((((((((....+)))))))))).... 1.333e+07 0.000e+00 -15.610\n",
      "initial fwd 5.836e+09\n",
      "pseudoknotting overlap: 0.011258407356913214\n",
      "fwdpseudoknot 3.002e+05\n",
      "sum fwd 9189113.08507324\n",
      "((((((((......+))))))))...... 9.189e+06 0.000e+00 -12.223\n",
      "initial fwd 3.380e+08\n",
      "pseudoknotting overlap: 0.06892679515627409\n",
      "fwdpseudoknot 1.838e+06\n",
      "sum fwd 8504714.537500642\n",
      "((((((........+))))))........ 8.505e+06 0.000e+00 -8.836\n",
      "initial fwd 1.957e+07\n",
      "pseudoknotting overlap: 0.13473633089139608\n",
      "fwdpseudoknot 2.637e+06\n",
      "sum fwd 6550641.730278764\n",
      "((((..........+)))).......... 6.551e+06 0.000e+00 -5.449\n",
      "initial fwd 1.133e+06\n",
      "pseudoknotting overlap: 0.19593572764721456\n",
      "fwdpseudoknot 2.220e+05\n",
      "sum fwd 4108.947902697499\n",
      "((............+))............ 4.109e+03 0.000e+00 -2.062\n",
      "initial fwd 1.133e+06\n",
      "pseudoknotting overlap: 0.19593572764721456\n",
      "fwdpseudoknot 2.220e+05\n",
      "sum fwd 4108.947902697499\n",
      "............((+............)) 4.109e+03 0.000e+00 -2.062\n",
      "initial fwd 1.957e+07\n",
      "pseudoknotting overlap: 0.13473633089139608\n",
      "fwdpseudoknot 2.637e+06\n",
      "sum fwd 6550641.730278764\n",
      "..........((((+..........)))) 6.551e+06 0.000e+00 -5.449\n",
      "initial fwd 3.380e+08\n",
      "pseudoknotting overlap: 0.06892679515627409\n",
      "fwdpseudoknot 1.838e+06\n",
      "sum fwd 8504714.537500642\n",
      "........((((((+........)))))) 8.505e+06 0.000e+00 -8.836\n",
      "initial fwd 5.836e+09\n",
      "pseudoknotting overlap: 0.011258407356913214\n",
      "fwdpseudoknot 3.002e+05\n",
      "sum fwd 9189113.08507324\n",
      "......((((((((+......)))))))) 9.189e+06 0.000e+00 -12.223\n",
      "initial fwd 1.008e+11\n",
      "null pseudoknottingoverlap\n",
      "sum fwd 13333333.333333334\n",
      "....((((((((((+....)))))))))) 1.333e+07 0.000e+00 -15.610\n",
      "initial fwd 1.741e+12\n",
      "null pseudoknottingoverlap\n",
      "sum fwd 26666666.666666668\n",
      "..((((((((((((+..)))))))))))) 2.667e+07 0.000e+00 -18.996\n",
      "4.809e+06\n"
     ]
    }
   ],
   "source": [
    "A = Strand(MOD, 'CACACACACACACA')\n",
    "B = A.complementary()\n",
    "# N = Kinetwork(MOD, A, B)\n",
    "S = Simulator(MOD, A, B)\n",
    "# fpts, mfpt = S.directsimulation()\n",
    "print(f'{mfpt:.3e}')"
   ]
  },
  {
   "cell_type": "code",
   "execution_count": 46,
   "metadata": {},
   "outputs": [
    {
     "name": "stdout",
     "output_type": "stream",
     "text": [
      "1.383e+06\n"
     ]
    }
   ],
   "source": [
    "z = S.kinetics.avgunzip()/2\n",
    "print(f'{z:.3e}')"
   ]
  },
  {
   "cell_type": "code",
   "execution_count": 47,
   "metadata": {},
   "outputs": [],
   "source": [
    "G = S.kinet.DG"
   ]
  },
  {
   "cell_type": "code",
   "execution_count": 48,
   "metadata": {},
   "outputs": [
    {
     "data": {
      "text/plain": [
       "{-12, -10, -8, -6, -4, -2, 2, 4, 6, 8, 10, 12}"
      ]
     },
     "execution_count": 48,
     "metadata": {},
     "output_type": "execute_result"
    }
   ],
   "source": [
    "S.kinet.sldbranches"
   ]
  },
  {
   "cell_type": "code",
   "execution_count": 49,
   "metadata": {},
   "outputs": [
    {
     "data": {
      "text/plain": [
       "2718"
      ]
     },
     "execution_count": 49,
     "metadata": {},
     "output_type": "execute_result"
    }
   ],
   "source": [
    "import pandas as pd \n",
    "wk = pd.Series(S.kinet.etaoff).value_counts().drop(0)\n",
    "etaoff = 0\n",
    "for eta in wk:\n",
    "    for i in range(1,eta):\n",
    "        etaoff += (eta-i+1)**2\n",
    "etaoff"
   ]
  },
  {
   "cell_type": "code",
   "execution_count": null,
   "metadata": {},
   "outputs": [],
   "source": []
  }
 ],
 "metadata": {
  "kernelspec": {
   "display_name": "hdna",
   "language": "python",
   "name": "python3"
  },
  "language_info": {
   "codemirror_mode": {
    "name": "ipython",
    "version": 3
   },
   "file_extension": ".py",
   "mimetype": "text/x-python",
   "name": "python",
   "nbconvert_exporter": "python",
   "pygments_lexer": "ipython3",
   "version": "3.10.9"
  },
  "orig_nbformat": 4,
  "vscode": {
   "interpreter": {
    "hash": "13f02c433cbffcd00bbcbbfeff349f4b7c28e9023d8fb9f65ab93bb104997abd"
   }
  }
 },
 "nbformat": 4,
 "nbformat_minor": 2
}
