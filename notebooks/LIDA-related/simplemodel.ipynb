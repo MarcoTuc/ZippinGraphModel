{
 "cells": [
  {
   "attachments": {},
   "cell_type": "markdown",
   "metadata": {},
   "source": [
    "A+B <=> N <=> D"
   ]
  },
  {
   "cell_type": "code",
   "execution_count": 1,
   "metadata": {},
   "outputs": [
    {
     "name": "stdout",
     "output_type": "stream",
     "text": [
      "0.005835262345679013\n",
      "7.032e+06\n",
      "2.026e+07\n"
     ]
    }
   ],
   "source": [
    "import numpy as np \n",
    "\n",
    "kz = 2e8\n",
    "kdl = 4e9\n",
    "\n",
    "theta = 90\n",
    "phi   = 110\n",
    "rho = np.power((theta*phi)/(np.power(360,2)),2)\n",
    "print(rho)\n",
    "kn = kdl * rho\n",
    "kb = kn*np.exp(-0.5/(1.987e-3*(273.15 + 26)))/(1+np.exp(-0.5/(1.987e-3*(273.15 + 26))))\n",
    "print(f'{kb:.3e}')\n",
    "kobs = (kn*kz)/(kz+kn+kb)\n",
    "print(f'{kobs:.3e}')"
   ]
  },
  {
   "cell_type": "code",
   "execution_count": 78,
   "metadata": {},
   "outputs": [
    {
     "name": "stdout",
     "output_type": "stream",
     "text": [
      "1.397e+08\n"
     ]
    }
   ],
   "source": [
    "k2dl = 1e14\n",
    "rho2 = np.power(theta/360,2)\n",
    "kn2  = k2dl*rho2\n",
    "kb2  = kn2*np.exp(-0.5/(1.987e-3*(273.15 + 26)))\n",
    "kobs2 = (kn2*kz)/(kz+kn2+kb2)\n",
    "print(f'{kobs2:.3e}')"
   ]
  },
  {
   "cell_type": "code",
   "execution_count": null,
   "metadata": {},
   "outputs": [],
   "source": []
  }
 ],
 "metadata": {
  "kernelspec": {
   "display_name": "hdna",
   "language": "python",
   "name": "python3"
  },
  "language_info": {
   "codemirror_mode": {
    "name": "ipython",
    "version": 3
   },
   "file_extension": ".py",
   "mimetype": "text/x-python",
   "name": "python",
   "nbconvert_exporter": "python",
   "pygments_lexer": "ipython3",
   "version": "3.10.9 (main, Jan 11 2023, 15:21:40) [GCC 11.2.0]"
  },
  "orig_nbformat": 4,
  "vscode": {
   "interpreter": {
    "hash": "13f02c433cbffcd00bbcbbfeff349f4b7c28e9023d8fb9f65ab93bb104997abd"
   }
  }
 },
 "nbformat": 4,
 "nbformat_minor": 2
}
