{
 "cells": [
  {
   "cell_type": "code",
   "execution_count": 8,
   "metadata": {},
   "outputs": [],
   "source": [
    "import pandas as pd\n",
    "import plotly.express as px"
   ]
  },
  {
   "cell_type": "code",
   "execution_count": 9,
   "metadata": {},
   "outputs": [],
   "source": [
    "data = pd.read_csv('firstvalidation.csv')"
   ]
  },
  {
   "cell_type": "code",
   "execution_count": 21,
   "metadata": {},
   "outputs": [],
   "source": [
    "data['expvalue'] = ['{:e}'.format(float(e)) for e in data['expvalue']]"
   ]
  },
  {
   "cell_type": "code",
   "execution_count": 22,
   "metadata": {},
   "outputs": [
    {
     "data": {
      "text/html": [
       "<div>\n",
       "<style scoped>\n",
       "    .dataframe tbody tr th:only-of-type {\n",
       "        vertical-align: middle;\n",
       "    }\n",
       "\n",
       "    .dataframe tbody tr th {\n",
       "        vertical-align: top;\n",
       "    }\n",
       "\n",
       "    .dataframe thead th {\n",
       "        text-align: right;\n",
       "    }\n",
       "</style>\n",
       "<table border=\"1\" class=\"dataframe\">\n",
       "  <thead>\n",
       "    <tr style=\"text-align: right;\">\n",
       "      <th></th>\n",
       "      <th>Unnamed: 0</th>\n",
       "      <th>seq</th>\n",
       "      <th>expvalue</th>\n",
       "      <th>computed</th>\n",
       "      <th>ratios</th>\n",
       "    </tr>\n",
       "  </thead>\n",
       "  <tbody>\n",
       "    <tr>\n",
       "      <th>0</th>\n",
       "      <td>1</td>\n",
       "      <td>GTTCGGTCTA</td>\n",
       "      <td>1.145950e+06</td>\n",
       "      <td>9.067730e+05</td>\n",
       "      <td>1.263767</td>\n",
       "    </tr>\n",
       "    <tr>\n",
       "      <th>1</th>\n",
       "      <td>2</td>\n",
       "      <td>CCAAAACCAA</td>\n",
       "      <td>1.668154e+06</td>\n",
       "      <td>8.720733e+05</td>\n",
       "      <td>1.912860</td>\n",
       "    </tr>\n",
       "    <tr>\n",
       "      <th>2</th>\n",
       "      <td>3</td>\n",
       "      <td>AAACCACACA</td>\n",
       "      <td>1.809459e+06</td>\n",
       "      <td>2.052740e+06</td>\n",
       "      <td>0.881485</td>\n",
       "    </tr>\n",
       "    <tr>\n",
       "      <th>3</th>\n",
       "      <td>4</td>\n",
       "      <td>ACCAAACCAC</td>\n",
       "      <td>2.167675e+06</td>\n",
       "      <td>8.062090e+06</td>\n",
       "      <td>0.268873</td>\n",
       "    </tr>\n",
       "    <tr>\n",
       "      <th>4</th>\n",
       "      <td>5</td>\n",
       "      <td>ACACCAAACC</td>\n",
       "      <td>2.178513e+06</td>\n",
       "      <td>1.619336e+06</td>\n",
       "      <td>1.345313</td>\n",
       "    </tr>\n",
       "    <tr>\n",
       "      <th>5</th>\n",
       "      <td>6</td>\n",
       "      <td>AAAAACCCAC</td>\n",
       "      <td>2.364640e+06</td>\n",
       "      <td>4.773007e+06</td>\n",
       "      <td>0.495419</td>\n",
       "    </tr>\n",
       "    <tr>\n",
       "      <th>6</th>\n",
       "      <td>7</td>\n",
       "      <td>CAACACCCAA</td>\n",
       "      <td>2.511513e+06</td>\n",
       "      <td>1.237754e+06</td>\n",
       "      <td>2.029088</td>\n",
       "    </tr>\n",
       "    <tr>\n",
       "      <th>7</th>\n",
       "      <td>8</td>\n",
       "      <td>AAACCCACCA</td>\n",
       "      <td>2.527035e+06</td>\n",
       "      <td>2.693177e+06</td>\n",
       "      <td>0.938310</td>\n",
       "    </tr>\n",
       "    <tr>\n",
       "      <th>8</th>\n",
       "      <td>9</td>\n",
       "      <td>ACAACACCAC</td>\n",
       "      <td>2.559279e+06</td>\n",
       "      <td>9.082929e+06</td>\n",
       "      <td>0.281768</td>\n",
       "    </tr>\n",
       "    <tr>\n",
       "      <th>9</th>\n",
       "      <td>10</td>\n",
       "      <td>CAAAACCCCA</td>\n",
       "      <td>2.651666e+06</td>\n",
       "      <td>2.636526e+06</td>\n",
       "      <td>1.005742</td>\n",
       "    </tr>\n",
       "    <tr>\n",
       "      <th>10</th>\n",
       "      <td>11</td>\n",
       "      <td>AACCAACACC</td>\n",
       "      <td>2.655670e+06</td>\n",
       "      <td>2.437835e+06</td>\n",
       "      <td>1.089356</td>\n",
       "    </tr>\n",
       "    <tr>\n",
       "      <th>11</th>\n",
       "      <td>12</td>\n",
       "      <td>CAACACAACC</td>\n",
       "      <td>2.695608e+06</td>\n",
       "      <td>1.282530e+06</td>\n",
       "      <td>2.101789</td>\n",
       "    </tr>\n",
       "    <tr>\n",
       "      <th>12</th>\n",
       "      <td>13</td>\n",
       "      <td>ACCAACACCA</td>\n",
       "      <td>2.765864e+06</td>\n",
       "      <td>2.424509e+06</td>\n",
       "      <td>1.140793</td>\n",
       "    </tr>\n",
       "    <tr>\n",
       "      <th>13</th>\n",
       "      <td>14</td>\n",
       "      <td>CCACCAACAA</td>\n",
       "      <td>2.825047e+06</td>\n",
       "      <td>2.319907e+06</td>\n",
       "      <td>1.217741</td>\n",
       "    </tr>\n",
       "    <tr>\n",
       "      <th>14</th>\n",
       "      <td>15</td>\n",
       "      <td>ACACACACAC</td>\n",
       "      <td>3.843880e+06</td>\n",
       "      <td>1.382658e+06</td>\n",
       "      <td>2.780066</td>\n",
       "    </tr>\n",
       "    <tr>\n",
       "      <th>15</th>\n",
       "      <td>16</td>\n",
       "      <td>AACCACCACA</td>\n",
       "      <td>3.865948e+06</td>\n",
       "      <td>2.132135e+06</td>\n",
       "      <td>1.813182</td>\n",
       "    </tr>\n",
       "    <tr>\n",
       "      <th>16</th>\n",
       "      <td>17</td>\n",
       "      <td>CAACCAACCA</td>\n",
       "      <td>3.960894e+06</td>\n",
       "      <td>2.918605e+06</td>\n",
       "      <td>1.357119</td>\n",
       "    </tr>\n",
       "    <tr>\n",
       "      <th>17</th>\n",
       "      <td>18</td>\n",
       "      <td>ACACACACCA</td>\n",
       "      <td>4.159347e+06</td>\n",
       "      <td>1.220058e+06</td>\n",
       "      <td>3.409138</td>\n",
       "    </tr>\n",
       "    <tr>\n",
       "      <th>18</th>\n",
       "      <td>19</td>\n",
       "      <td>CCCCACACAA</td>\n",
       "      <td>5.448523e+06</td>\n",
       "      <td>9.350030e+05</td>\n",
       "      <td>5.827278</td>\n",
       "    </tr>\n",
       "    <tr>\n",
       "      <th>19</th>\n",
       "      <td>20</td>\n",
       "      <td>ACACCACCAC</td>\n",
       "      <td>5.613147e+06</td>\n",
       "      <td>2.058232e+06</td>\n",
       "      <td>2.727169</td>\n",
       "    </tr>\n",
       "    <tr>\n",
       "      <th>20</th>\n",
       "      <td>21</td>\n",
       "      <td>GCTGTTCGGTCTAT</td>\n",
       "      <td>1.042173e+06</td>\n",
       "      <td>6.452817e+05</td>\n",
       "      <td>1.615067</td>\n",
       "    </tr>\n",
       "    <tr>\n",
       "      <th>21</th>\n",
       "      <td>22</td>\n",
       "      <td>ACCAAACCACCAAC</td>\n",
       "      <td>1.186657e+06</td>\n",
       "      <td>7.041905e+05</td>\n",
       "      <td>1.685136</td>\n",
       "    </tr>\n",
       "    <tr>\n",
       "      <th>22</th>\n",
       "      <td>23</td>\n",
       "      <td>CAACACCAAACAAC</td>\n",
       "      <td>1.779672e+06</td>\n",
       "      <td>4.780712e+05</td>\n",
       "      <td>3.722608</td>\n",
       "    </tr>\n",
       "    <tr>\n",
       "      <th>23</th>\n",
       "      <td>24</td>\n",
       "      <td>CAAAACCCCAACAC</td>\n",
       "      <td>1.831343e+06</td>\n",
       "      <td>1.698523e+06</td>\n",
       "      <td>1.078197</td>\n",
       "    </tr>\n",
       "    <tr>\n",
       "      <th>24</th>\n",
       "      <td>25</td>\n",
       "      <td>AAACCCACCACACA</td>\n",
       "      <td>1.892296e+06</td>\n",
       "      <td>4.886070e+05</td>\n",
       "      <td>3.872839</td>\n",
       "    </tr>\n",
       "    <tr>\n",
       "      <th>25</th>\n",
       "      <td>26</td>\n",
       "      <td>CAACACCCAAACAC</td>\n",
       "      <td>2.124654e+06</td>\n",
       "      <td>6.783646e+05</td>\n",
       "      <td>3.132023</td>\n",
       "    </tr>\n",
       "    <tr>\n",
       "      <th>26</th>\n",
       "      <td>27</td>\n",
       "      <td>CCAAAACCAACAAC</td>\n",
       "      <td>2.304253e+06</td>\n",
       "      <td>6.191359e+05</td>\n",
       "      <td>3.721724</td>\n",
       "    </tr>\n",
       "    <tr>\n",
       "      <th>27</th>\n",
       "      <td>28</td>\n",
       "      <td>AAAAACCCACCCAA</td>\n",
       "      <td>2.433452e+06</td>\n",
       "      <td>1.299035e+06</td>\n",
       "      <td>1.873277</td>\n",
       "    </tr>\n",
       "    <tr>\n",
       "      <th>28</th>\n",
       "      <td>29</td>\n",
       "      <td>AAACCACCCAACAC</td>\n",
       "      <td>2.745623e+06</td>\n",
       "      <td>9.000536e+05</td>\n",
       "      <td>3.050510</td>\n",
       "    </tr>\n",
       "    <tr>\n",
       "      <th>29</th>\n",
       "      <td>30</td>\n",
       "      <td>CCCAAACCCAACCA</td>\n",
       "      <td>2.975581e+06</td>\n",
       "      <td>7.788345e+05</td>\n",
       "      <td>3.820556</td>\n",
       "    </tr>\n",
       "    <tr>\n",
       "      <th>30</th>\n",
       "      <td>31</td>\n",
       "      <td>ACCAACACCAACCA</td>\n",
       "      <td>3.186916e+06</td>\n",
       "      <td>1.203910e+06</td>\n",
       "      <td>2.647137</td>\n",
       "    </tr>\n",
       "    <tr>\n",
       "      <th>31</th>\n",
       "      <td>32</td>\n",
       "      <td>CAACAACACCACCA</td>\n",
       "      <td>3.242444e+06</td>\n",
       "      <td>1.541026e+06</td>\n",
       "      <td>2.104081</td>\n",
       "    </tr>\n",
       "    <tr>\n",
       "      <th>32</th>\n",
       "      <td>33</td>\n",
       "      <td>AACCAACACCACCA</td>\n",
       "      <td>3.629903e+06</td>\n",
       "      <td>1.090672e+06</td>\n",
       "      <td>3.328134</td>\n",
       "    </tr>\n",
       "    <tr>\n",
       "      <th>33</th>\n",
       "      <td>34</td>\n",
       "      <td>AACCACCACAAACC</td>\n",
       "      <td>3.659749e+06</td>\n",
       "      <td>1.869169e+06</td>\n",
       "      <td>1.957955</td>\n",
       "    </tr>\n",
       "    <tr>\n",
       "      <th>34</th>\n",
       "      <td>35</td>\n",
       "      <td>CAACACAACCAACC</td>\n",
       "      <td>3.763039e+06</td>\n",
       "      <td>5.503229e+05</td>\n",
       "      <td>6.837875</td>\n",
       "    </tr>\n",
       "    <tr>\n",
       "      <th>35</th>\n",
       "      <td>36</td>\n",
       "      <td>CACCACAACCACCA</td>\n",
       "      <td>3.805400e+06</td>\n",
       "      <td>7.671549e+05</td>\n",
       "      <td>4.960406</td>\n",
       "    </tr>\n",
       "    <tr>\n",
       "      <th>36</th>\n",
       "      <td>37</td>\n",
       "      <td>CCCCACACAACAAC</td>\n",
       "      <td>3.961922e+06</td>\n",
       "      <td>5.706240e+05</td>\n",
       "      <td>6.943139</td>\n",
       "    </tr>\n",
       "    <tr>\n",
       "      <th>37</th>\n",
       "      <td>38</td>\n",
       "      <td>CCACCAACAACAAC</td>\n",
       "      <td>4.062258e+06</td>\n",
       "      <td>9.268812e+05</td>\n",
       "      <td>4.382717</td>\n",
       "    </tr>\n",
       "    <tr>\n",
       "      <th>38</th>\n",
       "      <td>39</td>\n",
       "      <td>ACACACACCACACA</td>\n",
       "      <td>4.442077e+06</td>\n",
       "      <td>5.207751e+05</td>\n",
       "      <td>8.529742</td>\n",
       "    </tr>\n",
       "    <tr>\n",
       "      <th>39</th>\n",
       "      <td>40</td>\n",
       "      <td>CACACACACACACA</td>\n",
       "      <td>4.818114e+06</td>\n",
       "      <td>1.667976e+06</td>\n",
       "      <td>2.888599</td>\n",
       "    </tr>\n",
       "    <tr>\n",
       "      <th>40</th>\n",
       "      <td>41</td>\n",
       "      <td>ACCAACCAACCAAC</td>\n",
       "      <td>5.208461e+06</td>\n",
       "      <td>1.196230e+06</td>\n",
       "      <td>4.354061</td>\n",
       "    </tr>\n",
       "  </tbody>\n",
       "</table>\n",
       "</div>"
      ],
      "text/plain": [
       "    Unnamed: 0                 seq      expvalue      computed    ratios\n",
       "0            1  GTTCGGTCTA          1.145950e+06  9.067730e+05  1.263767\n",
       "1            2  CCAAAACCAA          1.668154e+06  8.720733e+05  1.912860\n",
       "2            3  AAACCACACA          1.809459e+06  2.052740e+06  0.881485\n",
       "3            4  ACCAAACCAC          2.167675e+06  8.062090e+06  0.268873\n",
       "4            5  ACACCAAACC          2.178513e+06  1.619336e+06  1.345313\n",
       "5            6  AAAAACCCAC          2.364640e+06  4.773007e+06  0.495419\n",
       "6            7  CAACACCCAA          2.511513e+06  1.237754e+06  2.029088\n",
       "7            8  AAACCCACCA          2.527035e+06  2.693177e+06  0.938310\n",
       "8            9  ACAACACCAC          2.559279e+06  9.082929e+06  0.281768\n",
       "9           10  CAAAACCCCA          2.651666e+06  2.636526e+06  1.005742\n",
       "10          11  AACCAACACC          2.655670e+06  2.437835e+06  1.089356\n",
       "11          12  CAACACAACC          2.695608e+06  1.282530e+06  2.101789\n",
       "12          13  ACCAACACCA          2.765864e+06  2.424509e+06  1.140793\n",
       "13          14  CCACCAACAA          2.825047e+06  2.319907e+06  1.217741\n",
       "14          15  ACACACACAC          3.843880e+06  1.382658e+06  2.780066\n",
       "15          16  AACCACCACA          3.865948e+06  2.132135e+06  1.813182\n",
       "16          17  CAACCAACCA          3.960894e+06  2.918605e+06  1.357119\n",
       "17          18  ACACACACCA          4.159347e+06  1.220058e+06  3.409138\n",
       "18          19  CCCCACACAA          5.448523e+06  9.350030e+05  5.827278\n",
       "19          20  ACACCACCAC          5.613147e+06  2.058232e+06  2.727169\n",
       "20          21  GCTGTTCGGTCTAT      1.042173e+06  6.452817e+05  1.615067\n",
       "21          22  ACCAAACCACCAAC      1.186657e+06  7.041905e+05  1.685136\n",
       "22          23  CAACACCAAACAAC      1.779672e+06  4.780712e+05  3.722608\n",
       "23          24  CAAAACCCCAACAC      1.831343e+06  1.698523e+06  1.078197\n",
       "24          25  AAACCCACCACACA      1.892296e+06  4.886070e+05  3.872839\n",
       "25          26  CAACACCCAAACAC      2.124654e+06  6.783646e+05  3.132023\n",
       "26          27  CCAAAACCAACAAC      2.304253e+06  6.191359e+05  3.721724\n",
       "27          28  AAAAACCCACCCAA      2.433452e+06  1.299035e+06  1.873277\n",
       "28          29  AAACCACCCAACAC      2.745623e+06  9.000536e+05  3.050510\n",
       "29          30  CCCAAACCCAACCA      2.975581e+06  7.788345e+05  3.820556\n",
       "30          31  ACCAACACCAACCA      3.186916e+06  1.203910e+06  2.647137\n",
       "31          32  CAACAACACCACCA      3.242444e+06  1.541026e+06  2.104081\n",
       "32          33  AACCAACACCACCA      3.629903e+06  1.090672e+06  3.328134\n",
       "33          34  AACCACCACAAACC      3.659749e+06  1.869169e+06  1.957955\n",
       "34          35  CAACACAACCAACC      3.763039e+06  5.503229e+05  6.837875\n",
       "35          36  CACCACAACCACCA      3.805400e+06  7.671549e+05  4.960406\n",
       "36          37  CCCCACACAACAAC      3.961922e+06  5.706240e+05  6.943139\n",
       "37          38  CCACCAACAACAAC      4.062258e+06  9.268812e+05  4.382717\n",
       "38          39  ACACACACCACACA      4.442077e+06  5.207751e+05  8.529742\n",
       "39          40  CACACACACACACA      4.818114e+06  1.667976e+06  2.888599\n",
       "40          41  ACCAACCAACCAAC      5.208461e+06  1.196230e+06  4.354061"
      ]
     },
     "execution_count": 22,
     "metadata": {},
     "output_type": "execute_result"
    }
   ],
   "source": [
    "data"
   ]
  },
  {
   "cell_type": "code",
   "execution_count": 25,
   "metadata": {},
   "outputs": [
    {
     "data": {
      "text/html": [
       "<div>\n",
       "<style scoped>\n",
       "    .dataframe tbody tr th:only-of-type {\n",
       "        vertical-align: middle;\n",
       "    }\n",
       "\n",
       "    .dataframe tbody tr th {\n",
       "        vertical-align: top;\n",
       "    }\n",
       "\n",
       "    .dataframe thead th {\n",
       "        text-align: right;\n",
       "    }\n",
       "</style>\n",
       "<table border=\"1\" class=\"dataframe\">\n",
       "  <thead>\n",
       "    <tr style=\"text-align: right;\">\n",
       "      <th></th>\n",
       "      <th>Unnamed: 0</th>\n",
       "      <th>seq</th>\n",
       "      <th>expvalue</th>\n",
       "      <th>computed</th>\n",
       "      <th>ratios</th>\n",
       "    </tr>\n",
       "  </thead>\n",
       "  <tbody>\n",
       "    <tr>\n",
       "      <th>20</th>\n",
       "      <td>21</td>\n",
       "      <td>GCTGTTCGGTCTAT</td>\n",
       "      <td>1.042173e+06</td>\n",
       "      <td>6.452817e+05</td>\n",
       "      <td>1.615067</td>\n",
       "    </tr>\n",
       "    <tr>\n",
       "      <th>0</th>\n",
       "      <td>1</td>\n",
       "      <td>GTTCGGTCTA</td>\n",
       "      <td>1.145950e+06</td>\n",
       "      <td>9.067730e+05</td>\n",
       "      <td>1.263767</td>\n",
       "    </tr>\n",
       "    <tr>\n",
       "      <th>21</th>\n",
       "      <td>22</td>\n",
       "      <td>ACCAAACCACCAAC</td>\n",
       "      <td>1.186657e+06</td>\n",
       "      <td>7.041905e+05</td>\n",
       "      <td>1.685136</td>\n",
       "    </tr>\n",
       "    <tr>\n",
       "      <th>1</th>\n",
       "      <td>2</td>\n",
       "      <td>CCAAAACCAA</td>\n",
       "      <td>1.668154e+06</td>\n",
       "      <td>8.720733e+05</td>\n",
       "      <td>1.912860</td>\n",
       "    </tr>\n",
       "    <tr>\n",
       "      <th>22</th>\n",
       "      <td>23</td>\n",
       "      <td>CAACACCAAACAAC</td>\n",
       "      <td>1.779672e+06</td>\n",
       "      <td>4.780712e+05</td>\n",
       "      <td>3.722608</td>\n",
       "    </tr>\n",
       "    <tr>\n",
       "      <th>2</th>\n",
       "      <td>3</td>\n",
       "      <td>AAACCACACA</td>\n",
       "      <td>1.809459e+06</td>\n",
       "      <td>2.052740e+06</td>\n",
       "      <td>0.881485</td>\n",
       "    </tr>\n",
       "    <tr>\n",
       "      <th>23</th>\n",
       "      <td>24</td>\n",
       "      <td>CAAAACCCCAACAC</td>\n",
       "      <td>1.831343e+06</td>\n",
       "      <td>1.698523e+06</td>\n",
       "      <td>1.078197</td>\n",
       "    </tr>\n",
       "    <tr>\n",
       "      <th>24</th>\n",
       "      <td>25</td>\n",
       "      <td>AAACCCACCACACA</td>\n",
       "      <td>1.892296e+06</td>\n",
       "      <td>4.886070e+05</td>\n",
       "      <td>3.872839</td>\n",
       "    </tr>\n",
       "    <tr>\n",
       "      <th>25</th>\n",
       "      <td>26</td>\n",
       "      <td>CAACACCCAAACAC</td>\n",
       "      <td>2.124654e+06</td>\n",
       "      <td>6.783646e+05</td>\n",
       "      <td>3.132023</td>\n",
       "    </tr>\n",
       "    <tr>\n",
       "      <th>3</th>\n",
       "      <td>4</td>\n",
       "      <td>ACCAAACCAC</td>\n",
       "      <td>2.167675e+06</td>\n",
       "      <td>8.062090e+06</td>\n",
       "      <td>0.268873</td>\n",
       "    </tr>\n",
       "    <tr>\n",
       "      <th>4</th>\n",
       "      <td>5</td>\n",
       "      <td>ACACCAAACC</td>\n",
       "      <td>2.178513e+06</td>\n",
       "      <td>1.619336e+06</td>\n",
       "      <td>1.345313</td>\n",
       "    </tr>\n",
       "    <tr>\n",
       "      <th>26</th>\n",
       "      <td>27</td>\n",
       "      <td>CCAAAACCAACAAC</td>\n",
       "      <td>2.304253e+06</td>\n",
       "      <td>6.191359e+05</td>\n",
       "      <td>3.721724</td>\n",
       "    </tr>\n",
       "    <tr>\n",
       "      <th>5</th>\n",
       "      <td>6</td>\n",
       "      <td>AAAAACCCAC</td>\n",
       "      <td>2.364640e+06</td>\n",
       "      <td>4.773007e+06</td>\n",
       "      <td>0.495419</td>\n",
       "    </tr>\n",
       "    <tr>\n",
       "      <th>27</th>\n",
       "      <td>28</td>\n",
       "      <td>AAAAACCCACCCAA</td>\n",
       "      <td>2.433452e+06</td>\n",
       "      <td>1.299035e+06</td>\n",
       "      <td>1.873277</td>\n",
       "    </tr>\n",
       "    <tr>\n",
       "      <th>6</th>\n",
       "      <td>7</td>\n",
       "      <td>CAACACCCAA</td>\n",
       "      <td>2.511513e+06</td>\n",
       "      <td>1.237754e+06</td>\n",
       "      <td>2.029088</td>\n",
       "    </tr>\n",
       "    <tr>\n",
       "      <th>7</th>\n",
       "      <td>8</td>\n",
       "      <td>AAACCCACCA</td>\n",
       "      <td>2.527035e+06</td>\n",
       "      <td>2.693177e+06</td>\n",
       "      <td>0.938310</td>\n",
       "    </tr>\n",
       "    <tr>\n",
       "      <th>8</th>\n",
       "      <td>9</td>\n",
       "      <td>ACAACACCAC</td>\n",
       "      <td>2.559279e+06</td>\n",
       "      <td>9.082929e+06</td>\n",
       "      <td>0.281768</td>\n",
       "    </tr>\n",
       "    <tr>\n",
       "      <th>9</th>\n",
       "      <td>10</td>\n",
       "      <td>CAAAACCCCA</td>\n",
       "      <td>2.651666e+06</td>\n",
       "      <td>2.636526e+06</td>\n",
       "      <td>1.005742</td>\n",
       "    </tr>\n",
       "    <tr>\n",
       "      <th>10</th>\n",
       "      <td>11</td>\n",
       "      <td>AACCAACACC</td>\n",
       "      <td>2.655670e+06</td>\n",
       "      <td>2.437835e+06</td>\n",
       "      <td>1.089356</td>\n",
       "    </tr>\n",
       "    <tr>\n",
       "      <th>11</th>\n",
       "      <td>12</td>\n",
       "      <td>CAACACAACC</td>\n",
       "      <td>2.695608e+06</td>\n",
       "      <td>1.282530e+06</td>\n",
       "      <td>2.101789</td>\n",
       "    </tr>\n",
       "    <tr>\n",
       "      <th>28</th>\n",
       "      <td>29</td>\n",
       "      <td>AAACCACCCAACAC</td>\n",
       "      <td>2.745623e+06</td>\n",
       "      <td>9.000536e+05</td>\n",
       "      <td>3.050510</td>\n",
       "    </tr>\n",
       "    <tr>\n",
       "      <th>12</th>\n",
       "      <td>13</td>\n",
       "      <td>ACCAACACCA</td>\n",
       "      <td>2.765864e+06</td>\n",
       "      <td>2.424509e+06</td>\n",
       "      <td>1.140793</td>\n",
       "    </tr>\n",
       "    <tr>\n",
       "      <th>13</th>\n",
       "      <td>14</td>\n",
       "      <td>CCACCAACAA</td>\n",
       "      <td>2.825047e+06</td>\n",
       "      <td>2.319907e+06</td>\n",
       "      <td>1.217741</td>\n",
       "    </tr>\n",
       "    <tr>\n",
       "      <th>29</th>\n",
       "      <td>30</td>\n",
       "      <td>CCCAAACCCAACCA</td>\n",
       "      <td>2.975581e+06</td>\n",
       "      <td>7.788345e+05</td>\n",
       "      <td>3.820556</td>\n",
       "    </tr>\n",
       "    <tr>\n",
       "      <th>30</th>\n",
       "      <td>31</td>\n",
       "      <td>ACCAACACCAACCA</td>\n",
       "      <td>3.186916e+06</td>\n",
       "      <td>1.203910e+06</td>\n",
       "      <td>2.647137</td>\n",
       "    </tr>\n",
       "    <tr>\n",
       "      <th>31</th>\n",
       "      <td>32</td>\n",
       "      <td>CAACAACACCACCA</td>\n",
       "      <td>3.242444e+06</td>\n",
       "      <td>1.541026e+06</td>\n",
       "      <td>2.104081</td>\n",
       "    </tr>\n",
       "    <tr>\n",
       "      <th>32</th>\n",
       "      <td>33</td>\n",
       "      <td>AACCAACACCACCA</td>\n",
       "      <td>3.629903e+06</td>\n",
       "      <td>1.090672e+06</td>\n",
       "      <td>3.328134</td>\n",
       "    </tr>\n",
       "    <tr>\n",
       "      <th>33</th>\n",
       "      <td>34</td>\n",
       "      <td>AACCACCACAAACC</td>\n",
       "      <td>3.659749e+06</td>\n",
       "      <td>1.869169e+06</td>\n",
       "      <td>1.957955</td>\n",
       "    </tr>\n",
       "    <tr>\n",
       "      <th>34</th>\n",
       "      <td>35</td>\n",
       "      <td>CAACACAACCAACC</td>\n",
       "      <td>3.763039e+06</td>\n",
       "      <td>5.503229e+05</td>\n",
       "      <td>6.837875</td>\n",
       "    </tr>\n",
       "    <tr>\n",
       "      <th>35</th>\n",
       "      <td>36</td>\n",
       "      <td>CACCACAACCACCA</td>\n",
       "      <td>3.805400e+06</td>\n",
       "      <td>7.671549e+05</td>\n",
       "      <td>4.960406</td>\n",
       "    </tr>\n",
       "    <tr>\n",
       "      <th>14</th>\n",
       "      <td>15</td>\n",
       "      <td>ACACACACAC</td>\n",
       "      <td>3.843880e+06</td>\n",
       "      <td>1.382658e+06</td>\n",
       "      <td>2.780066</td>\n",
       "    </tr>\n",
       "    <tr>\n",
       "      <th>15</th>\n",
       "      <td>16</td>\n",
       "      <td>AACCACCACA</td>\n",
       "      <td>3.865948e+06</td>\n",
       "      <td>2.132135e+06</td>\n",
       "      <td>1.813182</td>\n",
       "    </tr>\n",
       "    <tr>\n",
       "      <th>16</th>\n",
       "      <td>17</td>\n",
       "      <td>CAACCAACCA</td>\n",
       "      <td>3.960894e+06</td>\n",
       "      <td>2.918605e+06</td>\n",
       "      <td>1.357119</td>\n",
       "    </tr>\n",
       "    <tr>\n",
       "      <th>36</th>\n",
       "      <td>37</td>\n",
       "      <td>CCCCACACAACAAC</td>\n",
       "      <td>3.961922e+06</td>\n",
       "      <td>5.706240e+05</td>\n",
       "      <td>6.943139</td>\n",
       "    </tr>\n",
       "    <tr>\n",
       "      <th>37</th>\n",
       "      <td>38</td>\n",
       "      <td>CCACCAACAACAAC</td>\n",
       "      <td>4.062258e+06</td>\n",
       "      <td>9.268812e+05</td>\n",
       "      <td>4.382717</td>\n",
       "    </tr>\n",
       "    <tr>\n",
       "      <th>17</th>\n",
       "      <td>18</td>\n",
       "      <td>ACACACACCA</td>\n",
       "      <td>4.159347e+06</td>\n",
       "      <td>1.220058e+06</td>\n",
       "      <td>3.409138</td>\n",
       "    </tr>\n",
       "    <tr>\n",
       "      <th>38</th>\n",
       "      <td>39</td>\n",
       "      <td>ACACACACCACACA</td>\n",
       "      <td>4.442077e+06</td>\n",
       "      <td>5.207751e+05</td>\n",
       "      <td>8.529742</td>\n",
       "    </tr>\n",
       "    <tr>\n",
       "      <th>39</th>\n",
       "      <td>40</td>\n",
       "      <td>CACACACACACACA</td>\n",
       "      <td>4.818114e+06</td>\n",
       "      <td>1.667976e+06</td>\n",
       "      <td>2.888599</td>\n",
       "    </tr>\n",
       "    <tr>\n",
       "      <th>40</th>\n",
       "      <td>41</td>\n",
       "      <td>ACCAACCAACCAAC</td>\n",
       "      <td>5.208461e+06</td>\n",
       "      <td>1.196230e+06</td>\n",
       "      <td>4.354061</td>\n",
       "    </tr>\n",
       "    <tr>\n",
       "      <th>18</th>\n",
       "      <td>19</td>\n",
       "      <td>CCCCACACAA</td>\n",
       "      <td>5.448523e+06</td>\n",
       "      <td>9.350030e+05</td>\n",
       "      <td>5.827278</td>\n",
       "    </tr>\n",
       "    <tr>\n",
       "      <th>19</th>\n",
       "      <td>20</td>\n",
       "      <td>ACACCACCAC</td>\n",
       "      <td>5.613147e+06</td>\n",
       "      <td>2.058232e+06</td>\n",
       "      <td>2.727169</td>\n",
       "    </tr>\n",
       "  </tbody>\n",
       "</table>\n",
       "</div>"
      ],
      "text/plain": [
       "    Unnamed: 0                 seq      expvalue      computed    ratios\n",
       "20          21  GCTGTTCGGTCTAT      1.042173e+06  6.452817e+05  1.615067\n",
       "0            1  GTTCGGTCTA          1.145950e+06  9.067730e+05  1.263767\n",
       "21          22  ACCAAACCACCAAC      1.186657e+06  7.041905e+05  1.685136\n",
       "1            2  CCAAAACCAA          1.668154e+06  8.720733e+05  1.912860\n",
       "22          23  CAACACCAAACAAC      1.779672e+06  4.780712e+05  3.722608\n",
       "2            3  AAACCACACA          1.809459e+06  2.052740e+06  0.881485\n",
       "23          24  CAAAACCCCAACAC      1.831343e+06  1.698523e+06  1.078197\n",
       "24          25  AAACCCACCACACA      1.892296e+06  4.886070e+05  3.872839\n",
       "25          26  CAACACCCAAACAC      2.124654e+06  6.783646e+05  3.132023\n",
       "3            4  ACCAAACCAC          2.167675e+06  8.062090e+06  0.268873\n",
       "4            5  ACACCAAACC          2.178513e+06  1.619336e+06  1.345313\n",
       "26          27  CCAAAACCAACAAC      2.304253e+06  6.191359e+05  3.721724\n",
       "5            6  AAAAACCCAC          2.364640e+06  4.773007e+06  0.495419\n",
       "27          28  AAAAACCCACCCAA      2.433452e+06  1.299035e+06  1.873277\n",
       "6            7  CAACACCCAA          2.511513e+06  1.237754e+06  2.029088\n",
       "7            8  AAACCCACCA          2.527035e+06  2.693177e+06  0.938310\n",
       "8            9  ACAACACCAC          2.559279e+06  9.082929e+06  0.281768\n",
       "9           10  CAAAACCCCA          2.651666e+06  2.636526e+06  1.005742\n",
       "10          11  AACCAACACC          2.655670e+06  2.437835e+06  1.089356\n",
       "11          12  CAACACAACC          2.695608e+06  1.282530e+06  2.101789\n",
       "28          29  AAACCACCCAACAC      2.745623e+06  9.000536e+05  3.050510\n",
       "12          13  ACCAACACCA          2.765864e+06  2.424509e+06  1.140793\n",
       "13          14  CCACCAACAA          2.825047e+06  2.319907e+06  1.217741\n",
       "29          30  CCCAAACCCAACCA      2.975581e+06  7.788345e+05  3.820556\n",
       "30          31  ACCAACACCAACCA      3.186916e+06  1.203910e+06  2.647137\n",
       "31          32  CAACAACACCACCA      3.242444e+06  1.541026e+06  2.104081\n",
       "32          33  AACCAACACCACCA      3.629903e+06  1.090672e+06  3.328134\n",
       "33          34  AACCACCACAAACC      3.659749e+06  1.869169e+06  1.957955\n",
       "34          35  CAACACAACCAACC      3.763039e+06  5.503229e+05  6.837875\n",
       "35          36  CACCACAACCACCA      3.805400e+06  7.671549e+05  4.960406\n",
       "14          15  ACACACACAC          3.843880e+06  1.382658e+06  2.780066\n",
       "15          16  AACCACCACA          3.865948e+06  2.132135e+06  1.813182\n",
       "16          17  CAACCAACCA          3.960894e+06  2.918605e+06  1.357119\n",
       "36          37  CCCCACACAACAAC      3.961922e+06  5.706240e+05  6.943139\n",
       "37          38  CCACCAACAACAAC      4.062258e+06  9.268812e+05  4.382717\n",
       "17          18  ACACACACCA          4.159347e+06  1.220058e+06  3.409138\n",
       "38          39  ACACACACCACACA      4.442077e+06  5.207751e+05  8.529742\n",
       "39          40  CACACACACACACA      4.818114e+06  1.667976e+06  2.888599\n",
       "40          41  ACCAACCAACCAAC      5.208461e+06  1.196230e+06  4.354061\n",
       "18          19  CCCCACACAA          5.448523e+06  9.350030e+05  5.827278\n",
       "19          20  ACACCACCAC          5.613147e+06  2.058232e+06  2.727169"
      ]
     },
     "execution_count": 25,
     "metadata": {},
     "output_type": "execute_result"
    }
   ],
   "source": [
    "sorted_exp = data.sort_values('expvalue')\n",
    "sorted_exp"
   ]
  },
  {
   "cell_type": "code",
   "execution_count": 26,
   "metadata": {},
   "outputs": [
    {
     "data": {
      "text/html": [
       "<div>\n",
       "<style scoped>\n",
       "    .dataframe tbody tr th:only-of-type {\n",
       "        vertical-align: middle;\n",
       "    }\n",
       "\n",
       "    .dataframe tbody tr th {\n",
       "        vertical-align: top;\n",
       "    }\n",
       "\n",
       "    .dataframe thead th {\n",
       "        text-align: right;\n",
       "    }\n",
       "</style>\n",
       "<table border=\"1\" class=\"dataframe\">\n",
       "  <thead>\n",
       "    <tr style=\"text-align: right;\">\n",
       "      <th></th>\n",
       "      <th>Unnamed: 0</th>\n",
       "      <th>seq</th>\n",
       "      <th>expvalue</th>\n",
       "      <th>computed</th>\n",
       "      <th>ratios</th>\n",
       "    </tr>\n",
       "  </thead>\n",
       "  <tbody>\n",
       "    <tr>\n",
       "      <th>3</th>\n",
       "      <td>4</td>\n",
       "      <td>ACCAAACCAC</td>\n",
       "      <td>2.167675e+06</td>\n",
       "      <td>8.062090e+06</td>\n",
       "      <td>0.268873</td>\n",
       "    </tr>\n",
       "    <tr>\n",
       "      <th>8</th>\n",
       "      <td>9</td>\n",
       "      <td>ACAACACCAC</td>\n",
       "      <td>2.559279e+06</td>\n",
       "      <td>9.082929e+06</td>\n",
       "      <td>0.281768</td>\n",
       "    </tr>\n",
       "    <tr>\n",
       "      <th>5</th>\n",
       "      <td>6</td>\n",
       "      <td>AAAAACCCAC</td>\n",
       "      <td>2.364640e+06</td>\n",
       "      <td>4.773007e+06</td>\n",
       "      <td>0.495419</td>\n",
       "    </tr>\n",
       "    <tr>\n",
       "      <th>2</th>\n",
       "      <td>3</td>\n",
       "      <td>AAACCACACA</td>\n",
       "      <td>1.809459e+06</td>\n",
       "      <td>2.052740e+06</td>\n",
       "      <td>0.881485</td>\n",
       "    </tr>\n",
       "    <tr>\n",
       "      <th>7</th>\n",
       "      <td>8</td>\n",
       "      <td>AAACCCACCA</td>\n",
       "      <td>2.527035e+06</td>\n",
       "      <td>2.693177e+06</td>\n",
       "      <td>0.938310</td>\n",
       "    </tr>\n",
       "    <tr>\n",
       "      <th>9</th>\n",
       "      <td>10</td>\n",
       "      <td>CAAAACCCCA</td>\n",
       "      <td>2.651666e+06</td>\n",
       "      <td>2.636526e+06</td>\n",
       "      <td>1.005742</td>\n",
       "    </tr>\n",
       "    <tr>\n",
       "      <th>23</th>\n",
       "      <td>24</td>\n",
       "      <td>CAAAACCCCAACAC</td>\n",
       "      <td>1.831343e+06</td>\n",
       "      <td>1.698523e+06</td>\n",
       "      <td>1.078197</td>\n",
       "    </tr>\n",
       "    <tr>\n",
       "      <th>10</th>\n",
       "      <td>11</td>\n",
       "      <td>AACCAACACC</td>\n",
       "      <td>2.655670e+06</td>\n",
       "      <td>2.437835e+06</td>\n",
       "      <td>1.089356</td>\n",
       "    </tr>\n",
       "    <tr>\n",
       "      <th>12</th>\n",
       "      <td>13</td>\n",
       "      <td>ACCAACACCA</td>\n",
       "      <td>2.765864e+06</td>\n",
       "      <td>2.424509e+06</td>\n",
       "      <td>1.140793</td>\n",
       "    </tr>\n",
       "    <tr>\n",
       "      <th>13</th>\n",
       "      <td>14</td>\n",
       "      <td>CCACCAACAA</td>\n",
       "      <td>2.825047e+06</td>\n",
       "      <td>2.319907e+06</td>\n",
       "      <td>1.217741</td>\n",
       "    </tr>\n",
       "    <tr>\n",
       "      <th>0</th>\n",
       "      <td>1</td>\n",
       "      <td>GTTCGGTCTA</td>\n",
       "      <td>1.145950e+06</td>\n",
       "      <td>9.067730e+05</td>\n",
       "      <td>1.263767</td>\n",
       "    </tr>\n",
       "    <tr>\n",
       "      <th>4</th>\n",
       "      <td>5</td>\n",
       "      <td>ACACCAAACC</td>\n",
       "      <td>2.178513e+06</td>\n",
       "      <td>1.619336e+06</td>\n",
       "      <td>1.345313</td>\n",
       "    </tr>\n",
       "    <tr>\n",
       "      <th>16</th>\n",
       "      <td>17</td>\n",
       "      <td>CAACCAACCA</td>\n",
       "      <td>3.960894e+06</td>\n",
       "      <td>2.918605e+06</td>\n",
       "      <td>1.357119</td>\n",
       "    </tr>\n",
       "    <tr>\n",
       "      <th>20</th>\n",
       "      <td>21</td>\n",
       "      <td>GCTGTTCGGTCTAT</td>\n",
       "      <td>1.042173e+06</td>\n",
       "      <td>6.452817e+05</td>\n",
       "      <td>1.615067</td>\n",
       "    </tr>\n",
       "    <tr>\n",
       "      <th>21</th>\n",
       "      <td>22</td>\n",
       "      <td>ACCAAACCACCAAC</td>\n",
       "      <td>1.186657e+06</td>\n",
       "      <td>7.041905e+05</td>\n",
       "      <td>1.685136</td>\n",
       "    </tr>\n",
       "    <tr>\n",
       "      <th>15</th>\n",
       "      <td>16</td>\n",
       "      <td>AACCACCACA</td>\n",
       "      <td>3.865948e+06</td>\n",
       "      <td>2.132135e+06</td>\n",
       "      <td>1.813182</td>\n",
       "    </tr>\n",
       "    <tr>\n",
       "      <th>27</th>\n",
       "      <td>28</td>\n",
       "      <td>AAAAACCCACCCAA</td>\n",
       "      <td>2.433452e+06</td>\n",
       "      <td>1.299035e+06</td>\n",
       "      <td>1.873277</td>\n",
       "    </tr>\n",
       "    <tr>\n",
       "      <th>1</th>\n",
       "      <td>2</td>\n",
       "      <td>CCAAAACCAA</td>\n",
       "      <td>1.668154e+06</td>\n",
       "      <td>8.720733e+05</td>\n",
       "      <td>1.912860</td>\n",
       "    </tr>\n",
       "    <tr>\n",
       "      <th>33</th>\n",
       "      <td>34</td>\n",
       "      <td>AACCACCACAAACC</td>\n",
       "      <td>3.659749e+06</td>\n",
       "      <td>1.869169e+06</td>\n",
       "      <td>1.957955</td>\n",
       "    </tr>\n",
       "    <tr>\n",
       "      <th>6</th>\n",
       "      <td>7</td>\n",
       "      <td>CAACACCCAA</td>\n",
       "      <td>2.511513e+06</td>\n",
       "      <td>1.237754e+06</td>\n",
       "      <td>2.029088</td>\n",
       "    </tr>\n",
       "    <tr>\n",
       "      <th>11</th>\n",
       "      <td>12</td>\n",
       "      <td>CAACACAACC</td>\n",
       "      <td>2.695608e+06</td>\n",
       "      <td>1.282530e+06</td>\n",
       "      <td>2.101789</td>\n",
       "    </tr>\n",
       "    <tr>\n",
       "      <th>31</th>\n",
       "      <td>32</td>\n",
       "      <td>CAACAACACCACCA</td>\n",
       "      <td>3.242444e+06</td>\n",
       "      <td>1.541026e+06</td>\n",
       "      <td>2.104081</td>\n",
       "    </tr>\n",
       "    <tr>\n",
       "      <th>30</th>\n",
       "      <td>31</td>\n",
       "      <td>ACCAACACCAACCA</td>\n",
       "      <td>3.186916e+06</td>\n",
       "      <td>1.203910e+06</td>\n",
       "      <td>2.647137</td>\n",
       "    </tr>\n",
       "    <tr>\n",
       "      <th>19</th>\n",
       "      <td>20</td>\n",
       "      <td>ACACCACCAC</td>\n",
       "      <td>5.613147e+06</td>\n",
       "      <td>2.058232e+06</td>\n",
       "      <td>2.727169</td>\n",
       "    </tr>\n",
       "    <tr>\n",
       "      <th>14</th>\n",
       "      <td>15</td>\n",
       "      <td>ACACACACAC</td>\n",
       "      <td>3.843880e+06</td>\n",
       "      <td>1.382658e+06</td>\n",
       "      <td>2.780066</td>\n",
       "    </tr>\n",
       "    <tr>\n",
       "      <th>39</th>\n",
       "      <td>40</td>\n",
       "      <td>CACACACACACACA</td>\n",
       "      <td>4.818114e+06</td>\n",
       "      <td>1.667976e+06</td>\n",
       "      <td>2.888599</td>\n",
       "    </tr>\n",
       "    <tr>\n",
       "      <th>28</th>\n",
       "      <td>29</td>\n",
       "      <td>AAACCACCCAACAC</td>\n",
       "      <td>2.745623e+06</td>\n",
       "      <td>9.000536e+05</td>\n",
       "      <td>3.050510</td>\n",
       "    </tr>\n",
       "    <tr>\n",
       "      <th>25</th>\n",
       "      <td>26</td>\n",
       "      <td>CAACACCCAAACAC</td>\n",
       "      <td>2.124654e+06</td>\n",
       "      <td>6.783646e+05</td>\n",
       "      <td>3.132023</td>\n",
       "    </tr>\n",
       "    <tr>\n",
       "      <th>32</th>\n",
       "      <td>33</td>\n",
       "      <td>AACCAACACCACCA</td>\n",
       "      <td>3.629903e+06</td>\n",
       "      <td>1.090672e+06</td>\n",
       "      <td>3.328134</td>\n",
       "    </tr>\n",
       "    <tr>\n",
       "      <th>17</th>\n",
       "      <td>18</td>\n",
       "      <td>ACACACACCA</td>\n",
       "      <td>4.159347e+06</td>\n",
       "      <td>1.220058e+06</td>\n",
       "      <td>3.409138</td>\n",
       "    </tr>\n",
       "    <tr>\n",
       "      <th>26</th>\n",
       "      <td>27</td>\n",
       "      <td>CCAAAACCAACAAC</td>\n",
       "      <td>2.304253e+06</td>\n",
       "      <td>6.191359e+05</td>\n",
       "      <td>3.721724</td>\n",
       "    </tr>\n",
       "    <tr>\n",
       "      <th>22</th>\n",
       "      <td>23</td>\n",
       "      <td>CAACACCAAACAAC</td>\n",
       "      <td>1.779672e+06</td>\n",
       "      <td>4.780712e+05</td>\n",
       "      <td>3.722608</td>\n",
       "    </tr>\n",
       "    <tr>\n",
       "      <th>29</th>\n",
       "      <td>30</td>\n",
       "      <td>CCCAAACCCAACCA</td>\n",
       "      <td>2.975581e+06</td>\n",
       "      <td>7.788345e+05</td>\n",
       "      <td>3.820556</td>\n",
       "    </tr>\n",
       "    <tr>\n",
       "      <th>24</th>\n",
       "      <td>25</td>\n",
       "      <td>AAACCCACCACACA</td>\n",
       "      <td>1.892296e+06</td>\n",
       "      <td>4.886070e+05</td>\n",
       "      <td>3.872839</td>\n",
       "    </tr>\n",
       "    <tr>\n",
       "      <th>40</th>\n",
       "      <td>41</td>\n",
       "      <td>ACCAACCAACCAAC</td>\n",
       "      <td>5.208461e+06</td>\n",
       "      <td>1.196230e+06</td>\n",
       "      <td>4.354061</td>\n",
       "    </tr>\n",
       "    <tr>\n",
       "      <th>37</th>\n",
       "      <td>38</td>\n",
       "      <td>CCACCAACAACAAC</td>\n",
       "      <td>4.062258e+06</td>\n",
       "      <td>9.268812e+05</td>\n",
       "      <td>4.382717</td>\n",
       "    </tr>\n",
       "    <tr>\n",
       "      <th>35</th>\n",
       "      <td>36</td>\n",
       "      <td>CACCACAACCACCA</td>\n",
       "      <td>3.805400e+06</td>\n",
       "      <td>7.671549e+05</td>\n",
       "      <td>4.960406</td>\n",
       "    </tr>\n",
       "    <tr>\n",
       "      <th>18</th>\n",
       "      <td>19</td>\n",
       "      <td>CCCCACACAA</td>\n",
       "      <td>5.448523e+06</td>\n",
       "      <td>9.350030e+05</td>\n",
       "      <td>5.827278</td>\n",
       "    </tr>\n",
       "    <tr>\n",
       "      <th>34</th>\n",
       "      <td>35</td>\n",
       "      <td>CAACACAACCAACC</td>\n",
       "      <td>3.763039e+06</td>\n",
       "      <td>5.503229e+05</td>\n",
       "      <td>6.837875</td>\n",
       "    </tr>\n",
       "    <tr>\n",
       "      <th>36</th>\n",
       "      <td>37</td>\n",
       "      <td>CCCCACACAACAAC</td>\n",
       "      <td>3.961922e+06</td>\n",
       "      <td>5.706240e+05</td>\n",
       "      <td>6.943139</td>\n",
       "    </tr>\n",
       "    <tr>\n",
       "      <th>38</th>\n",
       "      <td>39</td>\n",
       "      <td>ACACACACCACACA</td>\n",
       "      <td>4.442077e+06</td>\n",
       "      <td>5.207751e+05</td>\n",
       "      <td>8.529742</td>\n",
       "    </tr>\n",
       "  </tbody>\n",
       "</table>\n",
       "</div>"
      ],
      "text/plain": [
       "    Unnamed: 0                 seq      expvalue      computed    ratios\n",
       "3            4  ACCAAACCAC          2.167675e+06  8.062090e+06  0.268873\n",
       "8            9  ACAACACCAC          2.559279e+06  9.082929e+06  0.281768\n",
       "5            6  AAAAACCCAC          2.364640e+06  4.773007e+06  0.495419\n",
       "2            3  AAACCACACA          1.809459e+06  2.052740e+06  0.881485\n",
       "7            8  AAACCCACCA          2.527035e+06  2.693177e+06  0.938310\n",
       "9           10  CAAAACCCCA          2.651666e+06  2.636526e+06  1.005742\n",
       "23          24  CAAAACCCCAACAC      1.831343e+06  1.698523e+06  1.078197\n",
       "10          11  AACCAACACC          2.655670e+06  2.437835e+06  1.089356\n",
       "12          13  ACCAACACCA          2.765864e+06  2.424509e+06  1.140793\n",
       "13          14  CCACCAACAA          2.825047e+06  2.319907e+06  1.217741\n",
       "0            1  GTTCGGTCTA          1.145950e+06  9.067730e+05  1.263767\n",
       "4            5  ACACCAAACC          2.178513e+06  1.619336e+06  1.345313\n",
       "16          17  CAACCAACCA          3.960894e+06  2.918605e+06  1.357119\n",
       "20          21  GCTGTTCGGTCTAT      1.042173e+06  6.452817e+05  1.615067\n",
       "21          22  ACCAAACCACCAAC      1.186657e+06  7.041905e+05  1.685136\n",
       "15          16  AACCACCACA          3.865948e+06  2.132135e+06  1.813182\n",
       "27          28  AAAAACCCACCCAA      2.433452e+06  1.299035e+06  1.873277\n",
       "1            2  CCAAAACCAA          1.668154e+06  8.720733e+05  1.912860\n",
       "33          34  AACCACCACAAACC      3.659749e+06  1.869169e+06  1.957955\n",
       "6            7  CAACACCCAA          2.511513e+06  1.237754e+06  2.029088\n",
       "11          12  CAACACAACC          2.695608e+06  1.282530e+06  2.101789\n",
       "31          32  CAACAACACCACCA      3.242444e+06  1.541026e+06  2.104081\n",
       "30          31  ACCAACACCAACCA      3.186916e+06  1.203910e+06  2.647137\n",
       "19          20  ACACCACCAC          5.613147e+06  2.058232e+06  2.727169\n",
       "14          15  ACACACACAC          3.843880e+06  1.382658e+06  2.780066\n",
       "39          40  CACACACACACACA      4.818114e+06  1.667976e+06  2.888599\n",
       "28          29  AAACCACCCAACAC      2.745623e+06  9.000536e+05  3.050510\n",
       "25          26  CAACACCCAAACAC      2.124654e+06  6.783646e+05  3.132023\n",
       "32          33  AACCAACACCACCA      3.629903e+06  1.090672e+06  3.328134\n",
       "17          18  ACACACACCA          4.159347e+06  1.220058e+06  3.409138\n",
       "26          27  CCAAAACCAACAAC      2.304253e+06  6.191359e+05  3.721724\n",
       "22          23  CAACACCAAACAAC      1.779672e+06  4.780712e+05  3.722608\n",
       "29          30  CCCAAACCCAACCA      2.975581e+06  7.788345e+05  3.820556\n",
       "24          25  AAACCCACCACACA      1.892296e+06  4.886070e+05  3.872839\n",
       "40          41  ACCAACCAACCAAC      5.208461e+06  1.196230e+06  4.354061\n",
       "37          38  CCACCAACAACAAC      4.062258e+06  9.268812e+05  4.382717\n",
       "35          36  CACCACAACCACCA      3.805400e+06  7.671549e+05  4.960406\n",
       "18          19  CCCCACACAA          5.448523e+06  9.350030e+05  5.827278\n",
       "34          35  CAACACAACCAACC      3.763039e+06  5.503229e+05  6.837875\n",
       "36          37  CCCCACACAACAAC      3.961922e+06  5.706240e+05  6.943139\n",
       "38          39  ACACACACCACACA      4.442077e+06  5.207751e+05  8.529742"
      ]
     },
     "execution_count": 26,
     "metadata": {},
     "output_type": "execute_result"
    }
   ],
   "source": [
    "sorted_ratios = data.sort_values('ratios')\n",
    "sorted_ratios"
   ]
  },
  {
   "cell_type": "code",
   "execution_count": 19,
   "metadata": {},
   "outputs": [
    {
     "data": {
      "application/vnd.plotly.v1+json": {
       "config": {
        "plotlyServerURL": "https://plot.ly"
       },
       "data": [
        {
         "hovertemplate": "x=%{x}<br>y=%{y}<extra></extra>",
         "legendgroup": "",
         "marker": {
          "color": "#636efa",
          "symbol": "circle"
         },
         "mode": "markers",
         "name": "",
         "orientation": "v",
         "showlegend": false,
         "type": "scatter",
         "x": [
          1145950,
          1668154,
          1809459,
          2167675,
          2178513,
          2364640,
          2511513,
          2527035,
          2559279,
          2651666,
          2655670,
          2695608,
          2765864,
          2825047,
          3843880,
          3865948,
          3960894,
          4159347,
          5448523,
          5613147,
          1042173,
          1186657,
          1779672,
          1831343,
          1892296,
          2124654,
          2304253,
          2433452,
          2745623,
          2975581,
          3186916,
          3242444,
          3629903,
          3659749,
          3763039,
          3805400,
          3961922,
          4062258,
          4442077,
          4818114,
          5208461
         ],
         "xaxis": "x",
         "y": [
          906773.0406218768,
          872073.3432558671,
          2052739.613893914,
          8062089.971462031,
          1619335.742639955,
          4773006.887358356,
          1237754.407824178,
          2693177.319089519,
          9082929.451983508,
          2636526.2852698625,
          2437835.0018211594,
          1282530.108913164,
          2424509.3726068647,
          2319907.322027278,
          1382657.5786988726,
          2132134.9136992483,
          2918604.950275715,
          1220058.348854322,
          935003.0341001424,
          2058232.3512842136,
          645281.6945723473,
          704190.5237275234,
          478071.225461395,
          1698522.8956906844,
          488606.9744452262,
          678364.6483715808,
          619135.8893136771,
          1299034.7098929803,
          900053.6345652366,
          778834.5325014511,
          1203910.416499538,
          1541025.9438083454,
          1090672.1593247417,
          1869168.8260082067,
          550322.9109772132,
          767154.8801077883,
          570624.0309138194,
          926881.2315818736,
          520775.0535603343,
          1667975.82856599,
          1196230.470742457
         ],
         "yaxis": "y"
        }
       ],
       "layout": {
        "legend": {
         "tracegroupgap": 0
        },
        "margin": {
         "t": 60
        },
        "template": {
         "data": {
          "bar": [
           {
            "error_x": {
             "color": "#2a3f5f"
            },
            "error_y": {
             "color": "#2a3f5f"
            },
            "marker": {
             "line": {
              "color": "#E5ECF6",
              "width": 0.5
             },
             "pattern": {
              "fillmode": "overlay",
              "size": 10,
              "solidity": 0.2
             }
            },
            "type": "bar"
           }
          ],
          "barpolar": [
           {
            "marker": {
             "line": {
              "color": "#E5ECF6",
              "width": 0.5
             },
             "pattern": {
              "fillmode": "overlay",
              "size": 10,
              "solidity": 0.2
             }
            },
            "type": "barpolar"
           }
          ],
          "carpet": [
           {
            "aaxis": {
             "endlinecolor": "#2a3f5f",
             "gridcolor": "white",
             "linecolor": "white",
             "minorgridcolor": "white",
             "startlinecolor": "#2a3f5f"
            },
            "baxis": {
             "endlinecolor": "#2a3f5f",
             "gridcolor": "white",
             "linecolor": "white",
             "minorgridcolor": "white",
             "startlinecolor": "#2a3f5f"
            },
            "type": "carpet"
           }
          ],
          "choropleth": [
           {
            "colorbar": {
             "outlinewidth": 0,
             "ticks": ""
            },
            "type": "choropleth"
           }
          ],
          "contour": [
           {
            "colorbar": {
             "outlinewidth": 0,
             "ticks": ""
            },
            "colorscale": [
             [
              0,
              "#0d0887"
             ],
             [
              0.1111111111111111,
              "#46039f"
             ],
             [
              0.2222222222222222,
              "#7201a8"
             ],
             [
              0.3333333333333333,
              "#9c179e"
             ],
             [
              0.4444444444444444,
              "#bd3786"
             ],
             [
              0.5555555555555556,
              "#d8576b"
             ],
             [
              0.6666666666666666,
              "#ed7953"
             ],
             [
              0.7777777777777778,
              "#fb9f3a"
             ],
             [
              0.8888888888888888,
              "#fdca26"
             ],
             [
              1,
              "#f0f921"
             ]
            ],
            "type": "contour"
           }
          ],
          "contourcarpet": [
           {
            "colorbar": {
             "outlinewidth": 0,
             "ticks": ""
            },
            "type": "contourcarpet"
           }
          ],
          "heatmap": [
           {
            "colorbar": {
             "outlinewidth": 0,
             "ticks": ""
            },
            "colorscale": [
             [
              0,
              "#0d0887"
             ],
             [
              0.1111111111111111,
              "#46039f"
             ],
             [
              0.2222222222222222,
              "#7201a8"
             ],
             [
              0.3333333333333333,
              "#9c179e"
             ],
             [
              0.4444444444444444,
              "#bd3786"
             ],
             [
              0.5555555555555556,
              "#d8576b"
             ],
             [
              0.6666666666666666,
              "#ed7953"
             ],
             [
              0.7777777777777778,
              "#fb9f3a"
             ],
             [
              0.8888888888888888,
              "#fdca26"
             ],
             [
              1,
              "#f0f921"
             ]
            ],
            "type": "heatmap"
           }
          ],
          "heatmapgl": [
           {
            "colorbar": {
             "outlinewidth": 0,
             "ticks": ""
            },
            "colorscale": [
             [
              0,
              "#0d0887"
             ],
             [
              0.1111111111111111,
              "#46039f"
             ],
             [
              0.2222222222222222,
              "#7201a8"
             ],
             [
              0.3333333333333333,
              "#9c179e"
             ],
             [
              0.4444444444444444,
              "#bd3786"
             ],
             [
              0.5555555555555556,
              "#d8576b"
             ],
             [
              0.6666666666666666,
              "#ed7953"
             ],
             [
              0.7777777777777778,
              "#fb9f3a"
             ],
             [
              0.8888888888888888,
              "#fdca26"
             ],
             [
              1,
              "#f0f921"
             ]
            ],
            "type": "heatmapgl"
           }
          ],
          "histogram": [
           {
            "marker": {
             "pattern": {
              "fillmode": "overlay",
              "size": 10,
              "solidity": 0.2
             }
            },
            "type": "histogram"
           }
          ],
          "histogram2d": [
           {
            "colorbar": {
             "outlinewidth": 0,
             "ticks": ""
            },
            "colorscale": [
             [
              0,
              "#0d0887"
             ],
             [
              0.1111111111111111,
              "#46039f"
             ],
             [
              0.2222222222222222,
              "#7201a8"
             ],
             [
              0.3333333333333333,
              "#9c179e"
             ],
             [
              0.4444444444444444,
              "#bd3786"
             ],
             [
              0.5555555555555556,
              "#d8576b"
             ],
             [
              0.6666666666666666,
              "#ed7953"
             ],
             [
              0.7777777777777778,
              "#fb9f3a"
             ],
             [
              0.8888888888888888,
              "#fdca26"
             ],
             [
              1,
              "#f0f921"
             ]
            ],
            "type": "histogram2d"
           }
          ],
          "histogram2dcontour": [
           {
            "colorbar": {
             "outlinewidth": 0,
             "ticks": ""
            },
            "colorscale": [
             [
              0,
              "#0d0887"
             ],
             [
              0.1111111111111111,
              "#46039f"
             ],
             [
              0.2222222222222222,
              "#7201a8"
             ],
             [
              0.3333333333333333,
              "#9c179e"
             ],
             [
              0.4444444444444444,
              "#bd3786"
             ],
             [
              0.5555555555555556,
              "#d8576b"
             ],
             [
              0.6666666666666666,
              "#ed7953"
             ],
             [
              0.7777777777777778,
              "#fb9f3a"
             ],
             [
              0.8888888888888888,
              "#fdca26"
             ],
             [
              1,
              "#f0f921"
             ]
            ],
            "type": "histogram2dcontour"
           }
          ],
          "mesh3d": [
           {
            "colorbar": {
             "outlinewidth": 0,
             "ticks": ""
            },
            "type": "mesh3d"
           }
          ],
          "parcoords": [
           {
            "line": {
             "colorbar": {
              "outlinewidth": 0,
              "ticks": ""
             }
            },
            "type": "parcoords"
           }
          ],
          "pie": [
           {
            "automargin": true,
            "type": "pie"
           }
          ],
          "scatter": [
           {
            "fillpattern": {
             "fillmode": "overlay",
             "size": 10,
             "solidity": 0.2
            },
            "type": "scatter"
           }
          ],
          "scatter3d": [
           {
            "line": {
             "colorbar": {
              "outlinewidth": 0,
              "ticks": ""
             }
            },
            "marker": {
             "colorbar": {
              "outlinewidth": 0,
              "ticks": ""
             }
            },
            "type": "scatter3d"
           }
          ],
          "scattercarpet": [
           {
            "marker": {
             "colorbar": {
              "outlinewidth": 0,
              "ticks": ""
             }
            },
            "type": "scattercarpet"
           }
          ],
          "scattergeo": [
           {
            "marker": {
             "colorbar": {
              "outlinewidth": 0,
              "ticks": ""
             }
            },
            "type": "scattergeo"
           }
          ],
          "scattergl": [
           {
            "marker": {
             "colorbar": {
              "outlinewidth": 0,
              "ticks": ""
             }
            },
            "type": "scattergl"
           }
          ],
          "scattermapbox": [
           {
            "marker": {
             "colorbar": {
              "outlinewidth": 0,
              "ticks": ""
             }
            },
            "type": "scattermapbox"
           }
          ],
          "scatterpolar": [
           {
            "marker": {
             "colorbar": {
              "outlinewidth": 0,
              "ticks": ""
             }
            },
            "type": "scatterpolar"
           }
          ],
          "scatterpolargl": [
           {
            "marker": {
             "colorbar": {
              "outlinewidth": 0,
              "ticks": ""
             }
            },
            "type": "scatterpolargl"
           }
          ],
          "scatterternary": [
           {
            "marker": {
             "colorbar": {
              "outlinewidth": 0,
              "ticks": ""
             }
            },
            "type": "scatterternary"
           }
          ],
          "surface": [
           {
            "colorbar": {
             "outlinewidth": 0,
             "ticks": ""
            },
            "colorscale": [
             [
              0,
              "#0d0887"
             ],
             [
              0.1111111111111111,
              "#46039f"
             ],
             [
              0.2222222222222222,
              "#7201a8"
             ],
             [
              0.3333333333333333,
              "#9c179e"
             ],
             [
              0.4444444444444444,
              "#bd3786"
             ],
             [
              0.5555555555555556,
              "#d8576b"
             ],
             [
              0.6666666666666666,
              "#ed7953"
             ],
             [
              0.7777777777777778,
              "#fb9f3a"
             ],
             [
              0.8888888888888888,
              "#fdca26"
             ],
             [
              1,
              "#f0f921"
             ]
            ],
            "type": "surface"
           }
          ],
          "table": [
           {
            "cells": {
             "fill": {
              "color": "#EBF0F8"
             },
             "line": {
              "color": "white"
             }
            },
            "header": {
             "fill": {
              "color": "#C8D4E3"
             },
             "line": {
              "color": "white"
             }
            },
            "type": "table"
           }
          ]
         },
         "layout": {
          "annotationdefaults": {
           "arrowcolor": "#2a3f5f",
           "arrowhead": 0,
           "arrowwidth": 1
          },
          "autotypenumbers": "strict",
          "coloraxis": {
           "colorbar": {
            "outlinewidth": 0,
            "ticks": ""
           }
          },
          "colorscale": {
           "diverging": [
            [
             0,
             "#8e0152"
            ],
            [
             0.1,
             "#c51b7d"
            ],
            [
             0.2,
             "#de77ae"
            ],
            [
             0.3,
             "#f1b6da"
            ],
            [
             0.4,
             "#fde0ef"
            ],
            [
             0.5,
             "#f7f7f7"
            ],
            [
             0.6,
             "#e6f5d0"
            ],
            [
             0.7,
             "#b8e186"
            ],
            [
             0.8,
             "#7fbc41"
            ],
            [
             0.9,
             "#4d9221"
            ],
            [
             1,
             "#276419"
            ]
           ],
           "sequential": [
            [
             0,
             "#0d0887"
            ],
            [
             0.1111111111111111,
             "#46039f"
            ],
            [
             0.2222222222222222,
             "#7201a8"
            ],
            [
             0.3333333333333333,
             "#9c179e"
            ],
            [
             0.4444444444444444,
             "#bd3786"
            ],
            [
             0.5555555555555556,
             "#d8576b"
            ],
            [
             0.6666666666666666,
             "#ed7953"
            ],
            [
             0.7777777777777778,
             "#fb9f3a"
            ],
            [
             0.8888888888888888,
             "#fdca26"
            ],
            [
             1,
             "#f0f921"
            ]
           ],
           "sequentialminus": [
            [
             0,
             "#0d0887"
            ],
            [
             0.1111111111111111,
             "#46039f"
            ],
            [
             0.2222222222222222,
             "#7201a8"
            ],
            [
             0.3333333333333333,
             "#9c179e"
            ],
            [
             0.4444444444444444,
             "#bd3786"
            ],
            [
             0.5555555555555556,
             "#d8576b"
            ],
            [
             0.6666666666666666,
             "#ed7953"
            ],
            [
             0.7777777777777778,
             "#fb9f3a"
            ],
            [
             0.8888888888888888,
             "#fdca26"
            ],
            [
             1,
             "#f0f921"
            ]
           ]
          },
          "colorway": [
           "#636efa",
           "#EF553B",
           "#00cc96",
           "#ab63fa",
           "#FFA15A",
           "#19d3f3",
           "#FF6692",
           "#B6E880",
           "#FF97FF",
           "#FECB52"
          ],
          "font": {
           "color": "#2a3f5f"
          },
          "geo": {
           "bgcolor": "white",
           "lakecolor": "white",
           "landcolor": "#E5ECF6",
           "showlakes": true,
           "showland": true,
           "subunitcolor": "white"
          },
          "hoverlabel": {
           "align": "left"
          },
          "hovermode": "closest",
          "mapbox": {
           "style": "light"
          },
          "paper_bgcolor": "white",
          "plot_bgcolor": "#E5ECF6",
          "polar": {
           "angularaxis": {
            "gridcolor": "white",
            "linecolor": "white",
            "ticks": ""
           },
           "bgcolor": "#E5ECF6",
           "radialaxis": {
            "gridcolor": "white",
            "linecolor": "white",
            "ticks": ""
           }
          },
          "scene": {
           "xaxis": {
            "backgroundcolor": "#E5ECF6",
            "gridcolor": "white",
            "gridwidth": 2,
            "linecolor": "white",
            "showbackground": true,
            "ticks": "",
            "zerolinecolor": "white"
           },
           "yaxis": {
            "backgroundcolor": "#E5ECF6",
            "gridcolor": "white",
            "gridwidth": 2,
            "linecolor": "white",
            "showbackground": true,
            "ticks": "",
            "zerolinecolor": "white"
           },
           "zaxis": {
            "backgroundcolor": "#E5ECF6",
            "gridcolor": "white",
            "gridwidth": 2,
            "linecolor": "white",
            "showbackground": true,
            "ticks": "",
            "zerolinecolor": "white"
           }
          },
          "shapedefaults": {
           "line": {
            "color": "#2a3f5f"
           }
          },
          "ternary": {
           "aaxis": {
            "gridcolor": "white",
            "linecolor": "white",
            "ticks": ""
           },
           "baxis": {
            "gridcolor": "white",
            "linecolor": "white",
            "ticks": ""
           },
           "bgcolor": "#E5ECF6",
           "caxis": {
            "gridcolor": "white",
            "linecolor": "white",
            "ticks": ""
           }
          },
          "title": {
           "x": 0.05
          },
          "xaxis": {
           "automargin": true,
           "gridcolor": "white",
           "linecolor": "white",
           "ticks": "",
           "title": {
            "standoff": 15
           },
           "zerolinecolor": "white",
           "zerolinewidth": 2
          },
          "yaxis": {
           "automargin": true,
           "gridcolor": "white",
           "linecolor": "white",
           "ticks": "",
           "title": {
            "standoff": 15
           },
           "zerolinecolor": "white",
           "zerolinewidth": 2
          }
         }
        },
        "xaxis": {
         "anchor": "y",
         "domain": [
          0,
          1
         ],
         "title": {
          "text": "x"
         }
        },
        "yaxis": {
         "anchor": "x",
         "domain": [
          0,
          1
         ],
         "title": {
          "text": "y"
         }
        }
       }
      }
     },
     "metadata": {},
     "output_type": "display_data"
    }
   ],
   "source": [
    "fig = px.scatter(x=sorted_exp['expvalue'], y=sorted_exp['computed'])\n",
    "fig.show()"
   ]
  },
  {
   "cell_type": "code",
   "execution_count": null,
   "metadata": {},
   "outputs": [],
   "source": []
  }
 ],
 "metadata": {
  "kernelspec": {
   "display_name": "hdna",
   "language": "python",
   "name": "python3"
  },
  "language_info": {
   "codemirror_mode": {
    "name": "ipython",
    "version": 3
   },
   "file_extension": ".py",
   "mimetype": "text/x-python",
   "name": "python",
   "nbconvert_exporter": "python",
   "pygments_lexer": "ipython3",
   "version": "3.10.9"
  },
  "orig_nbformat": 4,
  "vscode": {
   "interpreter": {
    "hash": "13f02c433cbffcd00bbcbbfeff349f4b7c28e9023d8fb9f65ab93bb104997abd"
   }
  }
 },
 "nbformat": 4,
 "nbformat_minor": 2
}
