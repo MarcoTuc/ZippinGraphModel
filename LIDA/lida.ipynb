{
 "cells": [
  {
   "cell_type": "code",
   "execution_count": 19,
   "metadata": {},
   "outputs": [
    {
     "name": "stdout",
     "output_type": "stream",
     "text": [
      "The autoreload extension is already loaded. To reload it, use:\n",
      "  %reload_ext autoreload\n"
     ]
    }
   ],
   "source": [
    "%load_ext autoreload\n",
    "%autoreload 2"
   ]
  },
  {
   "cell_type": "code",
   "execution_count": 20,
   "metadata": {},
   "outputs": [],
   "source": [
    "import sys \n",
    "sys.path.append('..')\n",
    "\n",
    "import numpy as np \n",
    "\n",
    "from hdna import * "
   ]
  },
  {
   "cell_type": "code",
   "execution_count": 21,
   "metadata": {},
   "outputs": [],
   "source": [
    "M = Model(standard=True)\n",
    "M2 = Model(space_dimensionality='2D', \n",
    "           sliding=1.5e5, \n",
    "           zipping=7.7e7,\n",
    "           celsius=26  )"
   ]
  },
  {
   "cell_type": "code",
   "execution_count": 22,
   "metadata": {},
   "outputs": [],
   "source": [
    "M = Model(standard=True)\n",
    "A = Strand(M, 'AACCAACC')\n",
    "B = A.complementary()\n",
    "K = Kinetwork(M, A, B)\n",
    "K.save_graph('.')"
   ]
  },
  {
   "cell_type": "code",
   "execution_count": 23,
   "metadata": {},
   "outputs": [
    {
     "name": "stdout",
     "output_type": "stream",
     "text": [
      "3.341532466375093e-08\n",
      "3.2902480519497757e-06\n",
      "4.611e+14\n"
     ]
    }
   ],
   "source": [
    "A = Strand(M, 'AAAAAAAAAAAAAAA')\n",
    "B = Strand(M, 'TTTTTTTTTTTTTTT')\n",
    "K = Kinetics(M, A, B)\n",
    "print(K.tdiff_saffdelb())\n",
    "print(K.pD1*6*np.pi*0.19)\n",
    "print(f'{1/K.ksphere_sano():.3e}')"
   ]
  },
  {
   "cell_type": "code",
   "execution_count": 24,
   "metadata": {},
   "outputs": [],
   "source": [
    "def kback(kf, dg):\n",
    "    return kf * np.exp(dg/(CONST.R*M.kelvin))\n",
    "def keq(dg):\n",
    "    return np.exp(-dg/(CONST.R*M.kelvin))"
   ]
  },
  {
   "cell_type": "code",
   "execution_count": 25,
   "metadata": {},
   "outputs": [
    {
     "data": {
      "text/plain": [
       "18"
      ]
     },
     "execution_count": 25,
     "metadata": {},
     "output_type": "execute_result"
    }
   ],
   "source": [
    "                        #X#\n",
    "Tl = Strand(M, 'TTGTTAAATATTGATAAG')\n",
    "R1 = Strand(M, 'AACAATTTAT'        ).invert\n",
    "R2 = Strand(M,           'AACGATTC').invert\n",
    "                            #M#\n",
    "\n",
    "Tr = Strand(M, 'AACAATTTATAACGATTC')\n",
    "L1 = Strand(M, 'TTGTTAAAT').invert\n",
    "L2 = Strand(M,          'ATTGATAAG').invert\n",
    "                        #X# #M#\n",
    "Tl.length"
   ]
  },
  {
   "cell_type": "code",
   "execution_count": 26,
   "metadata": {},
   "outputs": [],
   "source": [
    "TR1 = Complex(M, Tl, R1, state='duplex', structure='(((((((((.........+.)))))))))')\n",
    "TR2 = Complex(M, Tl, R2, state='duplex', structure='..........(((.((((+)))).)))') \n",
    "TL1 = Complex(M, Tr, L1, state='duplex', structure='(((((((((.........+)))))))))')\n",
    "TL2 = Complex(M, Tr, L2, state='duplex', structure='..........(((.((((+)))).))).')\n",
    "O1 = Complex(M, R1.invert, L1, state='duplex', structure='(((((((((.+)))))))))')\n",
    "O2 = Complex(M, R2.invert, L2, state='duplex', structure='(((.((((+)))).))).')\n",
    "D = Complex(M, Tl, Tr.invert, state='duplex', structure='(((((((((((((.((((+)))).)))))))))))))')\n",
    "DUPLEXG = D.G + 7.6 #ABASIC PENALTY"
   ]
  },
  {
   "cell_type": "code",
   "execution_count": 27,
   "metadata": {},
   "outputs": [
    {
     "name": "stdout",
     "output_type": "stream",
     "text": [
      "-23.72928189165215\n",
      "AACGGGGTATATGGC\n",
      "GCCATATACCCCGTT\n",
      "2.174316147827588e+17\n",
      "AACGGGGTATATGGC+GCCATATACCCCGTT\n",
      "(((((((((((((((+)))))))))))))))\n"
     ]
    }
   ],
   "source": [
    "A = Strand(M, 'AACGGGGTATATGGC')\n",
    "B = A.complementary()\n",
    "C = Complex(M, A, B.invert, state='duplex')\n",
    "print(C.G)\n",
    "print(A.sequence)\n",
    "print(B.invert.sequence)\n",
    "KE = keq(C.G)\n",
    "print(KE)\n",
    "\n",
    "print(A.sequence+'+'+B.invert.sequence)\n",
    "print(C.structure)"
   ]
  },
  {
   "attachments": {},
   "cell_type": "markdown",
   "metadata": {},
   "source": [
    "### 3D Simple\n",
    "\n"
   ]
  },
  {
   "cell_type": "code",
   "execution_count": 28,
   "metadata": {},
   "outputs": [
    {
     "name": "stdout",
     "output_type": "stream",
     "text": [
      "0.005835262345679013\n",
      "1.006e+07\n",
      "2.000e+07\n"
     ]
    }
   ],
   "source": [
    "kz = 2e8\n",
    "kdl = 4e9\n",
    "theta = 90\n",
    "phi   = 110\n",
    "rho = np.power((theta*phi)/(np.power(360,2)),2)\n",
    "print(rho)\n",
    "kn = kdl * rho\n",
    "kb = kn*np.exp(-0.5/(1.987e-3*(273.15 + 26)))\n",
    "print(f'{kb:.3e}')\n",
    "kobs = (kn*kz)/(kz+kn+kb)\n",
    "print(f'{kobs:.3e}')"
   ]
  },
  {
   "cell_type": "code",
   "execution_count": 49,
   "metadata": {},
   "outputs": [
    {
     "name": "stdout",
     "output_type": "stream",
     "text": [
      "kbtr1: 0.09803238854501184\n",
      "kbtr2: 28.365099301677763\n",
      "kbtl1: 0.09803238854501184\n",
      "kbtl2: 51.85167253548677\n",
      "kbo1: 0.09803238854501184\n",
      "kbo2: 51.85167253548677\n",
      "kbduplex: 0.012280648210516427\n"
     ]
    }
   ],
   "source": [
    "kh = 4.763e6\n",
    "\n",
    "kbtr1 = kback(kh, TR1.G)\n",
    "kbtr2 = kback(kh, TR2.G)\n",
    "kbtl1 = kback(kh, TL1.G)\n",
    "kbtl2 = kback(kh, TL2.G)\n",
    "\n",
    "kbo1 = kback(kh, O1.G)\n",
    "kbo2 = kback(kh, O2.G)\n",
    "\n",
    "kbduplex = kback(kh, DUPLEXG) #abasic penalty\n",
    "\n",
    "print('kbtr1:',kbtr1)\n",
    "print('kbtr2:',kbtr2)\n",
    "print('kbtl1:',kbtl1)\n",
    "print('kbtl2:',kbtl2)\n",
    "print('kbo1:',kbo1)\n",
    "print('kbo2:',kbo2)\n",
    "print('kbduplex:',kbduplex)"
   ]
  },
  {
   "attachments": {},
   "cell_type": "markdown",
   "metadata": {},
   "source": [
    "### 2D Simple Model "
   ]
  },
  {
   "cell_type": "code",
   "execution_count": 30,
   "metadata": {},
   "outputs": [
    {
     "name": "stdout",
     "output_type": "stream",
     "text": [
      "1.142e+08\n"
     ]
    }
   ],
   "source": [
    "#2D SIMPLE MODEL \n",
    "k2dl = 1e15*1e-5\n",
    "rho2 = np.power(theta/360,2)\n",
    "kn2  = k2dl*rho2\n",
    "kb2  = kn2*np.exp(-0.5/(1.987e-3*(273.15 + 26)))\n",
    "kobs2 = (kn2*kz)/(kz+kn2+kb2)\n",
    "print(f'{kobs2:.3e}')"
   ]
  },
  {
   "cell_type": "code",
   "execution_count": 46,
   "metadata": {},
   "outputs": [
    {
     "name": "stdout",
     "output_type": "stream",
     "text": [
      "kbtr1: 0.23957526824772996\n",
      "kbtr2: 28.365099301677763\n",
      "kbtl1: 0.23957526824772996\n",
      "kbtl2: 51.85167253548677\n",
      "kbo1: 0.23957526824772996\n",
      "kbo2: 51.85167253548677\n",
      "kbduplex: 0.03001191374562486\n"
     ]
    }
   ],
   "source": [
    "kh2 = 1.164e7\n",
    "kh3 = 4.763e6\n",
    "\n",
    "kbtr1 = kback(kh2, TR1.G)\n",
    "kbtr2 = kback(kh3, TR2.G)\n",
    "kbtl1 = kback(kh2, TL1.G)\n",
    "kbtl2 = kback(kh3, TL2.G)\n",
    "\n",
    "kbo1 = kback(kh2, O1.G)\n",
    "kbo2 = kback(kh3, O2.G)\n",
    "\n",
    "kbduplex = kback(kh2, DUPLEXG) #abasic penalty\n",
    "\n",
    "print('kbtr1:',kbtr1)\n",
    "print('kbtr2:',kbtr2)\n",
    "print('kbtl1:',kbtl1)\n",
    "print('kbtl2:',kbtl2)\n",
    "print('kbo1:',kbo1)\n",
    "print('kbo2:',kbo2)\n",
    "print('kbduplex:',kbduplex)"
   ]
  },
  {
   "attachments": {},
   "cell_type": "markdown",
   "metadata": {},
   "source": [
    "### 3D Zipper Graph Rates"
   ]
  },
  {
   "cell_type": "code",
   "execution_count": 32,
   "metadata": {},
   "outputs": [],
   "source": [
    "                        \n",
    "TlC     = Strand(M, 'TTGTTAAATATTGATAAG')\n",
    "                             #X#\n",
    "r1comp  = Strand(M, 'TTGTTAAATA')\n",
    "R1C     = Strand(M, 'AACAATTTAT'        )\n",
    "r2comp  = Strand(M,           'TTGATAAG')\n",
    "R2C     = Strand(M,           'AACTATTC')\n",
    "\n",
    "                             #X#\n",
    "TrC     = Strand(M, 'AACAATTTATAACTATTC')\n",
    "\n",
    "l1comp  = Strand(M, 'AACAATTTA')\n",
    "L1C     = Strand(M, 'TTGTTAAAT')\n",
    "l2comp  = Strand(M,          'TAACTATTC')\n",
    "L2C     = Strand(M,          'ATTGATAAG')\n",
    "                                 #M#"
   ]
  },
  {
   "cell_type": "code",
   "execution_count": 33,
   "metadata": {},
   "outputs": [],
   "source": [
    "TR1C = Complex(M, r1comp, R1C.invert, state='duplex', structure='((((((((((+))))))))))')\n",
    "TR2C = Complex(M, r2comp, R2C.invert, state='duplex', structure='((((((((+))))))))') \n",
    "TL1C = Complex(M, l1comp, L1C.invert, state='duplex', structure='(((((((((+)))))))))')\n",
    "TL2C = Complex(M, l2comp, L2C.invert, state='duplex', structure='(((((((((+)))))))))')\n",
    "\n",
    "DC = Complex(M, TlC, TrC.invert, state='duplex', structure='((((((((((((((((((+))))))))))))))))))')"
   ]
  },
  {
   "cell_type": "code",
   "execution_count": 34,
   "metadata": {},
   "outputs": [],
   "source": [
    "complexes = {\n",
    "    'TR1': TR1C,\n",
    "    'TR2': TR2C,\n",
    "    'TL1': TL1C,\n",
    "    'TL2': TL2C,\n",
    "    'D':   DC\n",
    "}\n",
    "\n",
    "complexesoriginal = {\n",
    "    'TR1': TR1,\n",
    "    'TR2': TR2,\n",
    "    'TL1': TL1,\n",
    "    'TL2': TL2,\n",
    "    'O1':  O1,\n",
    "    'O2':  O2,\n",
    "    'D':   DC\n",
    "}"
   ]
  },
  {
   "cell_type": "code",
   "execution_count": 35,
   "metadata": {},
   "outputs": [
    {
     "name": "stdout",
     "output_type": "stream",
     "text": [
      "((((((((((+)))))))))) TR1\n"
     ]
    },
    {
     "name": "stderr",
     "output_type": "stream",
     "text": [
      "                                                               \r"
     ]
    },
    {
     "name": "stdout",
     "output_type": "stream",
     "text": [
      "0 simulations didn't produce a duplex.\n",
      "That's 0.0% of simulations\n",
      "((((((((+)))))))) TR2\n"
     ]
    },
    {
     "name": "stderr",
     "output_type": "stream",
     "text": [
      "                                                               \r"
     ]
    },
    {
     "name": "stdout",
     "output_type": "stream",
     "text": [
      "0 simulations didn't produce a duplex.\n",
      "That's 0.0% of simulations\n",
      "(((((((((+))))))))) TL1\n"
     ]
    },
    {
     "name": "stderr",
     "output_type": "stream",
     "text": [
      "                                                               \r"
     ]
    },
    {
     "name": "stdout",
     "output_type": "stream",
     "text": [
      "0 simulations didn't produce a duplex.\n",
      "That's 0.0% of simulations\n",
      "(((((((((+))))))))) TL2\n"
     ]
    },
    {
     "name": "stderr",
     "output_type": "stream",
     "text": [
      "                                                               \r"
     ]
    },
    {
     "name": "stdout",
     "output_type": "stream",
     "text": [
      "0 simulations didn't produce a duplex.\n",
      "That's 0.0% of simulations\n",
      "((((((((((((((((((+)))))))))))))))))) D\n"
     ]
    },
    {
     "name": "stderr",
     "output_type": "stream",
     "text": [
      "                                                               "
     ]
    },
    {
     "name": "stdout",
     "output_type": "stream",
     "text": [
      "1 simulations didn't produce a duplex.\n",
      "That's 0.1% of simulations\n"
     ]
    },
    {
     "name": "stderr",
     "output_type": "stream",
     "text": [
      "\r"
     ]
    }
   ],
   "source": [
    "kf = {}\n",
    "for label, complex in complexes.items():\n",
    "    print(complex.structure, label)\n",
    "    S = Simulator(M, complex.s1, complex.s2.invert)\n",
    "    _ , kf[label] = S.directsimulation()"
   ]
  },
  {
   "cell_type": "code",
   "execution_count": 36,
   "metadata": {},
   "outputs": [
    {
     "data": {
      "text/plain": [
       "{'TR1': 1955498.733867922,\n",
       " 'TR2': 1742685.7062181244,\n",
       " 'TL1': 2054138.7321354186,\n",
       " 'TL2': 1722884.096933362,\n",
       " 'D': 1473560.958772438,\n",
       " 'O1': 2004818.7330016703,\n",
       " 'O2': 1732784.9015757432}"
      ]
     },
     "execution_count": 36,
     "metadata": {},
     "output_type": "execute_result"
    }
   ],
   "source": [
    "complexes['O1'] = complexes['TR1']\n",
    "complexes['O2'] = complexes['TR2']\n",
    "kf['O1'] = (kf['TR1']+kf['TL1'])/2\n",
    "kf['O2'] = (kf['TR2']+kf['TL2'])/2\n",
    "kf"
   ]
  },
  {
   "cell_type": "code",
   "execution_count": 37,
   "metadata": {},
   "outputs": [
    {
     "data": {
      "text/plain": [
       "{'TR1': 0.040248207364648084,\n",
       " 'TR2': 10.378218162605824,\n",
       " 'TL1': 0.042278422488779624,\n",
       " 'TL2': 18.755914761869942,\n",
       " 'D': 0.0037993457382816736,\n",
       " 'O1': 0.041263314926713854,\n",
       " 'O2': 18.863698360474725}"
      ]
     },
     "execution_count": 37,
     "metadata": {},
     "output_type": "execute_result"
    }
   ],
   "source": [
    "kb = {}\n",
    "for label, kh in kf.items():\n",
    "    if label != 'D':\n",
    "        kb[label] = kback(kh, complexesoriginal[label].G)\n",
    "    else: \n",
    "        kb[label] = kback(kh, DUPLEXG)\n",
    "kb"
   ]
  }
 ],
 "metadata": {
  "kernelspec": {
   "display_name": "hdna",
   "language": "python",
   "name": "python3"
  },
  "language_info": {
   "codemirror_mode": {
    "name": "ipython",
    "version": 3
   },
   "file_extension": ".py",
   "mimetype": "text/x-python",
   "name": "python",
   "nbconvert_exporter": "python",
   "pygments_lexer": "ipython3",
   "version": "3.10.9 (main, Jan 11 2023, 15:21:40) [GCC 11.2.0]"
  },
  "orig_nbformat": 4,
  "vscode": {
   "interpreter": {
    "hash": "13f02c433cbffcd00bbcbbfeff349f4b7c28e9023d8fb9f65ab93bb104997abd"
   }
  }
 },
 "nbformat": 4,
 "nbformat_minor": 2
}
