{
 "cells": [
  {
   "cell_type": "code",
   "execution_count": 1,
   "metadata": {},
   "outputs": [],
   "source": [
    "%load_ext autoreload\n",
    "%autoreload 2"
   ]
  },
  {
   "cell_type": "code",
   "execution_count": 1,
   "metadata": {},
   "outputs": [],
   "source": [
    "import sys \n",
    "sys.path.append('..')\n",
    "\n",
    "import numpy as np \n",
    "\n",
    "from hdna import * "
   ]
  },
  {
   "cell_type": "code",
   "execution_count": 3,
   "metadata": {},
   "outputs": [],
   "source": [
    "M = Model(standard=True)\n",
    "M2 = Model(space_dimensionality='2D', \n",
    "           sliding=1.5e5, \n",
    "           zipping=7.7e7,\n",
    "           celsius=26  )"
   ]
  },
  {
   "cell_type": "code",
   "execution_count": 2,
   "metadata": {},
   "outputs": [],
   "source": [
    "M = Model(standard=True)\n",
    "A = Strand(M, 'AACCAACC')\n",
    "B = A.complementary()\n",
    "K = Kinetwork(M, A, B)\n",
    "K.save_graph('.')"
   ]
  },
  {
   "cell_type": "code",
   "execution_count": 27,
   "metadata": {},
   "outputs": [
    {
     "name": "stdout",
     "output_type": "stream",
     "text": [
      "3.341532466375093e-08\n",
      "3.2902480519497757e-06\n",
      "2.203e+14\n"
     ]
    }
   ],
   "source": [
    "A = Strand(M, 'AAAAAAAAAAAAAAA')\n",
    "B = Strand(M, 'TTTTTTTTTTTTTTT')\n",
    "K = Kinetics(M, A, B)\n",
    "print(K.tdiff_saffdelb())\n",
    "print(K.pD1*6*np.pi*0.19)\n",
    "print(f'{1/K.ksphere_sano():.3e}')"
   ]
  },
  {
   "cell_type": "code",
   "execution_count": 3,
   "metadata": {},
   "outputs": [],
   "source": [
    "def kback(kf, dg):\n",
    "    return kf * np.exp(dg/(CONST.R*M.kelvin))\n",
    "def keq(dg):\n",
    "    return np.exp(-dg/(CONST.R*M.kelvin))"
   ]
  },
  {
   "cell_type": "code",
   "execution_count": 4,
   "metadata": {},
   "outputs": [
    {
     "data": {
      "text/plain": [
       "18"
      ]
     },
     "execution_count": 4,
     "metadata": {},
     "output_type": "execute_result"
    }
   ],
   "source": [
    "                        #X#\n",
    "Tl = Strand(M, 'TTGTTAAATATTGATAAG')\n",
    "R1 = Strand(M, 'AACAATTTAT'        ).invert\n",
    "R2 = Strand(M,           'AACGATTC').invert\n",
    "                            #M#\n",
    "\n",
    "Tr = Strand(M, 'AACAATTTATAACGATTC')\n",
    "L1 = Strand(M, 'TTGTTAAAT').invert\n",
    "L2 = Strand(M,          'ATTGATAAG').invert\n",
    "                        #X# #M#\n",
    "Tl.length"
   ]
  },
  {
   "cell_type": "code",
   "execution_count": 5,
   "metadata": {},
   "outputs": [
    {
     "ename": "RuntimeError",
     "evalue": "C++: : \"unmatched ( parenthesis\" (Types.cc, line 194)\n",
     "output_type": "error",
     "traceback": [
      "\u001b[0;31m---------------------------------------------------------------------------\u001b[0m",
      "\u001b[0;31mRuntimeError\u001b[0m                              Traceback (most recent call last)",
      "Cell \u001b[0;32mIn[5], line 1\u001b[0m\n\u001b[0;32m----> 1\u001b[0m TR1 \u001b[39m=\u001b[39m Complex(M, Tl, R1, state\u001b[39m=\u001b[39;49m\u001b[39m'\u001b[39;49m\u001b[39mduplex\u001b[39;49m\u001b[39m'\u001b[39;49m, structure\u001b[39m=\u001b[39;49m\u001b[39m'\u001b[39;49m\u001b[39m(((((((((.........+.)))))))))\u001b[39;49m\u001b[39m'\u001b[39;49m)\n\u001b[1;32m      2\u001b[0m TR2 \u001b[39m=\u001b[39m Complex(M, Tl, R2, state\u001b[39m=\u001b[39m\u001b[39m'\u001b[39m\u001b[39mduplex\u001b[39m\u001b[39m'\u001b[39m, structure\u001b[39m=\u001b[39m\u001b[39m'\u001b[39m\u001b[39m..........(((.((((+)))).)))\u001b[39m\u001b[39m'\u001b[39m) \n\u001b[1;32m      3\u001b[0m TL1 \u001b[39m=\u001b[39m Complex(M, Tr, L1, state\u001b[39m=\u001b[39m\u001b[39m'\u001b[39m\u001b[39mduplex\u001b[39m\u001b[39m'\u001b[39m, structure\u001b[39m=\u001b[39m\u001b[39m'\u001b[39m\u001b[39m(((((((((.........+)))))))))\u001b[39m\u001b[39m'\u001b[39m)\n",
      "File \u001b[0;32m~/Desktop/HDNAback/hDNA/LIDA/../hdna/complex.py:71\u001b[0m, in \u001b[0;36mComplex.__init__\u001b[0;34m(self, model, s1, s2, state, structure, dpxdist, clean)\u001b[0m\n\u001b[1;32m     69\u001b[0m     \u001b[39mself\u001b[39m\u001b[39m.\u001b[39mtotal_nucleations \u001b[39m=\u001b[39m \u001b[39mself\u001b[39m\u001b[39m.\u001b[39mconsecutive_nucleations\n\u001b[1;32m     70\u001b[0m     \u001b[39mself\u001b[39m\u001b[39m.\u001b[39mstructure \u001b[39m=\u001b[39m \u001b[39m'\u001b[39m\u001b[39m(\u001b[39m\u001b[39m'\u001b[39m\u001b[39m*\u001b[39m\u001b[39mself\u001b[39m\u001b[39m.\u001b[39ms1\u001b[39m.\u001b[39mlength\u001b[39m+\u001b[39m\u001b[39m'\u001b[39m\u001b[39m+\u001b[39m\u001b[39m'\u001b[39m\u001b[39m+\u001b[39m\u001b[39m'\u001b[39m\u001b[39m)\u001b[39m\u001b[39m'\u001b[39m\u001b[39m*\u001b[39m\u001b[39mself\u001b[39m\u001b[39m.\u001b[39ms2\u001b[39m.\u001b[39mlength\n\u001b[0;32m---> 71\u001b[0m     \u001b[39mself\u001b[39;49m\u001b[39m.\u001b[39;49mstructureG()\n\u001b[1;32m     72\u001b[0m     \u001b[39mself\u001b[39m\u001b[39m.\u001b[39mdpxdist \u001b[39m=\u001b[39m \u001b[39m0\u001b[39m\n\u001b[1;32m     73\u001b[0m \u001b[39melif\u001b[39;00m \u001b[39mself\u001b[39m\u001b[39m.\u001b[39mstate \u001b[39m==\u001b[39m \u001b[39m'\u001b[39m\u001b[39msinglestranded\u001b[39m\u001b[39m'\u001b[39m:\n",
      "File \u001b[0;32m~/Desktop/HDNAback/hDNA/LIDA/../hdna/complex.py:132\u001b[0m, in \u001b[0;36mComplex.structureG\u001b[0;34m(self, structure)\u001b[0m\n\u001b[1;32m    130\u001b[0m nuStrand1 \u001b[39m=\u001b[39m nu\u001b[39m.\u001b[39mStrand(\u001b[39mself\u001b[39m\u001b[39m.\u001b[39ms1\u001b[39m.\u001b[39msequence, name \u001b[39m=\u001b[39m \u001b[39m'\u001b[39m\u001b[39ma\u001b[39m\u001b[39m'\u001b[39m)\n\u001b[1;32m    131\u001b[0m nuStrand2 \u001b[39m=\u001b[39m nu\u001b[39m.\u001b[39mStrand(\u001b[39mself\u001b[39m\u001b[39m.\u001b[39ms2\u001b[39m.\u001b[39msequence, name \u001b[39m=\u001b[39m \u001b[39m'\u001b[39m\u001b[39mb\u001b[39m\u001b[39m'\u001b[39m) \u001b[39m# An inversion here is needed because in this program strands are defined as 5-3 against 3-5 but in NUPACK all strands are defined 5-3 and the program takes care to turn them around and so on\u001b[39;00m\n\u001b[0;32m--> 132\u001b[0m nuStructure \u001b[39m=\u001b[39m nu\u001b[39m.\u001b[39;49mStructure(structure)\n\u001b[1;32m    133\u001b[0m dG \u001b[39m=\u001b[39m nu\u001b[39m.\u001b[39mstructure_energy(strands\u001b[39m=\u001b[39m[nuStrand1,nuStrand2], structure\u001b[39m=\u001b[39mnuStructure, model\u001b[39m=\u001b[39m\u001b[39mself\u001b[39m\u001b[39m.\u001b[39mmodel\u001b[39m.\u001b[39mnupack)\n\u001b[1;32m    134\u001b[0m \u001b[39mself\u001b[39m\u001b[39m.\u001b[39mG \u001b[39m=\u001b[39m dG\n",
      "File \u001b[0;32m~/miniconda3/envs/hdna/lib/python3.10/site-packages/nupack/rebind/render.py:238\u001b[0m, in \u001b[0;36mrender_function.<locals>.wrap\u001b[0;34m(_orig, _bind, _old, *args, **kwargs)\u001b[0m\n\u001b[1;32m    236\u001b[0m bound \u001b[39m=\u001b[39m _bind(\u001b[39m*\u001b[39margs, \u001b[39m*\u001b[39m\u001b[39m*\u001b[39mkwargs)\n\u001b[1;32m    237\u001b[0m bound\u001b[39m.\u001b[39mapply_defaults()\n\u001b[0;32m--> 238\u001b[0m \u001b[39mreturn\u001b[39;00m _old(\u001b[39m*\u001b[39;49mbound\u001b[39m.\u001b[39;49margs, _fun_\u001b[39m=\u001b[39;49m_orig, \u001b[39m*\u001b[39;49m\u001b[39m*\u001b[39;49mbound\u001b[39m.\u001b[39;49mkwargs)\n",
      "File \u001b[0;32m~/miniconda3/envs/hdna/lib/python3.10/site-packages/nupack/core.py:176\u001b[0m, in \u001b[0;36mStructure.__init__\u001b[0;34m(self, structure, nicks, _fun_)\u001b[0m\n\u001b[1;32m    174\u001b[0m     \u001b[39mif\u001b[39;00m \u001b[39m'\u001b[39m\u001b[39mU\u001b[39m\u001b[39m'\u001b[39m \u001b[39min\u001b[39;00m structure \u001b[39mor\u001b[39;00m \u001b[39m'\u001b[39m\u001b[39mD\u001b[39m\u001b[39m'\u001b[39m \u001b[39min\u001b[39;00m structure:\n\u001b[1;32m    175\u001b[0m         structure \u001b[39m=\u001b[39m DUp_to_dpp(structure)\n\u001b[0;32m--> 176\u001b[0m     _fun_(\u001b[39mself\u001b[39;49m, structure)\n\u001b[1;32m    177\u001b[0m \u001b[39melse\u001b[39;00m:\n\u001b[1;32m    178\u001b[0m     \u001b[39massert\u001b[39;00m nicks \u001b[39mis\u001b[39;00m \u001b[39mnot\u001b[39;00m \u001b[39mNone\u001b[39;00m\n",
      "File \u001b[0;32m~/miniconda3/envs/hdna/lib/python3.10/site-packages/nupack/rebind/render.py:87\u001b[0m, in \u001b[0;36mrender_init.<locals>.init\u001b[0;34m(self, _new, return_type, signature, gil, *args)\u001b[0m\n\u001b[1;32m     86\u001b[0m \u001b[39mdef\u001b[39;00m \u001b[39minit\u001b[39m(\u001b[39mself\u001b[39m, \u001b[39m*\u001b[39margs, _new\u001b[39m=\u001b[39minit, return_type\u001b[39m=\u001b[39m\u001b[39mNone\u001b[39;00m, signature\u001b[39m=\u001b[39m\u001b[39mNone\u001b[39;00m, gil\u001b[39m=\u001b[39m\u001b[39mNone\u001b[39;00m):\n\u001b[0;32m---> 87\u001b[0m     \u001b[39mself\u001b[39m\u001b[39m.\u001b[39mmove_from(_new(\u001b[39m*\u001b[39;49margs, return_type\u001b[39m=\u001b[39;49mreturn_type, signature\u001b[39m=\u001b[39;49msignature, gil\u001b[39m=\u001b[39;49mgil))\n",
      "\u001b[0;31mRuntimeError\u001b[0m: C++: : \"unmatched ( parenthesis\" (Types.cc, line 194)\n"
     ]
    }
   ],
   "source": [
    "TR1 = Complex(M, Tl, R1, state='duplex', structure='(((((((((.........+.)))))))))')\n",
    "TR2 = Complex(M, Tl, R2, state='duplex', structure='..........(((.((((+)))).)))') \n",
    "TL1 = Complex(M, Tr, L1, state='duplex', structure='(((((((((.........+)))))))))')\n",
    "TL2 = Complex(M, Tr, L2, state='duplex', structure='..........(((.((((+)))).))).')\n",
    "O1 = Complex(M, R1.invert, L1, state='duplex', structure='(((((((((.+)))))))))')\n",
    "O2 = Complex(M, R2.invert, L2, state='duplex', structure='(((.((((+)))).))).')\n",
    "D = Complex(M, Tl, Tr.invert, state='duplex', structure='(((((((((((((.((((+)))).)))))))))))))')\n",
    "DUPLEXG = D.G + 7.6 #ABASIC PENALTY"
   ]
  },
  {
   "cell_type": "code",
   "execution_count": 17,
   "metadata": {},
   "outputs": [
    {
     "name": "stdout",
     "output_type": "stream",
     "text": [
      "-23.72928189165215\n",
      "AACGGGGTATATGGC\n",
      "GCCATATACCCCGTT\n",
      "2.174316147827588e+17\n",
      "AACGGGGTATATGGC+GCCATATACCCCGTT\n",
      "(((((((((((((((+)))))))))))))))\n"
     ]
    }
   ],
   "source": [
    "A = Strand(M, 'AACGGGGTATATGGC')\n",
    "B = A.complementary()\n",
    "C = Complex(M, A, B.invert, state='duplex')\n",
    "print(C.G)\n",
    "print(A.sequence)\n",
    "print(B.invert.sequence)\n",
    "KE = keq(C.G)\n",
    "print(KE)\n",
    "\n",
    "print(A.sequence+'+'+B.invert.sequence)\n",
    "print(C.structure)"
   ]
  },
  {
   "attachments": {},
   "cell_type": "markdown",
   "metadata": {},
   "source": [
    "### 3D Simple\n",
    "\n"
   ]
  },
  {
   "cell_type": "code",
   "execution_count": null,
   "metadata": {},
   "outputs": [
    {
     "name": "stdout",
     "output_type": "stream",
     "text": [
      "0.005835262345679013\n",
      "1.006e+07\n",
      "2.000e+07\n"
     ]
    }
   ],
   "source": [
    "kz = 2e8\n",
    "kdl = 4e9\n",
    "theta = 90\n",
    "phi   = 110\n",
    "rho = np.power((theta*phi)/(np.power(360,2)),2)\n",
    "print(rho)\n",
    "kn = kdl * rho\n",
    "kb = kn*np.exp(-0.5/(1.987e-3*(273.15 + 26)))\n",
    "print(f'{kb:.3e}')\n",
    "kobs = (kn*kz)/(kz+kn+kb)\n",
    "print(f'{kobs:.3e}')"
   ]
  },
  {
   "cell_type": "code",
   "execution_count": null,
   "metadata": {},
   "outputs": [
    {
     "name": "stdout",
     "output_type": "stream",
     "text": [
      "kbtr1: 0.4116495339462537\n",
      "kbtr2: 119.10838939228304\n",
      "kbtl1: 0.4116495339462537\n",
      "kbtl2: 217.73127382045178\n",
      "kbo1: 0.4116495339462537\n",
      "kbo2: 217.73127382045178\n",
      "kbduplex: 0.051567886771378794\n"
     ]
    }
   ],
   "source": [
    "kh = kobs\n",
    "\n",
    "kbtr1 = kback(kh, TR1.G)\n",
    "kbtr2 = kback(kh, TR2.G)\n",
    "kbtl1 = kback(kh, TL1.G)\n",
    "kbtl2 = kback(kh, TL2.G)\n",
    "\n",
    "kbo1 = kback(kh, O1.G)\n",
    "kbo2 = kback(kh, O2.G)\n",
    "\n",
    "kbduplex = kback(kh, DUPLEXG) #abasic penalty\n",
    "\n",
    "print('kbtr1:',kbtr1)\n",
    "print('kbtr2:',kbtr2)\n",
    "print('kbtl1:',kbtl1)\n",
    "print('kbtl2:',kbtl2)\n",
    "print('kbo1:',kbo1)\n",
    "print('kbo2:',kbo2)\n",
    "print('kbduplex:',kbduplex)"
   ]
  },
  {
   "attachments": {},
   "cell_type": "markdown",
   "metadata": {},
   "source": [
    "### 2D Simple Model "
   ]
  },
  {
   "cell_type": "code",
   "execution_count": null,
   "metadata": {},
   "outputs": [
    {
     "name": "stdout",
     "output_type": "stream",
     "text": [
      "1.142e+08\n"
     ]
    }
   ],
   "source": [
    "#2D SIMPLE MODEL \n",
    "k2dl = 1e15*1e-5\n",
    "rho2 = np.power(theta/360,2)\n",
    "kn2  = k2dl*rho2\n",
    "kb2  = kn2*np.exp(-0.5/(1.987e-3*(273.15 + 26)))\n",
    "kobs2 = (kn2*kz)/(kz+kn2+kb2)\n",
    "print(f'{kobs2:.3e}')"
   ]
  },
  {
   "cell_type": "code",
   "execution_count": null,
   "metadata": {},
   "outputs": [
    {
     "name": "stdout",
     "output_type": "stream",
     "text": [
      "kbtr1: 2.350616056023014\n",
      "kbtr2: 680.1370326562707\n",
      "kbtl1: 2.350616056023014\n",
      "kbtl2: 1243.2969940092773\n",
      "kbo1: 2.350616056023014\n",
      "kbo2: 1243.2969940092773\n",
      "kbduplex: 0.29446481199176133\n"
     ]
    }
   ],
   "source": [
    "kh = kobs2\n",
    "\n",
    "kbtr1 = kback(kh, TR1.G)\n",
    "kbtr2 = kback(kh, TR2.G)\n",
    "kbtl1 = kback(kh, TL1.G)\n",
    "kbtl2 = kback(kh, TL2.G)\n",
    "\n",
    "kbo1 = kback(kh, O1.G)\n",
    "kbo2 = kback(kh, O2.G)\n",
    "\n",
    "kbduplex = kback(kh, DUPLEXG) #abasic penalty\n",
    "\n",
    "print('kbtr1:',kbtr1)\n",
    "print('kbtr2:',kbtr2)\n",
    "print('kbtl1:',kbtl1)\n",
    "print('kbtl2:',kbtl2)\n",
    "print('kbo1:',kbo1)\n",
    "print('kbo2:',kbo2)\n",
    "print('kbduplex:',kbduplex)"
   ]
  },
  {
   "attachments": {},
   "cell_type": "markdown",
   "metadata": {},
   "source": [
    "### 3D Zipper Graph Rates"
   ]
  },
  {
   "cell_type": "code",
   "execution_count": null,
   "metadata": {},
   "outputs": [],
   "source": [
    "                        \n",
    "TlC     = Strand(M, 'TTGTTAAATATTGATAAG')\n",
    "                             #X#\n",
    "r1comp  = Strand(M, 'TTGTTAAATA')\n",
    "R1C     = Strand(M, 'AACAATTTAT'        )\n",
    "r2comp  = Strand(M,           'TTGATAAG')\n",
    "R2C     = Strand(M,           'AACTATTC')\n",
    "\n",
    "                             #X#\n",
    "TrC     = Strand(M, 'AACAATTTATAACTATTC')\n",
    "\n",
    "l1comp  = Strand(M, 'AACAATTTA')\n",
    "L1C     = Strand(M, 'TTGTTAAAT')\n",
    "l2comp  = Strand(M,          'TAACTATTC')\n",
    "L2C     = Strand(M,          'ATTGATAAG')\n",
    "                                 #M#"
   ]
  },
  {
   "cell_type": "code",
   "execution_count": null,
   "metadata": {},
   "outputs": [],
   "source": [
    "TR1C = Complex(M, r1comp, R1C.invert, state='duplex', structure='((((((((((+))))))))))')\n",
    "TR2C = Complex(M, r2comp, R2C.invert, state='duplex', structure='((((((((+))))))))') \n",
    "TL1C = Complex(M, l1comp, L1C.invert, state='duplex', structure='(((((((((+)))))))))')\n",
    "TL2C = Complex(M, l2comp, L2C.invert, state='duplex', structure='(((((((((+)))))))))')\n",
    "\n",
    "DC = Complex(M, TlC, TrC.invert, state='duplex', structure='((((((((((((((((((+))))))))))))))))))')"
   ]
  },
  {
   "cell_type": "code",
   "execution_count": null,
   "metadata": {},
   "outputs": [],
   "source": [
    "complexes = {\n",
    "    'TR1': TR1C,\n",
    "    'TR2': TR2C,\n",
    "    'TL1': TL1C,\n",
    "    'TL2': TL2C,\n",
    "    'D':   DC\n",
    "}\n",
    "\n",
    "complexesoriginal = {\n",
    "    'TR1': TR1,\n",
    "    'TR2': TR2,\n",
    "    'TL1': TL1,\n",
    "    'TL2': TL2,\n",
    "    'O1':  O1,\n",
    "    'O2':  O2,\n",
    "    'D':   DC\n",
    "}"
   ]
  },
  {
   "cell_type": "code",
   "execution_count": null,
   "metadata": {},
   "outputs": [
    {
     "name": "stdout",
     "output_type": "stream",
     "text": [
      "((((((((((+)))))))))) TR1\n"
     ]
    },
    {
     "name": "stderr",
     "output_type": "stream",
     "text": [
      "                                                               \r"
     ]
    },
    {
     "name": "stdout",
     "output_type": "stream",
     "text": [
      "0 simulations didn't produce a duplex.\n",
      "That's 0.0% of simulations\n",
      "((((((((+)))))))) TR2\n"
     ]
    },
    {
     "name": "stderr",
     "output_type": "stream",
     "text": [
      "                                                                \r"
     ]
    },
    {
     "name": "stdout",
     "output_type": "stream",
     "text": [
      "0 simulations didn't produce a duplex.\n",
      "That's 0.0% of simulations\n",
      "(((((((((+))))))))) TL1\n"
     ]
    },
    {
     "name": "stderr",
     "output_type": "stream",
     "text": [
      "                                                               \r"
     ]
    },
    {
     "name": "stdout",
     "output_type": "stream",
     "text": [
      "0 simulations didn't produce a duplex.\n",
      "That's 0.0% of simulations\n",
      "(((((((((+))))))))) TL2\n"
     ]
    },
    {
     "name": "stderr",
     "output_type": "stream",
     "text": [
      "                                                               \r"
     ]
    },
    {
     "name": "stdout",
     "output_type": "stream",
     "text": [
      "0 simulations didn't produce a duplex.\n",
      "That's 0.0% of simulations\n",
      "((((((((((((((((((+)))))))))))))))))) D\n"
     ]
    },
    {
     "name": "stderr",
     "output_type": "stream",
     "text": [
      "                                                               "
     ]
    },
    {
     "name": "stdout",
     "output_type": "stream",
     "text": [
      "1 simulations didn't produce a duplex.\n",
      "That's 0.1% of simulations\n"
     ]
    },
    {
     "name": "stderr",
     "output_type": "stream",
     "text": [
      "\r"
     ]
    }
   ],
   "source": [
    "kf = {}\n",
    "for label, complex in complexes.items():\n",
    "    print(complex.structure, label)\n",
    "    S = Simulator(M, complex.s1, complex.s2.invert)\n",
    "    _ , kf[label] = S.directsimulation()"
   ]
  },
  {
   "cell_type": "code",
   "execution_count": null,
   "metadata": {},
   "outputs": [
    {
     "data": {
      "text/plain": [
       "{'TR1': 1971319.7873039187,\n",
       " 'TR2': 1816532.4731761925,\n",
       " 'TL1': 2100300.0822687857,\n",
       " 'TL2': 1758462.6230980721,\n",
       " 'D': 1441798.3877100088,\n",
       " 'O1': 2035809.9347863523,\n",
       " 'O2': 1787497.5481371323}"
      ]
     },
     "execution_count": 40,
     "metadata": {},
     "output_type": "execute_result"
    }
   ],
   "source": [
    "complexes['O1'] = complexes['TR1']\n",
    "complexes['O2'] = complexes['TR2']\n",
    "kf['O1'] = (kf['TR1']+kf['TL1'])/2\n",
    "kf['O2'] = (kf['TR2']+kf['TL2'])/2\n",
    "kf"
   ]
  },
  {
   "cell_type": "code",
   "execution_count": null,
   "metadata": {},
   "outputs": [
    {
     "data": {
      "text/plain": [
       "{'TR1': 0.04057383735785174,\n",
       " 'TR2': 10.817997897620197,\n",
       " 'TL1': 0.043228518523219385,\n",
       " 'TL2': 19.143234956702567,\n",
       " 'D': 0.003717450932176441,\n",
       " 'O1': 0.041901177940535564,\n",
       " 'O2': 19.459319236613915}"
      ]
     },
     "execution_count": 41,
     "metadata": {},
     "output_type": "execute_result"
    }
   ],
   "source": [
    "kb = {}\n",
    "for label, kh in kf.items():\n",
    "    if label != 'D':\n",
    "        kb[label] = kback(kh, complexesoriginal[label].G)\n",
    "    else: \n",
    "        kb[label] = kback(kh, DUPLEXG)\n",
    "kb"
   ]
  }
 ],
 "metadata": {
  "kernelspec": {
   "display_name": "hdna",
   "language": "python",
   "name": "python3"
  },
  "language_info": {
   "codemirror_mode": {
    "name": "ipython",
    "version": 3
   },
   "file_extension": ".py",
   "mimetype": "text/x-python",
   "name": "python",
   "nbconvert_exporter": "python",
   "pygments_lexer": "ipython3",
   "version": "3.10.9 (main, Jan 11 2023, 15:21:40) [GCC 11.2.0]"
  },
  "orig_nbformat": 4,
  "vscode": {
   "interpreter": {
    "hash": "13f02c433cbffcd00bbcbbfeff349f4b7c28e9023d8fb9f65ab93bb104997abd"
   }
  }
 },
 "nbformat": 4,
 "nbformat_minor": 2
}
