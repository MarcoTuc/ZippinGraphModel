{
 "cells": [
  {
   "cell_type": "code",
   "execution_count": 77,
   "metadata": {},
   "outputs": [],
   "source": [
    "import sys \n",
    "sys.path.append('..')\n",
    "\n",
    "import numpy as np \n",
    "\n",
    "from hdna import * "
   ]
  },
  {
   "cell_type": "code",
   "execution_count": 103,
   "metadata": {},
   "outputs": [],
   "source": [
    "M = Model(standard=True)\n",
    "M2 = Model(space_dimensionality='2D', \n",
    "           sliding=1.5e5, \n",
    "           zipping=7.7e7,\n",
    "           celsius=26  )"
   ]
  },
  {
   "cell_type": "code",
   "execution_count": 79,
   "metadata": {},
   "outputs": [],
   "source": [
    "def kback(kf, dg):\n",
    "    return kf * np.exp(dg/(CONST.R*M.kelvin))\n",
    "def keq(dg):\n",
    "    return np.exp(-dg/(CONST.R*M.kelvin))"
   ]
  },
  {
   "cell_type": "code",
   "execution_count": 80,
   "metadata": {},
   "outputs": [
    {
     "data": {
      "text/plain": [
       "18"
      ]
     },
     "execution_count": 80,
     "metadata": {},
     "output_type": "execute_result"
    }
   ],
   "source": [
    "                        #X#\n",
    "Tl = Strand(M, 'TTGTTAAATATTGATAAG')\n",
    "R1 = Strand(M, 'AACAATTTAT'        ).invert\n",
    "R2 = Strand(M,           'AACGATTC').invert\n",
    "                            #M#\n",
    "\n",
    "Tr = Strand(M, 'AACAATTTATAACGATTC')\n",
    "L1 = Strand(M, 'TTGTTAAAT').invert\n",
    "L2 = Strand(M,          'ATTGATAAG').invert\n",
    "                        #X# #M#\n",
    "Tl.length"
   ]
  },
  {
   "cell_type": "code",
   "execution_count": 81,
   "metadata": {},
   "outputs": [],
   "source": [
    "TR1 = Complex(M, Tl, R1, state='duplex', structure='(((((((((.........+.)))))))))')\n",
    "TR2 = Complex(M, Tl, R2, state='duplex', structure='..........(((.((((+)))).)))') \n",
    "TL1 = Complex(M, Tr, L1, state='duplex', structure='(((((((((.........+)))))))))')\n",
    "TL2 = Complex(M, Tr, L2, state='duplex', structure='..........(((.((((+)))).))).')\n",
    "O1 = Complex(M, R1.invert, L1, state='duplex', structure='(((((((((.+)))))))))')\n",
    "O2 = Complex(M, R2.invert, L2, state='duplex', structure='(((.((((+)))).))).')\n",
    "D = Complex(M, Tl, Tr.invert, state='duplex', structure='(((((((((((((.((((+)))).)))))))))))))')\n",
    "DUPLEXG = D.G + 7.6 #ABASIC PENALTY"
   ]
  },
  {
   "attachments": {},
   "cell_type": "markdown",
   "metadata": {},
   "source": [
    "### 3D Simple"
   ]
  },
  {
   "cell_type": "code",
   "execution_count": 82,
   "metadata": {},
   "outputs": [
    {
     "name": "stdout",
     "output_type": "stream",
     "text": [
      "0.005835262345679013\n",
      "1.006e+07\n",
      "2.000e+07\n"
     ]
    }
   ],
   "source": [
    "kz = 2e8\n",
    "kdl = 4e9\n",
    "theta = 90\n",
    "phi   = 110\n",
    "rho = np.power((theta*phi)/(np.power(360,2)),2)\n",
    "print(rho)\n",
    "kn = kdl * rho\n",
    "kb = kn*np.exp(-0.5/(1.987e-3*(273.15 + 26)))\n",
    "print(f'{kb:.3e}')\n",
    "kobs = (kn*kz)/(kz+kn+kb)\n",
    "print(f'{kobs:.3e}')"
   ]
  },
  {
   "cell_type": "code",
   "execution_count": 83,
   "metadata": {},
   "outputs": [
    {
     "name": "stdout",
     "output_type": "stream",
     "text": [
      "kbtr1: 0.4116495339462537\n",
      "kbtr2: 119.10838939228304\n",
      "kbtl1: 0.4116495339462537\n",
      "kbtl2: 217.73127382045178\n",
      "kbo1: 0.4116495339462537\n",
      "kbo2: 217.73127382045178\n",
      "kbduplex: 0.051567886771378794\n"
     ]
    }
   ],
   "source": [
    "kh = kobs\n",
    "\n",
    "kbtr1 = kback(kh, TR1.G)\n",
    "kbtr2 = kback(kh, TR2.G)\n",
    "kbtl1 = kback(kh, TL1.G)\n",
    "kbtl2 = kback(kh, TL2.G)\n",
    "\n",
    "kbo1 = kback(kh, O1.G)\n",
    "kbo2 = kback(kh, O2.G)\n",
    "\n",
    "kbduplex = kback(kh, DUPLEXG) #abasic penalty\n",
    "\n",
    "print('kbtr1:',kbtr1)\n",
    "print('kbtr2:',kbtr2)\n",
    "print('kbtl1:',kbtl1)\n",
    "print('kbtl2:',kbtl2)\n",
    "print('kbo1:',kbo1)\n",
    "print('kbo2:',kbo2)\n",
    "print('kbduplex:',kbduplex)"
   ]
  },
  {
   "attachments": {},
   "cell_type": "markdown",
   "metadata": {},
   "source": [
    "### 2D Simple Model "
   ]
  },
  {
   "cell_type": "code",
   "execution_count": 84,
   "metadata": {},
   "outputs": [
    {
     "name": "stdout",
     "output_type": "stream",
     "text": [
      "1.397e+08\n"
     ]
    }
   ],
   "source": [
    "#2D SIMPLE MODEL \n",
    "k2dl = 1e14\n",
    "rho2 = np.power(theta/360,2)\n",
    "kn2  = k2dl*rho2\n",
    "kb2  = kn2*np.exp(-0.5/(1.987e-3*(273.15 + 26)))\n",
    "kobs2 = (kn2*kz)/(kz+kn2+kb2)\n",
    "print(f'{kobs2:.3e}')"
   ]
  },
  {
   "cell_type": "code",
   "execution_count": 85,
   "metadata": {},
   "outputs": [
    {
     "name": "stdout",
     "output_type": "stream",
     "text": [
      "kbtr1: 2.8761203980386654\n",
      "kbtr2: 832.1886460665944\n",
      "kbtl1: 2.8761203980386654\n",
      "kbtl2: 1521.2487960880453\n",
      "kbo1: 2.8761203980386654\n",
      "kbo2: 1521.2487960880453\n",
      "kbduplex: 0.3602954425943194\n"
     ]
    }
   ],
   "source": [
    "kh = kobs2\n",
    "\n",
    "kbtr1 = kback(kh, TR1.G)\n",
    "kbtr2 = kback(kh, TR2.G)\n",
    "kbtl1 = kback(kh, TL1.G)\n",
    "kbtl2 = kback(kh, TL2.G)\n",
    "\n",
    "kbo1 = kback(kh, O1.G)\n",
    "kbo2 = kback(kh, O2.G)\n",
    "\n",
    "kbduplex = kback(kh, DUPLEXG) #abasic penalty\n",
    "\n",
    "print('kbtr1:',kbtr1)\n",
    "print('kbtr2:',kbtr2)\n",
    "print('kbtl1:',kbtl1)\n",
    "print('kbtl2:',kbtl2)\n",
    "print('kbo1:',kbo1)\n",
    "print('kbo2:',kbo2)\n",
    "print('kbduplex:',kbduplex)"
   ]
  },
  {
   "attachments": {},
   "cell_type": "markdown",
   "metadata": {},
   "source": [
    "### 3D Zipper Graph Rates"
   ]
  },
  {
   "cell_type": "code",
   "execution_count": 86,
   "metadata": {},
   "outputs": [],
   "source": [
    "                        \n",
    "TlC     = Strand(M, 'TTGTTAAATATTGATAAG')\n",
    "                             #X#\n",
    "r1comp  = Strand(M, 'TTGTTAAATA')\n",
    "R1C     = Strand(M, 'AACAATTTAT'        )\n",
    "r2comp  = Strand(M,           'TTGATAAG')\n",
    "R2C     = Strand(M,           'AACTATTC')\n",
    "\n",
    "                             #X#\n",
    "TrC     = Strand(M, 'AACAATTTATAACTATTC')\n",
    "\n",
    "l1comp  = Strand(M, 'AACAATTTA')\n",
    "L1C     = Strand(M, 'TTGTTAAAT')\n",
    "l2comp  = Strand(M,          'TAACTATTC')\n",
    "L2C     = Strand(M,          'ATTGATAAG')\n",
    "                                 #M#"
   ]
  },
  {
   "cell_type": "code",
   "execution_count": 87,
   "metadata": {},
   "outputs": [],
   "source": [
    "TR1C = Complex(M, r1comp, R1C.invert, state='duplex', structure='((((((((((+))))))))))')\n",
    "TR2C = Complex(M, r2comp, R2C.invert, state='duplex', structure='((((((((+))))))))') \n",
    "TL1C = Complex(M, l1comp, L1C.invert, state='duplex', structure='(((((((((+)))))))))')\n",
    "TL2C = Complex(M, l2comp, L2C.invert, state='duplex', structure='(((((((((+)))))))))')\n",
    "\n",
    "DC = Complex(M, TlC, TrC.invert, state='duplex', structure='((((((((((((((((((+))))))))))))))))))')"
   ]
  },
  {
   "cell_type": "code",
   "execution_count": 92,
   "metadata": {},
   "outputs": [],
   "source": [
    "complexes = {\n",
    "    'TR1': TR1C,\n",
    "    'TR2': TR2C,\n",
    "    'TL1': TL1C,\n",
    "    'TL2': TL2C,\n",
    "    'D':   DC\n",
    "}\n",
    "\n",
    "complexesoriginal = {\n",
    "    'TR1': TR1,\n",
    "    'TR2': TR2,\n",
    "    'TL1': TL1,\n",
    "    'TL2': TL2,\n",
    "    'O1':  O1,\n",
    "    'O2':  O2,\n",
    "    'D':   DC\n",
    "}"
   ]
  },
  {
   "cell_type": "code",
   "execution_count": 93,
   "metadata": {},
   "outputs": [
    {
     "name": "stdout",
     "output_type": "stream",
     "text": [
      "((((((((((+)))))))))) TR1\n"
     ]
    },
    {
     "name": "stderr",
     "output_type": "stream",
     "text": [
      "                                                               \r"
     ]
    },
    {
     "name": "stdout",
     "output_type": "stream",
     "text": [
      "0 simulations didn't produce a duplex.\n",
      "That's 0.0% of simulations\n",
      "((((((((+)))))))) TR2\n"
     ]
    },
    {
     "name": "stderr",
     "output_type": "stream",
     "text": [
      "                                                                \r"
     ]
    },
    {
     "name": "stdout",
     "output_type": "stream",
     "text": [
      "0 simulations didn't produce a duplex.\n",
      "That's 0.0% of simulations\n",
      "(((((((((+))))))))) TL1\n"
     ]
    },
    {
     "name": "stderr",
     "output_type": "stream",
     "text": [
      "                                                               \r"
     ]
    },
    {
     "name": "stdout",
     "output_type": "stream",
     "text": [
      "0 simulations didn't produce a duplex.\n",
      "That's 0.0% of simulations\n",
      "(((((((((+))))))))) TL2\n"
     ]
    },
    {
     "name": "stderr",
     "output_type": "stream",
     "text": [
      "                                                               \r"
     ]
    },
    {
     "name": "stdout",
     "output_type": "stream",
     "text": [
      "0 simulations didn't produce a duplex.\n",
      "That's 0.0% of simulations\n",
      "((((((((((((((((((+)))))))))))))))))) D\n"
     ]
    },
    {
     "name": "stderr",
     "output_type": "stream",
     "text": [
      "                                                               "
     ]
    },
    {
     "name": "stdout",
     "output_type": "stream",
     "text": [
      "0 simulations didn't produce a duplex.\n",
      "That's 0.0% of simulations\n"
     ]
    },
    {
     "name": "stderr",
     "output_type": "stream",
     "text": [
      "\r"
     ]
    }
   ],
   "source": [
    "kf = {}\n",
    "for label, complex in complexes.items():\n",
    "    print(complex.structure, label)\n",
    "    S = Simulator(M, complex.s1, complex.s2.invert)\n",
    "    _ , kf[label] = S.directsimulation()"
   ]
  },
  {
   "cell_type": "code",
   "execution_count": 94,
   "metadata": {},
   "outputs": [],
   "source": [
    "complexes['O1'] = complexes['TR1']\n",
    "complexes['O2'] = complexes['TR2']\n",
    "kf['O1'] = (kf['TR1']+kf['TL1'])/2\n",
    "kf['O2'] = (kf['TR2']+kf['TL2'])/2"
   ]
  },
  {
   "cell_type": "code",
   "execution_count": 97,
   "metadata": {},
   "outputs": [
    {
     "data": {
      "text/plain": [
       "{'TR1': 0.04127786009651653,\n",
       " 'TR2': 10.287970666685238,\n",
       " 'TL1': 0.04379372027046307,\n",
       " 'TL2': 18.514145796679873,\n",
       " 'D': 0.00379719035029479,\n",
       " 'O1': 0.042535790183489804,\n",
       " 'O2': 18.660327235477116}"
      ]
     },
     "execution_count": 97,
     "metadata": {},
     "output_type": "execute_result"
    }
   ],
   "source": [
    "kb = {}\n",
    "for label, kh in kf.items():\n",
    "    if label != 'D':\n",
    "        kb[label] = kback(kh, complexesoriginal[label].G)\n",
    "    else: \n",
    "        kb[label] = kback(kh, DUPLEXG)\n",
    "kb"
   ]
  },
  {
   "attachments": {},
   "cell_type": "markdown",
   "metadata": {},
   "source": [
    "### 2D ZIPPER GRAPH RATES"
   ]
  },
  {
   "cell_type": "code",
   "execution_count": 105,
   "metadata": {},
   "outputs": [],
   "source": [
    "M = M2 \n",
    "M.setgeometry(theta=90,phi=120)\n",
    "\n",
    "TlC     = Strand(M, 'TTGTTAAATATTGATAAG')\n",
    "                             #X#\n",
    "r1comp  = Strand(M, 'TTGTTAAATA')\n",
    "R1C     = Strand(M, 'AACAATTTAT'        )\n",
    "r2comp  = Strand(M,           'TTGATAAG')\n",
    "R2C     = Strand(M,           'AACTATTC')\n",
    "\n",
    "                             #X#\n",
    "TrC     = Strand(M, 'AACAATTTATAACTATTC')\n",
    "\n",
    "l1comp  = Strand(M, 'AACAATTTA')\n",
    "L1C     = Strand(M, 'TTGTTAAAT')\n",
    "l2comp  = Strand(M,          'TAACTATTC')\n",
    "L2C     = Strand(M,          'ATTGATAAG')\n",
    "                                 #M#"
   ]
  },
  {
   "cell_type": "code",
   "execution_count": 106,
   "metadata": {},
   "outputs": [],
   "source": [
    "TR1C = Complex(M, r1comp, R1C.invert, state='duplex', structure='((((((((((+))))))))))')\n",
    "TR2C = Complex(M, r2comp, R2C.invert, state='duplex', structure='((((((((+))))))))') \n",
    "TL1C = Complex(M, l1comp, L1C.invert, state='duplex', structure='(((((((((+)))))))))')\n",
    "TL2C = Complex(M, l2comp, L2C.invert, state='duplex', structure='(((((((((+)))))))))')\n",
    "\n",
    "DC = Complex(M, TlC, TrC.invert, state='duplex', structure='((((((((((((((((((+))))))))))))))))))')"
   ]
  },
  {
   "cell_type": "code",
   "execution_count": 107,
   "metadata": {},
   "outputs": [],
   "source": [
    "complexes = {\n",
    "    'TR1': TR1C,\n",
    "    'TR2': TR2C,\n",
    "    'TL1': TL1C,\n",
    "    'TL2': TL2C,\n",
    "    'D':   DC\n",
    "}\n",
    "\n",
    "complexesoriginal = {\n",
    "    'TR1': TR1,\n",
    "    'TR2': TR2,\n",
    "    'TL1': TL1,\n",
    "    'TL2': TL2,\n",
    "    'O1':  O1,\n",
    "    'O2':  O2,\n",
    "    'D':   DC\n",
    "}"
   ]
  },
  {
   "cell_type": "code",
   "execution_count": 108,
   "metadata": {},
   "outputs": [
    {
     "name": "stdout",
     "output_type": "stream",
     "text": [
      "((((((((((+)))))))))) TR1\n"
     ]
    },
    {
     "name": "stderr",
     "output_type": "stream",
     "text": [
      "                                                             \r"
     ]
    },
    {
     "ename": "KeyboardInterrupt",
     "evalue": "",
     "output_type": "error",
     "traceback": [
      "\u001b[0;31m---------------------------------------------------------------------------\u001b[0m",
      "\u001b[0;31mKeyboardInterrupt\u001b[0m                         Traceback (most recent call last)",
      "Cell \u001b[0;32mIn[108], line 5\u001b[0m\n\u001b[1;32m      3\u001b[0m \u001b[39mprint\u001b[39m(\u001b[39mcomplex\u001b[39m\u001b[39m.\u001b[39mstructure, label)\n\u001b[1;32m      4\u001b[0m S \u001b[39m=\u001b[39m Simulator(M, \u001b[39mcomplex\u001b[39m\u001b[39m.\u001b[39ms1, \u001b[39mcomplex\u001b[39m\u001b[39m.\u001b[39ms2\u001b[39m.\u001b[39minvert)\n\u001b[0;32m----> 5\u001b[0m _ , kf[label] \u001b[39m=\u001b[39m S\u001b[39m.\u001b[39;49mdirectsimulation()\n",
      "File \u001b[0;32m~/Desktop/HDNAback/hDNA/LIDA/../hdna/simulator.py:126\u001b[0m, in \u001b[0;36mSimulator.directsimulation\u001b[0;34m(self)\u001b[0m\n\u001b[1;32m    124\u001b[0m \u001b[39mfor\u001b[39;00m i \u001b[39min\u001b[39;00m bar:\n\u001b[1;32m    125\u001b[0m     sim \u001b[39m=\u001b[39m jl\u001b[39m.\u001b[39msimulate(state, model, \u001b[39mself\u001b[39m\u001b[39m.\u001b[39mmethod, tfinal \u001b[39m=\u001b[39m \u001b[39mself\u001b[39m\u001b[39m.\u001b[39moptions\u001b[39m.\u001b[39mruntime)\n\u001b[0;32m--> 126\u001b[0m     traj \u001b[39m=\u001b[39m \u001b[39mself\u001b[39;49m\u001b[39m.\u001b[39;49mget_trajectory(sim, weightlift\u001b[39m=\u001b[39;49m\u001b[39mTrue\u001b[39;49;00m, savetraj\u001b[39m=\u001b[39;49m\u001b[39mTrue\u001b[39;49;00m)\n\u001b[1;32m    127\u001b[0m     \u001b[39mtry\u001b[39;00m: \n\u001b[1;32m    128\u001b[0m         fpts\u001b[39m.\u001b[39mappend(sim\u001b[39m.\u001b[39mt[jl\u001b[39m.\u001b[39mfindfirst(jl\u001b[39m.\u001b[39misone, sim[\u001b[39mself\u001b[39m\u001b[39m.\u001b[39mduplexindex,:])\u001b[39m-\u001b[39m\u001b[39m1\u001b[39m])\n",
      "File \u001b[0;32m~/Desktop/HDNAback/hDNA/LIDA/../hdna/simulator.py:164\u001b[0m, in \u001b[0;36mSimulator.get_trajectory\u001b[0;34m(self, simulation, weightlift, savetraj)\u001b[0m\n\u001b[1;32m    162\u001b[0m \u001b[39mfor\u001b[39;00m i, (step, \u001b[39mnext\u001b[39m) \u001b[39min\u001b[39;00m \u001b[39menumerate\u001b[39m(pairwise(simulation)):\n\u001b[1;32m    163\u001b[0m     i_step \u001b[39m=\u001b[39m jl\u001b[39m.\u001b[39mfindall(jl\u001b[39m.\u001b[39misone, step)[\u001b[39m0\u001b[39m] \u001b[39m-\u001b[39m \u001b[39m1\u001b[39m\n\u001b[0;32m--> 164\u001b[0m     i_next \u001b[39m=\u001b[39m jl\u001b[39m.\u001b[39;49mfindall(jl\u001b[39m.\u001b[39misone, \u001b[39mnext\u001b[39m)[\u001b[39m0\u001b[39m] \u001b[39m-\u001b[39m \u001b[39m1\u001b[39m\n\u001b[1;32m    165\u001b[0m     \u001b[39mif\u001b[39;00m savetraj: \u001b[39mself\u001b[39m\u001b[39m.\u001b[39mtrajectory\u001b[39m.\u001b[39mappend(states[i_step])\n\u001b[1;32m    166\u001b[0m     \u001b[39mtry\u001b[39;00m: \u001b[39mself\u001b[39m\u001b[39m.\u001b[39mBSG[states[i_step]][states[i_next]][\u001b[39m'\u001b[39m\u001b[39mweight\u001b[39m\u001b[39m'\u001b[39m] \u001b[39m+\u001b[39m\u001b[39m=\u001b[39m \u001b[39m1\u001b[39m\n",
      "File \u001b[0;32m~/.julia/packages/PythonCall/3GRYN/src/jlwrap/any.jl:189\u001b[0m, in \u001b[0;36m__getattr__\u001b[0;34m(self, k)\u001b[0m\n\u001b[1;32m    187\u001b[0m         raise AttributeError(k)\n\u001b[1;32m    188\u001b[0m     else:\n\u001b[0;32m--> 189\u001b[0m         return self._jl_callmethod($(pyjl_methodnum(pyjlany_getattr)), k)\n\u001b[1;32m    190\u001b[0m def __setattr__(self, k, v):\n\u001b[1;32m    191\u001b[0m     try:\n",
      "\u001b[0;31mKeyboardInterrupt\u001b[0m: "
     ]
    }
   ],
   "source": [
    "kf = {}\n",
    "for label, complex in complexes.items():\n",
    "    print(complex.structure, label)\n",
    "    S = Simulator(M, complex.s1, complex.s2.invert)\n",
    "    _ , kf[label] = S.directsimulation()"
   ]
  },
  {
   "cell_type": "code",
   "execution_count": null,
   "metadata": {},
   "outputs": [],
   "source": [
    "complexes['O1'] = complexes['TR1']\n",
    "complexes['O2'] = complexes['TR2']\n",
    "kf['O1'] = (kf['TR1']+kf['TL1'])/2\n",
    "kf['O2'] = (kf['TR2']+kf['TL2'])/2"
   ]
  },
  {
   "cell_type": "code",
   "execution_count": null,
   "metadata": {},
   "outputs": [
    {
     "data": {
      "text/plain": [
       "{'TR1': 0.04127786009651653,\n",
       " 'TR2': 10.287970666685238,\n",
       " 'TL1': 0.04379372027046307,\n",
       " 'TL2': 18.514145796679873,\n",
       " 'D': 0.00379719035029479,\n",
       " 'O1': 0.042535790183489804,\n",
       " 'O2': 18.660327235477116}"
      ]
     },
     "metadata": {},
     "output_type": "display_data"
    }
   ],
   "source": [
    "kb = {}\n",
    "for label, kh in kf.items():\n",
    "    if label != 'D':\n",
    "        kb[label] = kback(kh, complexesoriginal[label].G)\n",
    "    else: \n",
    "        kb[label] = kback(kh, DUPLEXG)\n",
    "kb"
   ]
  }
 ],
 "metadata": {
  "kernelspec": {
   "display_name": "hdna",
   "language": "python",
   "name": "python3"
  },
  "language_info": {
   "codemirror_mode": {
    "name": "ipython",
    "version": 3
   },
   "file_extension": ".py",
   "mimetype": "text/x-python",
   "name": "python",
   "nbconvert_exporter": "python",
   "pygments_lexer": "ipython3",
   "version": "3.10.9"
  },
  "orig_nbformat": 4,
  "vscode": {
   "interpreter": {
    "hash": "13f02c433cbffcd00bbcbbfeff349f4b7c28e9023d8fb9f65ab93bb104997abd"
   }
  }
 },
 "nbformat": 4,
 "nbformat_minor": 2
}
