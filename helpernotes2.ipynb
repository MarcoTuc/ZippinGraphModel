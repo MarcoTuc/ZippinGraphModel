{
 "cells": [
  {
   "cell_type": "code",
   "execution_count": 1,
   "metadata": {},
   "outputs": [],
   "source": [
    "import nupack as nu\n",
    "from classes.complex import Complex\n",
    "from classes.strand import Strand\n",
    "from classes.model import Model\n",
    "from classes.chamber import Chamber"
   ]
  },
  {
   "cell_type": "code",
   "execution_count": 2,
   "metadata": {},
   "outputs": [],
   "source": [
    "model = Model('dna', '3D')\n",
    "\n",
    "a = Strand(model, 'ACACACACCAGATGAGGGGGGGGGGGGGGGGGGGTGATGAC')\n",
    "b = Strand(model, 'TGTGTGTGGTAAGGACCCCCCCCCCCCCCCCCCCGTTTGAG')\n",
    "# a = Strand(model, 'ACACACACCA')\n",
    "# b = Strand(model, 'TGTGTGTGGT')\n",
    "# structure = '(.........((((.........(((((((..................((((............+............))))..................))))))).........)))).........)'\n",
    "# coils = Complex(model, a, b, structure)\n",
    "chamber = Chamber(model, a, b)"
   ]
  },
  {
   "cell_type": "code",
   "execution_count": 9,
   "metadata": {},
   "outputs": [
    {
     "ename": "AttributeError",
     "evalue": "'Zippo' object has no attribute 's1'",
     "output_type": "error",
     "traceback": [
      "\u001b[0;31m---------------------------------------------------------------------------\u001b[0m",
      "\u001b[0;31mAttributeError\u001b[0m                            Traceback (most recent call last)",
      "Cell \u001b[0;32mIn [9], line 3\u001b[0m\n\u001b[1;32m      1\u001b[0m \u001b[39mfor\u001b[39;00m i \u001b[39min\u001b[39;00m chamber\u001b[39m.\u001b[39moncores:\n\u001b[1;32m      2\u001b[0m     \u001b[39mfor\u001b[39;00m z \u001b[39min\u001b[39;00m i\u001b[39m.\u001b[39mzipping:\n\u001b[0;32m----> 3\u001b[0m         \u001b[39mprint\u001b[39m(z\u001b[39m.\u001b[39mS, z\u001b[39m.\u001b[39;49msequences)\n\u001b[1;32m      4\u001b[0m     \u001b[39mprint\u001b[39m(\u001b[39m'\u001b[39m\u001b[39m\\n\u001b[39;00m\u001b[39m\\n\u001b[39;00m\u001b[39m'\u001b[39m)\n",
      "File \u001b[0;32m~/TESI-CODE/hDNA/classes/complex.py:267\u001b[0m, in \u001b[0;36mComplex.sequences\u001b[0;34m(self)\u001b[0m\n\u001b[1;32m    265\u001b[0m \u001b[39m@property\u001b[39m\n\u001b[1;32m    266\u001b[0m \u001b[39mdef\u001b[39;00m \u001b[39msequences\u001b[39m(\u001b[39mself\u001b[39m):\n\u001b[0;32m--> 267\u001b[0m     \u001b[39mreturn\u001b[39;00m \u001b[39mself\u001b[39;49m\u001b[39m.\u001b[39;49ms1\u001b[39m.\u001b[39msequence\u001b[39m+\u001b[39m\u001b[39m\"\u001b[39m\u001b[39m+\u001b[39m\u001b[39m\"\u001b[39m\u001b[39m+\u001b[39m\u001b[39mself\u001b[39m\u001b[39m.\u001b[39ms2\u001b[39m.\u001b[39msequence\n",
      "\u001b[0;31mAttributeError\u001b[0m: 'Zippo' object has no attribute 's1'"
     ]
    }
   ],
   "source": [
    "for i in chamber.oncores:\n",
    "    for z in i.zipping:\n",
    "        print(z.S, z.G)\n",
    "    print('\\n\\n')"
   ]
  },
  {
   "cell_type": "code",
   "execution_count": 5,
   "metadata": {},
   "outputs": [
    {
     "name": "stdout",
     "output_type": "stream",
     "text": [
      "True 0\n",
      "(((......................................+......................................)))\n",
      "True 1\n",
      ".(((.....................................+.....................................))).\n",
      "True 2\n",
      "..(((....................................+....................................)))..\n",
      "True 3\n",
      "...(((...................................+...................................)))...\n",
      "True 4\n",
      "....(((..................................+..................................)))....\n",
      "True 5\n",
      ".....(((.................................+.................................))).....\n",
      "True 6\n",
      "......(((................................+................................)))......\n",
      "True 7\n",
      ".......(((...............................+...............................))).......\n",
      "True 8\n",
      "...............(((.......................+.......................)))...............\n",
      "True 9\n",
      "................(((......................+......................)))................\n",
      "True 10\n",
      ".................(((.....................+.....................))).................\n",
      "True 11\n",
      "..................(((....................+....................)))..................\n",
      "True 12\n",
      "...................(((...................+...................)))...................\n",
      "True 13\n",
      "....................(((..................+..................)))....................\n",
      "True 14\n",
      ".....................(((.................+.................))).....................\n",
      "True 15\n",
      "......................(((................+................)))......................\n",
      "True 16\n",
      ".......................(((...............+...............))).......................\n",
      "True 17\n",
      "........................(((..............+..............)))........................\n",
      "True 18\n",
      ".........................(((.............+.............))).........................\n",
      "True 19\n",
      "..........................(((............+............)))..........................\n",
      "True 20\n",
      "...........................(((...........+...........)))...........................\n",
      "True 21\n",
      "............................(((..........+..........)))............................\n",
      "True 22\n",
      ".............................(((.........+.........))).............................\n",
      "True 23\n",
      "..............................(((........+........)))..............................\n",
      "True 24\n",
      "...............................(((.......+.......)))...............................\n"
     ]
    }
   ],
   "source": [
    "for i, on in enumerate(chamber.oncores):\n",
    "    print(on.onregister, i)\n",
    "    print(on.structure)\n",
    "    # if on.zippingtrajectory != None:\n",
    "    #     print(*on.zippingtrajectory, sep='\\n')"
   ]
  },
  {
   "cell_type": "code",
   "execution_count": 6,
   "metadata": {},
   "outputs": [
    {
     "data": {
      "text/plain": [
       "int"
      ]
     },
     "execution_count": 6,
     "metadata": {},
     "output_type": "execute_result"
    }
   ],
   "source": [
    "type(int(chamber.oncores[-7].nucleationsize()[1]))"
   ]
  },
  {
   "cell_type": "code",
   "execution_count": 7,
   "metadata": {},
   "outputs": [
    {
     "name": "stdout",
     "output_type": "stream",
     "text": [
      "(1, 'a')\n",
      "(2, 'b')\n",
      "(3, 'c')\n"
     ]
    }
   ],
   "source": [
    "for i, el in enumerate(['a', 'b', 'c'], start=1):\n",
    "    print((i,el))"
   ]
  },
  {
   "cell_type": "code",
   "execution_count": 8,
   "metadata": {},
   "outputs": [
    {
     "data": {
      "text/plain": [
       "[2, 3, 4, 7]"
      ]
     },
     "execution_count": 8,
     "metadata": {},
     "output_type": "execute_result"
    }
   ],
   "source": [
    "def get_i(lst):\n",
    "    indices = []\n",
    "    for i, el in enumerate(lst, start=1):\n",
    "        if el != lst[i-2]:\n",
    "            indices.append(i-1)\n",
    "        else: continue \n",
    "    return indices\n",
    "\n",
    "lst = 'aababbba'\n",
    "get_i(lst)"
   ]
  },
  {
   "cell_type": "code",
   "execution_count": null,
   "metadata": {},
   "outputs": [],
   "source": []
  }
 ],
 "metadata": {
  "kernelspec": {
   "display_name": "base",
   "language": "python",
   "name": "python3"
  },
  "language_info": {
   "codemirror_mode": {
    "name": "ipython",
    "version": 3
   },
   "file_extension": ".py",
   "mimetype": "text/x-python",
   "name": "python",
   "nbconvert_exporter": "python",
   "pygments_lexer": "ipython3",
   "version": "3.9.12"
  },
  "orig_nbformat": 4,
  "vscode": {
   "interpreter": {
    "hash": "7f910d06e694c1a89a159fa71122a2459dd3007db8d70827445025af3e169410"
   }
  }
 },
 "nbformat": 4,
 "nbformat_minor": 2
}
