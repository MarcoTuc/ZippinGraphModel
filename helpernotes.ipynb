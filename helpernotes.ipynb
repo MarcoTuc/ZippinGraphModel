{
 "cells": [
  {
   "attachments": {},
   "cell_type": "markdown",
   "metadata": {},
   "source": [
    "Helper building method duplex_dg for Coils class"
   ]
  },
  {
   "cell_type": "code",
   "execution_count": 1,
   "metadata": {},
   "outputs": [],
   "source": [
    "import nupack as nu\n",
    "from classes.complex import Complex\n",
    "from classes.strand import Strand\n",
    "from classes.model import Model\n",
    "from classes.chamber import Chamber"
   ]
  },
  {
   "cell_type": "code",
   "execution_count": 2,
   "metadata": {},
   "outputs": [],
   "source": [
    "numodel = nu.Model(celsius=26)\n",
    "\n",
    "A = nu.Strand('ACACACACCA', name = 'trial')\n",
    "B = nu.Strand('TGTGTGTGGT'[::-1], name = 'comp')\n",
    "C = nu.Complex([A,B],name='c')"
   ]
  },
  {
   "cell_type": "code",
   "execution_count": 3,
   "metadata": {},
   "outputs": [],
   "source": [
    "mod = Model('dna', '3D')\n",
    "a = Strand(mod, 'ACACACACCA')\n",
    "b = Strand(mod, 'TGTGTGTGGT')\n",
    "structure = '(.........((((.........(((((((..................((((............+............))))..................))))))).........)))).........)'\n",
    "coils = Complex(mod, a, b, structure)"
   ]
  },
  {
   "cell_type": "code",
   "execution_count": 4,
   "metadata": {},
   "outputs": [],
   "source": [
    "coils.zipping_trajectory()"
   ]
  },
  {
   "cell_type": "code",
   "execution_count": 5,
   "metadata": {},
   "outputs": [],
   "source": [
    "import pandas as pd"
   ]
  },
  {
   "cell_type": "code",
   "execution_count": 6,
   "metadata": {},
   "outputs": [
    {
     "name": "stdout",
     "output_type": "stream",
     "text": [
      "0    64\n",
      "1    64\n",
      "dtype: int64\n"
     ]
    }
   ],
   "source": [
    "for struct in [pd.Series(coils.splitstructure())]:\n",
    "    num = struct.str.count('.')\n",
    "    print(num)"
   ]
  },
  {
   "cell_type": "code",
   "execution_count": 7,
   "metadata": {},
   "outputs": [
    {
     "name": "stdout",
     "output_type": "stream",
     "text": [
      "17\n",
      "0    [aaa, aa, , , aaaaaaa]\n",
      "dtype: object\n"
     ]
    },
    {
     "data": {
      "text/plain": [
       "0  0    3\n",
       "   1    2\n",
       "   2    0\n",
       "   3    0\n",
       "   4    7\n",
       "dtype: int64"
      ]
     },
     "execution_count": 7,
     "metadata": {},
     "output_type": "execute_result"
    }
   ],
   "source": [
    "a2 =  pd.Series('aaabaabbbaaaaaaa')\n",
    "num = a2.str.count('').sum()\n",
    "sub = a2.str.split('[^a]')\n",
    "print(num)\n",
    "print(sub)\n",
    "lens = sub.apply(pd.Series).stack().str.len()\n",
    "lens"
   ]
  },
  {
   "cell_type": "code",
   "execution_count": 8,
   "metadata": {},
   "outputs": [
    {
     "ename": "RuntimeError",
     "evalue": "C++: : \"Invalid secondary structure for the given energy model\" (StaticState.h, line 87)\nsequences = ACACACACCA+TGTGTGTGGT\ndotparens = ((((......+......))))\nstrand1 = 0\nstrand2 = 1\nindex1 = 2\nindex2 = 7\nbase1 = a\nbase2 = g\n",
     "output_type": "error",
     "traceback": [
      "\u001b[0;31m---------------------------------------------------------------------------\u001b[0m",
      "\u001b[0;31mRuntimeError\u001b[0m                              Traceback (most recent call last)",
      "Cell \u001b[0;32mIn [8], line 1\u001b[0m\n\u001b[0;32m----> 1\u001b[0m chamber \u001b[39m=\u001b[39m Chamber(mod, a, b)\n",
      "File \u001b[0;32m~/TESI-CODE/hDNA/classes/chamber.py:28\u001b[0m, in \u001b[0;36mChamber.__init__\u001b[0;34m(self, model, s1, s2)\u001b[0m\n\u001b[1;32m     25\u001b[0m \u001b[39mself\u001b[39m\u001b[39m.\u001b[39mcompute_offcores(\u001b[39m3\u001b[39m)\n\u001b[1;32m     27\u001b[0m \u001b[39m\"\"\" On-Register Nucleation Cores \"\"\"\u001b[39;00m\n\u001b[0;32m---> 28\u001b[0m \u001b[39mself\u001b[39;49m\u001b[39m.\u001b[39;49mcompute_oncores(\u001b[39m3\u001b[39;49m)\n",
      "File \u001b[0;32m~/TESI-CODE/hDNA/classes/chamber.py:68\u001b[0m, in \u001b[0;36mChamber.compute_oncores\u001b[0;34m(self, min_nucleation)\u001b[0m\n\u001b[1;32m     66\u001b[0m \u001b[39mfor\u001b[39;00m structureì \u001b[39min\u001b[39;00m \u001b[39mself\u001b[39m\u001b[39m.\u001b[39mnativeì:\n\u001b[1;32m     67\u001b[0m     structureout \u001b[39m=\u001b[39m \u001b[39mself\u001b[39m\u001b[39m.\u001b[39mparse_structure(structureì, \u001b[39mself\u001b[39m\u001b[39m.\u001b[39ms1, \u001b[39mself\u001b[39m\u001b[39m.\u001b[39ms2)\n\u001b[0;32m---> 68\u001b[0m     \u001b[39mself\u001b[39m\u001b[39m.\u001b[39moncores\u001b[39m.\u001b[39mappend(Complex(\u001b[39mself\u001b[39;49m\u001b[39m.\u001b[39;49mmodel, \u001b[39mself\u001b[39;49m\u001b[39m.\u001b[39;49ms1, \u001b[39mself\u001b[39;49m\u001b[39m.\u001b[39;49ms2, structure\u001b[39m=\u001b[39;49mstructureout, onregister\u001b[39m=\u001b[39;49m\u001b[39mTrue\u001b[39;49;00m))\n\u001b[1;32m     69\u001b[0m \u001b[39mself\u001b[39m\u001b[39m.\u001b[39moncores \u001b[39m=\u001b[39m [core \u001b[39mfor\u001b[39;00m core \u001b[39min\u001b[39;00m \u001b[39mself\u001b[39m\u001b[39m.\u001b[39moncores \u001b[39mif\u001b[39;00m core\u001b[39m.\u001b[39mtotal_nucleations \u001b[39m>\u001b[39m\u001b[39m=\u001b[39m min_nucleation]\n\u001b[1;32m     70\u001b[0m \u001b[39mreturn\u001b[39;00m \u001b[39mself\u001b[39m\u001b[39m.\u001b[39moncores\n",
      "File \u001b[0;32m~/TESI-CODE/hDNA/classes/complex.py:53\u001b[0m, in \u001b[0;36mComplex.__init__\u001b[0;34m(self, model, s1, s2, structure, duplex, offregister, onregister)\u001b[0m\n\u001b[1;32m     51\u001b[0m \u001b[39mself\u001b[39m\u001b[39m.\u001b[39monregister \u001b[39m=\u001b[39m onregister\n\u001b[1;32m     52\u001b[0m \u001b[39mself\u001b[39m\u001b[39m.\u001b[39mcheck_onregister()\n\u001b[0;32m---> 53\u001b[0m \u001b[39mself\u001b[39;49m\u001b[39m.\u001b[39;49mzipping_trajectory()\n",
      "File \u001b[0;32m~/TESI-CODE/hDNA/classes/complex.py:129\u001b[0m, in \u001b[0;36mComplex.zipping_trajectory\u001b[0;34m(self)\u001b[0m\n\u001b[1;32m    127\u001b[0m         candidatestep \u001b[39m=\u001b[39m \u001b[39mself\u001b[39m\u001b[39m.\u001b[39mparse_structure(step, \u001b[39mself\u001b[39m\u001b[39m.\u001b[39ms1, \u001b[39mself\u001b[39m\u001b[39m.\u001b[39ms2)\n\u001b[1;32m    128\u001b[0m         \u001b[39mself\u001b[39m\u001b[39m.\u001b[39mzipping[\u001b[39m0\u001b[39m]\u001b[39m.\u001b[39mappend(candidatestep)\n\u001b[0;32m--> 129\u001b[0m         \u001b[39mself\u001b[39m\u001b[39m.\u001b[39mzipping[\u001b[39m1\u001b[39m]\u001b[39m.\u001b[39mappend(\u001b[39mself\u001b[39;49m\u001b[39m.\u001b[39;49mstructureG(candidatestep))\n\u001b[1;32m    131\u001b[0m     \u001b[39mreturn\u001b[39;00m \u001b[39mself\u001b[39m\u001b[39m.\u001b[39mzipping\n\u001b[1;32m    133\u001b[0m \u001b[39melse\u001b[39;00m: \u001b[39mself\u001b[39m\u001b[39m.\u001b[39mzipping \u001b[39m=\u001b[39m \u001b[39mNone\u001b[39;00m; \u001b[39mreturn\u001b[39;00m \u001b[39mself\u001b[39m\u001b[39m.\u001b[39mzipping\n",
      "File \u001b[0;32m~/TESI-CODE/hDNA/classes/complex.py:146\u001b[0m, in \u001b[0;36mComplex.structureG\u001b[0;34m(self, structure)\u001b[0m\n\u001b[1;32m    144\u001b[0m nuStrand2 \u001b[39m=\u001b[39m nu\u001b[39m.\u001b[39mStrand(\u001b[39mself\u001b[39m\u001b[39m.\u001b[39ms2\u001b[39m.\u001b[39minvert\u001b[39m.\u001b[39msequence, name \u001b[39m=\u001b[39m \u001b[39m'\u001b[39m\u001b[39mb\u001b[39m\u001b[39m'\u001b[39m) \u001b[39m# An inversion here is needed because in this program strands are defined as 5-3 against 3-5 but in NUPACK all strands are defined 5-3 and the program takes care to turn them around and so on\u001b[39;00m\n\u001b[1;32m    145\u001b[0m nuStructure \u001b[39m=\u001b[39m nu\u001b[39m.\u001b[39mStructure(structure)\n\u001b[0;32m--> 146\u001b[0m dG \u001b[39m=\u001b[39m nu\u001b[39m.\u001b[39;49mstructure_energy(strands\u001b[39m=\u001b[39;49m[nuStrand1,nuStrand2], structure\u001b[39m=\u001b[39;49mnuStructure, model\u001b[39m=\u001b[39;49m\u001b[39mself\u001b[39;49m\u001b[39m.\u001b[39;49mnupackmodel)\n\u001b[1;32m    147\u001b[0m \u001b[39mreturn\u001b[39;00m dG\n",
      "File \u001b[0;32m~/miniconda3/lib/python3.9/site-packages/nupack/model.py:261\u001b[0m, in \u001b[0;36mstructure_energy\u001b[0;34m(strands, structure, model, distinguishable)\u001b[0m\n\u001b[1;32m    259\u001b[0m \u001b[39m'''Free energy of a given secondary structure in (kcal/mol)'''\u001b[39;00m\n\u001b[1;32m    260\u001b[0m check_instance(model, Model)\n\u001b[0;32m--> 261\u001b[0m \u001b[39mreturn\u001b[39;00m model\u001b[39m.\u001b[39;49mstructure_energy(strands, structure, distinguishable)\n",
      "File \u001b[0;32m~/miniconda3/lib/python3.9/site-packages/nupack/rebind/render.py:238\u001b[0m, in \u001b[0;36mrender_function.<locals>.wrap\u001b[0;34m(_orig, _bind, _old, *args, **kwargs)\u001b[0m\n\u001b[1;32m    236\u001b[0m bound \u001b[39m=\u001b[39m _bind(\u001b[39m*\u001b[39margs, \u001b[39m*\u001b[39m\u001b[39m*\u001b[39mkwargs)\n\u001b[1;32m    237\u001b[0m bound\u001b[39m.\u001b[39mapply_defaults()\n\u001b[0;32m--> 238\u001b[0m \u001b[39mreturn\u001b[39;00m _old(\u001b[39m*\u001b[39;49mbound\u001b[39m.\u001b[39;49margs, _fun_\u001b[39m=\u001b[39;49m_orig, \u001b[39m*\u001b[39;49m\u001b[39m*\u001b[39;49mbound\u001b[39m.\u001b[39;49mkwargs)\n",
      "File \u001b[0;32m~/miniconda3/lib/python3.9/site-packages/nupack/model.py:235\u001b[0m, in \u001b[0;36mModel.structure_energy\u001b[0;34m(self, strands, structure, distinguishable, _fun_)\u001b[0m\n\u001b[1;32m    233\u001b[0m \u001b[39mif\u001b[39;00m \u001b[39mself\u001b[39m\u001b[39m.\u001b[39mmaterial \u001b[39m==\u001b[39m \u001b[39m'\u001b[39m\u001b[39mDNA/RNA\u001b[39m\u001b[39m'\u001b[39m \u001b[39mand\u001b[39;00m \u001b[39misinstance\u001b[39m(strands, Complex):\n\u001b[1;32m    234\u001b[0m     strands \u001b[39m=\u001b[39m standardize_alphabet([strands], \u001b[39mself\u001b[39m\u001b[39m.\u001b[39malphabet())[\u001b[39m0\u001b[39m]\n\u001b[0;32m--> 235\u001b[0m \u001b[39mreturn\u001b[39;00m _fun_(\u001b[39mself\u001b[39;49m, SequenceList(strands, alphabet \u001b[39m=\u001b[39;49m \u001b[39mself\u001b[39;49m\u001b[39m.\u001b[39;49malphabet()), PairList(structure), distinguishable)\u001b[39m.\u001b[39mcast(\u001b[39mfloat\u001b[39m)\n",
      "\u001b[0;31mRuntimeError\u001b[0m: C++: : \"Invalid secondary structure for the given energy model\" (StaticState.h, line 87)\nsequences = ACACACACCA+TGTGTGTGGT\ndotparens = ((((......+......))))\nstrand1 = 0\nstrand2 = 1\nindex1 = 2\nindex2 = 7\nbase1 = a\nbase2 = g\n"
     ]
    }
   ],
   "source": [
    "chamber = Chamber(mod, a, b)"
   ]
  },
  {
   "cell_type": "code",
   "execution_count": null,
   "metadata": {},
   "outputs": [],
   "source": [
    "SX, DX = chamber.structurecut('ACCGT','ACGGT','^^^^^','^^^^^')"
   ]
  },
  {
   "cell_type": "code",
   "execution_count": null,
   "metadata": {},
   "outputs": [],
   "source": [
    "A = Strand(mod,'ACACACACCA')\n",
    "B = Strand(mod,'TGTGTGTGGT')\n",
    "# chamber.parse_structure('iiiii+iiiii',A,B)"
   ]
  },
  {
   "cell_type": "code",
   "execution_count": null,
   "metadata": {},
   "outputs": [
    {
     "data": {
      "text/plain": [
       "[<classes.complex.Complex at 0x7f6fbab35f70>,\n",
       " <classes.complex.Complex at 0x7f6fbab2edc0>,\n",
       " <classes.complex.Complex at 0x7f6fbab24c10>,\n",
       " <classes.complex.Complex at 0x7f6fbab2f610>,\n",
       " <classes.complex.Complex at 0x7f6fbab24af0>]"
      ]
     },
     "execution_count": 11,
     "metadata": {},
     "output_type": "execute_result"
    }
   ],
   "source": [
    "chamber.offcores"
   ]
  },
  {
   "cell_type": "code",
   "execution_count": null,
   "metadata": {},
   "outputs": [
    {
     "name": "stdout",
     "output_type": "stream",
     "text": [
      "ACACACACCA+TGGTGTGTGT\n",
      "..((((((..+....))))))\n"
     ]
    }
   ],
   "source": [
    "num = 9\n",
    "print(chamber.slidings[num].sequences)\n",
    "print(chamber.slidings[num].structure)"
   ]
  },
  {
   "cell_type": "code",
   "execution_count": null,
   "metadata": {},
   "outputs": [
    {
     "name": "stdout",
     "output_type": "stream",
     "text": [
      "ACACACACCA+TGGTGTGTGT\n",
      "..((((((..+....))))))\n"
     ]
    }
   ],
   "source": [
    "num = 9\n",
    "print(chamber.slidings[num].sequences)\n",
    "print(chamber.slidings[num].structure)"
   ]
  },
  {
   "cell_type": "code",
   "execution_count": null,
   "metadata": {},
   "outputs": [],
   "source": [
    "a = 'ABCDEFGH'\n",
    "b = '12345678'\n",
    "n = 3\n",
    "\n",
    "c = [[a[i:i+n],b[i:i+n]] for i in range(0, len(a) - n + 1)]"
   ]
  },
  {
   "cell_type": "code",
   "execution_count": null,
   "metadata": {},
   "outputs": [],
   "source": [
    "on = chamber.compute_oncores(3)\n"
   ]
  },
  {
   "cell_type": "code",
   "execution_count": null,
   "metadata": {},
   "outputs": [
    {
     "name": "stdout",
     "output_type": "stream",
     "text": [
      "(((.......+.......)))\n",
      ".(((......+......))).\n",
      "..(((.....+.....)))..\n",
      "...(((....+....)))...\n",
      "....(((...+...)))....\n",
      ".....(((..+..))).....\n",
      "......(((.+.)))......\n",
      ".......(((+))).......\n"
     ]
    }
   ],
   "source": [
    "for on in on:\n",
    "    print(on.structure)"
   ]
  },
  {
   "cell_type": "code",
   "execution_count": null,
   "metadata": {},
   "outputs": [
    {
     "name": "stdout",
     "output_type": "stream",
     "text": [
      "..(((((..+..)))))..\n"
     ]
    }
   ],
   "source": [
    "string = \"...(((...+...)))...\"\n",
    "\n",
    "left, right = string.split('+')\n",
    "\n",
    "if ('.' in left) and ('.' in right): \n",
    "\n",
    "    index = left.find('(', 0, -1)\n",
    "    indexinv = left[::-1].find('(', 0, -1)\n",
    "    left_stepinvers = left[::-1][:indexinv-1] + '(' + left[::-1][indexinv:]\n",
    "    left_step = left_stepinvers[::-1][:index-1] + '(' + left_stepinvers[::-1][index:]\n",
    "\n",
    "    index = right.find(')', 0, -1)\n",
    "    indexinv = right[::-1].find(')', 0, -1)\n",
    "    right_stepinvers = right[::-1][:indexinv-1] + ')' + right[::-1][indexinv:]\n",
    "    right_step = right_stepinvers[::-1][:index-1] + ')' + right_stepinvers[::-1][index:]\n",
    "\n",
    "    step = '+'.join([left_step,right_step])\n",
    "    print(step)\n",
    "else:\n",
    "    print(string)"
   ]
  },
  {
   "cell_type": "code",
   "execution_count": null,
   "metadata": {},
   "outputs": [],
   "source": [
    "def trajectory(string):\n",
    "    left, right = string.split('+')\n",
    "    steps = []\n",
    "    while ('.' in left) and ('.' in right):\n",
    "        index = string.find('(',0,-1)\n",
    "        left_step = left.replace('')\n",
    "\n"
   ]
  },
  {
   "cell_type": "code",
   "execution_count": null,
   "metadata": {},
   "outputs": [
    {
     "name": "stdout",
     "output_type": "stream",
     "text": [
      "23\n"
     ]
    },
    {
     "data": {
      "text/plain": [
       "'.....(((((.............'"
      ]
     },
     "execution_count": 19,
     "metadata": {},
     "output_type": "execute_result"
    }
   ],
   "source": [
    "from numpy import multiply\n",
    "states = '......(((..............'\n",
    "\n",
    "\n",
    "def subonce(list):\n",
    "\n",
    "    def get_i(lst):\n",
    "        indices = []\n",
    "        for i, el in enumerate(lst):\n",
    "            if i > 0 and el != lst[i-1]:\n",
    "                indices.append(i)\n",
    "        return indices\n",
    "    \n",
    "    indices = get_i(list)\n",
    "    indices_inv = get_i(list[::-1])\n",
    "\n",
    "    updated = list\n",
    "    for index in indices:\n",
    "        updated = updated[:index-1] + '(' + updated[index:]\n",
    "    updated_inv = updated[::-1]\n",
    "    for index in indices_inv:\n",
    "        updated_inv = updated_inv[:index-1] + '(' + updated_inv[index:]\n",
    "    return updated_inv[::-1]\n",
    "\n",
    "print(len(states))\n",
    "subonce(states)"
   ]
  },
  {
   "cell_type": "code",
   "execution_count": null,
   "metadata": {},
   "outputs": [
    {
     "data": {
      "text/plain": [
       "('(((((((((((', '((((((((((', 9)"
      ]
     },
     "execution_count": 20,
     "metadata": {},
     "output_type": "execute_result"
    }
   ],
   "source": [
    "left = '.........(('\n",
    "right = '........(('\n",
    "i = 0\n",
    "while '.' in left and right:\n",
    "    i += 1\n",
    "    left = subonce(left)\n",
    "    right = subonce(right)\n",
    "\n",
    "left, right, i"
   ]
  },
  {
   "cell_type": "code",
   "execution_count": null,
   "metadata": {},
   "outputs": [],
   "source": []
  }
 ],
 "metadata": {
  "kernelspec": {
   "display_name": "base",
   "language": "python",
   "name": "python3"
  },
  "language_info": {
   "codemirror_mode": {
    "name": "ipython",
    "version": 3
   },
   "file_extension": ".py",
   "mimetype": "text/x-python",
   "name": "python",
   "nbconvert_exporter": "python",
   "pygments_lexer": "ipython3",
   "version": "3.9.12"
  },
  "orig_nbformat": 4,
  "vscode": {
   "interpreter": {
    "hash": "7f910d06e694c1a89a159fa71122a2459dd3007db8d70827445025af3e169410"
   }
  }
 },
 "nbformat": 4,
 "nbformat_minor": 2
}
