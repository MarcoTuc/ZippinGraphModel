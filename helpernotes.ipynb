{
 "cells": [
  {
   "attachments": {},
   "cell_type": "markdown",
   "metadata": {},
   "source": [
    "Helper building method duplex_dg for Coils class"
   ]
  },
  {
   "cell_type": "code",
   "execution_count": 1,
   "metadata": {},
   "outputs": [],
   "source": [
    "import nupack as nu\n",
    "from classes.complex import Complex\n",
    "from classes.strand import Strand\n",
    "from classes.model import Model\n",
    "from classes.chamber import Chamber"
   ]
  },
  {
   "cell_type": "code",
   "execution_count": 2,
   "metadata": {},
   "outputs": [],
   "source": [
    "numodel = nu.Model(celsius=26)\n",
    "\n",
    "A = nu.Strand('ACACACACCA', name = 'trial')\n",
    "B = nu.Strand('TGTGTGTGGT'[::-1], name = 'comp')\n",
    "C = nu.Complex([A,B],name='c')"
   ]
  },
  {
   "cell_type": "code",
   "execution_count": 3,
   "metadata": {},
   "outputs": [],
   "source": [
    "mod = Model('dna', '3D')\n",
    "a = Strand(mod, 'ACACACACCA')\n",
    "b = Strand(mod, 'TGTGTGTGGT')\n",
    "structure = '(.........((((.........(((((((..................((((............+............))))..................))))))).........)))).........)'\n",
    "coils = Complex(mod, a, b, structure)"
   ]
  },
  {
   "cell_type": "code",
   "execution_count": 4,
   "metadata": {},
   "outputs": [
    {
     "data": {
      "text/plain": [
       "['(.........((((.........(((((((..................((((............+............))))..................))))))).........)))).........)',\n",
       " '((.......((((((.......(((((((((................((((((...........+...........))))))................))))))))).......)))))).......))',\n",
       " '(((.....((((((((.....(((((((((((..............((((((((..........+..........))))))))..............))))))))))).....)))))))).....)))',\n",
       " '((((...((((((((((...(((((((((((((............((((((((((.........+.........))))))))))............)))))))))))))...))))))))))...))))',\n",
       " '(((((.((((((((((((.(((((((((((((((..........((((((((((((........+........))))))))))))..........))))))))))))))).)))))))))))).)))))',\n",
       " '(((((((((((((((((((((((((((((((((((........((((((((((((((.......+.......))))))))))))))........)))))))))))))))))))))))))))))))))))',\n",
       " '((((((((((((((((((((((((((((((((((((......((((((((((((((((......+......))))))))))))))))......))))))))))))))))))))))))))))))))))))',\n",
       " '(((((((((((((((((((((((((((((((((((((....((((((((((((((((((.....+.....))))))))))))))))))....)))))))))))))))))))))))))))))))))))))',\n",
       " '((((((((((((((((((((((((((((((((((((((..((((((((((((((((((((....+....))))))))))))))))))))..))))))))))))))))))))))))))))))))))))))',\n",
       " '(((((((((((((((((((((((((((((((((((((((((((((((((((((((((((((...+...)))))))))))))))))))))))))))))))))))))))))))))))))))))))))))))',\n",
       " '((((((((((((((((((((((((((((((((((((((((((((((((((((((((((((((..+..))))))))))))))))))))))))))))))))))))))))))))))))))))))))))))))',\n",
       " '(((((((((((((((((((((((((((((((((((((((((((((((((((((((((((((((.+.)))))))))))))))))))))))))))))))))))))))))))))))))))))))))))))))',\n",
       " '((((((((((((((((((((((((((((((((((((((((((((((((((((((((((((((((+))))))))))))))))))))))))))))))))))))))))))))))))))))))))))))))))']"
      ]
     },
     "execution_count": 4,
     "metadata": {},
     "output_type": "execute_result"
    }
   ],
   "source": [
    "coils.zipping_trajectory()"
   ]
  },
  {
   "cell_type": "code",
   "execution_count": 5,
   "metadata": {},
   "outputs": [],
   "source": [
    "import pandas as pd"
   ]
  },
  {
   "cell_type": "code",
   "execution_count": 6,
   "metadata": {},
   "outputs": [
    {
     "name": "stdout",
     "output_type": "stream",
     "text": [
      "0    64\n",
      "1    64\n",
      "dtype: int64\n"
     ]
    }
   ],
   "source": [
    "for struct in [pd.Series(coils.splitstructure())]:\n",
    "    num = struct.str.count('.')\n",
    "    print(num)"
   ]
  },
  {
   "cell_type": "code",
   "execution_count": 7,
   "metadata": {},
   "outputs": [
    {
     "name": "stdout",
     "output_type": "stream",
     "text": [
      "17\n",
      "0    [aaa, aa, , , aaaaaaa]\n",
      "dtype: object\n"
     ]
    },
    {
     "data": {
      "text/plain": [
       "0  0    3\n",
       "   1    2\n",
       "   2    0\n",
       "   3    0\n",
       "   4    7\n",
       "dtype: int64"
      ]
     },
     "execution_count": 7,
     "metadata": {},
     "output_type": "execute_result"
    }
   ],
   "source": [
    "a2 =  pd.Series('aaabaabbbaaaaaaa')\n",
    "num = a2.str.count('').sum()\n",
    "sub = a2.str.split('[^a]')\n",
    "print(num)\n",
    "print(sub)\n",
    "lens = sub.apply(pd.Series).stack().str.len()\n",
    "lens"
   ]
  },
  {
   "cell_type": "code",
   "execution_count": 8,
   "metadata": {},
   "outputs": [],
   "source": [
    "chamber = Chamber(mod, a, b)"
   ]
  },
  {
   "cell_type": "code",
   "execution_count": 9,
   "metadata": {},
   "outputs": [],
   "source": [
    "SX, DX = chamber.structurecut('ACCGT','ACGGT','^^^^^','^^^^^')"
   ]
  },
  {
   "cell_type": "code",
   "execution_count": 10,
   "metadata": {},
   "outputs": [],
   "source": [
    "A = Strand(mod,'ACACACACCA')\n",
    "B = Strand(mod,'TGTGTGTGGT')\n",
    "# chamber.parse_structure('iiiii+iiiii',A,B)"
   ]
  },
  {
   "cell_type": "code",
   "execution_count": 11,
   "metadata": {},
   "outputs": [
    {
     "data": {
      "text/plain": [
       "[<classes.complex.Complex at 0x7f6fbab35f70>,\n",
       " <classes.complex.Complex at 0x7f6fbab2edc0>,\n",
       " <classes.complex.Complex at 0x7f6fbab24c10>,\n",
       " <classes.complex.Complex at 0x7f6fbab2f610>,\n",
       " <classes.complex.Complex at 0x7f6fbab24af0>]"
      ]
     },
     "execution_count": 11,
     "metadata": {},
     "output_type": "execute_result"
    }
   ],
   "source": [
    "chamber.offcores"
   ]
  },
  {
   "cell_type": "code",
   "execution_count": 12,
   "metadata": {},
   "outputs": [
    {
     "name": "stdout",
     "output_type": "stream",
     "text": [
      "ACACACACCA+TGGTGTGTGT\n",
      "..((((((..+....))))))\n"
     ]
    }
   ],
   "source": [
    "num = 9\n",
    "print(chamber.slidings[num].sequences)\n",
    "print(chamber.slidings[num].structure)"
   ]
  },
  {
   "cell_type": "code",
   "execution_count": 13,
   "metadata": {},
   "outputs": [
    {
     "name": "stdout",
     "output_type": "stream",
     "text": [
      "ACACACACCA+TGGTGTGTGT\n",
      "..((((((..+....))))))\n"
     ]
    }
   ],
   "source": [
    "num = 9\n",
    "print(chamber.slidings[num].sequences)\n",
    "print(chamber.slidings[num].structure)"
   ]
  },
  {
   "cell_type": "code",
   "execution_count": 14,
   "metadata": {},
   "outputs": [],
   "source": [
    "a = 'ABCDEFGH'\n",
    "b = '12345678'\n",
    "n = 3\n",
    "\n",
    "c = [[a[i:i+n],b[i:i+n]] for i in range(0, len(a) - n + 1)]"
   ]
  },
  {
   "cell_type": "code",
   "execution_count": 15,
   "metadata": {},
   "outputs": [],
   "source": [
    "on = chamber.compute_oncores(3)\n"
   ]
  },
  {
   "cell_type": "code",
   "execution_count": 16,
   "metadata": {},
   "outputs": [
    {
     "name": "stdout",
     "output_type": "stream",
     "text": [
      "(((.......+.......)))\n",
      ".(((......+......))).\n",
      "..(((.....+.....)))..\n",
      "...(((....+....)))...\n",
      "....(((...+...)))....\n",
      ".....(((..+..))).....\n",
      "......(((.+.)))......\n",
      ".......(((+))).......\n"
     ]
    }
   ],
   "source": [
    "for on in on:\n",
    "    print(on.structure)"
   ]
  },
  {
   "cell_type": "code",
   "execution_count": 17,
   "metadata": {},
   "outputs": [
    {
     "name": "stdout",
     "output_type": "stream",
     "text": [
      "..(((((..+..)))))..\n"
     ]
    }
   ],
   "source": [
    "string = \"...(((...+...)))...\"\n",
    "\n",
    "left, right = string.split('+')\n",
    "\n",
    "if ('.' in left) and ('.' in right): \n",
    "\n",
    "    index = left.find('(', 0, -1)\n",
    "    indexinv = left[::-1].find('(', 0, -1)\n",
    "    left_stepinvers = left[::-1][:indexinv-1] + '(' + left[::-1][indexinv:]\n",
    "    left_step = left_stepinvers[::-1][:index-1] + '(' + left_stepinvers[::-1][index:]\n",
    "\n",
    "    index = right.find(')', 0, -1)\n",
    "    indexinv = right[::-1].find(')', 0, -1)\n",
    "    right_stepinvers = right[::-1][:indexinv-1] + ')' + right[::-1][indexinv:]\n",
    "    right_step = right_stepinvers[::-1][:index-1] + ')' + right_stepinvers[::-1][index:]\n",
    "\n",
    "    step = '+'.join([left_step,right_step])\n",
    "    print(step)\n",
    "else:\n",
    "    print(string)"
   ]
  },
  {
   "cell_type": "code",
   "execution_count": 18,
   "metadata": {},
   "outputs": [],
   "source": [
    "def trajectory(string):\n",
    "    left, right = string.split('+')\n",
    "    steps = []\n",
    "    while ('.' in left) and ('.' in right):\n",
    "        index = string.find('(',0,-1)\n",
    "        left_step = left.replace('')\n",
    "\n"
   ]
  },
  {
   "cell_type": "code",
   "execution_count": 19,
   "metadata": {},
   "outputs": [
    {
     "name": "stdout",
     "output_type": "stream",
     "text": [
      "23\n"
     ]
    },
    {
     "data": {
      "text/plain": [
       "'.....(((((.............'"
      ]
     },
     "execution_count": 19,
     "metadata": {},
     "output_type": "execute_result"
    }
   ],
   "source": [
    "from numpy import multiply\n",
    "states = '......(((..............'\n",
    "\n",
    "\n",
    "def subonce(list):\n",
    "\n",
    "    def get_i(lst):\n",
    "        indices = []\n",
    "        for i, el in enumerate(lst):\n",
    "            if i > 0 and el != lst[i-1]:\n",
    "                indices.append(i)\n",
    "        return indices\n",
    "    \n",
    "    indices = get_i(list)\n",
    "    indices_inv = get_i(list[::-1])\n",
    "\n",
    "    updated = list\n",
    "    for index in indices:\n",
    "        updated = updated[:index-1] + '(' + updated[index:]\n",
    "    updated_inv = updated[::-1]\n",
    "    for index in indices_inv:\n",
    "        updated_inv = updated_inv[:index-1] + '(' + updated_inv[index:]\n",
    "    return updated_inv[::-1]\n",
    "\n",
    "print(len(states))\n",
    "subonce(states)"
   ]
  },
  {
   "cell_type": "code",
   "execution_count": 20,
   "metadata": {},
   "outputs": [
    {
     "data": {
      "text/plain": [
       "('(((((((((((', '((((((((((', 9)"
      ]
     },
     "execution_count": 20,
     "metadata": {},
     "output_type": "execute_result"
    }
   ],
   "source": [
    "left = '.........(('\n",
    "right = '........(('\n",
    "i = 0\n",
    "while '.' in left and right:\n",
    "    i += 1\n",
    "    left = subonce(left)\n",
    "    right = subonce(right)\n",
    "\n",
    "left, right, i"
   ]
  },
  {
   "cell_type": "code",
   "execution_count": null,
   "metadata": {},
   "outputs": [],
   "source": []
  }
 ],
 "metadata": {
  "kernelspec": {
   "display_name": "base",
   "language": "python",
   "name": "python3"
  },
  "language_info": {
   "codemirror_mode": {
    "name": "ipython",
    "version": 3
   },
   "file_extension": ".py",
   "mimetype": "text/x-python",
   "name": "python",
   "nbconvert_exporter": "python",
   "pygments_lexer": "ipython3",
   "version": "3.9.12"
  },
  "orig_nbformat": 4,
  "vscode": {
   "interpreter": {
    "hash": "7f910d06e694c1a89a159fa71122a2459dd3007db8d70827445025af3e169410"
   }
  }
 },
 "nbformat": 4,
 "nbformat_minor": 2
}
