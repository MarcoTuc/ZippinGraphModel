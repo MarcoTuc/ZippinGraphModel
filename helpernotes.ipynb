{
 "cells": [
  {
   "attachments": {},
   "cell_type": "markdown",
   "metadata": {},
   "source": [
    "Helper building method duplex_dg for Coils class"
   ]
  },
  {
   "cell_type": "code",
   "execution_count": 1,
   "metadata": {},
   "outputs": [],
   "source": [
    "import nupack as nu\n",
    "from classes.complex import Complex\n",
    "from classes.strand import Strand\n",
    "from classes.model import Model\n",
    "from classes.chamber import Chamber"
   ]
  },
  {
   "cell_type": "code",
   "execution_count": 2,
   "metadata": {},
   "outputs": [],
   "source": [
    "numodel = nu.Model()\n",
    "\n",
    "A = nu.Strand('AACCGGTT', name = 'trial')\n",
    "B = nu.Strand('TTGCCCAA'[::-1], name = 'comp')\n",
    "C = nu.Complex([A,B],name='c')"
   ]
  },
  {
   "cell_type": "code",
   "execution_count": 3,
   "metadata": {},
   "outputs": [
    {
     "data": {
      "text/plain": [
       "-7.994078966032783"
      ]
     },
     "execution_count": 3,
     "metadata": {},
     "output_type": "execute_result"
    }
   ],
   "source": [
    "nu.pfunc(C,numodel)[1]"
   ]
  },
  {
   "cell_type": "code",
   "execution_count": 4,
   "metadata": {},
   "outputs": [],
   "source": [
    "mod = Model('dna', '3D')\n",
    "a = Strand(mod, 'ACACACACCA')\n",
    "b = Strand(mod, 'TGTGTGTGGT')\n",
    "\n",
    "coils = Complex(mod, a, b, '')"
   ]
  },
  {
   "cell_type": "code",
   "execution_count": 5,
   "metadata": {},
   "outputs": [],
   "source": [
    "chamber = Chamber(mod, a, b)"
   ]
  },
  {
   "cell_type": "code",
   "execution_count": 6,
   "metadata": {},
   "outputs": [],
   "source": [
    "chamber.compute_offcores(3)"
   ]
  },
  {
   "cell_type": "code",
   "execution_count": 7,
   "metadata": {},
   "outputs": [],
   "source": [
    "chamber.compute_slidings_structured(1)"
   ]
  },
  {
   "cell_type": "code",
   "execution_count": 8,
   "metadata": {},
   "outputs": [],
   "source": [
    "a, b = chamber.slidings[3].structure.split('+')"
   ]
  },
  {
   "cell_type": "code",
   "execution_count": 9,
   "metadata": {},
   "outputs": [
    {
     "name": "stdout",
     "output_type": "stream",
     "text": [
      "0\n",
      "1\n",
      "4\n",
      "1\n",
      "2\n",
      "5\n",
      "2\n",
      "3\n",
      "6\n"
     ]
    }
   ],
   "source": [
    "for a, (b, c, d) in enumerate(zip([1,2,3],[4,5,6],[7,8,9])):\n",
    "    print(a)\n",
    "    print(b)\n",
    "    print(c)"
   ]
  },
  {
   "cell_type": "code",
   "execution_count": 10,
   "metadata": {},
   "outputs": [
    {
     "name": "stdout",
     "output_type": "stream",
     "text": [
      "2\n",
      "ACACACACCA+TGGTGTGTGT\n",
      "^.........+^.........\n",
      "\n",
      "\n",
      "2\n",
      "ACACACACCA+TGGTGTGTGT\n",
      "^^........+^^........\n",
      "\n",
      "\n",
      "2\n",
      "ACACACACCA+TGGTGTGTGT\n",
      "^^^.......+^^^.......\n",
      "\n",
      "\n",
      "2\n",
      "ACACACACCA+TGGTGTGTGT\n",
      "^^^^......+^^^^......\n",
      "\n",
      "\n",
      "2\n",
      "ACACACACCA+TGGTGTGTGT\n",
      "^^^^^.....+^^^^^.....\n",
      "\n",
      "\n",
      "2\n",
      "ACACACACCA+TGGTGTGTGT\n",
      "^^^^^^....+^^^^^^....\n",
      "\n",
      "\n",
      "2\n",
      "ACACACACCA+TGGTGTGTGT\n",
      "^^^^^^^...+^^^^^^^...\n",
      "\n",
      "\n",
      "2\n",
      "ACACACACCA+TGGTGTGTGT\n",
      "^^^^^^^^..+^^^^^^^^..\n",
      "\n",
      "\n",
      "2\n",
      "ACACACACCA+TGGTGTGTGT\n",
      "^^^^^^^^^.+^^^^^^^^^.\n",
      "\n",
      "\n",
      "2\n",
      "ACACACACCA+TGGTGTGTGT\n",
      "((((((((((+))))))))))\n",
      "\n",
      "\n",
      "2\n",
      "ACACACACCA+TGGTGTGTGT\n",
      ".^^^^^^^^^+.^^^^^^^^^\n",
      "\n",
      "\n",
      "2\n",
      "ACACACACCA+TGGTGTGTGT\n",
      "..^^^^^^^^+..^^^^^^^^\n",
      "\n",
      "\n",
      "2\n",
      "ACACACACCA+TGGTGTGTGT\n",
      "...^^^^^^^+...^^^^^^^\n",
      "\n",
      "\n",
      "2\n",
      "ACACACACCA+TGGTGTGTGT\n",
      "....^^^^^^+....^^^^^^\n",
      "\n",
      "\n",
      "2\n",
      "ACACACACCA+TGGTGTGTGT\n",
      ".....^^^^^+.....^^^^^\n",
      "\n",
      "\n",
      "2\n",
      "ACACACACCA+TGGTGTGTGT\n",
      "......^^^^+......^^^^\n",
      "\n",
      "\n",
      "2\n",
      "ACACACACCA+TGGTGTGTGT\n",
      ".......^^^+.......^^^\n",
      "\n",
      "\n",
      "2\n",
      "ACACACACCA+TGGTGTGTGT\n",
      "........^^+........^^\n",
      "\n",
      "\n",
      "2\n",
      "ACACACACCA+TGGTGTGTGT\n",
      ".........^+.........^\n",
      "\n",
      "\n"
     ]
    }
   ],
   "source": [
    "for sl in chamber.slidings:\n",
    "    print(sl.nucleation_size)\n",
    "    print(sl.sequences)\n",
    "    print(sl.structure)\n",
    "    print('\\n')"
   ]
  },
  {
   "cell_type": "code",
   "execution_count": null,
   "metadata": {},
   "outputs": [],
   "source": []
  },
  {
   "cell_type": "code",
   "execution_count": 11,
   "metadata": {},
   "outputs": [],
   "source": [
    "a = 'ABCDEFGH'\n",
    "b = '12345678'\n",
    "n = 3\n",
    "\n",
    "c = [[a[i:i+n],b[i:i+n]] for i in range(0, len(a) - n)]"
   ]
  },
  {
   "cell_type": "code",
   "execution_count": 12,
   "metadata": {},
   "outputs": [
    {
     "data": {
      "text/plain": [
       "'((((((((((aaa'"
      ]
     },
     "execution_count": 12,
     "metadata": {},
     "output_type": "execute_result"
    }
   ],
   "source": [
    "\"(\"*10 + \"a\"*3"
   ]
  },
  {
   "cell_type": "code",
   "execution_count": 13,
   "metadata": {},
   "outputs": [
    {
     "name": "stdout",
     "output_type": "stream",
     "text": [
      "[juliapkg] Locating Julia ^1.6.1\n",
      "[juliapkg] Using Julia 1.8.4 at /home/marktas/.local/bin/julia\n",
      "[juliapkg] Using Julia project at /home/marktas/miniconda3/julia_env\n",
      "[juliapkg] Installing packages:\n",
      "           julia> import Pkg\n",
      "           julia> Pkg.add([Pkg.PackageSpec(name=\"https://github.com/alanderos91/BioSimulator.jl.git\", uuid=\"1\"), Pkg.PackageSpec(name=\"PythonCall\", uuid=\"6099a3de-0909-46bc-b1f4-468b9a2dfc0d\")])\n",
      "           julia> Pkg.resolve()\n"
     ]
    },
    {
     "name": "stderr",
     "output_type": "stream",
     "text": [
      "ERROR: TOML Parser error:\n",
      "/home/marktas/miniconda3/julia_env/Project.toml:2:6 error: invalid bare key character: ':'\n",
      "  https://github.com/alanderos91/BioSimulator.jl.git = \"1\"\n",
      "       ^                                                   \n",
      "Stacktrace:\n",
      "  [1] parse\n",
      "    @ ./toml_parser.jl:441 [inlined]\n",
      "  [2] Base.CachedTOMLDict(p::Base.TOML.Parser, path::String)\n",
      "    @ Base ./loading.jl:222\n",
      "  [3] (::Base.var\"#894#895\"{String, Base.TOMLCache})()\n",
      "    @ Base ./loading.jl:277\n",
      "  [4] lock(f::Base.var\"#894#895\"{String, Base.TOMLCache}, l::ReentrantLock)\n",
      "    @ Base ./lock.jl:185\n",
      "  [5] parsed_toml\n",
      "    @ ./loading.jl:274 [inlined]\n",
      "  [6] parsed_toml\n",
      "    @ ./loading.jl:272 [inlined]\n",
      "  [7] explicit_project_deps_get(project_file::String, name::String)\n",
      "    @ Base ./loading.jl:587\n",
      "  [8] project_deps_get\n",
      "    @ ./loading.jl:453 [inlined]\n",
      "  [9] identify_package(name::String)\n",
      "    @ Base ./loading.jl:327\n",
      " [10] identify_package(where::Base.PkgId, name::String)\n",
      "    @ Base ./loading.jl:313\n",
      " [11] identify_package\n",
      "    @ ./loading.jl:307 [inlined]\n",
      " [12] macro expansion\n",
      "    @ ./loading.jl:1147 [inlined]\n",
      " [13] macro expansion\n",
      "    @ ./lock.jl:223 [inlined]\n",
      " [14] require(into::Module, mod::Symbol)\n",
      "    @ Base ./loading.jl:1144\n"
     ]
    },
    {
     "ename": "CalledProcessError",
     "evalue": "Command '['/home/marktas/.local/bin/julia', '--project=/home/marktas/miniconda3/julia_env', '--startup-file=no', '-e', 'import Pkg; Pkg.add([Pkg.PackageSpec(name=\"https://github.com/alanderos91/BioSimulator.jl.git\", uuid=\"1\"), Pkg.PackageSpec(name=\"PythonCall\", uuid=\"6099a3de-0909-46bc-b1f4-468b9a2dfc0d\")]); Pkg.resolve()']' returned non-zero exit status 1.",
     "output_type": "error",
     "traceback": [
      "\u001b[0;31m---------------------------------------------------------------------------\u001b[0m",
      "\u001b[0;31mCalledProcessError\u001b[0m                        Traceback (most recent call last)",
      "Cell \u001b[0;32mIn [13], line 1\u001b[0m\n\u001b[0;32m----> 1\u001b[0m \u001b[39mimport\u001b[39;00m \u001b[39mjuliacall\u001b[39;00m \u001b[39mas\u001b[39;00m \u001b[39mjulia\u001b[39;00m\n\u001b[1;32m      2\u001b[0m \u001b[39mfrom\u001b[39;00m \u001b[39mjuliacall\u001b[39;00m \u001b[39mimport\u001b[39;00m Main \u001b[39mas\u001b[39;00m jl\n",
      "File \u001b[0;32m~/miniconda3/lib/python3.9/site-packages/juliacall/__init__.py:218\u001b[0m\n\u001b[1;32m    214\u001b[0m         \u001b[39mraise\u001b[39;00m \u001b[39mException\u001b[39;00m(\u001b[39m'\u001b[39m\u001b[39mPythonCall.jl did not start properly\u001b[39m\u001b[39m'\u001b[39m)\n\u001b[1;32m    216\u001b[0m     CONFIG[\u001b[39m'\u001b[39m\u001b[39minited\u001b[39m\u001b[39m'\u001b[39m] \u001b[39m=\u001b[39m \u001b[39mTrue\u001b[39;00m\n\u001b[0;32m--> 218\u001b[0m init()\n",
      "File \u001b[0;32m~/miniconda3/lib/python3.9/site-packages/juliacall/__init__.py:143\u001b[0m, in \u001b[0;36minit\u001b[0;34m()\u001b[0m\n\u001b[1;32m    140\u001b[0m \u001b[39mimport\u001b[39;00m \u001b[39mjuliapkg\u001b[39;00m\n\u001b[1;32m    142\u001b[0m \u001b[39m# Find the Julia executable and project\u001b[39;00m\n\u001b[0;32m--> 143\u001b[0m CONFIG[\u001b[39m'\u001b[39m\u001b[39mexepath\u001b[39m\u001b[39m'\u001b[39m] \u001b[39m=\u001b[39m exepath \u001b[39m=\u001b[39m juliapkg\u001b[39m.\u001b[39;49mexecutable()\n\u001b[1;32m    144\u001b[0m CONFIG[\u001b[39m'\u001b[39m\u001b[39mproject\u001b[39m\u001b[39m'\u001b[39m] \u001b[39m=\u001b[39m project \u001b[39m=\u001b[39m juliapkg\u001b[39m.\u001b[39mproject()\n\u001b[1;32m    146\u001b[0m \u001b[39m# Find the Julia library\u001b[39;00m\n",
      "File \u001b[0;32m~/miniconda3/lib/python3.9/site-packages/juliapkg/deps.py:296\u001b[0m, in \u001b[0;36mexecutable\u001b[0;34m()\u001b[0m\n\u001b[1;32m    295\u001b[0m \u001b[39mdef\u001b[39;00m \u001b[39mexecutable\u001b[39m():\n\u001b[0;32m--> 296\u001b[0m     resolve()\n\u001b[1;32m    297\u001b[0m     \u001b[39mreturn\u001b[39;00m STATE[\u001b[39m'\u001b[39m\u001b[39mexecutable\u001b[39m\u001b[39m'\u001b[39m]\n",
      "File \u001b[0;32m~/miniconda3/lib/python3.9/site-packages/juliapkg/deps.py:275\u001b[0m, in \u001b[0;36mresolve\u001b[0;34m(force, dry_run)\u001b[0m\n\u001b[1;32m    273\u001b[0m     \u001b[39mfor\u001b[39;00m line \u001b[39min\u001b[39;00m script:\n\u001b[1;32m    274\u001b[0m         log(\u001b[39m'\u001b[39m\u001b[39mjulia>\u001b[39m\u001b[39m'\u001b[39m, line, cont\u001b[39m=\u001b[39m\u001b[39mTrue\u001b[39;00m)\n\u001b[0;32m--> 275\u001b[0m     run([exe, \u001b[39m'\u001b[39;49m\u001b[39m--project=\u001b[39;49m\u001b[39m'\u001b[39;49m\u001b[39m+\u001b[39;49mproject, \u001b[39m'\u001b[39;49m\u001b[39m--startup-file=no\u001b[39;49m\u001b[39m'\u001b[39;49m, \u001b[39m'\u001b[39;49m\u001b[39m-e\u001b[39;49m\u001b[39m'\u001b[39;49m, \u001b[39m'\u001b[39;49m\u001b[39m; \u001b[39;49m\u001b[39m'\u001b[39;49m\u001b[39m.\u001b[39;49mjoin(script)], check\u001b[39m=\u001b[39;49m\u001b[39mTrue\u001b[39;49;00m)\n\u001b[1;32m    276\u001b[0m \u001b[39m# record that we resolved\u001b[39;00m\n\u001b[1;32m    277\u001b[0m save_meta({\n\u001b[1;32m    278\u001b[0m     \u001b[39m\"\u001b[39m\u001b[39mmeta_version\u001b[39m\u001b[39m\"\u001b[39m: META_VERSION,\n\u001b[1;32m    279\u001b[0m     \u001b[39m\"\u001b[39m\u001b[39mdev\u001b[39m\u001b[39m\"\u001b[39m: STATE[\u001b[39m\"\u001b[39m\u001b[39mdev\u001b[39m\u001b[39m\"\u001b[39m],\n\u001b[0;32m   (...)\u001b[0m\n\u001b[1;32m    288\u001b[0m     \u001b[39m\"\u001b[39m\u001b[39moverride_executable\u001b[39m\u001b[39m\"\u001b[39m: STATE[\u001b[39m'\u001b[39m\u001b[39moverride_executable\u001b[39m\u001b[39m'\u001b[39m],\n\u001b[1;32m    289\u001b[0m })\n",
      "File \u001b[0;32m~/miniconda3/lib/python3.9/subprocess.py:528\u001b[0m, in \u001b[0;36mrun\u001b[0;34m(input, capture_output, timeout, check, *popenargs, **kwargs)\u001b[0m\n\u001b[1;32m    526\u001b[0m     retcode \u001b[39m=\u001b[39m process\u001b[39m.\u001b[39mpoll()\n\u001b[1;32m    527\u001b[0m     \u001b[39mif\u001b[39;00m check \u001b[39mand\u001b[39;00m retcode:\n\u001b[0;32m--> 528\u001b[0m         \u001b[39mraise\u001b[39;00m CalledProcessError(retcode, process\u001b[39m.\u001b[39margs,\n\u001b[1;32m    529\u001b[0m                                  output\u001b[39m=\u001b[39mstdout, stderr\u001b[39m=\u001b[39mstderr)\n\u001b[1;32m    530\u001b[0m \u001b[39mreturn\u001b[39;00m CompletedProcess(process\u001b[39m.\u001b[39margs, retcode, stdout, stderr)\n",
      "\u001b[0;31mCalledProcessError\u001b[0m: Command '['/home/marktas/.local/bin/julia', '--project=/home/marktas/miniconda3/julia_env', '--startup-file=no', '-e', 'import Pkg; Pkg.add([Pkg.PackageSpec(name=\"https://github.com/alanderos91/BioSimulator.jl.git\", uuid=\"1\"), Pkg.PackageSpec(name=\"PythonCall\", uuid=\"6099a3de-0909-46bc-b1f4-468b9a2dfc0d\")]); Pkg.resolve()']' returned non-zero exit status 1."
     ]
    }
   ],
   "source": [
    "import juliacall as julia\n",
    "from juliacall import Main as jl"
   ]
  },
  {
   "cell_type": "code",
   "execution_count": null,
   "metadata": {},
   "outputs": [],
   "source": [
    "jl.seval(\"using BioSimulator\")"
   ]
  },
  {
   "cell_type": "code",
   "execution_count": null,
   "metadata": {},
   "outputs": [],
   "source": [
    "model = jl.Network('AT-ALL')\n",
    "initial = 2"
   ]
  },
  {
   "cell_type": "code",
   "execution_count": null,
   "metadata": {},
   "outputs": [],
   "source": [
    "model <= jl.Species(\"SS\",int(initial))\n",
    "model <= jl.Species(\"L3\",0)\n",
    "model <= jl.Species(\"L5\",0)\n",
    "model <= jl.Species(\"R5\",0)\n",
    "model <= jl.Species(\"D\",0)"
   ]
  },
  {
   "cell_type": "code",
   "execution_count": null,
   "metadata": {},
   "outputs": [],
   "source": [
    "kf_dl = 2e6\n",
    "nonspecific_correction = 1\n",
    "kf_sliding = 5e3\n",
    "\n",
    "\n",
    "Na = 6.023e23\n",
    "\n",
    "kf_ssl3 = kf_dl/Na\n",
    "kb_ssl3 = 3.220377e+03/Na\n",
    "\n",
    "kf_ssl5 = kf_dl/Na\n",
    "kb_ssl5 = 1.023724e+01/Na\n",
    "\n",
    "kf_ssr5 = kf_dl/Na\n",
    "kb_ssr5 = 1.810685e+02/Na\n",
    "\n",
    "kf_l3l5 = kf_sliding/Na\n",
    "kb_l3l5 = 1.589447e1/Na\n",
    "\n",
    "kf_l5D = kf_sliding/Na\n",
    "kb_l5D = 1.040815e+00/Na\n",
    "\n",
    "kf_r5D = kf_sliding/Na\n",
    "kb_r5D = 2.034481e-03/Na\n",
    "\n",
    "kf_ssD = kf_dl/Na\n",
    "kb_ssD = 2.034481e-03/Na"
   ]
  },
  {
   "cell_type": "code",
   "execution_count": null,
   "metadata": {},
   "outputs": [],
   "source": [
    "model <= jl.Reaction(\"ss-l3_f\",  kf_ssl3, \"SS + SS --> L3\")\n",
    "model <= jl.Reaction(\"ss-l3_b\",  kb_ssl3, \"L3 --> SS + SS\")\n",
    "\n",
    "model <= jl.Reaction(\"ss-l5_f\",  kf_ssl5, \"SS + SS --> L5\")\n",
    "model <= jl.Reaction(\"ss-l5_b\",  kb_ssl5, \"L5 --> SS + SS\")\n",
    "\n",
    "model <= jl.Reaction(\"ss-r3_f\",  kf_ssr5, \"SS + SS --> R5\")\n",
    "model <= jl.Reaction(\"ss-r3_b\",  kb_ssr5, \"R5 --> SS + SS\")\n",
    "\n",
    "model <= jl.Reaction(\"l3-l5_f\",  kf_l3l5, \"L3 --> L5\")\n",
    "model <= jl.Reaction(\"l3-l5_b\",  kb_l3l5, \"L5 --> L3\")\n",
    "\n",
    "model <= jl.Reaction(\"l5-D_f\",   kf_l5D, \"L5 --> D\")\n",
    "model <= jl.Reaction(\"l5-D_b\",   kb_l5D, \"D --> L5\")\n",
    "\n",
    "model <= jl.Reaction(\"r5-D_f\",   kf_l5D, \"R5 --> D\")\n",
    "model <= jl.Reaction(\"r5-D_b\",   kb_l5D, \"D --> R5\")\n",
    "\n",
    "model <= jl.Reaction(\"ss-D_f\",   kf_ssD, \"SS + SS --> D\")\n",
    "model <= jl.Reaction(\"ss-D_b\",   kb_ssD, \"D --> SS + SS\")\n",
    "\n",
    "\n",
    "runtime = 1e25\n",
    "Nmonte = 1200"
   ]
  },
  {
   "cell_type": "code",
   "execution_count": null,
   "metadata": {},
   "outputs": [],
   "source": [
    "simresults = jl.simulate(model, jl.Direct(), tfinal = runtime)"
   ]
  },
  {
   "cell_type": "code",
   "execution_count": null,
   "metadata": {},
   "outputs": [],
   "source": [
    "simresults"
   ]
  }
 ],
 "metadata": {
  "kernelspec": {
   "display_name": "base",
   "language": "python",
   "name": "python3"
  },
  "language_info": {
   "codemirror_mode": {
    "name": "ipython",
    "version": 3
   },
   "file_extension": ".py",
   "mimetype": "text/x-python",
   "name": "python",
   "nbconvert_exporter": "python",
   "pygments_lexer": "ipython3",
   "version": "3.9.12"
  },
  "orig_nbformat": 4,
  "vscode": {
   "interpreter": {
    "hash": "7f910d06e694c1a89a159fa71122a2459dd3007db8d70827445025af3e169410"
   }
  }
 },
 "nbformat": 4,
 "nbformat_minor": 2
}
