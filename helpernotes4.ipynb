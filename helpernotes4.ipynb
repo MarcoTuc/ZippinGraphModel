{
 "cells": [
  {
   "cell_type": "code",
   "execution_count": 14,
   "metadata": {},
   "outputs": [],
   "source": [
    "import nupack as nu\n",
    "import networkx as nx \n",
    "import pandas as pd \n",
    "from classes.complex import Complex\n",
    "from classes.strand import Strand\n",
    "from classes.model import Model\n",
    "from classes.chamber import Chamber\n",
    "from classes.kinetwork import Kinetwork\n",
    "\n",
    "import matplotlib.pyplot as plt\n",
    "import hvplot.networkx as hvnx\n",
    "from pyvis.network import Network"
   ]
  },
  {
   "cell_type": "code",
   "execution_count": 15,
   "metadata": {},
   "outputs": [
    {
     "name": "stdout",
     "output_type": "stream",
     "text": [
      "adding...\n",
      "added up and down\n",
      "adding...\n",
      "added up and down\n",
      "adding...\n",
      "added up and down\n",
      "adding...\n",
      "added up and down\n"
     ]
    }
   ],
   "source": [
    "model = Model('dna', '3D')\n",
    "mincore = 3\n",
    "\n",
    "a = Strand(model, 'AAAAAA')\n",
    "b = Strand(model, 'TTTTTT')\n",
    "\n",
    "kgraph = Kinetwork(model, a, b, mincore)"
   ]
  },
  {
   "cell_type": "code",
   "execution_count": 16,
   "metadata": {},
   "outputs": [],
   "source": [
    "G = kgraph.Graph"
   ]
  },
  {
   "cell_type": "code",
   "execution_count": 17,
   "metadata": {},
   "outputs": [
    {
     "name": "stdout",
     "output_type": "stream",
     "text": [
      "(((...+...)))\n",
      ".(((..+..))).\n",
      "..(((.+.)))..\n",
      "...(((+)))...\n",
      "\n",
      "\n",
      ".(((..+..))).\n",
      "(((((.+.)))))\n"
     ]
    }
   ],
   "source": [
    "for i in kgraph.chamber.oncores:\n",
    "    print(i.structure)\n",
    "print('\\n')\n",
    "for z in kgraph.chamber.oncores[1].zipping:\n",
    "    print(z.struct)"
   ]
  },
  {
   "cell_type": "code",
   "execution_count": 18,
   "metadata": {},
   "outputs": [
    {
     "data": {
      "text/html": [
       "<div>\n",
       "<style scoped>\n",
       "    .dataframe tbody tr th:only-of-type {\n",
       "        vertical-align: middle;\n",
       "    }\n",
       "\n",
       "    .dataframe tbody tr th {\n",
       "        vertical-align: top;\n",
       "    }\n",
       "\n",
       "    .dataframe thead th {\n",
       "        text-align: right;\n",
       "    }\n",
       "</style>\n",
       "<table border=\"1\" class=\"dataframe\">\n",
       "  <thead>\n",
       "    <tr style=\"text-align: right;\">\n",
       "      <th></th>\n",
       "      <th>0</th>\n",
       "      <th>1</th>\n",
       "    </tr>\n",
       "  </thead>\n",
       "  <tbody>\n",
       "    <tr>\n",
       "      <th>0</th>\n",
       "      <td>......+......</td>\n",
       "      <td>{'state': 'singlestranded', 'pairs': 0}</td>\n",
       "    </tr>\n",
       "    <tr>\n",
       "      <th>1</th>\n",
       "      <td>(((...+)))...</td>\n",
       "      <td>{'state': 'off_register', 'pairs': 3}</td>\n",
       "    </tr>\n",
       "    <tr>\n",
       "      <th>2</th>\n",
       "      <td>((((..+))))..</td>\n",
       "      <td>{'state': 'off_register', 'pairs': 4}</td>\n",
       "    </tr>\n",
       "    <tr>\n",
       "      <th>3</th>\n",
       "      <td>(((((.+))))).</td>\n",
       "      <td>{'state': 'off_register', 'pairs': 5}</td>\n",
       "    </tr>\n",
       "    <tr>\n",
       "      <th>4</th>\n",
       "      <td>.(((((+.)))))</td>\n",
       "      <td>{'state': 'off_register', 'pairs': 5}</td>\n",
       "    </tr>\n",
       "    <tr>\n",
       "      <th>5</th>\n",
       "      <td>..((((+..))))</td>\n",
       "      <td>{'state': 'off_register', 'pairs': 4}</td>\n",
       "    </tr>\n",
       "    <tr>\n",
       "      <th>6</th>\n",
       "      <td>...(((+...)))</td>\n",
       "      <td>{'state': 'off_register', 'pairs': 3}</td>\n",
       "    </tr>\n",
       "    <tr>\n",
       "      <th>7</th>\n",
       "      <td>(((...+...)))</td>\n",
       "      <td>{'state': 'on_register', 'pairs': 3}</td>\n",
       "    </tr>\n",
       "    <tr>\n",
       "      <th>8</th>\n",
       "      <td>((((..+..))))</td>\n",
       "      <td>{'state': 'zipping', 'pairs': 4}</td>\n",
       "    </tr>\n",
       "    <tr>\n",
       "      <th>9</th>\n",
       "      <td>(((((.+.)))))</td>\n",
       "      <td>{'state': 'zipping', 'pairs': 5}</td>\n",
       "    </tr>\n",
       "    <tr>\n",
       "      <th>10</th>\n",
       "      <td>.(((..+..))).</td>\n",
       "      <td>{'state': 'on_register', 'pairs': 3}</td>\n",
       "    </tr>\n",
       "    <tr>\n",
       "      <th>11</th>\n",
       "      <td>..(((.+.)))..</td>\n",
       "      <td>{'state': 'on_register', 'pairs': 3}</td>\n",
       "    </tr>\n",
       "    <tr>\n",
       "      <th>12</th>\n",
       "      <td>.(((((+))))).</td>\n",
       "      <td>{'state': 'zipping', 'pairs': 5}</td>\n",
       "    </tr>\n",
       "    <tr>\n",
       "      <th>13</th>\n",
       "      <td>...(((+)))...</td>\n",
       "      <td>{'state': 'on_register', 'pairs': 3}</td>\n",
       "    </tr>\n",
       "    <tr>\n",
       "      <th>14</th>\n",
       "      <td>..((((+))))..</td>\n",
       "      <td>{'state': 'zipping', 'pairs': 4}</td>\n",
       "    </tr>\n",
       "    <tr>\n",
       "      <th>15</th>\n",
       "      <td>((((((+))))))</td>\n",
       "      <td>{'state': 'duplex', 'pairs': 6}</td>\n",
       "    </tr>\n",
       "  </tbody>\n",
       "</table>\n",
       "</div>"
      ],
      "text/plain": [
       "                0                                        1\n",
       "0   ......+......  {'state': 'singlestranded', 'pairs': 0}\n",
       "1   (((...+)))...    {'state': 'off_register', 'pairs': 3}\n",
       "2   ((((..+))))..    {'state': 'off_register', 'pairs': 4}\n",
       "3   (((((.+))))).    {'state': 'off_register', 'pairs': 5}\n",
       "4   .(((((+.)))))    {'state': 'off_register', 'pairs': 5}\n",
       "5   ..((((+..))))    {'state': 'off_register', 'pairs': 4}\n",
       "6   ...(((+...)))    {'state': 'off_register', 'pairs': 3}\n",
       "7   (((...+...)))     {'state': 'on_register', 'pairs': 3}\n",
       "8   ((((..+..))))         {'state': 'zipping', 'pairs': 4}\n",
       "9   (((((.+.)))))         {'state': 'zipping', 'pairs': 5}\n",
       "10  .(((..+..))).     {'state': 'on_register', 'pairs': 3}\n",
       "11  ..(((.+.)))..     {'state': 'on_register', 'pairs': 3}\n",
       "12  .(((((+))))).         {'state': 'zipping', 'pairs': 5}\n",
       "13  ...(((+)))...     {'state': 'on_register', 'pairs': 3}\n",
       "14  ..((((+))))..         {'state': 'zipping', 'pairs': 4}\n",
       "15  ((((((+))))))          {'state': 'duplex', 'pairs': 6}"
      ]
     },
     "execution_count": 18,
     "metadata": {},
     "output_type": "execute_result"
    }
   ],
   "source": [
    "pd.DataFrame(G.nodes(data=True))"
   ]
  },
  {
   "cell_type": "code",
   "execution_count": 19,
   "metadata": {},
   "outputs": [
    {
     "data": {
      "text/html": [
       "<div>\n",
       "<style scoped>\n",
       "    .dataframe tbody tr th:only-of-type {\n",
       "        vertical-align: middle;\n",
       "    }\n",
       "\n",
       "    .dataframe tbody tr th {\n",
       "        vertical-align: top;\n",
       "    }\n",
       "\n",
       "    .dataframe thead th {\n",
       "        text-align: right;\n",
       "    }\n",
       "</style>\n",
       "<table border=\"1\" class=\"dataframe\">\n",
       "  <thead>\n",
       "    <tr style=\"text-align: right;\">\n",
       "      <th></th>\n",
       "      <th>0</th>\n",
       "      <th>1</th>\n",
       "      <th>2</th>\n",
       "    </tr>\n",
       "  </thead>\n",
       "  <tbody>\n",
       "    <tr>\n",
       "      <th>0</th>\n",
       "      <td>......+......</td>\n",
       "      <td>.(((..+..))).</td>\n",
       "      <td>{'kind': 'on_nucleation'}</td>\n",
       "    </tr>\n",
       "    <tr>\n",
       "      <th>1</th>\n",
       "      <td>......+......</td>\n",
       "      <td>...(((+)))...</td>\n",
       "      <td>{'kind': 'on_nucleation'}</td>\n",
       "    </tr>\n",
       "    <tr>\n",
       "      <th>2</th>\n",
       "      <td>......+......</td>\n",
       "      <td>..(((.+.)))..</td>\n",
       "      <td>{'kind': 'on_nucleation'}</td>\n",
       "    </tr>\n",
       "    <tr>\n",
       "      <th>3</th>\n",
       "      <td>......+......</td>\n",
       "      <td>(((...+...)))</td>\n",
       "      <td>{'kind': 'on_nucleation'}</td>\n",
       "    </tr>\n",
       "    <tr>\n",
       "      <th>4</th>\n",
       "      <td>......+......</td>\n",
       "      <td>...(((+...)))</td>\n",
       "      <td>{'kind': 'off_nucleation'}</td>\n",
       "    </tr>\n",
       "    <tr>\n",
       "      <th>5</th>\n",
       "      <td>......+......</td>\n",
       "      <td>(((((.+))))).</td>\n",
       "      <td>{'kind': 'off_nucleation'}</td>\n",
       "    </tr>\n",
       "    <tr>\n",
       "      <th>6</th>\n",
       "      <td>......+......</td>\n",
       "      <td>..((((+..))))</td>\n",
       "      <td>{'kind': 'off_nucleation'}</td>\n",
       "    </tr>\n",
       "    <tr>\n",
       "      <th>7</th>\n",
       "      <td>......+......</td>\n",
       "      <td>((((..+))))..</td>\n",
       "      <td>{'kind': 'off_nucleation'}</td>\n",
       "    </tr>\n",
       "    <tr>\n",
       "      <th>8</th>\n",
       "      <td>......+......</td>\n",
       "      <td>.(((((+.)))))</td>\n",
       "      <td>{'kind': 'off_nucleation'}</td>\n",
       "    </tr>\n",
       "    <tr>\n",
       "      <th>9</th>\n",
       "      <td>......+......</td>\n",
       "      <td>(((...+)))...</td>\n",
       "      <td>{'kind': 'off_nucleation'}</td>\n",
       "    </tr>\n",
       "    <tr>\n",
       "      <th>10</th>\n",
       "      <td>(((...+)))...</td>\n",
       "      <td>((((..+))))..</td>\n",
       "      <td>{'kind': 'sliding'}</td>\n",
       "    </tr>\n",
       "    <tr>\n",
       "      <th>11</th>\n",
       "      <td>((((..+))))..</td>\n",
       "      <td>(((((.+))))).</td>\n",
       "      <td>{'kind': 'sliding'}</td>\n",
       "    </tr>\n",
       "    <tr>\n",
       "      <th>12</th>\n",
       "      <td>(((((.+))))).</td>\n",
       "      <td>((((((+))))))</td>\n",
       "      <td>{'kind': 'sliding_closure'}</td>\n",
       "    </tr>\n",
       "    <tr>\n",
       "      <th>13</th>\n",
       "      <td>.(((((+.)))))</td>\n",
       "      <td>..((((+..))))</td>\n",
       "      <td>{'kind': 'sliding'}</td>\n",
       "    </tr>\n",
       "    <tr>\n",
       "      <th>14</th>\n",
       "      <td>.(((((+.)))))</td>\n",
       "      <td>((((((+))))))</td>\n",
       "      <td>{'kind': 'sliding_closure'}</td>\n",
       "    </tr>\n",
       "    <tr>\n",
       "      <th>15</th>\n",
       "      <td>..((((+..))))</td>\n",
       "      <td>...(((+...)))</td>\n",
       "      <td>{'kind': 'sliding'}</td>\n",
       "    </tr>\n",
       "    <tr>\n",
       "      <th>16</th>\n",
       "      <td>(((...+...)))</td>\n",
       "      <td>((((..+..))))</td>\n",
       "      <td>{'kind': 'zipping'}</td>\n",
       "    </tr>\n",
       "    <tr>\n",
       "      <th>17</th>\n",
       "      <td>((((..+..))))</td>\n",
       "      <td>(((((.+.)))))</td>\n",
       "      <td>{'kind': 'zipping'}</td>\n",
       "    </tr>\n",
       "    <tr>\n",
       "      <th>18</th>\n",
       "      <td>(((((.+.)))))</td>\n",
       "      <td>((((((+))))))</td>\n",
       "      <td>{'kind': 'zipping'}</td>\n",
       "    </tr>\n",
       "    <tr>\n",
       "      <th>19</th>\n",
       "      <td>.(((((+))))).</td>\n",
       "      <td>..((((+))))..</td>\n",
       "      <td>{'kind': 'zipping'}</td>\n",
       "    </tr>\n",
       "    <tr>\n",
       "      <th>20</th>\n",
       "      <td>.(((((+))))).</td>\n",
       "      <td>((((((+))))))</td>\n",
       "      <td>{'kind': 'zipping'}</td>\n",
       "    </tr>\n",
       "    <tr>\n",
       "      <th>21</th>\n",
       "      <td>...(((+)))...</td>\n",
       "      <td>..((((+))))..</td>\n",
       "      <td>{'kind': 'zipping'}</td>\n",
       "    </tr>\n",
       "  </tbody>\n",
       "</table>\n",
       "</div>"
      ],
      "text/plain": [
       "                0              1                            2\n",
       "0   ......+......  .(((..+..))).    {'kind': 'on_nucleation'}\n",
       "1   ......+......  ...(((+)))...    {'kind': 'on_nucleation'}\n",
       "2   ......+......  ..(((.+.)))..    {'kind': 'on_nucleation'}\n",
       "3   ......+......  (((...+...)))    {'kind': 'on_nucleation'}\n",
       "4   ......+......  ...(((+...)))   {'kind': 'off_nucleation'}\n",
       "5   ......+......  (((((.+))))).   {'kind': 'off_nucleation'}\n",
       "6   ......+......  ..((((+..))))   {'kind': 'off_nucleation'}\n",
       "7   ......+......  ((((..+))))..   {'kind': 'off_nucleation'}\n",
       "8   ......+......  .(((((+.)))))   {'kind': 'off_nucleation'}\n",
       "9   ......+......  (((...+)))...   {'kind': 'off_nucleation'}\n",
       "10  (((...+)))...  ((((..+))))..          {'kind': 'sliding'}\n",
       "11  ((((..+))))..  (((((.+))))).          {'kind': 'sliding'}\n",
       "12  (((((.+))))).  ((((((+))))))  {'kind': 'sliding_closure'}\n",
       "13  .(((((+.)))))  ..((((+..))))          {'kind': 'sliding'}\n",
       "14  .(((((+.)))))  ((((((+))))))  {'kind': 'sliding_closure'}\n",
       "15  ..((((+..))))  ...(((+...)))          {'kind': 'sliding'}\n",
       "16  (((...+...)))  ((((..+..))))          {'kind': 'zipping'}\n",
       "17  ((((..+..))))  (((((.+.)))))          {'kind': 'zipping'}\n",
       "18  (((((.+.)))))  ((((((+))))))          {'kind': 'zipping'}\n",
       "19  .(((((+))))).  ..((((+))))..          {'kind': 'zipping'}\n",
       "20  .(((((+))))).  ((((((+))))))          {'kind': 'zipping'}\n",
       "21  ...(((+)))...  ..((((+))))..          {'kind': 'zipping'}"
      ]
     },
     "execution_count": 19,
     "metadata": {},
     "output_type": "execute_result"
    }
   ],
   "source": [
    "pd.DataFrame(G.edges(data=True))"
   ]
  },
  {
   "cell_type": "code",
   "execution_count": 20,
   "metadata": {},
   "outputs": [
    {
     "data": {
      "text/plain": [
       "['......+......',\n",
       " '(((...+)))...',\n",
       " '((((..+))))..',\n",
       " '(((((.+))))).',\n",
       " '.(((((+.)))))',\n",
       " '..((((+..))))',\n",
       " '...(((+...)))',\n",
       " '(((...+...)))',\n",
       " '((((..+..))))',\n",
       " '(((((.+.)))))',\n",
       " '.(((..+..))).',\n",
       " '..(((.+.)))..',\n",
       " '.(((((+))))).',\n",
       " '...(((+)))...',\n",
       " '..((((+))))..',\n",
       " '((((((+))))))']"
      ]
     },
     "execution_count": 20,
     "metadata": {},
     "output_type": "execute_result"
    }
   ],
   "source": [
    "list(G.nodes())"
   ]
  },
  {
   "cell_type": "code",
   "execution_count": 21,
   "metadata": {},
   "outputs": [
    {
     "data": {
      "text/plain": [
       "'...(((+)))...'"
      ]
     },
     "execution_count": 21,
     "metadata": {},
     "output_type": "execute_result"
    }
   ],
   "source": [
    "list(G.nodes())[13]"
   ]
  },
  {
   "cell_type": "code",
   "execution_count": 22,
   "metadata": {},
   "outputs": [
    {
     "data": {
      "text/plain": [
       "['..((((+))))..', '......+......']"
      ]
     },
     "execution_count": 22,
     "metadata": {},
     "output_type": "execute_result"
    }
   ],
   "source": [
    "N = G.neighbors(list(G.nodes())[13])\n",
    "list(N)"
   ]
  },
  {
   "cell_type": "code",
   "execution_count": 23,
   "metadata": {},
   "outputs": [],
   "source": [
    "GL = nx.multipartite_layout(G, subset_key = 'state')\n",
    "\n",
    "X = [list(GL.values())[i][0] for i in range(len(list(GL.values())))]\n",
    "Y = [list(GL.values())[i][1] for i in range(len(list(GL.values())))]"
   ]
  },
  {
   "cell_type": "code",
   "execution_count": 24,
   "metadata": {},
   "outputs": [
    {
     "data": {
      "text/html": [
       "\n",
       "        <iframe\n",
       "            width=\"100%\"\n",
       "            height=\"600px\"\n",
       "            src=\"G.html\"\n",
       "            frameborder=\"0\"\n",
       "            allowfullscreen\n",
       "            \n",
       "        ></iframe>\n",
       "        "
      ],
      "text/plain": [
       "<IPython.lib.display.IFrame at 0x7f60ba655e50>"
      ]
     },
     "execution_count": 24,
     "metadata": {},
     "output_type": "execute_result"
    }
   ],
   "source": [
    "\n",
    "net = Network(notebook=True,cdn_resources='in_line', filter_menu=True)\n",
    "net.from_nx(G)\n",
    "net.show_buttons()\n",
    "net.show('G.html')"
   ]
  },
  {
   "cell_type": "code",
   "execution_count": 25,
   "metadata": {},
   "outputs": [
    {
     "data": {
      "text/html": [
       "\n",
       "        <iframe\n",
       "            width=\"100%\"\n",
       "            height=\"600px\"\n",
       "            src=\"G.html\"\n",
       "            frameborder=\"0\"\n",
       "            allowfullscreen\n",
       "            \n",
       "        ></iframe>\n",
       "        "
      ],
      "text/plain": [
       "<IPython.lib.display.IFrame at 0x7f60ba65c040>"
      ]
     },
     "execution_count": 25,
     "metadata": {},
     "output_type": "execute_result"
    }
   ],
   "source": [
    "\n",
    "net = Network(notebook=True,cdn_resources='in_line', filter_menu=True)\n",
    "net.add_nodes(list(GL.keys()), x = X, y = Y)\n",
    "net.add_edges(G.edges())\n",
    "net.show_buttons()\n",
    "net.show('G.html')"
   ]
  },
  {
   "cell_type": "code",
   "execution_count": 26,
   "metadata": {},
   "outputs": [
    {
     "ename": "AssertionError",
     "evalue": "",
     "output_type": "error",
     "traceback": [
      "\u001b[0;31m---------------------------------------------------------------------------\u001b[0m",
      "\u001b[0;31mAssertionError\u001b[0m                            Traceback (most recent call last)",
      "Cell \u001b[0;32mIn [26], line 4\u001b[0m\n\u001b[1;32m      1\u001b[0m GL \u001b[39m=\u001b[39m nx\u001b[39m.\u001b[39mmultipartite_layout(G, subset_key \u001b[39m=\u001b[39m \u001b[39m'\u001b[39m\u001b[39mstate\u001b[39m\u001b[39m'\u001b[39m)\n\u001b[1;32m      3\u001b[0m net \u001b[39m=\u001b[39m Network(notebook\u001b[39m=\u001b[39m\u001b[39mTrue\u001b[39;00m,cdn_resources\u001b[39m=\u001b[39m\u001b[39m'\u001b[39m\u001b[39min_line\u001b[39m\u001b[39m'\u001b[39m)\n\u001b[0;32m----> 4\u001b[0m net\u001b[39m.\u001b[39;49mfrom_nx(GL)\n\u001b[1;32m      5\u001b[0m net\u001b[39m.\u001b[39mshow_buttons(filter_\u001b[39m=\u001b[39m\u001b[39m\"\u001b[39m\u001b[39mphysics\u001b[39m\u001b[39m\"\u001b[39m)\n\u001b[1;32m      6\u001b[0m net\u001b[39m.\u001b[39mshow(\u001b[39m'\u001b[39m\u001b[39mG.html\u001b[39m\u001b[39m'\u001b[39m)\n",
      "File \u001b[0;32m~/miniconda3/lib/python3.9/site-packages/pyvis/network.py:691\u001b[0m, in \u001b[0;36mNetwork.from_nx\u001b[0;34m(self, nx_graph, node_size_transf, edge_weight_transf, default_node_size, default_edge_weight, show_edge_weights, edge_scaling)\u001b[0m\n\u001b[1;32m    662\u001b[0m \u001b[39mdef\u001b[39;00m \u001b[39mfrom_nx\u001b[39m(\u001b[39mself\u001b[39m, nx_graph, node_size_transf\u001b[39m=\u001b[39m(\u001b[39mlambda\u001b[39;00m x: x), edge_weight_transf\u001b[39m=\u001b[39m(\u001b[39mlambda\u001b[39;00m x: x),\n\u001b[1;32m    663\u001b[0m             default_node_size \u001b[39m=\u001b[39m\u001b[39m10\u001b[39m, default_edge_weight\u001b[39m=\u001b[39m\u001b[39m1\u001b[39m, show_edge_weights\u001b[39m=\u001b[39m\u001b[39mTrue\u001b[39;00m, edge_scaling\u001b[39m=\u001b[39m\u001b[39mFalse\u001b[39;00m):\n\u001b[1;32m    664\u001b[0m     \u001b[39m\"\"\"\u001b[39;00m\n\u001b[1;32m    665\u001b[0m \u001b[39m    This method takes an exisitng Networkx graph and translates\u001b[39;00m\n\u001b[1;32m    666\u001b[0m \u001b[39m    it to a PyVis graph format that can be accepted by the VisJs\u001b[39;00m\n\u001b[0;32m   (...)\u001b[0m\n\u001b[1;32m    689\u001b[0m \u001b[39m    >>> nt.show(\"nx.html\")\u001b[39;00m\n\u001b[1;32m    690\u001b[0m \u001b[39m    \"\"\"\u001b[39;00m\n\u001b[0;32m--> 691\u001b[0m     \u001b[39massert\u001b[39;00m(\u001b[39misinstance\u001b[39m(nx_graph, nx\u001b[39m.\u001b[39mGraph))\n\u001b[1;32m    692\u001b[0m     edges\u001b[39m=\u001b[39mnx_graph\u001b[39m.\u001b[39medges(data \u001b[39m=\u001b[39m \u001b[39mTrue\u001b[39;00m)\n\u001b[1;32m    693\u001b[0m     nodes\u001b[39m=\u001b[39mnx_graph\u001b[39m.\u001b[39mnodes(data \u001b[39m=\u001b[39m \u001b[39mTrue\u001b[39;00m)\n",
      "\u001b[0;31mAssertionError\u001b[0m: "
     ]
    }
   ],
   "source": [
    "GL = nx.multipartite_layout(G, subset_key = 'state')\n",
    "\n",
    "net = Network(notebook=True,cdn_resources='in_line')\n",
    "net.from_nx(GL)\n",
    "net.show_buttons(filter_=\"physics\")\n",
    "net.show('G.html')"
   ]
  }
 ],
 "metadata": {
  "kernelspec": {
   "display_name": "base",
   "language": "python",
   "name": "python3"
  },
  "language_info": {
   "codemirror_mode": {
    "name": "ipython",
    "version": 3
   },
   "file_extension": ".py",
   "mimetype": "text/x-python",
   "name": "python",
   "nbconvert_exporter": "python",
   "pygments_lexer": "ipython3",
   "version": "3.9.12"
  },
  "orig_nbformat": 4,
  "vscode": {
   "interpreter": {
    "hash": "7f910d06e694c1a89a159fa71122a2459dd3007db8d70827445025af3e169410"
   }
  }
 },
 "nbformat": 4,
 "nbformat_minor": 2
}
