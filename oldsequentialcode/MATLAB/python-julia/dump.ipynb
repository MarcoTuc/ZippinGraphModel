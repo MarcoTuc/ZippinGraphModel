{
 "cells": [
  {
   "cell_type": "code",
   "execution_count": 2,
   "metadata": {},
   "outputs": [],
   "source": [
    "import values\n",
    "from values import dangling\n",
    "import lidakinetics as lk"
   ]
  },
  {
   "cell_type": "code",
   "execution_count": 3,
   "metadata": {},
   "outputs": [],
   "source": [
    "Tleft = 'TTGTTAAATATTGATAAG'\n",
    "#       'AACAATTTAUAACCATTC'\n",
    "                   # \n",
    "#Destabilizing Oligomers\n",
    "Or1 = 'UATTTAACAA'[::-1]\n",
    "Or2 = 'CTTACCAA'[::-1]\n",
    "    \n",
    "Tl_dx = Tleft[len(Or1):]\n",
    "dang_TlOr2 = lk.get_dangling_shape(Tleft,Or1,-1)\n",
    "# print('Dangling end shape is:',dang_TlOr2[0],dang_TlOr2[1],'\\n',\n",
    "#         '                       ',dang_TlOr2[2])"
   ]
  },
  {
   "cell_type": "code",
   "execution_count": 4,
   "metadata": {},
   "outputs": [
    {
     "data": {
      "text/plain": [
       "['A', 'T', 'A', '5']"
      ]
     },
     "execution_count": 4,
     "metadata": {},
     "output_type": "execute_result"
    }
   ],
   "source": [
    "dang_TlOr2"
   ]
  },
  {
   "cell_type": "code",
   "execution_count": 5,
   "metadata": {},
   "outputs": [],
   "source": [
    "a = 'AAAA'\n",
    "b = 'TTTT'\n",
    "\n",
    "d = list(lk.get_dangling_shape(a,b,0))"
   ]
  },
  {
   "cell_type": "code",
   "execution_count": 6,
   "metadata": {},
   "outputs": [
    {
     "data": {
      "text/plain": [
       "list"
      ]
     },
     "execution_count": 6,
     "metadata": {},
     "output_type": "execute_result"
    }
   ],
   "source": [
    "type(d)"
   ]
  },
  {
   "cell_type": "code",
   "execution_count": 7,
   "metadata": {},
   "outputs": [
    {
     "name": "stdout",
     "output_type": "stream",
     "text": [
      "All values are measured in Kcal/mol\n",
      "The original strand matrix is \n",
      " ['A', 'A', 'A', 'A'] \n",
      " ['T', 'T', 'T', 'T']\n",
      "The corrected strand matrix is \n",
      " ['A', 'A', 'A', 'A'] \n",
      " ['T', 'T', 'T', 'T']\n",
      "{'abasic': [], 'terminal_mismatches': False, 'mismatches': [], 'termAT': True}\n",
      "Adding initiation free energy equal to 1.905155\n",
      "Adding terminal AT penalty for initial bases equal to: 0.1358649999999999\n",
      "Adding terminal AT penalty for final bases equal to: 0.1358649999999999\n",
      "Delta G for the WC pair A A - T T : -1.2281050000000002\n",
      "Delta G for the WC pair A A - T T : -1.2281050000000002\n",
      "Delta G for the WC pair A A - T T : -1.2281050000000002\n",
      "Delta G of repaired strand: -1.5074300000000012\n",
      "Dangling ends contribution: 0\n",
      "Total abasic penalty: 0\n",
      "Final Delta G: -1.5074300000000012\n"
     ]
    },
    {
     "data": {
      "text/plain": [
       "-1.5074300000000012"
      ]
     },
     "execution_count": 7,
     "metadata": {},
     "output_type": "execute_result"
    }
   ],
   "source": [
    "lk.string_free(a,b,d)"
   ]
  },
  {
   "cell_type": "code",
   "execution_count": 5,
   "metadata": {},
   "outputs": [
    {
     "name": "stdout",
     "output_type": "stream",
     "text": [
      "1.992235e+07\n"
     ]
    }
   ],
   "source": [
    "N = 1000\n",
    "alpha = 0.5\n",
    "knu = N**(1-alpha)\n",
    "k2 = 6.3e5 * N**alpha\n",
    "NA = 6.032e23\n",
    "print('{:e}'.format(k2))"
   ]
  },
  {
   "cell_type": "code",
   "execution_count": 6,
   "metadata": {},
   "outputs": [],
   "source": [
    "activation = 9.73 #(kJ)/mol\n",
    "c2j = 4.1868 #\n",
    "R = 1.987e-3\n",
    "k_boltz = 1.38e-23\n",
    "temp = 273.15+26\n",
    "\n",
    "eb = 8"
   ]
  },
  {
   "cell_type": "code",
   "execution_count": 9,
   "metadata": {},
   "outputs": [],
   "source": [
    "import math\n",
    "kf = 1e-5*math.exp(eb/(R*(temp)))"
   ]
  },
  {
   "cell_type": "code",
   "execution_count": 10,
   "metadata": {},
   "outputs": [
    {
     "name": "stdout",
     "output_type": "stream",
     "text": [
      "6.999051e+00\n"
     ]
    }
   ],
   "source": [
    "print('{:e}'.format(kf))"
   ]
  },
  {
   "cell_type": "code",
   "execution_count": 28,
   "metadata": {},
   "outputs": [
    {
     "data": {
      "text/plain": [
       "1.0756462360799998e+21"
      ]
     },
     "execution_count": 28,
     "metadata": {},
     "output_type": "execute_result"
    }
   ],
   "source": [
    "eb*NA/1000"
   ]
  },
  {
   "cell_type": "code",
   "execution_count": 29,
   "metadata": {},
   "outputs": [
    {
     "data": {
      "text/plain": [
       "1.7832331499999998"
      ]
     },
     "execution_count": 29,
     "metadata": {},
     "output_type": "execute_result"
    }
   ],
   "source": [
    "er = 3*R*temp\n",
    "er"
   ]
  },
  {
   "cell_type": "code",
   "execution_count": 30,
   "metadata": {},
   "outputs": [
    {
     "data": {
      "text/plain": [
       "1.905155"
      ]
     },
     "execution_count": 30,
     "metadata": {},
     "output_type": "execute_result"
    }
   ],
   "source": [
    "from lidakinetics import gibbs_free\n",
    "\n",
    "gibbs_free(values.hs['initiation']['H'],values.hs['initiation']['S'])"
   ]
  },
  {
   "cell_type": "code",
   "execution_count": null,
   "metadata": {},
   "outputs": [],
   "source": []
  },
  {
   "cell_type": "code",
   "execution_count": null,
   "metadata": {},
   "outputs": [],
   "source": []
  }
 ],
 "metadata": {
  "kernelspec": {
   "display_name": "Python 3.10.5 64-bit",
   "language": "python",
   "name": "python3"
  },
  "language_info": {
   "codemirror_mode": {
    "name": "ipython",
    "version": 3
   },
   "file_extension": ".py",
   "mimetype": "text/x-python",
   "name": "python",
   "nbconvert_exporter": "python",
   "pygments_lexer": "ipython3",
   "version": "3.10.5"
  },
  "orig_nbformat": 4,
  "vscode": {
   "interpreter": {
    "hash": "ba18286d27dd3f1705df4025c31d2b7021c67fcd01f023a6f194ed0db21ec453"
   }
  }
 },
 "nbformat": 4,
 "nbformat_minor": 2
}
