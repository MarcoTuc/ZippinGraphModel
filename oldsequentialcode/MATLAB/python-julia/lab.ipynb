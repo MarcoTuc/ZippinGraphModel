{
 "cells": [
  {
   "cell_type": "code",
   "execution_count": 1,
   "metadata": {},
   "outputs": [],
   "source": [
    "import pandas as pd\n",
    "import numpy  as np\n",
    "import math\n",
    "\n",
    "import lidakinetics as lk\n",
    "import values "
   ]
  },
  {
   "cell_type": "code",
   "execution_count": 2,
   "metadata": {},
   "outputs": [],
   "source": [
    "#Template Strand (just a random one)\n",
    "# Tleft = 'GTTCGATCCGTCGATGCGTTGTGCA'\n",
    "# Or1 =   'CAATCTAUGCA'\n",
    "# Or2 =              'GCTACGCUACACGT'\n",
    "\n",
    "# Tleft = 'GTTCGATCCGTCGATGCGTTGTGCA'\n",
    "# Trigh = 'CAAGCTAGGCAGCTACGCAACACGT'\n",
    "# Or1 =   'CAAGCTAGGCAG'\n",
    "# Or2 =               'CTACGCAACACGT'\n",
    "\n",
    "Tleft = 'GTTCGATCCGT'\n",
    "Trigh = 'CAAGCTAGGCA'\n",
    "Or1 =   'CAAGC'\n",
    "Or2 =        'TAGGCA'\n",
    "\n",
    "#Breaking Point\n",
    "b = len(Or1)"
   ]
  },
  {
   "cell_type": "code",
   "execution_count": 3,
   "metadata": {},
   "outputs": [],
   "source": [
    "Ol1 = Tleft[:b]\n",
    "Ol2 = Tleft[b:]"
   ]
  },
  {
   "cell_type": "code",
   "execution_count": 4,
   "metadata": {},
   "outputs": [
    {
     "data": {
      "text/plain": [
       "('GTTCG', 'ATCCGT')"
      ]
     },
     "execution_count": 4,
     "metadata": {},
     "output_type": "execute_result"
    }
   ],
   "source": [
    "Ol1,Ol2"
   ]
  },
  {
   "cell_type": "code",
   "execution_count": 5,
   "metadata": {},
   "outputs": [
    {
     "name": "stdout",
     "output_type": "stream",
     "text": [
      " D: destabilizing \n",
      " Template:      G T T C G A T C C G T \n",
      " D-Oligomer1:   C A A G C \n",
      " D-Oligomer2:             T A G G C A \n",
      " D-Template:    C A A G C T A G G C A \n",
      " Oligomer1:     G T T C G \n",
      " Oligomer2:               A T C C G T \n",
      "\n",
      "3' Dangling end shape is: A G \n",
      "                            C\n",
      "All values are measured in Kcal/mol\n",
      "The original strand matrix is \n",
      " ['G', 'T', 'T', 'C', 'G'] \n",
      " ['C', 'A', 'A', 'G', 'C']\n",
      "{'abasic': [], 'terminal_mismatches': False, 'mismatches': [], 'termAT': True}\n",
      "Adding initiation free energy equal to 1.905155\n",
      "Delta G for the WC pair G T - C A : -1.699040000000001\n",
      "Delta G for the WC pair T T - A A : -1.2281050000000002\n",
      "Delta G for the WC pair T C - A G : -1.5178500000000001\n",
      "Delta G for the WC pair C G - G C : -2.46312\n",
      "['A', 'G', 'C', '3']\n",
      "dangling_contribution =  [-0.9333150000000003]\n",
      "Delta G of repaired strand: -5.002960000000002\n",
      "Dangling ends contribution: -0.9333150000000003\n",
      "Total abasic penalty: 0\n",
      "Final Delta G: -5.936275000000002\n",
      "TlOr1 Done \n",
      " \n",
      "\n",
      "Dangling end shape is: G A \n",
      "                         T\n",
      "All values are measured in Kcal/mol\n",
      "The original strand matrix is \n",
      " ['A', 'T', 'C', 'C', 'G', 'T'] \n",
      " ['T', 'A', 'G', 'G', 'C', 'A']\n",
      "{'abasic': [], 'terminal_mismatches': False, 'mismatches': [], 'termAT': True}\n",
      "Adding initiation free energy equal to 1.905155\n",
      "Adding terminal AT penalty for initial bases equal to: 0.1358649999999999\n",
      "Adding terminal AT penalty for final bases equal to: 0.1358649999999999\n",
      "Delta G for the WC pair A T - T A : -1.0973400000000009\n",
      "Delta G for the WC pair T C - A G : -1.5178500000000001\n",
      "Delta G for the WC pair C C - G G : -2.046915000000001\n",
      "Delta G for the WC pair C G - G C : -2.46312\n",
      "Delta G for the WC pair G T - C A : -1.699040000000001\n",
      "['G', 'A', 'T', '5']\n",
      "dangling_contribution =  [-0.6213600000000001]\n",
      "Delta G of repaired strand: -6.647380000000004\n",
      "Dangling ends contribution: -0.6213600000000001\n",
      "Total abasic penalty: 0\n",
      "Final Delta G: -7.268740000000004\n",
      "TlOr2 Done\n",
      " \n",
      "\n",
      "Dangling end shape is: T C \n",
      "                         G\n",
      "All values are measured in Kcal/mol\n",
      "The original strand matrix is \n",
      " ['C', 'A', 'A', 'G', 'C'] \n",
      " ['G', 'T', 'T', 'C', 'G']\n",
      "{'abasic': [], 'terminal_mismatches': False, 'mismatches': [], 'termAT': True}\n",
      "Adding initiation free energy equal to 1.905155\n",
      "Delta G for the WC pair C A - G T : -1.709295000000001\n",
      "Delta G for the WC pair A A - T T : -1.2281050000000002\n",
      "Delta G for the WC pair A G - T C : -1.5178500000000001\n",
      "Delta G for the WC pair G C - C G : -2.500740000000002\n",
      "['T', 'C', 'G', '5']\n",
      "dangling_contribution =  [-0.7392650000000001]\n",
      "Delta G of repaired strand: -5.050835000000004\n",
      "Dangling ends contribution: -0.7392650000000001\n",
      "Total abasic penalty: 0\n",
      "Final Delta G: -5.790100000000004\n",
      "TrOl1 Done\n",
      " \n",
      "\n",
      "Dangling end shape is: C T \n",
      "                         A\n",
      "All values are measured in Kcal/mol\n",
      "The original strand matrix is \n",
      " ['T', 'A', 'G', 'G', 'C', 'A'] \n",
      " ['A', 'T', 'C', 'C', 'G', 'T']\n",
      "{'abasic': [], 'terminal_mismatches': False, 'mismatches': [], 'termAT': True}\n",
      "Adding initiation free energy equal to 1.905155\n",
      "Adding terminal AT penalty for initial bases equal to: 0.1358649999999999\n",
      "Adding terminal AT penalty for final bases equal to: 0.1358649999999999\n",
      "Delta G for the WC pair T A - A T : -0.8281050000000008\n",
      "Delta G for the WC pair A G - T C : -1.5178500000000001\n",
      "Delta G for the WC pair G G - C C : -2.046915000000001\n",
      "Delta G for the WC pair G C - C G : -2.500740000000002\n",
      "Delta G for the WC pair C A - G T : -1.709295000000001\n",
      "['C', 'T', 'A', '3']\n",
      "dangling_contribution =  [-0.05733499999999925]\n",
      "Delta G of repaired strand: -6.426020000000006\n",
      "Dangling ends contribution: -0.05733499999999925\n",
      "Total abasic penalty: 0\n",
      "Final Delta G: -6.483355000000005\n",
      "TrOl2 Done\n",
      " \n",
      "\n",
      "Oligomers 1 are of the same length\n",
      "All values are measured in Kcal/mol\n",
      "The original strand matrix is \n",
      " ['C', 'A', 'A', 'G', 'C'] \n",
      " ['G', 'T', 'T', 'C', 'G']\n",
      "{'abasic': [], 'terminal_mismatches': False, 'mismatches': [], 'termAT': True}\n",
      "Adding initiation free energy equal to 1.905155\n",
      "Delta G for the WC pair C A - G T : -1.709295000000001\n",
      "Delta G for the WC pair A A - T T : -1.2281050000000002\n",
      "Delta G for the WC pair A G - T C : -1.5178500000000001\n",
      "Delta G for the WC pair G C - C G : -2.500740000000002\n",
      "Delta G of repaired strand: -5.050835000000004\n",
      "Dangling ends contribution: 0\n",
      "Total abasic penalty: 0\n",
      "Final Delta G: -5.050835000000004\n",
      "Orl1 Done\n",
      " \n",
      "\n",
      "Oligomers 1 are of the same length\n",
      "All values are measured in Kcal/mol\n",
      "The original strand matrix is \n",
      " ['T', 'A', 'G', 'G', 'C', 'A'] \n",
      " ['A', 'T', 'C', 'C', 'G', 'T']\n",
      "{'abasic': [], 'terminal_mismatches': False, 'mismatches': [], 'termAT': True}\n",
      "Adding initiation free energy equal to 1.905155\n",
      "Adding terminal AT penalty for initial bases equal to: 0.1358649999999999\n",
      "Adding terminal AT penalty for final bases equal to: 0.1358649999999999\n",
      "Delta G for the WC pair T A - A T : -0.8281050000000008\n",
      "Delta G for the WC pair A G - T C : -1.5178500000000001\n",
      "Delta G for the WC pair G G - C C : -2.046915000000001\n",
      "Delta G for the WC pair G C - C G : -2.500740000000002\n",
      "Delta G for the WC pair C A - G T : -1.709295000000001\n",
      "Delta G of repaired strand: -6.426020000000006\n",
      "Dangling ends contribution: 0\n",
      "Total abasic penalty: 0\n",
      "Final Delta G: -6.426020000000006\n",
      "Orl2 Done\n",
      " \n",
      "\n",
      "All values are measured in Kcal/mol\n",
      "The original strand matrix is \n",
      " ['G', 'T', 'T', 'C', 'G', 'A', 'T', 'C', 'C', 'G', 'T'] \n",
      " ['C', 'A', 'A', 'G', 'C', 'T', 'A', 'G', 'G', 'C', 'A']\n",
      "{'abasic': [], 'terminal_mismatches': False, 'mismatches': [], 'termAT': True}\n",
      "Adding initiation free energy equal to 1.905155\n",
      "Adding terminal AT penalty for final bases equal to: 0.1358649999999999\n",
      "Delta G for the WC pair G T - C A : -1.699040000000001\n",
      "Delta G for the WC pair T T - A A : -1.2281050000000002\n",
      "Delta G for the WC pair T C - A G : -1.5178500000000001\n",
      "Delta G for the WC pair C G - G C : -2.46312\n",
      "Delta G for the WC pair G A - C T : -1.5588699999999998\n",
      "Delta G for the WC pair A T - T A : -1.0973400000000009\n",
      "Delta G for the WC pair T C - A G : -1.5178500000000001\n",
      "Delta G for the WC pair C C - G G : -2.046915000000001\n",
      "Delta G for the WC pair C G - G C : -2.46312\n",
      "Delta G for the WC pair G T - C A : -1.699040000000001\n",
      "Delta G of repaired strand: -15.250230000000006\n",
      "Dangling ends contribution: 0\n",
      "Total abasic penalty: 0\n",
      "Final Delta G: -15.250230000000006\n",
      "Td Done\n",
      " \n",
      "\n",
      "kb_TlOr1: 9.200e+02\n",
      "kb_TlOr2: 9.778e+01\n",
      "kb_TrOl1: 1.177e+03\n",
      "kb_TrOl2: 3.665e+02\n",
      "kb_Orl1: 4.081e+03\n",
      "kb_Orl2: 4.036e+02\n",
      "kb_Td: 1.441e-04\n"
     ]
    }
   ],
   "source": [
    "d, e = lk.get_lida_rates(Tleft,Or1,Or2,b)"
   ]
  },
  {
   "cell_type": "code",
   "execution_count": 6,
   "metadata": {},
   "outputs": [
    {
     "name": "stdout",
     "output_type": "stream",
     "text": [
      "All values are measured in Kcal/mol\n",
      "The original strand matrix is \n",
      " ['C', 'A', 'A', 'G', 'C'] \n",
      " ['G', 'T', 'T', 'C', 'G']\n",
      "{'abasic': [], 'terminal_mismatches': False, 'mismatches': [], 'termAT': True}\n",
      "Adding initiation free energy equal to 1.905155\n",
      "Delta G for the WC pair C A - G T : -1.709295000000001\n",
      "Delta G for the WC pair A A - T T : -1.2281050000000002\n",
      "Delta G for the WC pair A G - T C : -1.5178500000000001\n",
      "Delta G for the WC pair G C - C G : -2.500740000000002\n",
      "Delta G of repaired strand: -5.050835000000004\n",
      "Dangling ends contribution: 0\n",
      "Total abasic penalty: 0\n",
      "Final Delta G: -5.050835000000004\n"
     ]
    }
   ],
   "source": [
    "kd1,kb1 = lk.get_vanilla_rates(Or1,Ol1)"
   ]
  },
  {
   "cell_type": "code",
   "execution_count": 7,
   "metadata": {},
   "outputs": [
    {
     "name": "stdout",
     "output_type": "stream",
     "text": [
      "All values are measured in Kcal/mol\n",
      "The original strand matrix is \n",
      " ['T', 'A', 'G', 'G', 'C', 'A'] \n",
      " ['A', 'T', 'C', 'C', 'G', 'T']\n",
      "{'abasic': [], 'terminal_mismatches': False, 'mismatches': [], 'termAT': True}\n",
      "Adding initiation free energy equal to 1.905155\n",
      "Adding terminal AT penalty for initial bases equal to: 0.1358649999999999\n",
      "Adding terminal AT penalty for final bases equal to: 0.1358649999999999\n",
      "Delta G for the WC pair T A - A T : -0.8281050000000008\n",
      "Delta G for the WC pair A G - T C : -1.5178500000000001\n",
      "Delta G for the WC pair G G - C C : -2.046915000000001\n",
      "Delta G for the WC pair G C - C G : -2.500740000000002\n",
      "Delta G for the WC pair C A - G T : -1.709295000000001\n",
      "Delta G of repaired strand: -6.426020000000006\n",
      "Dangling ends contribution: 0\n",
      "Total abasic penalty: 0\n",
      "Final Delta G: -6.426020000000006\n"
     ]
    }
   ],
   "source": [
    "kd2,kb2 = lk.get_vanilla_rates(Or2,Ol2)"
   ]
  },
  {
   "cell_type": "code",
   "execution_count": 8,
   "metadata": {},
   "outputs": [
    {
     "name": "stdout",
     "output_type": "stream",
     "text": [
      "All values are measured in Kcal/mol\n",
      "The original strand matrix is \n",
      " ['C', 'A', 'A', 'G', 'C', 'T', 'A', 'G', 'G', 'C', 'A'] \n",
      " ['G', 'T', 'T', 'C', 'G', 'A', 'T', 'C', 'C', 'G', 'T']\n",
      "{'abasic': [], 'terminal_mismatches': False, 'mismatches': [], 'termAT': True}\n",
      "Adding initiation free energy equal to 1.905155\n",
      "Adding terminal AT penalty for final bases equal to: 0.1358649999999999\n",
      "Delta G for the WC pair C A - G T : -1.709295000000001\n",
      "Delta G for the WC pair A A - T T : -1.2281050000000002\n",
      "Delta G for the WC pair A G - T C : -1.5178500000000001\n",
      "Delta G for the WC pair G C - C G : -2.500740000000002\n",
      "Delta G for the WC pair C T - G A : -1.5178500000000001\n",
      "Delta G for the WC pair T A - A T : -0.8281050000000008\n",
      "Delta G for the WC pair A G - T C : -1.5178500000000001\n",
      "Delta G for the WC pair G G - C C : -2.046915000000001\n",
      "Delta G for the WC pair G C - C G : -2.500740000000002\n",
      "Delta G for the WC pair C A - G T : -1.709295000000001\n",
      "Delta G of repaired strand: -15.035725000000008\n",
      "Dangling ends contribution: 0\n",
      "Total abasic penalty: 0\n",
      "Final Delta G: -15.035725000000008\n"
     ]
    }
   ],
   "source": [
    "kdd,kbd = lk.get_vanilla_rates(Trigh,Tleft)"
   ]
  },
  {
   "cell_type": "code",
   "execution_count": 33,
   "metadata": {},
   "outputs": [
    {
     "name": "stdout",
     "output_type": "stream",
     "text": [
      "2.444538e+01\n",
      "6.707717e+01\n",
      "4.901071e+03\n",
      "4.954985e+04\n"
     ]
    }
   ],
   "source": [
    "corr1 = lk.k_equilibrium(-1.9) #initiation\n",
    "corr2 = lk.k_equilibrium(-2.5) #skipped pair\n",
    "print('{:3e}'.format(corr1))\n",
    "print('{:3e}'.format(corr2))\n",
    "print('{:3e}'.format(kd1))\n",
    "print('{:3e}'.format(kd2))"
   ]
  },
  {
   "cell_type": "code",
   "execution_count": 32,
   "metadata": {},
   "outputs": [
    {
     "name": "stdout",
     "output_type": "stream",
     "text": [
      "7.404146e+10\n",
      "9.672754e+10\n"
     ]
    }
   ],
   "source": [
    "print('{:3e}'.format(kd1*kd2*corr1*corr2))\n",
    "print('{:3e}'.format(kdd))"
   ]
  },
  {
   "cell_type": "code",
   "execution_count": null,
   "metadata": {},
   "outputs": [],
   "source": []
  }
 ],
 "metadata": {
  "kernelspec": {
   "display_name": "Python 3.10.5 64-bit",
   "language": "python",
   "name": "python3"
  },
  "language_info": {
   "codemirror_mode": {
    "name": "ipython",
    "version": 3
   },
   "file_extension": ".py",
   "mimetype": "text/x-python",
   "name": "python",
   "nbconvert_exporter": "python",
   "pygments_lexer": "ipython3",
   "version": "3.10.5"
  },
  "orig_nbformat": 4,
  "vscode": {
   "interpreter": {
    "hash": "ba18286d27dd3f1705df4025c31d2b7021c67fcd01f023a6f194ed0db21ec453"
   }
  }
 },
 "nbformat": 4,
 "nbformat_minor": 2
}
