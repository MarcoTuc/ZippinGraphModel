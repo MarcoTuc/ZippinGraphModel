{
 "cells": [
  {
   "cell_type": "code",
   "execution_count": 1,
   "metadata": {},
   "outputs": [],
   "source": [
    "%load_ext autoreload\n",
    "%autoreload 2"
   ]
  },
  {
   "cell_type": "code",
   "execution_count": 2,
   "metadata": {},
   "outputs": [],
   "source": [
    "import nupack as nu\n",
    "import pandas as pd\n",
    "from hdna import *"
   ]
  },
  {
   "cell_type": "code",
   "execution_count": 3,
   "metadata": {},
   "outputs": [],
   "source": [
    "data = pd.read_csv('/home/marco/Desktop/HDNAback/hDNA/data/zhang.csv')"
   ]
  },
  {
   "cell_type": "code",
   "execution_count": 4,
   "metadata": {},
   "outputs": [
    {
     "name": "stdout",
     "output_type": "stream",
     "text": [
      "ACATTTAGAGTAGTCCTTGGAGATTTTATGGAGATG\n",
      "[StructureEnergy(Structure('....................................'), energy=0.0, stack_energy=0.0)]\n",
      "sequences       ACATTTAGAGTAGTCCTTGGAGATTTTATGGAGATG\n",
      "experimental                               6807270.0\n",
      "index                                             19\n",
      "Name: 18, dtype: object\n",
      "AAGTTGCGGTTGTGGTGATTTTGGCTTAATGTGTTC\n",
      "[StructureEnergy(Structure('....................................'), energy=0.0, stack_energy=0.0)]\n",
      "sequences       AAGTTGCGGTTGTGGTGATTTTGGCTTAATGTGTTC\n",
      "experimental                               7084032.0\n",
      "index                                             20\n",
      "Name: 19, dtype: object\n",
      "TCACAAGACTAAAGATAATTAAAAAGAAAACCACAG\n",
      "[StructureEnergy(Structure('....................................'), energy=0.0, stack_energy=0.0)]\n",
      "sequences       TCACAAGACTAAAGATAATTAAAAAGAAAACCACAG\n",
      "experimental                               6939457.0\n",
      "index                                             21\n",
      "Name: 20, dtype: object\n",
      "GAAACCCCATCTCTACCAAAAATATAAAAACTAGCT\n",
      "[StructureEnergy(Structure('....................................'), energy=0.0, stack_energy=0.0)]\n",
      "sequences       GAAACCCCATCTCTACCAAAAATATAAAAACTAGCT\n",
      "experimental                               7111129.0\n",
      "index                                             22\n",
      "Name: 21, dtype: object\n",
      "GCCCAGCTTATTTTGTGTTTTTAGTAGAGACAGGGT\n",
      "[StructureEnergy(Structure('....................................'), energy=0.0, stack_energy=0.0)]\n",
      "sequences       GCCCAGCTTATTTTGTGTTTTTAGTAGAGACAGGGT\n",
      "experimental                               6506632.0\n",
      "index                                             46\n",
      "Name: 45, dtype: object\n",
      "CCCTGTACTTTCCACTGCCCTACCTAGATGTCCCTG\n",
      "[StructureEnergy(Structure('....................................'), energy=0.0, stack_energy=0.0)]\n",
      "sequences       CCCTGTACTTTCCACTGCCCTACCTAGATGTCCCTG\n",
      "experimental                               6928385.0\n",
      "index                                             73\n",
      "Name: 71, dtype: object\n",
      "GAGATTTTGTCCCTTCATCCACCGGCTTCTAGATTA\n",
      "[StructureEnergy(Structure('....................................'), energy=0.0, stack_energy=0.0)]\n",
      "sequences       GAGATTTTGTCCCTTCATCCACCGGCTTCTAGATTA\n",
      "experimental                               6422093.0\n",
      "index                                             74\n",
      "Name: 72, dtype: object\n",
      "GGACTTGACATTTTAGGGTTTTTAGGTGATTATTCT\n",
      "[StructureEnergy(Structure('....................................'), energy=0.0, stack_energy=0.0)]\n",
      "sequences       GGACTTGACATTTTAGGGTTTTTAGGTGATTATTCT\n",
      "experimental                               6979122.0\n",
      "index                                             75\n",
      "Name: 73, dtype: object\n"
     ]
    }
   ],
   "source": [
    "M = Model(standard=True)\n",
    "ix = []\n",
    "data['experimental'] = data['experimental'].apply(lambda x: x*1e6)\n",
    "for i, seq in enumerate(data['sequences']):\n",
    "    # A = Strand(Model, seq)\n",
    "    # B = A.complementary()\n",
    "    # nuA = nu.Strand(A.sequence)\n",
    "    # nuB = nu.Strand(B.sequence)\n",
    "    model = nu.Model(ensemble='stacking', material='dna')\n",
    "    minfree = nu.mfe(strands=[seq], model=model)\n",
    "    if minfree[0].energy == 0:\n",
    "        ix.append(i)\n",
    "        print(seq)\n",
    "        print(minfree)\n",
    "        print(data.iloc[i])"
   ]
  },
  {
   "cell_type": "code",
   "execution_count": 5,
   "metadata": {},
   "outputs": [],
   "source": [
    "expdata = data.iloc[ix]"
   ]
  },
  {
   "cell_type": "code",
   "execution_count": 7,
   "metadata": {},
   "outputs": [
    {
     "name": "stderr",
     "output_type": "stream",
     "text": [
      "                                                                                    \r"
     ]
    },
    {
     "ename": "KeyboardInterrupt",
     "evalue": "",
     "output_type": "error",
     "traceback": [
      "\u001b[0;31m---------------------------------------------------------------------------\u001b[0m",
      "\u001b[0;31mKeyboardInterrupt\u001b[0m                         Traceback (most recent call last)",
      "Cell \u001b[0;32mIn[7], line 26\u001b[0m\n\u001b[1;32m     23\u001b[0m zipping \u001b[39m=\u001b[39m \u001b[39m7.793e7\u001b[39m\n\u001b[1;32m     24\u001b[0m sliding \u001b[39m=\u001b[39m \u001b[39m1.5e5\u001b[39m\n\u001b[0;32m---> 26\u001b[0m H\u001b[39m.\u001b[39;49mrun([zipping, sliding])\n",
      "File \u001b[0;32m~/Desktop/HDNAback/hDNA/hdna/hdna.py:62\u001b[0m, in \u001b[0;36mHDNA.run\u001b[0;34m(self, rates)\u001b[0m\n\u001b[1;32m     60\u001b[0m \u001b[39mfor\u001b[39;00m d \u001b[39min\u001b[39;00m S\u001b[39m.\u001b[39moverview\u001b[39m.\u001b[39mitems():\n\u001b[1;32m     61\u001b[0m     \u001b[39mprint\u001b[39m(\u001b[39mf\u001b[39m\u001b[39m'\u001b[39m\u001b[39m{\u001b[39;00md[\u001b[39m0\u001b[39m]\u001b[39m}\u001b[39;00m\u001b[39m = \u001b[39m\u001b[39m{\u001b[39;00md[\u001b[39m1\u001b[39m]\u001b[39m}\u001b[39;00m\u001b[39m'\u001b[39m)\n\u001b[0;32m---> 62\u001b[0m fptimes, modrate \u001b[39m=\u001b[39m S\u001b[39m.\u001b[39;49mdirectsimulation()\n\u001b[1;32m     63\u001b[0m \u001b[39mprint\u001b[39m(\u001b[39mf\u001b[39m\u001b[39m'\u001b[39m\u001b[39m{\u001b[39;00m\u001b[39mlen\u001b[39m(fptimes)\u001b[39m}\u001b[39;00m\u001b[39m fpts have been produced\u001b[39m\u001b[39m'\u001b[39m)\n\u001b[1;32m     64\u001b[0m pd\u001b[39m.\u001b[39mDataFrame(fptimes)\u001b[39m.\u001b[39mto_csv(\u001b[39mf\u001b[39m\u001b[39m\"\u001b[39m\u001b[39m{\u001b[39;00mS\u001b[39m.\u001b[39mDIR\u001b[39m}\u001b[39;00m\u001b[39m/fpts.csv\u001b[39m\u001b[39m\"\u001b[39m)\n",
      "File \u001b[0;32m~/Desktop/HDNAback/hDNA/hdna/simulator.py:125\u001b[0m, in \u001b[0;36mSimulator.directsimulation\u001b[0;34m(self)\u001b[0m\n\u001b[1;32m    122\u001b[0m bar\u001b[39m.\u001b[39mset_description(\u001b[39m'\u001b[39m\u001b[39mSimulating\u001b[39m\u001b[39m'\u001b[39m)\n\u001b[1;32m    124\u001b[0m \u001b[39mfor\u001b[39;00m i \u001b[39min\u001b[39;00m bar:\n\u001b[0;32m--> 125\u001b[0m     sim \u001b[39m=\u001b[39m jl\u001b[39m.\u001b[39;49msimulate(state, model, \u001b[39mself\u001b[39;49m\u001b[39m.\u001b[39;49mmethod, tfinal \u001b[39m=\u001b[39;49m \u001b[39mself\u001b[39;49m\u001b[39m.\u001b[39;49moptions\u001b[39m.\u001b[39;49mruntime)\n\u001b[1;32m    126\u001b[0m     traj \u001b[39m=\u001b[39m \u001b[39mself\u001b[39m\u001b[39m.\u001b[39mget_trajectory(sim, weightlift\u001b[39m=\u001b[39m\u001b[39mTrue\u001b[39;00m, savetraj\u001b[39m=\u001b[39m\u001b[39mTrue\u001b[39;00m)\n\u001b[1;32m    127\u001b[0m     \u001b[39mtry\u001b[39;00m: \n",
      "File \u001b[0;32m~/.julia/packages/PythonCall/3GRYN/src/jlwrap/any.jl:202\u001b[0m, in \u001b[0;36m__call__\u001b[0;34m(self, *args, **kwargs)\u001b[0m\n\u001b[1;32m    200\u001b[0m     return ValueBase.__dir__(self) + self._jl_callmethod($(pyjl_methodnum(pyjlany_dir)))\n\u001b[1;32m    201\u001b[0m def __call__(self, *args, **kwargs):\n\u001b[0;32m--> 202\u001b[0m     return self._jl_callmethod($(pyjl_methodnum(pyjlany_call)), args, kwargs)\n\u001b[1;32m    203\u001b[0m def __len__(self):\n\u001b[1;32m    204\u001b[0m     return self._jl_callmethod($(pyjl_methodnum(pyjlany_op(length))))\n",
      "\u001b[0;31mKeyboardInterrupt\u001b[0m: "
     ]
    }
   ],
   "source": [
    "EXPNAME = 'zhang'\n",
    "\n",
    "MOD = Model(\n",
    "    stacking='nostacking',\n",
    "    min_nucleation=1,\n",
    "    celsius=37, \n",
    "    normalizeback=True)\n",
    "MOD.setgeometry(theta=90, phi = 120)\n",
    " \n",
    "MOD.alpha = 1\n",
    "MOD.gamma = 0\n",
    "MOD.kappa = 1\n",
    "\n",
    "OPT = Options(Nsim=1500)\n",
    "\n",
    "H = HDNA(expdata, EXPNAME, model=MOD, options=OPT)\n",
    "# bounds = [(2e7, 2e8), (2e6, 2e8)]\n",
    "# results = dual_annealing(H.run, bounds, maxiter=5, initial_temp=500)\n",
    "# with open(f'results/{EXPNAME}/notes.txt', 'w') as savenote:\n",
    "#     savenote.write(notes)\n",
    "#     savenote.close()\n",
    "\n",
    "zipping = 7.793e7\n",
    "sliding = 1.5e5\n",
    "\n",
    "H.run([zipping, sliding])\n"
   ]
  }
 ],
 "metadata": {
  "kernelspec": {
   "display_name": "hdna",
   "language": "python",
   "name": "python3"
  },
  "language_info": {
   "codemirror_mode": {
    "name": "ipython",
    "version": 3
   },
   "file_extension": ".py",
   "mimetype": "text/x-python",
   "name": "python",
   "nbconvert_exporter": "python",
   "pygments_lexer": "ipython3",
   "version": "3.10.9 (main, Jan 11 2023, 15:21:40) [GCC 11.2.0]"
  },
  "orig_nbformat": 4,
  "vscode": {
   "interpreter": {
    "hash": "13f02c433cbffcd00bbcbbfeff349f4b7c28e9023d8fb9f65ab93bb104997abd"
   }
  }
 },
 "nbformat": 4,
 "nbformat_minor": 2
}
