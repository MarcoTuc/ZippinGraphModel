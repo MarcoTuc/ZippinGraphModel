{
 "cells": [
  {
   "cell_type": "code",
   "execution_count": 1,
   "metadata": {},
   "outputs": [],
   "source": [
    "%load_ext autoreload\n",
    "%autoreload 2"
   ]
  },
  {
   "cell_type": "code",
   "execution_count": 2,
   "metadata": {},
   "outputs": [],
   "source": [
    "import pandas as pd \n",
    "import math\n",
    "from conf import *\n",
    "\n",
    "pd.set_option('display.float_format', lambda x: '%.3e' % x if float(x) > 5000 or float(x) < 0.01 and float(x) != 0 else ('%d' % x if x.is_integer() else '%.3f' % x))"
   ]
  },
  {
   "cell_type": "code",
   "execution_count": 10,
   "metadata": {},
   "outputs": [],
   "source": [
    "DIR = '/home/marco/Desktop/HDNAback/hDNA/results/sumofinchandpk37/run_1'\n",
    "\n",
    "# hyperp = pd.read_csv(f'{DIR}/hyperparameters.csv'); hyperp['values'][:-1].map(float)\n",
    "data = pd.read_csv(f'{DIR}/simulationdata.csv'); \n",
    "data['index'] = data.index\n",
    "try: data.drop('sequences.1', axis=1, inplace=True)\n",
    "except KeyError: pass\n",
    "try: data.drop('Unnamed: 5', axis=1, inplace=True)\n",
    "except KeyError: pass"
   ]
  },
  {
   "cell_type": "code",
   "execution_count": 18,
   "metadata": {},
   "outputs": [
    {
     "name": "stdout",
     "output_type": "stream",
     "text": [
      "GTTCGGTCTA 0   2.298e+06\n",
      "dtype: float64\n",
      "CCAAAACCAA 0   2.636e+06\n",
      "dtype: float64\n",
      "AAACCACACA 0   2.889e+06\n",
      "dtype: float64\n",
      "ACCAAACCAC 0   2.942e+06\n",
      "dtype: float64\n",
      "ACACCAAACC 0   2.074e+06\n",
      "dtype: float64\n",
      "AAAAACCCAC 0   1.999e+06\n",
      "dtype: float64\n",
      "CAACACCCAA 0   1.533e+06\n",
      "dtype: float64\n",
      "AAACCCACCA 0   2.467e+06\n",
      "dtype: float64\n",
      "ACAACACCAC 0   1.973e+06\n",
      "dtype: float64\n",
      "CAAAACCCCA 0   2.369e+06\n",
      "dtype: float64\n",
      "AACCAACACC 0   1.932e+06\n",
      "dtype: float64\n",
      "CAACACAACC 0   2.680e+06\n",
      "dtype: float64\n",
      "ACCAACACCA 0   2.677e+06\n",
      "dtype: float64\n",
      "CCACCAACAA 0   2.290e+06\n",
      "dtype: float64\n",
      "ACACACACAC 0   4.996e+06\n",
      "dtype: float64\n",
      "AACCACCACA 0   3.428e+06\n",
      "dtype: float64\n",
      "CAACCAACCA 0   3.752e+06\n",
      "dtype: float64\n",
      "ACACACACCA 0   3.867e+06\n",
      "dtype: float64\n",
      "CCCCACACAA 0   3.416e+06\n",
      "dtype: float64\n",
      "ACACCACCAC 0   3.045e+06\n",
      "dtype: float64\n",
      "GCTGTTCGGTCTAT 0   1.767e+06\n",
      "dtype: float64\n",
      "ACCAAACCACCAAC 0   2.947e+06\n",
      "dtype: float64\n",
      "CAACACCAAACAAC 0   1.694e+06\n",
      "dtype: float64\n",
      "CAAAACCCCAACAC 0   1.581e+06\n",
      "dtype: float64\n",
      "AAACCCACCACACA 0   2.486e+06\n",
      "dtype: float64\n",
      "CAACACCCAAACAC 0   1.688e+06\n",
      "dtype: float64\n",
      "CCAAAACCAACAAC 0   1.981e+06\n",
      "dtype: float64\n",
      "AAAAACCCACCCAA 0   1.921e+06\n",
      "dtype: float64\n",
      "AAACCACCCAACAC 0   1.659e+06\n",
      "dtype: float64\n",
      "CCCAAACCCAACCA 0   2.073e+06\n",
      "dtype: float64\n",
      "ACCAACACCAACCA 0   2.889e+06\n",
      "dtype: float64\n",
      "CAACAACACCACCA 0   2.527e+06\n",
      "dtype: float64\n",
      "AACCAACACCACCA 0   2.777e+06\n",
      "dtype: float64\n",
      "AACCACCACAAACC 0   2.374e+06\n",
      "dtype: float64\n",
      "CAACACAACCAACC 0   2.778e+06\n",
      "dtype: float64\n",
      "CACCACAACCACCA 0   2.912e+06\n",
      "dtype: float64\n",
      "CCCCACACAACAAC 0   2.731e+06\n",
      "dtype: float64\n",
      "CCACCAACAACAAC 0   2.680e+06\n",
      "dtype: float64\n",
      "ACACACACCACACA 0   3.989e+06\n",
      "dtype: float64\n",
      "CACACACACACACA 0   4.159e+06\n",
      "dtype: float64\n",
      "ACCAACCAACCAAC 0   3.383e+06\n",
      "dtype: float64\n"
     ]
    },
    {
     "name": "stderr",
     "output_type": "stream",
     "text": [
      "/home/marco/miniconda3/envs/hdna/lib/python3.10/site-packages/numpy/core/fromnumeric.py:3430: FutureWarning:\n",
      "\n",
      "In a future version, DataFrame.mean(axis=None) will return a scalar mean over the entire DataFrame. To retain the old behavior, use 'frame.mean(axis=0)' or just 'frame.mean()'\n",
      "\n",
      "/home/marco/miniconda3/envs/hdna/lib/python3.10/site-packages/numpy/core/fromnumeric.py:3430: FutureWarning:\n",
      "\n",
      "In a future version, DataFrame.mean(axis=None) will return a scalar mean over the entire DataFrame. To retain the old behavior, use 'frame.mean(axis=0)' or just 'frame.mean()'\n",
      "\n",
      "/home/marco/miniconda3/envs/hdna/lib/python3.10/site-packages/numpy/core/fromnumeric.py:3430: FutureWarning:\n",
      "\n",
      "In a future version, DataFrame.mean(axis=None) will return a scalar mean over the entire DataFrame. To retain the old behavior, use 'frame.mean(axis=0)' or just 'frame.mean()'\n",
      "\n",
      "/home/marco/miniconda3/envs/hdna/lib/python3.10/site-packages/numpy/core/fromnumeric.py:3430: FutureWarning:\n",
      "\n",
      "In a future version, DataFrame.mean(axis=None) will return a scalar mean over the entire DataFrame. To retain the old behavior, use 'frame.mean(axis=0)' or just 'frame.mean()'\n",
      "\n",
      "/home/marco/miniconda3/envs/hdna/lib/python3.10/site-packages/numpy/core/fromnumeric.py:3430: FutureWarning:\n",
      "\n",
      "In a future version, DataFrame.mean(axis=None) will return a scalar mean over the entire DataFrame. To retain the old behavior, use 'frame.mean(axis=0)' or just 'frame.mean()'\n",
      "\n",
      "/home/marco/miniconda3/envs/hdna/lib/python3.10/site-packages/numpy/core/fromnumeric.py:3430: FutureWarning:\n",
      "\n",
      "In a future version, DataFrame.mean(axis=None) will return a scalar mean over the entire DataFrame. To retain the old behavior, use 'frame.mean(axis=0)' or just 'frame.mean()'\n",
      "\n",
      "/home/marco/miniconda3/envs/hdna/lib/python3.10/site-packages/numpy/core/fromnumeric.py:3430: FutureWarning:\n",
      "\n",
      "In a future version, DataFrame.mean(axis=None) will return a scalar mean over the entire DataFrame. To retain the old behavior, use 'frame.mean(axis=0)' or just 'frame.mean()'\n",
      "\n",
      "/home/marco/miniconda3/envs/hdna/lib/python3.10/site-packages/numpy/core/fromnumeric.py:3430: FutureWarning:\n",
      "\n",
      "In a future version, DataFrame.mean(axis=None) will return a scalar mean over the entire DataFrame. To retain the old behavior, use 'frame.mean(axis=0)' or just 'frame.mean()'\n",
      "\n",
      "/home/marco/miniconda3/envs/hdna/lib/python3.10/site-packages/numpy/core/fromnumeric.py:3430: FutureWarning:\n",
      "\n",
      "In a future version, DataFrame.mean(axis=None) will return a scalar mean over the entire DataFrame. To retain the old behavior, use 'frame.mean(axis=0)' or just 'frame.mean()'\n",
      "\n",
      "/home/marco/miniconda3/envs/hdna/lib/python3.10/site-packages/numpy/core/fromnumeric.py:3430: FutureWarning:\n",
      "\n",
      "In a future version, DataFrame.mean(axis=None) will return a scalar mean over the entire DataFrame. To retain the old behavior, use 'frame.mean(axis=0)' or just 'frame.mean()'\n",
      "\n",
      "/home/marco/miniconda3/envs/hdna/lib/python3.10/site-packages/numpy/core/fromnumeric.py:3430: FutureWarning:\n",
      "\n",
      "In a future version, DataFrame.mean(axis=None) will return a scalar mean over the entire DataFrame. To retain the old behavior, use 'frame.mean(axis=0)' or just 'frame.mean()'\n",
      "\n",
      "/home/marco/miniconda3/envs/hdna/lib/python3.10/site-packages/numpy/core/fromnumeric.py:3430: FutureWarning:\n",
      "\n",
      "In a future version, DataFrame.mean(axis=None) will return a scalar mean over the entire DataFrame. To retain the old behavior, use 'frame.mean(axis=0)' or just 'frame.mean()'\n",
      "\n",
      "/home/marco/miniconda3/envs/hdna/lib/python3.10/site-packages/numpy/core/fromnumeric.py:3430: FutureWarning:\n",
      "\n",
      "In a future version, DataFrame.mean(axis=None) will return a scalar mean over the entire DataFrame. To retain the old behavior, use 'frame.mean(axis=0)' or just 'frame.mean()'\n",
      "\n",
      "/home/marco/miniconda3/envs/hdna/lib/python3.10/site-packages/numpy/core/fromnumeric.py:3430: FutureWarning:\n",
      "\n",
      "In a future version, DataFrame.mean(axis=None) will return a scalar mean over the entire DataFrame. To retain the old behavior, use 'frame.mean(axis=0)' or just 'frame.mean()'\n",
      "\n",
      "/home/marco/miniconda3/envs/hdna/lib/python3.10/site-packages/numpy/core/fromnumeric.py:3430: FutureWarning:\n",
      "\n",
      "In a future version, DataFrame.mean(axis=None) will return a scalar mean over the entire DataFrame. To retain the old behavior, use 'frame.mean(axis=0)' or just 'frame.mean()'\n",
      "\n",
      "/home/marco/miniconda3/envs/hdna/lib/python3.10/site-packages/numpy/core/fromnumeric.py:3430: FutureWarning:\n",
      "\n",
      "In a future version, DataFrame.mean(axis=None) will return a scalar mean over the entire DataFrame. To retain the old behavior, use 'frame.mean(axis=0)' or just 'frame.mean()'\n",
      "\n",
      "/home/marco/miniconda3/envs/hdna/lib/python3.10/site-packages/numpy/core/fromnumeric.py:3430: FutureWarning:\n",
      "\n",
      "In a future version, DataFrame.mean(axis=None) will return a scalar mean over the entire DataFrame. To retain the old behavior, use 'frame.mean(axis=0)' or just 'frame.mean()'\n",
      "\n",
      "/home/marco/miniconda3/envs/hdna/lib/python3.10/site-packages/numpy/core/fromnumeric.py:3430: FutureWarning:\n",
      "\n",
      "In a future version, DataFrame.mean(axis=None) will return a scalar mean over the entire DataFrame. To retain the old behavior, use 'frame.mean(axis=0)' or just 'frame.mean()'\n",
      "\n",
      "/home/marco/miniconda3/envs/hdna/lib/python3.10/site-packages/numpy/core/fromnumeric.py:3430: FutureWarning:\n",
      "\n",
      "In a future version, DataFrame.mean(axis=None) will return a scalar mean over the entire DataFrame. To retain the old behavior, use 'frame.mean(axis=0)' or just 'frame.mean()'\n",
      "\n",
      "/home/marco/miniconda3/envs/hdna/lib/python3.10/site-packages/numpy/core/fromnumeric.py:3430: FutureWarning:\n",
      "\n",
      "In a future version, DataFrame.mean(axis=None) will return a scalar mean over the entire DataFrame. To retain the old behavior, use 'frame.mean(axis=0)' or just 'frame.mean()'\n",
      "\n",
      "/home/marco/miniconda3/envs/hdna/lib/python3.10/site-packages/numpy/core/fromnumeric.py:3430: FutureWarning:\n",
      "\n",
      "In a future version, DataFrame.mean(axis=None) will return a scalar mean over the entire DataFrame. To retain the old behavior, use 'frame.mean(axis=0)' or just 'frame.mean()'\n",
      "\n",
      "/home/marco/miniconda3/envs/hdna/lib/python3.10/site-packages/numpy/core/fromnumeric.py:3430: FutureWarning:\n",
      "\n",
      "In a future version, DataFrame.mean(axis=None) will return a scalar mean over the entire DataFrame. To retain the old behavior, use 'frame.mean(axis=0)' or just 'frame.mean()'\n",
      "\n",
      "/home/marco/miniconda3/envs/hdna/lib/python3.10/site-packages/numpy/core/fromnumeric.py:3430: FutureWarning:\n",
      "\n",
      "In a future version, DataFrame.mean(axis=None) will return a scalar mean over the entire DataFrame. To retain the old behavior, use 'frame.mean(axis=0)' or just 'frame.mean()'\n",
      "\n",
      "/home/marco/miniconda3/envs/hdna/lib/python3.10/site-packages/numpy/core/fromnumeric.py:3430: FutureWarning:\n",
      "\n",
      "In a future version, DataFrame.mean(axis=None) will return a scalar mean over the entire DataFrame. To retain the old behavior, use 'frame.mean(axis=0)' or just 'frame.mean()'\n",
      "\n",
      "/home/marco/miniconda3/envs/hdna/lib/python3.10/site-packages/numpy/core/fromnumeric.py:3430: FutureWarning:\n",
      "\n",
      "In a future version, DataFrame.mean(axis=None) will return a scalar mean over the entire DataFrame. To retain the old behavior, use 'frame.mean(axis=0)' or just 'frame.mean()'\n",
      "\n",
      "/home/marco/miniconda3/envs/hdna/lib/python3.10/site-packages/numpy/core/fromnumeric.py:3430: FutureWarning:\n",
      "\n",
      "In a future version, DataFrame.mean(axis=None) will return a scalar mean over the entire DataFrame. To retain the old behavior, use 'frame.mean(axis=0)' or just 'frame.mean()'\n",
      "\n",
      "/home/marco/miniconda3/envs/hdna/lib/python3.10/site-packages/numpy/core/fromnumeric.py:3430: FutureWarning:\n",
      "\n",
      "In a future version, DataFrame.mean(axis=None) will return a scalar mean over the entire DataFrame. To retain the old behavior, use 'frame.mean(axis=0)' or just 'frame.mean()'\n",
      "\n",
      "/home/marco/miniconda3/envs/hdna/lib/python3.10/site-packages/numpy/core/fromnumeric.py:3430: FutureWarning:\n",
      "\n",
      "In a future version, DataFrame.mean(axis=None) will return a scalar mean over the entire DataFrame. To retain the old behavior, use 'frame.mean(axis=0)' or just 'frame.mean()'\n",
      "\n",
      "/home/marco/miniconda3/envs/hdna/lib/python3.10/site-packages/numpy/core/fromnumeric.py:3430: FutureWarning:\n",
      "\n",
      "In a future version, DataFrame.mean(axis=None) will return a scalar mean over the entire DataFrame. To retain the old behavior, use 'frame.mean(axis=0)' or just 'frame.mean()'\n",
      "\n",
      "/home/marco/miniconda3/envs/hdna/lib/python3.10/site-packages/numpy/core/fromnumeric.py:3430: FutureWarning:\n",
      "\n",
      "In a future version, DataFrame.mean(axis=None) will return a scalar mean over the entire DataFrame. To retain the old behavior, use 'frame.mean(axis=0)' or just 'frame.mean()'\n",
      "\n",
      "/home/marco/miniconda3/envs/hdna/lib/python3.10/site-packages/numpy/core/fromnumeric.py:3430: FutureWarning:\n",
      "\n",
      "In a future version, DataFrame.mean(axis=None) will return a scalar mean over the entire DataFrame. To retain the old behavior, use 'frame.mean(axis=0)' or just 'frame.mean()'\n",
      "\n",
      "/home/marco/miniconda3/envs/hdna/lib/python3.10/site-packages/numpy/core/fromnumeric.py:3430: FutureWarning:\n",
      "\n",
      "In a future version, DataFrame.mean(axis=None) will return a scalar mean over the entire DataFrame. To retain the old behavior, use 'frame.mean(axis=0)' or just 'frame.mean()'\n",
      "\n",
      "/home/marco/miniconda3/envs/hdna/lib/python3.10/site-packages/numpy/core/fromnumeric.py:3430: FutureWarning:\n",
      "\n",
      "In a future version, DataFrame.mean(axis=None) will return a scalar mean over the entire DataFrame. To retain the old behavior, use 'frame.mean(axis=0)' or just 'frame.mean()'\n",
      "\n",
      "/home/marco/miniconda3/envs/hdna/lib/python3.10/site-packages/numpy/core/fromnumeric.py:3430: FutureWarning:\n",
      "\n",
      "In a future version, DataFrame.mean(axis=None) will return a scalar mean over the entire DataFrame. To retain the old behavior, use 'frame.mean(axis=0)' or just 'frame.mean()'\n",
      "\n",
      "/home/marco/miniconda3/envs/hdna/lib/python3.10/site-packages/numpy/core/fromnumeric.py:3430: FutureWarning:\n",
      "\n",
      "In a future version, DataFrame.mean(axis=None) will return a scalar mean over the entire DataFrame. To retain the old behavior, use 'frame.mean(axis=0)' or just 'frame.mean()'\n",
      "\n",
      "/home/marco/miniconda3/envs/hdna/lib/python3.10/site-packages/numpy/core/fromnumeric.py:3430: FutureWarning:\n",
      "\n",
      "In a future version, DataFrame.mean(axis=None) will return a scalar mean over the entire DataFrame. To retain the old behavior, use 'frame.mean(axis=0)' or just 'frame.mean()'\n",
      "\n",
      "/home/marco/miniconda3/envs/hdna/lib/python3.10/site-packages/numpy/core/fromnumeric.py:3430: FutureWarning:\n",
      "\n",
      "In a future version, DataFrame.mean(axis=None) will return a scalar mean over the entire DataFrame. To retain the old behavior, use 'frame.mean(axis=0)' or just 'frame.mean()'\n",
      "\n",
      "/home/marco/miniconda3/envs/hdna/lib/python3.10/site-packages/numpy/core/fromnumeric.py:3430: FutureWarning:\n",
      "\n",
      "In a future version, DataFrame.mean(axis=None) will return a scalar mean over the entire DataFrame. To retain the old behavior, use 'frame.mean(axis=0)' or just 'frame.mean()'\n",
      "\n",
      "/home/marco/miniconda3/envs/hdna/lib/python3.10/site-packages/numpy/core/fromnumeric.py:3430: FutureWarning:\n",
      "\n",
      "In a future version, DataFrame.mean(axis=None) will return a scalar mean over the entire DataFrame. To retain the old behavior, use 'frame.mean(axis=0)' or just 'frame.mean()'\n",
      "\n",
      "/home/marco/miniconda3/envs/hdna/lib/python3.10/site-packages/numpy/core/fromnumeric.py:3430: FutureWarning:\n",
      "\n",
      "In a future version, DataFrame.mean(axis=None) will return a scalar mean over the entire DataFrame. To retain the old behavior, use 'frame.mean(axis=0)' or just 'frame.mean()'\n",
      "\n",
      "/home/marco/miniconda3/envs/hdna/lib/python3.10/site-packages/numpy/core/fromnumeric.py:3430: FutureWarning:\n",
      "\n",
      "In a future version, DataFrame.mean(axis=None) will return a scalar mean over the entire DataFrame. To retain the old behavior, use 'frame.mean(axis=0)' or just 'frame.mean()'\n",
      "\n"
     ]
    }
   ],
   "source": [
    "for i, seq in enumerate(data['sequences'],1):\n",
    "    fpts = pd.read_csv(f'{DIR}/simulations/{i}_{seq}/fpts.csv',index_col=[0])\n",
    "    print(seq, 1/np.mean(fpts))"
   ]
  },
  {
   "cell_type": "code",
   "execution_count": 4,
   "metadata": {},
   "outputs": [],
   "source": [
    "from hdna import valplot"
   ]
  },
  {
   "cell_type": "code",
   "execution_count": 5,
   "metadata": {},
   "outputs": [
    {
     "data": {
      "application/vnd.plotly.v1+json": {
       "config": {
        "plotlyServerURL": "https://plot.ly"
       },
       "data": [
        {
         "customdata": [
          "20_GCTGTTCGGTCTAT",
          "0_GTTCGGTCTA",
          "21_ACCAAACCACCAAC",
          "1_CCAAAACCAA",
          "22_CAACACCAAACAAC",
          "2_AAACCACACA",
          "23_CAAAACCCCAACAC",
          "24_AAACCCACCACACA",
          "25_CAACACCCAAACAC",
          "3_ACCAAACCAC",
          "4_ACACCAAACC",
          "26_CCAAAACCAACAAC",
          "5_AAAAACCCAC",
          "27_AAAAACCCACCCAA",
          "6_CAACACCCAA",
          "7_AAACCCACCA",
          "8_ACAACACCAC",
          "9_CAAAACCCCA",
          "10_AACCAACACC",
          "11_CAACACAACC",
          "28_AAACCACCCAACAC",
          "12_ACCAACACCA",
          "13_CCACCAACAA",
          "29_CCCAAACCCAACCA",
          "30_ACCAACACCAACCA",
          "31_CAACAACACCACCA",
          "32_AACCAACACCACCA",
          "33_AACCACCACAAACC",
          "34_CAACACAACCAACC",
          "35_CACCACAACCACCA",
          "14_ACACACACAC",
          "15_AACCACCACA",
          "16_CAACCAACCA",
          "36_CCCCACACAACAAC",
          "37_CCACCAACAACAAC",
          "17_ACACACACCA",
          "38_ACACACACCACACA",
          "39_CACACACACACACA",
          "40_ACCAACCAACCAAC",
          "18_CCCCACACAA",
          "19_ACACCACCAC"
         ],
         "hovertemplate": "emp = %{x:.3e}\n                     <br>mod = %{y:.3e}\n                     <br>seq:  %{customdata} </b>",
         "marker": {
          "color": "tan"
         },
         "mode": "markers",
         "name": "",
         "type": "scatter",
         "x": [
          1042173,
          1145950,
          1186657,
          1668154,
          1779672,
          1809459,
          1831343,
          1892296,
          2124654,
          2167675,
          2178513,
          2304253,
          2364640,
          2433452,
          2511513,
          2527035,
          2559279,
          2651666,
          2655670,
          2695608,
          2745623,
          2765864,
          2825047,
          2975581,
          3186916,
          3242444,
          3629903,
          3659749,
          3763039,
          3805400,
          3843880,
          3865948,
          3960894,
          3961922,
          4062258,
          4159347,
          4442077,
          4818114,
          5208461,
          5448523,
          5613147
         ],
         "y": [
          1766731.7645557306,
          2297996.5776894074,
          2947171.297881226,
          2635763.356053198,
          1693787.8660576325,
          2888902.390871003,
          1580566.1621764335,
          2485860.4564137687,
          1687862.3282805702,
          2942281.3775904872,
          2073650.8375494492,
          1980970.1868607923,
          1998837.9847525635,
          1921083.8565047693,
          1532693.906117462,
          2466691.7320017475,
          1972975.387152344,
          2368713.75337916,
          1931964.4912678327,
          2680161.0964301485,
          1658590.9106865677,
          2677285.1298552835,
          2289574.4240637696,
          2073140.1734842437,
          2888981.057329297,
          2526746.5319596706,
          2777363.5857945443,
          2374031.170203777,
          2778321.332056404,
          2911594.231413373,
          4995601.830841544,
          3428091.5009688423,
          3751916.1812083498,
          2731415.7243705187,
          2680113.115973355,
          3867138.776017,
          3989025.325283888,
          4159329.106990103,
          3382799.5428923126,
          3415697.921998226,
          3044504.751767842
         ]
        },
        {
         "line": {
          "dash": "dash"
         },
         "marker": {
          "color": "coral"
         },
         "mode": "lines",
         "name": "bisector",
         "type": "scatter",
         "x": [
          0,
          102040.8163265306,
          204081.6326530612,
          306122.44897959183,
          408163.2653061224,
          510204.081632653,
          612244.8979591837,
          714285.7142857142,
          816326.5306122449,
          918367.3469387755,
          1020408.163265306,
          1122448.9795918367,
          1224489.7959183673,
          1326530.612244898,
          1428571.4285714284,
          1530612.244897959,
          1632653.0612244897,
          1734693.8775510204,
          1836734.693877551,
          1938775.5102040814,
          2040816.326530612,
          2142857.1428571427,
          2244897.9591836734,
          2346938.775510204,
          2448979.5918367347,
          2551020.4081632653,
          2653061.224489796,
          2755102.040816326,
          2857142.857142857,
          2959183.6734693875,
          3061224.489795918,
          3163265.3061224488,
          3265306.1224489794,
          3367346.93877551,
          3469387.7551020407,
          3571428.5714285714,
          3673469.387755102,
          3775510.2040816327,
          3877551.020408163,
          3979591.8367346935,
          4081632.653061224,
          4183673.469387755,
          4285714.285714285,
          4387755.102040816,
          4489795.918367347,
          4591836.734693877,
          4693877.551020408,
          4795918.367346939,
          4897959.183673469,
          5000000
         ],
         "y": [
          0,
          102040.8163265306,
          204081.6326530612,
          306122.44897959183,
          408163.2653061224,
          510204.081632653,
          612244.8979591837,
          714285.7142857142,
          816326.5306122449,
          918367.3469387755,
          1020408.163265306,
          1122448.9795918367,
          1224489.7959183673,
          1326530.612244898,
          1428571.4285714284,
          1530612.244897959,
          1632653.0612244897,
          1734693.8775510204,
          1836734.693877551,
          1938775.5102040814,
          2040816.326530612,
          2142857.1428571427,
          2244897.9591836734,
          2346938.775510204,
          2448979.5918367347,
          2551020.4081632653,
          2653061.224489796,
          2755102.040816326,
          2857142.857142857,
          2959183.6734693875,
          3061224.489795918,
          3163265.3061224488,
          3265306.1224489794,
          3367346.93877551,
          3469387.7551020407,
          3571428.5714285714,
          3673469.387755102,
          3775510.2040816327,
          3877551.020408163,
          3979591.8367346935,
          4081632.653061224,
          4183673.469387755,
          4285714.285714285,
          4387755.102040816,
          4489795.918367347,
          4591836.734693877,
          4693877.551020408,
          4795918.367346939,
          4897959.183673469,
          5000000
         ]
        }
       ],
       "layout": {
        "autosize": false,
        "height": 600,
        "margin": {
         "b": 50,
         "l": 50,
         "pad": 0,
         "r": 50,
         "t": 50
        },
        "showlegend": false,
        "template": {
         "data": {
          "bar": [
           {
            "error_x": {
             "color": "#f2f5fa"
            },
            "error_y": {
             "color": "#f2f5fa"
            },
            "marker": {
             "line": {
              "color": "rgb(17,17,17)",
              "width": 0.5
             },
             "pattern": {
              "fillmode": "overlay",
              "size": 10,
              "solidity": 0.2
             }
            },
            "type": "bar"
           }
          ],
          "barpolar": [
           {
            "marker": {
             "line": {
              "color": "rgb(17,17,17)",
              "width": 0.5
             },
             "pattern": {
              "fillmode": "overlay",
              "size": 10,
              "solidity": 0.2
             }
            },
            "type": "barpolar"
           }
          ],
          "carpet": [
           {
            "aaxis": {
             "endlinecolor": "#A2B1C6",
             "gridcolor": "#506784",
             "linecolor": "#506784",
             "minorgridcolor": "#506784",
             "startlinecolor": "#A2B1C6"
            },
            "baxis": {
             "endlinecolor": "#A2B1C6",
             "gridcolor": "#506784",
             "linecolor": "#506784",
             "minorgridcolor": "#506784",
             "startlinecolor": "#A2B1C6"
            },
            "type": "carpet"
           }
          ],
          "choropleth": [
           {
            "colorbar": {
             "outlinewidth": 0,
             "ticks": ""
            },
            "type": "choropleth"
           }
          ],
          "contour": [
           {
            "colorbar": {
             "outlinewidth": 0,
             "ticks": ""
            },
            "colorscale": [
             [
              0,
              "#0d0887"
             ],
             [
              0.1111111111111111,
              "#46039f"
             ],
             [
              0.2222222222222222,
              "#7201a8"
             ],
             [
              0.3333333333333333,
              "#9c179e"
             ],
             [
              0.4444444444444444,
              "#bd3786"
             ],
             [
              0.5555555555555556,
              "#d8576b"
             ],
             [
              0.6666666666666666,
              "#ed7953"
             ],
             [
              0.7777777777777778,
              "#fb9f3a"
             ],
             [
              0.8888888888888888,
              "#fdca26"
             ],
             [
              1,
              "#f0f921"
             ]
            ],
            "type": "contour"
           }
          ],
          "contourcarpet": [
           {
            "colorbar": {
             "outlinewidth": 0,
             "ticks": ""
            },
            "type": "contourcarpet"
           }
          ],
          "heatmap": [
           {
            "colorbar": {
             "outlinewidth": 0,
             "ticks": ""
            },
            "colorscale": [
             [
              0,
              "#0d0887"
             ],
             [
              0.1111111111111111,
              "#46039f"
             ],
             [
              0.2222222222222222,
              "#7201a8"
             ],
             [
              0.3333333333333333,
              "#9c179e"
             ],
             [
              0.4444444444444444,
              "#bd3786"
             ],
             [
              0.5555555555555556,
              "#d8576b"
             ],
             [
              0.6666666666666666,
              "#ed7953"
             ],
             [
              0.7777777777777778,
              "#fb9f3a"
             ],
             [
              0.8888888888888888,
              "#fdca26"
             ],
             [
              1,
              "#f0f921"
             ]
            ],
            "type": "heatmap"
           }
          ],
          "heatmapgl": [
           {
            "colorbar": {
             "outlinewidth": 0,
             "ticks": ""
            },
            "colorscale": [
             [
              0,
              "#0d0887"
             ],
             [
              0.1111111111111111,
              "#46039f"
             ],
             [
              0.2222222222222222,
              "#7201a8"
             ],
             [
              0.3333333333333333,
              "#9c179e"
             ],
             [
              0.4444444444444444,
              "#bd3786"
             ],
             [
              0.5555555555555556,
              "#d8576b"
             ],
             [
              0.6666666666666666,
              "#ed7953"
             ],
             [
              0.7777777777777778,
              "#fb9f3a"
             ],
             [
              0.8888888888888888,
              "#fdca26"
             ],
             [
              1,
              "#f0f921"
             ]
            ],
            "type": "heatmapgl"
           }
          ],
          "histogram": [
           {
            "marker": {
             "pattern": {
              "fillmode": "overlay",
              "size": 10,
              "solidity": 0.2
             }
            },
            "type": "histogram"
           }
          ],
          "histogram2d": [
           {
            "colorbar": {
             "outlinewidth": 0,
             "ticks": ""
            },
            "colorscale": [
             [
              0,
              "#0d0887"
             ],
             [
              0.1111111111111111,
              "#46039f"
             ],
             [
              0.2222222222222222,
              "#7201a8"
             ],
             [
              0.3333333333333333,
              "#9c179e"
             ],
             [
              0.4444444444444444,
              "#bd3786"
             ],
             [
              0.5555555555555556,
              "#d8576b"
             ],
             [
              0.6666666666666666,
              "#ed7953"
             ],
             [
              0.7777777777777778,
              "#fb9f3a"
             ],
             [
              0.8888888888888888,
              "#fdca26"
             ],
             [
              1,
              "#f0f921"
             ]
            ],
            "type": "histogram2d"
           }
          ],
          "histogram2dcontour": [
           {
            "colorbar": {
             "outlinewidth": 0,
             "ticks": ""
            },
            "colorscale": [
             [
              0,
              "#0d0887"
             ],
             [
              0.1111111111111111,
              "#46039f"
             ],
             [
              0.2222222222222222,
              "#7201a8"
             ],
             [
              0.3333333333333333,
              "#9c179e"
             ],
             [
              0.4444444444444444,
              "#bd3786"
             ],
             [
              0.5555555555555556,
              "#d8576b"
             ],
             [
              0.6666666666666666,
              "#ed7953"
             ],
             [
              0.7777777777777778,
              "#fb9f3a"
             ],
             [
              0.8888888888888888,
              "#fdca26"
             ],
             [
              1,
              "#f0f921"
             ]
            ],
            "type": "histogram2dcontour"
           }
          ],
          "mesh3d": [
           {
            "colorbar": {
             "outlinewidth": 0,
             "ticks": ""
            },
            "type": "mesh3d"
           }
          ],
          "parcoords": [
           {
            "line": {
             "colorbar": {
              "outlinewidth": 0,
              "ticks": ""
             }
            },
            "type": "parcoords"
           }
          ],
          "pie": [
           {
            "automargin": true,
            "type": "pie"
           }
          ],
          "scatter": [
           {
            "marker": {
             "line": {
              "color": "#283442"
             }
            },
            "type": "scatter"
           }
          ],
          "scatter3d": [
           {
            "line": {
             "colorbar": {
              "outlinewidth": 0,
              "ticks": ""
             }
            },
            "marker": {
             "colorbar": {
              "outlinewidth": 0,
              "ticks": ""
             }
            },
            "type": "scatter3d"
           }
          ],
          "scattercarpet": [
           {
            "marker": {
             "colorbar": {
              "outlinewidth": 0,
              "ticks": ""
             }
            },
            "type": "scattercarpet"
           }
          ],
          "scattergeo": [
           {
            "marker": {
             "colorbar": {
              "outlinewidth": 0,
              "ticks": ""
             }
            },
            "type": "scattergeo"
           }
          ],
          "scattergl": [
           {
            "marker": {
             "line": {
              "color": "#283442"
             }
            },
            "type": "scattergl"
           }
          ],
          "scattermapbox": [
           {
            "marker": {
             "colorbar": {
              "outlinewidth": 0,
              "ticks": ""
             }
            },
            "type": "scattermapbox"
           }
          ],
          "scatterpolar": [
           {
            "marker": {
             "colorbar": {
              "outlinewidth": 0,
              "ticks": ""
             }
            },
            "type": "scatterpolar"
           }
          ],
          "scatterpolargl": [
           {
            "marker": {
             "colorbar": {
              "outlinewidth": 0,
              "ticks": ""
             }
            },
            "type": "scatterpolargl"
           }
          ],
          "scatterternary": [
           {
            "marker": {
             "colorbar": {
              "outlinewidth": 0,
              "ticks": ""
             }
            },
            "type": "scatterternary"
           }
          ],
          "surface": [
           {
            "colorbar": {
             "outlinewidth": 0,
             "ticks": ""
            },
            "colorscale": [
             [
              0,
              "#0d0887"
             ],
             [
              0.1111111111111111,
              "#46039f"
             ],
             [
              0.2222222222222222,
              "#7201a8"
             ],
             [
              0.3333333333333333,
              "#9c179e"
             ],
             [
              0.4444444444444444,
              "#bd3786"
             ],
             [
              0.5555555555555556,
              "#d8576b"
             ],
             [
              0.6666666666666666,
              "#ed7953"
             ],
             [
              0.7777777777777778,
              "#fb9f3a"
             ],
             [
              0.8888888888888888,
              "#fdca26"
             ],
             [
              1,
              "#f0f921"
             ]
            ],
            "type": "surface"
           }
          ],
          "table": [
           {
            "cells": {
             "fill": {
              "color": "#506784"
             },
             "line": {
              "color": "rgb(17,17,17)"
             }
            },
            "header": {
             "fill": {
              "color": "#2a3f5f"
             },
             "line": {
              "color": "rgb(17,17,17)"
             }
            },
            "type": "table"
           }
          ]
         },
         "layout": {
          "annotationdefaults": {
           "arrowcolor": "#f2f5fa",
           "arrowhead": 0,
           "arrowwidth": 1
          },
          "autotypenumbers": "strict",
          "coloraxis": {
           "colorbar": {
            "outlinewidth": 0,
            "ticks": ""
           }
          },
          "colorscale": {
           "diverging": [
            [
             0,
             "#8e0152"
            ],
            [
             0.1,
             "#c51b7d"
            ],
            [
             0.2,
             "#de77ae"
            ],
            [
             0.3,
             "#f1b6da"
            ],
            [
             0.4,
             "#fde0ef"
            ],
            [
             0.5,
             "#f7f7f7"
            ],
            [
             0.6,
             "#e6f5d0"
            ],
            [
             0.7,
             "#b8e186"
            ],
            [
             0.8,
             "#7fbc41"
            ],
            [
             0.9,
             "#4d9221"
            ],
            [
             1,
             "#276419"
            ]
           ],
           "sequential": [
            [
             0,
             "#0d0887"
            ],
            [
             0.1111111111111111,
             "#46039f"
            ],
            [
             0.2222222222222222,
             "#7201a8"
            ],
            [
             0.3333333333333333,
             "#9c179e"
            ],
            [
             0.4444444444444444,
             "#bd3786"
            ],
            [
             0.5555555555555556,
             "#d8576b"
            ],
            [
             0.6666666666666666,
             "#ed7953"
            ],
            [
             0.7777777777777778,
             "#fb9f3a"
            ],
            [
             0.8888888888888888,
             "#fdca26"
            ],
            [
             1,
             "#f0f921"
            ]
           ],
           "sequentialminus": [
            [
             0,
             "#0d0887"
            ],
            [
             0.1111111111111111,
             "#46039f"
            ],
            [
             0.2222222222222222,
             "#7201a8"
            ],
            [
             0.3333333333333333,
             "#9c179e"
            ],
            [
             0.4444444444444444,
             "#bd3786"
            ],
            [
             0.5555555555555556,
             "#d8576b"
            ],
            [
             0.6666666666666666,
             "#ed7953"
            ],
            [
             0.7777777777777778,
             "#fb9f3a"
            ],
            [
             0.8888888888888888,
             "#fdca26"
            ],
            [
             1,
             "#f0f921"
            ]
           ]
          },
          "colorway": [
           "#636efa",
           "#EF553B",
           "#00cc96",
           "#ab63fa",
           "#FFA15A",
           "#19d3f3",
           "#FF6692",
           "#B6E880",
           "#FF97FF",
           "#FECB52"
          ],
          "font": {
           "color": "#f2f5fa"
          },
          "geo": {
           "bgcolor": "rgb(17,17,17)",
           "lakecolor": "rgb(17,17,17)",
           "landcolor": "rgb(17,17,17)",
           "showlakes": true,
           "showland": true,
           "subunitcolor": "#506784"
          },
          "hoverlabel": {
           "align": "left"
          },
          "hovermode": "closest",
          "mapbox": {
           "style": "dark"
          },
          "paper_bgcolor": "rgb(17,17,17)",
          "plot_bgcolor": "rgb(17,17,17)",
          "polar": {
           "angularaxis": {
            "gridcolor": "#506784",
            "linecolor": "#506784",
            "ticks": ""
           },
           "bgcolor": "rgb(17,17,17)",
           "radialaxis": {
            "gridcolor": "#506784",
            "linecolor": "#506784",
            "ticks": ""
           }
          },
          "scene": {
           "xaxis": {
            "backgroundcolor": "rgb(17,17,17)",
            "gridcolor": "#506784",
            "gridwidth": 2,
            "linecolor": "#506784",
            "showbackground": true,
            "ticks": "",
            "zerolinecolor": "#C8D4E3"
           },
           "yaxis": {
            "backgroundcolor": "rgb(17,17,17)",
            "gridcolor": "#506784",
            "gridwidth": 2,
            "linecolor": "#506784",
            "showbackground": true,
            "ticks": "",
            "zerolinecolor": "#C8D4E3"
           },
           "zaxis": {
            "backgroundcolor": "rgb(17,17,17)",
            "gridcolor": "#506784",
            "gridwidth": 2,
            "linecolor": "#506784",
            "showbackground": true,
            "ticks": "",
            "zerolinecolor": "#C8D4E3"
           }
          },
          "shapedefaults": {
           "line": {
            "color": "#f2f5fa"
           }
          },
          "sliderdefaults": {
           "bgcolor": "#C8D4E3",
           "bordercolor": "rgb(17,17,17)",
           "borderwidth": 1,
           "tickwidth": 0
          },
          "ternary": {
           "aaxis": {
            "gridcolor": "#506784",
            "linecolor": "#506784",
            "ticks": ""
           },
           "baxis": {
            "gridcolor": "#506784",
            "linecolor": "#506784",
            "ticks": ""
           },
           "bgcolor": "rgb(17,17,17)",
           "caxis": {
            "gridcolor": "#506784",
            "linecolor": "#506784",
            "ticks": ""
           }
          },
          "title": {
           "x": 0.05
          },
          "updatemenudefaults": {
           "bgcolor": "#506784",
           "borderwidth": 0
          },
          "xaxis": {
           "automargin": true,
           "gridcolor": "#283442",
           "linecolor": "#506784",
           "ticks": "",
           "title": {
            "standoff": 15
           },
           "zerolinecolor": "#283442",
           "zerolinewidth": 2
          },
          "yaxis": {
           "automargin": true,
           "gridcolor": "#283442",
           "linecolor": "#506784",
           "ticks": "",
           "title": {
            "standoff": 15
           },
           "zerolinecolor": "#283442",
           "zerolinewidth": 2
          }
         }
        },
        "title": {
         "text": "Scatterplot for see"
        },
        "width": 600,
        "xaxis": {
         "exponentformat": "e",
         "range": [
          0,
          5000000
         ],
         "showgrid": true,
         "tickmode": "array",
         "tickvals": [
          0,
          1000000,
          2000000,
          3000000,
          4000000,
          5000000
         ],
         "title": {
          "font": {
           "size": 22
          },
          "text": "$k_{exp}(seq)$"
         }
        },
        "yaxis": {
         "exponentformat": "e",
         "range": [
          0,
          5000000
         ],
         "showgrid": true,
         "tickmode": "array",
         "tickvals": [
          0,
          1000000,
          2000000,
          3000000,
          4000000,
          5000000
         ],
         "title": {
          "font": {
           "size": 22
          },
          "text": "$k_{mod}(seq)$"
         }
        }
       }
      }
     },
     "metadata": {},
     "output_type": "display_data"
    }
   ],
   "source": [
    "plot = valplot(data, 'see', writepath=None)"
   ]
  },
  {
   "cell_type": "code",
   "execution_count": 6,
   "metadata": {},
   "outputs": [],
   "source": [
    "def pearson(exp, mod):\n",
    "    avgexp = np.mean(exp)\n",
    "    avgmod = np.mean(mod)\n",
    "    sigmaexp = sum([np.power(x-avgexp,2) for x in exp])\n",
    "    sigmamod = sum([np.power(x-avgmod,2) for x in mod])\n",
    "    norm = np.sqrt(sigmaexp*sigmamod)\n",
    "    corr = sum([(x-avgexp)*(y-avgmod) for x, y in zip(exp, mod)])\n",
    "    return corr/norm\n",
    "\n",
    "def distance2badness(exp, mod):\n",
    "    i = 0\n",
    "    for expe, mode in zip(exp, mod):\n",
    "        if mode/2 <= expe <= mode*2:\n",
    "            i += 1\n",
    "    return i/len(exp)"
   ]
  },
  {
   "cell_type": "code",
   "execution_count": 7,
   "metadata": {},
   "outputs": [
    {
     "data": {
      "text/plain": [
       "0.6360666652015079"
      ]
     },
     "execution_count": 7,
     "metadata": {},
     "output_type": "execute_result"
    }
   ],
   "source": [
    "pearson(data['experimental'], data['computational'])"
   ]
  },
  {
   "cell_type": "code",
   "execution_count": 8,
   "metadata": {},
   "outputs": [
    {
     "data": {
      "text/plain": [
       "0.9512195121951219"
      ]
     },
     "execution_count": 8,
     "metadata": {},
     "output_type": "execute_result"
    }
   ],
   "source": [
    "distance2badness(data['experimental'], data['computational'])"
   ]
  },
  {
   "cell_type": "code",
   "execution_count": null,
   "metadata": {},
   "outputs": [],
   "source": []
  }
 ],
 "metadata": {
  "kernelspec": {
   "display_name": "hdna",
   "language": "python",
   "name": "python3"
  },
  "language_info": {
   "codemirror_mode": {
    "name": "ipython",
    "version": 3
   },
   "file_extension": ".py",
   "mimetype": "text/x-python",
   "name": "python",
   "nbconvert_exporter": "python",
   "pygments_lexer": "ipython3",
   "version": "3.10.9 (main, Jan 11 2023, 15:21:40) [GCC 11.2.0]"
  },
  "orig_nbformat": 4,
  "vscode": {
   "interpreter": {
    "hash": "13f02c433cbffcd00bbcbbfeff349f4b7c28e9023d8fb9f65ab93bb104997abd"
   }
  }
 },
 "nbformat": 4,
 "nbformat_minor": 2
}
