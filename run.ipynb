{
 "cells": [
  {
   "cell_type": "code",
   "execution_count": 1,
   "metadata": {},
   "outputs": [],
   "source": [
    "%load_ext autoreload\n",
    "%autoreload 2"
   ]
  },
  {
   "cell_type": "code",
   "execution_count": 2,
   "metadata": {},
   "outputs": [],
   "source": [
    "import pandas as pd \n",
    "import nupack as nu\n",
    "from hdna import *\n",
    "from tqdm import tqdm"
   ]
  },
  {
   "cell_type": "markdown",
   "metadata": {},
   "source": [
    "EXPNAME = 'STACKING_z6e7s3e7_120180_sf3_2nd'\n",
    "\n",
    "# Import experimental data from Hertel \n",
    "expdata = pd.read_csv('./data/herteldata.csv', names=['sequences', 'experimental'])\n",
    "# Clean the dataframe \n",
    "expdata = expdata.drop(0)\n",
    "expdata['experimental'] = ['{:e}'.format(float(e)) for e in expdata['experimental']]\n",
    "\n",
    "limit = len(expdata)\n",
    "data = expdata.copy().iloc[:limit]\n",
    "data['index'] = data.index \n",
    "data.set_index(data['sequences'], inplace=True)\n",
    "\n",
    "MOD = Model(stacking='stacking')\n",
    "MOD.setparams(sliding_filter=3)\n",
    "MOD.setgeometry(theta=120, phi = 180)\n",
    "\n",
    "H = HDNA(data, EXPNAME, model=MOD)\n",
    "# bounds = [(2e7, 2e8), (2e6, 2e8)]\n",
    "# results = dual_annealing(H.run, bounds, maxiter=5, initial_temp=500)\n",
    "\n",
    "# H.run([3e7, 2e7])"
   ]
  },
  {
   "cell_type": "markdown",
   "metadata": {},
   "source": [
    "A = nu.Strand('CCAAAACCAA', name='a')\n",
    "B = nu.Strand('GGTTTTGGTT'[::-1], name='b')\n",
    "\n",
    "C = nu.Complex([A, B])\n",
    "Z = nu.pfunc(C, MOD.nupack)\n",
    "\n",
    "s1 = ('.(........+.........)')\n",
    "\n",
    "dg1 = nu.structure_energy(strands=[A, B], structure=s1, model=MOD.nupack)\n",
    "# dg2 = nu.structure_energy(strands=[A, B], structure=s2, model=M)\n",
    "\n",
    "p1 = nu.structure_probability(strands=[A, B], structure=s1, model=MOD.nupack)\n",
    "# p2 = nu.structure_probability(strands=[A, B], structure=s2, model=M)\n",
    "\n",
    "print(dg1)"
   ]
  },
  {
   "cell_type": "code",
   "execution_count": 3,
   "metadata": {},
   "outputs": [],
   "source": [
    "# Total state space of two sequences L1 and L2\n",
    "import numpy as np \n",
    "\n",
    "\n",
    "L = 14\n",
    "\n",
    "\n",
    "Gamma = 0\n",
    "Gamma2 = 0\n",
    "for n in range(1, L):\n",
    "    add = (L-n+1)\n",
    "    Gamma += add\n",
    "    Gamma2 += np.power(add,2)\n",
    "\n",
    "Zipoff = Gamma2-Gamma"
   ]
  },
  {
   "cell_type": "code",
   "execution_count": 4,
   "metadata": {},
   "outputs": [
    {
     "data": {
      "text/plain": [
       "910"
      ]
     },
     "execution_count": 4,
     "metadata": {},
     "output_type": "execute_result"
    }
   ],
   "source": [
    "Zipoff"
   ]
  },
  {
   "cell_type": "code",
   "execution_count": 5,
   "metadata": {},
   "outputs": [],
   "source": [
    "import pandas as pd\n",
    "data = '/home/marco/Desktop/HDNAback/hDNA/results/sumofinchandpk33/run_1/simulationdata.csv'\n",
    "df = pd.read_csv(data)"
   ]
  },
  {
   "cell_type": "code",
   "execution_count": 6,
   "metadata": {},
   "outputs": [],
   "source": [
    "# df.drop('Unnamed: 5', axis=1, inplace=True)\n",
    "# df.drop('sequences.1', axis=1, inplace=True)\n",
    "wk = df[['singlestranded','duplex','zipping','on_nucleation','off_nucleation','backfray','sliding']].astype(float)\n",
    "wk['sequences'] = df['sequences']\n",
    "wk['computational'] = df['computational']\n",
    "wk['experimental'] = df['experimental']\n",
    "wk['index'] = df['index']"
   ]
  },
  {
   "cell_type": "code",
   "execution_count": 7,
   "metadata": {},
   "outputs": [
    {
     "data": {
      "text/html": [
       "<div>\n",
       "<style scoped>\n",
       "    .dataframe tbody tr th:only-of-type {\n",
       "        vertical-align: middle;\n",
       "    }\n",
       "\n",
       "    .dataframe tbody tr th {\n",
       "        vertical-align: top;\n",
       "    }\n",
       "\n",
       "    .dataframe thead th {\n",
       "        text-align: right;\n",
       "    }\n",
       "</style>\n",
       "<table border=\"1\" class=\"dataframe\">\n",
       "  <thead>\n",
       "    <tr style=\"text-align: right;\">\n",
       "      <th></th>\n",
       "      <th>singlestranded</th>\n",
       "      <th>duplex</th>\n",
       "      <th>zipping</th>\n",
       "      <th>on_nucleation</th>\n",
       "      <th>off_nucleation</th>\n",
       "      <th>backfray</th>\n",
       "      <th>sliding</th>\n",
       "      <th>sequences</th>\n",
       "      <th>computational</th>\n",
       "      <th>experimental</th>\n",
       "      <th>index</th>\n",
       "    </tr>\n",
       "  </thead>\n",
       "  <tbody>\n",
       "    <tr>\n",
       "      <th>0</th>\n",
       "      <td>1.0</td>\n",
       "      <td>1.0</td>\n",
       "      <td>44.0</td>\n",
       "      <td>10.0</td>\n",
       "      <td>20.0</td>\n",
       "      <td>0.0</td>\n",
       "      <td>4.0</td>\n",
       "      <td>GTTCGGTCTA</td>\n",
       "      <td>5.060009e+06</td>\n",
       "      <td>1145950.0</td>\n",
       "      <td>1</td>\n",
       "    </tr>\n",
       "    <tr>\n",
       "      <th>1</th>\n",
       "      <td>1.0</td>\n",
       "      <td>1.0</td>\n",
       "      <td>44.0</td>\n",
       "      <td>10.0</td>\n",
       "      <td>42.0</td>\n",
       "      <td>14.0</td>\n",
       "      <td>10.0</td>\n",
       "      <td>CCAAAACCAA</td>\n",
       "      <td>4.494166e+06</td>\n",
       "      <td>1668154.0</td>\n",
       "      <td>2</td>\n",
       "    </tr>\n",
       "    <tr>\n",
       "      <th>2</th>\n",
       "      <td>1.0</td>\n",
       "      <td>1.0</td>\n",
       "      <td>44.0</td>\n",
       "      <td>10.0</td>\n",
       "      <td>42.0</td>\n",
       "      <td>10.0</td>\n",
       "      <td>10.0</td>\n",
       "      <td>AAACCACACA</td>\n",
       "      <td>5.065145e+06</td>\n",
       "      <td>1809459.0</td>\n",
       "      <td>3</td>\n",
       "    </tr>\n",
       "    <tr>\n",
       "      <th>3</th>\n",
       "      <td>1.0</td>\n",
       "      <td>1.0</td>\n",
       "      <td>44.0</td>\n",
       "      <td>10.0</td>\n",
       "      <td>40.0</td>\n",
       "      <td>10.0</td>\n",
       "      <td>8.0</td>\n",
       "      <td>ACCAAACCAC</td>\n",
       "      <td>5.090068e+06</td>\n",
       "      <td>2167675.0</td>\n",
       "      <td>4</td>\n",
       "    </tr>\n",
       "    <tr>\n",
       "      <th>4</th>\n",
       "      <td>1.0</td>\n",
       "      <td>1.0</td>\n",
       "      <td>44.0</td>\n",
       "      <td>10.0</td>\n",
       "      <td>40.0</td>\n",
       "      <td>4.0</td>\n",
       "      <td>10.0</td>\n",
       "      <td>ACACCAAACC</td>\n",
       "      <td>3.146038e+06</td>\n",
       "      <td>2178513.0</td>\n",
       "      <td>5</td>\n",
       "    </tr>\n",
       "    <tr>\n",
       "      <th>5</th>\n",
       "      <td>1.0</td>\n",
       "      <td>1.0</td>\n",
       "      <td>44.0</td>\n",
       "      <td>10.0</td>\n",
       "      <td>42.0</td>\n",
       "      <td>14.0</td>\n",
       "      <td>10.0</td>\n",
       "      <td>AAAAACCCAC</td>\n",
       "      <td>3.529451e+06</td>\n",
       "      <td>2364640.0</td>\n",
       "      <td>6</td>\n",
       "    </tr>\n",
       "    <tr>\n",
       "      <th>6</th>\n",
       "      <td>1.0</td>\n",
       "      <td>1.0</td>\n",
       "      <td>44.0</td>\n",
       "      <td>10.0</td>\n",
       "      <td>40.0</td>\n",
       "      <td>4.0</td>\n",
       "      <td>10.0</td>\n",
       "      <td>CAACACCCAA</td>\n",
       "      <td>2.269859e+06</td>\n",
       "      <td>2511513.0</td>\n",
       "      <td>7</td>\n",
       "    </tr>\n",
       "    <tr>\n",
       "      <th>7</th>\n",
       "      <td>1.0</td>\n",
       "      <td>1.0</td>\n",
       "      <td>44.0</td>\n",
       "      <td>10.0</td>\n",
       "      <td>40.0</td>\n",
       "      <td>8.0</td>\n",
       "      <td>8.0</td>\n",
       "      <td>AAACCCACCA</td>\n",
       "      <td>3.599345e+06</td>\n",
       "      <td>2527035.0</td>\n",
       "      <td>8</td>\n",
       "    </tr>\n",
       "    <tr>\n",
       "      <th>8</th>\n",
       "      <td>1.0</td>\n",
       "      <td>1.0</td>\n",
       "      <td>44.0</td>\n",
       "      <td>10.0</td>\n",
       "      <td>40.0</td>\n",
       "      <td>8.0</td>\n",
       "      <td>14.0</td>\n",
       "      <td>ACAACACCAC</td>\n",
       "      <td>2.869091e+06</td>\n",
       "      <td>2559279.0</td>\n",
       "      <td>9</td>\n",
       "    </tr>\n",
       "    <tr>\n",
       "      <th>9</th>\n",
       "      <td>1.0</td>\n",
       "      <td>1.0</td>\n",
       "      <td>44.0</td>\n",
       "      <td>10.0</td>\n",
       "      <td>40.0</td>\n",
       "      <td>8.0</td>\n",
       "      <td>10.0</td>\n",
       "      <td>CAAAACCCCA</td>\n",
       "      <td>4.531013e+06</td>\n",
       "      <td>2651666.0</td>\n",
       "      <td>10</td>\n",
       "    </tr>\n",
       "    <tr>\n",
       "      <th>10</th>\n",
       "      <td>1.0</td>\n",
       "      <td>1.0</td>\n",
       "      <td>44.0</td>\n",
       "      <td>10.0</td>\n",
       "      <td>40.0</td>\n",
       "      <td>8.0</td>\n",
       "      <td>8.0</td>\n",
       "      <td>AACCAACACC</td>\n",
       "      <td>2.716861e+06</td>\n",
       "      <td>2655670.0</td>\n",
       "      <td>11</td>\n",
       "    </tr>\n",
       "    <tr>\n",
       "      <th>11</th>\n",
       "      <td>1.0</td>\n",
       "      <td>1.0</td>\n",
       "      <td>44.0</td>\n",
       "      <td>10.0</td>\n",
       "      <td>40.0</td>\n",
       "      <td>14.0</td>\n",
       "      <td>8.0</td>\n",
       "      <td>CAACACAACC</td>\n",
       "      <td>4.245648e+06</td>\n",
       "      <td>2695608.0</td>\n",
       "      <td>12</td>\n",
       "    </tr>\n",
       "    <tr>\n",
       "      <th>12</th>\n",
       "      <td>1.0</td>\n",
       "      <td>1.0</td>\n",
       "      <td>44.0</td>\n",
       "      <td>10.0</td>\n",
       "      <td>40.0</td>\n",
       "      <td>10.0</td>\n",
       "      <td>10.0</td>\n",
       "      <td>ACCAACACCA</td>\n",
       "      <td>4.349644e+06</td>\n",
       "      <td>2765864.0</td>\n",
       "      <td>13</td>\n",
       "    </tr>\n",
       "    <tr>\n",
       "      <th>13</th>\n",
       "      <td>1.0</td>\n",
       "      <td>1.0</td>\n",
       "      <td>44.0</td>\n",
       "      <td>10.0</td>\n",
       "      <td>40.0</td>\n",
       "      <td>8.0</td>\n",
       "      <td>8.0</td>\n",
       "      <td>CCACCAACAA</td>\n",
       "      <td>3.320501e+06</td>\n",
       "      <td>2825047.0</td>\n",
       "      <td>14</td>\n",
       "    </tr>\n",
       "    <tr>\n",
       "      <th>14</th>\n",
       "      <td>1.0</td>\n",
       "      <td>1.0</td>\n",
       "      <td>44.0</td>\n",
       "      <td>10.0</td>\n",
       "      <td>40.0</td>\n",
       "      <td>92.0</td>\n",
       "      <td>8.0</td>\n",
       "      <td>ACACACACAC</td>\n",
       "      <td>7.715444e+06</td>\n",
       "      <td>3843880.0</td>\n",
       "      <td>15</td>\n",
       "    </tr>\n",
       "    <tr>\n",
       "      <th>15</th>\n",
       "      <td>1.0</td>\n",
       "      <td>1.0</td>\n",
       "      <td>44.0</td>\n",
       "      <td>10.0</td>\n",
       "      <td>40.0</td>\n",
       "      <td>18.0</td>\n",
       "      <td>8.0</td>\n",
       "      <td>AACCACCACA</td>\n",
       "      <td>6.656358e+06</td>\n",
       "      <td>3865948.0</td>\n",
       "      <td>16</td>\n",
       "    </tr>\n",
       "    <tr>\n",
       "      <th>16</th>\n",
       "      <td>1.0</td>\n",
       "      <td>1.0</td>\n",
       "      <td>44.0</td>\n",
       "      <td>10.0</td>\n",
       "      <td>40.0</td>\n",
       "      <td>28.0</td>\n",
       "      <td>4.0</td>\n",
       "      <td>CAACCAACCA</td>\n",
       "      <td>7.054079e+06</td>\n",
       "      <td>3960894.0</td>\n",
       "      <td>17</td>\n",
       "    </tr>\n",
       "    <tr>\n",
       "      <th>17</th>\n",
       "      <td>1.0</td>\n",
       "      <td>1.0</td>\n",
       "      <td>44.0</td>\n",
       "      <td>10.0</td>\n",
       "      <td>40.0</td>\n",
       "      <td>38.0</td>\n",
       "      <td>12.0</td>\n",
       "      <td>ACACACACCA</td>\n",
       "      <td>6.203311e+06</td>\n",
       "      <td>4159347.0</td>\n",
       "      <td>18</td>\n",
       "    </tr>\n",
       "    <tr>\n",
       "      <th>18</th>\n",
       "      <td>1.0</td>\n",
       "      <td>1.0</td>\n",
       "      <td>44.0</td>\n",
       "      <td>10.0</td>\n",
       "      <td>42.0</td>\n",
       "      <td>14.0</td>\n",
       "      <td>8.0</td>\n",
       "      <td>CCCCACACAA</td>\n",
       "      <td>6.150330e+06</td>\n",
       "      <td>5448523.0</td>\n",
       "      <td>19</td>\n",
       "    </tr>\n",
       "    <tr>\n",
       "      <th>19</th>\n",
       "      <td>1.0</td>\n",
       "      <td>1.0</td>\n",
       "      <td>44.0</td>\n",
       "      <td>10.0</td>\n",
       "      <td>42.0</td>\n",
       "      <td>32.0</td>\n",
       "      <td>10.0</td>\n",
       "      <td>ACACCACCAC</td>\n",
       "      <td>4.723430e+06</td>\n",
       "      <td>5613147.0</td>\n",
       "      <td>20</td>\n",
       "    </tr>\n",
       "    <tr>\n",
       "      <th>20</th>\n",
       "      <td>1.0</td>\n",
       "      <td>1.0</td>\n",
       "      <td>90.0</td>\n",
       "      <td>14.0</td>\n",
       "      <td>48.0</td>\n",
       "      <td>0.0</td>\n",
       "      <td>6.0</td>\n",
       "      <td>GCTGTTCGGTCTAT</td>\n",
       "      <td>3.860208e+06</td>\n",
       "      <td>1042173.0</td>\n",
       "      <td>21</td>\n",
       "    </tr>\n",
       "    <tr>\n",
       "      <th>21</th>\n",
       "      <td>1.0</td>\n",
       "      <td>1.0</td>\n",
       "      <td>90.0</td>\n",
       "      <td>14.0</td>\n",
       "      <td>84.0</td>\n",
       "      <td>42.0</td>\n",
       "      <td>14.0</td>\n",
       "      <td>ACCAAACCACCAAC</td>\n",
       "      <td>4.764371e+06</td>\n",
       "      <td>1186657.0</td>\n",
       "      <td>22</td>\n",
       "    </tr>\n",
       "    <tr>\n",
       "      <th>22</th>\n",
       "      <td>1.0</td>\n",
       "      <td>1.0</td>\n",
       "      <td>90.0</td>\n",
       "      <td>14.0</td>\n",
       "      <td>86.0</td>\n",
       "      <td>32.0</td>\n",
       "      <td>22.0</td>\n",
       "      <td>CAACACCAAACAAC</td>\n",
       "      <td>2.352295e+06</td>\n",
       "      <td>1779672.0</td>\n",
       "      <td>23</td>\n",
       "    </tr>\n",
       "    <tr>\n",
       "      <th>23</th>\n",
       "      <td>1.0</td>\n",
       "      <td>1.0</td>\n",
       "      <td>90.0</td>\n",
       "      <td>14.0</td>\n",
       "      <td>84.0</td>\n",
       "      <td>16.0</td>\n",
       "      <td>22.0</td>\n",
       "      <td>CAAAACCCCAACAC</td>\n",
       "      <td>2.478112e+06</td>\n",
       "      <td>1831343.0</td>\n",
       "      <td>24</td>\n",
       "    </tr>\n",
       "    <tr>\n",
       "      <th>24</th>\n",
       "      <td>1.0</td>\n",
       "      <td>1.0</td>\n",
       "      <td>90.0</td>\n",
       "      <td>14.0</td>\n",
       "      <td>84.0</td>\n",
       "      <td>28.0</td>\n",
       "      <td>20.0</td>\n",
       "      <td>AAACCCACCACACA</td>\n",
       "      <td>3.839292e+06</td>\n",
       "      <td>1892296.0</td>\n",
       "      <td>25</td>\n",
       "    </tr>\n",
       "    <tr>\n",
       "      <th>25</th>\n",
       "      <td>1.0</td>\n",
       "      <td>1.0</td>\n",
       "      <td>90.0</td>\n",
       "      <td>14.0</td>\n",
       "      <td>84.0</td>\n",
       "      <td>22.0</td>\n",
       "      <td>24.0</td>\n",
       "      <td>CAACACCCAAACAC</td>\n",
       "      <td>2.692206e+06</td>\n",
       "      <td>2124654.0</td>\n",
       "      <td>26</td>\n",
       "    </tr>\n",
       "    <tr>\n",
       "      <th>26</th>\n",
       "      <td>1.0</td>\n",
       "      <td>1.0</td>\n",
       "      <td>90.0</td>\n",
       "      <td>14.0</td>\n",
       "      <td>86.0</td>\n",
       "      <td>36.0</td>\n",
       "      <td>18.0</td>\n",
       "      <td>CCAAAACCAACAAC</td>\n",
       "      <td>2.920926e+06</td>\n",
       "      <td>2304253.0</td>\n",
       "      <td>27</td>\n",
       "    </tr>\n",
       "    <tr>\n",
       "      <th>27</th>\n",
       "      <td>1.0</td>\n",
       "      <td>1.0</td>\n",
       "      <td>90.0</td>\n",
       "      <td>14.0</td>\n",
       "      <td>86.0</td>\n",
       "      <td>32.0</td>\n",
       "      <td>24.0</td>\n",
       "      <td>AAAAACCCACCCAA</td>\n",
       "      <td>3.282853e+06</td>\n",
       "      <td>2433452.0</td>\n",
       "      <td>28</td>\n",
       "    </tr>\n",
       "    <tr>\n",
       "      <th>28</th>\n",
       "      <td>1.0</td>\n",
       "      <td>1.0</td>\n",
       "      <td>90.0</td>\n",
       "      <td>14.0</td>\n",
       "      <td>84.0</td>\n",
       "      <td>16.0</td>\n",
       "      <td>22.0</td>\n",
       "      <td>AAACCACCCAACAC</td>\n",
       "      <td>2.319204e+06</td>\n",
       "      <td>2745623.0</td>\n",
       "      <td>29</td>\n",
       "    </tr>\n",
       "    <tr>\n",
       "      <th>29</th>\n",
       "      <td>1.0</td>\n",
       "      <td>1.0</td>\n",
       "      <td>90.0</td>\n",
       "      <td>14.0</td>\n",
       "      <td>86.0</td>\n",
       "      <td>36.0</td>\n",
       "      <td>20.0</td>\n",
       "      <td>CCCAAACCCAACCA</td>\n",
       "      <td>3.006646e+06</td>\n",
       "      <td>2975581.0</td>\n",
       "      <td>30</td>\n",
       "    </tr>\n",
       "    <tr>\n",
       "      <th>30</th>\n",
       "      <td>1.0</td>\n",
       "      <td>1.0</td>\n",
       "      <td>90.0</td>\n",
       "      <td>14.0</td>\n",
       "      <td>84.0</td>\n",
       "      <td>48.0</td>\n",
       "      <td>16.0</td>\n",
       "      <td>ACCAACACCAACCA</td>\n",
       "      <td>4.667901e+06</td>\n",
       "      <td>3186916.0</td>\n",
       "      <td>31</td>\n",
       "    </tr>\n",
       "    <tr>\n",
       "      <th>31</th>\n",
       "      <td>1.0</td>\n",
       "      <td>1.0</td>\n",
       "      <td>90.0</td>\n",
       "      <td>14.0</td>\n",
       "      <td>84.0</td>\n",
       "      <td>36.0</td>\n",
       "      <td>24.0</td>\n",
       "      <td>CAACAACACCACCA</td>\n",
       "      <td>4.415964e+06</td>\n",
       "      <td>3242444.0</td>\n",
       "      <td>32</td>\n",
       "    </tr>\n",
       "    <tr>\n",
       "      <th>32</th>\n",
       "      <td>1.0</td>\n",
       "      <td>1.0</td>\n",
       "      <td>90.0</td>\n",
       "      <td>14.0</td>\n",
       "      <td>84.0</td>\n",
       "      <td>42.0</td>\n",
       "      <td>16.0</td>\n",
       "      <td>AACCAACACCACCA</td>\n",
       "      <td>4.561662e+06</td>\n",
       "      <td>3629903.0</td>\n",
       "      <td>33</td>\n",
       "    </tr>\n",
       "    <tr>\n",
       "      <th>33</th>\n",
       "      <td>1.0</td>\n",
       "      <td>1.0</td>\n",
       "      <td>90.0</td>\n",
       "      <td>14.0</td>\n",
       "      <td>84.0</td>\n",
       "      <td>32.0</td>\n",
       "      <td>18.0</td>\n",
       "      <td>AACCACCACAAACC</td>\n",
       "      <td>3.854400e+06</td>\n",
       "      <td>3659749.0</td>\n",
       "      <td>34</td>\n",
       "    </tr>\n",
       "    <tr>\n",
       "      <th>34</th>\n",
       "      <td>1.0</td>\n",
       "      <td>1.0</td>\n",
       "      <td>90.0</td>\n",
       "      <td>14.0</td>\n",
       "      <td>84.0</td>\n",
       "      <td>42.0</td>\n",
       "      <td>16.0</td>\n",
       "      <td>CAACACAACCAACC</td>\n",
       "      <td>4.206278e+06</td>\n",
       "      <td>3763039.0</td>\n",
       "      <td>35</td>\n",
       "    </tr>\n",
       "    <tr>\n",
       "      <th>35</th>\n",
       "      <td>1.0</td>\n",
       "      <td>1.0</td>\n",
       "      <td>90.0</td>\n",
       "      <td>14.0</td>\n",
       "      <td>86.0</td>\n",
       "      <td>50.0</td>\n",
       "      <td>20.0</td>\n",
       "      <td>CACCACAACCACCA</td>\n",
       "      <td>5.292984e+06</td>\n",
       "      <td>3805400.0</td>\n",
       "      <td>36</td>\n",
       "    </tr>\n",
       "    <tr>\n",
       "      <th>36</th>\n",
       "      <td>1.0</td>\n",
       "      <td>1.0</td>\n",
       "      <td>90.0</td>\n",
       "      <td>14.0</td>\n",
       "      <td>86.0</td>\n",
       "      <td>36.0</td>\n",
       "      <td>18.0</td>\n",
       "      <td>CCCCACACAACAAC</td>\n",
       "      <td>4.453862e+06</td>\n",
       "      <td>3961922.0</td>\n",
       "      <td>37</td>\n",
       "    </tr>\n",
       "    <tr>\n",
       "      <th>37</th>\n",
       "      <td>1.0</td>\n",
       "      <td>1.0</td>\n",
       "      <td>90.0</td>\n",
       "      <td>14.0</td>\n",
       "      <td>84.0</td>\n",
       "      <td>54.0</td>\n",
       "      <td>16.0</td>\n",
       "      <td>CCACCAACAACAAC</td>\n",
       "      <td>4.175504e+06</td>\n",
       "      <td>4062258.0</td>\n",
       "      <td>38</td>\n",
       "    </tr>\n",
       "    <tr>\n",
       "      <th>38</th>\n",
       "      <td>1.0</td>\n",
       "      <td>1.0</td>\n",
       "      <td>90.0</td>\n",
       "      <td>14.0</td>\n",
       "      <td>84.0</td>\n",
       "      <td>120.0</td>\n",
       "      <td>20.0</td>\n",
       "      <td>ACACACACCACACA</td>\n",
       "      <td>5.929680e+06</td>\n",
       "      <td>4442077.0</td>\n",
       "      <td>39</td>\n",
       "    </tr>\n",
       "    <tr>\n",
       "      <th>39</th>\n",
       "      <td>1.0</td>\n",
       "      <td>1.0</td>\n",
       "      <td>90.0</td>\n",
       "      <td>14.0</td>\n",
       "      <td>84.0</td>\n",
       "      <td>310.0</td>\n",
       "      <td>12.0</td>\n",
       "      <td>CACACACACACACA</td>\n",
       "      <td>6.358045e+06</td>\n",
       "      <td>4818114.0</td>\n",
       "      <td>40</td>\n",
       "    </tr>\n",
       "    <tr>\n",
       "      <th>40</th>\n",
       "      <td>1.0</td>\n",
       "      <td>1.0</td>\n",
       "      <td>90.0</td>\n",
       "      <td>14.0</td>\n",
       "      <td>84.0</td>\n",
       "      <td>116.0</td>\n",
       "      <td>6.0</td>\n",
       "      <td>ACCAACCAACCAAC</td>\n",
       "      <td>5.865280e+06</td>\n",
       "      <td>5208461.0</td>\n",
       "      <td>41</td>\n",
       "    </tr>\n",
       "  </tbody>\n",
       "</table>\n",
       "</div>"
      ],
      "text/plain": [
       "    singlestranded  duplex  zipping  on_nucleation  off_nucleation  backfray  \\\n",
       "0              1.0     1.0     44.0           10.0            20.0       0.0   \n",
       "1              1.0     1.0     44.0           10.0            42.0      14.0   \n",
       "2              1.0     1.0     44.0           10.0            42.0      10.0   \n",
       "3              1.0     1.0     44.0           10.0            40.0      10.0   \n",
       "4              1.0     1.0     44.0           10.0            40.0       4.0   \n",
       "5              1.0     1.0     44.0           10.0            42.0      14.0   \n",
       "6              1.0     1.0     44.0           10.0            40.0       4.0   \n",
       "7              1.0     1.0     44.0           10.0            40.0       8.0   \n",
       "8              1.0     1.0     44.0           10.0            40.0       8.0   \n",
       "9              1.0     1.0     44.0           10.0            40.0       8.0   \n",
       "10             1.0     1.0     44.0           10.0            40.0       8.0   \n",
       "11             1.0     1.0     44.0           10.0            40.0      14.0   \n",
       "12             1.0     1.0     44.0           10.0            40.0      10.0   \n",
       "13             1.0     1.0     44.0           10.0            40.0       8.0   \n",
       "14             1.0     1.0     44.0           10.0            40.0      92.0   \n",
       "15             1.0     1.0     44.0           10.0            40.0      18.0   \n",
       "16             1.0     1.0     44.0           10.0            40.0      28.0   \n",
       "17             1.0     1.0     44.0           10.0            40.0      38.0   \n",
       "18             1.0     1.0     44.0           10.0            42.0      14.0   \n",
       "19             1.0     1.0     44.0           10.0            42.0      32.0   \n",
       "20             1.0     1.0     90.0           14.0            48.0       0.0   \n",
       "21             1.0     1.0     90.0           14.0            84.0      42.0   \n",
       "22             1.0     1.0     90.0           14.0            86.0      32.0   \n",
       "23             1.0     1.0     90.0           14.0            84.0      16.0   \n",
       "24             1.0     1.0     90.0           14.0            84.0      28.0   \n",
       "25             1.0     1.0     90.0           14.0            84.0      22.0   \n",
       "26             1.0     1.0     90.0           14.0            86.0      36.0   \n",
       "27             1.0     1.0     90.0           14.0            86.0      32.0   \n",
       "28             1.0     1.0     90.0           14.0            84.0      16.0   \n",
       "29             1.0     1.0     90.0           14.0            86.0      36.0   \n",
       "30             1.0     1.0     90.0           14.0            84.0      48.0   \n",
       "31             1.0     1.0     90.0           14.0            84.0      36.0   \n",
       "32             1.0     1.0     90.0           14.0            84.0      42.0   \n",
       "33             1.0     1.0     90.0           14.0            84.0      32.0   \n",
       "34             1.0     1.0     90.0           14.0            84.0      42.0   \n",
       "35             1.0     1.0     90.0           14.0            86.0      50.0   \n",
       "36             1.0     1.0     90.0           14.0            86.0      36.0   \n",
       "37             1.0     1.0     90.0           14.0            84.0      54.0   \n",
       "38             1.0     1.0     90.0           14.0            84.0     120.0   \n",
       "39             1.0     1.0     90.0           14.0            84.0     310.0   \n",
       "40             1.0     1.0     90.0           14.0            84.0     116.0   \n",
       "\n",
       "    sliding       sequences  computational  experimental  index  \n",
       "0       4.0      GTTCGGTCTA   5.060009e+06     1145950.0      1  \n",
       "1      10.0      CCAAAACCAA   4.494166e+06     1668154.0      2  \n",
       "2      10.0      AAACCACACA   5.065145e+06     1809459.0      3  \n",
       "3       8.0      ACCAAACCAC   5.090068e+06     2167675.0      4  \n",
       "4      10.0      ACACCAAACC   3.146038e+06     2178513.0      5  \n",
       "5      10.0      AAAAACCCAC   3.529451e+06     2364640.0      6  \n",
       "6      10.0      CAACACCCAA   2.269859e+06     2511513.0      7  \n",
       "7       8.0      AAACCCACCA   3.599345e+06     2527035.0      8  \n",
       "8      14.0      ACAACACCAC   2.869091e+06     2559279.0      9  \n",
       "9      10.0      CAAAACCCCA   4.531013e+06     2651666.0     10  \n",
       "10      8.0      AACCAACACC   2.716861e+06     2655670.0     11  \n",
       "11      8.0      CAACACAACC   4.245648e+06     2695608.0     12  \n",
       "12     10.0      ACCAACACCA   4.349644e+06     2765864.0     13  \n",
       "13      8.0      CCACCAACAA   3.320501e+06     2825047.0     14  \n",
       "14      8.0      ACACACACAC   7.715444e+06     3843880.0     15  \n",
       "15      8.0      AACCACCACA   6.656358e+06     3865948.0     16  \n",
       "16      4.0      CAACCAACCA   7.054079e+06     3960894.0     17  \n",
       "17     12.0      ACACACACCA   6.203311e+06     4159347.0     18  \n",
       "18      8.0      CCCCACACAA   6.150330e+06     5448523.0     19  \n",
       "19     10.0      ACACCACCAC   4.723430e+06     5613147.0     20  \n",
       "20      6.0  GCTGTTCGGTCTAT   3.860208e+06     1042173.0     21  \n",
       "21     14.0  ACCAAACCACCAAC   4.764371e+06     1186657.0     22  \n",
       "22     22.0  CAACACCAAACAAC   2.352295e+06     1779672.0     23  \n",
       "23     22.0  CAAAACCCCAACAC   2.478112e+06     1831343.0     24  \n",
       "24     20.0  AAACCCACCACACA   3.839292e+06     1892296.0     25  \n",
       "25     24.0  CAACACCCAAACAC   2.692206e+06     2124654.0     26  \n",
       "26     18.0  CCAAAACCAACAAC   2.920926e+06     2304253.0     27  \n",
       "27     24.0  AAAAACCCACCCAA   3.282853e+06     2433452.0     28  \n",
       "28     22.0  AAACCACCCAACAC   2.319204e+06     2745623.0     29  \n",
       "29     20.0  CCCAAACCCAACCA   3.006646e+06     2975581.0     30  \n",
       "30     16.0  ACCAACACCAACCA   4.667901e+06     3186916.0     31  \n",
       "31     24.0  CAACAACACCACCA   4.415964e+06     3242444.0     32  \n",
       "32     16.0  AACCAACACCACCA   4.561662e+06     3629903.0     33  \n",
       "33     18.0  AACCACCACAAACC   3.854400e+06     3659749.0     34  \n",
       "34     16.0  CAACACAACCAACC   4.206278e+06     3763039.0     35  \n",
       "35     20.0  CACCACAACCACCA   5.292984e+06     3805400.0     36  \n",
       "36     18.0  CCCCACACAACAAC   4.453862e+06     3961922.0     37  \n",
       "37     16.0  CCACCAACAACAAC   4.175504e+06     4062258.0     38  \n",
       "38     20.0  ACACACACCACACA   5.929680e+06     4442077.0     39  \n",
       "39     12.0  CACACACACACACA   6.358045e+06     4818114.0     40  \n",
       "40      6.0  ACCAACCAACCAAC   5.865280e+06     5208461.0     41  "
      ]
     },
     "execution_count": 7,
     "metadata": {},
     "output_type": "execute_result"
    }
   ],
   "source": [
    "wk"
   ]
  },
  {
   "cell_type": "code",
   "execution_count": 8,
   "metadata": {},
   "outputs": [],
   "source": [
    "import pandas as pd \n",
    "\n",
    "M = Model(standard=True)\n",
    "M.setgeometry(theta=120,phi=270)\n",
    "\n",
    "ETINI = []\n",
    "\n",
    "for seq in wk['sequences']:\n",
    "    A = Strand(M, seq)\n",
    "    B = A.complementary()    \n",
    "    S = Simulator(M, A, B)\n",
    "\n",
    "    etaoffss = pd.Series(S.kinet.etaoff).value_counts().drop(0)\n",
    "    etaoff = 0\n",
    "    for eta in etaoffss:\n",
    "        for i in range(1,eta):\n",
    "            etaoff += (eta-i+1)**2\n",
    "    ETINI.append(etaoff)"
   ]
  },
  {
   "cell_type": "code",
   "execution_count": 9,
   "metadata": {},
   "outputs": [],
   "source": [
    "M = Model(standard=True)\n",
    "M.setgeometry()\n"
   ]
  },
  {
   "cell_type": "code",
   "execution_count": 10,
   "metadata": {},
   "outputs": [
    {
     "data": {
      "text/plain": [
       "0.508316044830202"
      ]
     },
     "execution_count": 10,
     "metadata": {},
     "output_type": "execute_result"
    }
   ],
   "source": [
    "l = Structure('...(((....+...)))....')\n",
    "r = Structure('.....(((..+.....)))..')\n",
    "\n",
    "def overlap(s1, s2):\n",
    "    ov = [l1 and l2 for l1, l2 in zip(s1.table, s2.table)]\n",
    "    return ov\n",
    "\n",
    "overlap(l, r)\n",
    "A = Strand(M, 'GTTCGGTCTA')\n",
    "B = A.complementary()\n",
    "c = Complex(M,A,B.invert,state=None, structure='((...((...+...))...))')\n",
    "c.G"
   ]
  },
  {
   "cell_type": "code",
   "execution_count": null,
   "metadata": {},
   "outputs": [],
   "source": [
    "wk['ETAZ'] = pd.Series(ETINI)"
   ]
  },
  {
   "cell_type": "code",
   "execution_count": null,
   "metadata": {},
   "outputs": [],
   "source": [
    "ratios = []\n",
    "corrected = []\n",
    "for i, (bfr, sld, etaz, mod) in wk[['backfray', 'sliding', 'ETAZ', 'computational']].iterrows():\n",
    "    ratio = (bfr+sld)/(0.5*etaz)\n",
    "    ratios.append(ratio)\n",
    "    corr = mod/(1+ratio)\n",
    "    corrected.append(corr)\n",
    "wk['gamma'] = pd.Series(ratios)\n",
    "wk['corrected'] = pd.Series(corrected)\n",
    "wk['index'] = df['index']"
   ]
  },
  {
   "cell_type": "code",
   "execution_count": null,
   "metadata": {},
   "outputs": [
    {
     "data": {
      "application/vnd.plotly.v1+json": {
       "config": {
        "plotlyServerURL": "https://plot.ly"
       },
       "data": [
        {
         "customdata": [
          "21_GCTGTTCGGTCTAT",
          "1_GTTCGGTCTA",
          "22_ACCAAACCACCAAC",
          "2_CCAAAACCAA",
          "23_CAACACCAAACAAC",
          "3_AAACCACACA",
          "24_CAAAACCCCAACAC",
          "25_AAACCCACCACACA",
          "26_CAACACCCAAACAC",
          "4_ACCAAACCAC",
          "5_ACACCAAACC",
          "27_CCAAAACCAACAAC",
          "6_AAAAACCCAC",
          "28_AAAAACCCACCCAA",
          "7_CAACACCCAA",
          "8_AAACCCACCA",
          "9_ACAACACCAC",
          "10_CAAAACCCCA",
          "11_AACCAACACC",
          "12_CAACACAACC",
          "29_AAACCACCCAACAC",
          "13_ACCAACACCA",
          "14_CCACCAACAA",
          "30_CCCAAACCCAACCA",
          "31_ACCAACACCAACCA",
          "32_CAACAACACCACCA",
          "33_AACCAACACCACCA",
          "34_AACCACCACAAACC",
          "35_CAACACAACCAACC",
          "36_CACCACAACCACCA",
          "15_ACACACACAC",
          "16_AACCACCACA",
          "17_CAACCAACCA",
          "37_CCCCACACAACAAC",
          "38_CCACCAACAACAAC",
          "18_ACACACACCA",
          "39_ACACACACCACACA",
          "40_CACACACACACACA",
          "41_ACCAACCAACCAAC",
          "19_CCCCACACAA",
          "20_ACACCACCAC"
         ],
         "hovertemplate": "emp = %{x:.3e}\n                     <br>mod = %{y:.3e}\n                     <br>seq:  %{customdata} </b>",
         "marker": {
          "color": "tan"
         },
         "mode": "markers",
         "name": "",
         "type": "scatter",
         "x": [
          6.017939817532619,
          6.059165668942177,
          6.074325205446676,
          6.222236141183587,
          6.250339967636897,
          6.2575487470046,
          6.262769692776009,
          6.276989071342673,
          6.327288215268458,
          6.335994168877837,
          6.338160155876739,
          6.362530161587827,
          6.37376503179088,
          6.386222784176926,
          6.3999354304803,
          6.402611257037288,
          6.408117633114865,
          6.423518820075122,
          6.424174107562272,
          6.430656736596645,
          6.4386409042554575,
          6.4418308216512274,
          6.451025677525671,
          6.473571776941338,
          6.503370616590378,
          6.5108724841544205,
          6.559895019766801,
          6.563451300789774,
          6.575538719355481,
          6.580400313843089,
          6.584769821204806,
          6.587256008134092,
          6.597793220129346,
          6.597905921151281,
          6.60876750262814,
          6.619025153569754,
          6.647586082439666,
          6.6828770714998535,
          6.716709416592322,
          6.736278788536222,
          6.749206415897363
         ],
         "y": [
          6.5594584302512216,
          6.628430555078628,
          6.622530511213286,
          6.587382414862235,
          6.318246283048191,
          6.62612792091242,
          6.3575067976894255,
          6.533098663566652,
          6.377884743598965,
          6.629118751252624,
          6.432961859740288,
          6.416198838127598,
          6.490354384342742,
          6.4738476225966055,
          6.28596095164541,
          6.489916792996555,
          6.401792959944326,
          6.603310422155544,
          6.3671206984973,
          6.534826985692674,
          6.323313310311185,
          6.564667458818037,
          6.47981093754089,
          6.431266864970435,
          6.612663293898914,
          6.605576809288617,
          6.607445247752531,
          6.529327974533354,
          6.565092478381641,
          6.6701104817178605,
          6.77116894555339,
          6.715142485059831,
          6.769259061000136,
          6.600332270362324,
          6.576289734590939,
          6.655785566117616,
          6.694056254524577,
          6.7109753441775,
          6.7006569878369024,
          6.732282987654486,
          6.568914343154342
         ]
        },
        {
         "line": {
          "dash": "dash"
         },
         "marker": {
          "color": "coral"
         },
         "mode": "lines",
         "name": "bisector",
         "type": "scatter",
         "x": [
          6,
          6.020408163265306,
          6.040816326530612,
          6.061224489795919,
          6.081632653061225,
          6.1020408163265305,
          6.122448979591836,
          6.142857142857143,
          6.163265306122449,
          6.183673469387755,
          6.204081632653061,
          6.224489795918367,
          6.244897959183674,
          6.26530612244898,
          6.285714285714286,
          6.3061224489795915,
          6.326530612244898,
          6.346938775510204,
          6.36734693877551,
          6.387755102040816,
          6.408163265306122,
          6.428571428571429,
          6.448979591836735,
          6.469387755102041,
          6.489795918367347,
          6.510204081632653,
          6.530612244897959,
          6.551020408163265,
          6.571428571428571,
          6.591836734693878,
          6.612244897959184,
          6.63265306122449,
          6.653061224489796,
          6.673469387755102,
          6.6938775510204085,
          6.714285714285714,
          6.73469387755102,
          6.755102040816326,
          6.775510204081632,
          6.795918367346939,
          6.816326530612245,
          6.836734693877551,
          6.857142857142857,
          6.877551020408164,
          6.8979591836734695,
          6.918367346938775,
          6.938775510204081,
          6.959183673469388,
          6.979591836734694,
          7
         ],
         "y": [
          6,
          6.020408163265306,
          6.040816326530612,
          6.061224489795919,
          6.081632653061225,
          6.1020408163265305,
          6.122448979591836,
          6.142857142857143,
          6.163265306122449,
          6.183673469387755,
          6.204081632653061,
          6.224489795918367,
          6.244897959183674,
          6.26530612244898,
          6.285714285714286,
          6.3061224489795915,
          6.326530612244898,
          6.346938775510204,
          6.36734693877551,
          6.387755102040816,
          6.408163265306122,
          6.428571428571429,
          6.448979591836735,
          6.469387755102041,
          6.489795918367347,
          6.510204081632653,
          6.530612244897959,
          6.551020408163265,
          6.571428571428571,
          6.591836734693878,
          6.612244897959184,
          6.63265306122449,
          6.653061224489796,
          6.673469387755102,
          6.6938775510204085,
          6.714285714285714,
          6.73469387755102,
          6.755102040816326,
          6.775510204081632,
          6.795918367346939,
          6.816326530612245,
          6.836734693877551,
          6.857142857142857,
          6.877551020408164,
          6.8979591836734695,
          6.918367346938775,
          6.938775510204081,
          6.959183673469388,
          6.979591836734694,
          7
         ]
        }
       ],
       "layout": {
        "autosize": false,
        "height": 600,
        "margin": {
         "b": 50,
         "l": 50,
         "pad": 0,
         "r": 50,
         "t": 50
        },
        "showlegend": false,
        "template": {
         "data": {
          "bar": [
           {
            "error_x": {
             "color": "#f2f5fa"
            },
            "error_y": {
             "color": "#f2f5fa"
            },
            "marker": {
             "line": {
              "color": "rgb(17,17,17)",
              "width": 0.5
             },
             "pattern": {
              "fillmode": "overlay",
              "size": 10,
              "solidity": 0.2
             }
            },
            "type": "bar"
           }
          ],
          "barpolar": [
           {
            "marker": {
             "line": {
              "color": "rgb(17,17,17)",
              "width": 0.5
             },
             "pattern": {
              "fillmode": "overlay",
              "size": 10,
              "solidity": 0.2
             }
            },
            "type": "barpolar"
           }
          ],
          "carpet": [
           {
            "aaxis": {
             "endlinecolor": "#A2B1C6",
             "gridcolor": "#506784",
             "linecolor": "#506784",
             "minorgridcolor": "#506784",
             "startlinecolor": "#A2B1C6"
            },
            "baxis": {
             "endlinecolor": "#A2B1C6",
             "gridcolor": "#506784",
             "linecolor": "#506784",
             "minorgridcolor": "#506784",
             "startlinecolor": "#A2B1C6"
            },
            "type": "carpet"
           }
          ],
          "choropleth": [
           {
            "colorbar": {
             "outlinewidth": 0,
             "ticks": ""
            },
            "type": "choropleth"
           }
          ],
          "contour": [
           {
            "colorbar": {
             "outlinewidth": 0,
             "ticks": ""
            },
            "colorscale": [
             [
              0,
              "#0d0887"
             ],
             [
              0.1111111111111111,
              "#46039f"
             ],
             [
              0.2222222222222222,
              "#7201a8"
             ],
             [
              0.3333333333333333,
              "#9c179e"
             ],
             [
              0.4444444444444444,
              "#bd3786"
             ],
             [
              0.5555555555555556,
              "#d8576b"
             ],
             [
              0.6666666666666666,
              "#ed7953"
             ],
             [
              0.7777777777777778,
              "#fb9f3a"
             ],
             [
              0.8888888888888888,
              "#fdca26"
             ],
             [
              1,
              "#f0f921"
             ]
            ],
            "type": "contour"
           }
          ],
          "contourcarpet": [
           {
            "colorbar": {
             "outlinewidth": 0,
             "ticks": ""
            },
            "type": "contourcarpet"
           }
          ],
          "heatmap": [
           {
            "colorbar": {
             "outlinewidth": 0,
             "ticks": ""
            },
            "colorscale": [
             [
              0,
              "#0d0887"
             ],
             [
              0.1111111111111111,
              "#46039f"
             ],
             [
              0.2222222222222222,
              "#7201a8"
             ],
             [
              0.3333333333333333,
              "#9c179e"
             ],
             [
              0.4444444444444444,
              "#bd3786"
             ],
             [
              0.5555555555555556,
              "#d8576b"
             ],
             [
              0.6666666666666666,
              "#ed7953"
             ],
             [
              0.7777777777777778,
              "#fb9f3a"
             ],
             [
              0.8888888888888888,
              "#fdca26"
             ],
             [
              1,
              "#f0f921"
             ]
            ],
            "type": "heatmap"
           }
          ],
          "heatmapgl": [
           {
            "colorbar": {
             "outlinewidth": 0,
             "ticks": ""
            },
            "colorscale": [
             [
              0,
              "#0d0887"
             ],
             [
              0.1111111111111111,
              "#46039f"
             ],
             [
              0.2222222222222222,
              "#7201a8"
             ],
             [
              0.3333333333333333,
              "#9c179e"
             ],
             [
              0.4444444444444444,
              "#bd3786"
             ],
             [
              0.5555555555555556,
              "#d8576b"
             ],
             [
              0.6666666666666666,
              "#ed7953"
             ],
             [
              0.7777777777777778,
              "#fb9f3a"
             ],
             [
              0.8888888888888888,
              "#fdca26"
             ],
             [
              1,
              "#f0f921"
             ]
            ],
            "type": "heatmapgl"
           }
          ],
          "histogram": [
           {
            "marker": {
             "pattern": {
              "fillmode": "overlay",
              "size": 10,
              "solidity": 0.2
             }
            },
            "type": "histogram"
           }
          ],
          "histogram2d": [
           {
            "colorbar": {
             "outlinewidth": 0,
             "ticks": ""
            },
            "colorscale": [
             [
              0,
              "#0d0887"
             ],
             [
              0.1111111111111111,
              "#46039f"
             ],
             [
              0.2222222222222222,
              "#7201a8"
             ],
             [
              0.3333333333333333,
              "#9c179e"
             ],
             [
              0.4444444444444444,
              "#bd3786"
             ],
             [
              0.5555555555555556,
              "#d8576b"
             ],
             [
              0.6666666666666666,
              "#ed7953"
             ],
             [
              0.7777777777777778,
              "#fb9f3a"
             ],
             [
              0.8888888888888888,
              "#fdca26"
             ],
             [
              1,
              "#f0f921"
             ]
            ],
            "type": "histogram2d"
           }
          ],
          "histogram2dcontour": [
           {
            "colorbar": {
             "outlinewidth": 0,
             "ticks": ""
            },
            "colorscale": [
             [
              0,
              "#0d0887"
             ],
             [
              0.1111111111111111,
              "#46039f"
             ],
             [
              0.2222222222222222,
              "#7201a8"
             ],
             [
              0.3333333333333333,
              "#9c179e"
             ],
             [
              0.4444444444444444,
              "#bd3786"
             ],
             [
              0.5555555555555556,
              "#d8576b"
             ],
             [
              0.6666666666666666,
              "#ed7953"
             ],
             [
              0.7777777777777778,
              "#fb9f3a"
             ],
             [
              0.8888888888888888,
              "#fdca26"
             ],
             [
              1,
              "#f0f921"
             ]
            ],
            "type": "histogram2dcontour"
           }
          ],
          "mesh3d": [
           {
            "colorbar": {
             "outlinewidth": 0,
             "ticks": ""
            },
            "type": "mesh3d"
           }
          ],
          "parcoords": [
           {
            "line": {
             "colorbar": {
              "outlinewidth": 0,
              "ticks": ""
             }
            },
            "type": "parcoords"
           }
          ],
          "pie": [
           {
            "automargin": true,
            "type": "pie"
           }
          ],
          "scatter": [
           {
            "marker": {
             "line": {
              "color": "#283442"
             }
            },
            "type": "scatter"
           }
          ],
          "scatter3d": [
           {
            "line": {
             "colorbar": {
              "outlinewidth": 0,
              "ticks": ""
             }
            },
            "marker": {
             "colorbar": {
              "outlinewidth": 0,
              "ticks": ""
             }
            },
            "type": "scatter3d"
           }
          ],
          "scattercarpet": [
           {
            "marker": {
             "colorbar": {
              "outlinewidth": 0,
              "ticks": ""
             }
            },
            "type": "scattercarpet"
           }
          ],
          "scattergeo": [
           {
            "marker": {
             "colorbar": {
              "outlinewidth": 0,
              "ticks": ""
             }
            },
            "type": "scattergeo"
           }
          ],
          "scattergl": [
           {
            "marker": {
             "line": {
              "color": "#283442"
             }
            },
            "type": "scattergl"
           }
          ],
          "scattermapbox": [
           {
            "marker": {
             "colorbar": {
              "outlinewidth": 0,
              "ticks": ""
             }
            },
            "type": "scattermapbox"
           }
          ],
          "scatterpolar": [
           {
            "marker": {
             "colorbar": {
              "outlinewidth": 0,
              "ticks": ""
             }
            },
            "type": "scatterpolar"
           }
          ],
          "scatterpolargl": [
           {
            "marker": {
             "colorbar": {
              "outlinewidth": 0,
              "ticks": ""
             }
            },
            "type": "scatterpolargl"
           }
          ],
          "scatterternary": [
           {
            "marker": {
             "colorbar": {
              "outlinewidth": 0,
              "ticks": ""
             }
            },
            "type": "scatterternary"
           }
          ],
          "surface": [
           {
            "colorbar": {
             "outlinewidth": 0,
             "ticks": ""
            },
            "colorscale": [
             [
              0,
              "#0d0887"
             ],
             [
              0.1111111111111111,
              "#46039f"
             ],
             [
              0.2222222222222222,
              "#7201a8"
             ],
             [
              0.3333333333333333,
              "#9c179e"
             ],
             [
              0.4444444444444444,
              "#bd3786"
             ],
             [
              0.5555555555555556,
              "#d8576b"
             ],
             [
              0.6666666666666666,
              "#ed7953"
             ],
             [
              0.7777777777777778,
              "#fb9f3a"
             ],
             [
              0.8888888888888888,
              "#fdca26"
             ],
             [
              1,
              "#f0f921"
             ]
            ],
            "type": "surface"
           }
          ],
          "table": [
           {
            "cells": {
             "fill": {
              "color": "#506784"
             },
             "line": {
              "color": "rgb(17,17,17)"
             }
            },
            "header": {
             "fill": {
              "color": "#2a3f5f"
             },
             "line": {
              "color": "rgb(17,17,17)"
             }
            },
            "type": "table"
           }
          ]
         },
         "layout": {
          "annotationdefaults": {
           "arrowcolor": "#f2f5fa",
           "arrowhead": 0,
           "arrowwidth": 1
          },
          "autotypenumbers": "strict",
          "coloraxis": {
           "colorbar": {
            "outlinewidth": 0,
            "ticks": ""
           }
          },
          "colorscale": {
           "diverging": [
            [
             0,
             "#8e0152"
            ],
            [
             0.1,
             "#c51b7d"
            ],
            [
             0.2,
             "#de77ae"
            ],
            [
             0.3,
             "#f1b6da"
            ],
            [
             0.4,
             "#fde0ef"
            ],
            [
             0.5,
             "#f7f7f7"
            ],
            [
             0.6,
             "#e6f5d0"
            ],
            [
             0.7,
             "#b8e186"
            ],
            [
             0.8,
             "#7fbc41"
            ],
            [
             0.9,
             "#4d9221"
            ],
            [
             1,
             "#276419"
            ]
           ],
           "sequential": [
            [
             0,
             "#0d0887"
            ],
            [
             0.1111111111111111,
             "#46039f"
            ],
            [
             0.2222222222222222,
             "#7201a8"
            ],
            [
             0.3333333333333333,
             "#9c179e"
            ],
            [
             0.4444444444444444,
             "#bd3786"
            ],
            [
             0.5555555555555556,
             "#d8576b"
            ],
            [
             0.6666666666666666,
             "#ed7953"
            ],
            [
             0.7777777777777778,
             "#fb9f3a"
            ],
            [
             0.8888888888888888,
             "#fdca26"
            ],
            [
             1,
             "#f0f921"
            ]
           ],
           "sequentialminus": [
            [
             0,
             "#0d0887"
            ],
            [
             0.1111111111111111,
             "#46039f"
            ],
            [
             0.2222222222222222,
             "#7201a8"
            ],
            [
             0.3333333333333333,
             "#9c179e"
            ],
            [
             0.4444444444444444,
             "#bd3786"
            ],
            [
             0.5555555555555556,
             "#d8576b"
            ],
            [
             0.6666666666666666,
             "#ed7953"
            ],
            [
             0.7777777777777778,
             "#fb9f3a"
            ],
            [
             0.8888888888888888,
             "#fdca26"
            ],
            [
             1,
             "#f0f921"
            ]
           ]
          },
          "colorway": [
           "#636efa",
           "#EF553B",
           "#00cc96",
           "#ab63fa",
           "#FFA15A",
           "#19d3f3",
           "#FF6692",
           "#B6E880",
           "#FF97FF",
           "#FECB52"
          ],
          "font": {
           "color": "#f2f5fa"
          },
          "geo": {
           "bgcolor": "rgb(17,17,17)",
           "lakecolor": "rgb(17,17,17)",
           "landcolor": "rgb(17,17,17)",
           "showlakes": true,
           "showland": true,
           "subunitcolor": "#506784"
          },
          "hoverlabel": {
           "align": "left"
          },
          "hovermode": "closest",
          "mapbox": {
           "style": "dark"
          },
          "paper_bgcolor": "rgb(17,17,17)",
          "plot_bgcolor": "rgb(17,17,17)",
          "polar": {
           "angularaxis": {
            "gridcolor": "#506784",
            "linecolor": "#506784",
            "ticks": ""
           },
           "bgcolor": "rgb(17,17,17)",
           "radialaxis": {
            "gridcolor": "#506784",
            "linecolor": "#506784",
            "ticks": ""
           }
          },
          "scene": {
           "xaxis": {
            "backgroundcolor": "rgb(17,17,17)",
            "gridcolor": "#506784",
            "gridwidth": 2,
            "linecolor": "#506784",
            "showbackground": true,
            "ticks": "",
            "zerolinecolor": "#C8D4E3"
           },
           "yaxis": {
            "backgroundcolor": "rgb(17,17,17)",
            "gridcolor": "#506784",
            "gridwidth": 2,
            "linecolor": "#506784",
            "showbackground": true,
            "ticks": "",
            "zerolinecolor": "#C8D4E3"
           },
           "zaxis": {
            "backgroundcolor": "rgb(17,17,17)",
            "gridcolor": "#506784",
            "gridwidth": 2,
            "linecolor": "#506784",
            "showbackground": true,
            "ticks": "",
            "zerolinecolor": "#C8D4E3"
           }
          },
          "shapedefaults": {
           "line": {
            "color": "#f2f5fa"
           }
          },
          "sliderdefaults": {
           "bgcolor": "#C8D4E3",
           "bordercolor": "rgb(17,17,17)",
           "borderwidth": 1,
           "tickwidth": 0
          },
          "ternary": {
           "aaxis": {
            "gridcolor": "#506784",
            "linecolor": "#506784",
            "ticks": ""
           },
           "baxis": {
            "gridcolor": "#506784",
            "linecolor": "#506784",
            "ticks": ""
           },
           "bgcolor": "rgb(17,17,17)",
           "caxis": {
            "gridcolor": "#506784",
            "linecolor": "#506784",
            "ticks": ""
           }
          },
          "title": {
           "x": 0.05
          },
          "updatemenudefaults": {
           "bgcolor": "#506784",
           "borderwidth": 0
          },
          "xaxis": {
           "automargin": true,
           "gridcolor": "#283442",
           "linecolor": "#506784",
           "ticks": "",
           "title": {
            "standoff": 15
           },
           "zerolinecolor": "#283442",
           "zerolinewidth": 2
          },
          "yaxis": {
           "automargin": true,
           "gridcolor": "#283442",
           "linecolor": "#506784",
           "ticks": "",
           "title": {
            "standoff": 15
           },
           "zerolinecolor": "#283442",
           "zerolinewidth": 2
          }
         }
        },
        "title": {
         "text": "Scatterplot for correction"
        },
        "width": 600,
        "xaxis": {
         "exponentformat": "e",
         "range": [
          6,
          7
         ],
         "showgrid": true,
         "tickmode": "array",
         "tickvals": [
          6,
          6.05,
          6.1,
          6.15,
          6.2,
          6.25,
          6.3,
          6.35,
          6.4,
          6.45,
          6.5,
          6.55,
          6.6,
          6.65,
          6.7,
          6.75,
          6.8,
          6.85,
          6.9,
          6.95,
          7
         ],
         "title": {
          "font": {
           "size": 22
          },
          "text": "$log_\\text{10}(k_{exp}(seq)$"
         }
        },
        "yaxis": {
         "exponentformat": "e",
         "range": [
          6,
          7
         ],
         "showgrid": true,
         "tickmode": "array",
         "tickvals": [
          6,
          6.05,
          6.1,
          6.15,
          6.2,
          6.25,
          6.3,
          6.35,
          6.4,
          6.45,
          6.5,
          6.55,
          6.6,
          6.65,
          6.7,
          6.75,
          6.8,
          6.85,
          6.9,
          6.95,
          7
         ],
         "title": {
          "font": {
           "size": 22
          },
          "text": "$log_\\text{10}(k_{mod}(seq)$"
         }
        }
       }
      }
     },
     "metadata": {},
     "output_type": "display_data"
    },
    {
     "data": {
      "application/vnd.plotly.v1+json": {
       "config": {
        "plotlyServerURL": "https://plot.ly"
       },
       "data": [
        {
         "customdata": [
          "21_GCTGTTCGGTCTAT",
          "1_GTTCGGTCTA",
          "22_ACCAAACCACCAAC",
          "2_CCAAAACCAA",
          "23_CAACACCAAACAAC",
          "3_AAACCACACA",
          "24_CAAAACCCCAACAC",
          "25_AAACCCACCACACA",
          "26_CAACACCCAAACAC",
          "4_ACCAAACCAC",
          "5_ACACCAAACC",
          "27_CCAAAACCAACAAC",
          "6_AAAAACCCAC",
          "28_AAAAACCCACCCAA",
          "7_CAACACCCAA",
          "8_AAACCCACCA",
          "9_ACAACACCAC",
          "10_CAAAACCCCA",
          "11_AACCAACACC",
          "12_CAACACAACC",
          "29_AAACCACCCAACAC",
          "13_ACCAACACCA",
          "14_CCACCAACAA",
          "30_CCCAAACCCAACCA",
          "31_ACCAACACCAACCA",
          "32_CAACAACACCACCA",
          "33_AACCAACACCACCA",
          "34_AACCACCACAAACC",
          "35_CAACACAACCAACC",
          "36_CACCACAACCACCA",
          "15_ACACACACAC",
          "16_AACCACCACA",
          "17_CAACCAACCA",
          "37_CCCCACACAACAAC",
          "38_CCACCAACAACAAC",
          "18_ACACACACCA",
          "39_ACACACACCACACA",
          "40_CACACACACACACA",
          "41_ACCAACCAACCAAC",
          "19_CCCCACACAA",
          "20_ACACCACCAC"
         ],
         "hovertemplate": "emp = %{x:.3e}\n                     <br>mod = %{y:.3e}\n                     <br>seq:  %{customdata} </b>",
         "marker": {
          "color": "tan"
         },
         "mode": "markers",
         "name": "",
         "type": "scatter",
         "x": [
          6.017939817532619,
          6.059165668942177,
          6.074325205446676,
          6.222236141183587,
          6.250339967636897,
          6.2575487470046,
          6.262769692776009,
          6.276989071342673,
          6.327288215268458,
          6.335994168877837,
          6.338160155876739,
          6.362530161587827,
          6.37376503179088,
          6.386222784176926,
          6.3999354304803,
          6.402611257037288,
          6.408117633114865,
          6.423518820075122,
          6.424174107562272,
          6.430656736596645,
          6.4386409042554575,
          6.4418308216512274,
          6.451025677525671,
          6.473571776941338,
          6.503370616590378,
          6.5108724841544205,
          6.559895019766801,
          6.563451300789774,
          6.575538719355481,
          6.580400313843089,
          6.584769821204806,
          6.587256008134092,
          6.597793220129346,
          6.597905921151281,
          6.60876750262814,
          6.619025153569754,
          6.647586082439666,
          6.6828770714998535,
          6.716709416592322,
          6.736278788536222,
          6.749206415897363
         ],
         "y": [
          6.5594584302512216,
          6.628430555078628,
          6.622530511213286,
          6.587382414862235,
          6.318246283048191,
          6.62612792091242,
          6.3575067976894255,
          6.533098663566652,
          6.377884743598965,
          6.629118751252624,
          6.432961859740288,
          6.416198838127598,
          6.490354384342742,
          6.4738476225966055,
          6.28596095164541,
          6.489916792996555,
          6.401792959944326,
          6.603310422155544,
          6.3671206984973,
          6.534826985692674,
          6.323313310311185,
          6.564667458818037,
          6.47981093754089,
          6.431266864970435,
          6.612663293898914,
          6.605576809288617,
          6.607445247752531,
          6.529327974533354,
          6.565092478381641,
          6.6701104817178605,
          6.77116894555339,
          6.715142485059831,
          6.769259061000136,
          6.600332270362324,
          6.576289734590939,
          6.655785566117616,
          6.694056254524577,
          6.7109753441775,
          6.7006569878369024,
          6.732282987654486,
          6.568914343154342
         ]
        },
        {
         "line": {
          "dash": "dash"
         },
         "marker": {
          "color": "coral"
         },
         "mode": "lines",
         "name": "bisector",
         "type": "scatter",
         "x": [
          6,
          6.020408163265306,
          6.040816326530612,
          6.061224489795919,
          6.081632653061225,
          6.1020408163265305,
          6.122448979591836,
          6.142857142857143,
          6.163265306122449,
          6.183673469387755,
          6.204081632653061,
          6.224489795918367,
          6.244897959183674,
          6.26530612244898,
          6.285714285714286,
          6.3061224489795915,
          6.326530612244898,
          6.346938775510204,
          6.36734693877551,
          6.387755102040816,
          6.408163265306122,
          6.428571428571429,
          6.448979591836735,
          6.469387755102041,
          6.489795918367347,
          6.510204081632653,
          6.530612244897959,
          6.551020408163265,
          6.571428571428571,
          6.591836734693878,
          6.612244897959184,
          6.63265306122449,
          6.653061224489796,
          6.673469387755102,
          6.6938775510204085,
          6.714285714285714,
          6.73469387755102,
          6.755102040816326,
          6.775510204081632,
          6.795918367346939,
          6.816326530612245,
          6.836734693877551,
          6.857142857142857,
          6.877551020408164,
          6.8979591836734695,
          6.918367346938775,
          6.938775510204081,
          6.959183673469388,
          6.979591836734694,
          7
         ],
         "y": [
          6,
          6.020408163265306,
          6.040816326530612,
          6.061224489795919,
          6.081632653061225,
          6.1020408163265305,
          6.122448979591836,
          6.142857142857143,
          6.163265306122449,
          6.183673469387755,
          6.204081632653061,
          6.224489795918367,
          6.244897959183674,
          6.26530612244898,
          6.285714285714286,
          6.3061224489795915,
          6.326530612244898,
          6.346938775510204,
          6.36734693877551,
          6.387755102040816,
          6.408163265306122,
          6.428571428571429,
          6.448979591836735,
          6.469387755102041,
          6.489795918367347,
          6.510204081632653,
          6.530612244897959,
          6.551020408163265,
          6.571428571428571,
          6.591836734693878,
          6.612244897959184,
          6.63265306122449,
          6.653061224489796,
          6.673469387755102,
          6.6938775510204085,
          6.714285714285714,
          6.73469387755102,
          6.755102040816326,
          6.775510204081632,
          6.795918367346939,
          6.816326530612245,
          6.836734693877551,
          6.857142857142857,
          6.877551020408164,
          6.8979591836734695,
          6.918367346938775,
          6.938775510204081,
          6.959183673469388,
          6.979591836734694,
          7
         ]
        }
       ],
       "layout": {
        "autosize": false,
        "height": 600,
        "margin": {
         "b": 50,
         "l": 50,
         "pad": 0,
         "r": 50,
         "t": 50
        },
        "showlegend": false,
        "template": {
         "data": {
          "bar": [
           {
            "error_x": {
             "color": "#f2f5fa"
            },
            "error_y": {
             "color": "#f2f5fa"
            },
            "marker": {
             "line": {
              "color": "rgb(17,17,17)",
              "width": 0.5
             },
             "pattern": {
              "fillmode": "overlay",
              "size": 10,
              "solidity": 0.2
             }
            },
            "type": "bar"
           }
          ],
          "barpolar": [
           {
            "marker": {
             "line": {
              "color": "rgb(17,17,17)",
              "width": 0.5
             },
             "pattern": {
              "fillmode": "overlay",
              "size": 10,
              "solidity": 0.2
             }
            },
            "type": "barpolar"
           }
          ],
          "carpet": [
           {
            "aaxis": {
             "endlinecolor": "#A2B1C6",
             "gridcolor": "#506784",
             "linecolor": "#506784",
             "minorgridcolor": "#506784",
             "startlinecolor": "#A2B1C6"
            },
            "baxis": {
             "endlinecolor": "#A2B1C6",
             "gridcolor": "#506784",
             "linecolor": "#506784",
             "minorgridcolor": "#506784",
             "startlinecolor": "#A2B1C6"
            },
            "type": "carpet"
           }
          ],
          "choropleth": [
           {
            "colorbar": {
             "outlinewidth": 0,
             "ticks": ""
            },
            "type": "choropleth"
           }
          ],
          "contour": [
           {
            "colorbar": {
             "outlinewidth": 0,
             "ticks": ""
            },
            "colorscale": [
             [
              0,
              "#0d0887"
             ],
             [
              0.1111111111111111,
              "#46039f"
             ],
             [
              0.2222222222222222,
              "#7201a8"
             ],
             [
              0.3333333333333333,
              "#9c179e"
             ],
             [
              0.4444444444444444,
              "#bd3786"
             ],
             [
              0.5555555555555556,
              "#d8576b"
             ],
             [
              0.6666666666666666,
              "#ed7953"
             ],
             [
              0.7777777777777778,
              "#fb9f3a"
             ],
             [
              0.8888888888888888,
              "#fdca26"
             ],
             [
              1,
              "#f0f921"
             ]
            ],
            "type": "contour"
           }
          ],
          "contourcarpet": [
           {
            "colorbar": {
             "outlinewidth": 0,
             "ticks": ""
            },
            "type": "contourcarpet"
           }
          ],
          "heatmap": [
           {
            "colorbar": {
             "outlinewidth": 0,
             "ticks": ""
            },
            "colorscale": [
             [
              0,
              "#0d0887"
             ],
             [
              0.1111111111111111,
              "#46039f"
             ],
             [
              0.2222222222222222,
              "#7201a8"
             ],
             [
              0.3333333333333333,
              "#9c179e"
             ],
             [
              0.4444444444444444,
              "#bd3786"
             ],
             [
              0.5555555555555556,
              "#d8576b"
             ],
             [
              0.6666666666666666,
              "#ed7953"
             ],
             [
              0.7777777777777778,
              "#fb9f3a"
             ],
             [
              0.8888888888888888,
              "#fdca26"
             ],
             [
              1,
              "#f0f921"
             ]
            ],
            "type": "heatmap"
           }
          ],
          "heatmapgl": [
           {
            "colorbar": {
             "outlinewidth": 0,
             "ticks": ""
            },
            "colorscale": [
             [
              0,
              "#0d0887"
             ],
             [
              0.1111111111111111,
              "#46039f"
             ],
             [
              0.2222222222222222,
              "#7201a8"
             ],
             [
              0.3333333333333333,
              "#9c179e"
             ],
             [
              0.4444444444444444,
              "#bd3786"
             ],
             [
              0.5555555555555556,
              "#d8576b"
             ],
             [
              0.6666666666666666,
              "#ed7953"
             ],
             [
              0.7777777777777778,
              "#fb9f3a"
             ],
             [
              0.8888888888888888,
              "#fdca26"
             ],
             [
              1,
              "#f0f921"
             ]
            ],
            "type": "heatmapgl"
           }
          ],
          "histogram": [
           {
            "marker": {
             "pattern": {
              "fillmode": "overlay",
              "size": 10,
              "solidity": 0.2
             }
            },
            "type": "histogram"
           }
          ],
          "histogram2d": [
           {
            "colorbar": {
             "outlinewidth": 0,
             "ticks": ""
            },
            "colorscale": [
             [
              0,
              "#0d0887"
             ],
             [
              0.1111111111111111,
              "#46039f"
             ],
             [
              0.2222222222222222,
              "#7201a8"
             ],
             [
              0.3333333333333333,
              "#9c179e"
             ],
             [
              0.4444444444444444,
              "#bd3786"
             ],
             [
              0.5555555555555556,
              "#d8576b"
             ],
             [
              0.6666666666666666,
              "#ed7953"
             ],
             [
              0.7777777777777778,
              "#fb9f3a"
             ],
             [
              0.8888888888888888,
              "#fdca26"
             ],
             [
              1,
              "#f0f921"
             ]
            ],
            "type": "histogram2d"
           }
          ],
          "histogram2dcontour": [
           {
            "colorbar": {
             "outlinewidth": 0,
             "ticks": ""
            },
            "colorscale": [
             [
              0,
              "#0d0887"
             ],
             [
              0.1111111111111111,
              "#46039f"
             ],
             [
              0.2222222222222222,
              "#7201a8"
             ],
             [
              0.3333333333333333,
              "#9c179e"
             ],
             [
              0.4444444444444444,
              "#bd3786"
             ],
             [
              0.5555555555555556,
              "#d8576b"
             ],
             [
              0.6666666666666666,
              "#ed7953"
             ],
             [
              0.7777777777777778,
              "#fb9f3a"
             ],
             [
              0.8888888888888888,
              "#fdca26"
             ],
             [
              1,
              "#f0f921"
             ]
            ],
            "type": "histogram2dcontour"
           }
          ],
          "mesh3d": [
           {
            "colorbar": {
             "outlinewidth": 0,
             "ticks": ""
            },
            "type": "mesh3d"
           }
          ],
          "parcoords": [
           {
            "line": {
             "colorbar": {
              "outlinewidth": 0,
              "ticks": ""
             }
            },
            "type": "parcoords"
           }
          ],
          "pie": [
           {
            "automargin": true,
            "type": "pie"
           }
          ],
          "scatter": [
           {
            "marker": {
             "line": {
              "color": "#283442"
             }
            },
            "type": "scatter"
           }
          ],
          "scatter3d": [
           {
            "line": {
             "colorbar": {
              "outlinewidth": 0,
              "ticks": ""
             }
            },
            "marker": {
             "colorbar": {
              "outlinewidth": 0,
              "ticks": ""
             }
            },
            "type": "scatter3d"
           }
          ],
          "scattercarpet": [
           {
            "marker": {
             "colorbar": {
              "outlinewidth": 0,
              "ticks": ""
             }
            },
            "type": "scattercarpet"
           }
          ],
          "scattergeo": [
           {
            "marker": {
             "colorbar": {
              "outlinewidth": 0,
              "ticks": ""
             }
            },
            "type": "scattergeo"
           }
          ],
          "scattergl": [
           {
            "marker": {
             "line": {
              "color": "#283442"
             }
            },
            "type": "scattergl"
           }
          ],
          "scattermapbox": [
           {
            "marker": {
             "colorbar": {
              "outlinewidth": 0,
              "ticks": ""
             }
            },
            "type": "scattermapbox"
           }
          ],
          "scatterpolar": [
           {
            "marker": {
             "colorbar": {
              "outlinewidth": 0,
              "ticks": ""
             }
            },
            "type": "scatterpolar"
           }
          ],
          "scatterpolargl": [
           {
            "marker": {
             "colorbar": {
              "outlinewidth": 0,
              "ticks": ""
             }
            },
            "type": "scatterpolargl"
           }
          ],
          "scatterternary": [
           {
            "marker": {
             "colorbar": {
              "outlinewidth": 0,
              "ticks": ""
             }
            },
            "type": "scatterternary"
           }
          ],
          "surface": [
           {
            "colorbar": {
             "outlinewidth": 0,
             "ticks": ""
            },
            "colorscale": [
             [
              0,
              "#0d0887"
             ],
             [
              0.1111111111111111,
              "#46039f"
             ],
             [
              0.2222222222222222,
              "#7201a8"
             ],
             [
              0.3333333333333333,
              "#9c179e"
             ],
             [
              0.4444444444444444,
              "#bd3786"
             ],
             [
              0.5555555555555556,
              "#d8576b"
             ],
             [
              0.6666666666666666,
              "#ed7953"
             ],
             [
              0.7777777777777778,
              "#fb9f3a"
             ],
             [
              0.8888888888888888,
              "#fdca26"
             ],
             [
              1,
              "#f0f921"
             ]
            ],
            "type": "surface"
           }
          ],
          "table": [
           {
            "cells": {
             "fill": {
              "color": "#506784"
             },
             "line": {
              "color": "rgb(17,17,17)"
             }
            },
            "header": {
             "fill": {
              "color": "#2a3f5f"
             },
             "line": {
              "color": "rgb(17,17,17)"
             }
            },
            "type": "table"
           }
          ]
         },
         "layout": {
          "annotationdefaults": {
           "arrowcolor": "#f2f5fa",
           "arrowhead": 0,
           "arrowwidth": 1
          },
          "autotypenumbers": "strict",
          "coloraxis": {
           "colorbar": {
            "outlinewidth": 0,
            "ticks": ""
           }
          },
          "colorscale": {
           "diverging": [
            [
             0,
             "#8e0152"
            ],
            [
             0.1,
             "#c51b7d"
            ],
            [
             0.2,
             "#de77ae"
            ],
            [
             0.3,
             "#f1b6da"
            ],
            [
             0.4,
             "#fde0ef"
            ],
            [
             0.5,
             "#f7f7f7"
            ],
            [
             0.6,
             "#e6f5d0"
            ],
            [
             0.7,
             "#b8e186"
            ],
            [
             0.8,
             "#7fbc41"
            ],
            [
             0.9,
             "#4d9221"
            ],
            [
             1,
             "#276419"
            ]
           ],
           "sequential": [
            [
             0,
             "#0d0887"
            ],
            [
             0.1111111111111111,
             "#46039f"
            ],
            [
             0.2222222222222222,
             "#7201a8"
            ],
            [
             0.3333333333333333,
             "#9c179e"
            ],
            [
             0.4444444444444444,
             "#bd3786"
            ],
            [
             0.5555555555555556,
             "#d8576b"
            ],
            [
             0.6666666666666666,
             "#ed7953"
            ],
            [
             0.7777777777777778,
             "#fb9f3a"
            ],
            [
             0.8888888888888888,
             "#fdca26"
            ],
            [
             1,
             "#f0f921"
            ]
           ],
           "sequentialminus": [
            [
             0,
             "#0d0887"
            ],
            [
             0.1111111111111111,
             "#46039f"
            ],
            [
             0.2222222222222222,
             "#7201a8"
            ],
            [
             0.3333333333333333,
             "#9c179e"
            ],
            [
             0.4444444444444444,
             "#bd3786"
            ],
            [
             0.5555555555555556,
             "#d8576b"
            ],
            [
             0.6666666666666666,
             "#ed7953"
            ],
            [
             0.7777777777777778,
             "#fb9f3a"
            ],
            [
             0.8888888888888888,
             "#fdca26"
            ],
            [
             1,
             "#f0f921"
            ]
           ]
          },
          "colorway": [
           "#636efa",
           "#EF553B",
           "#00cc96",
           "#ab63fa",
           "#FFA15A",
           "#19d3f3",
           "#FF6692",
           "#B6E880",
           "#FF97FF",
           "#FECB52"
          ],
          "font": {
           "color": "#f2f5fa"
          },
          "geo": {
           "bgcolor": "rgb(17,17,17)",
           "lakecolor": "rgb(17,17,17)",
           "landcolor": "rgb(17,17,17)",
           "showlakes": true,
           "showland": true,
           "subunitcolor": "#506784"
          },
          "hoverlabel": {
           "align": "left"
          },
          "hovermode": "closest",
          "mapbox": {
           "style": "dark"
          },
          "paper_bgcolor": "rgb(17,17,17)",
          "plot_bgcolor": "rgb(17,17,17)",
          "polar": {
           "angularaxis": {
            "gridcolor": "#506784",
            "linecolor": "#506784",
            "ticks": ""
           },
           "bgcolor": "rgb(17,17,17)",
           "radialaxis": {
            "gridcolor": "#506784",
            "linecolor": "#506784",
            "ticks": ""
           }
          },
          "scene": {
           "xaxis": {
            "backgroundcolor": "rgb(17,17,17)",
            "gridcolor": "#506784",
            "gridwidth": 2,
            "linecolor": "#506784",
            "showbackground": true,
            "ticks": "",
            "zerolinecolor": "#C8D4E3"
           },
           "yaxis": {
            "backgroundcolor": "rgb(17,17,17)",
            "gridcolor": "#506784",
            "gridwidth": 2,
            "linecolor": "#506784",
            "showbackground": true,
            "ticks": "",
            "zerolinecolor": "#C8D4E3"
           },
           "zaxis": {
            "backgroundcolor": "rgb(17,17,17)",
            "gridcolor": "#506784",
            "gridwidth": 2,
            "linecolor": "#506784",
            "showbackground": true,
            "ticks": "",
            "zerolinecolor": "#C8D4E3"
           }
          },
          "shapedefaults": {
           "line": {
            "color": "#f2f5fa"
           }
          },
          "sliderdefaults": {
           "bgcolor": "#C8D4E3",
           "bordercolor": "rgb(17,17,17)",
           "borderwidth": 1,
           "tickwidth": 0
          },
          "ternary": {
           "aaxis": {
            "gridcolor": "#506784",
            "linecolor": "#506784",
            "ticks": ""
           },
           "baxis": {
            "gridcolor": "#506784",
            "linecolor": "#506784",
            "ticks": ""
           },
           "bgcolor": "rgb(17,17,17)",
           "caxis": {
            "gridcolor": "#506784",
            "linecolor": "#506784",
            "ticks": ""
           }
          },
          "title": {
           "x": 0.05
          },
          "updatemenudefaults": {
           "bgcolor": "#506784",
           "borderwidth": 0
          },
          "xaxis": {
           "automargin": true,
           "gridcolor": "#283442",
           "linecolor": "#506784",
           "ticks": "",
           "title": {
            "standoff": 15
           },
           "zerolinecolor": "#283442",
           "zerolinewidth": 2
          },
          "yaxis": {
           "automargin": true,
           "gridcolor": "#283442",
           "linecolor": "#506784",
           "ticks": "",
           "title": {
            "standoff": 15
           },
           "zerolinecolor": "#283442",
           "zerolinewidth": 2
          }
         }
        },
        "title": {
         "text": "Scatterplot for correction"
        },
        "width": 600,
        "xaxis": {
         "exponentformat": "e",
         "range": [
          6,
          7
         ],
         "showgrid": true,
         "tickmode": "array",
         "tickvals": [
          6,
          6.05,
          6.1,
          6.15,
          6.2,
          6.25,
          6.3,
          6.35,
          6.4,
          6.45,
          6.5,
          6.55,
          6.6,
          6.65,
          6.7,
          6.75,
          6.8,
          6.85,
          6.9,
          6.95,
          7
         ],
         "title": {
          "font": {
           "size": 22
          },
          "text": "$log_\\text{10}(k_{exp}(seq)$"
         }
        },
        "yaxis": {
         "exponentformat": "e",
         "range": [
          6,
          7
         ],
         "showgrid": true,
         "tickmode": "array",
         "tickvals": [
          6,
          6.05,
          6.1,
          6.15,
          6.2,
          6.25,
          6.3,
          6.35,
          6.4,
          6.45,
          6.5,
          6.55,
          6.6,
          6.65,
          6.7,
          6.75,
          6.8,
          6.85,
          6.9,
          6.95,
          7
         ],
         "title": {
          "font": {
           "size": 22
          },
          "text": "$log_\\text{10}(k_{mod}(seq)$"
         }
        }
       }
      }
     },
     "metadata": {},
     "output_type": "display_data"
    }
   ],
   "source": [
    "valplot(wk, corr=True, log=True, name='correction')"
   ]
  },
  {
   "cell_type": "code",
   "execution_count": null,
   "metadata": {},
   "outputs": [],
   "source": []
  }
 ],
 "metadata": {
  "kernelspec": {
   "display_name": "hdna",
   "language": "python",
   "name": "python3"
  },
  "language_info": {
   "codemirror_mode": {
    "name": "ipython",
    "version": 3
   },
   "file_extension": ".py",
   "mimetype": "text/x-python",
   "name": "python",
   "nbconvert_exporter": "python",
   "pygments_lexer": "ipython3",
   "version": "3.10.9 (main, Jan 11 2023, 15:21:40) [GCC 11.2.0]"
  },
  "orig_nbformat": 4,
  "vscode": {
   "interpreter": {
    "hash": "13f02c433cbffcd00bbcbbfeff349f4b7c28e9023d8fb9f65ab93bb104997abd"
   }
  }
 },
 "nbformat": 4,
 "nbformat_minor": 2
}
