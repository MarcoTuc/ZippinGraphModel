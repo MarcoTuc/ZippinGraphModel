{
 "cells": [
  {
   "cell_type": "code",
   "execution_count": 13,
   "metadata": {},
   "outputs": [],
   "source": [
    "import pandas as pd \n",
    "import nupack as nu\n",
    "from hdna import *\n",
    "from tqdm import tqdm"
   ]
  },
  {
   "cell_type": "code",
   "execution_count": 14,
   "metadata": {},
   "outputs": [
    {
     "name": "stdout",
     "output_type": "stream",
     "text": [
      ">>>> overwriting old simulations\n"
     ]
    }
   ],
   "source": [
    "EXPNAME = 'STACKING_z6e7s3e7_120180_sf3_2nd'\n",
    "\n",
    "# Import experimental data from Hertel \n",
    "expdata = pd.read_csv('./data/herteldata.csv', names=['sequences', 'experimental'])\n",
    "# Clean the dataframe \n",
    "expdata = expdata.drop(0)\n",
    "expdata['experimental'] = ['{:e}'.format(float(e)) for e in expdata['experimental']]\n",
    "\n",
    "limit = len(expdata)\n",
    "data = expdata.copy().iloc[:limit]\n",
    "data['index'] = data.index \n",
    "data.set_index(data['sequences'], inplace=True)\n",
    "\n",
    "MOD = Model(stacking='stacking')\n",
    "MOD.setparams(sliding_filter=3)\n",
    "MOD.setgeometry(theta=120, phi = 180)\n",
    "\n",
    "H = HDNA(data, EXPNAME, model=MOD)\n",
    "# bounds = [(2e7, 2e8), (2e6, 2e8)]\n",
    "# results = dual_annealing(H.run, bounds, maxiter=5, initial_temp=500)\n",
    "\n",
    "# H.run([3e7, 2e7])"
   ]
  },
  {
   "cell_type": "code",
   "execution_count": 15,
   "metadata": {},
   "outputs": [
    {
     "data": {
      "text/plain": [
       "<nupack.model.Model at 0x7fa69132f640>"
      ]
     },
     "execution_count": 15,
     "metadata": {},
     "output_type": "execute_result"
    }
   ],
   "source": [
    "MOD.nupack"
   ]
  },
  {
   "cell_type": "code",
   "execution_count": 16,
   "metadata": {},
   "outputs": [
    {
     "name": "stdout",
     "output_type": "stream",
     "text": [
      "-3.260451097333486\n"
     ]
    }
   ],
   "source": [
    "A = nu.Strand('CCAAAACCAA', name='a')\n",
    "B = nu.Strand('GGTTTTGGTT'[::-1], name='b')\n",
    "\n",
    "C = nu.Complex([A, B])\n",
    "Z = nu.pfunc(C, MOD.nupack)\n",
    "\n",
    "s1 = ('.(........+.........)')\n",
    "\n",
    "dg1 = nu.structure_energy(strands=[A, B], structure=s1, model=MOD.nupack)\n",
    "# dg2 = nu.structure_energy(strands=[A, B], structure=s2, model=M)\n",
    "\n",
    "p1 = nu.structure_probability(strands=[A, B], structure=s1, model=MOD.nupack)\n",
    "# p2 = nu.structure_probability(strands=[A, B], structure=s2, model=M)\n",
    "\n",
    "print(dg1)"
   ]
  }
 ],
 "metadata": {
  "kernelspec": {
   "display_name": "hdna",
   "language": "python",
   "name": "python3"
  },
  "language_info": {
   "codemirror_mode": {
    "name": "ipython",
    "version": 3
   },
   "file_extension": ".py",
   "mimetype": "text/x-python",
   "name": "python",
   "nbconvert_exporter": "python",
   "pygments_lexer": "ipython3",
   "version": "3.10.9 (main, Jan 11 2023, 15:21:40) [GCC 11.2.0]"
  },
  "orig_nbformat": 4,
  "vscode": {
   "interpreter": {
    "hash": "13f02c433cbffcd00bbcbbfeff349f4b7c28e9023d8fb9f65ab93bb104997abd"
   }
  }
 },
 "nbformat": 4,
 "nbformat_minor": 2
}
